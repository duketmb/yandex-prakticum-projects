{
 "cells": [
  {
   "cell_type": "markdown",
   "metadata": {},
   "source": [
    "<div class=\"alert alert-info\">\n",
    "\n",
    "<b>Привет!</b>\n",
    "\n",
    "Меня зовут Антон Оленев, я буду проверять твою работу :)\n",
    "\n",
    "Ты можешь обращаться ко мне на \"ты\"😏 Надеюсь, тебя также не смутит, если я буду обращаться к тебе на \"ты\", но если это неудобно, обязательно скажи об этом!\n",
    "\n",
    "Пожалуйста, не удаляй мои комментарии, они будут особенно полезны для нашей работы в случае повторной проверки проекта. \n",
    "\n",
    "Ты также можешь реагировать на мои комментарии своими, выделяя их цветами и наиболее понравившимся тебе способом оформления, но явно  отличающимся от моих комментариев. Это нужно, чтобы не создавалась путаница😉\n",
    "\n",
    "Ты можешь найти мои комментарии, обозначенные <font color='green'>зеленым</font>, <font color='gold'>желтым</font> и <font color='red'>красным</font> цветами, например:\n",
    "\n",
    "<br/>\n",
    "\n",
    "<div class=\"alert alert-success\">\n",
    "<h2> Комментарий ревьюера <a class=\"tocSkip\"> </h2>\n",
    "\n",
    "<b>Все отлично!✅:</b> В случае, если решение на отдельном шаге является полностью правильным.\n",
    "</div>\n",
    "\n",
    "<br/>\n",
    "\n",
    "<div class=\"alert alert-warning\">\n",
    "    <h2> Комментарий ревьюера <a class=\"tocSkip\"> </h2>\n",
    "    \n",
    "<b>Некоторые замечания и рекомендации💡:</b> В случае, когда решение на отдельном шаге станет еще лучше, если внести небольшие коррективы.\n",
    "</div>\n",
    "\n",
    "\n",
    "<br/>\n",
    "<div class=\"alert alert-block alert-danger\">\n",
    "<h2> Комментарий ревьюера <a class=\"tocSkip\"></h2>\n",
    "\n",
    "    \n",
    "<b>На доработку🤔:</b>\n",
    " В случае, когда решение на отдельном шаге требует существенной переработки и внесения правок. Напоминаю, что проект не может быть принят с первого раза, если ревью содержит комментарии, рекомендующие доработать шаги.\n",
    "</div>\n",
    "    \n",
    "Увидев у тебя неточность, в первый раз я лишь укажу на ее наличие и дам тебе возможность самому найти и исправить ее. На реальной работе твой руководитель будет поступать также, и я пытаюсь подготовить тебя именно к работе аналитиком. Но если ты пока не справишься с такой задачей - при следующей проверке я дам более точную подсказку!🤓\n",
    "</div>"
   ]
  },
  {
   "cell_type": "markdown",
   "metadata": {},
   "source": [
    "<div class=\"alert alert-info\">\n",
    "    <b> Комментарий студента </b>\n",
    "    \n",
    "Привет. Давай посмотрим, что вышло.  \n",
    "</div>"
   ]
  },
  {
   "cell_type": "markdown",
   "metadata": {
    "toc": true
   },
   "source": [
    "<h1>Содержание<span class=\"tocSkip\"></span></h1>\n",
    "<div class=\"toc\"><ul class=\"toc-item\"><li><span><a href=\"#Изучение-данных-из-файлов\" data-toc-modified-id=\"Изучение-данных-из-файлов-1\"><span class=\"toc-item-num\">1&nbsp;&nbsp;</span>Изучение данных из файлов</a></span><ul class=\"toc-item\"><li><span><a href=\"#Выводы\" data-toc-modified-id=\"Выводы-1.1\"><span class=\"toc-item-num\">1.1&nbsp;&nbsp;</span>Выводы</a></span></li></ul></li><li><span><a href=\"#Подготовка-данных\" data-toc-modified-id=\"Подготовка-данных-2\"><span class=\"toc-item-num\">2&nbsp;&nbsp;</span>Подготовка данных</a></span><ul class=\"toc-item\"><li><span><a href=\"#Приведение-типов\" data-toc-modified-id=\"Приведение-типов-2.1\"><span class=\"toc-item-num\">2.1&nbsp;&nbsp;</span>Приведение типов</a></span></li><li><span><a href=\"#Удаление-лишних-столбцов\" data-toc-modified-id=\"Удаление-лишних-столбцов-2.2\"><span class=\"toc-item-num\">2.2&nbsp;&nbsp;</span>Удаление лишних столбцов</a></span></li><li><span><a href=\"#Проверка-дубликатов\" data-toc-modified-id=\"Проверка-дубликатов-2.3\"><span class=\"toc-item-num\">2.3&nbsp;&nbsp;</span>Проверка дубликатов</a></span></li><li><span><a href=\"#Добавление-данных-в-таблицы\" data-toc-modified-id=\"Добавление-данных-в-таблицы-2.4\"><span class=\"toc-item-num\">2.4&nbsp;&nbsp;</span>Добавление данных в таблицы</a></span><ul class=\"toc-item\"><li><span><a href=\"#Количество-звонков-и-минут\" data-toc-modified-id=\"Количество-звонков-и-минут-2.4.1\"><span class=\"toc-item-num\">2.4.1&nbsp;&nbsp;</span>Количество звонков и минут</a></span></li><li><span><a href=\"#Количество-сообщений\" data-toc-modified-id=\"Количество-сообщений-2.4.2\"><span class=\"toc-item-num\">2.4.2&nbsp;&nbsp;</span>Количество сообщений</a></span></li><li><span><a href=\"#Объем-трафика\" data-toc-modified-id=\"Объем-трафика-2.4.3\"><span class=\"toc-item-num\">2.4.3&nbsp;&nbsp;</span>Объем трафика</a></span></li><li><span><a href=\"#Помесячная-выручка\" data-toc-modified-id=\"Помесячная-выручка-2.4.4\"><span class=\"toc-item-num\">2.4.4&nbsp;&nbsp;</span>Помесячная выручка</a></span></li></ul></li><li><span><a href=\"#Выводы\" data-toc-modified-id=\"Выводы-2.5\"><span class=\"toc-item-num\">2.5&nbsp;&nbsp;</span>Выводы</a></span></li></ul></li><li><span><a href=\"#Анализ-данных\" data-toc-modified-id=\"Анализ-данных-3\"><span class=\"toc-item-num\">3&nbsp;&nbsp;</span>Анализ данных</a></span><ul class=\"toc-item\"><li><span><a href=\"#Формирование-таблицы-со-средним,-std-и-дисперсией\" data-toc-modified-id=\"Формирование-таблицы-со-средним,-std-и-дисперсией-3.1\"><span class=\"toc-item-num\">3.1&nbsp;&nbsp;</span>Формирование таблицы со средним, std и дисперсией</a></span></li><li><span><a href=\"#Построение-графиков\" data-toc-modified-id=\"Построение-графиков-3.2\"><span class=\"toc-item-num\">3.2&nbsp;&nbsp;</span>Построение графиков</a></span><ul class=\"toc-item\"><li><span><a href=\"#Построение-столбчатых-диаграмм-сравнения\" data-toc-modified-id=\"Построение-столбчатых-диаграмм-сравнения-3.2.1\"><span class=\"toc-item-num\">3.2.1&nbsp;&nbsp;</span>Построение столбчатых диаграмм сравнения</a></span><ul class=\"toc-item\"><li><span><a href=\"#По-потраченным-минутам\" data-toc-modified-id=\"По-потраченным-минутам-3.2.1.1\"><span class=\"toc-item-num\">3.2.1.1&nbsp;&nbsp;</span>По потраченным минутам</a></span></li><li><span><a href=\"#По-потраченным-смс\" data-toc-modified-id=\"По-потраченным-смс-3.2.1.2\"><span class=\"toc-item-num\">3.2.1.2&nbsp;&nbsp;</span>По потраченным смс</a></span></li><li><span><a href=\"#По-объему-трафика\" data-toc-modified-id=\"По-объему-трафика-3.2.1.3\"><span class=\"toc-item-num\">3.2.1.3&nbsp;&nbsp;</span>По объему трафика</a></span></li></ul></li><li><span><a href=\"#Построение-гистограмм\" data-toc-modified-id=\"Построение-гистограмм-3.2.2\"><span class=\"toc-item-num\">3.2.2&nbsp;&nbsp;</span>Построение гистограмм</a></span><ul class=\"toc-item\"><li><span><a href=\"#По-потраченным-минутам\" data-toc-modified-id=\"По-потраченным-минутам-3.2.2.1\"><span class=\"toc-item-num\">3.2.2.1&nbsp;&nbsp;</span>По потраченным минутам</a></span></li><li><span><a href=\"#По-потраченным-смс\" data-toc-modified-id=\"По-потраченным-смс-3.2.2.2\"><span class=\"toc-item-num\">3.2.2.2&nbsp;&nbsp;</span>По потраченным смс</a></span></li><li><span><a href=\"#По-объему-трафика\" data-toc-modified-id=\"По-объему-трафика-3.2.2.3\"><span class=\"toc-item-num\">3.2.2.3&nbsp;&nbsp;</span>По объему трафика</a></span></li><li><span><a href=\"#По-месячному-чеку\" data-toc-modified-id=\"По-месячному-чеку-3.2.2.4\"><span class=\"toc-item-num\">3.2.2.4&nbsp;&nbsp;</span>По месячному чеку</a></span></li></ul></li></ul></li><li><span><a href=\"#Выводы\" data-toc-modified-id=\"Выводы-3.3\"><span class=\"toc-item-num\">3.3&nbsp;&nbsp;</span>Выводы</a></span></li></ul></li><li><span><a href=\"#Проверка-гипотез\" data-toc-modified-id=\"Проверка-гипотез-4\"><span class=\"toc-item-num\">4&nbsp;&nbsp;</span>Проверка гипотез</a></span><ul class=\"toc-item\"><li><span><a href=\"#Гипотеза-о-равенстве-среднего-выручки-двух-тарифов\" data-toc-modified-id=\"Гипотеза-о-равенстве-среднего-выручки-двух-тарифов-4.1\"><span class=\"toc-item-num\">4.1&nbsp;&nbsp;</span>Гипотеза о равенстве среднего выручки двух тарифов</a></span></li><li><span><a href=\"#Гипотеза-о-равенстве-среднего-выручки-по-Москве-и-другим-регионам\" data-toc-modified-id=\"Гипотеза-о-равенстве-среднего-выручки-по-Москве-и-другим-регионам-4.2\"><span class=\"toc-item-num\">4.2&nbsp;&nbsp;</span>Гипотеза о равенстве среднего выручки по Москве и другим регионам</a></span></li><li><span><a href=\"#Выводы\" data-toc-modified-id=\"Выводы-4.3\"><span class=\"toc-item-num\">4.3&nbsp;&nbsp;</span>Выводы</a></span></li></ul></li><li><span><a href=\"#Общий-вывод\" data-toc-modified-id=\"Общий-вывод-5\"><span class=\"toc-item-num\">5&nbsp;&nbsp;</span>Общий вывод</a></span></li><li><span><a href=\"#Чек-лист\" data-toc-modified-id=\"Чек-лист-6\"><span class=\"toc-item-num\">6&nbsp;&nbsp;</span>Чек-лист</a></span></li></ul></div>"
   ]
  },
  {
   "cell_type": "markdown",
   "metadata": {},
   "source": [
    "# Определение перспективного тарифа для телеком-компании"
   ]
  },
  {
   "cell_type": "markdown",
   "metadata": {},
   "source": [
    "К нам обратился федеральный оператор сотовой связи \"Мегалайн\" с целью выяснить, какой из двух их представленных тарифов лучше (приносит больше денег).  \n",
    "   \n",
    "Для этого была предоставлена выборка по клиентам двух тарифов, в которой данные 500 пользователей «Мегалайна»: кто они, откуда, каким тарифом пользуются, сколько звонков и сообщений каждый отправил за 2018 год. Также была предоставлена документация с описанием данных. \n",
    "    \n",
    "**Описание тарифов**  \n",
    "\n",
    "    Смарт:\n",
    "    1. Ежемесячная плата - 550 рублей.\n",
    "    2. В пакете: 500 минут разговора, 50 сообщений и 15 Гб интернет-трафика.\n",
    "    3. Стоимость сверх пакета:\n",
    "        * минута разговора - 3 рубля;\n",
    "        * сообщение - 3 рубля;\n",
    "        * 1 Гб интернет-трафика - 200 рублей.\n",
    "    \n",
    "    Ультра:\n",
    "    1. Ежемесячная плата - 1950 рублей.\n",
    "    2. В пакете: 3000 минут разговора, 1000 сообщений и 30 Гб интернет-трафика.\n",
    "    3. Стоимость сверх пакета:\n",
    "        * минута разговора - 1 рубль;\n",
    "        * сообщение - 1 рубль;\n",
    "        * 1 Гб интернет-трафика - 150 рублей.\n",
    "    \n",
    "    Примечание: округление секунд до минут, мегабайт - до гигабайт. Любое округление делается в большую сторону. Неиспользованные за месяц звонки, смс и интернет сгорают.\n",
    "\n",
    "Согласно предоставленному описанию в таблицах содержится следующая информация:\n",
    "1. Таблица `users` (информация о пользователях):  \n",
    ">* `user_id` — уникальный идентификатор пользователя;\n",
    ">* `first_name` — имя пользователя;\n",
    ">* `last_name` — фамилия пользователя;\n",
    ">* `age` — возраст пользователя (годы);\n",
    ">* `reg_date` — дата подключения тарифа (день, месяц, год);\n",
    ">* `churn_date` — дата прекращения пользования тарифом (если значение пропущено, то тариф ещё действовал на момент выгрузки данных);\n",
    ">* `city` — город проживания пользователя;\n",
    ">* `tariff` — название тарифного плана.\n",
    "2. Таблица `calls` (информация о звонках):\n",
    ">* `id` — уникальный номер звонка;\n",
    ">* `call_date` — дата звонка;\n",
    ">* `duration` — длительность звонка в минутах;\n",
    ">* `user_id` — идентификатор пользователя, сделавшего звонок.\n",
    "3. Таблица `messages` (информация о сообщениях):\n",
    ">* `id` — уникальный номер сообщения;\n",
    ">* `message_date` — дата сообщения;\n",
    ">* `user_id` — идентификатор пользователя, отправившего сообщение.\n",
    "4. Таблица `internet` (информация об интернет-сессиях):\n",
    ">* `id` — уникальный номер сессии;\n",
    ">* `mb_used` — объём потраченного за сессию интернет-трафика (в мегабайтах);\n",
    ">* `session_date` — дата интернет-сессии;\n",
    ">* `user_id` — идентификатор пользователя.\n",
    "5. Таблица `tariffs` (информация о тарифах):\n",
    ">* `tariff_name` — название тарифа;\n",
    ">* `rub_monthly_fee` — ежемесячная абонентская плата в рублях;\n",
    ">* `minutes_included` — количество минут разговора в месяц, включённых в абонентскую плату;\n",
    ">* `messages_included` — количество сообщений в месяц, включённых в абонентскую плату;\n",
    ">* `mb_per_month_included` — объём интернет-трафика, включённого в абонентскую плату (в мегабайтах);\n",
    ">* `rub_per_minute` — стоимость минуты разговора сверх тарифного пакета (например, если в тарифе 100 минут разговора в месяц, то со 101 минуты будет взиматься плата);\n",
    ">* `rub_per_message` — стоимость отправки сообщения сверх тарифного пакета;\n",
    ">* `rub_per_gb` — стоимость дополнительного гигабайта интернет-трафика сверх тарифного пакета (1 гигабайт = 1024 мегабайта).\n",
    "\n",
    "**Цель исследования** — проанализировать поведение клиентов и сделать вывод — какой тариф лучше.  \n",
    "\n",
    "**Ход исследования**:  \n",
    "\n",
    "Форма предоставленных данных не была согласована заранее, поэтому понадобится обзор данных и их подготовка, в процессе которой проверим данные на ошибки и при необходимости исправим их.  \n",
    "Таким образом, исследование будет проводиться в четыре этапа: \n",
    "\n",
    "1. Изучение данных из файлов.\n",
    "2. Подготовка данных.\n",
    "3. Анализ данных.\n",
    "4. Проверка гипотез."
   ]
  },
  {
   "cell_type": "markdown",
   "metadata": {},
   "source": [
    "## Изучение данных из файлов"
   ]
  },
  {
   "cell_type": "code",
   "execution_count": 1,
   "metadata": {},
   "outputs": [],
   "source": [
    "# Импортируем используемые библиотеки\n",
    "import pandas as pd\n",
    "import os\n",
    "from scipy import stats as st\n",
    "import numpy as np\n",
    "import matplotlib.pyplot as plt\n",
    "import seaborn as sns\n",
    "import statistics as stat"
   ]
  },
  {
   "cell_type": "code",
   "execution_count": 2,
   "metadata": {},
   "outputs": [],
   "source": [
    "# Открываем датасеты. Для двух версий работы с проектом - две версии открытия сетов.\n",
    "\n",
    "# Создаем локальные пути.\n",
    "path_calls_local = 'calls.csv'\n",
    "path_internet_local = 'internet.csv'\n",
    "path_msgs_local = 'messages.csv'\n",
    "path_tariffs_local = 'tariffs.csv'\n",
    "path_users_local = 'users.csv'\n",
    "\n",
    "# Создаем удаленные пути.\n",
    "path_calls_remote = '/datasets/calls.csv'\n",
    "path_internet_remote = '/datasets/internet.csv'\n",
    "path_msgs_remote = '/datasets/messages.csv'\n",
    "path_tariffs_remote = '/datasets/tariffs.csv'\n",
    "path_users_remote = '/datasets/users.csv'\n",
    "\n",
    "# Проверяя наличие путей к файлам, открываем датасеты.\n",
    "if os.path.exists(path_calls_local):\n",
    "    calls = pd.read_csv(path_calls_local)\n",
    "    internet = pd.read_csv(path_internet_local)\n",
    "    msgs = pd.read_csv(path_msgs_local)\n",
    "    tariffs = pd.read_csv(path_tariffs_local)\n",
    "    users = pd.read_csv(path_users_local)\n",
    "elif os.path.exists(path_calls_remote):\n",
    "    calls = pd.read_csv(path_calls_remote)\n",
    "    internet = pd.read_csv(path_internet_remote)\n",
    "    msgs = pd.read_csv(path_msgs_remote)\n",
    "    tariffs = pd.read_csv(path_tariffs_remote)\n",
    "    users = pd.read_csv(path_users_remote)\n",
    "else:\n",
    "    print('Someting wrong')"
   ]
  },
  {
   "cell_type": "code",
   "execution_count": 3,
   "metadata": {},
   "outputs": [
    {
     "data": {
      "text/plain": [
       "'Звонки'"
      ]
     },
     "metadata": {},
     "output_type": "display_data"
    },
    {
     "data": {
      "text/html": [
       "<div>\n",
       "<style scoped>\n",
       "    .dataframe tbody tr th:only-of-type {\n",
       "        vertical-align: middle;\n",
       "    }\n",
       "\n",
       "    .dataframe tbody tr th {\n",
       "        vertical-align: top;\n",
       "    }\n",
       "\n",
       "    .dataframe thead th {\n",
       "        text-align: right;\n",
       "    }\n",
       "</style>\n",
       "<table border=\"1\" class=\"dataframe\">\n",
       "  <thead>\n",
       "    <tr style=\"text-align: right;\">\n",
       "      <th></th>\n",
       "      <th>id</th>\n",
       "      <th>call_date</th>\n",
       "      <th>duration</th>\n",
       "      <th>user_id</th>\n",
       "    </tr>\n",
       "  </thead>\n",
       "  <tbody>\n",
       "    <tr>\n",
       "      <th>0</th>\n",
       "      <td>1000_0</td>\n",
       "      <td>2018-07-25</td>\n",
       "      <td>0.00</td>\n",
       "      <td>1000</td>\n",
       "    </tr>\n",
       "    <tr>\n",
       "      <th>1</th>\n",
       "      <td>1000_1</td>\n",
       "      <td>2018-08-17</td>\n",
       "      <td>0.00</td>\n",
       "      <td>1000</td>\n",
       "    </tr>\n",
       "    <tr>\n",
       "      <th>2</th>\n",
       "      <td>1000_2</td>\n",
       "      <td>2018-06-11</td>\n",
       "      <td>2.85</td>\n",
       "      <td>1000</td>\n",
       "    </tr>\n",
       "    <tr>\n",
       "      <th>3</th>\n",
       "      <td>1000_3</td>\n",
       "      <td>2018-09-21</td>\n",
       "      <td>13.80</td>\n",
       "      <td>1000</td>\n",
       "    </tr>\n",
       "    <tr>\n",
       "      <th>4</th>\n",
       "      <td>1000_4</td>\n",
       "      <td>2018-12-15</td>\n",
       "      <td>5.18</td>\n",
       "      <td>1000</td>\n",
       "    </tr>\n",
       "  </tbody>\n",
       "</table>\n",
       "</div>"
      ],
      "text/plain": [
       "       id   call_date  duration  user_id\n",
       "0  1000_0  2018-07-25      0.00     1000\n",
       "1  1000_1  2018-08-17      0.00     1000\n",
       "2  1000_2  2018-06-11      2.85     1000\n",
       "3  1000_3  2018-09-21     13.80     1000\n",
       "4  1000_4  2018-12-15      5.18     1000"
      ]
     },
     "metadata": {},
     "output_type": "display_data"
    },
    {
     "data": {
      "text/plain": [
       "'-------------------------------------------------------'"
      ]
     },
     "metadata": {},
     "output_type": "display_data"
    },
    {
     "data": {
      "text/plain": [
       "'Интернет'"
      ]
     },
     "metadata": {},
     "output_type": "display_data"
    },
    {
     "data": {
      "text/html": [
       "<div>\n",
       "<style scoped>\n",
       "    .dataframe tbody tr th:only-of-type {\n",
       "        vertical-align: middle;\n",
       "    }\n",
       "\n",
       "    .dataframe tbody tr th {\n",
       "        vertical-align: top;\n",
       "    }\n",
       "\n",
       "    .dataframe thead th {\n",
       "        text-align: right;\n",
       "    }\n",
       "</style>\n",
       "<table border=\"1\" class=\"dataframe\">\n",
       "  <thead>\n",
       "    <tr style=\"text-align: right;\">\n",
       "      <th></th>\n",
       "      <th>Unnamed: 0</th>\n",
       "      <th>id</th>\n",
       "      <th>mb_used</th>\n",
       "      <th>session_date</th>\n",
       "      <th>user_id</th>\n",
       "    </tr>\n",
       "  </thead>\n",
       "  <tbody>\n",
       "    <tr>\n",
       "      <th>0</th>\n",
       "      <td>0</td>\n",
       "      <td>1000_0</td>\n",
       "      <td>112.95</td>\n",
       "      <td>2018-11-25</td>\n",
       "      <td>1000</td>\n",
       "    </tr>\n",
       "    <tr>\n",
       "      <th>1</th>\n",
       "      <td>1</td>\n",
       "      <td>1000_1</td>\n",
       "      <td>1052.81</td>\n",
       "      <td>2018-09-07</td>\n",
       "      <td>1000</td>\n",
       "    </tr>\n",
       "    <tr>\n",
       "      <th>2</th>\n",
       "      <td>2</td>\n",
       "      <td>1000_2</td>\n",
       "      <td>1197.26</td>\n",
       "      <td>2018-06-25</td>\n",
       "      <td>1000</td>\n",
       "    </tr>\n",
       "    <tr>\n",
       "      <th>3</th>\n",
       "      <td>3</td>\n",
       "      <td>1000_3</td>\n",
       "      <td>550.27</td>\n",
       "      <td>2018-08-22</td>\n",
       "      <td>1000</td>\n",
       "    </tr>\n",
       "    <tr>\n",
       "      <th>4</th>\n",
       "      <td>4</td>\n",
       "      <td>1000_4</td>\n",
       "      <td>302.56</td>\n",
       "      <td>2018-09-24</td>\n",
       "      <td>1000</td>\n",
       "    </tr>\n",
       "  </tbody>\n",
       "</table>\n",
       "</div>"
      ],
      "text/plain": [
       "   Unnamed: 0      id  mb_used session_date  user_id\n",
       "0           0  1000_0   112.95   2018-11-25     1000\n",
       "1           1  1000_1  1052.81   2018-09-07     1000\n",
       "2           2  1000_2  1197.26   2018-06-25     1000\n",
       "3           3  1000_3   550.27   2018-08-22     1000\n",
       "4           4  1000_4   302.56   2018-09-24     1000"
      ]
     },
     "metadata": {},
     "output_type": "display_data"
    },
    {
     "data": {
      "text/plain": [
       "'-------------------------------------------------------'"
      ]
     },
     "metadata": {},
     "output_type": "display_data"
    },
    {
     "data": {
      "text/plain": [
       "'Сообщения'"
      ]
     },
     "metadata": {},
     "output_type": "display_data"
    },
    {
     "data": {
      "text/html": [
       "<div>\n",
       "<style scoped>\n",
       "    .dataframe tbody tr th:only-of-type {\n",
       "        vertical-align: middle;\n",
       "    }\n",
       "\n",
       "    .dataframe tbody tr th {\n",
       "        vertical-align: top;\n",
       "    }\n",
       "\n",
       "    .dataframe thead th {\n",
       "        text-align: right;\n",
       "    }\n",
       "</style>\n",
       "<table border=\"1\" class=\"dataframe\">\n",
       "  <thead>\n",
       "    <tr style=\"text-align: right;\">\n",
       "      <th></th>\n",
       "      <th>id</th>\n",
       "      <th>message_date</th>\n",
       "      <th>user_id</th>\n",
       "    </tr>\n",
       "  </thead>\n",
       "  <tbody>\n",
       "    <tr>\n",
       "      <th>0</th>\n",
       "      <td>1000_0</td>\n",
       "      <td>2018-06-27</td>\n",
       "      <td>1000</td>\n",
       "    </tr>\n",
       "    <tr>\n",
       "      <th>1</th>\n",
       "      <td>1000_1</td>\n",
       "      <td>2018-10-08</td>\n",
       "      <td>1000</td>\n",
       "    </tr>\n",
       "    <tr>\n",
       "      <th>2</th>\n",
       "      <td>1000_2</td>\n",
       "      <td>2018-08-04</td>\n",
       "      <td>1000</td>\n",
       "    </tr>\n",
       "    <tr>\n",
       "      <th>3</th>\n",
       "      <td>1000_3</td>\n",
       "      <td>2018-06-16</td>\n",
       "      <td>1000</td>\n",
       "    </tr>\n",
       "    <tr>\n",
       "      <th>4</th>\n",
       "      <td>1000_4</td>\n",
       "      <td>2018-12-05</td>\n",
       "      <td>1000</td>\n",
       "    </tr>\n",
       "  </tbody>\n",
       "</table>\n",
       "</div>"
      ],
      "text/plain": [
       "       id message_date  user_id\n",
       "0  1000_0   2018-06-27     1000\n",
       "1  1000_1   2018-10-08     1000\n",
       "2  1000_2   2018-08-04     1000\n",
       "3  1000_3   2018-06-16     1000\n",
       "4  1000_4   2018-12-05     1000"
      ]
     },
     "metadata": {},
     "output_type": "display_data"
    },
    {
     "data": {
      "text/plain": [
       "'-------------------------------------------------------'"
      ]
     },
     "metadata": {},
     "output_type": "display_data"
    },
    {
     "data": {
      "text/plain": [
       "'Тарифы'"
      ]
     },
     "metadata": {},
     "output_type": "display_data"
    },
    {
     "data": {
      "text/html": [
       "<div>\n",
       "<style scoped>\n",
       "    .dataframe tbody tr th:only-of-type {\n",
       "        vertical-align: middle;\n",
       "    }\n",
       "\n",
       "    .dataframe tbody tr th {\n",
       "        vertical-align: top;\n",
       "    }\n",
       "\n",
       "    .dataframe thead th {\n",
       "        text-align: right;\n",
       "    }\n",
       "</style>\n",
       "<table border=\"1\" class=\"dataframe\">\n",
       "  <thead>\n",
       "    <tr style=\"text-align: right;\">\n",
       "      <th></th>\n",
       "      <th>messages_included</th>\n",
       "      <th>mb_per_month_included</th>\n",
       "      <th>minutes_included</th>\n",
       "      <th>rub_monthly_fee</th>\n",
       "      <th>rub_per_gb</th>\n",
       "      <th>rub_per_message</th>\n",
       "      <th>rub_per_minute</th>\n",
       "      <th>tariff_name</th>\n",
       "    </tr>\n",
       "  </thead>\n",
       "  <tbody>\n",
       "    <tr>\n",
       "      <th>0</th>\n",
       "      <td>50</td>\n",
       "      <td>15360</td>\n",
       "      <td>500</td>\n",
       "      <td>550</td>\n",
       "      <td>200</td>\n",
       "      <td>3</td>\n",
       "      <td>3</td>\n",
       "      <td>smart</td>\n",
       "    </tr>\n",
       "    <tr>\n",
       "      <th>1</th>\n",
       "      <td>1000</td>\n",
       "      <td>30720</td>\n",
       "      <td>3000</td>\n",
       "      <td>1950</td>\n",
       "      <td>150</td>\n",
       "      <td>1</td>\n",
       "      <td>1</td>\n",
       "      <td>ultra</td>\n",
       "    </tr>\n",
       "  </tbody>\n",
       "</table>\n",
       "</div>"
      ],
      "text/plain": [
       "   messages_included  mb_per_month_included  minutes_included  \\\n",
       "0                 50                  15360               500   \n",
       "1               1000                  30720              3000   \n",
       "\n",
       "   rub_monthly_fee  rub_per_gb  rub_per_message  rub_per_minute tariff_name  \n",
       "0              550         200                3               3       smart  \n",
       "1             1950         150                1               1       ultra  "
      ]
     },
     "metadata": {},
     "output_type": "display_data"
    },
    {
     "data": {
      "text/plain": [
       "'-------------------------------------------------------'"
      ]
     },
     "metadata": {},
     "output_type": "display_data"
    },
    {
     "data": {
      "text/plain": [
       "'Пользователи'"
      ]
     },
     "metadata": {},
     "output_type": "display_data"
    },
    {
     "data": {
      "text/html": [
       "<div>\n",
       "<style scoped>\n",
       "    .dataframe tbody tr th:only-of-type {\n",
       "        vertical-align: middle;\n",
       "    }\n",
       "\n",
       "    .dataframe tbody tr th {\n",
       "        vertical-align: top;\n",
       "    }\n",
       "\n",
       "    .dataframe thead th {\n",
       "        text-align: right;\n",
       "    }\n",
       "</style>\n",
       "<table border=\"1\" class=\"dataframe\">\n",
       "  <thead>\n",
       "    <tr style=\"text-align: right;\">\n",
       "      <th></th>\n",
       "      <th>user_id</th>\n",
       "      <th>age</th>\n",
       "      <th>churn_date</th>\n",
       "      <th>city</th>\n",
       "      <th>first_name</th>\n",
       "      <th>last_name</th>\n",
       "      <th>reg_date</th>\n",
       "      <th>tariff</th>\n",
       "    </tr>\n",
       "  </thead>\n",
       "  <tbody>\n",
       "    <tr>\n",
       "      <th>0</th>\n",
       "      <td>1000</td>\n",
       "      <td>52</td>\n",
       "      <td>NaN</td>\n",
       "      <td>Краснодар</td>\n",
       "      <td>Рафаил</td>\n",
       "      <td>Верещагин</td>\n",
       "      <td>2018-05-25</td>\n",
       "      <td>ultra</td>\n",
       "    </tr>\n",
       "    <tr>\n",
       "      <th>1</th>\n",
       "      <td>1001</td>\n",
       "      <td>41</td>\n",
       "      <td>NaN</td>\n",
       "      <td>Москва</td>\n",
       "      <td>Иван</td>\n",
       "      <td>Ежов</td>\n",
       "      <td>2018-11-01</td>\n",
       "      <td>smart</td>\n",
       "    </tr>\n",
       "    <tr>\n",
       "      <th>2</th>\n",
       "      <td>1002</td>\n",
       "      <td>59</td>\n",
       "      <td>NaN</td>\n",
       "      <td>Стерлитамак</td>\n",
       "      <td>Евгений</td>\n",
       "      <td>Абрамович</td>\n",
       "      <td>2018-06-17</td>\n",
       "      <td>smart</td>\n",
       "    </tr>\n",
       "    <tr>\n",
       "      <th>3</th>\n",
       "      <td>1003</td>\n",
       "      <td>23</td>\n",
       "      <td>NaN</td>\n",
       "      <td>Москва</td>\n",
       "      <td>Белла</td>\n",
       "      <td>Белякова</td>\n",
       "      <td>2018-08-17</td>\n",
       "      <td>ultra</td>\n",
       "    </tr>\n",
       "    <tr>\n",
       "      <th>4</th>\n",
       "      <td>1004</td>\n",
       "      <td>68</td>\n",
       "      <td>NaN</td>\n",
       "      <td>Новокузнецк</td>\n",
       "      <td>Татьяна</td>\n",
       "      <td>Авдеенко</td>\n",
       "      <td>2018-05-14</td>\n",
       "      <td>ultra</td>\n",
       "    </tr>\n",
       "  </tbody>\n",
       "</table>\n",
       "</div>"
      ],
      "text/plain": [
       "   user_id  age churn_date         city first_name  last_name    reg_date  \\\n",
       "0     1000   52        NaN    Краснодар     Рафаил  Верещагин  2018-05-25   \n",
       "1     1001   41        NaN       Москва       Иван       Ежов  2018-11-01   \n",
       "2     1002   59        NaN  Стерлитамак    Евгений  Абрамович  2018-06-17   \n",
       "3     1003   23        NaN       Москва      Белла   Белякова  2018-08-17   \n",
       "4     1004   68        NaN  Новокузнецк    Татьяна   Авдеенко  2018-05-14   \n",
       "\n",
       "  tariff  \n",
       "0  ultra  \n",
       "1  smart  \n",
       "2  smart  \n",
       "3  ultra  \n",
       "4  ultra  "
      ]
     },
     "metadata": {},
     "output_type": "display_data"
    }
   ],
   "source": [
    "# Посмотрим первые строки каждого датасета.\n",
    "display('Звонки',\\\n",
    "        calls.head(),\\\n",
    "       '-------------------------------------------------------',\\\n",
    "        'Интернет',\\\n",
    "       internet.head(),\\\n",
    "       '-------------------------------------------------------',\\\n",
    "        'Сообщения',\\\n",
    "       msgs.head(),\\\n",
    "       '-------------------------------------------------------',\\\n",
    "        'Тарифы',\\\n",
    "       tariffs.head(),\\\n",
    "       '-------------------------------------------------------',\\\n",
    "        'Пользователи',\\\n",
    "       users.head())"
   ]
  },
  {
   "cell_type": "markdown",
   "metadata": {},
   "source": [
    "Посмотрим общую информацию о таблицах."
   ]
  },
  {
   "cell_type": "code",
   "execution_count": 4,
   "metadata": {},
   "outputs": [
    {
     "name": "stdout",
     "output_type": "stream",
     "text": [
      "<class 'pandas.core.frame.DataFrame'>\n",
      "RangeIndex: 202607 entries, 0 to 202606\n",
      "Data columns (total 4 columns):\n",
      " #   Column     Non-Null Count   Dtype  \n",
      "---  ------     --------------   -----  \n",
      " 0   id         202607 non-null  object \n",
      " 1   call_date  202607 non-null  object \n",
      " 2   duration   202607 non-null  float64\n",
      " 3   user_id    202607 non-null  int64  \n",
      "dtypes: float64(1), int64(1), object(2)\n",
      "memory usage: 6.2+ MB\n"
     ]
    }
   ],
   "source": [
    "calls.info()"
   ]
  },
  {
   "cell_type": "code",
   "execution_count": 5,
   "metadata": {},
   "outputs": [
    {
     "name": "stdout",
     "output_type": "stream",
     "text": [
      "<class 'pandas.core.frame.DataFrame'>\n",
      "RangeIndex: 149396 entries, 0 to 149395\n",
      "Data columns (total 5 columns):\n",
      " #   Column        Non-Null Count   Dtype  \n",
      "---  ------        --------------   -----  \n",
      " 0   Unnamed: 0    149396 non-null  int64  \n",
      " 1   id            149396 non-null  object \n",
      " 2   mb_used       149396 non-null  float64\n",
      " 3   session_date  149396 non-null  object \n",
      " 4   user_id       149396 non-null  int64  \n",
      "dtypes: float64(1), int64(2), object(2)\n",
      "memory usage: 5.7+ MB\n"
     ]
    }
   ],
   "source": [
    "internet.info()"
   ]
  },
  {
   "cell_type": "code",
   "execution_count": 6,
   "metadata": {},
   "outputs": [
    {
     "name": "stdout",
     "output_type": "stream",
     "text": [
      "<class 'pandas.core.frame.DataFrame'>\n",
      "RangeIndex: 123036 entries, 0 to 123035\n",
      "Data columns (total 3 columns):\n",
      " #   Column        Non-Null Count   Dtype \n",
      "---  ------        --------------   ----- \n",
      " 0   id            123036 non-null  object\n",
      " 1   message_date  123036 non-null  object\n",
      " 2   user_id       123036 non-null  int64 \n",
      "dtypes: int64(1), object(2)\n",
      "memory usage: 2.8+ MB\n"
     ]
    }
   ],
   "source": [
    "msgs.info()"
   ]
  },
  {
   "cell_type": "code",
   "execution_count": 7,
   "metadata": {},
   "outputs": [
    {
     "name": "stdout",
     "output_type": "stream",
     "text": [
      "<class 'pandas.core.frame.DataFrame'>\n",
      "RangeIndex: 2 entries, 0 to 1\n",
      "Data columns (total 8 columns):\n",
      " #   Column                 Non-Null Count  Dtype \n",
      "---  ------                 --------------  ----- \n",
      " 0   messages_included      2 non-null      int64 \n",
      " 1   mb_per_month_included  2 non-null      int64 \n",
      " 2   minutes_included       2 non-null      int64 \n",
      " 3   rub_monthly_fee        2 non-null      int64 \n",
      " 4   rub_per_gb             2 non-null      int64 \n",
      " 5   rub_per_message        2 non-null      int64 \n",
      " 6   rub_per_minute         2 non-null      int64 \n",
      " 7   tariff_name            2 non-null      object\n",
      "dtypes: int64(7), object(1)\n",
      "memory usage: 256.0+ bytes\n"
     ]
    }
   ],
   "source": [
    "tariffs.info()"
   ]
  },
  {
   "cell_type": "code",
   "execution_count": 8,
   "metadata": {},
   "outputs": [
    {
     "name": "stdout",
     "output_type": "stream",
     "text": [
      "<class 'pandas.core.frame.DataFrame'>\n",
      "RangeIndex: 500 entries, 0 to 499\n",
      "Data columns (total 8 columns):\n",
      " #   Column      Non-Null Count  Dtype \n",
      "---  ------      --------------  ----- \n",
      " 0   user_id     500 non-null    int64 \n",
      " 1   age         500 non-null    int64 \n",
      " 2   churn_date  38 non-null     object\n",
      " 3   city        500 non-null    object\n",
      " 4   first_name  500 non-null    object\n",
      " 5   last_name   500 non-null    object\n",
      " 6   reg_date    500 non-null    object\n",
      " 7   tariff      500 non-null    object\n",
      "dtypes: int64(2), object(6)\n",
      "memory usage: 31.4+ KB\n"
     ]
    }
   ],
   "source": [
    "users.info()"
   ]
  },
  {
   "cell_type": "markdown",
   "metadata": {},
   "source": [
    "### Выводы"
   ]
  },
  {
   "cell_type": "markdown",
   "metadata": {},
   "source": [
    "Из общего обзора данных видны следующие проблемы, которые предстоит исправить прежде чем переходить к анализу:\n",
    "* во всех столбцах с датой тип данных нужно привести к типу `datetime`;\n",
    "* в таблице `internet` присутствует столбец с дубликатами индексов `Unnamed: 0` - удалим его;\n",
    "* незначащих пропусков нет. Пропуски есть только в таблице `users` в столбце `churn_date` и означают, что пользователь еще пользовался тарифом на момент выгрузки.\n",
    "\n",
    "Исправим данные проблемы в предобработке данных."
   ]
  },
  {
   "cell_type": "markdown",
   "metadata": {},
   "source": [
    "<div class=\"alert alert-success\">\n",
    "    <h3> Комментарий ревьюера: Антон Оленев <a class=\"tocSkip\"> </h3>\n",
    "    \n",
    "<b>✅ Все отлично!:</b> можно работать дальше )\n",
    "</div>"
   ]
  },
  {
   "cell_type": "markdown",
   "metadata": {},
   "source": [
    "## Подготовка данных"
   ]
  },
  {
   "cell_type": "markdown",
   "metadata": {},
   "source": [
    "Необходимо:  \n",
    "* привести данные к нужным типам;  \n",
    "* удалить из таблицы `internet` столбец `Unnamed: 0`;\n",
    "* найти и исправить ошибки в данных, если они есть.  \n",
    "* посчитать для каждого пользователя:  \n",
    "    * количество сделанных звонков и израсходованных минут разговора по месяцам;  \n",
    "    * количество отправленных сообщений по месяцам;  \n",
    "    * объем израсходованного интернет-трафика по месяцам;  \n",
    "    * помесячную выручку с каждого пользователя.  "
   ]
  },
  {
   "cell_type": "markdown",
   "metadata": {},
   "source": [
    "### Приведение типов"
   ]
  },
  {
   "cell_type": "markdown",
   "metadata": {},
   "source": [
    "В обзоре данных было выяснено, что во всех столбцах с датами необходимо исправить формат на `datetime`."
   ]
  },
  {
   "cell_type": "code",
   "execution_count": 9,
   "metadata": {},
   "outputs": [],
   "source": [
    "# Приводим дату к типу datetime.\n",
    "calls['call_date'] = pd.to_datetime(calls['call_date'], format='%Y-%m-%d')\n",
    "internet['session_date'] = pd.to_datetime(internet['session_date'], format='%Y-%m-%d')\n",
    "msgs['message_date'] = pd.to_datetime(msgs['message_date'], format='%Y-%m-%d')\n",
    "users['reg_date'] = pd.to_datetime(users['reg_date'], format='%Y-%m-%d')"
   ]
  },
  {
   "cell_type": "code",
   "execution_count": 10,
   "metadata": {},
   "outputs": [
    {
     "name": "stdout",
     "output_type": "stream",
     "text": [
      "datetime64[ns] datetime64[ns] datetime64[ns] datetime64[ns]\n"
     ]
    }
   ],
   "source": [
    "# Проверим приведение типов.\n",
    "print(calls['call_date'].dtypes, \n",
    "        internet['session_date'].dtypes,\n",
    "        msgs['message_date'].dtypes,\n",
    "        users['reg_date'].dtypes)"
   ]
  },
  {
   "cell_type": "markdown",
   "metadata": {},
   "source": [
    "<div class=\"alert alert-warning\">\n",
    "<h3> Комментарий ревьюера: Антон Оленев <a class=\"tocSkip\"> </h3>\n",
    "        \n",
    "<b>💡 Некоторые замечания и рекомендации:</b> после приведения типов, можно еще посмотреть, правильно ли все привелось, например с помощью describe() для преобразованых столбцов\n",
    "        \n",
    "</div>"
   ]
  },
  {
   "cell_type": "markdown",
   "metadata": {},
   "source": [
    "<div class=\"alert alert-info\">\n",
    "    <b> Комментарий студента </b>\n",
    "    \n",
    "describe на datetime ругается \"Treating datetime data as categorical rather than numeric in `.describe` is deprecated and will be removed in a future version of pandas. Specify `datetime_is_numeric=True` to silence this warning and adopt the future behavior now.\".  \n",
    "сделал через dtypes  \n",
    "На самом деле просто торопился сдать и не проверил :(\n",
    "</div>"
   ]
  },
  {
   "cell_type": "markdown",
   "metadata": {},
   "source": [
    "<div class=\"alert alert-warning\">\n",
    "<h3> Комментарий ревьюера V2: Антон Оленев <a class=\"tocSkip\"> </h3>\n",
    "        \n",
    "<b>💡 Некоторые замечания и рекомендации:</b> это не совсем ругается, скорее предупреждает. Можно передать в метод describe(datetime_is_numeric=True) тогда не будет )\n",
    "        \n",
    "</div>"
   ]
  },
  {
   "cell_type": "markdown",
   "metadata": {},
   "source": [
    "### Удаление лишних столбцов"
   ]
  },
  {
   "cell_type": "markdown",
   "metadata": {},
   "source": [
    "Удалим из таблицы `internet` лишний столбец."
   ]
  },
  {
   "cell_type": "code",
   "execution_count": 11,
   "metadata": {},
   "outputs": [],
   "source": [
    "internet = internet.drop(columns=['Unnamed: 0'])"
   ]
  },
  {
   "cell_type": "code",
   "execution_count": 12,
   "metadata": {},
   "outputs": [
    {
     "data": {
      "text/html": [
       "<div>\n",
       "<style scoped>\n",
       "    .dataframe tbody tr th:only-of-type {\n",
       "        vertical-align: middle;\n",
       "    }\n",
       "\n",
       "    .dataframe tbody tr th {\n",
       "        vertical-align: top;\n",
       "    }\n",
       "\n",
       "    .dataframe thead th {\n",
       "        text-align: right;\n",
       "    }\n",
       "</style>\n",
       "<table border=\"1\" class=\"dataframe\">\n",
       "  <thead>\n",
       "    <tr style=\"text-align: right;\">\n",
       "      <th></th>\n",
       "      <th>id</th>\n",
       "      <th>mb_used</th>\n",
       "      <th>session_date</th>\n",
       "      <th>user_id</th>\n",
       "    </tr>\n",
       "  </thead>\n",
       "  <tbody>\n",
       "    <tr>\n",
       "      <th>0</th>\n",
       "      <td>1000_0</td>\n",
       "      <td>112.95</td>\n",
       "      <td>2018-11-25</td>\n",
       "      <td>1000</td>\n",
       "    </tr>\n",
       "    <tr>\n",
       "      <th>1</th>\n",
       "      <td>1000_1</td>\n",
       "      <td>1052.81</td>\n",
       "      <td>2018-09-07</td>\n",
       "      <td>1000</td>\n",
       "    </tr>\n",
       "    <tr>\n",
       "      <th>2</th>\n",
       "      <td>1000_2</td>\n",
       "      <td>1197.26</td>\n",
       "      <td>2018-06-25</td>\n",
       "      <td>1000</td>\n",
       "    </tr>\n",
       "    <tr>\n",
       "      <th>3</th>\n",
       "      <td>1000_3</td>\n",
       "      <td>550.27</td>\n",
       "      <td>2018-08-22</td>\n",
       "      <td>1000</td>\n",
       "    </tr>\n",
       "    <tr>\n",
       "      <th>4</th>\n",
       "      <td>1000_4</td>\n",
       "      <td>302.56</td>\n",
       "      <td>2018-09-24</td>\n",
       "      <td>1000</td>\n",
       "    </tr>\n",
       "  </tbody>\n",
       "</table>\n",
       "</div>"
      ],
      "text/plain": [
       "       id  mb_used session_date  user_id\n",
       "0  1000_0   112.95   2018-11-25     1000\n",
       "1  1000_1  1052.81   2018-09-07     1000\n",
       "2  1000_2  1197.26   2018-06-25     1000\n",
       "3  1000_3   550.27   2018-08-22     1000\n",
       "4  1000_4   302.56   2018-09-24     1000"
      ]
     },
     "execution_count": 12,
     "metadata": {},
     "output_type": "execute_result"
    }
   ],
   "source": [
    "# Проверим удаление.\n",
    "internet.head()"
   ]
  },
  {
   "cell_type": "markdown",
   "metadata": {},
   "source": [
    "### Проверка дубликатов"
   ]
  },
  {
   "cell_type": "markdown",
   "metadata": {},
   "source": [
    "Проверим таблицы на дубликаты."
   ]
  },
  {
   "cell_type": "code",
   "execution_count": 13,
   "metadata": {},
   "outputs": [
    {
     "data": {
      "text/plain": [
       "0"
      ]
     },
     "execution_count": 13,
     "metadata": {},
     "output_type": "execute_result"
    }
   ],
   "source": [
    "calls.duplicated().sum()"
   ]
  },
  {
   "cell_type": "code",
   "execution_count": 14,
   "metadata": {},
   "outputs": [
    {
     "data": {
      "text/plain": [
       "0"
      ]
     },
     "execution_count": 14,
     "metadata": {},
     "output_type": "execute_result"
    }
   ],
   "source": [
    "users.duplicated().sum()"
   ]
  },
  {
   "cell_type": "code",
   "execution_count": 15,
   "metadata": {},
   "outputs": [
    {
     "data": {
      "text/plain": [
       "0"
      ]
     },
     "execution_count": 15,
     "metadata": {},
     "output_type": "execute_result"
    }
   ],
   "source": [
    "internet.duplicated().sum()"
   ]
  },
  {
   "cell_type": "code",
   "execution_count": 16,
   "metadata": {},
   "outputs": [
    {
     "data": {
      "text/plain": [
       "0"
      ]
     },
     "execution_count": 16,
     "metadata": {},
     "output_type": "execute_result"
    }
   ],
   "source": [
    "msgs.duplicated().sum()"
   ]
  },
  {
   "cell_type": "markdown",
   "metadata": {},
   "source": [
    "Дубликаты в таблицах отсутствуют."
   ]
  },
  {
   "cell_type": "markdown",
   "metadata": {},
   "source": [
    "### Добавление данных в таблицы"
   ]
  },
  {
   "cell_type": "markdown",
   "metadata": {},
   "source": [
    "Посчитаем для каждого пользователя:  \n",
    "* количество сделанных звонков и израсходованных минут разговора по месяцам;  \n",
    "* количество отправленных сообщений по месяцам;  \n",
    "* объем израсходованного интернет-трафика по месяцам;  \n",
    "* помесячную выручку с каждого пользователя (вычтем бесплатный лимит из суммарного количества звонков, сообщений и интернет-трафика; остаток умножим на значение из тарифного плана; прибавим абонентскую плату, соответствующую тарифному плану).  \n",
    "\n",
    "Предварительно добавим в таблицы с целевыми данными столбец с месяцем.  "
   ]
  },
  {
   "cell_type": "code",
   "execution_count": 17,
   "metadata": {},
   "outputs": [],
   "source": [
    "# Добавляем столбцы с месяцами.\n",
    "calls['month'] = calls['call_date'].dt.month\n",
    "internet['month'] = internet['session_date'].dt.month\n",
    "msgs['month'] = msgs['message_date'].dt.month"
   ]
  },
  {
   "cell_type": "markdown",
   "metadata": {},
   "source": [
    "#### Количество звонков и минут"
   ]
  },
  {
   "cell_type": "markdown",
   "metadata": {},
   "source": [
    "Для подсчета звонков и минут по месяцам округлим вверх столбец `duration` в таблице `calls`."
   ]
  },
  {
   "cell_type": "code",
   "execution_count": 18,
   "metadata": {
    "scrolled": true
   },
   "outputs": [
    {
     "data": {
      "text/html": [
       "<div>\n",
       "<style scoped>\n",
       "    .dataframe tbody tr th:only-of-type {\n",
       "        vertical-align: middle;\n",
       "    }\n",
       "\n",
       "    .dataframe tbody tr th {\n",
       "        vertical-align: top;\n",
       "    }\n",
       "\n",
       "    .dataframe thead th {\n",
       "        text-align: right;\n",
       "    }\n",
       "</style>\n",
       "<table border=\"1\" class=\"dataframe\">\n",
       "  <thead>\n",
       "    <tr style=\"text-align: right;\">\n",
       "      <th></th>\n",
       "      <th>id</th>\n",
       "      <th>call_date</th>\n",
       "      <th>duration</th>\n",
       "      <th>user_id</th>\n",
       "      <th>month</th>\n",
       "    </tr>\n",
       "  </thead>\n",
       "  <tbody>\n",
       "    <tr>\n",
       "      <th>0</th>\n",
       "      <td>1000_0</td>\n",
       "      <td>2018-07-25</td>\n",
       "      <td>0.0</td>\n",
       "      <td>1000</td>\n",
       "      <td>7</td>\n",
       "    </tr>\n",
       "    <tr>\n",
       "      <th>1</th>\n",
       "      <td>1000_1</td>\n",
       "      <td>2018-08-17</td>\n",
       "      <td>0.0</td>\n",
       "      <td>1000</td>\n",
       "      <td>8</td>\n",
       "    </tr>\n",
       "    <tr>\n",
       "      <th>2</th>\n",
       "      <td>1000_2</td>\n",
       "      <td>2018-06-11</td>\n",
       "      <td>3.0</td>\n",
       "      <td>1000</td>\n",
       "      <td>6</td>\n",
       "    </tr>\n",
       "    <tr>\n",
       "      <th>3</th>\n",
       "      <td>1000_3</td>\n",
       "      <td>2018-09-21</td>\n",
       "      <td>14.0</td>\n",
       "      <td>1000</td>\n",
       "      <td>9</td>\n",
       "    </tr>\n",
       "    <tr>\n",
       "      <th>4</th>\n",
       "      <td>1000_4</td>\n",
       "      <td>2018-12-15</td>\n",
       "      <td>6.0</td>\n",
       "      <td>1000</td>\n",
       "      <td>12</td>\n",
       "    </tr>\n",
       "  </tbody>\n",
       "</table>\n",
       "</div>"
      ],
      "text/plain": [
       "       id  call_date  duration  user_id  month\n",
       "0  1000_0 2018-07-25       0.0     1000      7\n",
       "1  1000_1 2018-08-17       0.0     1000      8\n",
       "2  1000_2 2018-06-11       3.0     1000      6\n",
       "3  1000_3 2018-09-21      14.0     1000      9\n",
       "4  1000_4 2018-12-15       6.0     1000     12"
      ]
     },
     "execution_count": 18,
     "metadata": {},
     "output_type": "execute_result"
    }
   ],
   "source": [
    "calls['duration'] = np.ceil(calls['duration'])\n",
    "calls.head()"
   ]
  },
  {
   "cell_type": "markdown",
   "metadata": {},
   "source": [
    "Создадим новую таблицу `calls_clean`, в которой будут данные о пользователях, месяцах и сколько они совершили звонков и потратили минут в соответствующий месяц."
   ]
  },
  {
   "cell_type": "code",
   "execution_count": 19,
   "metadata": {
    "scrolled": true
   },
   "outputs": [
    {
     "data": {
      "text/html": [
       "<div>\n",
       "<style scoped>\n",
       "    .dataframe tbody tr th:only-of-type {\n",
       "        vertical-align: middle;\n",
       "    }\n",
       "\n",
       "    .dataframe tbody tr th {\n",
       "        vertical-align: top;\n",
       "    }\n",
       "\n",
       "    .dataframe thead th {\n",
       "        text-align: right;\n",
       "    }\n",
       "</style>\n",
       "<table border=\"1\" class=\"dataframe\">\n",
       "  <thead>\n",
       "    <tr style=\"text-align: right;\">\n",
       "      <th></th>\n",
       "      <th>user_id</th>\n",
       "      <th>month</th>\n",
       "      <th>duration</th>\n",
       "      <th>calls_amount</th>\n",
       "    </tr>\n",
       "  </thead>\n",
       "  <tbody>\n",
       "    <tr>\n",
       "      <th>0</th>\n",
       "      <td>1000</td>\n",
       "      <td>5</td>\n",
       "      <td>159.0</td>\n",
       "      <td>22</td>\n",
       "    </tr>\n",
       "    <tr>\n",
       "      <th>1</th>\n",
       "      <td>1000</td>\n",
       "      <td>6</td>\n",
       "      <td>172.0</td>\n",
       "      <td>43</td>\n",
       "    </tr>\n",
       "    <tr>\n",
       "      <th>2</th>\n",
       "      <td>1000</td>\n",
       "      <td>7</td>\n",
       "      <td>340.0</td>\n",
       "      <td>47</td>\n",
       "    </tr>\n",
       "    <tr>\n",
       "      <th>3</th>\n",
       "      <td>1000</td>\n",
       "      <td>8</td>\n",
       "      <td>408.0</td>\n",
       "      <td>52</td>\n",
       "    </tr>\n",
       "    <tr>\n",
       "      <th>4</th>\n",
       "      <td>1000</td>\n",
       "      <td>9</td>\n",
       "      <td>466.0</td>\n",
       "      <td>58</td>\n",
       "    </tr>\n",
       "    <tr>\n",
       "      <th>5</th>\n",
       "      <td>1000</td>\n",
       "      <td>10</td>\n",
       "      <td>350.0</td>\n",
       "      <td>57</td>\n",
       "    </tr>\n",
       "    <tr>\n",
       "      <th>6</th>\n",
       "      <td>1000</td>\n",
       "      <td>11</td>\n",
       "      <td>338.0</td>\n",
       "      <td>43</td>\n",
       "    </tr>\n",
       "    <tr>\n",
       "      <th>7</th>\n",
       "      <td>1000</td>\n",
       "      <td>12</td>\n",
       "      <td>333.0</td>\n",
       "      <td>46</td>\n",
       "    </tr>\n",
       "    <tr>\n",
       "      <th>8</th>\n",
       "      <td>1001</td>\n",
       "      <td>11</td>\n",
       "      <td>430.0</td>\n",
       "      <td>59</td>\n",
       "    </tr>\n",
       "    <tr>\n",
       "      <th>9</th>\n",
       "      <td>1001</td>\n",
       "      <td>12</td>\n",
       "      <td>414.0</td>\n",
       "      <td>63</td>\n",
       "    </tr>\n",
       "  </tbody>\n",
       "</table>\n",
       "</div>"
      ],
      "text/plain": [
       "   user_id  month  duration  calls_amount\n",
       "0     1000      5     159.0            22\n",
       "1     1000      6     172.0            43\n",
       "2     1000      7     340.0            47\n",
       "3     1000      8     408.0            52\n",
       "4     1000      9     466.0            58\n",
       "5     1000     10     350.0            57\n",
       "6     1000     11     338.0            43\n",
       "7     1000     12     333.0            46\n",
       "8     1001     11     430.0            59\n",
       "9     1001     12     414.0            63"
      ]
     },
     "execution_count": 19,
     "metadata": {},
     "output_type": "execute_result"
    }
   ],
   "source": [
    "# Создаем фрейм с подсчетом потраченных минут за каждый месяц.\n",
    "calls_clean = calls.groupby(['user_id','month'])['duration'].sum().reset_index()\n",
    "# Добавляем в него информацию из исходного по количеству совершенных звонков.\n",
    "calls_clean['calls_amount'] = calls.groupby(['user_id','month'])['id'].count().values\n",
    "# Проверим, что получилось.\n",
    "calls_clean.head(10)"
   ]
  },
  {
   "cell_type": "markdown",
   "metadata": {},
   "source": [
    "<div class=\"alert alert-block alert-danger\">\n",
    "<h3> Комментарий ревьюера: Антон Оленев <a class=\"tocSkip\"/></h3>\n",
    "\n",
    "    \n",
    "<b>🤔 На доработку :</b> тут и при обработке отстальных таблиц можно проще, без лишних преобразований.\n",
    "Лучше создать новый датафрейм, не изменяя исходный, использовать .groupby(...).sum(). Тогда сразу получятся нужные данные, без дубликатов.\n",
    "</div>\n",
    "    "
   ]
  },
  {
   "cell_type": "markdown",
   "metadata": {},
   "source": [
    "<div class=\"alert alert-info\">\n",
    "    <b> Комментарий студента </b>\n",
    "    \n",
    "Переделал. Кажется так, как ты просил.  \n",
    "Изначально так и было, а потом я побоялся что-то потерять по пути + в слаке наводили смуту, что группировка по пользователям+месяцам дает потери...\n",
    "\n",
    "</div>"
   ]
  },
  {
   "cell_type": "markdown",
   "metadata": {},
   "source": [
    "<div class=\"alert alert-success\">\n",
    "    <h3> Комментарий ревьюера V2: Антон Оленев <a class=\"tocSkip\"> </h3>\n",
    "    \n",
    "<b>✅ Все отлично!</b>\n",
    "</div>"
   ]
  },
  {
   "cell_type": "markdown",
   "metadata": {},
   "source": [
    "#### Количество сообщений"
   ]
  },
  {
   "cell_type": "markdown",
   "metadata": {},
   "source": [
    "Создадим новую таблицу `msgs_clean`, в которой будут данные о пользователях, месяцах и сколько они потратили смс в соответствующий месяц."
   ]
  },
  {
   "cell_type": "code",
   "execution_count": 20,
   "metadata": {
    "scrolled": true
   },
   "outputs": [
    {
     "data": {
      "text/html": [
       "<div>\n",
       "<style scoped>\n",
       "    .dataframe tbody tr th:only-of-type {\n",
       "        vertical-align: middle;\n",
       "    }\n",
       "\n",
       "    .dataframe tbody tr th {\n",
       "        vertical-align: top;\n",
       "    }\n",
       "\n",
       "    .dataframe thead th {\n",
       "        text-align: right;\n",
       "    }\n",
       "</style>\n",
       "<table border=\"1\" class=\"dataframe\">\n",
       "  <thead>\n",
       "    <tr style=\"text-align: right;\">\n",
       "      <th></th>\n",
       "      <th>user_id</th>\n",
       "      <th>month</th>\n",
       "      <th>id</th>\n",
       "    </tr>\n",
       "  </thead>\n",
       "  <tbody>\n",
       "    <tr>\n",
       "      <th>0</th>\n",
       "      <td>1000</td>\n",
       "      <td>5</td>\n",
       "      <td>22</td>\n",
       "    </tr>\n",
       "    <tr>\n",
       "      <th>1</th>\n",
       "      <td>1000</td>\n",
       "      <td>6</td>\n",
       "      <td>60</td>\n",
       "    </tr>\n",
       "    <tr>\n",
       "      <th>2</th>\n",
       "      <td>1000</td>\n",
       "      <td>7</td>\n",
       "      <td>75</td>\n",
       "    </tr>\n",
       "    <tr>\n",
       "      <th>3</th>\n",
       "      <td>1000</td>\n",
       "      <td>8</td>\n",
       "      <td>81</td>\n",
       "    </tr>\n",
       "    <tr>\n",
       "      <th>4</th>\n",
       "      <td>1000</td>\n",
       "      <td>9</td>\n",
       "      <td>57</td>\n",
       "    </tr>\n",
       "    <tr>\n",
       "      <th>5</th>\n",
       "      <td>1000</td>\n",
       "      <td>10</td>\n",
       "      <td>73</td>\n",
       "    </tr>\n",
       "    <tr>\n",
       "      <th>6</th>\n",
       "      <td>1000</td>\n",
       "      <td>11</td>\n",
       "      <td>58</td>\n",
       "    </tr>\n",
       "    <tr>\n",
       "      <th>7</th>\n",
       "      <td>1000</td>\n",
       "      <td>12</td>\n",
       "      <td>70</td>\n",
       "    </tr>\n",
       "    <tr>\n",
       "      <th>8</th>\n",
       "      <td>1002</td>\n",
       "      <td>6</td>\n",
       "      <td>4</td>\n",
       "    </tr>\n",
       "    <tr>\n",
       "      <th>9</th>\n",
       "      <td>1002</td>\n",
       "      <td>7</td>\n",
       "      <td>11</td>\n",
       "    </tr>\n",
       "  </tbody>\n",
       "</table>\n",
       "</div>"
      ],
      "text/plain": [
       "   user_id  month  id\n",
       "0     1000      5  22\n",
       "1     1000      6  60\n",
       "2     1000      7  75\n",
       "3     1000      8  81\n",
       "4     1000      9  57\n",
       "5     1000     10  73\n",
       "6     1000     11  58\n",
       "7     1000     12  70\n",
       "8     1002      6   4\n",
       "9     1002      7  11"
      ]
     },
     "execution_count": 20,
     "metadata": {},
     "output_type": "execute_result"
    }
   ],
   "source": [
    "# Создаем фрейм с подсчетом потраченных смс за каждый месяц.\n",
    "msgs_clean = msgs.groupby(['user_id','month'])['id'].count().reset_index()\n",
    "# Проверим, что получилось.\n",
    "msgs_clean.head(10)"
   ]
  },
  {
   "cell_type": "markdown",
   "metadata": {},
   "source": [
    "Переименуем столбец `id` в `msgs_amount`, чтобы было понятно, что там содержится."
   ]
  },
  {
   "cell_type": "code",
   "execution_count": 21,
   "metadata": {},
   "outputs": [
    {
     "data": {
      "text/html": [
       "<div>\n",
       "<style scoped>\n",
       "    .dataframe tbody tr th:only-of-type {\n",
       "        vertical-align: middle;\n",
       "    }\n",
       "\n",
       "    .dataframe tbody tr th {\n",
       "        vertical-align: top;\n",
       "    }\n",
       "\n",
       "    .dataframe thead th {\n",
       "        text-align: right;\n",
       "    }\n",
       "</style>\n",
       "<table border=\"1\" class=\"dataframe\">\n",
       "  <thead>\n",
       "    <tr style=\"text-align: right;\">\n",
       "      <th></th>\n",
       "      <th>user_id</th>\n",
       "      <th>month</th>\n",
       "      <th>msgs_amount</th>\n",
       "    </tr>\n",
       "  </thead>\n",
       "  <tbody>\n",
       "    <tr>\n",
       "      <th>0</th>\n",
       "      <td>1000</td>\n",
       "      <td>5</td>\n",
       "      <td>22</td>\n",
       "    </tr>\n",
       "    <tr>\n",
       "      <th>1</th>\n",
       "      <td>1000</td>\n",
       "      <td>6</td>\n",
       "      <td>60</td>\n",
       "    </tr>\n",
       "    <tr>\n",
       "      <th>2</th>\n",
       "      <td>1000</td>\n",
       "      <td>7</td>\n",
       "      <td>75</td>\n",
       "    </tr>\n",
       "    <tr>\n",
       "      <th>3</th>\n",
       "      <td>1000</td>\n",
       "      <td>8</td>\n",
       "      <td>81</td>\n",
       "    </tr>\n",
       "    <tr>\n",
       "      <th>4</th>\n",
       "      <td>1000</td>\n",
       "      <td>9</td>\n",
       "      <td>57</td>\n",
       "    </tr>\n",
       "  </tbody>\n",
       "</table>\n",
       "</div>"
      ],
      "text/plain": [
       "   user_id  month  msgs_amount\n",
       "0     1000      5           22\n",
       "1     1000      6           60\n",
       "2     1000      7           75\n",
       "3     1000      8           81\n",
       "4     1000      9           57"
      ]
     },
     "execution_count": 21,
     "metadata": {},
     "output_type": "execute_result"
    }
   ],
   "source": [
    "msgs_clean.rename(columns={'id': 'msgs_amount'}, inplace=True)\n",
    "# Проверим, что вышло.\n",
    "msgs_clean.head()"
   ]
  },
  {
   "cell_type": "markdown",
   "metadata": {},
   "source": [
    "#### Объем трафика"
   ]
  },
  {
   "cell_type": "markdown",
   "metadata": {},
   "source": [
    "Создадим новую таблицу `internet_clean`, в которой будут данные о пользователях, месяцах и сколько они потратили гигабайт в соответствующий месяц."
   ]
  },
  {
   "cell_type": "code",
   "execution_count": 22,
   "metadata": {
    "scrolled": false
   },
   "outputs": [
    {
     "data": {
      "text/html": [
       "<div>\n",
       "<style scoped>\n",
       "    .dataframe tbody tr th:only-of-type {\n",
       "        vertical-align: middle;\n",
       "    }\n",
       "\n",
       "    .dataframe tbody tr th {\n",
       "        vertical-align: top;\n",
       "    }\n",
       "\n",
       "    .dataframe thead th {\n",
       "        text-align: right;\n",
       "    }\n",
       "</style>\n",
       "<table border=\"1\" class=\"dataframe\">\n",
       "  <thead>\n",
       "    <tr style=\"text-align: right;\">\n",
       "      <th></th>\n",
       "      <th>user_id</th>\n",
       "      <th>month</th>\n",
       "      <th>mb_used</th>\n",
       "      <th>gb_amount</th>\n",
       "    </tr>\n",
       "  </thead>\n",
       "  <tbody>\n",
       "    <tr>\n",
       "      <th>0</th>\n",
       "      <td>1000</td>\n",
       "      <td>5</td>\n",
       "      <td>2253.49</td>\n",
       "      <td>3.0</td>\n",
       "    </tr>\n",
       "    <tr>\n",
       "      <th>1</th>\n",
       "      <td>1000</td>\n",
       "      <td>6</td>\n",
       "      <td>23233.77</td>\n",
       "      <td>23.0</td>\n",
       "    </tr>\n",
       "    <tr>\n",
       "      <th>2</th>\n",
       "      <td>1000</td>\n",
       "      <td>7</td>\n",
       "      <td>14003.64</td>\n",
       "      <td>14.0</td>\n",
       "    </tr>\n",
       "    <tr>\n",
       "      <th>3</th>\n",
       "      <td>1000</td>\n",
       "      <td>8</td>\n",
       "      <td>14055.93</td>\n",
       "      <td>14.0</td>\n",
       "    </tr>\n",
       "    <tr>\n",
       "      <th>4</th>\n",
       "      <td>1000</td>\n",
       "      <td>9</td>\n",
       "      <td>14568.91</td>\n",
       "      <td>15.0</td>\n",
       "    </tr>\n",
       "    <tr>\n",
       "      <th>5</th>\n",
       "      <td>1000</td>\n",
       "      <td>10</td>\n",
       "      <td>14702.49</td>\n",
       "      <td>15.0</td>\n",
       "    </tr>\n",
       "    <tr>\n",
       "      <th>6</th>\n",
       "      <td>1000</td>\n",
       "      <td>11</td>\n",
       "      <td>14756.47</td>\n",
       "      <td>15.0</td>\n",
       "    </tr>\n",
       "    <tr>\n",
       "      <th>7</th>\n",
       "      <td>1000</td>\n",
       "      <td>12</td>\n",
       "      <td>9817.61</td>\n",
       "      <td>10.0</td>\n",
       "    </tr>\n",
       "    <tr>\n",
       "      <th>8</th>\n",
       "      <td>1001</td>\n",
       "      <td>11</td>\n",
       "      <td>18429.34</td>\n",
       "      <td>18.0</td>\n",
       "    </tr>\n",
       "    <tr>\n",
       "      <th>9</th>\n",
       "      <td>1001</td>\n",
       "      <td>12</td>\n",
       "      <td>14036.66</td>\n",
       "      <td>14.0</td>\n",
       "    </tr>\n",
       "  </tbody>\n",
       "</table>\n",
       "</div>"
      ],
      "text/plain": [
       "   user_id  month   mb_used  gb_amount\n",
       "0     1000      5   2253.49        3.0\n",
       "1     1000      6  23233.77       23.0\n",
       "2     1000      7  14003.64       14.0\n",
       "3     1000      8  14055.93       14.0\n",
       "4     1000      9  14568.91       15.0\n",
       "5     1000     10  14702.49       15.0\n",
       "6     1000     11  14756.47       15.0\n",
       "7     1000     12   9817.61       10.0\n",
       "8     1001     11  18429.34       18.0\n",
       "9     1001     12  14036.66       14.0"
      ]
     },
     "execution_count": 22,
     "metadata": {},
     "output_type": "execute_result"
    }
   ],
   "source": [
    "# Создаем фрейм с подсчетом потраченных мегабайт за каждый месяц.\n",
    "internet_clean = internet.groupby(['user_id','month'])['mb_used'].sum().reset_index()\n",
    "# Округлим траты за месяц до гигабайт в столбце gb_amount.\n",
    "internet_clean['gb_amount'] = np.ceil(internet_clean['mb_used']/1024)\n",
    "# Проверим, что получилось.\n",
    "internet_clean.head(10)"
   ]
  },
  {
   "cell_type": "markdown",
   "metadata": {},
   "source": [
    "<div class=\"alert alert-block alert-danger\">\n",
    "<h3> Комментарий ревьюера: Антон Оленев <a class=\"tocSkip\"/></h3>\n",
    "\n",
    "    \n",
    "<b>🤔 На доработку :</b> округлять до ближайшего Гб надо только после того, как мы посчитали весь траффик пользователя за месяц. Сейчас же получается, что мы округлили до Гб кажду сессию, даже если пользователь потратил в ней только 1 Мб.\n",
    "</div>\n",
    "    "
   ]
  },
  {
   "cell_type": "markdown",
   "metadata": {},
   "source": [
    "<div class=\"alert alert-info\">\n",
    "    <b> Комментарий студента </b>\n",
    "    \n",
    "Согласен, пропустил этот момент. Теперь должно быть верно.\n",
    "\n",
    "</div>"
   ]
  },
  {
   "cell_type": "markdown",
   "metadata": {},
   "source": [
    "<div class=\"alert alert-success\">\n",
    "    <h3> Комментарий ревьюера: Антон Оленев <a class=\"tocSkip\"> </h3>\n",
    "    \n",
    "<b>✅ Все отлично!:</b> так правильно )\n",
    "</div>"
   ]
  },
  {
   "cell_type": "markdown",
   "metadata": {},
   "source": [
    "#### Помесячная выручка"
   ]
  },
  {
   "cell_type": "markdown",
   "metadata": {},
   "source": [
    "Для подсчета помесячной выручки с каждого пользователя предварительно создадим общую таблицу, в которой будет информация о тратах каждого пользователя по месяцам: сколько совершено звонков, сколько потрачено гигабайт, минут и смс. Также добавим для пользователей информацию об их тарифе: сколько минут, смс, гигабайт входит в пакет и сколько стоит превышение.  \n",
    "Для этого поочереди \"склеим\" таблицы по столбцам user_id и month. Для слияния будем использовать метод `merge` с параметром `how=outer`, чтобы не потерять никаких значений."
   ]
  },
  {
   "cell_type": "code",
   "execution_count": 23,
   "metadata": {},
   "outputs": [
    {
     "data": {
      "text/html": [
       "<div>\n",
       "<style scoped>\n",
       "    .dataframe tbody tr th:only-of-type {\n",
       "        vertical-align: middle;\n",
       "    }\n",
       "\n",
       "    .dataframe tbody tr th {\n",
       "        vertical-align: top;\n",
       "    }\n",
       "\n",
       "    .dataframe thead th {\n",
       "        text-align: right;\n",
       "    }\n",
       "</style>\n",
       "<table border=\"1\" class=\"dataframe\">\n",
       "  <thead>\n",
       "    <tr style=\"text-align: right;\">\n",
       "      <th></th>\n",
       "      <th>user_id</th>\n",
       "      <th>month</th>\n",
       "      <th>duration</th>\n",
       "      <th>calls_amount</th>\n",
       "      <th>msgs_amount</th>\n",
       "    </tr>\n",
       "  </thead>\n",
       "  <tbody>\n",
       "    <tr>\n",
       "      <th>0</th>\n",
       "      <td>1000</td>\n",
       "      <td>5</td>\n",
       "      <td>159.0</td>\n",
       "      <td>22.0</td>\n",
       "      <td>22.0</td>\n",
       "    </tr>\n",
       "    <tr>\n",
       "      <th>1</th>\n",
       "      <td>1000</td>\n",
       "      <td>6</td>\n",
       "      <td>172.0</td>\n",
       "      <td>43.0</td>\n",
       "      <td>60.0</td>\n",
       "    </tr>\n",
       "    <tr>\n",
       "      <th>2</th>\n",
       "      <td>1000</td>\n",
       "      <td>7</td>\n",
       "      <td>340.0</td>\n",
       "      <td>47.0</td>\n",
       "      <td>75.0</td>\n",
       "    </tr>\n",
       "    <tr>\n",
       "      <th>3</th>\n",
       "      <td>1000</td>\n",
       "      <td>8</td>\n",
       "      <td>408.0</td>\n",
       "      <td>52.0</td>\n",
       "      <td>81.0</td>\n",
       "    </tr>\n",
       "    <tr>\n",
       "      <th>4</th>\n",
       "      <td>1000</td>\n",
       "      <td>9</td>\n",
       "      <td>466.0</td>\n",
       "      <td>58.0</td>\n",
       "      <td>57.0</td>\n",
       "    </tr>\n",
       "    <tr>\n",
       "      <th>5</th>\n",
       "      <td>1000</td>\n",
       "      <td>10</td>\n",
       "      <td>350.0</td>\n",
       "      <td>57.0</td>\n",
       "      <td>73.0</td>\n",
       "    </tr>\n",
       "    <tr>\n",
       "      <th>6</th>\n",
       "      <td>1000</td>\n",
       "      <td>11</td>\n",
       "      <td>338.0</td>\n",
       "      <td>43.0</td>\n",
       "      <td>58.0</td>\n",
       "    </tr>\n",
       "    <tr>\n",
       "      <th>7</th>\n",
       "      <td>1000</td>\n",
       "      <td>12</td>\n",
       "      <td>333.0</td>\n",
       "      <td>46.0</td>\n",
       "      <td>70.0</td>\n",
       "    </tr>\n",
       "    <tr>\n",
       "      <th>8</th>\n",
       "      <td>1001</td>\n",
       "      <td>11</td>\n",
       "      <td>430.0</td>\n",
       "      <td>59.0</td>\n",
       "      <td>NaN</td>\n",
       "    </tr>\n",
       "    <tr>\n",
       "      <th>9</th>\n",
       "      <td>1001</td>\n",
       "      <td>12</td>\n",
       "      <td>414.0</td>\n",
       "      <td>63.0</td>\n",
       "      <td>NaN</td>\n",
       "    </tr>\n",
       "  </tbody>\n",
       "</table>\n",
       "</div>"
      ],
      "text/plain": [
       "   user_id  month  duration  calls_amount  msgs_amount\n",
       "0     1000      5     159.0          22.0         22.0\n",
       "1     1000      6     172.0          43.0         60.0\n",
       "2     1000      7     340.0          47.0         75.0\n",
       "3     1000      8     408.0          52.0         81.0\n",
       "4     1000      9     466.0          58.0         57.0\n",
       "5     1000     10     350.0          57.0         73.0\n",
       "6     1000     11     338.0          43.0         58.0\n",
       "7     1000     12     333.0          46.0         70.0\n",
       "8     1001     11     430.0          59.0          NaN\n",
       "9     1001     12     414.0          63.0          NaN"
      ]
     },
     "execution_count": 23,
     "metadata": {},
     "output_type": "execute_result"
    }
   ],
   "source": [
    "# Сливаем calls_clean и msgs_clean.\n",
    "summary = calls_clean.merge(msgs_clean, on=['user_id', 'month'], how='outer')\n",
    "# Проверяем. \n",
    "summary.head(10)"
   ]
  },
  {
   "cell_type": "code",
   "execution_count": 24,
   "metadata": {},
   "outputs": [
    {
     "data": {
      "text/html": [
       "<div>\n",
       "<style scoped>\n",
       "    .dataframe tbody tr th:only-of-type {\n",
       "        vertical-align: middle;\n",
       "    }\n",
       "\n",
       "    .dataframe tbody tr th {\n",
       "        vertical-align: top;\n",
       "    }\n",
       "\n",
       "    .dataframe thead th {\n",
       "        text-align: right;\n",
       "    }\n",
       "</style>\n",
       "<table border=\"1\" class=\"dataframe\">\n",
       "  <thead>\n",
       "    <tr style=\"text-align: right;\">\n",
       "      <th></th>\n",
       "      <th>user_id</th>\n",
       "      <th>month</th>\n",
       "      <th>duration</th>\n",
       "      <th>calls_amount</th>\n",
       "      <th>msgs_amount</th>\n",
       "      <th>mb_used</th>\n",
       "      <th>gb_amount</th>\n",
       "    </tr>\n",
       "  </thead>\n",
       "  <tbody>\n",
       "    <tr>\n",
       "      <th>0</th>\n",
       "      <td>1000</td>\n",
       "      <td>5</td>\n",
       "      <td>159.0</td>\n",
       "      <td>22.0</td>\n",
       "      <td>22.0</td>\n",
       "      <td>2253.49</td>\n",
       "      <td>3.0</td>\n",
       "    </tr>\n",
       "    <tr>\n",
       "      <th>1</th>\n",
       "      <td>1000</td>\n",
       "      <td>6</td>\n",
       "      <td>172.0</td>\n",
       "      <td>43.0</td>\n",
       "      <td>60.0</td>\n",
       "      <td>23233.77</td>\n",
       "      <td>23.0</td>\n",
       "    </tr>\n",
       "    <tr>\n",
       "      <th>2</th>\n",
       "      <td>1000</td>\n",
       "      <td>7</td>\n",
       "      <td>340.0</td>\n",
       "      <td>47.0</td>\n",
       "      <td>75.0</td>\n",
       "      <td>14003.64</td>\n",
       "      <td>14.0</td>\n",
       "    </tr>\n",
       "    <tr>\n",
       "      <th>3</th>\n",
       "      <td>1000</td>\n",
       "      <td>8</td>\n",
       "      <td>408.0</td>\n",
       "      <td>52.0</td>\n",
       "      <td>81.0</td>\n",
       "      <td>14055.93</td>\n",
       "      <td>14.0</td>\n",
       "    </tr>\n",
       "    <tr>\n",
       "      <th>4</th>\n",
       "      <td>1000</td>\n",
       "      <td>9</td>\n",
       "      <td>466.0</td>\n",
       "      <td>58.0</td>\n",
       "      <td>57.0</td>\n",
       "      <td>14568.91</td>\n",
       "      <td>15.0</td>\n",
       "    </tr>\n",
       "    <tr>\n",
       "      <th>5</th>\n",
       "      <td>1000</td>\n",
       "      <td>10</td>\n",
       "      <td>350.0</td>\n",
       "      <td>57.0</td>\n",
       "      <td>73.0</td>\n",
       "      <td>14702.49</td>\n",
       "      <td>15.0</td>\n",
       "    </tr>\n",
       "    <tr>\n",
       "      <th>6</th>\n",
       "      <td>1000</td>\n",
       "      <td>11</td>\n",
       "      <td>338.0</td>\n",
       "      <td>43.0</td>\n",
       "      <td>58.0</td>\n",
       "      <td>14756.47</td>\n",
       "      <td>15.0</td>\n",
       "    </tr>\n",
       "    <tr>\n",
       "      <th>7</th>\n",
       "      <td>1000</td>\n",
       "      <td>12</td>\n",
       "      <td>333.0</td>\n",
       "      <td>46.0</td>\n",
       "      <td>70.0</td>\n",
       "      <td>9817.61</td>\n",
       "      <td>10.0</td>\n",
       "    </tr>\n",
       "    <tr>\n",
       "      <th>8</th>\n",
       "      <td>1001</td>\n",
       "      <td>11</td>\n",
       "      <td>430.0</td>\n",
       "      <td>59.0</td>\n",
       "      <td>NaN</td>\n",
       "      <td>18429.34</td>\n",
       "      <td>18.0</td>\n",
       "    </tr>\n",
       "    <tr>\n",
       "      <th>9</th>\n",
       "      <td>1001</td>\n",
       "      <td>12</td>\n",
       "      <td>414.0</td>\n",
       "      <td>63.0</td>\n",
       "      <td>NaN</td>\n",
       "      <td>14036.66</td>\n",
       "      <td>14.0</td>\n",
       "    </tr>\n",
       "  </tbody>\n",
       "</table>\n",
       "</div>"
      ],
      "text/plain": [
       "   user_id  month  duration  calls_amount  msgs_amount   mb_used  gb_amount\n",
       "0     1000      5     159.0          22.0         22.0   2253.49        3.0\n",
       "1     1000      6     172.0          43.0         60.0  23233.77       23.0\n",
       "2     1000      7     340.0          47.0         75.0  14003.64       14.0\n",
       "3     1000      8     408.0          52.0         81.0  14055.93       14.0\n",
       "4     1000      9     466.0          58.0         57.0  14568.91       15.0\n",
       "5     1000     10     350.0          57.0         73.0  14702.49       15.0\n",
       "6     1000     11     338.0          43.0         58.0  14756.47       15.0\n",
       "7     1000     12     333.0          46.0         70.0   9817.61       10.0\n",
       "8     1001     11     430.0          59.0          NaN  18429.34       18.0\n",
       "9     1001     12     414.0          63.0          NaN  14036.66       14.0"
      ]
     },
     "execution_count": 24,
     "metadata": {},
     "output_type": "execute_result"
    }
   ],
   "source": [
    "# Сливаем summary и internet_clean.\n",
    "summary = summary.merge(internet_clean, on=['user_id', 'month'], how='outer')\n",
    "# Проверяем. \n",
    "summary.head(10)"
   ]
  },
  {
   "cell_type": "code",
   "execution_count": 25,
   "metadata": {
    "scrolled": false
   },
   "outputs": [
    {
     "data": {
      "text/html": [
       "<div>\n",
       "<style scoped>\n",
       "    .dataframe tbody tr th:only-of-type {\n",
       "        vertical-align: middle;\n",
       "    }\n",
       "\n",
       "    .dataframe tbody tr th {\n",
       "        vertical-align: top;\n",
       "    }\n",
       "\n",
       "    .dataframe thead th {\n",
       "        text-align: right;\n",
       "    }\n",
       "</style>\n",
       "<table border=\"1\" class=\"dataframe\">\n",
       "  <thead>\n",
       "    <tr style=\"text-align: right;\">\n",
       "      <th></th>\n",
       "      <th>user_id</th>\n",
       "      <th>month</th>\n",
       "      <th>duration</th>\n",
       "      <th>calls_amount</th>\n",
       "      <th>msgs_amount</th>\n",
       "      <th>mb_used</th>\n",
       "      <th>gb_amount</th>\n",
       "      <th>tariff_name</th>\n",
       "    </tr>\n",
       "  </thead>\n",
       "  <tbody>\n",
       "    <tr>\n",
       "      <th>0</th>\n",
       "      <td>1000</td>\n",
       "      <td>5.0</td>\n",
       "      <td>159.0</td>\n",
       "      <td>22.0</td>\n",
       "      <td>22.0</td>\n",
       "      <td>2253.49</td>\n",
       "      <td>3.0</td>\n",
       "      <td>ultra</td>\n",
       "    </tr>\n",
       "    <tr>\n",
       "      <th>1</th>\n",
       "      <td>1000</td>\n",
       "      <td>6.0</td>\n",
       "      <td>172.0</td>\n",
       "      <td>43.0</td>\n",
       "      <td>60.0</td>\n",
       "      <td>23233.77</td>\n",
       "      <td>23.0</td>\n",
       "      <td>ultra</td>\n",
       "    </tr>\n",
       "    <tr>\n",
       "      <th>2</th>\n",
       "      <td>1000</td>\n",
       "      <td>7.0</td>\n",
       "      <td>340.0</td>\n",
       "      <td>47.0</td>\n",
       "      <td>75.0</td>\n",
       "      <td>14003.64</td>\n",
       "      <td>14.0</td>\n",
       "      <td>ultra</td>\n",
       "    </tr>\n",
       "    <tr>\n",
       "      <th>3</th>\n",
       "      <td>1000</td>\n",
       "      <td>8.0</td>\n",
       "      <td>408.0</td>\n",
       "      <td>52.0</td>\n",
       "      <td>81.0</td>\n",
       "      <td>14055.93</td>\n",
       "      <td>14.0</td>\n",
       "      <td>ultra</td>\n",
       "    </tr>\n",
       "    <tr>\n",
       "      <th>4</th>\n",
       "      <td>1000</td>\n",
       "      <td>9.0</td>\n",
       "      <td>466.0</td>\n",
       "      <td>58.0</td>\n",
       "      <td>57.0</td>\n",
       "      <td>14568.91</td>\n",
       "      <td>15.0</td>\n",
       "      <td>ultra</td>\n",
       "    </tr>\n",
       "  </tbody>\n",
       "</table>\n",
       "</div>"
      ],
      "text/plain": [
       "   user_id  month  duration  calls_amount  msgs_amount   mb_used  gb_amount  \\\n",
       "0     1000    5.0     159.0          22.0         22.0   2253.49        3.0   \n",
       "1     1000    6.0     172.0          43.0         60.0  23233.77       23.0   \n",
       "2     1000    7.0     340.0          47.0         75.0  14003.64       14.0   \n",
       "3     1000    8.0     408.0          52.0         81.0  14055.93       14.0   \n",
       "4     1000    9.0     466.0          58.0         57.0  14568.91       15.0   \n",
       "\n",
       "  tariff_name  \n",
       "0       ultra  \n",
       "1       ultra  \n",
       "2       ultra  \n",
       "3       ultra  \n",
       "4       ultra  "
      ]
     },
     "execution_count": 25,
     "metadata": {},
     "output_type": "execute_result"
    }
   ],
   "source": [
    "# Добавляем название тарифа к пользователям, сливая summary и users.\n",
    "summary = summary.merge(users[['user_id', 'tariff']], on='user_id', how='outer')\n",
    "# Переименуем столбец с тарифом в tariffs_name, чтобы по нему потом можно было смерджить \n",
    "# с данными о тарифе из таблицы tariffs\n",
    "summary.rename(columns={'tariff': 'tariff_name'}, inplace=True)\n",
    "# Проверяем. \n",
    "summary.head()"
   ]
  },
  {
   "cell_type": "code",
   "execution_count": 26,
   "metadata": {},
   "outputs": [
    {
     "data": {
      "text/html": [
       "<div>\n",
       "<style scoped>\n",
       "    .dataframe tbody tr th:only-of-type {\n",
       "        vertical-align: middle;\n",
       "    }\n",
       "\n",
       "    .dataframe tbody tr th {\n",
       "        vertical-align: top;\n",
       "    }\n",
       "\n",
       "    .dataframe thead th {\n",
       "        text-align: right;\n",
       "    }\n",
       "</style>\n",
       "<table border=\"1\" class=\"dataframe\">\n",
       "  <thead>\n",
       "    <tr style=\"text-align: right;\">\n",
       "      <th></th>\n",
       "      <th>user_id</th>\n",
       "      <th>month</th>\n",
       "      <th>duration</th>\n",
       "      <th>calls_amount</th>\n",
       "      <th>msgs_amount</th>\n",
       "      <th>mb_used</th>\n",
       "      <th>gb_amount</th>\n",
       "      <th>tariff_name</th>\n",
       "      <th>messages_included</th>\n",
       "      <th>mb_per_month_included</th>\n",
       "      <th>minutes_included</th>\n",
       "      <th>rub_monthly_fee</th>\n",
       "      <th>rub_per_gb</th>\n",
       "      <th>rub_per_message</th>\n",
       "      <th>rub_per_minute</th>\n",
       "    </tr>\n",
       "  </thead>\n",
       "  <tbody>\n",
       "    <tr>\n",
       "      <th>0</th>\n",
       "      <td>1000</td>\n",
       "      <td>5.0</td>\n",
       "      <td>159.0</td>\n",
       "      <td>22.0</td>\n",
       "      <td>22.0</td>\n",
       "      <td>2253.49</td>\n",
       "      <td>3.0</td>\n",
       "      <td>ultra</td>\n",
       "      <td>1000</td>\n",
       "      <td>30720</td>\n",
       "      <td>3000</td>\n",
       "      <td>1950</td>\n",
       "      <td>150</td>\n",
       "      <td>1</td>\n",
       "      <td>1</td>\n",
       "    </tr>\n",
       "    <tr>\n",
       "      <th>1</th>\n",
       "      <td>1000</td>\n",
       "      <td>6.0</td>\n",
       "      <td>172.0</td>\n",
       "      <td>43.0</td>\n",
       "      <td>60.0</td>\n",
       "      <td>23233.77</td>\n",
       "      <td>23.0</td>\n",
       "      <td>ultra</td>\n",
       "      <td>1000</td>\n",
       "      <td>30720</td>\n",
       "      <td>3000</td>\n",
       "      <td>1950</td>\n",
       "      <td>150</td>\n",
       "      <td>1</td>\n",
       "      <td>1</td>\n",
       "    </tr>\n",
       "    <tr>\n",
       "      <th>2</th>\n",
       "      <td>1000</td>\n",
       "      <td>7.0</td>\n",
       "      <td>340.0</td>\n",
       "      <td>47.0</td>\n",
       "      <td>75.0</td>\n",
       "      <td>14003.64</td>\n",
       "      <td>14.0</td>\n",
       "      <td>ultra</td>\n",
       "      <td>1000</td>\n",
       "      <td>30720</td>\n",
       "      <td>3000</td>\n",
       "      <td>1950</td>\n",
       "      <td>150</td>\n",
       "      <td>1</td>\n",
       "      <td>1</td>\n",
       "    </tr>\n",
       "    <tr>\n",
       "      <th>3</th>\n",
       "      <td>1000</td>\n",
       "      <td>8.0</td>\n",
       "      <td>408.0</td>\n",
       "      <td>52.0</td>\n",
       "      <td>81.0</td>\n",
       "      <td>14055.93</td>\n",
       "      <td>14.0</td>\n",
       "      <td>ultra</td>\n",
       "      <td>1000</td>\n",
       "      <td>30720</td>\n",
       "      <td>3000</td>\n",
       "      <td>1950</td>\n",
       "      <td>150</td>\n",
       "      <td>1</td>\n",
       "      <td>1</td>\n",
       "    </tr>\n",
       "    <tr>\n",
       "      <th>4</th>\n",
       "      <td>1000</td>\n",
       "      <td>9.0</td>\n",
       "      <td>466.0</td>\n",
       "      <td>58.0</td>\n",
       "      <td>57.0</td>\n",
       "      <td>14568.91</td>\n",
       "      <td>15.0</td>\n",
       "      <td>ultra</td>\n",
       "      <td>1000</td>\n",
       "      <td>30720</td>\n",
       "      <td>3000</td>\n",
       "      <td>1950</td>\n",
       "      <td>150</td>\n",
       "      <td>1</td>\n",
       "      <td>1</td>\n",
       "    </tr>\n",
       "  </tbody>\n",
       "</table>\n",
       "</div>"
      ],
      "text/plain": [
       "   user_id  month  duration  calls_amount  msgs_amount   mb_used  gb_amount  \\\n",
       "0     1000    5.0     159.0          22.0         22.0   2253.49        3.0   \n",
       "1     1000    6.0     172.0          43.0         60.0  23233.77       23.0   \n",
       "2     1000    7.0     340.0          47.0         75.0  14003.64       14.0   \n",
       "3     1000    8.0     408.0          52.0         81.0  14055.93       14.0   \n",
       "4     1000    9.0     466.0          58.0         57.0  14568.91       15.0   \n",
       "\n",
       "  tariff_name  messages_included  mb_per_month_included  minutes_included  \\\n",
       "0       ultra               1000                  30720              3000   \n",
       "1       ultra               1000                  30720              3000   \n",
       "2       ultra               1000                  30720              3000   \n",
       "3       ultra               1000                  30720              3000   \n",
       "4       ultra               1000                  30720              3000   \n",
       "\n",
       "   rub_monthly_fee  rub_per_gb  rub_per_message  rub_per_minute  \n",
       "0             1950         150                1               1  \n",
       "1             1950         150                1               1  \n",
       "2             1950         150                1               1  \n",
       "3             1950         150                1               1  \n",
       "4             1950         150                1               1  "
      ]
     },
     "execution_count": 26,
     "metadata": {},
     "output_type": "execute_result"
    }
   ],
   "source": [
    "# Добавляем название данные о пакетах тарифов к пользователям, сливая summary и tariffs.\n",
    "summary = summary.merge(tariffs, on='tariff_name', how='outer')\n",
    "# Проверяем. \n",
    "summary.head()"
   ]
  },
  {
   "cell_type": "markdown",
   "metadata": {},
   "source": [
    "Проверим собранную таблицу на пропуски."
   ]
  },
  {
   "cell_type": "code",
   "execution_count": 27,
   "metadata": {
    "scrolled": true
   },
   "outputs": [
    {
     "data": {
      "text/plain": [
       "user_id                    0\n",
       "month                      2\n",
       "duration                  42\n",
       "calls_amount              42\n",
       "msgs_amount              499\n",
       "mb_used                   13\n",
       "gb_amount                 13\n",
       "tariff_name                0\n",
       "messages_included          0\n",
       "mb_per_month_included      0\n",
       "minutes_included           0\n",
       "rub_monthly_fee            0\n",
       "rub_per_gb                 0\n",
       "rub_per_message            0\n",
       "rub_per_minute             0\n",
       "dtype: int64"
      ]
     },
     "execution_count": 27,
     "metadata": {},
     "output_type": "execute_result"
    }
   ],
   "source": [
    "summary.isna().sum()"
   ]
  },
  {
   "cell_type": "markdown",
   "metadata": {},
   "source": [
    "Пропуски означают, что какие-то пользователи не пользовались теми или иными услугами из пакета. Два пользователя не воспользовались вообще никакими услугами (2 пропуска в столбце month).   \n",
    "Проверим, что в общей таблице нет дубликатов. Далее заполним пропуски нулями, т.к. эти пропуски образовались из-за слияния таблиц по пользователям, которые что-то из пакета не использовали в том или ином месяце, кроме месяца - пропуски с этом столбце из-за того, что пользователи подключились только перед сбором таблиц, соответственно, месяц там - декабрь (заполним 12)."
   ]
  },
  {
   "cell_type": "code",
   "execution_count": 28,
   "metadata": {},
   "outputs": [
    {
     "data": {
      "text/plain": [
       "0"
      ]
     },
     "execution_count": 28,
     "metadata": {},
     "output_type": "execute_result"
    }
   ],
   "source": [
    "# Проверяем дубликаты.\n",
    "summary.duplicated().sum()"
   ]
  },
  {
   "cell_type": "code",
   "execution_count": 29,
   "metadata": {},
   "outputs": [
    {
     "data": {
      "text/plain": [
       "user_id                  0\n",
       "month                    0\n",
       "duration                 0\n",
       "calls_amount             0\n",
       "msgs_amount              0\n",
       "mb_used                  0\n",
       "gb_amount                0\n",
       "tariff_name              0\n",
       "messages_included        0\n",
       "mb_per_month_included    0\n",
       "minutes_included         0\n",
       "rub_monthly_fee          0\n",
       "rub_per_gb               0\n",
       "rub_per_message          0\n",
       "rub_per_minute           0\n",
       "dtype: int64"
      ]
     },
     "execution_count": 29,
     "metadata": {},
     "output_type": "execute_result"
    }
   ],
   "source": [
    "# Заполняем пропуски в month значением 12\n",
    "summary['month'].fillna(12, inplace=True)\n",
    "# Заполняем остальные пропуски нулями.\n",
    "summary.fillna(0, inplace=True)\n",
    "# Проверяем. \n",
    "summary.isna().sum()"
   ]
  },
  {
   "cell_type": "code",
   "execution_count": 30,
   "metadata": {
    "scrolled": true
   },
   "outputs": [
    {
     "data": {
      "text/html": [
       "<div>\n",
       "<style scoped>\n",
       "    .dataframe tbody tr th:only-of-type {\n",
       "        vertical-align: middle;\n",
       "    }\n",
       "\n",
       "    .dataframe tbody tr th {\n",
       "        vertical-align: top;\n",
       "    }\n",
       "\n",
       "    .dataframe thead th {\n",
       "        text-align: right;\n",
       "    }\n",
       "</style>\n",
       "<table border=\"1\" class=\"dataframe\">\n",
       "  <thead>\n",
       "    <tr style=\"text-align: right;\">\n",
       "      <th></th>\n",
       "      <th>user_id</th>\n",
       "      <th>month</th>\n",
       "      <th>duration</th>\n",
       "      <th>calls_amount</th>\n",
       "      <th>msgs_amount</th>\n",
       "      <th>mb_used</th>\n",
       "      <th>gb_amount</th>\n",
       "      <th>tariff_name</th>\n",
       "      <th>messages_included</th>\n",
       "      <th>mb_per_month_included</th>\n",
       "      <th>minutes_included</th>\n",
       "      <th>rub_monthly_fee</th>\n",
       "      <th>rub_per_gb</th>\n",
       "      <th>rub_per_message</th>\n",
       "      <th>rub_per_minute</th>\n",
       "    </tr>\n",
       "  </thead>\n",
       "  <tbody>\n",
       "    <tr>\n",
       "      <th>0</th>\n",
       "      <td>1000</td>\n",
       "      <td>5.0</td>\n",
       "      <td>159.0</td>\n",
       "      <td>22.0</td>\n",
       "      <td>22.0</td>\n",
       "      <td>2253.49</td>\n",
       "      <td>3.0</td>\n",
       "      <td>ultra</td>\n",
       "      <td>1000</td>\n",
       "      <td>30720</td>\n",
       "      <td>3000</td>\n",
       "      <td>1950</td>\n",
       "      <td>150</td>\n",
       "      <td>1</td>\n",
       "      <td>1</td>\n",
       "    </tr>\n",
       "    <tr>\n",
       "      <th>1</th>\n",
       "      <td>1000</td>\n",
       "      <td>6.0</td>\n",
       "      <td>172.0</td>\n",
       "      <td>43.0</td>\n",
       "      <td>60.0</td>\n",
       "      <td>23233.77</td>\n",
       "      <td>23.0</td>\n",
       "      <td>ultra</td>\n",
       "      <td>1000</td>\n",
       "      <td>30720</td>\n",
       "      <td>3000</td>\n",
       "      <td>1950</td>\n",
       "      <td>150</td>\n",
       "      <td>1</td>\n",
       "      <td>1</td>\n",
       "    </tr>\n",
       "    <tr>\n",
       "      <th>2</th>\n",
       "      <td>1000</td>\n",
       "      <td>7.0</td>\n",
       "      <td>340.0</td>\n",
       "      <td>47.0</td>\n",
       "      <td>75.0</td>\n",
       "      <td>14003.64</td>\n",
       "      <td>14.0</td>\n",
       "      <td>ultra</td>\n",
       "      <td>1000</td>\n",
       "      <td>30720</td>\n",
       "      <td>3000</td>\n",
       "      <td>1950</td>\n",
       "      <td>150</td>\n",
       "      <td>1</td>\n",
       "      <td>1</td>\n",
       "    </tr>\n",
       "    <tr>\n",
       "      <th>3</th>\n",
       "      <td>1000</td>\n",
       "      <td>8.0</td>\n",
       "      <td>408.0</td>\n",
       "      <td>52.0</td>\n",
       "      <td>81.0</td>\n",
       "      <td>14055.93</td>\n",
       "      <td>14.0</td>\n",
       "      <td>ultra</td>\n",
       "      <td>1000</td>\n",
       "      <td>30720</td>\n",
       "      <td>3000</td>\n",
       "      <td>1950</td>\n",
       "      <td>150</td>\n",
       "      <td>1</td>\n",
       "      <td>1</td>\n",
       "    </tr>\n",
       "    <tr>\n",
       "      <th>4</th>\n",
       "      <td>1000</td>\n",
       "      <td>9.0</td>\n",
       "      <td>466.0</td>\n",
       "      <td>58.0</td>\n",
       "      <td>57.0</td>\n",
       "      <td>14568.91</td>\n",
       "      <td>15.0</td>\n",
       "      <td>ultra</td>\n",
       "      <td>1000</td>\n",
       "      <td>30720</td>\n",
       "      <td>3000</td>\n",
       "      <td>1950</td>\n",
       "      <td>150</td>\n",
       "      <td>1</td>\n",
       "      <td>1</td>\n",
       "    </tr>\n",
       "    <tr>\n",
       "      <th>5</th>\n",
       "      <td>1000</td>\n",
       "      <td>10.0</td>\n",
       "      <td>350.0</td>\n",
       "      <td>57.0</td>\n",
       "      <td>73.0</td>\n",
       "      <td>14702.49</td>\n",
       "      <td>15.0</td>\n",
       "      <td>ultra</td>\n",
       "      <td>1000</td>\n",
       "      <td>30720</td>\n",
       "      <td>3000</td>\n",
       "      <td>1950</td>\n",
       "      <td>150</td>\n",
       "      <td>1</td>\n",
       "      <td>1</td>\n",
       "    </tr>\n",
       "    <tr>\n",
       "      <th>6</th>\n",
       "      <td>1000</td>\n",
       "      <td>11.0</td>\n",
       "      <td>338.0</td>\n",
       "      <td>43.0</td>\n",
       "      <td>58.0</td>\n",
       "      <td>14756.47</td>\n",
       "      <td>15.0</td>\n",
       "      <td>ultra</td>\n",
       "      <td>1000</td>\n",
       "      <td>30720</td>\n",
       "      <td>3000</td>\n",
       "      <td>1950</td>\n",
       "      <td>150</td>\n",
       "      <td>1</td>\n",
       "      <td>1</td>\n",
       "    </tr>\n",
       "    <tr>\n",
       "      <th>7</th>\n",
       "      <td>1000</td>\n",
       "      <td>12.0</td>\n",
       "      <td>333.0</td>\n",
       "      <td>46.0</td>\n",
       "      <td>70.0</td>\n",
       "      <td>9817.61</td>\n",
       "      <td>10.0</td>\n",
       "      <td>ultra</td>\n",
       "      <td>1000</td>\n",
       "      <td>30720</td>\n",
       "      <td>3000</td>\n",
       "      <td>1950</td>\n",
       "      <td>150</td>\n",
       "      <td>1</td>\n",
       "      <td>1</td>\n",
       "    </tr>\n",
       "    <tr>\n",
       "      <th>8</th>\n",
       "      <td>1003</td>\n",
       "      <td>8.0</td>\n",
       "      <td>380.0</td>\n",
       "      <td>55.0</td>\n",
       "      <td>37.0</td>\n",
       "      <td>8565.21</td>\n",
       "      <td>9.0</td>\n",
       "      <td>ultra</td>\n",
       "      <td>1000</td>\n",
       "      <td>30720</td>\n",
       "      <td>3000</td>\n",
       "      <td>1950</td>\n",
       "      <td>150</td>\n",
       "      <td>1</td>\n",
       "      <td>1</td>\n",
       "    </tr>\n",
       "    <tr>\n",
       "      <th>9</th>\n",
       "      <td>1003</td>\n",
       "      <td>9.0</td>\n",
       "      <td>961.0</td>\n",
       "      <td>134.0</td>\n",
       "      <td>91.0</td>\n",
       "      <td>12468.87</td>\n",
       "      <td>13.0</td>\n",
       "      <td>ultra</td>\n",
       "      <td>1000</td>\n",
       "      <td>30720</td>\n",
       "      <td>3000</td>\n",
       "      <td>1950</td>\n",
       "      <td>150</td>\n",
       "      <td>1</td>\n",
       "      <td>1</td>\n",
       "    </tr>\n",
       "  </tbody>\n",
       "</table>\n",
       "</div>"
      ],
      "text/plain": [
       "   user_id  month  duration  calls_amount  msgs_amount   mb_used  gb_amount  \\\n",
       "0     1000    5.0     159.0          22.0         22.0   2253.49        3.0   \n",
       "1     1000    6.0     172.0          43.0         60.0  23233.77       23.0   \n",
       "2     1000    7.0     340.0          47.0         75.0  14003.64       14.0   \n",
       "3     1000    8.0     408.0          52.0         81.0  14055.93       14.0   \n",
       "4     1000    9.0     466.0          58.0         57.0  14568.91       15.0   \n",
       "5     1000   10.0     350.0          57.0         73.0  14702.49       15.0   \n",
       "6     1000   11.0     338.0          43.0         58.0  14756.47       15.0   \n",
       "7     1000   12.0     333.0          46.0         70.0   9817.61       10.0   \n",
       "8     1003    8.0     380.0          55.0         37.0   8565.21        9.0   \n",
       "9     1003    9.0     961.0         134.0         91.0  12468.87       13.0   \n",
       "\n",
       "  tariff_name  messages_included  mb_per_month_included  minutes_included  \\\n",
       "0       ultra               1000                  30720              3000   \n",
       "1       ultra               1000                  30720              3000   \n",
       "2       ultra               1000                  30720              3000   \n",
       "3       ultra               1000                  30720              3000   \n",
       "4       ultra               1000                  30720              3000   \n",
       "5       ultra               1000                  30720              3000   \n",
       "6       ultra               1000                  30720              3000   \n",
       "7       ultra               1000                  30720              3000   \n",
       "8       ultra               1000                  30720              3000   \n",
       "9       ultra               1000                  30720              3000   \n",
       "\n",
       "   rub_monthly_fee  rub_per_gb  rub_per_message  rub_per_minute  \n",
       "0             1950         150                1               1  \n",
       "1             1950         150                1               1  \n",
       "2             1950         150                1               1  \n",
       "3             1950         150                1               1  \n",
       "4             1950         150                1               1  \n",
       "5             1950         150                1               1  \n",
       "6             1950         150                1               1  \n",
       "7             1950         150                1               1  \n",
       "8             1950         150                1               1  \n",
       "9             1950         150                1               1  "
      ]
     },
     "execution_count": 30,
     "metadata": {},
     "output_type": "execute_result"
    }
   ],
   "source": [
    "# Просмотрим получившуюся таблицу.\n",
    "summary.head(10)"
   ]
  },
  {
   "cell_type": "markdown",
   "metadata": {},
   "source": [
    "<div class=\"alert alert-block alert-danger\">\n",
    "<h3> Комментарий ревьюера: Антон Оленев <a class=\"tocSkip\"/></h3>\n",
    "\n",
    "    \n",
    "<b>🤔 На доработку :</b> чтобы не писать весь этот код, или на случай если тарифов станет например 10 или 100, можно сделать merge таблицы summary с таблицей tarrifs, тогда для каждой записи в summary в той же строке будут все нужные данные по тарифу\n",
    "</div>\n",
    "    "
   ]
  },
  {
   "cell_type": "markdown",
   "metadata": {},
   "source": [
    "<div class=\"alert alert-info\">\n",
    "    <b> Комментарий студента </b>\n",
    "    \n",
    "Да, была мысль такая, но не хотел нагружать получившуюся таблицу, т.к. для каждого пользователя получается избыток данных (начиная со столбца с именем тарифа для каждого пользователя инфа повторяется).  \n",
    "    Удалил\n",
    "\n",
    "</div>"
   ]
  },
  {
   "cell_type": "markdown",
   "metadata": {},
   "source": [
    "Для подсчета помесячной выручки создадим функцию, которая будет высчитывать выручку."
   ]
  },
  {
   "cell_type": "code",
   "execution_count": 31,
   "metadata": {},
   "outputs": [],
   "source": [
    "# Создаем функцию для строки.\n",
    "def calc_invoice(row):\n",
    "    # Выставляем чек за пользование тарифом\n",
    "    invoice = row['rub_monthly_fee']\n",
    "    invoice += np.maximum(row['duration'] - row['minutes_included'], 0)*row['rub_per_minute']\n",
    "    invoice += np.maximum(row['msgs_amount'] - row['messages_included'], 0)*row['rub_per_message']\n",
    "    invoice += np.maximum(row['gb_amount'] - row['mb_per_month_included']/1024, 0)*row['rub_per_gb']\n",
    "    return invoice"
   ]
  },
  {
   "cell_type": "code",
   "execution_count": 32,
   "metadata": {
    "scrolled": true
   },
   "outputs": [
    {
     "data": {
      "text/html": [
       "<div>\n",
       "<style scoped>\n",
       "    .dataframe tbody tr th:only-of-type {\n",
       "        vertical-align: middle;\n",
       "    }\n",
       "\n",
       "    .dataframe tbody tr th {\n",
       "        vertical-align: top;\n",
       "    }\n",
       "\n",
       "    .dataframe thead th {\n",
       "        text-align: right;\n",
       "    }\n",
       "</style>\n",
       "<table border=\"1\" class=\"dataframe\">\n",
       "  <thead>\n",
       "    <tr style=\"text-align: right;\">\n",
       "      <th></th>\n",
       "      <th>user_id</th>\n",
       "      <th>month</th>\n",
       "      <th>duration</th>\n",
       "      <th>calls_amount</th>\n",
       "      <th>msgs_amount</th>\n",
       "      <th>mb_used</th>\n",
       "      <th>gb_amount</th>\n",
       "      <th>tariff_name</th>\n",
       "      <th>messages_included</th>\n",
       "      <th>mb_per_month_included</th>\n",
       "      <th>minutes_included</th>\n",
       "      <th>rub_monthly_fee</th>\n",
       "      <th>rub_per_gb</th>\n",
       "      <th>rub_per_message</th>\n",
       "      <th>rub_per_minute</th>\n",
       "      <th>invoice</th>\n",
       "    </tr>\n",
       "  </thead>\n",
       "  <tbody>\n",
       "    <tr>\n",
       "      <th>0</th>\n",
       "      <td>1000</td>\n",
       "      <td>5.0</td>\n",
       "      <td>159.0</td>\n",
       "      <td>22.0</td>\n",
       "      <td>22.0</td>\n",
       "      <td>2253.49</td>\n",
       "      <td>3.0</td>\n",
       "      <td>ultra</td>\n",
       "      <td>1000</td>\n",
       "      <td>30720</td>\n",
       "      <td>3000</td>\n",
       "      <td>1950</td>\n",
       "      <td>150</td>\n",
       "      <td>1</td>\n",
       "      <td>1</td>\n",
       "      <td>1950.0</td>\n",
       "    </tr>\n",
       "    <tr>\n",
       "      <th>1</th>\n",
       "      <td>1000</td>\n",
       "      <td>6.0</td>\n",
       "      <td>172.0</td>\n",
       "      <td>43.0</td>\n",
       "      <td>60.0</td>\n",
       "      <td>23233.77</td>\n",
       "      <td>23.0</td>\n",
       "      <td>ultra</td>\n",
       "      <td>1000</td>\n",
       "      <td>30720</td>\n",
       "      <td>3000</td>\n",
       "      <td>1950</td>\n",
       "      <td>150</td>\n",
       "      <td>1</td>\n",
       "      <td>1</td>\n",
       "      <td>1950.0</td>\n",
       "    </tr>\n",
       "    <tr>\n",
       "      <th>2</th>\n",
       "      <td>1000</td>\n",
       "      <td>7.0</td>\n",
       "      <td>340.0</td>\n",
       "      <td>47.0</td>\n",
       "      <td>75.0</td>\n",
       "      <td>14003.64</td>\n",
       "      <td>14.0</td>\n",
       "      <td>ultra</td>\n",
       "      <td>1000</td>\n",
       "      <td>30720</td>\n",
       "      <td>3000</td>\n",
       "      <td>1950</td>\n",
       "      <td>150</td>\n",
       "      <td>1</td>\n",
       "      <td>1</td>\n",
       "      <td>1950.0</td>\n",
       "    </tr>\n",
       "    <tr>\n",
       "      <th>3</th>\n",
       "      <td>1000</td>\n",
       "      <td>8.0</td>\n",
       "      <td>408.0</td>\n",
       "      <td>52.0</td>\n",
       "      <td>81.0</td>\n",
       "      <td>14055.93</td>\n",
       "      <td>14.0</td>\n",
       "      <td>ultra</td>\n",
       "      <td>1000</td>\n",
       "      <td>30720</td>\n",
       "      <td>3000</td>\n",
       "      <td>1950</td>\n",
       "      <td>150</td>\n",
       "      <td>1</td>\n",
       "      <td>1</td>\n",
       "      <td>1950.0</td>\n",
       "    </tr>\n",
       "    <tr>\n",
       "      <th>4</th>\n",
       "      <td>1000</td>\n",
       "      <td>9.0</td>\n",
       "      <td>466.0</td>\n",
       "      <td>58.0</td>\n",
       "      <td>57.0</td>\n",
       "      <td>14568.91</td>\n",
       "      <td>15.0</td>\n",
       "      <td>ultra</td>\n",
       "      <td>1000</td>\n",
       "      <td>30720</td>\n",
       "      <td>3000</td>\n",
       "      <td>1950</td>\n",
       "      <td>150</td>\n",
       "      <td>1</td>\n",
       "      <td>1</td>\n",
       "      <td>1950.0</td>\n",
       "    </tr>\n",
       "    <tr>\n",
       "      <th>5</th>\n",
       "      <td>1000</td>\n",
       "      <td>10.0</td>\n",
       "      <td>350.0</td>\n",
       "      <td>57.0</td>\n",
       "      <td>73.0</td>\n",
       "      <td>14702.49</td>\n",
       "      <td>15.0</td>\n",
       "      <td>ultra</td>\n",
       "      <td>1000</td>\n",
       "      <td>30720</td>\n",
       "      <td>3000</td>\n",
       "      <td>1950</td>\n",
       "      <td>150</td>\n",
       "      <td>1</td>\n",
       "      <td>1</td>\n",
       "      <td>1950.0</td>\n",
       "    </tr>\n",
       "    <tr>\n",
       "      <th>6</th>\n",
       "      <td>1000</td>\n",
       "      <td>11.0</td>\n",
       "      <td>338.0</td>\n",
       "      <td>43.0</td>\n",
       "      <td>58.0</td>\n",
       "      <td>14756.47</td>\n",
       "      <td>15.0</td>\n",
       "      <td>ultra</td>\n",
       "      <td>1000</td>\n",
       "      <td>30720</td>\n",
       "      <td>3000</td>\n",
       "      <td>1950</td>\n",
       "      <td>150</td>\n",
       "      <td>1</td>\n",
       "      <td>1</td>\n",
       "      <td>1950.0</td>\n",
       "    </tr>\n",
       "    <tr>\n",
       "      <th>7</th>\n",
       "      <td>1000</td>\n",
       "      <td>12.0</td>\n",
       "      <td>333.0</td>\n",
       "      <td>46.0</td>\n",
       "      <td>70.0</td>\n",
       "      <td>9817.61</td>\n",
       "      <td>10.0</td>\n",
       "      <td>ultra</td>\n",
       "      <td>1000</td>\n",
       "      <td>30720</td>\n",
       "      <td>3000</td>\n",
       "      <td>1950</td>\n",
       "      <td>150</td>\n",
       "      <td>1</td>\n",
       "      <td>1</td>\n",
       "      <td>1950.0</td>\n",
       "    </tr>\n",
       "    <tr>\n",
       "      <th>8</th>\n",
       "      <td>1003</td>\n",
       "      <td>8.0</td>\n",
       "      <td>380.0</td>\n",
       "      <td>55.0</td>\n",
       "      <td>37.0</td>\n",
       "      <td>8565.21</td>\n",
       "      <td>9.0</td>\n",
       "      <td>ultra</td>\n",
       "      <td>1000</td>\n",
       "      <td>30720</td>\n",
       "      <td>3000</td>\n",
       "      <td>1950</td>\n",
       "      <td>150</td>\n",
       "      <td>1</td>\n",
       "      <td>1</td>\n",
       "      <td>1950.0</td>\n",
       "    </tr>\n",
       "    <tr>\n",
       "      <th>9</th>\n",
       "      <td>1003</td>\n",
       "      <td>9.0</td>\n",
       "      <td>961.0</td>\n",
       "      <td>134.0</td>\n",
       "      <td>91.0</td>\n",
       "      <td>12468.87</td>\n",
       "      <td>13.0</td>\n",
       "      <td>ultra</td>\n",
       "      <td>1000</td>\n",
       "      <td>30720</td>\n",
       "      <td>3000</td>\n",
       "      <td>1950</td>\n",
       "      <td>150</td>\n",
       "      <td>1</td>\n",
       "      <td>1</td>\n",
       "      <td>1950.0</td>\n",
       "    </tr>\n",
       "  </tbody>\n",
       "</table>\n",
       "</div>"
      ],
      "text/plain": [
       "   user_id  month  duration  calls_amount  msgs_amount   mb_used  gb_amount  \\\n",
       "0     1000    5.0     159.0          22.0         22.0   2253.49        3.0   \n",
       "1     1000    6.0     172.0          43.0         60.0  23233.77       23.0   \n",
       "2     1000    7.0     340.0          47.0         75.0  14003.64       14.0   \n",
       "3     1000    8.0     408.0          52.0         81.0  14055.93       14.0   \n",
       "4     1000    9.0     466.0          58.0         57.0  14568.91       15.0   \n",
       "5     1000   10.0     350.0          57.0         73.0  14702.49       15.0   \n",
       "6     1000   11.0     338.0          43.0         58.0  14756.47       15.0   \n",
       "7     1000   12.0     333.0          46.0         70.0   9817.61       10.0   \n",
       "8     1003    8.0     380.0          55.0         37.0   8565.21        9.0   \n",
       "9     1003    9.0     961.0         134.0         91.0  12468.87       13.0   \n",
       "\n",
       "  tariff_name  messages_included  mb_per_month_included  minutes_included  \\\n",
       "0       ultra               1000                  30720              3000   \n",
       "1       ultra               1000                  30720              3000   \n",
       "2       ultra               1000                  30720              3000   \n",
       "3       ultra               1000                  30720              3000   \n",
       "4       ultra               1000                  30720              3000   \n",
       "5       ultra               1000                  30720              3000   \n",
       "6       ultra               1000                  30720              3000   \n",
       "7       ultra               1000                  30720              3000   \n",
       "8       ultra               1000                  30720              3000   \n",
       "9       ultra               1000                  30720              3000   \n",
       "\n",
       "   rub_monthly_fee  rub_per_gb  rub_per_message  rub_per_minute  invoice  \n",
       "0             1950         150                1               1   1950.0  \n",
       "1             1950         150                1               1   1950.0  \n",
       "2             1950         150                1               1   1950.0  \n",
       "3             1950         150                1               1   1950.0  \n",
       "4             1950         150                1               1   1950.0  \n",
       "5             1950         150                1               1   1950.0  \n",
       "6             1950         150                1               1   1950.0  \n",
       "7             1950         150                1               1   1950.0  \n",
       "8             1950         150                1               1   1950.0  \n",
       "9             1950         150                1               1   1950.0  "
      ]
     },
     "execution_count": 32,
     "metadata": {},
     "output_type": "execute_result"
    }
   ],
   "source": [
    "# Применяем функцию к строкам summary, создавая колонку invoice\n",
    "summary['invoice'] = summary.apply(calc_invoice, axis=1)\n",
    "# Проверим фрейм.\n",
    "summary.head(10)"
   ]
  },
  {
   "cell_type": "markdown",
   "metadata": {},
   "source": [
    "<div class=\"alert alert-block alert-danger\">\n",
    "<h3> Комментарий ревьюера: Антон Оленев <a class=\"tocSkip\"/></h3>\n",
    "\n",
    "    \n",
    "<b>🤔 На доработку :</b> если применить прием с объединением с таблицей tarrifs, то в функции calc_invoice станут не нужными if.. else констуркции, и можно будет высчитать нужные данные через row['gb_used'] * row['rub_per_gb'] например.\n",
    "</div>\n",
    "    "
   ]
  },
  {
   "cell_type": "markdown",
   "metadata": {},
   "source": [
    "<div class=\"alert alert-info\">\n",
    "    <b> Комментарий студента </b>\n",
    "    \n",
    "Переписал, но без if не получилось, потому что нужно проверить вышел ли пользователь за рамки пакета. И прибавлять только если вышел.  \n",
    "Но стало короче, несомненно.\n",
    "\n",
    "</div>"
   ]
  },
  {
   "cell_type": "markdown",
   "metadata": {},
   "source": [
    "<div class=\"alert alert-success\">\n",
    "    <h3> Комментарий ревьюера V2: Антон Оленев <a class=\"tocSkip\"> </h3>\n",
    "    \n",
    "<b>✅ Все отлично!:</b> да, стало гораздо лушче. Можно использовать функцию \n",
    "        \n",
    "        np.maximum(row['duration'] - row['minutes_included'],0)*row['rub_per_minute']\n",
    "        \n",
    "Тогда if исчезнут совсем, но это уже опционально )\n",
    "</div>"
   ]
  },
  {
   "cell_type": "markdown",
   "metadata": {},
   "source": [
    "### Выводы"
   ]
  },
  {
   "cell_type": "markdown",
   "metadata": {},
   "source": [
    "На этапе предобработки мы произвели:\n",
    "* приведение дат к типу `datetime`;\n",
    "* удаление лишнего столбца из `internet`;\n",
    "* проверили исходные таблицы на дубликаты;\n",
    "* добавили в \"чистые\" таблицы для каждого пользователя:\n",
    "    * количество звонков и потраченных минут за каждый месяц;\n",
    "    * количество отправленных смс за каждый месяц;\n",
    "    * объем потраченного трафика за каждый месяц;\n",
    "* свели все данные в одну таблицу `summary`;\n",
    "* добавили в таблицу `summary` столбец для каждого пользователя с месячным чеком (`invoice`).  \n",
    "\n",
    "Далее необходимо проанализировать полученные данные. Перейдем к анализу данных.\n"
   ]
  },
  {
   "cell_type": "markdown",
   "metadata": {},
   "source": [
    "## Анализ данных"
   ]
  },
  {
   "cell_type": "markdown",
   "metadata": {},
   "source": [
    "На данном этапе необходимо описать поведение клиентов оператора, исходя из выборки и ответить на вопросы: сколько минут разговора, сколько сообщений и какой объём интернет-трафика требуется пользователям каждого тарифа в месяц?  \n",
    "Посчитаем среднее количество, дисперсию и стандартное отклонение для этих данных.  \n",
    "Построим графики и опишем распределения.\n",
    "\n",
    "Для ответа на вопросы сгруппируем таблицу из таблицы `summary` по столбцам `tariff_name` и `month`. После этого применим к столбцам `duration`, `msgs_amount` и `gb_used` функции `mean` (подсчет среднего), `std` (подсчет стандартного отклонения) и `var` (подсчет дисперсии)."
   ]
  },
  {
   "cell_type": "markdown",
   "metadata": {},
   "source": [
    "### Формирование таблицы со средним, std и дисперсией"
   ]
  },
  {
   "cell_type": "code",
   "execution_count": 33,
   "metadata": {},
   "outputs": [
    {
     "data": {
      "text/html": [
       "<div>\n",
       "<style scoped>\n",
       "    .dataframe tbody tr th:only-of-type {\n",
       "        vertical-align: middle;\n",
       "    }\n",
       "\n",
       "    .dataframe tbody tr th {\n",
       "        vertical-align: top;\n",
       "    }\n",
       "\n",
       "    .dataframe thead tr th {\n",
       "        text-align: left;\n",
       "    }\n",
       "</style>\n",
       "<table border=\"1\" class=\"dataframe\">\n",
       "  <thead>\n",
       "    <tr>\n",
       "      <th></th>\n",
       "      <th>tariff_name</th>\n",
       "      <th>month</th>\n",
       "      <th colspan=\"3\" halign=\"left\">duration</th>\n",
       "      <th colspan=\"3\" halign=\"left\">msgs_amount</th>\n",
       "      <th colspan=\"3\" halign=\"left\">gb_amount</th>\n",
       "    </tr>\n",
       "    <tr>\n",
       "      <th></th>\n",
       "      <th></th>\n",
       "      <th></th>\n",
       "      <th>mean</th>\n",
       "      <th>std</th>\n",
       "      <th>var</th>\n",
       "      <th>mean</th>\n",
       "      <th>std</th>\n",
       "      <th>var</th>\n",
       "      <th>mean</th>\n",
       "      <th>std</th>\n",
       "      <th>var</th>\n",
       "    </tr>\n",
       "  </thead>\n",
       "  <tbody>\n",
       "    <tr>\n",
       "      <th>0</th>\n",
       "      <td>smart</td>\n",
       "      <td>1.0</td>\n",
       "      <td>203.852941</td>\n",
       "      <td>154.231454</td>\n",
       "      <td>23787.341355</td>\n",
       "      <td>18.235294</td>\n",
       "      <td>16.197753</td>\n",
       "      <td>262.367201</td>\n",
       "      <td>8.735294</td>\n",
       "      <td>6.277950</td>\n",
       "      <td>39.412656</td>\n",
       "    </tr>\n",
       "    <tr>\n",
       "      <th>1</th>\n",
       "      <td>smart</td>\n",
       "      <td>2.0</td>\n",
       "      <td>298.689655</td>\n",
       "      <td>190.820041</td>\n",
       "      <td>36412.287961</td>\n",
       "      <td>24.086207</td>\n",
       "      <td>21.750809</td>\n",
       "      <td>473.097701</td>\n",
       "      <td>11.844828</td>\n",
       "      <td>6.095157</td>\n",
       "      <td>37.150938</td>\n",
       "    </tr>\n",
       "    <tr>\n",
       "      <th>2</th>\n",
       "      <td>smart</td>\n",
       "      <td>3.0</td>\n",
       "      <td>390.051948</td>\n",
       "      <td>191.893604</td>\n",
       "      <td>36823.155161</td>\n",
       "      <td>31.857143</td>\n",
       "      <td>26.804710</td>\n",
       "      <td>718.492481</td>\n",
       "      <td>15.233766</td>\n",
       "      <td>5.705252</td>\n",
       "      <td>32.549897</td>\n",
       "    </tr>\n",
       "    <tr>\n",
       "      <th>3</th>\n",
       "      <td>smart</td>\n",
       "      <td>4.0</td>\n",
       "      <td>367.133929</td>\n",
       "      <td>186.489161</td>\n",
       "      <td>34778.207127</td>\n",
       "      <td>30.741071</td>\n",
       "      <td>24.538532</td>\n",
       "      <td>602.139559</td>\n",
       "      <td>13.625000</td>\n",
       "      <td>5.594600</td>\n",
       "      <td>31.299550</td>\n",
       "    </tr>\n",
       "    <tr>\n",
       "      <th>4</th>\n",
       "      <td>smart</td>\n",
       "      <td>5.0</td>\n",
       "      <td>387.361702</td>\n",
       "      <td>186.601343</td>\n",
       "      <td>34820.061094</td>\n",
       "      <td>33.773050</td>\n",
       "      <td>27.036845</td>\n",
       "      <td>730.990983</td>\n",
       "      <td>15.907801</td>\n",
       "      <td>5.862594</td>\n",
       "      <td>34.370010</td>\n",
       "    </tr>\n",
       "    <tr>\n",
       "      <th>5</th>\n",
       "      <td>smart</td>\n",
       "      <td>6.0</td>\n",
       "      <td>395.640244</td>\n",
       "      <td>175.336587</td>\n",
       "      <td>30742.918861</td>\n",
       "      <td>33.402439</td>\n",
       "      <td>28.404337</td>\n",
       "      <td>806.806374</td>\n",
       "      <td>15.951220</td>\n",
       "      <td>5.649046</td>\n",
       "      <td>31.911716</td>\n",
       "    </tr>\n",
       "    <tr>\n",
       "      <th>6</th>\n",
       "      <td>smart</td>\n",
       "      <td>7.0</td>\n",
       "      <td>408.353234</td>\n",
       "      <td>179.583601</td>\n",
       "      <td>32250.269602</td>\n",
       "      <td>33.751244</td>\n",
       "      <td>28.282288</td>\n",
       "      <td>799.887811</td>\n",
       "      <td>15.875622</td>\n",
       "      <td>5.780956</td>\n",
       "      <td>33.419453</td>\n",
       "    </tr>\n",
       "    <tr>\n",
       "      <th>7</th>\n",
       "      <td>smart</td>\n",
       "      <td>8.0</td>\n",
       "      <td>421.468085</td>\n",
       "      <td>186.530382</td>\n",
       "      <td>34793.583379</td>\n",
       "      <td>33.638298</td>\n",
       "      <td>28.952677</td>\n",
       "      <td>838.257501</td>\n",
       "      <td>16.736170</td>\n",
       "      <td>5.480986</td>\n",
       "      <td>30.041207</td>\n",
       "    </tr>\n",
       "    <tr>\n",
       "      <th>8</th>\n",
       "      <td>smart</td>\n",
       "      <td>9.0</td>\n",
       "      <td>428.611538</td>\n",
       "      <td>183.126576</td>\n",
       "      <td>33535.342723</td>\n",
       "      <td>33.638462</td>\n",
       "      <td>28.117927</td>\n",
       "      <td>790.617820</td>\n",
       "      <td>16.392308</td>\n",
       "      <td>5.087643</td>\n",
       "      <td>25.884110</td>\n",
       "    </tr>\n",
       "    <tr>\n",
       "      <th>9</th>\n",
       "      <td>smart</td>\n",
       "      <td>10.0</td>\n",
       "      <td>426.136054</td>\n",
       "      <td>188.128510</td>\n",
       "      <td>35392.336375</td>\n",
       "      <td>33.765306</td>\n",
       "      <td>28.567673</td>\n",
       "      <td>816.111966</td>\n",
       "      <td>16.880952</td>\n",
       "      <td>5.735594</td>\n",
       "      <td>32.897042</td>\n",
       "    </tr>\n",
       "    <tr>\n",
       "      <th>10</th>\n",
       "      <td>smart</td>\n",
       "      <td>11.0</td>\n",
       "      <td>435.265823</td>\n",
       "      <td>177.778618</td>\n",
       "      <td>31605.237050</td>\n",
       "      <td>34.075949</td>\n",
       "      <td>28.389031</td>\n",
       "      <td>805.937071</td>\n",
       "      <td>17.000000</td>\n",
       "      <td>5.213535</td>\n",
       "      <td>27.180952</td>\n",
       "    </tr>\n",
       "    <tr>\n",
       "      <th>11</th>\n",
       "      <td>smart</td>\n",
       "      <td>12.0</td>\n",
       "      <td>477.144970</td>\n",
       "      <td>200.644953</td>\n",
       "      <td>40258.397319</td>\n",
       "      <td>35.887574</td>\n",
       "      <td>30.594298</td>\n",
       "      <td>936.011062</td>\n",
       "      <td>18.147929</td>\n",
       "      <td>5.538804</td>\n",
       "      <td>30.678349</td>\n",
       "    </tr>\n",
       "    <tr>\n",
       "      <th>12</th>\n",
       "      <td>ultra</td>\n",
       "      <td>1.0</td>\n",
       "      <td>428.111111</td>\n",
       "      <td>269.757968</td>\n",
       "      <td>72769.361111</td>\n",
       "      <td>33.777778</td>\n",
       "      <td>30.670742</td>\n",
       "      <td>940.694444</td>\n",
       "      <td>13.222222</td>\n",
       "      <td>6.666667</td>\n",
       "      <td>44.444444</td>\n",
       "    </tr>\n",
       "    <tr>\n",
       "      <th>13</th>\n",
       "      <td>ultra</td>\n",
       "      <td>2.0</td>\n",
       "      <td>297.125000</td>\n",
       "      <td>296.512528</td>\n",
       "      <td>87919.679348</td>\n",
       "      <td>21.958333</td>\n",
       "      <td>26.773574</td>\n",
       "      <td>716.824275</td>\n",
       "      <td>12.000000</td>\n",
       "      <td>10.446551</td>\n",
       "      <td>109.130435</td>\n",
       "    </tr>\n",
       "    <tr>\n",
       "      <th>14</th>\n",
       "      <td>ultra</td>\n",
       "      <td>3.0</td>\n",
       "      <td>489.648649</td>\n",
       "      <td>333.743765</td>\n",
       "      <td>111384.900901</td>\n",
       "      <td>32.297297</td>\n",
       "      <td>41.621886</td>\n",
       "      <td>1732.381381</td>\n",
       "      <td>17.648649</td>\n",
       "      <td>10.693238</td>\n",
       "      <td>114.345345</td>\n",
       "    </tr>\n",
       "    <tr>\n",
       "      <th>15</th>\n",
       "      <td>ultra</td>\n",
       "      <td>4.0</td>\n",
       "      <td>458.018182</td>\n",
       "      <td>267.682405</td>\n",
       "      <td>71653.870034</td>\n",
       "      <td>31.563636</td>\n",
       "      <td>37.513831</td>\n",
       "      <td>1407.287542</td>\n",
       "      <td>16.963636</td>\n",
       "      <td>9.457436</td>\n",
       "      <td>89.443098</td>\n",
       "    </tr>\n",
       "    <tr>\n",
       "      <th>16</th>\n",
       "      <td>ultra</td>\n",
       "      <td>5.0</td>\n",
       "      <td>510.328358</td>\n",
       "      <td>289.603511</td>\n",
       "      <td>83870.193578</td>\n",
       "      <td>37.850746</td>\n",
       "      <td>40.306874</td>\n",
       "      <td>1624.644052</td>\n",
       "      <td>19.373134</td>\n",
       "      <td>9.779130</td>\n",
       "      <td>95.631389</td>\n",
       "    </tr>\n",
       "    <tr>\n",
       "      <th>17</th>\n",
       "      <td>ultra</td>\n",
       "      <td>6.0</td>\n",
       "      <td>479.702381</td>\n",
       "      <td>302.549081</td>\n",
       "      <td>91535.946500</td>\n",
       "      <td>41.726190</td>\n",
       "      <td>44.567899</td>\n",
       "      <td>1986.297619</td>\n",
       "      <td>18.940476</td>\n",
       "      <td>9.077114</td>\n",
       "      <td>82.394005</td>\n",
       "    </tr>\n",
       "    <tr>\n",
       "      <th>18</th>\n",
       "      <td>ultra</td>\n",
       "      <td>7.0</td>\n",
       "      <td>545.791209</td>\n",
       "      <td>307.119322</td>\n",
       "      <td>94322.278144</td>\n",
       "      <td>49.846154</td>\n",
       "      <td>48.703621</td>\n",
       "      <td>2372.042735</td>\n",
       "      <td>20.505495</td>\n",
       "      <td>9.819905</td>\n",
       "      <td>96.430525</td>\n",
       "    </tr>\n",
       "    <tr>\n",
       "      <th>19</th>\n",
       "      <td>ultra</td>\n",
       "      <td>8.0</td>\n",
       "      <td>510.775701</td>\n",
       "      <td>312.980026</td>\n",
       "      <td>97956.496385</td>\n",
       "      <td>48.439252</td>\n",
       "      <td>46.601923</td>\n",
       "      <td>2171.739199</td>\n",
       "      <td>19.598131</td>\n",
       "      <td>10.254184</td>\n",
       "      <td>105.148298</td>\n",
       "    </tr>\n",
       "    <tr>\n",
       "      <th>20</th>\n",
       "      <td>ultra</td>\n",
       "      <td>9.0</td>\n",
       "      <td>539.443478</td>\n",
       "      <td>325.141162</td>\n",
       "      <td>105716.775286</td>\n",
       "      <td>52.286957</td>\n",
       "      <td>46.398874</td>\n",
       "      <td>2152.855530</td>\n",
       "      <td>19.243478</td>\n",
       "      <td>9.287410</td>\n",
       "      <td>86.255988</td>\n",
       "    </tr>\n",
       "    <tr>\n",
       "      <th>21</th>\n",
       "      <td>ultra</td>\n",
       "      <td>10.0</td>\n",
       "      <td>558.081301</td>\n",
       "      <td>326.289110</td>\n",
       "      <td>106464.583500</td>\n",
       "      <td>58.430894</td>\n",
       "      <td>51.934398</td>\n",
       "      <td>2697.181661</td>\n",
       "      <td>20.065041</td>\n",
       "      <td>9.552907</td>\n",
       "      <td>91.258030</td>\n",
       "    </tr>\n",
       "    <tr>\n",
       "      <th>22</th>\n",
       "      <td>ultra</td>\n",
       "      <td>11.0</td>\n",
       "      <td>541.380597</td>\n",
       "      <td>310.757232</td>\n",
       "      <td>96570.057064</td>\n",
       "      <td>55.791045</td>\n",
       "      <td>49.768951</td>\n",
       "      <td>2476.948491</td>\n",
       "      <td>19.805970</td>\n",
       "      <td>9.684867</td>\n",
       "      <td>93.796656</td>\n",
       "    </tr>\n",
       "    <tr>\n",
       "      <th>23</th>\n",
       "      <td>ultra</td>\n",
       "      <td>12.0</td>\n",
       "      <td>588.571429</td>\n",
       "      <td>344.880777</td>\n",
       "      <td>118942.750257</td>\n",
       "      <td>60.178571</td>\n",
       "      <td>51.854843</td>\n",
       "      <td>2688.924717</td>\n",
       "      <td>21.585714</td>\n",
       "      <td>10.289329</td>\n",
       "      <td>105.870298</td>\n",
       "    </tr>\n",
       "  </tbody>\n",
       "</table>\n",
       "</div>"
      ],
      "text/plain": [
       "   tariff_name month    duration                            msgs_amount  \\\n",
       "                            mean         std            var        mean   \n",
       "0        smart   1.0  203.852941  154.231454   23787.341355   18.235294   \n",
       "1        smart   2.0  298.689655  190.820041   36412.287961   24.086207   \n",
       "2        smart   3.0  390.051948  191.893604   36823.155161   31.857143   \n",
       "3        smart   4.0  367.133929  186.489161   34778.207127   30.741071   \n",
       "4        smart   5.0  387.361702  186.601343   34820.061094   33.773050   \n",
       "5        smart   6.0  395.640244  175.336587   30742.918861   33.402439   \n",
       "6        smart   7.0  408.353234  179.583601   32250.269602   33.751244   \n",
       "7        smart   8.0  421.468085  186.530382   34793.583379   33.638298   \n",
       "8        smart   9.0  428.611538  183.126576   33535.342723   33.638462   \n",
       "9        smart  10.0  426.136054  188.128510   35392.336375   33.765306   \n",
       "10       smart  11.0  435.265823  177.778618   31605.237050   34.075949   \n",
       "11       smart  12.0  477.144970  200.644953   40258.397319   35.887574   \n",
       "12       ultra   1.0  428.111111  269.757968   72769.361111   33.777778   \n",
       "13       ultra   2.0  297.125000  296.512528   87919.679348   21.958333   \n",
       "14       ultra   3.0  489.648649  333.743765  111384.900901   32.297297   \n",
       "15       ultra   4.0  458.018182  267.682405   71653.870034   31.563636   \n",
       "16       ultra   5.0  510.328358  289.603511   83870.193578   37.850746   \n",
       "17       ultra   6.0  479.702381  302.549081   91535.946500   41.726190   \n",
       "18       ultra   7.0  545.791209  307.119322   94322.278144   49.846154   \n",
       "19       ultra   8.0  510.775701  312.980026   97956.496385   48.439252   \n",
       "20       ultra   9.0  539.443478  325.141162  105716.775286   52.286957   \n",
       "21       ultra  10.0  558.081301  326.289110  106464.583500   58.430894   \n",
       "22       ultra  11.0  541.380597  310.757232   96570.057064   55.791045   \n",
       "23       ultra  12.0  588.571429  344.880777  118942.750257   60.178571   \n",
       "\n",
       "                            gb_amount                         \n",
       "          std          var       mean        std         var  \n",
       "0   16.197753   262.367201   8.735294   6.277950   39.412656  \n",
       "1   21.750809   473.097701  11.844828   6.095157   37.150938  \n",
       "2   26.804710   718.492481  15.233766   5.705252   32.549897  \n",
       "3   24.538532   602.139559  13.625000   5.594600   31.299550  \n",
       "4   27.036845   730.990983  15.907801   5.862594   34.370010  \n",
       "5   28.404337   806.806374  15.951220   5.649046   31.911716  \n",
       "6   28.282288   799.887811  15.875622   5.780956   33.419453  \n",
       "7   28.952677   838.257501  16.736170   5.480986   30.041207  \n",
       "8   28.117927   790.617820  16.392308   5.087643   25.884110  \n",
       "9   28.567673   816.111966  16.880952   5.735594   32.897042  \n",
       "10  28.389031   805.937071  17.000000   5.213535   27.180952  \n",
       "11  30.594298   936.011062  18.147929   5.538804   30.678349  \n",
       "12  30.670742   940.694444  13.222222   6.666667   44.444444  \n",
       "13  26.773574   716.824275  12.000000  10.446551  109.130435  \n",
       "14  41.621886  1732.381381  17.648649  10.693238  114.345345  \n",
       "15  37.513831  1407.287542  16.963636   9.457436   89.443098  \n",
       "16  40.306874  1624.644052  19.373134   9.779130   95.631389  \n",
       "17  44.567899  1986.297619  18.940476   9.077114   82.394005  \n",
       "18  48.703621  2372.042735  20.505495   9.819905   96.430525  \n",
       "19  46.601923  2171.739199  19.598131  10.254184  105.148298  \n",
       "20  46.398874  2152.855530  19.243478   9.287410   86.255988  \n",
       "21  51.934398  2697.181661  20.065041   9.552907   91.258030  \n",
       "22  49.768951  2476.948491  19.805970   9.684867   93.796656  \n",
       "23  51.854843  2688.924717  21.585714  10.289329  105.870298  "
      ]
     },
     "execution_count": 33,
     "metadata": {},
     "output_type": "execute_result"
    }
   ],
   "source": [
    "# Создаем список функций, которые будем применять к нужным столбцам.\n",
    "funcs = ['mean', 'std', 'var']\n",
    "# Делаем группировку по тарифу и месяцу, к искомым столбцам применяем функции.\n",
    "summary_group = summary.groupby(['tariff_name', 'month']).agg({'duration': funcs, 'msgs_amount': funcs, 'gb_amount': funcs})\n",
    "# Сбросим индексы.\n",
    "summary_group = summary_group.reset_index()\n",
    "# Посмотрим получившуюся таблицу.\n",
    "summary_group"
   ]
  },
  {
   "cell_type": "markdown",
   "metadata": {},
   "source": [
    "По получившейся таблице построим столбчатые диаграммы, на которых будет видно отличие параметров для распределений двух тарифов."
   ]
  },
  {
   "cell_type": "markdown",
   "metadata": {},
   "source": [
    "### Построение графиков"
   ]
  },
  {
   "cell_type": "code",
   "execution_count": 34,
   "metadata": {},
   "outputs": [],
   "source": [
    "# Установим размеры всех графиков 6 на 6 дюймов.\n",
    "sns.set(rc={'figure.figsize':(6, 6)})"
   ]
  },
  {
   "cell_type": "markdown",
   "metadata": {},
   "source": [
    "#### Построение столбчатых диаграмм сравнения "
   ]
  },
  {
   "cell_type": "markdown",
   "metadata": {},
   "source": [
    "##### По потраченным минутам"
   ]
  },
  {
   "cell_type": "code",
   "execution_count": 35,
   "metadata": {},
   "outputs": [
    {
     "data": {
      "image/png": "[encoded data removed]",
      "text/plain": [
       "<Figure size 432x432 with 1 Axes>"
      ]
     },
     "metadata": {},
     "output_type": "display_data"
    }
   ],
   "source": [
    "sns.barplot(data=summary, x='month', y='duration', hue='tariff_name')\n",
    "plt.xlabel('Месяц')\n",
    "plt.ylabel('Среднее число потраченных минут')\n",
    "plt.show()"
   ]
  },
  {
   "cell_type": "markdown",
   "metadata": {},
   "source": [
    "##### По потраченным смс"
   ]
  },
  {
   "cell_type": "code",
   "execution_count": 36,
   "metadata": {
    "scrolled": false
   },
   "outputs": [
    {
     "data": {
      "image/png": "[encoded data removed]",
      "text/plain": [
       "<Figure size 432x432 with 1 Axes>"
      ]
     },
     "metadata": {},
     "output_type": "display_data"
    }
   ],
   "source": [
    "# Построим столбчатую диаграмму по среднему значению потраченных смс по месяцам.\n",
    "sns.barplot(data=summary, x='month', y='msgs_amount', hue='tariff_name')\n",
    "plt.xlabel('Месяц')\n",
    "plt.ylabel('Среднее число смс')\n",
    "plt.show()"
   ]
  },
  {
   "cell_type": "markdown",
   "metadata": {},
   "source": [
    "##### По объему трафика"
   ]
  },
  {
   "cell_type": "code",
   "execution_count": 37,
   "metadata": {
    "scrolled": false
   },
   "outputs": [
    {
     "data": {
      "image/png": "[encoded data removed]",
      "text/plain": [
       "<Figure size 432x432 with 1 Axes>"
      ]
     },
     "metadata": {},
     "output_type": "display_data"
    }
   ],
   "source": [
    "# Построим столбчатую диаграмму по среднему значению потраченных гигабайт по месяцам.\n",
    "sns.barplot(data=summary, x='month', y='gb_amount', hue='tariff_name')\n",
    "plt.xlabel('Месяц')\n",
    "plt.ylabel('Средний объем трафика, Гб')\n",
    "plt.show()"
   ]
  },
  {
   "cell_type": "markdown",
   "metadata": {},
   "source": [
    "#### Построение гистограмм"
   ]
  },
  {
   "cell_type": "markdown",
   "metadata": {},
   "source": [
    "##### По потраченным минутам"
   ]
  },
  {
   "cell_type": "code",
   "execution_count": 38,
   "metadata": {},
   "outputs": [
    {
     "data": {
      "image/png": "[encoded data removed]",
      "text/plain": [
       "<Figure size 432x432 with 1 Axes>"
      ]
     },
     "metadata": {},
     "output_type": "display_data"
    }
   ],
   "source": [
    "# Построим гистограмму по значениям потраченных минут по месяцам в каждом тарифе.\n",
    "# Выберем значения по минутам из каждого тарифа.\n",
    "smart_min = summary[summary['tariff_name']=='smart'][['duration']]\n",
    "ultra_min = summary[summary['tariff_name']=='ultra'][['duration']]\n",
    "\n",
    "# Рассчитаем среднее и стандартное отклонение для каждого списка значений.\n",
    "mean_smart_min = stat.mean(smart_min['duration'])\n",
    "std_smart_min = stat.stdev(smart_min['duration'])\n",
    "mean_ultra_min = stat.mean(ultra_min['duration'])\n",
    "std_ultra_min = stat.stdev(ultra_min['duration'])\n",
    "\n",
    "# Строим гистограммы.\n",
    "plt.hist(smart_min, bins=30, color='b', alpha=0.5, label='Смарт')\n",
    "plt.hist(ultra_min, bins=30, color='r', alpha=0.5, label='Ультра')\n",
    "\n",
    "# Указываем вертикальные линии среднего и отклонения (по соответствующим цветам)\n",
    "plt.axvline(mean_smart_min, color='c', linestyle='dashed')\n",
    "plt.axvline(mean_smart_min-std_smart_min, color='c', linestyle='dashed')\n",
    "plt.axvline(mean_smart_min+std_smart_min, color='c', linestyle='dashed')\n",
    "\n",
    "plt.axvline(mean_ultra_min, color='y', linestyle='dashed')\n",
    "plt.axvline(mean_ultra_min-std_ultra_min, color='y', linestyle='dashed')\n",
    "plt.axvline(mean_ultra_min+std_ultra_min, color='y', linestyle='dashed')\n",
    "\n",
    "plt.legend(loc='upper right')\n",
    "plt.xlabel('Число минут')\n",
    "plt.ylabel('Количество значений')\n",
    "plt.show()"
   ]
  },
  {
   "cell_type": "code",
   "execution_count": 39,
   "metadata": {},
   "outputs": [
    {
     "data": {
      "image/png": "[encoded data removed]",
      "text/plain": [
       "<Figure size 432x432 with 1 Axes>"
      ]
     },
     "metadata": {},
     "output_type": "display_data"
    }
   ],
   "source": [
    "# Построим гистограмму по значениям потраченных минут по месяцам в каждом тарифе.\n",
    "sns.histplot(data=summary, x='duration', hue='tariff_name', bins=100)\n",
    "plt.xlabel('Число потраченных минут')\n",
    "plt.ylabel('Количество значений')\n",
    "plt.show()"
   ]
  },
  {
   "cell_type": "code",
   "execution_count": 40,
   "metadata": {
    "scrolled": false
   },
   "outputs": [
    {
     "data": {
      "image/png": "[encoded data removed]",
      "text/plain": [
       "<Figure size 432x432 with 1 Axes>"
      ]
     },
     "metadata": {},
     "output_type": "display_data"
    }
   ],
   "source": [
    "# Построим гистограмму плотности по среднему значению потраченных минут по месяцам.\n",
    "sns.histplot(x=('duration', 'mean'), data=summary_group, hue='tariff_name', stat='frequency')\n",
    "plt.xlabel('Среднее число потраченных минут')\n",
    "plt.ylabel('Частота')\n",
    "plt.show()"
   ]
  },
  {
   "cell_type": "code",
   "execution_count": 41,
   "metadata": {},
   "outputs": [
    {
     "data": {
      "image/png": "[encoded data removed]",
      "text/plain": [
       "<Figure size 432x432 with 1 Axes>"
      ]
     },
     "metadata": {},
     "output_type": "display_data"
    }
   ],
   "source": [
    "# Построим гистограмму плотности по стандартному отклонению потраченных минут по месяцам.\n",
    "sns.histplot(x=('duration', 'std'), data=summary_group, hue='tariff_name', stat='frequency')\n",
    "plt.xlabel('Среднее отклонение потраченных минут')\n",
    "plt.ylabel('Частота')\n",
    "plt.show()"
   ]
  },
  {
   "cell_type": "code",
   "execution_count": 42,
   "metadata": {
    "scrolled": false
   },
   "outputs": [
    {
     "data": {
      "image/png": "[encoded data removed]",
      "text/plain": [
       "<Figure size 432x432 with 1 Axes>"
      ]
     },
     "metadata": {},
     "output_type": "display_data"
    }
   ],
   "source": [
    "# Построим гистограмму плотности по дисперсии потраченных минут по месяцам.\n",
    "sns.histplot(x=('duration', 'var'), data=summary_group, hue='tariff_name', stat='frequency')\n",
    "plt.xlabel('Дисперсия потраченных минут')\n",
    "plt.ylabel('Частота')\n",
    "plt.show()"
   ]
  },
  {
   "cell_type": "markdown",
   "metadata": {},
   "source": [
    "##### По потраченным смс"
   ]
  },
  {
   "cell_type": "code",
   "execution_count": 43,
   "metadata": {},
   "outputs": [
    {
     "data": {
      "image/png": "[encoded data removed]",
      "text/plain": [
       "<Figure size 432x432 with 1 Axes>"
      ]
     },
     "metadata": {},
     "output_type": "display_data"
    }
   ],
   "source": [
    "# Построим гистограмму по значениям потраченных смс по месяцам в каждом тарифе.\n",
    "# Выберем значения по смс из каждого тарифа.\n",
    "smart_sms = summary[summary['tariff_name']=='smart'][['msgs_amount']]\n",
    "ultra_sms = summary[summary['tariff_name']=='ultra'][['msgs_amount']]\n",
    "\n",
    "# Рассчитаем среднее и стандартное отклонение для каждого списка значений.\n",
    "mean_smart_sms = stat.mean(smart_sms['msgs_amount'])\n",
    "std_smart_sms = stat.stdev(smart_sms['msgs_amount'])\n",
    "mean_ultra_sms = stat.mean(ultra_sms['msgs_amount'])\n",
    "std_ultra_sms = stat.stdev(ultra_sms['msgs_amount'])\n",
    "\n",
    "# Строим гистограммы.\n",
    "plt.hist(smart_sms, bins=30, color='b', alpha=0.5, label='Смарт')\n",
    "plt.hist(ultra_sms, bins=30, color='r', alpha=0.5, label='Ультра')\n",
    "\n",
    "# Указываем вертикальные линии среднего и отклонения (по соответствующим цветам)\n",
    "plt.axvline(mean_smart_sms, color='c', linestyle='dashed')\n",
    "plt.axvline(mean_smart_sms-std_smart_sms, color='c', linestyle='dashed')\n",
    "plt.axvline(mean_smart_sms+std_smart_sms, color='c', linestyle='dashed')\n",
    "\n",
    "plt.axvline(mean_ultra_sms, color='y', linestyle='dashed')\n",
    "plt.axvline(mean_ultra_sms-std_ultra_sms, color='y', linestyle='dashed')\n",
    "plt.axvline(mean_ultra_sms+std_ultra_sms, color='y', linestyle='dashed')\n",
    "\n",
    "plt.legend(loc='upper right')\n",
    "plt.xlabel('Число смс')\n",
    "plt.ylabel('Количество значений')\n",
    "plt.show()"
   ]
  },
  {
   "cell_type": "code",
   "execution_count": 44,
   "metadata": {},
   "outputs": [
    {
     "data": {
      "image/png": "[encoded data removed]",
      "text/plain": [
       "<Figure size 432x432 with 1 Axes>"
      ]
     },
     "metadata": {},
     "output_type": "display_data"
    }
   ],
   "source": [
    "# Построим гистограмму по значениям потраченных смс по месяцам в каждом тарифе.\n",
    "sns.histplot(data=summary, x='msgs_amount', hue='tariff_name', bins=100)\n",
    "plt.xlabel('Число потраченных смс')\n",
    "plt.ylabel('Количество значений')\n",
    "plt.show()"
   ]
  },
  {
   "cell_type": "code",
   "execution_count": 45,
   "metadata": {
    "scrolled": false
   },
   "outputs": [
    {
     "data": {
      "image/png": "[encoded data removed]",
      "text/plain": [
       "<Figure size 432x432 with 1 Axes>"
      ]
     },
     "metadata": {},
     "output_type": "display_data"
    }
   ],
   "source": [
    "# Построим гистограмму плотности по среднему значению потраченных смс по месяцам.\n",
    "sns.histplot(x=('msgs_amount', 'mean'), data=summary_group, hue='tariff_name', stat='frequency')\n",
    "plt.xlabel('Среднее число смс')\n",
    "plt.ylabel('Частота')\n",
    "plt.show()"
   ]
  },
  {
   "cell_type": "code",
   "execution_count": 46,
   "metadata": {},
   "outputs": [
    {
     "data": {
      "image/png": "[encoded data removed]",
      "text/plain": [
       "<Figure size 432x432 with 1 Axes>"
      ]
     },
     "metadata": {},
     "output_type": "display_data"
    }
   ],
   "source": [
    "# Построим гистограмму плотности по стандартному отклонению потраченных смс по месяцам.\n",
    "sns.histplot(x=('msgs_amount', 'std'), data=summary_group, hue='tariff_name', stat='frequency')\n",
    "plt.xlabel('Среднее отклонение смс')\n",
    "plt.ylabel('Частота')\n",
    "plt.show()"
   ]
  },
  {
   "cell_type": "code",
   "execution_count": 47,
   "metadata": {
    "scrolled": false
   },
   "outputs": [
    {
     "data": {
      "image/png": "[encoded data removed]",
      "text/plain": [
       "<Figure size 432x432 with 1 Axes>"
      ]
     },
     "metadata": {},
     "output_type": "display_data"
    }
   ],
   "source": [
    "# Построим гистограмму плотности по дисперсии потраченных смс по месяцам.\n",
    "sns.histplot(x=('msgs_amount', 'var'), data=summary_group, hue='tariff_name', stat='frequency')\n",
    "plt.xlabel('Дисперсия смс')\n",
    "plt.ylabel('Частота')\n",
    "plt.show()"
   ]
  },
  {
   "cell_type": "markdown",
   "metadata": {},
   "source": [
    "##### По объему трафика"
   ]
  },
  {
   "cell_type": "code",
   "execution_count": 48,
   "metadata": {},
   "outputs": [
    {
     "data": {
      "image/png": "[encoded data removed]",
      "text/plain": [
       "<Figure size 432x432 with 1 Axes>"
      ]
     },
     "metadata": {},
     "output_type": "display_data"
    }
   ],
   "source": [
    "# Построим гистограмму по значениям потраченных гб по месяцам в каждом тарифе.\n",
    "# Выберем значения по гб из каждого тарифа.\n",
    "smart_gb = summary[summary['tariff_name']=='smart'][['gb_amount']]\n",
    "ultra_gb = summary[summary['tariff_name']=='ultra'][['gb_amount']]\n",
    "\n",
    "# Рассчитаем среднее и стандартное отклонение для каждого списка значений.\n",
    "mean_smart_gb = stat.mean(smart_gb['gb_amount'])\n",
    "std_smart_gb = stat.stdev(smart_gb['gb_amount'])\n",
    "mean_ultra_gb = stat.mean(ultra_gb['gb_amount'])\n",
    "std_ultra_gb = stat.stdev(ultra_gb['gb_amount'])\n",
    "\n",
    "# Строим гистограммы.\n",
    "plt.hist(smart_gb, bins=30, color='b', alpha=0.5, label='Смарт')\n",
    "plt.hist(ultra_gb, bins=30, color='r', alpha=0.5, label='Ультра')\n",
    "\n",
    "# Указываем вертикальные линии среднего и отклонения (по соответствующим цветам)\n",
    "plt.axvline(mean_smart_gb, color='c', linestyle='dashed')\n",
    "plt.axvline(mean_smart_gb-std_smart_gb, color='c', linestyle='dashed')\n",
    "plt.axvline(mean_smart_gb+std_smart_gb, color='c', linestyle='dashed')\n",
    "\n",
    "plt.axvline(mean_ultra_gb, color='y', linestyle='dashed')\n",
    "plt.axvline(mean_ultra_gb-std_ultra_gb, color='y', linestyle='dashed')\n",
    "plt.axvline(mean_ultra_gb+std_ultra_gb, color='y', linestyle='dashed')\n",
    "\n",
    "plt.legend(loc='upper right')\n",
    "plt.xlabel('Объем трафика, Гб')\n",
    "plt.ylabel('Количество значений')\n",
    "plt.show()"
   ]
  },
  {
   "cell_type": "code",
   "execution_count": 49,
   "metadata": {},
   "outputs": [
    {
     "data": {
      "image/png": "[encoded data removed]",
      "text/plain": [
       "<Figure size 432x432 with 1 Axes>"
      ]
     },
     "metadata": {},
     "output_type": "display_data"
    }
   ],
   "source": [
    "# Построим гистограмму по значениям потраченного трафика в Гб по месяцам в каждом тарифе.\n",
    "sns.histplot(data=summary, x='gb_amount', hue='tariff_name', bins=100)\n",
    "plt.xlabel('Объем трафика, Гб')\n",
    "plt.ylabel('Количество значений')\n",
    "plt.show()"
   ]
  },
  {
   "cell_type": "code",
   "execution_count": 50,
   "metadata": {
    "scrolled": false
   },
   "outputs": [
    {
     "data": {
      "image/png": "[encoded data removed]",
      "text/plain": [
       "<Figure size 432x432 with 1 Axes>"
      ]
     },
     "metadata": {},
     "output_type": "display_data"
    }
   ],
   "source": [
    "# Построим гистограмму плотности по среднему значению потраченных гигабайт по месяцам.\n",
    "sns.histplot(x=('gb_amount', 'mean'), data=summary_group, hue='tariff_name', stat='frequency')\n",
    "plt.xlabel('Средний объем трафика, Гб')\n",
    "plt.ylabel('Частота')\n",
    "plt.show()"
   ]
  },
  {
   "cell_type": "code",
   "execution_count": 51,
   "metadata": {},
   "outputs": [
    {
     "data": {
      "image/png": "[encoded data removed]",
      "text/plain": [
       "<Figure size 432x432 with 1 Axes>"
      ]
     },
     "metadata": {},
     "output_type": "display_data"
    }
   ],
   "source": [
    "# Построим гистограмму плотности по стандартному отклонению потраченных гигабайт по месяцам.\n",
    "sns.histplot(x=('gb_amount', 'std'), data=summary_group, hue='tariff_name', stat='frequency')\n",
    "plt.xlabel('Среднее отклонение объема трафика')\n",
    "plt.ylabel('Частота')\n",
    "plt.show()"
   ]
  },
  {
   "cell_type": "code",
   "execution_count": 52,
   "metadata": {
    "scrolled": false
   },
   "outputs": [
    {
     "data": {
      "image/png": "[encoded data removed]",
      "text/plain": [
       "<Figure size 432x432 with 1 Axes>"
      ]
     },
     "metadata": {},
     "output_type": "display_data"
    }
   ],
   "source": [
    "# Построим гистограмму плотности по дисперсии потраченных гигабайт по месяцам.\n",
    "sns.histplot(x=('gb_amount', 'var'), data=summary_group, hue='tariff_name', stat='frequency')\n",
    "plt.xlabel('Дисперсия объема трафика')\n",
    "plt.ylabel('Частота')\n",
    "plt.show()"
   ]
  },
  {
   "cell_type": "markdown",
   "metadata": {},
   "source": [
    "##### По месячному чеку"
   ]
  },
  {
   "cell_type": "code",
   "execution_count": 53,
   "metadata": {},
   "outputs": [
    {
     "data": {
      "image/png": "[encoded data removed]",
      "text/plain": [
       "<Figure size 432x432 with 1 Axes>"
      ]
     },
     "metadata": {},
     "output_type": "display_data"
    }
   ],
   "source": [
    "# Построим гистограмму по значениям потраченных смс по месяцам в каждом тарифе.\n",
    "# Выберем значения по смс из каждого тарифа.\n",
    "smart_inv = summary[summary['tariff_name']=='smart'][['invoice']]\n",
    "ultra_inv = summary[summary['tariff_name']=='ultra'][['invoice']]\n",
    "\n",
    "# Рассчитаем среднее и стандартное отклонение для каждого списка значений.\n",
    "mean_smart_inv = stat.mean(smart_inv['invoice'])\n",
    "std_smart_inv = stat.stdev(smart_inv['invoice'])\n",
    "mean_ultra_inv = stat.mean(ultra_inv['invoice'])\n",
    "std_ultra_inv = stat.stdev(ultra_inv['invoice'])\n",
    "\n",
    "# Строим гистограммы.\n",
    "plt.hist(smart_inv, bins=30, color='b', alpha=0.5, label='Смарт')\n",
    "plt.hist(ultra_inv, bins=30, color='r', alpha=0.5, label='Ультра')\n",
    "\n",
    "# Указываем вертикальные линии среднего и отклонения (по соответствующим цветам)\n",
    "plt.axvline(mean_smart_inv, color='c', linestyle='dashed')\n",
    "plt.axvline(mean_smart_inv-std_smart_inv, color='c', linestyle='dashed')\n",
    "plt.axvline(mean_smart_inv+std_smart_inv, color='c', linestyle='dashed')\n",
    "\n",
    "plt.axvline(mean_ultra_inv, color='y', linestyle='dashed')\n",
    "plt.axvline(mean_ultra_inv-std_ultra_inv, color='y', linestyle='dashed')\n",
    "plt.axvline(mean_ultra_inv+std_ultra_inv, color='y', linestyle='dashed')\n",
    "\n",
    "plt.legend(loc='upper right')\n",
    "plt.xlabel('Число смс')\n",
    "plt.ylabel('Количество значений')\n",
    "plt.show()"
   ]
  },
  {
   "cell_type": "code",
   "execution_count": 54,
   "metadata": {},
   "outputs": [
    {
     "data": {
      "image/png": "[encoded data removed]",
      "text/plain": [
       "<Figure size 432x432 with 1 Axes>"
      ]
     },
     "metadata": {},
     "output_type": "display_data"
    }
   ],
   "source": [
    "# Построим гистограмму по месячному чеку по каждому из тарифов.\n",
    "sns.histplot(data=summary, x='invoice', hue='tariff_name', bins=100)\n",
    "plt.xlabel('Месячный чек')\n",
    "plt.ylabel('Количество значений')\n",
    "plt.show()"
   ]
  },
  {
   "cell_type": "markdown",
   "metadata": {},
   "source": [
    "### Выводы"
   ]
  },
  {
   "cell_type": "markdown",
   "metadata": {},
   "source": [
    "По представленным графикам можно сделать следующие выводы о распределения трат пользователей разных тарифов по месяцам:\n",
    "* в среднем пользователи обоих тарифов одинаково расходуют объем предоставленного интернета;\n",
    "* количество израсходованных минут и смс у тарифа ультра в среднем выше;\n",
    "* судя по дисперсии и стандартному отклонению, распределение всех трат по тарифу ультра носит более изменчевый характер, их распределение шире аналогичных по тарифу смарт."
   ]
  },
  {
   "cell_type": "markdown",
   "metadata": {},
   "source": [
    "<div class=\"alert alert-success\">\n",
    "    <h3> Комментарий ревьюера: Антон Оленев <a class=\"tocSkip\"> </h3>\n",
    "    \n",
    "<b>✅ Все отлично!:</b> отличные графики и выводы )\n",
    "</div>"
   ]
  },
  {
   "cell_type": "markdown",
   "metadata": {},
   "source": [
    "<div class=\"alert alert-info\">\n",
    "    <b> Комментарий студента </b>\n",
    "    \n",
    "Мы в слаке пришли к выводу, что нужно строить графики по неагрегированным значениям (не по средним).  \n",
    "    Во-первых, столбчатые по ним выходят лучше (видно стандартное отклонение, теперь вместо трех графиков - один). Во-вторых, гистограммы нагляднее показывают распределение. Ну и в-третьих я строил гистограммы плотности для стд, среднего и дисперсии, хотя они не являются дискретными величинами, правильнее было бы наверно строить обычную гистограмму, а не плотности?   \n",
    "    Что думаешь? Оставил и те, и другие варианты для гистограмм, а три столбчатых (по каждому из смс, минуты, гб) заменил одной... Теперь графиков до жути.\n",
    "\n",
    "</div>"
   ]
  },
  {
   "cell_type": "markdown",
   "metadata": {},
   "source": [
    "<div class=\"alert alert-success\">\n",
    "    <h3> Комментарий ревьюера V2: Антон Оленев <a class=\"tocSkip\"> </h3>\n",
    "    \n",
    "<b>✅ Все отлично!:</b> да, по неагрегированым обычно тоже обычно просим построить, но в принципе и по агрегированым достаточно, если остальная работа хорошо сделана. Стало еще лучше )\n",
    "</div>"
   ]
  },
  {
   "cell_type": "markdown",
   "metadata": {},
   "source": [
    "## Проверка гипотез"
   ]
  },
  {
   "cell_type": "markdown",
   "metadata": {},
   "source": [
    "Проверим две гипотезы:\n",
    "* средняя выручка пользователей тарифов «Ультра» и «Смарт» различаются;\n",
    "* средняя выручка пользователей из Москвы отличается от выручки пользователей из других регионов.\n",
    "\n",
    "Для доверительного интервала будем использовать значение 5%."
   ]
  },
  {
   "cell_type": "markdown",
   "metadata": {},
   "source": [
    "### Гипотеза о равенстве среднего выручки двух тарифов"
   ]
  },
  {
   "cell_type": "markdown",
   "metadata": {},
   "source": [
    "Итак, необходимо проверить, что средняя выручка пользователей тарифов «Ультра» и «Смарт» различаются. Сформулирем нулевую и альтернативную гипотезы:\n",
    "* H0 - средняя выручка пользователей тарифов «Ультра» и «Смарт» равны;\n",
    "* H1 - средняя выручка пользователей тарифов «Ультра» и «Смарт» не равны.\n",
    "\n",
    "Разобьем таблицу `summary` на две фильтрованные таблицы - по каждому тарифу с данными о выручке пользователей.  \n",
    "Далее сделаем ttest на проверку нулевой гипотезы с доверительным интервалом 5%."
   ]
  },
  {
   "cell_type": "code",
   "execution_count": 55,
   "metadata": {},
   "outputs": [
    {
     "name": "stdout",
     "output_type": "stream",
     "text": [
      "p-значение:  8.081909555489933e-161\n",
      "Отвергаем нулевую гипотезу\n"
     ]
    }
   ],
   "source": [
    "# Создаем сеты с данными о выручке пользователей двух тарифов.\n",
    "smart = summary.loc[summary['tariff_name'] == 'smart']['invoice']\n",
    "ultra = summary.loc[summary['tariff_name'] == 'ultra']['invoice']\n",
    "\n",
    "# Проверяем гипотезу о равенстве среднего. \n",
    "alpha = 0.05\n",
    "results = st.ttest_ind(smart, ultra)\n",
    "print('p-значение: ', results.pvalue)\n",
    "\n",
    "if results.pvalue < alpha:\n",
    "    print('Отвергаем нулевую гипотезу')\n",
    "else:\n",
    "    print('Не получилось отвернуть нулевую гипотезу')"
   ]
  },
  {
   "cell_type": "markdown",
   "metadata": {},
   "source": [
    "Нулевая гипотеза о том, что средняя выручка пользователей тарифов \"Смарт\" и \"Ультра\" не подтвердилась.  \n",
    "Принимаем альтернативную гипотезу.\n",
    "\n",
    "**Вывод**: средняя выручка пользователей тарифов «Ультра» и «Смарт» не равны."
   ]
  },
  {
   "cell_type": "markdown",
   "metadata": {},
   "source": [
    "Так как стояла задача выяснить какой из двух тарифов лучше (больше приносит выручки), то проведем односторонний ttest.  \n",
    "Нулевая гипотеза - тариф смарт приносит столько же, сколько тариф ультра.  \n",
    "Альтернативная гипотеза - тариф смарт приносит меньше выручки, чем тариф ультра."
   ]
  },
  {
   "cell_type": "code",
   "execution_count": 56,
   "metadata": {},
   "outputs": [
    {
     "name": "stdout",
     "output_type": "stream",
     "text": [
      "p-значение:  1.750924766e-315\n",
      "Отвергаем нулевую гипотезу, выручка смарта значимо меньше выручки ультры\n"
     ]
    }
   ],
   "source": [
    "results = st.ttest_1samp(smart, ultra.mean())\n",
    "print('p-значение: ', results.pvalue)\n",
    "\n",
    "if (results.pvalue / 2 < alpha) and (smart.mean() < ultra.mean()):\n",
    "    print(\"Отвергаем нулевую гипотезу, выручка смарта значимо меньше выручки ультры\")\n",
    "else:\n",
    "    print(\"Не отвергаем нулевую гипотезу, выручка смарта достигает выручки ультры\") "
   ]
  },
  {
   "cell_type": "code",
   "execution_count": 58,
   "metadata": {},
   "outputs": [
    {
     "name": "stdout",
     "output_type": "stream",
     "text": [
      "p-значение:  8.75462383e-316\n",
      "Отвергаем нулевую гипотезу, выручка смарта значимо меньше выручки ультры\n"
     ]
    }
   ],
   "source": [
    "results = st.ttest_1samp(smart, ultra.mean(), alternative='less')\n",
    "print('p-значение: ', results.pvalue)\n",
    "\n",
    "if (results.pvalue < alpha):\n",
    "    print(\"Отвергаем нулевую гипотезу, выручка смарта значимо меньше выручки ультры\")\n",
    "else:\n",
    "    print(\"Не отвергаем нулевую гипотезу, выручка ультры достигает выручки смарта\") "
   ]
  },
  {
   "cell_type": "markdown",
   "metadata": {},
   "source": [
    "По однострононнему ttest можно сделать вывод, что выручка тарифа смарт достигает выручки по тарифу ультра.  \n",
    "Учитывая проведенный ранее двусторонний ttest по данным выборкам, который говорит о том, что среднее генеральных последовательностей этих двух выборок не равны, можно сделать вывод, что выручка тарифа смарт не только достигает выручки по тарифу ультра, но статистически значимо больше.  \n",
    "Доказывая это, проведем еще один односторонний ttest.  \n",
    "Нулевая гипотеза - тариф смарт приносит столько же, сколько тариф ультра.\n",
    "Альтернативная гипотеза - тариф смарт приносит больше выручки, чем тариф ультра."
   ]
  },
  {
   "cell_type": "code",
   "execution_count": 119,
   "metadata": {},
   "outputs": [
    {
     "name": "stdout",
     "output_type": "stream",
     "text": [
      "p-значение:  1.750924766e-315\n",
      "Не отвергаем нулевую гипотезу, выручка ультры достигает выручки смарта\n"
     ]
    }
   ],
   "source": [
    "results = st.ttest_1samp(smart, ultra.mean())\n",
    "print('p-значение: ', results.pvalue)\n",
    "\n",
    "if (results.pvalue / 2 < alpha) and (smart.mean() > ultra.mean()):\n",
    "    print(\"Отвергаем нулевую гипотезу, выручка смарта значимо больше выручки ультры\")\n",
    "else:\n",
    "    print(\"Не отвергаем нулевую гипотезу, выручка ультры достигает выручки смарта\") "
   ]
  },
  {
   "cell_type": "code",
   "execution_count": 118,
   "metadata": {},
   "outputs": [
    {
     "name": "stdout",
     "output_type": "stream",
     "text": [
      "p-значение:  1.0\n",
      "Не отвергаем нулевую гипотезу, выручка ультры достигает выручки смарта\n"
     ]
    }
   ],
   "source": [
    "results = st.ttest_1samp(smart, ultra.mean(), alternative='greater')\n",
    "print('p-значение: ', results.pvalue)\n",
    "\n",
    "if (results.pvalue < alpha):\n",
    "    print(\"Отвергаем нулевую гипотезу, выручка смарта значимо больше выручки ультры\")\n",
    "else:\n",
    "    print(\"Не отвергаем нулевую гипотезу, выручка ультры достигает выручки смарта\") "
   ]
  },
  {
   "cell_type": "markdown",
   "metadata": {},
   "source": [
    "<div class=\"alert alert-success\">\n",
    "    <h3> Комментарий ревьюера: Антон Оленев <a class=\"tocSkip\"> </h3>\n",
    "    \n",
    "<b>✅ Все отлично!:</b> проверка и выводы правильные\n",
    "</div>"
   ]
  },
  {
   "cell_type": "markdown",
   "metadata": {},
   "source": [
    "<div class=\"alert alert-info\">\n",
    "    <b> Комментарий студента </b>\n",
    "    \n",
    "Точно выводы правильны? И гипотезы, я что-то сомниваться стал, потому что в слаке в переписке по проекту пришли к выводу, что ультра приносит больше (типо на гистограмме выручки видно, которую я не строил). - Этот коментарий написан до того, как я начал исправлять твои замечания ) теперь по гистограммам тоже видно, что среднее выше у ультры.\n",
    "\n",
    "    Тут где-то у меня в подсчете чека видимо был косяк, потому что в предыдущей версии точно среднее смарта было больше. Теперь это не так. (в выводах ничего не правил, когда писал этот комент, и не буду править пока что, надеюсь мы с тобой поймем что было не так и выясним действительную правду, какой из тарифов лучше?)\n",
    "</div>"
   ]
  },
  {
   "cell_type": "markdown",
   "metadata": {},
   "source": [
    "<div class=\"alert alert-success\">\n",
    "    <h3> Комментарий ревьюера V2: Антон Оленев <a class=\"tocSkip\"> </h3>\n",
    "    \n",
    "<b>✅ Все отлично!:</b> так, прощу прощения, это я про вывод \n",
    "        \n",
    "        Вывод: средняя выручка пользователей тарифов «Ультра» и «Смарт» не равны.\n",
    "      \n",
    "Этот правильный вывод.\n",
    "\n",
    "По поводу второго тест с односторонней, метод ttest_1samp(),\n",
    "https://docs.scipy.org/doc/scipy/reference/generated/scipy.stats.ttest_1samp.html\n",
    "проверяет равенство среднего, и нулевая гипотеза что они равны. С помощью параметра `alternative={‘two-sided’, ‘less’, ‘greater’}` можно задать альтерантивную гипотезу, больше среднее, меньше, или неравно. Попробуй так, а не используя сравнение средних в условии. Правильный вывод то что мы не принимаем H0, выручки не равны, и что среднее смарта - меньше.\n",
    "</div>"
   ]
  },
  {
   "cell_type": "markdown",
   "metadata": {},
   "source": [
    "### Гипотеза о равенстве среднего выручки по Москве и другим регионам"
   ]
  },
  {
   "cell_type": "markdown",
   "metadata": {},
   "source": [
    "Итак, необходимо проверить, что средняя выручка пользователей из Москвы и других регионов различаются. Сформулирем нулевую и альтернативную гипотезы:\n",
    "* H0 - средняя выручка пользователей из Москвы и других регионов равны;\n",
    "* H1 - средняя выручка пользователей Москвы и других регионов не равны.\n",
    "\n",
    "К таблице `summary` необходимо добавить столбец с городом, чтобы отфильтровать таблицу по городу.  "
   ]
  },
  {
   "cell_type": "code",
   "execution_count": 58,
   "metadata": {},
   "outputs": [
    {
     "data": {
      "text/html": [
       "<div>\n",
       "<style scoped>\n",
       "    .dataframe tbody tr th:only-of-type {\n",
       "        vertical-align: middle;\n",
       "    }\n",
       "\n",
       "    .dataframe tbody tr th {\n",
       "        vertical-align: top;\n",
       "    }\n",
       "\n",
       "    .dataframe thead th {\n",
       "        text-align: right;\n",
       "    }\n",
       "</style>\n",
       "<table border=\"1\" class=\"dataframe\">\n",
       "  <thead>\n",
       "    <tr style=\"text-align: right;\">\n",
       "      <th></th>\n",
       "      <th>user_id</th>\n",
       "      <th>month</th>\n",
       "      <th>duration</th>\n",
       "      <th>calls_amount</th>\n",
       "      <th>msgs_amount</th>\n",
       "      <th>mb_used</th>\n",
       "      <th>gb_amount</th>\n",
       "      <th>tariff_name</th>\n",
       "      <th>messages_included</th>\n",
       "      <th>mb_per_month_included</th>\n",
       "      <th>minutes_included</th>\n",
       "      <th>rub_monthly_fee</th>\n",
       "      <th>rub_per_gb</th>\n",
       "      <th>rub_per_message</th>\n",
       "      <th>rub_per_minute</th>\n",
       "      <th>invoice</th>\n",
       "      <th>city</th>\n",
       "    </tr>\n",
       "  </thead>\n",
       "  <tbody>\n",
       "    <tr>\n",
       "      <th>0</th>\n",
       "      <td>1000</td>\n",
       "      <td>5.0</td>\n",
       "      <td>159.0</td>\n",
       "      <td>22.0</td>\n",
       "      <td>22.0</td>\n",
       "      <td>2253.49</td>\n",
       "      <td>3.0</td>\n",
       "      <td>ultra</td>\n",
       "      <td>1000</td>\n",
       "      <td>30720</td>\n",
       "      <td>3000</td>\n",
       "      <td>1950</td>\n",
       "      <td>150</td>\n",
       "      <td>1</td>\n",
       "      <td>1</td>\n",
       "      <td>1950.0</td>\n",
       "      <td>Краснодар</td>\n",
       "    </tr>\n",
       "    <tr>\n",
       "      <th>1</th>\n",
       "      <td>1000</td>\n",
       "      <td>6.0</td>\n",
       "      <td>172.0</td>\n",
       "      <td>43.0</td>\n",
       "      <td>60.0</td>\n",
       "      <td>23233.77</td>\n",
       "      <td>23.0</td>\n",
       "      <td>ultra</td>\n",
       "      <td>1000</td>\n",
       "      <td>30720</td>\n",
       "      <td>3000</td>\n",
       "      <td>1950</td>\n",
       "      <td>150</td>\n",
       "      <td>1</td>\n",
       "      <td>1</td>\n",
       "      <td>1950.0</td>\n",
       "      <td>Краснодар</td>\n",
       "    </tr>\n",
       "    <tr>\n",
       "      <th>2</th>\n",
       "      <td>1000</td>\n",
       "      <td>7.0</td>\n",
       "      <td>340.0</td>\n",
       "      <td>47.0</td>\n",
       "      <td>75.0</td>\n",
       "      <td>14003.64</td>\n",
       "      <td>14.0</td>\n",
       "      <td>ultra</td>\n",
       "      <td>1000</td>\n",
       "      <td>30720</td>\n",
       "      <td>3000</td>\n",
       "      <td>1950</td>\n",
       "      <td>150</td>\n",
       "      <td>1</td>\n",
       "      <td>1</td>\n",
       "      <td>1950.0</td>\n",
       "      <td>Краснодар</td>\n",
       "    </tr>\n",
       "    <tr>\n",
       "      <th>3</th>\n",
       "      <td>1000</td>\n",
       "      <td>8.0</td>\n",
       "      <td>408.0</td>\n",
       "      <td>52.0</td>\n",
       "      <td>81.0</td>\n",
       "      <td>14055.93</td>\n",
       "      <td>14.0</td>\n",
       "      <td>ultra</td>\n",
       "      <td>1000</td>\n",
       "      <td>30720</td>\n",
       "      <td>3000</td>\n",
       "      <td>1950</td>\n",
       "      <td>150</td>\n",
       "      <td>1</td>\n",
       "      <td>1</td>\n",
       "      <td>1950.0</td>\n",
       "      <td>Краснодар</td>\n",
       "    </tr>\n",
       "    <tr>\n",
       "      <th>4</th>\n",
       "      <td>1000</td>\n",
       "      <td>9.0</td>\n",
       "      <td>466.0</td>\n",
       "      <td>58.0</td>\n",
       "      <td>57.0</td>\n",
       "      <td>14568.91</td>\n",
       "      <td>15.0</td>\n",
       "      <td>ultra</td>\n",
       "      <td>1000</td>\n",
       "      <td>30720</td>\n",
       "      <td>3000</td>\n",
       "      <td>1950</td>\n",
       "      <td>150</td>\n",
       "      <td>1</td>\n",
       "      <td>1</td>\n",
       "      <td>1950.0</td>\n",
       "      <td>Краснодар</td>\n",
       "    </tr>\n",
       "    <tr>\n",
       "      <th>...</th>\n",
       "      <td>...</td>\n",
       "      <td>...</td>\n",
       "      <td>...</td>\n",
       "      <td>...</td>\n",
       "      <td>...</td>\n",
       "      <td>...</td>\n",
       "      <td>...</td>\n",
       "      <td>...</td>\n",
       "      <td>...</td>\n",
       "      <td>...</td>\n",
       "      <td>...</td>\n",
       "      <td>...</td>\n",
       "      <td>...</td>\n",
       "      <td>...</td>\n",
       "      <td>...</td>\n",
       "      <td>...</td>\n",
       "      <td>...</td>\n",
       "    </tr>\n",
       "    <tr>\n",
       "      <th>3211</th>\n",
       "      <td>1489</td>\n",
       "      <td>9.0</td>\n",
       "      <td>0.0</td>\n",
       "      <td>0.0</td>\n",
       "      <td>32.0</td>\n",
       "      <td>17206.30</td>\n",
       "      <td>17.0</td>\n",
       "      <td>smart</td>\n",
       "      <td>50</td>\n",
       "      <td>15360</td>\n",
       "      <td>500</td>\n",
       "      <td>550</td>\n",
       "      <td>200</td>\n",
       "      <td>3</td>\n",
       "      <td>3</td>\n",
       "      <td>950.0</td>\n",
       "      <td>Санкт-Петербург</td>\n",
       "    </tr>\n",
       "    <tr>\n",
       "      <th>3212</th>\n",
       "      <td>1489</td>\n",
       "      <td>10.0</td>\n",
       "      <td>0.0</td>\n",
       "      <td>0.0</td>\n",
       "      <td>21.0</td>\n",
       "      <td>19559.44</td>\n",
       "      <td>20.0</td>\n",
       "      <td>smart</td>\n",
       "      <td>50</td>\n",
       "      <td>15360</td>\n",
       "      <td>500</td>\n",
       "      <td>550</td>\n",
       "      <td>200</td>\n",
       "      <td>3</td>\n",
       "      <td>3</td>\n",
       "      <td>1550.0</td>\n",
       "      <td>Санкт-Петербург</td>\n",
       "    </tr>\n",
       "    <tr>\n",
       "      <th>3213</th>\n",
       "      <td>1489</td>\n",
       "      <td>11.0</td>\n",
       "      <td>0.0</td>\n",
       "      <td>0.0</td>\n",
       "      <td>20.0</td>\n",
       "      <td>17491.56</td>\n",
       "      <td>18.0</td>\n",
       "      <td>smart</td>\n",
       "      <td>50</td>\n",
       "      <td>15360</td>\n",
       "      <td>500</td>\n",
       "      <td>550</td>\n",
       "      <td>200</td>\n",
       "      <td>3</td>\n",
       "      <td>3</td>\n",
       "      <td>1150.0</td>\n",
       "      <td>Санкт-Петербург</td>\n",
       "    </tr>\n",
       "    <tr>\n",
       "      <th>3214</th>\n",
       "      <td>1489</td>\n",
       "      <td>12.0</td>\n",
       "      <td>0.0</td>\n",
       "      <td>0.0</td>\n",
       "      <td>35.0</td>\n",
       "      <td>17322.51</td>\n",
       "      <td>17.0</td>\n",
       "      <td>smart</td>\n",
       "      <td>50</td>\n",
       "      <td>15360</td>\n",
       "      <td>500</td>\n",
       "      <td>550</td>\n",
       "      <td>200</td>\n",
       "      <td>3</td>\n",
       "      <td>3</td>\n",
       "      <td>950.0</td>\n",
       "      <td>Санкт-Петербург</td>\n",
       "    </tr>\n",
       "    <tr>\n",
       "      <th>3215</th>\n",
       "      <td>1371</td>\n",
       "      <td>12.0</td>\n",
       "      <td>0.0</td>\n",
       "      <td>0.0</td>\n",
       "      <td>0.0</td>\n",
       "      <td>0.00</td>\n",
       "      <td>0.0</td>\n",
       "      <td>smart</td>\n",
       "      <td>50</td>\n",
       "      <td>15360</td>\n",
       "      <td>500</td>\n",
       "      <td>550</td>\n",
       "      <td>200</td>\n",
       "      <td>3</td>\n",
       "      <td>3</td>\n",
       "      <td>550.0</td>\n",
       "      <td>Омск</td>\n",
       "    </tr>\n",
       "  </tbody>\n",
       "</table>\n",
       "<p>3216 rows × 17 columns</p>\n",
       "</div>"
      ],
      "text/plain": [
       "      user_id  month  duration  calls_amount  msgs_amount   mb_used  \\\n",
       "0        1000    5.0     159.0          22.0         22.0   2253.49   \n",
       "1        1000    6.0     172.0          43.0         60.0  23233.77   \n",
       "2        1000    7.0     340.0          47.0         75.0  14003.64   \n",
       "3        1000    8.0     408.0          52.0         81.0  14055.93   \n",
       "4        1000    9.0     466.0          58.0         57.0  14568.91   \n",
       "...       ...    ...       ...           ...          ...       ...   \n",
       "3211     1489    9.0       0.0           0.0         32.0  17206.30   \n",
       "3212     1489   10.0       0.0           0.0         21.0  19559.44   \n",
       "3213     1489   11.0       0.0           0.0         20.0  17491.56   \n",
       "3214     1489   12.0       0.0           0.0         35.0  17322.51   \n",
       "3215     1371   12.0       0.0           0.0          0.0      0.00   \n",
       "\n",
       "      gb_amount tariff_name  messages_included  mb_per_month_included  \\\n",
       "0           3.0       ultra               1000                  30720   \n",
       "1          23.0       ultra               1000                  30720   \n",
       "2          14.0       ultra               1000                  30720   \n",
       "3          14.0       ultra               1000                  30720   \n",
       "4          15.0       ultra               1000                  30720   \n",
       "...         ...         ...                ...                    ...   \n",
       "3211       17.0       smart                 50                  15360   \n",
       "3212       20.0       smart                 50                  15360   \n",
       "3213       18.0       smart                 50                  15360   \n",
       "3214       17.0       smart                 50                  15360   \n",
       "3215        0.0       smart                 50                  15360   \n",
       "\n",
       "      minutes_included  rub_monthly_fee  rub_per_gb  rub_per_message  \\\n",
       "0                 3000             1950         150                1   \n",
       "1                 3000             1950         150                1   \n",
       "2                 3000             1950         150                1   \n",
       "3                 3000             1950         150                1   \n",
       "4                 3000             1950         150                1   \n",
       "...                ...              ...         ...              ...   \n",
       "3211               500              550         200                3   \n",
       "3212               500              550         200                3   \n",
       "3213               500              550         200                3   \n",
       "3214               500              550         200                3   \n",
       "3215               500              550         200                3   \n",
       "\n",
       "      rub_per_minute  invoice             city  \n",
       "0                  1   1950.0        Краснодар  \n",
       "1                  1   1950.0        Краснодар  \n",
       "2                  1   1950.0        Краснодар  \n",
       "3                  1   1950.0        Краснодар  \n",
       "4                  1   1950.0        Краснодар  \n",
       "...              ...      ...              ...  \n",
       "3211               3    950.0  Санкт-Петербург  \n",
       "3212               3   1550.0  Санкт-Петербург  \n",
       "3213               3   1150.0  Санкт-Петербург  \n",
       "3214               3    950.0  Санкт-Петербург  \n",
       "3215               3    550.0             Омск  \n",
       "\n",
       "[3216 rows x 17 columns]"
      ]
     },
     "execution_count": 58,
     "metadata": {},
     "output_type": "execute_result"
    }
   ],
   "source": [
    "summary = summary.merge(users[['user_id', 'city']], on='user_id')\n",
    "summary"
   ]
  },
  {
   "cell_type": "markdown",
   "metadata": {},
   "source": [
    "Проверим уникальность городов, возможно есть ошибки в написании."
   ]
  },
  {
   "cell_type": "code",
   "execution_count": 59,
   "metadata": {},
   "outputs": [
    {
     "data": {
      "text/plain": [
       "array(['Архангельск', 'Астрахань', 'Балашиха', 'Барнаул', 'Белгород',\n",
       "       'Брянск', 'Владивосток', 'Владикавказ', 'Владимир', 'Волгоград',\n",
       "       'Волжский', 'Вологда', 'Воронеж', 'Грозный', 'Екатеринбург',\n",
       "       'Иваново', 'Ижевск', 'Иркутск', 'Казань', 'Калининград', 'Калуга',\n",
       "       'Кемерово', 'Киров', 'Кострома', 'Краснодар', 'Красноярск',\n",
       "       'Курган', 'Курск', 'Липецк', 'Магнитогорск', 'Махачкала', 'Москва',\n",
       "       'Мурманск', 'Набережные Челны', 'Нижневартовск', 'Нижний Новгород',\n",
       "       'Нижний Тагил', 'Новокузнецк', 'Новороссийск', 'Новосибирск',\n",
       "       'Омск', 'Оренбург', 'Орёл', 'Пенза', 'Пермь', 'Петрозаводск',\n",
       "       'Подольск', 'Ростов-на-Дону', 'Рязань', 'Самара',\n",
       "       'Санкт-Петербург', 'Саранск', 'Саратов', 'Севастополь', 'Смоленск',\n",
       "       'Сочи', 'Ставрополь', 'Стерлитамак', 'Сургут', 'Тамбов', 'Тверь',\n",
       "       'Тольятти', 'Томск', 'Тула', 'Тюмень', 'Улан-Удэ', 'Ульяновск',\n",
       "       'Уфа', 'Хабаровск', 'Химки', 'Чебоксары', 'Челябинск', 'Череповец',\n",
       "       'Чита', 'Якутск', 'Ярославль'], dtype=object)"
      ]
     },
     "execution_count": 59,
     "metadata": {},
     "output_type": "execute_result"
    }
   ],
   "source": [
    "summary['city'].sort_values().unique()"
   ]
  },
  {
   "cell_type": "markdown",
   "metadata": {},
   "source": [
    "Ошибок в написании нет, теперь разобьем таблицу `summary` на две фильтрованные таблицы - по Москве и по регионам.  \n",
    "Далее сделаем ttest на проверку нулевой гипотезы с доверительным интервалом 5%."
   ]
  },
  {
   "cell_type": "code",
   "execution_count": 60,
   "metadata": {},
   "outputs": [
    {
     "name": "stdout",
     "output_type": "stream",
     "text": [
      "p-значение:  0.5400751614511182\n",
      "Не получилось отвернуть нулевую гипотезу\n"
     ]
    }
   ],
   "source": [
    "# Создаем сеты с данными о выручке пользователей разных городов.\n",
    "moscow = summary.loc[summary['city'] == 'Москва']['invoice']\n",
    "other = summary.loc[summary['city'] != 'Москва']['invoice']\n",
    "\n",
    "# Проверяем гипотезу о равенстве среднего. \n",
    "alpha = 0.05\n",
    "results = st.ttest_ind(moscow, other)\n",
    "print('p-значение: ', results.pvalue)\n",
    "\n",
    "if results.pvalue < alpha:\n",
    "    print('Отвергаем нулевую гипотезу')\n",
    "else:\n",
    "    print('Не получилось отвернуть нулевую гипотезу')"
   ]
  },
  {
   "cell_type": "markdown",
   "metadata": {},
   "source": [
    "Нулевая гипотеза о том, что средняя выручка пользователей из Москвы и других регионов подтвердилась.\n",
    "Принимаем нулевую гипотезу.  \n",
    "\n",
    "**Вывод**: средняя выручка пользователей из Москвы и других регионов равны."
   ]
  },
  {
   "cell_type": "markdown",
   "metadata": {},
   "source": [
    "<div class=\"alert alert-success\">\n",
    "    <h3> Комментарий ревьюера: Антон Оленев <a class=\"tocSkip\"> </h3>\n",
    "    \n",
    "<b>✅ Все отлично!:</b> проверка и выводы правильные\n",
    "</div>"
   ]
  },
  {
   "cell_type": "markdown",
   "metadata": {},
   "source": [
    "### Выводы"
   ]
  },
  {
   "cell_type": "markdown",
   "metadata": {},
   "source": [
    "Были проведены два статистических теста на проверки гипотез о равенстве средних.  \n",
    "По результатам тестов, можно говорить о том, что:\n",
    "* средняя выручка пользователей тарифов «Ультра» и «Смарт» различаются, тариф \"Смарт\" приносит больше;\n",
    "* средняя выручка пользователей из Москвы не отличается от выручки пользователей из других регионов\n",
    "\n",
    "при доверительных интервалах 5%."
   ]
  },
  {
   "cell_type": "markdown",
   "metadata": {},
   "source": [
    "## Общий вывод"
   ]
  },
  {
   "cell_type": "markdown",
   "metadata": {},
   "source": [
    "Мы провели исследование данных о пользователях двух разных тарифов.  \n",
    "\n",
    "1. Сформирована единая таблица, в которой рассчитаны для каждого пользователя:\n",
    "    * количество звонков и потраченных минут за каждый месяц;\n",
    "    * количество отправленных смс за каждый месяц;\n",
    "    * объем потраченного трафика за каждый месяц;\n",
    "    * траты по месяцам.\n",
    "\n",
    "2. Построены столбчатые диаграммы и гистограммы плотности для распределений трат минут, гигабайт и смс внутри тарифов по месяцам.  \n",
    "По графикам были сделаны следующие выводы:\n",
    "    * в среднем пользователи обоих тарифов одинаково расходуют объем предоставленного интернета;\n",
    "    * количество израсходованных минут и смс у тарифа ультра в среднем выше;\n",
    "    * судя по дисперсии и стандартному отклонению, распределение всех трат по тарифу ультра носит более изменчевый характер, их распределение шире аналогичных по тарифу смарт.\n",
    "\n",
    "\n",
    "3. Проверены две нулевые гипотезы:\n",
    "    * о равенстве среднего выручки двух тарифов;\n",
    "    * о равенстве среднего выручки пользователей Москвы и других регионов.\n",
    "    \n",
    "    При проверке гипотез были сделаны выводы:\n",
    "    * средняя выручка пользователей тарифов «Ультра» и «Смарт» различаются, тариф \"Смарт\" приносит больше;\n",
    "    * средняя выручка пользователей из Москвы не отличается от выручки пользователей из других регионов.\n",
    "\n"
   ]
  },
  {
   "cell_type": "markdown",
   "metadata": {},
   "source": [
    "<div class=\"alert alert-success\">\n",
    "    <h3> Комментарий ревьюера: Антон Оленев <a class=\"tocSkip\"> </h3>\n",
    "    \n",
    "<b>✅ Все отлично!</b> \n",
    "</div>"
   ]
  },
  {
   "cell_type": "markdown",
   "metadata": {},
   "source": [
    "<div class=\"alert alert-info\">\n",
    "\n",
    "<b>Итого!</b>\n",
    "\n",
    "Хорошая работа, проверка гипотез и графики!\n",
    "Я смогу принять её после следующих доработок:\n",
    "- правильный подсчет и округление трафика\n",
    "- более оптимальный подсчет таблиц с помесячными тратами\n",
    "- объединение таблицы summary с данными по тарифам, для более оптимального вычисления выручки.\n",
    "</div>"
   ]
  },
  {
   "cell_type": "markdown",
   "metadata": {},
   "source": [
    "<div class=\"alert alert-info\">\n",
    "    <b> Комментарий студента </b>\n",
    "    \n",
    "Посмотри, пожалуйста, еще раз гипотезы, что-то я не уверен. Повторяю комент здесь, чтобы ты точно увидел.\n",
    "</div>"
   ]
  },
  {
   "cell_type": "markdown",
   "metadata": {},
   "source": [
    "<div class=\"alert alert-info\">\n",
    "\n",
    "<b>Итого V2!</b>\n",
    "\n",
    "Привет, я написал по поводу вычисления общей суммы без if, \n",
    "По поводу гипотез, возможно я невнимательно прочитал в прошлый раз что-то, написал комментарий по поподу проверки. \n",
    "Возвращаю работы, чтобы ты прочитал комментарии, если вопросов не будет - возвращай и сразу её приму )\n",
    "</div>"
   ]
  },
  {
   "cell_type": "markdown",
   "metadata": {},
   "source": [
    "<div class=\"alert alert-info\">\n",
    "    <b> Комментарий студента </b>\n",
    "    \n",
    "Спасибо за советы по односторонней гипотезе, так синтаксис более понятен, чем сравнение средних, деление п-валью на два. В прошлый раз косяк был с подсчетом чека, поэтому и выводы были неверные (там с копипаста что-то не поправил, вместо сообщений ычитал количество звонков что ли или как-то так).\n",
    "    Удачи в работе, пока.\n",
    "</div>"
   ]
  },
  {
   "cell_type": "markdown",
   "metadata": {},
   "source": [
    "## Чек-лист"
   ]
  },
  {
   "cell_type": "markdown",
   "metadata": {},
   "source": [
    "ШАГ 1  Изучение данных из файлов\n",
    "\n",
    "- [х]  открыть файлы\n",
    "- [х]  файлы изучены (выведены первые строки, метод `info()`)  \n",
    "\n",
    "ШАГ 2  Подготовка данных\n",
    "\n",
    "- [х]  определены пропущенные значения\n",
    "- [х]  заполнены пропущенные значения\n",
    "- [х]  есть пояснение, какие пропущенные значения обнаружены\n",
    "- [х]  приведены типы данных\n",
    "- [х]  есть пояснение, в каких столбцах изменены типы и почему\n",
    "- [х]  посчитано и добавлено в таблицу: количество сделанных звонков и израсходованных минут разговора по месяцам (по каждому пользователю)\n",
    "- [х]  посчитано и добавлено в таблицу: количество отправленных сообщений по месяцам (по каждому пользователю)\n",
    "- [х]  посчитано и добавлено в таблицу: объем израсходованного трафика по месяцам (по каждому пользователю)\n",
    "- [х]  посчитано и добавлено в таблицу: помесячная выручка с каждого пользователя (остаток от бесплатного лимита, умноженный на тарифный план, плюс абонентская плата)  \n",
    "\n",
    "ШАГ 3 Анализ данных\n",
    "\n",
    "- [х]  описано поведение клиентов, исходя из выборки\n",
    "- [х]  получен ответ на вопрос: Сколько минут разговора, сколько сообщений и какой объём интернет-трафика требуется пользователям каждого тарифа в месяц? (посчитаны среднее количество, дисперсия и стандартное отклонение)\n",
    "- [х]  построены гистограммы, описаны распределения  \n",
    "\n",
    "ШАГ 4 Проверка гипотез\n",
    "\n",
    "- [х]  проверена гипотеза: средняя выручка пользователей тарифов «Ультра» и «Смарт» различаются\n",
    "- [х]  проверена гипотеза:  средняя выручка пользователей из Москвы отличается от выручки пользователей из других регионов\n",
    "- [х]  пояснено: как формулировали нулевую и альтернативную гипотезу\n",
    "- [х]  пояснено: выбор критерия для проверки гипотез\n",
    "\n",
    "ШАГ 5 Выводы\n",
    "\n",
    "- [х]  в каждом этапе есть выводы\n",
    "- [х]  есть общий вывод"
   ]
  },
  {
   "cell_type": "code",
   "execution_count": null,
   "metadata": {},
   "outputs": [],
   "source": []
  }
 ],
 "metadata": {
  "ExecuteTimeLog": [
   {
    "duration": 377,
    "start_time": "2022-06-20T20:34:39.385Z"
   },
   {
    "duration": 1135,
    "start_time": "2022-06-20T20:34:40.749Z"
   },
   {
    "duration": 34,
    "start_time": "2022-06-20T20:35:02.128Z"
   },
   {
    "duration": 62,
    "start_time": "2022-06-21T10:46:57.469Z"
   },
   {
    "duration": 71,
    "start_time": "2022-06-21T10:47:01.649Z"
   },
   {
    "duration": 94,
    "start_time": "2022-06-21T10:47:19.194Z"
   },
   {
    "duration": 1012,
    "start_time": "2022-06-27T17:09:07.420Z"
   },
   {
    "duration": 3,
    "start_time": "2022-06-27T17:09:12.832Z"
   },
   {
    "duration": 3,
    "start_time": "2022-06-27T17:09:20.782Z"
   },
   {
    "duration": 788,
    "start_time": "2022-06-27T17:09:21.940Z"
   },
   {
    "duration": 64,
    "start_time": "2022-06-27T17:10:08.144Z"
   },
   {
    "duration": 46,
    "start_time": "2022-06-27T17:17:39.724Z"
   },
   {
    "duration": 83,
    "start_time": "2022-06-27T17:18:07.425Z"
   },
   {
    "duration": 67,
    "start_time": "2022-06-27T17:18:53.102Z"
   },
   {
    "duration": 20,
    "start_time": "2022-06-27T17:19:43.520Z"
   },
   {
    "duration": 21,
    "start_time": "2022-06-27T17:20:20.280Z"
   },
   {
    "duration": 22,
    "start_time": "2022-06-27T17:20:46.180Z"
   },
   {
    "duration": 19,
    "start_time": "2022-06-27T17:20:52.151Z"
   },
   {
    "duration": 12,
    "start_time": "2022-06-27T17:21:15.585Z"
   },
   {
    "duration": 12,
    "start_time": "2022-06-27T17:21:22.328Z"
   },
   {
    "duration": 5,
    "start_time": "2022-06-27T17:39:10.036Z"
   },
   {
    "duration": 682,
    "start_time": "2022-06-27T17:40:25.372Z"
   },
   {
    "duration": 29,
    "start_time": "2022-06-27T17:40:43.302Z"
   },
   {
    "duration": 5,
    "start_time": "2022-06-27T17:40:53.027Z"
   },
   {
    "duration": 35,
    "start_time": "2022-06-27T17:40:59.302Z"
   },
   {
    "duration": 5,
    "start_time": "2022-06-27T17:42:26.892Z"
   },
   {
    "duration": 52,
    "start_time": "2022-06-27T17:43:15.834Z"
   },
   {
    "duration": 58,
    "start_time": "2022-06-27T17:43:47.071Z"
   },
   {
    "duration": 98,
    "start_time": "2022-06-27T17:44:29.080Z"
   },
   {
    "duration": 6,
    "start_time": "2022-06-27T17:44:39.414Z"
   },
   {
    "duration": 8,
    "start_time": "2022-06-27T17:44:44.984Z"
   },
   {
    "duration": 8,
    "start_time": "2022-06-27T17:44:49.416Z"
   },
   {
    "duration": 87,
    "start_time": "2022-06-27T20:56:13.549Z"
   },
   {
    "duration": 1330,
    "start_time": "2022-06-27T20:57:00.197Z"
   },
   {
    "duration": 2932,
    "start_time": "2022-06-27T20:57:01.529Z"
   },
   {
    "duration": 157,
    "start_time": "2022-06-27T20:57:04.465Z"
   },
   {
    "duration": 254,
    "start_time": "2022-06-27T20:57:04.629Z"
   },
   {
    "duration": 155,
    "start_time": "2022-06-27T20:57:04.890Z"
   },
   {
    "duration": 136,
    "start_time": "2022-06-27T20:57:05.059Z"
   },
   {
    "duration": 151,
    "start_time": "2022-06-27T20:57:05.200Z"
   },
   {
    "duration": 256,
    "start_time": "2022-06-27T20:57:05.358Z"
   },
   {
    "duration": 429,
    "start_time": "2022-06-27T20:57:05.624Z"
   },
   {
    "duration": 44,
    "start_time": "2022-06-27T20:57:06.083Z"
   },
   {
    "duration": 18,
    "start_time": "2022-06-27T21:10:54.414Z"
   },
   {
    "duration": 95,
    "start_time": "2022-06-27T21:11:34.819Z"
   },
   {
    "duration": 12,
    "start_time": "2022-06-27T21:11:37.680Z"
   },
   {
    "duration": 7,
    "start_time": "2022-06-27T21:12:09.620Z"
   },
   {
    "duration": 53,
    "start_time": "2022-06-27T21:12:28.099Z"
   },
   {
    "duration": 161,
    "start_time": "2022-06-27T21:12:45.126Z"
   },
   {
    "duration": 84,
    "start_time": "2022-06-27T21:12:49.784Z"
   },
   {
    "duration": 836,
    "start_time": "2022-06-28T17:16:02.509Z"
   },
   {
    "duration": 1325,
    "start_time": "2022-06-28T17:16:03.347Z"
   },
   {
    "duration": 39,
    "start_time": "2022-06-28T17:16:04.673Z"
   },
   {
    "duration": 21,
    "start_time": "2022-06-28T17:16:04.714Z"
   },
   {
    "duration": 21,
    "start_time": "2022-06-28T17:16:04.737Z"
   },
   {
    "duration": 18,
    "start_time": "2022-06-28T17:16:04.759Z"
   },
   {
    "duration": 10,
    "start_time": "2022-06-28T17:16:04.779Z"
   },
   {
    "duration": 40,
    "start_time": "2022-06-28T17:16:04.791Z"
   },
   {
    "duration": 72,
    "start_time": "2022-06-28T17:16:04.832Z"
   },
   {
    "duration": 8,
    "start_time": "2022-06-28T17:16:04.906Z"
   },
   {
    "duration": 15,
    "start_time": "2022-06-28T17:16:04.926Z"
   },
   {
    "duration": 102,
    "start_time": "2022-06-28T17:16:04.943Z"
   },
   {
    "duration": 8,
    "start_time": "2022-06-28T17:16:05.047Z"
   },
   {
    "duration": 42,
    "start_time": "2022-06-28T17:16:05.058Z"
   },
   {
    "duration": 54,
    "start_time": "2022-06-28T17:16:05.102Z"
   },
   {
    "duration": 10,
    "start_time": "2022-06-28T17:16:14.411Z"
   },
   {
    "duration": 14,
    "start_time": "2022-06-28T17:16:30.839Z"
   },
   {
    "duration": 3,
    "start_time": "2022-06-28T17:59:30.391Z"
   },
   {
    "duration": 532,
    "start_time": "2022-06-28T17:59:30.399Z"
   },
   {
    "duration": 43,
    "start_time": "2022-06-28T17:59:30.933Z"
   },
   {
    "duration": 76,
    "start_time": "2022-06-28T17:59:30.977Z"
   },
   {
    "duration": 36,
    "start_time": "2022-06-28T17:59:31.060Z"
   },
   {
    "duration": 16,
    "start_time": "2022-06-28T17:59:31.098Z"
   },
   {
    "duration": 18,
    "start_time": "2022-06-28T17:59:31.116Z"
   },
   {
    "duration": 38,
    "start_time": "2022-06-28T17:59:31.138Z"
   },
   {
    "duration": 80,
    "start_time": "2022-06-28T17:59:31.178Z"
   },
   {
    "duration": 9,
    "start_time": "2022-06-28T17:59:31.260Z"
   },
   {
    "duration": 10,
    "start_time": "2022-06-28T17:59:31.272Z"
   },
   {
    "duration": 132,
    "start_time": "2022-06-28T17:59:31.284Z"
   },
   {
    "duration": 17,
    "start_time": "2022-06-28T17:59:31.418Z"
   },
   {
    "duration": 66,
    "start_time": "2022-06-28T17:59:31.436Z"
   },
   {
    "duration": 46,
    "start_time": "2022-06-28T17:59:31.504Z"
   },
   {
    "duration": 49,
    "start_time": "2022-06-28T18:00:52.039Z"
   },
   {
    "duration": 6,
    "start_time": "2022-06-28T18:25:57.810Z"
   },
   {
    "duration": 6,
    "start_time": "2022-06-28T18:26:02.635Z"
   },
   {
    "duration": 848,
    "start_time": "2022-06-28T18:26:06.197Z"
   },
   {
    "duration": 1428,
    "start_time": "2022-06-28T18:26:07.047Z"
   },
   {
    "duration": 43,
    "start_time": "2022-06-28T18:26:08.477Z"
   },
   {
    "duration": 28,
    "start_time": "2022-06-28T18:26:08.523Z"
   },
   {
    "duration": 20,
    "start_time": "2022-06-28T18:26:08.553Z"
   },
   {
    "duration": 20,
    "start_time": "2022-06-28T18:26:08.574Z"
   },
   {
    "duration": 45,
    "start_time": "2022-06-28T18:26:08.595Z"
   },
   {
    "duration": 10,
    "start_time": "2022-06-28T18:26:08.642Z"
   },
   {
    "duration": 88,
    "start_time": "2022-06-28T18:26:08.653Z"
   },
   {
    "duration": 10,
    "start_time": "2022-06-28T18:26:08.745Z"
   },
   {
    "duration": 15,
    "start_time": "2022-06-28T18:26:08.757Z"
   },
   {
    "duration": 131,
    "start_time": "2022-06-28T18:26:08.774Z"
   },
   {
    "duration": 7,
    "start_time": "2022-06-28T18:26:08.906Z"
   },
   {
    "duration": 46,
    "start_time": "2022-06-28T18:26:08.927Z"
   },
   {
    "duration": 39,
    "start_time": "2022-06-28T18:26:08.975Z"
   },
   {
    "duration": 50,
    "start_time": "2022-06-28T18:26:12.439Z"
   },
   {
    "duration": 12,
    "start_time": "2022-06-28T18:26:16.474Z"
   },
   {
    "duration": 11,
    "start_time": "2022-06-28T18:26:35.518Z"
   },
   {
    "duration": 5,
    "start_time": "2022-06-28T18:26:49.100Z"
   },
   {
    "duration": 15,
    "start_time": "2022-06-28T18:26:54.245Z"
   },
   {
    "duration": 9,
    "start_time": "2022-06-28T18:27:03.940Z"
   },
   {
    "duration": 22,
    "start_time": "2022-06-28T18:27:13.921Z"
   },
   {
    "duration": 3,
    "start_time": "2022-06-28T18:27:18.743Z"
   },
   {
    "duration": 441,
    "start_time": "2022-06-28T18:27:18.748Z"
   },
   {
    "duration": 41,
    "start_time": "2022-06-28T18:27:19.192Z"
   },
   {
    "duration": 21,
    "start_time": "2022-06-28T18:27:19.234Z"
   },
   {
    "duration": 17,
    "start_time": "2022-06-28T18:27:19.257Z"
   },
   {
    "duration": 15,
    "start_time": "2022-06-28T18:27:19.276Z"
   },
   {
    "duration": 40,
    "start_time": "2022-06-28T18:27:19.292Z"
   },
   {
    "duration": 11,
    "start_time": "2022-06-28T18:27:19.334Z"
   },
   {
    "duration": 89,
    "start_time": "2022-06-28T18:27:19.346Z"
   },
   {
    "duration": 7,
    "start_time": "2022-06-28T18:27:19.438Z"
   },
   {
    "duration": 11,
    "start_time": "2022-06-28T18:27:19.446Z"
   },
   {
    "duration": 99,
    "start_time": "2022-06-28T18:27:19.458Z"
   },
   {
    "duration": 6,
    "start_time": "2022-06-28T18:27:19.559Z"
   },
   {
    "duration": 37,
    "start_time": "2022-06-28T18:27:19.567Z"
   },
   {
    "duration": 52,
    "start_time": "2022-06-28T18:27:19.606Z"
   },
   {
    "duration": 7,
    "start_time": "2022-06-28T18:27:20.487Z"
   },
   {
    "duration": 28,
    "start_time": "2022-06-28T18:28:12.802Z"
   },
   {
    "duration": 20,
    "start_time": "2022-06-28T18:28:23.748Z"
   },
   {
    "duration": 31,
    "start_time": "2022-06-28T18:28:28.937Z"
   },
   {
    "duration": 49,
    "start_time": "2022-06-28T18:29:28.443Z"
   },
   {
    "duration": 1534,
    "start_time": "2022-06-28T18:32:08.480Z"
   },
   {
    "duration": 1371,
    "start_time": "2022-06-28T18:32:37.985Z"
   },
   {
    "duration": 3,
    "start_time": "2022-06-28T18:33:10.704Z"
   },
   {
    "duration": 419,
    "start_time": "2022-06-28T18:33:10.709Z"
   },
   {
    "duration": 37,
    "start_time": "2022-06-28T18:33:11.129Z"
   },
   {
    "duration": 57,
    "start_time": "2022-06-28T18:33:11.168Z"
   },
   {
    "duration": 20,
    "start_time": "2022-06-28T18:33:11.227Z"
   },
   {
    "duration": 15,
    "start_time": "2022-06-28T18:33:11.249Z"
   },
   {
    "duration": 9,
    "start_time": "2022-06-28T18:33:11.266Z"
   },
   {
    "duration": 14,
    "start_time": "2022-06-28T18:33:11.276Z"
   },
   {
    "duration": 97,
    "start_time": "2022-06-28T18:33:11.291Z"
   },
   {
    "duration": 7,
    "start_time": "2022-06-28T18:33:11.390Z"
   },
   {
    "duration": 28,
    "start_time": "2022-06-28T18:33:11.398Z"
   },
   {
    "duration": 80,
    "start_time": "2022-06-28T18:33:11.428Z"
   },
   {
    "duration": 17,
    "start_time": "2022-06-28T18:33:11.509Z"
   },
   {
    "duration": 39,
    "start_time": "2022-06-28T18:33:11.527Z"
   },
   {
    "duration": 60,
    "start_time": "2022-06-28T18:33:11.568Z"
   },
   {
    "duration": 46,
    "start_time": "2022-06-28T18:33:11.630Z"
   },
   {
    "duration": 1426,
    "start_time": "2022-06-28T18:33:15.372Z"
   },
   {
    "duration": 3,
    "start_time": "2022-06-28T18:33:20.693Z"
   },
   {
    "duration": 442,
    "start_time": "2022-06-28T18:33:20.698Z"
   },
   {
    "duration": 36,
    "start_time": "2022-06-28T18:33:21.142Z"
   },
   {
    "duration": 50,
    "start_time": "2022-06-28T18:33:21.180Z"
   },
   {
    "duration": 20,
    "start_time": "2022-06-28T18:33:21.232Z"
   },
   {
    "duration": 15,
    "start_time": "2022-06-28T18:33:21.253Z"
   },
   {
    "duration": 11,
    "start_time": "2022-06-28T18:33:21.270Z"
   },
   {
    "duration": 12,
    "start_time": "2022-06-28T18:33:21.282Z"
   },
   {
    "duration": 95,
    "start_time": "2022-06-28T18:33:21.295Z"
   },
   {
    "duration": 6,
    "start_time": "2022-06-28T18:33:21.392Z"
   },
   {
    "duration": 26,
    "start_time": "2022-06-28T18:33:21.400Z"
   },
   {
    "duration": 76,
    "start_time": "2022-06-28T18:33:21.427Z"
   },
   {
    "duration": 22,
    "start_time": "2022-06-28T18:33:21.505Z"
   },
   {
    "duration": 36,
    "start_time": "2022-06-28T18:33:21.530Z"
   },
   {
    "duration": 35,
    "start_time": "2022-06-28T18:33:21.568Z"
   },
   {
    "duration": 47,
    "start_time": "2022-06-28T18:33:21.626Z"
   },
   {
    "duration": 1556,
    "start_time": "2022-06-28T18:33:25.339Z"
   },
   {
    "duration": 11,
    "start_time": "2022-06-28T18:41:59.586Z"
   },
   {
    "duration": 4,
    "start_time": "2022-06-28T18:42:55.442Z"
   },
   {
    "duration": 11,
    "start_time": "2022-06-28T18:43:05.084Z"
   },
   {
    "duration": 28,
    "start_time": "2022-06-28T18:48:03.419Z"
   },
   {
    "duration": 48,
    "start_time": "2022-06-28T18:48:10.594Z"
   },
   {
    "duration": 4,
    "start_time": "2022-06-28T18:51:00.286Z"
   },
   {
    "duration": 27,
    "start_time": "2022-06-28T18:51:21.978Z"
   },
   {
    "duration": 126,
    "start_time": "2022-06-28T18:52:03.111Z"
   },
   {
    "duration": 26,
    "start_time": "2022-06-28T18:52:11.043Z"
   },
   {
    "duration": 27,
    "start_time": "2022-06-28T18:52:31.651Z"
   },
   {
    "duration": 31,
    "start_time": "2022-06-28T18:54:16.478Z"
   },
   {
    "duration": 22,
    "start_time": "2022-06-28T18:55:52.983Z"
   },
   {
    "duration": 24,
    "start_time": "2022-06-28T18:56:07.184Z"
   },
   {
    "duration": 25,
    "start_time": "2022-06-28T18:56:12.386Z"
   },
   {
    "duration": 24,
    "start_time": "2022-06-28T18:56:22.540Z"
   },
   {
    "duration": 25,
    "start_time": "2022-06-28T18:56:46.596Z"
   },
   {
    "duration": 23,
    "start_time": "2022-06-28T18:56:56.091Z"
   },
   {
    "duration": 7,
    "start_time": "2022-06-28T18:57:08.653Z"
   },
   {
    "duration": 25,
    "start_time": "2022-06-28T18:57:27.688Z"
   },
   {
    "duration": 4,
    "start_time": "2022-06-28T18:57:35.641Z"
   },
   {
    "duration": 28,
    "start_time": "2022-06-28T18:57:49.445Z"
   },
   {
    "duration": 27,
    "start_time": "2022-06-28T18:58:00.488Z"
   },
   {
    "duration": 8,
    "start_time": "2022-06-28T18:59:22.591Z"
   },
   {
    "duration": 8,
    "start_time": "2022-06-28T18:59:26.395Z"
   },
   {
    "duration": 9,
    "start_time": "2022-06-28T18:59:28.891Z"
   },
   {
    "duration": 4,
    "start_time": "2022-06-28T18:59:42.962Z"
   },
   {
    "duration": 24,
    "start_time": "2022-06-28T19:00:51.380Z"
   },
   {
    "duration": 26,
    "start_time": "2022-06-28T19:01:53.128Z"
   },
   {
    "duration": 22,
    "start_time": "2022-06-28T19:02:02.202Z"
   },
   {
    "duration": 25,
    "start_time": "2022-06-28T19:02:11.338Z"
   },
   {
    "duration": 35,
    "start_time": "2022-06-28T19:02:16.911Z"
   },
   {
    "duration": 107,
    "start_time": "2022-06-28T19:02:38.212Z"
   },
   {
    "duration": 33,
    "start_time": "2022-06-28T19:02:42.403Z"
   },
   {
    "duration": 14,
    "start_time": "2022-06-28T19:03:04.825Z"
   },
   {
    "duration": 36,
    "start_time": "2022-06-28T19:03:17.520Z"
   },
   {
    "duration": 27,
    "start_time": "2022-06-28T19:03:23.751Z"
   },
   {
    "duration": 26,
    "start_time": "2022-06-28T19:03:36.780Z"
   },
   {
    "duration": 10,
    "start_time": "2022-06-28T19:04:09.115Z"
   },
   {
    "duration": 1011,
    "start_time": "2022-06-28T19:04:43.099Z"
   },
   {
    "duration": 9,
    "start_time": "2022-06-28T19:05:04.458Z"
   },
   {
    "duration": 10,
    "start_time": "2022-06-28T19:05:07.980Z"
   },
   {
    "duration": 9,
    "start_time": "2022-06-28T19:05:10.630Z"
   },
   {
    "duration": 11,
    "start_time": "2022-06-28T19:05:12.633Z"
   },
   {
    "duration": 11,
    "start_time": "2022-06-28T19:05:16.000Z"
   },
   {
    "duration": 21,
    "start_time": "2022-06-28T19:07:14.286Z"
   },
   {
    "duration": 21,
    "start_time": "2022-06-28T19:07:20.188Z"
   },
   {
    "duration": 20,
    "start_time": "2022-06-28T19:07:35.829Z"
   },
   {
    "duration": 13,
    "start_time": "2022-06-28T19:11:45.648Z"
   },
   {
    "duration": 10,
    "start_time": "2022-06-28T19:11:56.030Z"
   },
   {
    "duration": 3,
    "start_time": "2022-06-28T19:12:12.563Z"
   },
   {
    "duration": 10,
    "start_time": "2022-06-28T19:12:14.623Z"
   },
   {
    "duration": 11,
    "start_time": "2022-06-28T19:12:33.021Z"
   },
   {
    "duration": 10,
    "start_time": "2022-06-28T19:13:41.986Z"
   },
   {
    "duration": 11,
    "start_time": "2022-06-28T19:16:39.673Z"
   },
   {
    "duration": 10,
    "start_time": "2022-06-28T19:16:43.346Z"
   },
   {
    "duration": 3,
    "start_time": "2022-06-28T19:16:56.927Z"
   },
   {
    "duration": 422,
    "start_time": "2022-06-28T19:16:56.932Z"
   },
   {
    "duration": 37,
    "start_time": "2022-06-28T19:16:57.355Z"
   },
   {
    "duration": 32,
    "start_time": "2022-06-28T19:16:57.394Z"
   },
   {
    "duration": 20,
    "start_time": "2022-06-28T19:16:57.429Z"
   },
   {
    "duration": 17,
    "start_time": "2022-06-28T19:16:57.450Z"
   },
   {
    "duration": 10,
    "start_time": "2022-06-28T19:16:57.468Z"
   },
   {
    "duration": 14,
    "start_time": "2022-06-28T19:16:57.480Z"
   },
   {
    "duration": 76,
    "start_time": "2022-06-28T19:16:57.526Z"
   },
   {
    "duration": 22,
    "start_time": "2022-06-28T19:16:57.604Z"
   },
   {
    "duration": 12,
    "start_time": "2022-06-28T19:16:57.627Z"
   },
   {
    "duration": 100,
    "start_time": "2022-06-28T19:16:57.641Z"
   },
   {
    "duration": 6,
    "start_time": "2022-06-28T19:16:57.743Z"
   },
   {
    "duration": 38,
    "start_time": "2022-06-28T19:16:57.751Z"
   },
   {
    "duration": 57,
    "start_time": "2022-06-28T19:16:57.791Z"
   },
   {
    "duration": 47,
    "start_time": "2022-06-28T19:16:57.850Z"
   },
   {
    "duration": 30,
    "start_time": "2022-06-28T19:16:57.898Z"
   },
   {
    "duration": 23,
    "start_time": "2022-06-28T19:16:57.930Z"
   },
   {
    "duration": 12,
    "start_time": "2022-06-28T19:16:57.954Z"
   },
   {
    "duration": 19,
    "start_time": "2022-06-28T19:16:57.968Z"
   },
   {
    "duration": 41,
    "start_time": "2022-06-28T19:16:57.988Z"
   },
   {
    "duration": 12,
    "start_time": "2022-06-28T19:17:01.030Z"
   },
   {
    "duration": 23,
    "start_time": "2022-06-28T19:18:26.403Z"
   },
   {
    "duration": 19,
    "start_time": "2022-06-28T19:19:10.139Z"
   },
   {
    "duration": 19,
    "start_time": "2022-06-28T19:19:16.977Z"
   },
   {
    "duration": 7,
    "start_time": "2022-06-28T19:51:47.875Z"
   },
   {
    "duration": 16,
    "start_time": "2022-06-28T19:51:53.912Z"
   },
   {
    "duration": 2,
    "start_time": "2022-06-28T19:52:24.307Z"
   },
   {
    "duration": 426,
    "start_time": "2022-06-28T19:52:24.312Z"
   },
   {
    "duration": 47,
    "start_time": "2022-06-28T19:52:24.740Z"
   },
   {
    "duration": 49,
    "start_time": "2022-06-28T19:52:24.789Z"
   },
   {
    "duration": 17,
    "start_time": "2022-06-28T19:52:24.839Z"
   },
   {
    "duration": 15,
    "start_time": "2022-06-28T19:52:24.858Z"
   },
   {
    "duration": 10,
    "start_time": "2022-06-28T19:52:24.874Z"
   },
   {
    "duration": 44,
    "start_time": "2022-06-28T19:52:24.885Z"
   },
   {
    "duration": 67,
    "start_time": "2022-06-28T19:52:24.931Z"
   },
   {
    "duration": 7,
    "start_time": "2022-06-28T19:52:25.000Z"
   },
   {
    "duration": 9,
    "start_time": "2022-06-28T19:52:25.026Z"
   },
   {
    "duration": 90,
    "start_time": "2022-06-28T19:52:25.036Z"
   },
   {
    "duration": 6,
    "start_time": "2022-06-28T19:52:25.128Z"
   },
   {
    "duration": 36,
    "start_time": "2022-06-28T19:52:25.135Z"
   },
   {
    "duration": 60,
    "start_time": "2022-06-28T19:52:25.173Z"
   },
   {
    "duration": 48,
    "start_time": "2022-06-28T19:52:25.235Z"
   },
   {
    "duration": 10,
    "start_time": "2022-06-28T19:52:25.284Z"
   },
   {
    "duration": 49,
    "start_time": "2022-06-28T19:52:25.296Z"
   },
   {
    "duration": 12,
    "start_time": "2022-06-28T19:52:25.346Z"
   },
   {
    "duration": 18,
    "start_time": "2022-06-28T19:52:25.359Z"
   },
   {
    "duration": 8,
    "start_time": "2022-06-28T19:52:25.379Z"
   },
   {
    "duration": 44,
    "start_time": "2022-06-28T19:52:25.388Z"
   },
   {
    "duration": 20,
    "start_time": "2022-06-28T19:52:25.434Z"
   },
   {
    "duration": 16,
    "start_time": "2022-06-28T19:52:27.690Z"
   },
   {
    "duration": 17,
    "start_time": "2022-06-28T19:53:36.871Z"
   },
   {
    "duration": 16,
    "start_time": "2022-06-28T19:53:59.240Z"
   },
   {
    "duration": 15,
    "start_time": "2022-06-28T19:54:04.793Z"
   },
   {
    "duration": 17,
    "start_time": "2022-06-28T19:54:07.634Z"
   },
   {
    "duration": 15,
    "start_time": "2022-06-28T19:54:09.790Z"
   },
   {
    "duration": 17,
    "start_time": "2022-06-28T19:54:12.400Z"
   },
   {
    "duration": 18,
    "start_time": "2022-06-28T19:54:14.966Z"
   },
   {
    "duration": 17,
    "start_time": "2022-06-28T19:54:19.067Z"
   },
   {
    "duration": 8,
    "start_time": "2022-06-28T19:54:43.064Z"
   },
   {
    "duration": 14,
    "start_time": "2022-06-28T19:54:57.739Z"
   },
   {
    "duration": 19,
    "start_time": "2022-06-28T19:55:13.152Z"
   },
   {
    "duration": 17,
    "start_time": "2022-06-28T19:56:00.778Z"
   },
   {
    "duration": 18,
    "start_time": "2022-06-28T19:56:03.567Z"
   },
   {
    "duration": 16,
    "start_time": "2022-06-28T19:56:13.004Z"
   },
   {
    "duration": 16,
    "start_time": "2022-06-28T19:56:17.395Z"
   },
   {
    "duration": 17,
    "start_time": "2022-06-28T19:57:01.095Z"
   },
   {
    "duration": 18,
    "start_time": "2022-06-28T19:57:20.665Z"
   },
   {
    "duration": 17,
    "start_time": "2022-06-28T19:59:16.302Z"
   },
   {
    "duration": 18,
    "start_time": "2022-06-28T19:59:41.503Z"
   },
   {
    "duration": 19,
    "start_time": "2022-06-28T19:59:53.276Z"
   },
   {
    "duration": 4,
    "start_time": "2022-06-28T20:00:08.738Z"
   },
   {
    "duration": 466,
    "start_time": "2022-06-28T20:00:08.744Z"
   },
   {
    "duration": 35,
    "start_time": "2022-06-28T20:00:09.212Z"
   },
   {
    "duration": 21,
    "start_time": "2022-06-28T20:00:09.249Z"
   },
   {
    "duration": 55,
    "start_time": "2022-06-28T20:00:09.271Z"
   },
   {
    "duration": 17,
    "start_time": "2022-06-28T20:00:09.327Z"
   },
   {
    "duration": 9,
    "start_time": "2022-06-28T20:00:09.345Z"
   },
   {
    "duration": 11,
    "start_time": "2022-06-28T20:00:09.356Z"
   },
   {
    "duration": 107,
    "start_time": "2022-06-28T20:00:09.369Z"
   },
   {
    "duration": 7,
    "start_time": "2022-06-28T20:00:09.479Z"
   },
   {
    "duration": 12,
    "start_time": "2022-06-28T20:00:09.487Z"
   },
   {
    "duration": 96,
    "start_time": "2022-06-28T20:00:09.500Z"
   },
   {
    "duration": 6,
    "start_time": "2022-06-28T20:00:09.598Z"
   },
   {
    "duration": 52,
    "start_time": "2022-06-28T20:00:09.605Z"
   },
   {
    "duration": 37,
    "start_time": "2022-06-28T20:00:09.659Z"
   },
   {
    "duration": 63,
    "start_time": "2022-06-28T20:00:09.697Z"
   },
   {
    "duration": 9,
    "start_time": "2022-06-28T20:00:09.762Z"
   },
   {
    "duration": 25,
    "start_time": "2022-06-28T20:00:09.773Z"
   },
   {
    "duration": 34,
    "start_time": "2022-06-28T20:00:09.799Z"
   },
   {
    "duration": 20,
    "start_time": "2022-06-28T20:00:09.835Z"
   },
   {
    "duration": 8,
    "start_time": "2022-06-28T20:00:09.857Z"
   },
   {
    "duration": 11,
    "start_time": "2022-06-28T20:00:09.866Z"
   },
   {
    "duration": 56,
    "start_time": "2022-06-28T20:00:09.878Z"
   },
   {
    "duration": 15,
    "start_time": "2022-06-28T20:00:09.936Z"
   },
   {
    "duration": 19,
    "start_time": "2022-06-28T20:00:15.161Z"
   },
   {
    "duration": 1225,
    "start_time": "2022-06-28T20:01:46.385Z"
   },
   {
    "duration": 20,
    "start_time": "2022-06-28T20:02:06.285Z"
   },
   {
    "duration": 12,
    "start_time": "2022-06-28T20:02:43.324Z"
   },
   {
    "duration": 8,
    "start_time": "2022-06-28T20:05:01.320Z"
   },
   {
    "duration": 9,
    "start_time": "2022-06-28T20:05:12.845Z"
   },
   {
    "duration": 6,
    "start_time": "2022-06-28T20:05:16.243Z"
   },
   {
    "duration": 12,
    "start_time": "2022-06-28T20:06:01.081Z"
   },
   {
    "duration": 11,
    "start_time": "2022-06-28T20:06:14.636Z"
   },
   {
    "duration": 10,
    "start_time": "2022-06-28T20:06:36.937Z"
   },
   {
    "duration": 5,
    "start_time": "2022-06-28T20:08:58.642Z"
   },
   {
    "duration": 5,
    "start_time": "2022-06-28T20:09:08.873Z"
   },
   {
    "duration": 8,
    "start_time": "2022-06-28T20:09:39.761Z"
   },
   {
    "duration": 7,
    "start_time": "2022-06-28T20:09:58.787Z"
   },
   {
    "duration": 7,
    "start_time": "2022-06-28T20:13:16.613Z"
   },
   {
    "duration": 8,
    "start_time": "2022-06-28T20:15:51.266Z"
   },
   {
    "duration": 802,
    "start_time": "2022-06-28T20:22:27.741Z"
   },
   {
    "duration": 456,
    "start_time": "2022-06-28T20:22:28.545Z"
   },
   {
    "duration": 43,
    "start_time": "2022-06-28T20:22:29.002Z"
   },
   {
    "duration": 23,
    "start_time": "2022-06-28T20:22:29.047Z"
   },
   {
    "duration": 18,
    "start_time": "2022-06-28T20:22:29.072Z"
   },
   {
    "duration": 50,
    "start_time": "2022-06-28T20:22:29.092Z"
   },
   {
    "duration": 10,
    "start_time": "2022-06-28T20:22:29.144Z"
   },
   {
    "duration": 11,
    "start_time": "2022-06-28T20:22:29.156Z"
   },
   {
    "duration": 107,
    "start_time": "2022-06-28T20:22:29.168Z"
   },
   {
    "duration": 10,
    "start_time": "2022-06-28T20:22:29.278Z"
   },
   {
    "duration": 15,
    "start_time": "2022-06-28T20:22:29.289Z"
   },
   {
    "duration": 154,
    "start_time": "2022-06-28T20:22:29.305Z"
   },
   {
    "duration": 8,
    "start_time": "2022-06-28T20:22:29.461Z"
   },
   {
    "duration": 36,
    "start_time": "2022-06-28T20:22:29.470Z"
   },
   {
    "duration": 43,
    "start_time": "2022-06-28T20:22:29.525Z"
   },
   {
    "duration": 70,
    "start_time": "2022-06-28T20:22:29.570Z"
   },
   {
    "duration": 13,
    "start_time": "2022-06-28T20:22:29.642Z"
   },
   {
    "duration": 26,
    "start_time": "2022-06-28T20:22:29.656Z"
   },
   {
    "duration": 7,
    "start_time": "2022-06-28T20:22:29.684Z"
   },
   {
    "duration": 51,
    "start_time": "2022-06-28T20:22:29.692Z"
   },
   {
    "duration": 7,
    "start_time": "2022-06-28T20:22:29.744Z"
   },
   {
    "duration": 16,
    "start_time": "2022-06-28T20:22:29.752Z"
   },
   {
    "duration": 20,
    "start_time": "2022-06-28T20:22:29.769Z"
   },
   {
    "duration": 40,
    "start_time": "2022-06-28T20:22:29.791Z"
   },
   {
    "duration": 16,
    "start_time": "2022-06-28T20:22:29.833Z"
   },
   {
    "duration": 18,
    "start_time": "2022-06-28T20:22:29.851Z"
   },
   {
    "duration": 7,
    "start_time": "2022-06-28T20:22:29.871Z"
   },
   {
    "duration": 49,
    "start_time": "2022-06-28T20:22:29.882Z"
   },
   {
    "duration": 9,
    "start_time": "2022-06-28T20:22:29.932Z"
   },
   {
    "duration": 1431,
    "start_time": "2022-06-28T20:23:16.576Z"
   },
   {
    "duration": 16,
    "start_time": "2022-06-28T20:23:44.676Z"
   },
   {
    "duration": 80,
    "start_time": "2022-06-28T20:23:51.466Z"
   },
   {
    "duration": 15,
    "start_time": "2022-06-28T20:24:03.839Z"
   },
   {
    "duration": 1300,
    "start_time": "2022-06-28T20:24:19.974Z"
   },
   {
    "duration": 77,
    "start_time": "2022-06-28T20:24:35.102Z"
   },
   {
    "duration": 8,
    "start_time": "2022-06-28T20:24:57.499Z"
   },
   {
    "duration": 4,
    "start_time": "2022-06-28T20:25:08.301Z"
   },
   {
    "duration": 5,
    "start_time": "2022-06-28T20:25:14.537Z"
   },
   {
    "duration": 6,
    "start_time": "2022-06-28T20:25:21.983Z"
   },
   {
    "duration": 7,
    "start_time": "2022-06-28T20:25:29.910Z"
   },
   {
    "duration": 11,
    "start_time": "2022-06-28T20:26:05.634Z"
   },
   {
    "duration": 13,
    "start_time": "2022-06-28T20:26:08.138Z"
   },
   {
    "duration": 15,
    "start_time": "2022-06-28T20:26:25.964Z"
   },
   {
    "duration": 853,
    "start_time": "2022-06-28T20:28:11.807Z"
   },
   {
    "duration": 466,
    "start_time": "2022-06-28T20:28:12.663Z"
   },
   {
    "duration": 51,
    "start_time": "2022-06-28T20:28:13.131Z"
   },
   {
    "duration": 59,
    "start_time": "2022-06-28T20:28:13.184Z"
   },
   {
    "duration": 18,
    "start_time": "2022-06-28T20:28:13.245Z"
   },
   {
    "duration": 17,
    "start_time": "2022-06-28T20:28:13.265Z"
   },
   {
    "duration": 11,
    "start_time": "2022-06-28T20:28:13.284Z"
   },
   {
    "duration": 10,
    "start_time": "2022-06-28T20:28:13.326Z"
   },
   {
    "duration": 91,
    "start_time": "2022-06-28T20:28:13.338Z"
   },
   {
    "duration": 9,
    "start_time": "2022-06-28T20:28:13.432Z"
   },
   {
    "duration": 11,
    "start_time": "2022-06-28T20:28:13.442Z"
   },
   {
    "duration": 123,
    "start_time": "2022-06-28T20:28:13.454Z"
   },
   {
    "duration": 7,
    "start_time": "2022-06-28T20:28:13.578Z"
   },
   {
    "duration": 53,
    "start_time": "2022-06-28T20:28:13.587Z"
   },
   {
    "duration": 42,
    "start_time": "2022-06-28T20:28:13.642Z"
   },
   {
    "duration": 71,
    "start_time": "2022-06-28T20:28:13.685Z"
   },
   {
    "duration": 12,
    "start_time": "2022-06-28T20:28:13.758Z"
   },
   {
    "duration": 28,
    "start_time": "2022-06-28T20:28:13.772Z"
   },
   {
    "duration": 9,
    "start_time": "2022-06-28T20:28:13.826Z"
   },
   {
    "duration": 23,
    "start_time": "2022-06-28T20:28:13.837Z"
   },
   {
    "duration": 6,
    "start_time": "2022-06-28T20:28:13.862Z"
   },
   {
    "duration": 14,
    "start_time": "2022-06-28T20:28:13.870Z"
   },
   {
    "duration": 58,
    "start_time": "2022-06-28T20:28:13.886Z"
   },
   {
    "duration": 17,
    "start_time": "2022-06-28T20:28:13.946Z"
   },
   {
    "duration": 20,
    "start_time": "2022-06-28T20:28:13.964Z"
   },
   {
    "duration": 58,
    "start_time": "2022-06-28T20:28:13.986Z"
   },
   {
    "duration": 10,
    "start_time": "2022-06-28T20:28:14.046Z"
   },
   {
    "duration": 9,
    "start_time": "2022-06-28T20:28:14.058Z"
   },
   {
    "duration": 8,
    "start_time": "2022-06-28T20:28:14.069Z"
   },
   {
    "duration": 53,
    "start_time": "2022-06-28T20:28:14.078Z"
   },
   {
    "duration": 1457,
    "start_time": "2022-06-28T20:32:25.985Z"
   },
   {
    "duration": 3,
    "start_time": "2022-06-28T20:32:30.278Z"
   },
   {
    "duration": 481,
    "start_time": "2022-06-28T20:32:30.284Z"
   },
   {
    "duration": 39,
    "start_time": "2022-06-28T20:32:30.767Z"
   },
   {
    "duration": 23,
    "start_time": "2022-06-28T20:32:30.807Z"
   },
   {
    "duration": 21,
    "start_time": "2022-06-28T20:32:30.832Z"
   },
   {
    "duration": 24,
    "start_time": "2022-06-28T20:32:30.855Z"
   },
   {
    "duration": 12,
    "start_time": "2022-06-28T20:32:30.882Z"
   },
   {
    "duration": 19,
    "start_time": "2022-06-28T20:32:30.925Z"
   },
   {
    "duration": 83,
    "start_time": "2022-06-28T20:32:30.946Z"
   },
   {
    "duration": 7,
    "start_time": "2022-06-28T20:32:31.031Z"
   },
   {
    "duration": 12,
    "start_time": "2022-06-28T20:32:31.040Z"
   },
   {
    "duration": 111,
    "start_time": "2022-06-28T20:32:31.053Z"
   },
   {
    "duration": 7,
    "start_time": "2022-06-28T20:32:31.166Z"
   },
   {
    "duration": 57,
    "start_time": "2022-06-28T20:32:31.176Z"
   },
   {
    "duration": 40,
    "start_time": "2022-06-28T20:32:31.235Z"
   },
   {
    "duration": 71,
    "start_time": "2022-06-28T20:32:31.277Z"
   },
   {
    "duration": 10,
    "start_time": "2022-06-28T20:32:31.350Z"
   },
   {
    "duration": 24,
    "start_time": "2022-06-28T20:32:31.361Z"
   },
   {
    "duration": 7,
    "start_time": "2022-06-28T20:32:31.387Z"
   },
   {
    "duration": 47,
    "start_time": "2022-06-28T20:32:31.396Z"
   },
   {
    "duration": 7,
    "start_time": "2022-06-28T20:32:31.444Z"
   },
   {
    "duration": 15,
    "start_time": "2022-06-28T20:32:31.452Z"
   },
   {
    "duration": 26,
    "start_time": "2022-06-28T20:32:31.469Z"
   },
   {
    "duration": 19,
    "start_time": "2022-06-28T20:32:31.526Z"
   },
   {
    "duration": 18,
    "start_time": "2022-06-28T20:32:31.547Z"
   },
   {
    "duration": 17,
    "start_time": "2022-06-28T20:32:32.583Z"
   },
   {
    "duration": 19,
    "start_time": "2022-06-28T20:32:53.863Z"
   },
   {
    "duration": 792,
    "start_time": "2022-06-28T20:33:03.548Z"
   },
   {
    "duration": 447,
    "start_time": "2022-06-28T20:33:04.342Z"
   },
   {
    "duration": 45,
    "start_time": "2022-06-28T20:33:04.791Z"
   },
   {
    "duration": 22,
    "start_time": "2022-06-28T20:33:04.838Z"
   },
   {
    "duration": 18,
    "start_time": "2022-06-28T20:33:04.861Z"
   },
   {
    "duration": 44,
    "start_time": "2022-06-28T20:33:04.881Z"
   },
   {
    "duration": 11,
    "start_time": "2022-06-28T20:33:04.927Z"
   },
   {
    "duration": 16,
    "start_time": "2022-06-28T20:33:04.940Z"
   },
   {
    "duration": 97,
    "start_time": "2022-06-28T20:33:04.958Z"
   },
   {
    "duration": 9,
    "start_time": "2022-06-28T20:33:05.057Z"
   },
   {
    "duration": 13,
    "start_time": "2022-06-28T20:33:05.067Z"
   },
   {
    "duration": 117,
    "start_time": "2022-06-28T20:33:05.082Z"
   },
   {
    "duration": 7,
    "start_time": "2022-06-28T20:33:05.200Z"
   },
   {
    "duration": 50,
    "start_time": "2022-06-28T20:33:05.209Z"
   },
   {
    "duration": 39,
    "start_time": "2022-06-28T20:33:05.261Z"
   },
   {
    "duration": 67,
    "start_time": "2022-06-28T20:33:05.301Z"
   },
   {
    "duration": 10,
    "start_time": "2022-06-28T20:33:05.370Z"
   },
   {
    "duration": 45,
    "start_time": "2022-06-28T20:33:05.382Z"
   },
   {
    "duration": 8,
    "start_time": "2022-06-28T20:33:05.429Z"
   },
   {
    "duration": 23,
    "start_time": "2022-06-28T20:33:05.439Z"
   },
   {
    "duration": 6,
    "start_time": "2022-06-28T20:33:05.463Z"
   },
   {
    "duration": 16,
    "start_time": "2022-06-28T20:33:05.471Z"
   },
   {
    "duration": 51,
    "start_time": "2022-06-28T20:33:05.489Z"
   },
   {
    "duration": 14,
    "start_time": "2022-06-28T20:33:05.541Z"
   },
   {
    "duration": 14,
    "start_time": "2022-06-28T20:33:05.556Z"
   },
   {
    "duration": 15,
    "start_time": "2022-06-28T20:33:05.571Z"
   },
   {
    "duration": 42,
    "start_time": "2022-06-28T20:33:05.588Z"
   },
   {
    "duration": 9,
    "start_time": "2022-06-28T20:33:05.632Z"
   },
   {
    "duration": 8,
    "start_time": "2022-06-28T20:33:05.642Z"
   },
   {
    "duration": 12,
    "start_time": "2022-06-28T20:33:05.652Z"
   },
   {
    "duration": 5,
    "start_time": "2022-06-28T20:42:03.620Z"
   },
   {
    "duration": 58,
    "start_time": "2022-06-28T20:43:31.067Z"
   },
   {
    "duration": 75,
    "start_time": "2022-06-28T20:43:46.465Z"
   },
   {
    "duration": 8,
    "start_time": "2022-06-28T20:49:03.396Z"
   },
   {
    "duration": 789,
    "start_time": "2022-06-28T20:49:11.667Z"
   },
   {
    "duration": 455,
    "start_time": "2022-06-28T20:49:12.458Z"
   },
   {
    "duration": 44,
    "start_time": "2022-06-28T20:49:12.914Z"
   },
   {
    "duration": 24,
    "start_time": "2022-06-28T20:49:12.960Z"
   },
   {
    "duration": 20,
    "start_time": "2022-06-28T20:49:13.025Z"
   },
   {
    "duration": 17,
    "start_time": "2022-06-28T20:49:13.047Z"
   },
   {
    "duration": 10,
    "start_time": "2022-06-28T20:49:13.066Z"
   },
   {
    "duration": 13,
    "start_time": "2022-06-28T20:49:13.077Z"
   },
   {
    "duration": 109,
    "start_time": "2022-06-28T20:49:13.091Z"
   },
   {
    "duration": 9,
    "start_time": "2022-06-28T20:49:13.202Z"
   },
   {
    "duration": 10,
    "start_time": "2022-06-28T20:49:13.225Z"
   },
   {
    "duration": 118,
    "start_time": "2022-06-28T20:49:13.237Z"
   },
   {
    "duration": 7,
    "start_time": "2022-06-28T20:49:13.356Z"
   },
   {
    "duration": 60,
    "start_time": "2022-06-28T20:49:13.366Z"
   },
   {
    "duration": 40,
    "start_time": "2022-06-28T20:49:13.427Z"
   },
   {
    "duration": 66,
    "start_time": "2022-06-28T20:49:13.468Z"
   },
   {
    "duration": 11,
    "start_time": "2022-06-28T20:49:13.536Z"
   },
   {
    "duration": 26,
    "start_time": "2022-06-28T20:49:13.548Z"
   },
   {
    "duration": 8,
    "start_time": "2022-06-28T20:49:13.576Z"
   },
   {
    "duration": 56,
    "start_time": "2022-06-28T20:49:13.586Z"
   },
   {
    "duration": 7,
    "start_time": "2022-06-28T20:49:13.644Z"
   },
   {
    "duration": 14,
    "start_time": "2022-06-28T20:49:13.652Z"
   },
   {
    "duration": 21,
    "start_time": "2022-06-28T20:49:13.668Z"
   },
   {
    "duration": 44,
    "start_time": "2022-06-28T20:49:13.691Z"
   },
   {
    "duration": 15,
    "start_time": "2022-06-28T20:49:13.737Z"
   },
   {
    "duration": 15,
    "start_time": "2022-06-28T20:49:13.754Z"
   },
   {
    "duration": 6,
    "start_time": "2022-06-28T20:49:13.771Z"
   },
   {
    "duration": 9,
    "start_time": "2022-06-28T20:49:13.779Z"
   },
   {
    "duration": 8,
    "start_time": "2022-06-28T20:49:13.825Z"
   },
   {
    "duration": 12,
    "start_time": "2022-06-28T20:49:13.835Z"
   },
   {
    "duration": 6,
    "start_time": "2022-06-28T20:49:13.849Z"
   },
   {
    "duration": 101,
    "start_time": "2022-06-28T20:49:13.857Z"
   },
   {
    "duration": 5,
    "start_time": "2022-06-28T20:49:54.756Z"
   },
   {
    "duration": 4,
    "start_time": "2022-06-28T21:00:54.678Z"
   },
   {
    "duration": 22,
    "start_time": "2022-06-28T21:01:02.539Z"
   },
   {
    "duration": 2,
    "start_time": "2022-06-28T21:06:28.384Z"
   },
   {
    "duration": 453,
    "start_time": "2022-06-28T21:06:28.388Z"
   },
   {
    "duration": 40,
    "start_time": "2022-06-28T21:06:28.843Z"
   },
   {
    "duration": 22,
    "start_time": "2022-06-28T21:06:28.884Z"
   },
   {
    "duration": 20,
    "start_time": "2022-06-28T21:06:28.926Z"
   },
   {
    "duration": 16,
    "start_time": "2022-06-28T21:06:28.947Z"
   },
   {
    "duration": 9,
    "start_time": "2022-06-28T21:06:28.965Z"
   },
   {
    "duration": 12,
    "start_time": "2022-06-28T21:06:28.976Z"
   },
   {
    "duration": 98,
    "start_time": "2022-06-28T21:06:28.989Z"
   },
   {
    "duration": 7,
    "start_time": "2022-06-28T21:06:29.089Z"
   },
   {
    "duration": 11,
    "start_time": "2022-06-28T21:06:29.097Z"
   },
   {
    "duration": 105,
    "start_time": "2022-06-28T21:06:29.110Z"
   },
   {
    "duration": 7,
    "start_time": "2022-06-28T21:06:29.226Z"
   },
   {
    "duration": 40,
    "start_time": "2022-06-28T21:06:29.236Z"
   },
   {
    "duration": 58,
    "start_time": "2022-06-28T21:06:29.278Z"
   },
   {
    "duration": 51,
    "start_time": "2022-06-28T21:06:29.338Z"
   },
   {
    "duration": 10,
    "start_time": "2022-06-28T21:06:29.391Z"
   },
   {
    "duration": 44,
    "start_time": "2022-06-28T21:06:29.403Z"
   },
   {
    "duration": 7,
    "start_time": "2022-06-28T21:06:29.449Z"
   },
   {
    "duration": 20,
    "start_time": "2022-06-28T21:06:29.458Z"
   },
   {
    "duration": 6,
    "start_time": "2022-06-28T21:06:29.480Z"
   },
   {
    "duration": 12,
    "start_time": "2022-06-28T21:06:29.488Z"
   },
   {
    "duration": 19,
    "start_time": "2022-06-28T21:06:29.526Z"
   },
   {
    "duration": 759,
    "start_time": "2022-06-28T21:07:30.783Z"
   },
   {
    "duration": 444,
    "start_time": "2022-06-28T21:07:31.544Z"
   },
   {
    "duration": 41,
    "start_time": "2022-06-28T21:07:31.989Z"
   },
   {
    "duration": 20,
    "start_time": "2022-06-28T21:07:32.032Z"
   },
   {
    "duration": 18,
    "start_time": "2022-06-28T21:07:32.054Z"
   },
   {
    "duration": 15,
    "start_time": "2022-06-28T21:07:32.074Z"
   },
   {
    "duration": 9,
    "start_time": "2022-06-28T21:07:32.091Z"
   },
   {
    "duration": 10,
    "start_time": "2022-06-28T21:07:32.126Z"
   },
   {
    "duration": 89,
    "start_time": "2022-06-28T21:07:32.138Z"
   },
   {
    "duration": 9,
    "start_time": "2022-06-28T21:07:32.228Z"
   },
   {
    "duration": 17,
    "start_time": "2022-06-28T21:07:32.238Z"
   },
   {
    "duration": 112,
    "start_time": "2022-06-28T21:07:32.256Z"
   },
   {
    "duration": 7,
    "start_time": "2022-06-28T21:07:32.369Z"
   },
   {
    "duration": 53,
    "start_time": "2022-06-28T21:07:32.379Z"
   },
   {
    "duration": 43,
    "start_time": "2022-06-28T21:07:32.434Z"
   },
   {
    "duration": 64,
    "start_time": "2022-06-28T21:07:32.479Z"
   },
   {
    "duration": 11,
    "start_time": "2022-06-28T21:07:32.545Z"
   },
   {
    "duration": 45,
    "start_time": "2022-06-28T21:07:32.558Z"
   },
   {
    "duration": 9,
    "start_time": "2022-06-28T21:07:32.606Z"
   },
   {
    "duration": 26,
    "start_time": "2022-06-28T21:07:32.626Z"
   },
   {
    "duration": 6,
    "start_time": "2022-06-28T21:07:32.654Z"
   },
   {
    "duration": 16,
    "start_time": "2022-06-28T21:07:32.662Z"
   },
   {
    "duration": 19,
    "start_time": "2022-06-28T21:07:32.679Z"
   },
   {
    "duration": 29,
    "start_time": "2022-06-28T21:07:32.700Z"
   },
   {
    "duration": 13,
    "start_time": "2022-06-28T21:07:32.731Z"
   },
   {
    "duration": 1319,
    "start_time": "2022-06-28T21:07:32.746Z"
   },
   {
    "duration": 0,
    "start_time": "2022-06-28T21:07:34.067Z"
   },
   {
    "duration": 0,
    "start_time": "2022-06-28T21:07:34.068Z"
   },
   {
    "duration": 0,
    "start_time": "2022-06-28T21:07:34.069Z"
   },
   {
    "duration": 0,
    "start_time": "2022-06-28T21:07:34.070Z"
   },
   {
    "duration": 0,
    "start_time": "2022-06-28T21:07:34.071Z"
   },
   {
    "duration": 0,
    "start_time": "2022-06-28T21:07:34.072Z"
   },
   {
    "duration": 0,
    "start_time": "2022-06-28T21:07:34.073Z"
   },
   {
    "duration": 0,
    "start_time": "2022-06-28T21:07:34.074Z"
   },
   {
    "duration": 831,
    "start_time": "2022-06-28T21:07:48.907Z"
   },
   {
    "duration": 464,
    "start_time": "2022-06-28T21:07:49.740Z"
   },
   {
    "duration": 40,
    "start_time": "2022-06-28T21:07:50.206Z"
   },
   {
    "duration": 28,
    "start_time": "2022-06-28T21:07:50.248Z"
   },
   {
    "duration": 26,
    "start_time": "2022-06-28T21:07:50.277Z"
   },
   {
    "duration": 16,
    "start_time": "2022-06-28T21:07:50.326Z"
   },
   {
    "duration": 27,
    "start_time": "2022-06-28T21:07:50.343Z"
   },
   {
    "duration": 21,
    "start_time": "2022-06-28T21:07:50.372Z"
   },
   {
    "duration": 78,
    "start_time": "2022-06-28T21:07:50.395Z"
   },
   {
    "duration": 10,
    "start_time": "2022-06-28T21:07:50.476Z"
   },
   {
    "duration": 19,
    "start_time": "2022-06-28T21:07:50.488Z"
   },
   {
    "duration": 104,
    "start_time": "2022-06-28T21:07:50.509Z"
   },
   {
    "duration": 14,
    "start_time": "2022-06-28T21:07:50.615Z"
   },
   {
    "duration": 42,
    "start_time": "2022-06-28T21:07:50.630Z"
   },
   {
    "duration": 55,
    "start_time": "2022-06-28T21:07:50.673Z"
   },
   {
    "duration": 50,
    "start_time": "2022-06-28T21:07:50.729Z"
   },
   {
    "duration": 11,
    "start_time": "2022-06-28T21:07:50.781Z"
   },
   {
    "duration": 45,
    "start_time": "2022-06-28T21:07:50.794Z"
   },
   {
    "duration": 8,
    "start_time": "2022-06-28T21:07:50.841Z"
   },
   {
    "duration": 22,
    "start_time": "2022-06-28T21:07:50.850Z"
   },
   {
    "duration": 7,
    "start_time": "2022-06-28T21:07:50.873Z"
   },
   {
    "duration": 17,
    "start_time": "2022-06-28T21:07:50.881Z"
   },
   {
    "duration": 44,
    "start_time": "2022-06-28T21:07:50.899Z"
   },
   {
    "duration": 14,
    "start_time": "2022-06-28T21:07:50.945Z"
   },
   {
    "duration": 15,
    "start_time": "2022-06-28T21:07:50.961Z"
   },
   {
    "duration": 111,
    "start_time": "2022-06-28T21:07:50.977Z"
   },
   {
    "duration": 0,
    "start_time": "2022-06-28T21:07:51.090Z"
   },
   {
    "duration": 0,
    "start_time": "2022-06-28T21:07:51.091Z"
   },
   {
    "duration": 0,
    "start_time": "2022-06-28T21:07:51.092Z"
   },
   {
    "duration": 0,
    "start_time": "2022-06-28T21:07:51.093Z"
   },
   {
    "duration": 0,
    "start_time": "2022-06-28T21:07:51.094Z"
   },
   {
    "duration": 0,
    "start_time": "2022-06-28T21:07:51.095Z"
   },
   {
    "duration": 0,
    "start_time": "2022-06-28T21:07:51.096Z"
   },
   {
    "duration": 0,
    "start_time": "2022-06-28T21:07:51.097Z"
   },
   {
    "duration": 15,
    "start_time": "2022-06-28T21:08:16.045Z"
   },
   {
    "duration": 818,
    "start_time": "2022-06-28T21:08:22.035Z"
   },
   {
    "duration": 460,
    "start_time": "2022-06-28T21:08:22.855Z"
   },
   {
    "duration": 42,
    "start_time": "2022-06-28T21:08:23.317Z"
   },
   {
    "duration": 23,
    "start_time": "2022-06-28T21:08:23.361Z"
   },
   {
    "duration": 49,
    "start_time": "2022-06-28T21:08:23.385Z"
   },
   {
    "duration": 16,
    "start_time": "2022-06-28T21:08:23.435Z"
   },
   {
    "duration": 9,
    "start_time": "2022-06-28T21:08:23.453Z"
   },
   {
    "duration": 15,
    "start_time": "2022-06-28T21:08:23.464Z"
   },
   {
    "duration": 102,
    "start_time": "2022-06-28T21:08:23.481Z"
   },
   {
    "duration": 9,
    "start_time": "2022-06-28T21:08:23.586Z"
   },
   {
    "duration": 10,
    "start_time": "2022-06-28T21:08:23.597Z"
   },
   {
    "duration": 117,
    "start_time": "2022-06-28T21:08:23.609Z"
   },
   {
    "duration": 6,
    "start_time": "2022-06-28T21:08:23.727Z"
   },
   {
    "duration": 44,
    "start_time": "2022-06-28T21:08:23.735Z"
   },
   {
    "duration": 57,
    "start_time": "2022-06-28T21:08:23.781Z"
   },
   {
    "duration": 48,
    "start_time": "2022-06-28T21:08:23.840Z"
   },
   {
    "duration": 11,
    "start_time": "2022-06-28T21:08:23.890Z"
   },
   {
    "duration": 47,
    "start_time": "2022-06-28T21:08:23.902Z"
   },
   {
    "duration": 8,
    "start_time": "2022-06-28T21:08:23.951Z"
   },
   {
    "duration": 26,
    "start_time": "2022-06-28T21:08:23.961Z"
   },
   {
    "duration": 7,
    "start_time": "2022-06-28T21:08:23.988Z"
   },
   {
    "duration": 40,
    "start_time": "2022-06-28T21:08:23.996Z"
   },
   {
    "duration": 21,
    "start_time": "2022-06-28T21:08:24.039Z"
   },
   {
    "duration": 17,
    "start_time": "2022-06-28T21:08:24.062Z"
   },
   {
    "duration": 21,
    "start_time": "2022-06-28T21:08:24.081Z"
   },
   {
    "duration": 15,
    "start_time": "2022-06-28T21:08:24.126Z"
   },
   {
    "duration": 6,
    "start_time": "2022-06-28T21:08:24.142Z"
   },
   {
    "duration": 7,
    "start_time": "2022-06-28T21:08:24.151Z"
   },
   {
    "duration": 9,
    "start_time": "2022-06-28T21:08:24.160Z"
   },
   {
    "duration": 16,
    "start_time": "2022-06-28T21:08:24.171Z"
   },
   {
    "duration": 37,
    "start_time": "2022-06-28T21:08:24.189Z"
   },
   {
    "duration": 76,
    "start_time": "2022-06-28T21:08:24.227Z"
   },
   {
    "duration": 3,
    "start_time": "2022-06-28T21:08:24.305Z"
   },
   {
    "duration": 36,
    "start_time": "2022-06-28T21:08:24.310Z"
   },
   {
    "duration": 17,
    "start_time": "2022-06-28T21:09:25.184Z"
   },
   {
    "duration": 17,
    "start_time": "2022-06-28T21:10:38.491Z"
   },
   {
    "duration": 15,
    "start_time": "2022-06-28T21:11:20.448Z"
   },
   {
    "duration": 21,
    "start_time": "2022-06-28T21:11:28.528Z"
   },
   {
    "duration": 23,
    "start_time": "2022-06-28T21:11:50.037Z"
   },
   {
    "duration": 12,
    "start_time": "2022-06-28T21:12:16.228Z"
   },
   {
    "duration": 14,
    "start_time": "2022-06-28T21:12:22.177Z"
   },
   {
    "duration": 11,
    "start_time": "2022-06-28T21:12:24.520Z"
   },
   {
    "duration": 19,
    "start_time": "2022-06-28T21:12:55.540Z"
   },
   {
    "duration": 17,
    "start_time": "2022-06-28T21:13:08.277Z"
   },
   {
    "duration": 20,
    "start_time": "2022-06-28T21:13:18.650Z"
   },
   {
    "duration": 16,
    "start_time": "2022-06-28T21:13:34.544Z"
   },
   {
    "duration": 800,
    "start_time": "2022-06-28T21:13:40.142Z"
   },
   {
    "duration": 441,
    "start_time": "2022-06-28T21:13:40.944Z"
   },
   {
    "duration": 41,
    "start_time": "2022-06-28T21:13:41.389Z"
   },
   {
    "duration": 23,
    "start_time": "2022-06-28T21:13:41.431Z"
   },
   {
    "duration": 18,
    "start_time": "2022-06-28T21:13:41.455Z"
   },
   {
    "duration": 16,
    "start_time": "2022-06-28T21:13:41.475Z"
   },
   {
    "duration": 10,
    "start_time": "2022-06-28T21:13:41.492Z"
   },
   {
    "duration": 13,
    "start_time": "2022-06-28T21:13:41.526Z"
   },
   {
    "duration": 94,
    "start_time": "2022-06-28T21:13:41.542Z"
   },
   {
    "duration": 8,
    "start_time": "2022-06-28T21:13:41.638Z"
   },
   {
    "duration": 11,
    "start_time": "2022-06-28T21:13:41.648Z"
   },
   {
    "duration": 108,
    "start_time": "2022-06-28T21:13:41.660Z"
   },
   {
    "duration": 7,
    "start_time": "2022-06-28T21:13:41.769Z"
   },
   {
    "duration": 52,
    "start_time": "2022-06-28T21:13:41.777Z"
   },
   {
    "duration": 37,
    "start_time": "2022-06-28T21:13:41.830Z"
   },
   {
    "duration": 62,
    "start_time": "2022-06-28T21:13:41.869Z"
   },
   {
    "duration": 10,
    "start_time": "2022-06-28T21:13:41.933Z"
   },
   {
    "duration": 26,
    "start_time": "2022-06-28T21:13:41.944Z"
   },
   {
    "duration": 7,
    "start_time": "2022-06-28T21:13:41.972Z"
   },
   {
    "duration": 45,
    "start_time": "2022-06-28T21:13:41.981Z"
   },
   {
    "duration": 7,
    "start_time": "2022-06-28T21:13:42.028Z"
   },
   {
    "duration": 14,
    "start_time": "2022-06-28T21:13:42.036Z"
   },
   {
    "duration": 18,
    "start_time": "2022-06-28T21:13:42.052Z"
   },
   {
    "duration": 12,
    "start_time": "2022-06-28T21:13:42.072Z"
   },
   {
    "duration": 42,
    "start_time": "2022-06-28T21:13:42.086Z"
   },
   {
    "duration": 17,
    "start_time": "2022-06-28T21:13:42.130Z"
   },
   {
    "duration": 16,
    "start_time": "2022-06-28T21:13:42.150Z"
   },
   {
    "duration": 12,
    "start_time": "2022-06-28T21:13:42.168Z"
   },
   {
    "duration": 6,
    "start_time": "2022-06-28T21:13:42.182Z"
   },
   {
    "duration": 36,
    "start_time": "2022-06-28T21:13:42.190Z"
   },
   {
    "duration": 13,
    "start_time": "2022-06-28T21:13:42.228Z"
   },
   {
    "duration": 5,
    "start_time": "2022-06-28T21:13:42.243Z"
   },
   {
    "duration": 93,
    "start_time": "2022-06-28T21:13:42.250Z"
   },
   {
    "duration": 4,
    "start_time": "2022-06-28T21:13:42.345Z"
   },
   {
    "duration": 24,
    "start_time": "2022-06-28T21:13:42.350Z"
   },
   {
    "duration": 20,
    "start_time": "2022-06-28T21:18:31.395Z"
   },
   {
    "duration": 3,
    "start_time": "2022-06-28T21:18:34.930Z"
   },
   {
    "duration": 455,
    "start_time": "2022-06-28T21:18:34.934Z"
   },
   {
    "duration": 36,
    "start_time": "2022-06-28T21:18:35.391Z"
   },
   {
    "duration": 20,
    "start_time": "2022-06-28T21:18:35.429Z"
   },
   {
    "duration": 17,
    "start_time": "2022-06-28T21:18:35.451Z"
   },
   {
    "duration": 17,
    "start_time": "2022-06-28T21:18:35.470Z"
   },
   {
    "duration": 37,
    "start_time": "2022-06-28T21:18:35.488Z"
   },
   {
    "duration": 12,
    "start_time": "2022-06-28T21:18:35.527Z"
   },
   {
    "duration": 83,
    "start_time": "2022-06-28T21:18:35.542Z"
   },
   {
    "duration": 9,
    "start_time": "2022-06-28T21:18:35.627Z"
   },
   {
    "duration": 11,
    "start_time": "2022-06-28T21:18:35.637Z"
   },
   {
    "duration": 113,
    "start_time": "2022-06-28T21:18:35.650Z"
   },
   {
    "duration": 8,
    "start_time": "2022-06-28T21:18:35.765Z"
   },
   {
    "duration": 54,
    "start_time": "2022-06-28T21:18:35.774Z"
   },
   {
    "duration": 40,
    "start_time": "2022-06-28T21:18:35.829Z"
   },
   {
    "duration": 59,
    "start_time": "2022-06-28T21:18:35.871Z"
   },
   {
    "duration": 10,
    "start_time": "2022-06-28T21:18:35.932Z"
   },
   {
    "duration": 24,
    "start_time": "2022-06-28T21:18:35.943Z"
   },
   {
    "duration": 7,
    "start_time": "2022-06-28T21:18:35.969Z"
   },
   {
    "duration": 21,
    "start_time": "2022-06-28T21:18:35.978Z"
   },
   {
    "duration": 8,
    "start_time": "2022-06-28T21:18:36.025Z"
   },
   {
    "duration": 19,
    "start_time": "2022-06-28T21:18:36.034Z"
   },
   {
    "duration": 20,
    "start_time": "2022-06-28T21:18:36.055Z"
   },
   {
    "duration": 12,
    "start_time": "2022-06-28T21:18:36.078Z"
   },
   {
    "duration": 43,
    "start_time": "2022-06-28T21:18:36.092Z"
   },
   {
    "duration": 17,
    "start_time": "2022-06-28T21:18:39.538Z"
   },
   {
    "duration": 20,
    "start_time": "2022-06-28T21:18:40.582Z"
   },
   {
    "duration": 3,
    "start_time": "2022-06-28T21:18:47.339Z"
   },
   {
    "duration": 455,
    "start_time": "2022-06-28T21:18:47.345Z"
   },
   {
    "duration": 40,
    "start_time": "2022-06-28T21:18:47.802Z"
   },
   {
    "duration": 24,
    "start_time": "2022-06-28T21:18:47.844Z"
   },
   {
    "duration": 19,
    "start_time": "2022-06-28T21:18:47.870Z"
   },
   {
    "duration": 50,
    "start_time": "2022-06-28T21:18:47.890Z"
   },
   {
    "duration": 8,
    "start_time": "2022-06-28T21:18:47.942Z"
   },
   {
    "duration": 11,
    "start_time": "2022-06-28T21:18:47.952Z"
   },
   {
    "duration": 85,
    "start_time": "2022-06-28T21:18:47.964Z"
   },
   {
    "duration": 8,
    "start_time": "2022-06-28T21:18:48.050Z"
   },
   {
    "duration": 10,
    "start_time": "2022-06-28T21:18:48.060Z"
   },
   {
    "duration": 106,
    "start_time": "2022-06-28T21:18:48.072Z"
   },
   {
    "duration": 7,
    "start_time": "2022-06-28T21:18:48.180Z"
   },
   {
    "duration": 51,
    "start_time": "2022-06-28T21:18:48.189Z"
   },
   {
    "duration": 35,
    "start_time": "2022-06-28T21:18:48.242Z"
   },
   {
    "duration": 65,
    "start_time": "2022-06-28T21:18:48.278Z"
   },
   {
    "duration": 11,
    "start_time": "2022-06-28T21:18:48.345Z"
   },
   {
    "duration": 24,
    "start_time": "2022-06-28T21:18:48.357Z"
   },
   {
    "duration": 7,
    "start_time": "2022-06-28T21:18:48.382Z"
   },
   {
    "duration": 42,
    "start_time": "2022-06-28T21:18:48.390Z"
   },
   {
    "duration": 6,
    "start_time": "2022-06-28T21:18:48.434Z"
   },
   {
    "duration": 13,
    "start_time": "2022-06-28T21:18:48.442Z"
   },
   {
    "duration": 19,
    "start_time": "2022-06-28T21:18:48.457Z"
   },
   {
    "duration": 12,
    "start_time": "2022-06-28T21:18:48.478Z"
   },
   {
    "duration": 41,
    "start_time": "2022-06-28T21:18:48.491Z"
   },
   {
    "duration": 17,
    "start_time": "2022-06-28T21:18:48.534Z"
   },
   {
    "duration": 13,
    "start_time": "2022-06-28T21:19:12.333Z"
   },
   {
    "duration": 5,
    "start_time": "2022-06-28T21:19:44.706Z"
   },
   {
    "duration": 4,
    "start_time": "2022-06-28T21:19:49.705Z"
   },
   {
    "duration": 4,
    "start_time": "2022-06-28T21:19:53.038Z"
   },
   {
    "duration": 4,
    "start_time": "2022-06-28T21:19:58.433Z"
   },
   {
    "duration": 4,
    "start_time": "2022-06-28T21:20:02.002Z"
   },
   {
    "duration": 8,
    "start_time": "2022-06-28T21:20:25.017Z"
   },
   {
    "duration": 1589,
    "start_time": "2022-06-28T21:23:02.211Z"
   },
   {
    "duration": 11,
    "start_time": "2022-06-28T21:23:16.019Z"
   },
   {
    "duration": 8,
    "start_time": "2022-06-28T21:23:31.700Z"
   },
   {
    "duration": 8,
    "start_time": "2022-06-28T21:23:55.828Z"
   },
   {
    "duration": 3,
    "start_time": "2022-06-28T21:24:20.951Z"
   },
   {
    "duration": 442,
    "start_time": "2022-06-28T21:24:20.956Z"
   },
   {
    "duration": 36,
    "start_time": "2022-06-28T21:24:21.400Z"
   },
   {
    "duration": 22,
    "start_time": "2022-06-28T21:24:21.439Z"
   },
   {
    "duration": 18,
    "start_time": "2022-06-28T21:24:21.462Z"
   },
   {
    "duration": 44,
    "start_time": "2022-06-28T21:24:21.482Z"
   },
   {
    "duration": 11,
    "start_time": "2022-06-28T21:24:21.528Z"
   },
   {
    "duration": 13,
    "start_time": "2022-06-28T21:24:21.541Z"
   },
   {
    "duration": 87,
    "start_time": "2022-06-28T21:24:21.557Z"
   },
   {
    "duration": 7,
    "start_time": "2022-06-28T21:24:21.645Z"
   },
   {
    "duration": 10,
    "start_time": "2022-06-28T21:24:21.654Z"
   },
   {
    "duration": 99,
    "start_time": "2022-06-28T21:24:21.666Z"
   },
   {
    "duration": 6,
    "start_time": "2022-06-28T21:24:21.767Z"
   },
   {
    "duration": 36,
    "start_time": "2022-06-28T21:24:21.775Z"
   },
   {
    "duration": 37,
    "start_time": "2022-06-28T21:24:21.826Z"
   },
   {
    "duration": 60,
    "start_time": "2022-06-28T21:24:21.865Z"
   },
   {
    "duration": 10,
    "start_time": "2022-06-28T21:24:21.927Z"
   },
   {
    "duration": 22,
    "start_time": "2022-06-28T21:24:21.938Z"
   },
   {
    "duration": 8,
    "start_time": "2022-06-28T21:24:21.962Z"
   },
   {
    "duration": 25,
    "start_time": "2022-06-28T21:24:21.971Z"
   },
   {
    "duration": 32,
    "start_time": "2022-06-28T21:24:21.998Z"
   },
   {
    "duration": 17,
    "start_time": "2022-06-28T21:24:22.031Z"
   },
   {
    "duration": 16,
    "start_time": "2022-06-28T21:24:22.049Z"
   },
   {
    "duration": 14,
    "start_time": "2022-06-28T21:24:22.068Z"
   },
   {
    "duration": 14,
    "start_time": "2022-06-28T21:24:22.083Z"
   },
   {
    "duration": 18,
    "start_time": "2022-06-28T21:24:22.125Z"
   },
   {
    "duration": 6,
    "start_time": "2022-06-28T21:24:22.144Z"
   },
   {
    "duration": 10,
    "start_time": "2022-06-28T21:24:22.152Z"
   },
   {
    "duration": 1374,
    "start_time": "2022-06-28T21:24:25.222Z"
   },
   {
    "duration": 9,
    "start_time": "2022-06-28T21:24:34.222Z"
   },
   {
    "duration": 3,
    "start_time": "2022-06-28T21:26:31.947Z"
   },
   {
    "duration": 439,
    "start_time": "2022-06-28T21:26:31.952Z"
   },
   {
    "duration": 37,
    "start_time": "2022-06-28T21:26:32.393Z"
   },
   {
    "duration": 21,
    "start_time": "2022-06-28T21:26:32.432Z"
   },
   {
    "duration": 18,
    "start_time": "2022-06-28T21:26:32.455Z"
   },
   {
    "duration": 19,
    "start_time": "2022-06-28T21:26:32.475Z"
   },
   {
    "duration": 31,
    "start_time": "2022-06-28T21:26:32.496Z"
   },
   {
    "duration": 11,
    "start_time": "2022-06-28T21:26:32.528Z"
   },
   {
    "duration": 69,
    "start_time": "2022-06-28T21:26:32.540Z"
   },
   {
    "duration": 19,
    "start_time": "2022-06-28T21:26:32.611Z"
   },
   {
    "duration": 8,
    "start_time": "2022-06-28T21:26:32.632Z"
   },
   {
    "duration": 102,
    "start_time": "2022-06-28T21:26:32.641Z"
   },
   {
    "duration": 6,
    "start_time": "2022-06-28T21:26:32.745Z"
   },
   {
    "duration": 38,
    "start_time": "2022-06-28T21:26:32.752Z"
   },
   {
    "duration": 64,
    "start_time": "2022-06-28T21:26:32.791Z"
   },
   {
    "duration": 48,
    "start_time": "2022-06-28T21:26:32.857Z"
   },
   {
    "duration": 26,
    "start_time": "2022-06-28T21:26:32.906Z"
   },
   {
    "duration": 22,
    "start_time": "2022-06-28T21:26:32.933Z"
   },
   {
    "duration": 7,
    "start_time": "2022-06-28T21:26:32.957Z"
   },
   {
    "duration": 20,
    "start_time": "2022-06-28T21:26:32.966Z"
   },
   {
    "duration": 6,
    "start_time": "2022-06-28T21:26:32.987Z"
   },
   {
    "duration": 35,
    "start_time": "2022-06-28T21:26:32.995Z"
   },
   {
    "duration": 16,
    "start_time": "2022-06-28T21:26:33.032Z"
   },
   {
    "duration": 14,
    "start_time": "2022-06-28T21:26:33.049Z"
   },
   {
    "duration": 15,
    "start_time": "2022-06-28T21:26:33.064Z"
   },
   {
    "duration": 50,
    "start_time": "2022-06-28T21:26:33.080Z"
   },
   {
    "duration": 7,
    "start_time": "2022-06-28T21:26:33.132Z"
   },
   {
    "duration": 7,
    "start_time": "2022-06-28T21:26:33.141Z"
   },
   {
    "duration": 9,
    "start_time": "2022-06-28T21:26:35.083Z"
   },
   {
    "duration": 14,
    "start_time": "2022-06-28T21:27:30.376Z"
   },
   {
    "duration": 3,
    "start_time": "2022-06-28T21:28:34.569Z"
   },
   {
    "duration": 440,
    "start_time": "2022-06-28T21:28:34.574Z"
   },
   {
    "duration": 35,
    "start_time": "2022-06-28T21:28:35.016Z"
   },
   {
    "duration": 22,
    "start_time": "2022-06-28T21:28:35.053Z"
   },
   {
    "duration": 19,
    "start_time": "2022-06-28T21:28:35.076Z"
   },
   {
    "duration": 16,
    "start_time": "2022-06-28T21:28:35.125Z"
   },
   {
    "duration": 10,
    "start_time": "2022-06-28T21:28:35.142Z"
   },
   {
    "duration": 13,
    "start_time": "2022-06-28T21:28:35.153Z"
   },
   {
    "duration": 94,
    "start_time": "2022-06-28T21:28:35.169Z"
   },
   {
    "duration": 7,
    "start_time": "2022-06-28T21:28:35.264Z"
   },
   {
    "duration": 12,
    "start_time": "2022-06-28T21:28:35.273Z"
   },
   {
    "duration": 101,
    "start_time": "2022-06-28T21:28:35.286Z"
   },
   {
    "duration": 6,
    "start_time": "2022-06-28T21:28:35.388Z"
   },
   {
    "duration": 50,
    "start_time": "2022-06-28T21:28:35.396Z"
   },
   {
    "duration": 37,
    "start_time": "2022-06-28T21:28:35.448Z"
   },
   {
    "duration": 64,
    "start_time": "2022-06-28T21:28:35.487Z"
   },
   {
    "duration": 10,
    "start_time": "2022-06-28T21:28:35.553Z"
   },
   {
    "duration": 23,
    "start_time": "2022-06-28T21:28:35.564Z"
   },
   {
    "duration": 7,
    "start_time": "2022-06-28T21:28:35.589Z"
   },
   {
    "duration": 39,
    "start_time": "2022-06-28T21:28:35.597Z"
   },
   {
    "duration": 6,
    "start_time": "2022-06-28T21:28:35.637Z"
   },
   {
    "duration": 11,
    "start_time": "2022-06-28T21:28:35.828Z"
   },
   {
    "duration": 17,
    "start_time": "2022-06-28T21:28:35.841Z"
   },
   {
    "duration": 13,
    "start_time": "2022-06-28T21:28:35.860Z"
   },
   {
    "duration": 14,
    "start_time": "2022-06-28T21:28:35.874Z"
   },
   {
    "duration": 16,
    "start_time": "2022-06-28T21:28:39.209Z"
   },
   {
    "duration": 3,
    "start_time": "2022-06-28T21:28:43.535Z"
   },
   {
    "duration": 454,
    "start_time": "2022-06-28T21:28:43.540Z"
   },
   {
    "duration": 41,
    "start_time": "2022-06-28T21:28:43.996Z"
   },
   {
    "duration": 25,
    "start_time": "2022-06-28T21:28:44.039Z"
   },
   {
    "duration": 19,
    "start_time": "2022-06-28T21:28:44.066Z"
   },
   {
    "duration": 45,
    "start_time": "2022-06-28T21:28:44.087Z"
   },
   {
    "duration": 9,
    "start_time": "2022-06-28T21:28:44.134Z"
   },
   {
    "duration": 9,
    "start_time": "2022-06-28T21:28:44.145Z"
   },
   {
    "duration": 88,
    "start_time": "2022-06-28T21:28:44.155Z"
   },
   {
    "duration": 7,
    "start_time": "2022-06-28T21:28:44.245Z"
   },
   {
    "duration": 10,
    "start_time": "2022-06-28T21:28:44.255Z"
   },
   {
    "duration": 110,
    "start_time": "2022-06-28T21:28:44.267Z"
   },
   {
    "duration": 8,
    "start_time": "2022-06-28T21:28:44.379Z"
   },
   {
    "duration": 52,
    "start_time": "2022-06-28T21:28:44.389Z"
   },
   {
    "duration": 37,
    "start_time": "2022-06-28T21:28:44.443Z"
   },
   {
    "duration": 66,
    "start_time": "2022-06-28T21:28:44.482Z"
   },
   {
    "duration": 10,
    "start_time": "2022-06-28T21:28:44.550Z"
   },
   {
    "duration": 24,
    "start_time": "2022-06-28T21:28:44.561Z"
   },
   {
    "duration": 7,
    "start_time": "2022-06-28T21:28:44.587Z"
   },
   {
    "duration": 42,
    "start_time": "2022-06-28T21:28:44.596Z"
   },
   {
    "duration": 6,
    "start_time": "2022-06-28T21:28:44.640Z"
   },
   {
    "duration": 20,
    "start_time": "2022-06-28T21:28:44.648Z"
   },
   {
    "duration": 17,
    "start_time": "2022-06-28T21:28:44.670Z"
   },
   {
    "duration": 37,
    "start_time": "2022-06-28T21:28:44.689Z"
   },
   {
    "duration": 16,
    "start_time": "2022-06-28T21:28:52.065Z"
   },
   {
    "duration": 17,
    "start_time": "2022-06-28T21:28:54.235Z"
   },
   {
    "duration": 8,
    "start_time": "2022-06-28T21:28:57.870Z"
   },
   {
    "duration": 8,
    "start_time": "2022-06-28T21:29:50.301Z"
   },
   {
    "duration": 13,
    "start_time": "2022-06-28T21:29:55.843Z"
   },
   {
    "duration": 4,
    "start_time": "2022-06-28T21:30:01.243Z"
   },
   {
    "duration": 73,
    "start_time": "2022-06-28T21:30:01.646Z"
   },
   {
    "duration": 25,
    "start_time": "2022-06-28T21:32:01.937Z"
   },
   {
    "duration": 9,
    "start_time": "2022-06-28T21:34:29.208Z"
   },
   {
    "duration": 18,
    "start_time": "2022-06-28T21:34:43.234Z"
   },
   {
    "duration": 13,
    "start_time": "2022-06-28T21:35:40.782Z"
   },
   {
    "duration": 9,
    "start_time": "2022-06-28T21:36:11.575Z"
   },
   {
    "duration": 15,
    "start_time": "2022-06-28T21:36:55.752Z"
   },
   {
    "duration": 3,
    "start_time": "2022-06-28T21:48:45.294Z"
   },
   {
    "duration": 4,
    "start_time": "2022-06-28T21:48:49.322Z"
   },
   {
    "duration": 20,
    "start_time": "2022-06-28T21:48:57.675Z"
   },
   {
    "duration": 16,
    "start_time": "2022-06-28T21:51:52.077Z"
   },
   {
    "duration": 10,
    "start_time": "2022-06-28T21:52:12.324Z"
   },
   {
    "duration": 11,
    "start_time": "2022-06-28T21:52:30.268Z"
   },
   {
    "duration": 19,
    "start_time": "2022-06-28T21:53:53.586Z"
   },
   {
    "duration": 19,
    "start_time": "2022-06-28T21:54:16.443Z"
   },
   {
    "duration": 4,
    "start_time": "2022-06-28T21:58:24.868Z"
   },
   {
    "duration": 13,
    "start_time": "2022-06-28T21:58:30.001Z"
   },
   {
    "duration": 19,
    "start_time": "2022-06-28T22:00:16.535Z"
   },
   {
    "duration": 14,
    "start_time": "2022-06-28T22:00:35.852Z"
   },
   {
    "duration": 14,
    "start_time": "2022-06-28T22:00:43.671Z"
   },
   {
    "duration": 6,
    "start_time": "2022-06-28T22:01:44.200Z"
   },
   {
    "duration": 86,
    "start_time": "2022-06-28T22:01:55.136Z"
   },
   {
    "duration": 119,
    "start_time": "2022-06-28T22:02:12.678Z"
   },
   {
    "duration": 3,
    "start_time": "2022-06-28T22:05:32.927Z"
   },
   {
    "duration": 40,
    "start_time": "2022-06-28T22:05:51.451Z"
   },
   {
    "duration": 14,
    "start_time": "2022-06-28T22:10:20.372Z"
   },
   {
    "duration": 40,
    "start_time": "2022-06-28T22:10:28.735Z"
   },
   {
    "duration": 34,
    "start_time": "2022-06-28T22:11:58.116Z"
   },
   {
    "duration": 4,
    "start_time": "2022-06-28T22:12:25.172Z"
   },
   {
    "duration": 5,
    "start_time": "2022-06-28T22:12:41.442Z"
   },
   {
    "duration": 36,
    "start_time": "2022-06-28T22:13:37.970Z"
   },
   {
    "duration": 5,
    "start_time": "2022-06-28T22:13:46.233Z"
   },
   {
    "duration": 8,
    "start_time": "2022-06-28T22:13:57.949Z"
   },
   {
    "duration": 34,
    "start_time": "2022-06-28T22:17:01.269Z"
   },
   {
    "duration": 682,
    "start_time": "2022-06-28T22:18:52.478Z"
   },
   {
    "duration": 207,
    "start_time": "2022-06-28T22:19:37.993Z"
   },
   {
    "duration": 296,
    "start_time": "2022-06-28T22:22:09.128Z"
   },
   {
    "duration": 19,
    "start_time": "2022-06-28T22:23:08.494Z"
   },
   {
    "duration": 36,
    "start_time": "2022-06-28T22:23:13.812Z"
   },
   {
    "duration": 269,
    "start_time": "2022-06-28T22:23:17.569Z"
   },
   {
    "duration": 34,
    "start_time": "2022-06-28T22:24:02.824Z"
   },
   {
    "duration": 39,
    "start_time": "2022-06-28T22:26:52.782Z"
   },
   {
    "duration": 30,
    "start_time": "2022-06-28T22:27:11.976Z"
   },
   {
    "duration": 17,
    "start_time": "2022-06-28T22:27:18.306Z"
   },
   {
    "duration": 35,
    "start_time": "2022-06-28T22:27:22.418Z"
   },
   {
    "duration": 30,
    "start_time": "2022-06-28T22:27:30.173Z"
   },
   {
    "duration": 27,
    "start_time": "2022-06-28T22:27:42.344Z"
   },
   {
    "duration": 5,
    "start_time": "2022-06-28T22:27:55.404Z"
   },
   {
    "duration": 95,
    "start_time": "2022-06-28T22:28:03.738Z"
   },
   {
    "duration": 28,
    "start_time": "2022-06-28T22:28:14.709Z"
   },
   {
    "duration": 27,
    "start_time": "2022-06-28T22:28:34.075Z"
   },
   {
    "duration": 28,
    "start_time": "2022-06-28T22:28:44.297Z"
   },
   {
    "duration": 19,
    "start_time": "2022-06-28T22:29:23.611Z"
   },
   {
    "duration": 6,
    "start_time": "2022-06-28T22:29:33.487Z"
   },
   {
    "duration": 6,
    "start_time": "2022-06-28T22:29:55.284Z"
   },
   {
    "duration": 9,
    "start_time": "2022-06-28T22:31:42.622Z"
   },
   {
    "duration": 3,
    "start_time": "2022-06-28T22:31:55.110Z"
   },
   {
    "duration": 10,
    "start_time": "2022-06-28T22:32:00.442Z"
   },
   {
    "duration": 4,
    "start_time": "2022-06-28T22:32:08.175Z"
   },
   {
    "duration": 9,
    "start_time": "2022-06-28T22:32:12.846Z"
   },
   {
    "duration": 9,
    "start_time": "2022-06-28T22:32:50.868Z"
   },
   {
    "duration": 3,
    "start_time": "2022-06-28T22:32:57.443Z"
   },
   {
    "duration": 9,
    "start_time": "2022-06-28T22:33:15.405Z"
   },
   {
    "duration": 129,
    "start_time": "2022-06-28T22:34:42.701Z"
   },
   {
    "duration": 140,
    "start_time": "2022-06-28T22:35:23.211Z"
   },
   {
    "duration": 232,
    "start_time": "2022-06-28T22:36:24.116Z"
   },
   {
    "duration": 175,
    "start_time": "2022-06-28T22:36:58.150Z"
   },
   {
    "duration": 168,
    "start_time": "2022-06-28T22:38:45.090Z"
   },
   {
    "duration": 207,
    "start_time": "2022-06-28T22:39:26.638Z"
   },
   {
    "duration": 12,
    "start_time": "2022-06-28T22:39:43.620Z"
   },
   {
    "duration": 168,
    "start_time": "2022-06-28T22:40:01.386Z"
   },
   {
    "duration": 10,
    "start_time": "2022-06-28T22:45:19.373Z"
   },
   {
    "duration": 54,
    "start_time": "2022-06-28T22:45:24.026Z"
   },
   {
    "duration": 18,
    "start_time": "2022-06-28T22:45:29.039Z"
   },
   {
    "duration": 14,
    "start_time": "2022-06-28T22:45:40.580Z"
   },
   {
    "duration": 299,
    "start_time": "2022-06-28T22:46:05.377Z"
   },
   {
    "duration": 21,
    "start_time": "2022-06-28T22:47:27.341Z"
   },
   {
    "duration": 24,
    "start_time": "2022-06-28T22:47:41.326Z"
   },
   {
    "duration": 22,
    "start_time": "2022-06-28T22:48:03.438Z"
   },
   {
    "duration": 22,
    "start_time": "2022-06-28T22:49:43.717Z"
   },
   {
    "duration": 20,
    "start_time": "2022-06-28T22:49:56.770Z"
   },
   {
    "duration": 5,
    "start_time": "2022-06-28T22:50:39.468Z"
   },
   {
    "duration": 23,
    "start_time": "2022-06-28T22:50:44.428Z"
   },
   {
    "duration": 24,
    "start_time": "2022-06-28T22:50:52.634Z"
   },
   {
    "duration": 23,
    "start_time": "2022-06-28T22:51:22.308Z"
   },
   {
    "duration": 25,
    "start_time": "2022-06-28T22:52:40.834Z"
   },
   {
    "duration": 4,
    "start_time": "2022-06-28T22:52:57.442Z"
   },
   {
    "duration": 25,
    "start_time": "2022-06-28T22:53:09.228Z"
   },
   {
    "duration": 4,
    "start_time": "2022-06-28T22:56:57.667Z"
   },
   {
    "duration": 4,
    "start_time": "2022-06-28T22:57:23.133Z"
   },
   {
    "duration": 4,
    "start_time": "2022-06-28T22:57:28.598Z"
   },
   {
    "duration": 3,
    "start_time": "2022-06-28T22:59:32.740Z"
   },
   {
    "duration": 5,
    "start_time": "2022-06-28T22:59:43.082Z"
   },
   {
    "duration": 21,
    "start_time": "2022-06-28T22:59:54.318Z"
   },
   {
    "duration": 2,
    "start_time": "2022-06-28T23:00:12.442Z"
   },
   {
    "duration": 477,
    "start_time": "2022-06-28T23:00:12.446Z"
   },
   {
    "duration": 37,
    "start_time": "2022-06-28T23:00:12.925Z"
   },
   {
    "duration": 23,
    "start_time": "2022-06-28T23:00:12.964Z"
   },
   {
    "duration": 52,
    "start_time": "2022-06-28T23:00:12.988Z"
   },
   {
    "duration": 17,
    "start_time": "2022-06-28T23:00:13.041Z"
   },
   {
    "duration": 11,
    "start_time": "2022-06-28T23:00:13.059Z"
   },
   {
    "duration": 13,
    "start_time": "2022-06-28T23:00:13.071Z"
   },
   {
    "duration": 91,
    "start_time": "2022-06-28T23:00:13.086Z"
   },
   {
    "duration": 7,
    "start_time": "2022-06-28T23:00:13.179Z"
   },
   {
    "duration": 11,
    "start_time": "2022-06-28T23:00:13.188Z"
   },
   {
    "duration": 118,
    "start_time": "2022-06-28T23:00:13.200Z"
   },
   {
    "duration": 10,
    "start_time": "2022-06-28T23:00:13.320Z"
   },
   {
    "duration": 43,
    "start_time": "2022-06-28T23:00:13.331Z"
   },
   {
    "duration": 58,
    "start_time": "2022-06-28T23:00:13.376Z"
   },
   {
    "duration": 52,
    "start_time": "2022-06-28T23:00:13.436Z"
   },
   {
    "duration": 10,
    "start_time": "2022-06-28T23:00:13.490Z"
   },
   {
    "duration": 43,
    "start_time": "2022-06-28T23:00:13.501Z"
   },
   {
    "duration": 8,
    "start_time": "2022-06-28T23:00:13.546Z"
   },
   {
    "duration": 23,
    "start_time": "2022-06-28T23:00:13.555Z"
   },
   {
    "duration": 6,
    "start_time": "2022-06-28T23:00:13.580Z"
   },
   {
    "duration": 37,
    "start_time": "2022-06-28T23:00:13.588Z"
   },
   {
    "duration": 21,
    "start_time": "2022-06-28T23:00:13.627Z"
   },
   {
    "duration": 13,
    "start_time": "2022-06-28T23:00:13.651Z"
   },
   {
    "duration": 13,
    "start_time": "2022-06-28T23:00:13.666Z"
   },
   {
    "duration": 14,
    "start_time": "2022-06-28T23:00:13.681Z"
   },
   {
    "duration": 7,
    "start_time": "2022-06-28T23:00:13.726Z"
   },
   {
    "duration": 8,
    "start_time": "2022-06-28T23:00:13.734Z"
   },
   {
    "duration": 8,
    "start_time": "2022-06-28T23:00:13.743Z"
   },
   {
    "duration": 12,
    "start_time": "2022-06-28T23:00:13.752Z"
   },
   {
    "duration": 5,
    "start_time": "2022-06-28T23:00:13.766Z"
   },
   {
    "duration": 99,
    "start_time": "2022-06-28T23:00:13.772Z"
   },
   {
    "duration": 35,
    "start_time": "2022-06-28T23:00:13.873Z"
   },
   {
    "duration": 4,
    "start_time": "2022-06-28T23:00:18.628Z"
   },
   {
    "duration": 4,
    "start_time": "2022-06-28T23:00:19.208Z"
   },
   {
    "duration": 20,
    "start_time": "2022-06-28T23:00:45.225Z"
   },
   {
    "duration": 4,
    "start_time": "2022-06-28T23:01:31.365Z"
   },
   {
    "duration": 5,
    "start_time": "2022-06-28T23:01:33.774Z"
   },
   {
    "duration": 21,
    "start_time": "2022-06-28T23:01:36.696Z"
   },
   {
    "duration": 3,
    "start_time": "2022-06-28T23:01:53.508Z"
   },
   {
    "duration": 448,
    "start_time": "2022-06-28T23:01:53.513Z"
   },
   {
    "duration": 36,
    "start_time": "2022-06-28T23:01:53.963Z"
   },
   {
    "duration": 23,
    "start_time": "2022-06-28T23:01:54.002Z"
   },
   {
    "duration": 20,
    "start_time": "2022-06-28T23:01:54.027Z"
   },
   {
    "duration": 17,
    "start_time": "2022-06-28T23:01:54.049Z"
   },
   {
    "duration": 10,
    "start_time": "2022-06-28T23:01:54.068Z"
   },
   {
    "duration": 10,
    "start_time": "2022-06-28T23:01:54.080Z"
   },
   {
    "duration": 68,
    "start_time": "2022-06-28T23:01:54.125Z"
   },
   {
    "duration": 9,
    "start_time": "2022-06-28T23:01:54.194Z"
   },
   {
    "duration": 27,
    "start_time": "2022-06-28T23:01:54.205Z"
   },
   {
    "duration": 104,
    "start_time": "2022-06-28T23:01:54.234Z"
   },
   {
    "duration": 6,
    "start_time": "2022-06-28T23:01:54.340Z"
   },
   {
    "duration": 37,
    "start_time": "2022-06-28T23:01:54.348Z"
   },
   {
    "duration": 52,
    "start_time": "2022-06-28T23:01:54.386Z"
   },
   {
    "duration": 47,
    "start_time": "2022-06-28T23:01:54.439Z"
   },
   {
    "duration": 10,
    "start_time": "2022-06-28T23:01:54.488Z"
   },
   {
    "duration": 44,
    "start_time": "2022-06-28T23:01:54.499Z"
   },
   {
    "duration": 8,
    "start_time": "2022-06-28T23:01:54.544Z"
   },
   {
    "duration": 19,
    "start_time": "2022-06-28T23:01:54.554Z"
   },
   {
    "duration": 6,
    "start_time": "2022-06-28T23:01:54.575Z"
   },
   {
    "duration": 13,
    "start_time": "2022-06-28T23:01:54.582Z"
   },
   {
    "duration": 42,
    "start_time": "2022-06-28T23:01:54.596Z"
   },
   {
    "duration": 13,
    "start_time": "2022-06-28T23:01:54.640Z"
   },
   {
    "duration": 13,
    "start_time": "2022-06-28T23:01:54.655Z"
   },
   {
    "duration": 15,
    "start_time": "2022-06-28T23:01:54.669Z"
   },
   {
    "duration": 5,
    "start_time": "2022-06-28T23:01:54.686Z"
   },
   {
    "duration": 38,
    "start_time": "2022-06-28T23:01:54.693Z"
   },
   {
    "duration": 7,
    "start_time": "2022-06-28T23:01:54.733Z"
   },
   {
    "duration": 11,
    "start_time": "2022-06-28T23:01:54.742Z"
   },
   {
    "duration": 5,
    "start_time": "2022-06-28T23:01:54.755Z"
   },
   {
    "duration": 88,
    "start_time": "2022-06-28T23:01:54.761Z"
   },
   {
    "duration": 32,
    "start_time": "2022-06-28T23:01:54.851Z"
   },
   {
    "duration": 3,
    "start_time": "2022-06-28T23:01:58.275Z"
   },
   {
    "duration": 5,
    "start_time": "2022-06-28T23:01:58.752Z"
   },
   {
    "duration": 22,
    "start_time": "2022-06-28T23:02:02.581Z"
   },
   {
    "duration": 3,
    "start_time": "2022-06-28T23:02:17.876Z"
   },
   {
    "duration": 441,
    "start_time": "2022-06-28T23:02:17.882Z"
   },
   {
    "duration": 35,
    "start_time": "2022-06-28T23:02:18.325Z"
   },
   {
    "duration": 20,
    "start_time": "2022-06-28T23:02:18.362Z"
   },
   {
    "duration": 50,
    "start_time": "2022-06-28T23:02:18.384Z"
   },
   {
    "duration": 15,
    "start_time": "2022-06-28T23:02:18.436Z"
   },
   {
    "duration": 8,
    "start_time": "2022-06-28T23:02:18.453Z"
   },
   {
    "duration": 11,
    "start_time": "2022-06-28T23:02:18.463Z"
   },
   {
    "duration": 93,
    "start_time": "2022-06-28T23:02:18.477Z"
   },
   {
    "duration": 8,
    "start_time": "2022-06-28T23:02:18.572Z"
   },
   {
    "duration": 9,
    "start_time": "2022-06-28T23:02:18.582Z"
   },
   {
    "duration": 109,
    "start_time": "2022-06-28T23:02:18.593Z"
   },
   {
    "duration": 22,
    "start_time": "2022-06-28T23:02:18.704Z"
   },
   {
    "duration": 43,
    "start_time": "2022-06-28T23:02:18.728Z"
   },
   {
    "duration": 57,
    "start_time": "2022-06-28T23:02:18.773Z"
   },
   {
    "duration": 49,
    "start_time": "2022-06-28T23:02:18.832Z"
   },
   {
    "duration": 10,
    "start_time": "2022-06-28T23:02:18.883Z"
   },
   {
    "duration": 41,
    "start_time": "2022-06-28T23:02:18.895Z"
   },
   {
    "duration": 8,
    "start_time": "2022-06-28T23:02:18.938Z"
   },
   {
    "duration": 21,
    "start_time": "2022-06-28T23:02:18.947Z"
   },
   {
    "duration": 7,
    "start_time": "2022-06-28T23:02:18.970Z"
   },
   {
    "duration": 14,
    "start_time": "2022-06-28T23:02:18.979Z"
   },
   {
    "duration": 42,
    "start_time": "2022-06-28T23:02:18.995Z"
   },
   {
    "duration": 13,
    "start_time": "2022-06-28T23:02:19.040Z"
   },
   {
    "duration": 15,
    "start_time": "2022-06-28T23:02:19.055Z"
   },
   {
    "duration": 15,
    "start_time": "2022-06-28T23:02:19.072Z"
   },
   {
    "duration": 6,
    "start_time": "2022-06-28T23:02:19.088Z"
   },
   {
    "duration": 35,
    "start_time": "2022-06-28T23:02:19.096Z"
   },
   {
    "duration": 7,
    "start_time": "2022-06-28T23:02:19.133Z"
   },
   {
    "duration": 11,
    "start_time": "2022-06-28T23:02:19.141Z"
   },
   {
    "duration": 6,
    "start_time": "2022-06-28T23:02:19.154Z"
   },
   {
    "duration": 86,
    "start_time": "2022-06-28T23:02:19.161Z"
   },
   {
    "duration": 36,
    "start_time": "2022-06-28T23:02:19.248Z"
   },
   {
    "duration": 3,
    "start_time": "2022-06-28T23:02:21.771Z"
   },
   {
    "duration": 5,
    "start_time": "2022-06-28T23:02:22.220Z"
   },
   {
    "duration": 21,
    "start_time": "2022-06-28T23:02:24.626Z"
   },
   {
    "duration": 3,
    "start_time": "2022-06-28T23:04:46.585Z"
   },
   {
    "duration": 442,
    "start_time": "2022-06-28T23:04:46.591Z"
   },
   {
    "duration": 36,
    "start_time": "2022-06-28T23:04:47.034Z"
   },
   {
    "duration": 21,
    "start_time": "2022-06-28T23:04:47.072Z"
   },
   {
    "duration": 42,
    "start_time": "2022-06-28T23:04:47.095Z"
   },
   {
    "duration": 16,
    "start_time": "2022-06-28T23:04:47.139Z"
   },
   {
    "duration": 9,
    "start_time": "2022-06-28T23:04:47.157Z"
   },
   {
    "duration": 15,
    "start_time": "2022-06-28T23:04:47.167Z"
   },
   {
    "duration": 91,
    "start_time": "2022-06-28T23:04:47.185Z"
   },
   {
    "duration": 7,
    "start_time": "2022-06-28T23:04:47.278Z"
   },
   {
    "duration": 10,
    "start_time": "2022-06-28T23:04:47.287Z"
   },
   {
    "duration": 111,
    "start_time": "2022-06-28T23:04:47.299Z"
   },
   {
    "duration": 19,
    "start_time": "2022-06-28T23:04:47.412Z"
   },
   {
    "duration": 38,
    "start_time": "2022-06-28T23:04:47.432Z"
   },
   {
    "duration": 54,
    "start_time": "2022-06-28T23:04:47.472Z"
   },
   {
    "duration": 48,
    "start_time": "2022-06-28T23:04:47.528Z"
   },
   {
    "duration": 10,
    "start_time": "2022-06-28T23:04:47.578Z"
   },
   {
    "duration": 41,
    "start_time": "2022-06-28T23:04:47.590Z"
   },
   {
    "duration": 8,
    "start_time": "2022-06-28T23:04:47.633Z"
   },
   {
    "duration": 20,
    "start_time": "2022-06-28T23:04:47.642Z"
   },
   {
    "duration": 7,
    "start_time": "2022-06-28T23:04:47.664Z"
   },
   {
    "duration": 13,
    "start_time": "2022-06-28T23:04:47.673Z"
   },
   {
    "duration": 49,
    "start_time": "2022-06-28T23:04:47.687Z"
   },
   {
    "duration": 13,
    "start_time": "2022-06-28T23:04:47.739Z"
   },
   {
    "duration": 14,
    "start_time": "2022-06-28T23:04:47.753Z"
   },
   {
    "duration": 15,
    "start_time": "2022-06-28T23:04:47.768Z"
   },
   {
    "duration": 6,
    "start_time": "2022-06-28T23:04:47.784Z"
   },
   {
    "duration": 34,
    "start_time": "2022-06-28T23:04:47.792Z"
   },
   {
    "duration": 7,
    "start_time": "2022-06-28T23:04:47.828Z"
   },
   {
    "duration": 11,
    "start_time": "2022-06-28T23:04:47.837Z"
   },
   {
    "duration": 5,
    "start_time": "2022-06-28T23:04:47.849Z"
   },
   {
    "duration": 87,
    "start_time": "2022-06-28T23:04:47.856Z"
   },
   {
    "duration": 32,
    "start_time": "2022-06-28T23:04:47.945Z"
   },
   {
    "duration": 11,
    "start_time": "2022-06-28T23:04:53.382Z"
   },
   {
    "duration": 3,
    "start_time": "2022-06-28T23:05:05.105Z"
   },
   {
    "duration": 10,
    "start_time": "2022-06-28T23:05:08.253Z"
   },
   {
    "duration": 4,
    "start_time": "2022-06-28T23:05:20.878Z"
   },
   {
    "duration": 18,
    "start_time": "2022-06-28T23:05:40.437Z"
   },
   {
    "duration": 14,
    "start_time": "2022-06-28T23:05:51.753Z"
   },
   {
    "duration": 16,
    "start_time": "2022-06-28T23:07:30.988Z"
   },
   {
    "duration": 17,
    "start_time": "2022-06-28T23:07:36.620Z"
   },
   {
    "duration": 3,
    "start_time": "2022-06-28T23:07:44.896Z"
   },
   {
    "duration": 478,
    "start_time": "2022-06-28T23:07:44.900Z"
   },
   {
    "duration": 34,
    "start_time": "2022-06-28T23:07:45.379Z"
   },
   {
    "duration": 26,
    "start_time": "2022-06-28T23:07:45.414Z"
   },
   {
    "duration": 19,
    "start_time": "2022-06-28T23:07:45.442Z"
   },
   {
    "duration": 18,
    "start_time": "2022-06-28T23:07:45.462Z"
   },
   {
    "duration": 10,
    "start_time": "2022-06-28T23:07:45.481Z"
   },
   {
    "duration": 39,
    "start_time": "2022-06-28T23:07:45.492Z"
   },
   {
    "duration": 70,
    "start_time": "2022-06-28T23:07:45.535Z"
   },
   {
    "duration": 20,
    "start_time": "2022-06-28T23:07:45.607Z"
   },
   {
    "duration": 18,
    "start_time": "2022-06-28T23:07:45.629Z"
   },
   {
    "duration": 113,
    "start_time": "2022-06-28T23:07:45.649Z"
   },
   {
    "duration": 8,
    "start_time": "2022-06-28T23:07:45.764Z"
   },
   {
    "duration": 53,
    "start_time": "2022-06-28T23:07:45.773Z"
   },
   {
    "duration": 39,
    "start_time": "2022-06-28T23:07:45.829Z"
   },
   {
    "duration": 57,
    "start_time": "2022-06-28T23:07:45.870Z"
   },
   {
    "duration": 14,
    "start_time": "2022-06-28T23:07:45.930Z"
   },
   {
    "duration": 25,
    "start_time": "2022-06-28T23:07:45.946Z"
   },
   {
    "duration": 8,
    "start_time": "2022-06-28T23:07:45.973Z"
   },
   {
    "duration": 46,
    "start_time": "2022-06-28T23:07:45.982Z"
   },
   {
    "duration": 9,
    "start_time": "2022-06-28T23:07:46.030Z"
   },
   {
    "duration": 13,
    "start_time": "2022-06-28T23:07:46.041Z"
   },
   {
    "duration": 23,
    "start_time": "2022-06-28T23:07:46.056Z"
   },
   {
    "duration": 14,
    "start_time": "2022-06-28T23:07:46.080Z"
   },
   {
    "duration": 48,
    "start_time": "2022-06-28T23:07:46.095Z"
   },
   {
    "duration": 17,
    "start_time": "2022-06-28T23:07:46.145Z"
   },
   {
    "duration": 6,
    "start_time": "2022-06-28T23:07:46.164Z"
   },
   {
    "duration": 7,
    "start_time": "2022-06-28T23:07:46.172Z"
   },
   {
    "duration": 9,
    "start_time": "2022-06-28T23:07:46.181Z"
   },
   {
    "duration": 56,
    "start_time": "2022-06-28T23:07:46.191Z"
   },
   {
    "duration": 4,
    "start_time": "2022-06-28T23:07:46.249Z"
   },
   {
    "duration": 71,
    "start_time": "2022-06-28T23:07:46.256Z"
   },
   {
    "duration": 37,
    "start_time": "2022-06-28T23:07:46.330Z"
   },
   {
    "duration": 22,
    "start_time": "2022-06-28T23:07:50.991Z"
   },
   {
    "duration": 314,
    "start_time": "2022-06-28T23:08:11.539Z"
   },
   {
    "duration": 389,
    "start_time": "2022-06-28T23:10:02.644Z"
   },
   {
    "duration": 231,
    "start_time": "2022-06-28T23:10:46.538Z"
   },
   {
    "duration": 297,
    "start_time": "2022-06-28T23:13:07.842Z"
   },
   {
    "duration": 293,
    "start_time": "2022-06-28T23:13:40.117Z"
   },
   {
    "duration": 308,
    "start_time": "2022-06-28T23:14:12.809Z"
   },
   {
    "duration": 326,
    "start_time": "2022-06-28T23:14:32.501Z"
   },
   {
    "duration": 312,
    "start_time": "2022-06-28T23:15:10.881Z"
   },
   {
    "duration": 389,
    "start_time": "2022-06-28T23:15:20.338Z"
   },
   {
    "duration": 330,
    "start_time": "2022-06-28T23:15:26.345Z"
   },
   {
    "duration": 300,
    "start_time": "2022-06-28T23:15:39.467Z"
   },
   {
    "duration": 302,
    "start_time": "2022-06-28T23:15:47.980Z"
   },
   {
    "duration": 300,
    "start_time": "2022-06-28T23:17:35.417Z"
   },
   {
    "duration": 306,
    "start_time": "2022-06-28T23:17:43.342Z"
   },
   {
    "duration": 490,
    "start_time": "2022-06-28T23:17:48.806Z"
   },
   {
    "duration": 329,
    "start_time": "2022-06-28T23:18:00.375Z"
   },
   {
    "duration": 299,
    "start_time": "2022-06-28T23:18:08.867Z"
   },
   {
    "duration": 312,
    "start_time": "2022-06-28T23:18:12.470Z"
   },
   {
    "duration": 316,
    "start_time": "2022-06-28T23:18:17.466Z"
   },
   {
    "duration": 292,
    "start_time": "2022-06-28T23:18:23.266Z"
   },
   {
    "duration": 441,
    "start_time": "2022-06-28T23:18:30.345Z"
   },
   {
    "duration": 315,
    "start_time": "2022-06-28T23:18:37.595Z"
   },
   {
    "duration": 286,
    "start_time": "2022-06-28T23:18:43.685Z"
   },
   {
    "duration": 286,
    "start_time": "2022-06-28T23:18:50.968Z"
   },
   {
    "duration": 290,
    "start_time": "2022-06-28T23:18:56.812Z"
   },
   {
    "duration": 312,
    "start_time": "2022-06-28T23:19:59.080Z"
   },
   {
    "duration": 593,
    "start_time": "2022-06-28T23:22:04.345Z"
   },
   {
    "duration": 466,
    "start_time": "2022-06-28T23:22:10.252Z"
   },
   {
    "duration": 468,
    "start_time": "2022-06-28T23:22:17.174Z"
   },
   {
    "duration": 487,
    "start_time": "2022-06-28T23:22:37.280Z"
   },
   {
    "duration": 335,
    "start_time": "2022-06-28T23:22:48.578Z"
   },
   {
    "duration": 3,
    "start_time": "2022-06-28T23:22:58.883Z"
   },
   {
    "duration": 473,
    "start_time": "2022-06-28T23:22:58.888Z"
   },
   {
    "duration": 38,
    "start_time": "2022-06-28T23:22:59.363Z"
   },
   {
    "duration": 21,
    "start_time": "2022-06-28T23:22:59.403Z"
   },
   {
    "duration": 24,
    "start_time": "2022-06-28T23:22:59.426Z"
   },
   {
    "duration": 15,
    "start_time": "2022-06-28T23:22:59.452Z"
   },
   {
    "duration": 10,
    "start_time": "2022-06-28T23:22:59.469Z"
   },
   {
    "duration": 19,
    "start_time": "2022-06-28T23:22:59.481Z"
   },
   {
    "duration": 88,
    "start_time": "2022-06-28T23:22:59.501Z"
   },
   {
    "duration": 8,
    "start_time": "2022-06-28T23:22:59.591Z"
   },
   {
    "duration": 12,
    "start_time": "2022-06-28T23:22:59.601Z"
   },
   {
    "duration": 112,
    "start_time": "2022-06-28T23:22:59.626Z"
   },
   {
    "duration": 7,
    "start_time": "2022-06-28T23:22:59.741Z"
   },
   {
    "duration": 40,
    "start_time": "2022-06-28T23:22:59.749Z"
   },
   {
    "duration": 63,
    "start_time": "2022-06-28T23:22:59.791Z"
   },
   {
    "duration": 48,
    "start_time": "2022-06-28T23:22:59.855Z"
   },
   {
    "duration": 26,
    "start_time": "2022-06-28T23:22:59.905Z"
   },
   {
    "duration": 28,
    "start_time": "2022-06-28T23:22:59.933Z"
   },
   {
    "duration": 7,
    "start_time": "2022-06-28T23:22:59.963Z"
   },
   {
    "duration": 18,
    "start_time": "2022-06-28T23:22:59.972Z"
   },
   {
    "duration": 6,
    "start_time": "2022-06-28T23:22:59.992Z"
   },
   {
    "duration": 42,
    "start_time": "2022-06-28T23:23:00.000Z"
   },
   {
    "duration": 24,
    "start_time": "2022-06-28T23:23:00.044Z"
   },
   {
    "duration": 17,
    "start_time": "2022-06-28T23:23:00.069Z"
   },
   {
    "duration": 54,
    "start_time": "2022-06-28T23:23:00.087Z"
   },
   {
    "duration": 18,
    "start_time": "2022-06-28T23:23:00.143Z"
   },
   {
    "duration": 7,
    "start_time": "2022-06-28T23:23:00.163Z"
   },
   {
    "duration": 7,
    "start_time": "2022-06-28T23:23:00.171Z"
   },
   {
    "duration": 7,
    "start_time": "2022-06-28T23:23:00.179Z"
   },
   {
    "duration": 51,
    "start_time": "2022-06-28T23:23:00.188Z"
   },
   {
    "duration": 13,
    "start_time": "2022-06-28T23:23:00.241Z"
   },
   {
    "duration": 86,
    "start_time": "2022-06-28T23:23:00.255Z"
   },
   {
    "duration": 33,
    "start_time": "2022-06-28T23:23:00.342Z"
   },
   {
    "duration": 422,
    "start_time": "2022-06-28T23:23:03.099Z"
   },
   {
    "duration": 1153,
    "start_time": "2022-06-28T23:23:15.510Z"
   },
   {
    "duration": 467,
    "start_time": "2022-06-28T23:23:16.665Z"
   },
   {
    "duration": 38,
    "start_time": "2022-06-28T23:23:17.134Z"
   },
   {
    "duration": 22,
    "start_time": "2022-06-28T23:23:17.174Z"
   },
   {
    "duration": 25,
    "start_time": "2022-06-28T23:23:17.225Z"
   },
   {
    "duration": 18,
    "start_time": "2022-06-28T23:23:17.251Z"
   },
   {
    "duration": 10,
    "start_time": "2022-06-28T23:23:17.270Z"
   },
   {
    "duration": 11,
    "start_time": "2022-06-28T23:23:17.281Z"
   },
   {
    "duration": 95,
    "start_time": "2022-06-28T23:23:17.294Z"
   },
   {
    "duration": 8,
    "start_time": "2022-06-28T23:23:17.391Z"
   },
   {
    "duration": 10,
    "start_time": "2022-06-28T23:23:17.401Z"
   },
   {
    "duration": 119,
    "start_time": "2022-06-28T23:23:17.413Z"
   },
   {
    "duration": 11,
    "start_time": "2022-06-28T23:23:17.534Z"
   },
   {
    "duration": 41,
    "start_time": "2022-06-28T23:23:17.547Z"
   },
   {
    "duration": 72,
    "start_time": "2022-06-28T23:23:17.589Z"
   },
   {
    "duration": 49,
    "start_time": "2022-06-28T23:23:17.663Z"
   },
   {
    "duration": 12,
    "start_time": "2022-06-28T23:23:17.725Z"
   },
   {
    "duration": 29,
    "start_time": "2022-06-28T23:23:17.739Z"
   },
   {
    "duration": 8,
    "start_time": "2022-06-28T23:23:17.769Z"
   },
   {
    "duration": 22,
    "start_time": "2022-06-28T23:23:17.779Z"
   },
   {
    "duration": 28,
    "start_time": "2022-06-28T23:23:17.802Z"
   },
   {
    "duration": 23,
    "start_time": "2022-06-28T23:23:17.831Z"
   },
   {
    "duration": 20,
    "start_time": "2022-06-28T23:23:17.855Z"
   },
   {
    "duration": 14,
    "start_time": "2022-06-28T23:23:17.876Z"
   },
   {
    "duration": 14,
    "start_time": "2022-06-28T23:23:17.892Z"
   },
   {
    "duration": 20,
    "start_time": "2022-06-28T23:23:17.926Z"
   },
   {
    "duration": 6,
    "start_time": "2022-06-28T23:23:17.947Z"
   },
   {
    "duration": 6,
    "start_time": "2022-06-28T23:23:17.956Z"
   },
   {
    "duration": 7,
    "start_time": "2022-06-28T23:23:17.963Z"
   },
   {
    "duration": 12,
    "start_time": "2022-06-28T23:23:17.972Z"
   },
   {
    "duration": 40,
    "start_time": "2022-06-28T23:23:17.986Z"
   },
   {
    "duration": 80,
    "start_time": "2022-06-28T23:23:18.030Z"
   },
   {
    "duration": 42,
    "start_time": "2022-06-28T23:23:18.112Z"
   },
   {
    "duration": 317,
    "start_time": "2022-06-28T23:23:18.155Z"
   },
   {
    "duration": 3,
    "start_time": "2022-06-28T23:23:38.089Z"
   },
   {
    "duration": 312,
    "start_time": "2022-06-28T23:23:40.027Z"
   },
   {
    "duration": 312,
    "start_time": "2022-06-28T23:24:09.937Z"
   },
   {
    "duration": 3,
    "start_time": "2022-06-28T23:24:24.450Z"
   },
   {
    "duration": 282,
    "start_time": "2022-06-28T23:24:26.798Z"
   },
   {
    "duration": 346,
    "start_time": "2022-06-28T23:24:31.766Z"
   },
   {
    "duration": 3,
    "start_time": "2022-06-28T23:25:13.304Z"
   },
   {
    "duration": 394,
    "start_time": "2022-06-28T23:26:20.287Z"
   },
   {
    "duration": 314,
    "start_time": "2022-06-28T23:29:55.367Z"
   },
   {
    "duration": 295,
    "start_time": "2022-06-28T23:30:56.267Z"
   },
   {
    "duration": 273,
    "start_time": "2022-06-28T23:31:21.546Z"
   },
   {
    "duration": 307,
    "start_time": "2022-06-28T23:31:55.067Z"
   },
   {
    "duration": 289,
    "start_time": "2022-06-28T23:37:46.276Z"
   },
   {
    "duration": 109,
    "start_time": "2022-06-28T23:40:09.995Z"
   },
   {
    "duration": 386,
    "start_time": "2022-06-28T23:40:36.247Z"
   },
   {
    "duration": 327,
    "start_time": "2022-06-28T23:44:30.074Z"
   },
   {
    "duration": 322,
    "start_time": "2022-06-28T23:44:33.839Z"
   },
   {
    "duration": 56,
    "start_time": "2022-06-29T07:00:33.027Z"
   },
   {
    "duration": 1369,
    "start_time": "2022-06-29T07:00:37.582Z"
   },
   {
    "duration": 698,
    "start_time": "2022-06-29T07:00:38.953Z"
   },
   {
    "duration": 51,
    "start_time": "2022-06-29T07:00:39.653Z"
   },
   {
    "duration": 37,
    "start_time": "2022-06-29T07:00:39.707Z"
   },
   {
    "duration": 33,
    "start_time": "2022-06-29T07:00:39.745Z"
   },
   {
    "duration": 31,
    "start_time": "2022-06-29T07:00:39.781Z"
   },
   {
    "duration": 25,
    "start_time": "2022-06-29T07:00:39.814Z"
   },
   {
    "duration": 41,
    "start_time": "2022-06-29T07:00:39.841Z"
   },
   {
    "duration": 87,
    "start_time": "2022-06-29T07:00:39.884Z"
   },
   {
    "duration": 10,
    "start_time": "2022-06-29T07:00:39.974Z"
   },
   {
    "duration": 18,
    "start_time": "2022-06-29T07:00:39.986Z"
   },
   {
    "duration": 126,
    "start_time": "2022-06-29T07:00:40.006Z"
   },
   {
    "duration": 7,
    "start_time": "2022-06-29T07:00:40.133Z"
   },
   {
    "duration": 50,
    "start_time": "2022-06-29T07:00:40.142Z"
   },
   {
    "duration": 71,
    "start_time": "2022-06-29T07:00:40.193Z"
   },
   {
    "duration": 65,
    "start_time": "2022-06-29T07:00:40.265Z"
   },
   {
    "duration": 12,
    "start_time": "2022-06-29T07:00:40.332Z"
   },
   {
    "duration": 28,
    "start_time": "2022-06-29T07:00:40.346Z"
   },
   {
    "duration": 10,
    "start_time": "2022-06-29T07:00:40.376Z"
   },
   {
    "duration": 55,
    "start_time": "2022-06-29T07:00:40.388Z"
   },
   {
    "duration": 8,
    "start_time": "2022-06-29T07:00:40.444Z"
   },
   {
    "duration": 23,
    "start_time": "2022-06-29T07:00:40.453Z"
   },
   {
    "duration": 20,
    "start_time": "2022-06-29T07:00:40.478Z"
   },
   {
    "duration": 39,
    "start_time": "2022-06-29T07:00:40.499Z"
   },
   {
    "duration": 15,
    "start_time": "2022-06-29T07:00:40.539Z"
   },
   {
    "duration": 33,
    "start_time": "2022-06-29T07:00:40.555Z"
   },
   {
    "duration": 9,
    "start_time": "2022-06-29T07:00:40.590Z"
   },
   {
    "duration": 33,
    "start_time": "2022-06-29T07:00:40.603Z"
   },
   {
    "duration": 12,
    "start_time": "2022-06-29T07:00:40.638Z"
   },
   {
    "duration": 14,
    "start_time": "2022-06-29T07:00:40.652Z"
   },
   {
    "duration": 19,
    "start_time": "2022-06-29T07:00:40.668Z"
   },
   {
    "duration": 85,
    "start_time": "2022-06-29T07:00:40.688Z"
   },
   {
    "duration": 36,
    "start_time": "2022-06-29T07:00:40.775Z"
   },
   {
    "duration": 3,
    "start_time": "2022-06-29T07:00:40.825Z"
   },
   {
    "duration": 313,
    "start_time": "2022-06-29T07:00:40.830Z"
   },
   {
    "duration": 372,
    "start_time": "2022-06-29T07:00:41.144Z"
   },
   {
    "duration": 348,
    "start_time": "2022-06-29T07:00:41.518Z"
   },
   {
    "duration": 298,
    "start_time": "2022-06-29T07:00:41.868Z"
   },
   {
    "duration": 294,
    "start_time": "2022-06-29T07:00:42.168Z"
   },
   {
    "duration": 386,
    "start_time": "2022-06-29T07:00:42.464Z"
   },
   {
    "duration": 293,
    "start_time": "2022-06-29T07:00:42.852Z"
   },
   {
    "duration": 336,
    "start_time": "2022-06-29T07:00:43.148Z"
   },
   {
    "duration": 320,
    "start_time": "2022-06-29T07:00:43.485Z"
   },
   {
    "duration": 7668,
    "start_time": "2022-06-29T07:00:59.199Z"
   },
   {
    "duration": 21,
    "start_time": "2022-06-29T07:18:07.469Z"
   },
   {
    "duration": 34,
    "start_time": "2022-06-29T07:18:10.957Z"
   },
   {
    "duration": 84,
    "start_time": "2022-06-29T07:24:00.741Z"
   },
   {
    "duration": 35,
    "start_time": "2022-06-29T07:24:20.068Z"
   },
   {
    "duration": 52,
    "start_time": "2022-06-29T07:24:27.742Z"
   },
   {
    "duration": 41,
    "start_time": "2022-06-29T07:26:06.021Z"
   },
   {
    "duration": 795,
    "start_time": "2022-06-29T07:29:52.126Z"
   },
   {
    "duration": 22,
    "start_time": "2022-06-29T07:30:01.182Z"
   },
   {
    "duration": 18,
    "start_time": "2022-06-29T07:30:11.068Z"
   },
   {
    "duration": 47,
    "start_time": "2022-06-29T07:30:17.933Z"
   },
   {
    "duration": 40,
    "start_time": "2022-06-29T07:30:24.742Z"
   },
   {
    "duration": 10,
    "start_time": "2022-06-29T07:30:56.237Z"
   },
   {
    "duration": 15,
    "start_time": "2022-06-29T07:31:27.997Z"
   },
   {
    "duration": 8,
    "start_time": "2022-06-29T07:31:53.805Z"
   },
   {
    "duration": 10,
    "start_time": "2022-06-29T07:32:11.577Z"
   },
   {
    "duration": 10,
    "start_time": "2022-06-29T07:32:15.133Z"
   },
   {
    "duration": 19,
    "start_time": "2022-06-29T07:32:44.549Z"
   },
   {
    "duration": 16,
    "start_time": "2022-06-29T07:32:48.444Z"
   },
   {
    "duration": 103,
    "start_time": "2022-06-29T07:33:04.077Z"
   },
   {
    "duration": 17,
    "start_time": "2022-06-29T07:35:23.084Z"
   },
   {
    "duration": 15,
    "start_time": "2022-06-29T07:36:09.253Z"
   },
   {
    "duration": 10,
    "start_time": "2022-06-29T07:36:24.282Z"
   },
   {
    "duration": 233,
    "start_time": "2022-06-29T07:40:18.893Z"
   },
   {
    "duration": 9,
    "start_time": "2022-06-29T07:40:22.652Z"
   },
   {
    "duration": 14,
    "start_time": "2022-06-29T07:41:19.997Z"
   },
   {
    "duration": 11,
    "start_time": "2022-06-29T07:41:29.012Z"
   },
   {
    "duration": 12,
    "start_time": "2022-06-29T07:41:52.372Z"
   },
   {
    "duration": 48,
    "start_time": "2022-06-29T07:43:51.012Z"
   },
   {
    "duration": 1184,
    "start_time": "2022-06-29T07:43:59.137Z"
   },
   {
    "duration": 699,
    "start_time": "2022-06-29T07:44:00.322Z"
   },
   {
    "duration": 45,
    "start_time": "2022-06-29T07:44:01.023Z"
   },
   {
    "duration": 26,
    "start_time": "2022-06-29T07:44:01.071Z"
   },
   {
    "duration": 26,
    "start_time": "2022-06-29T07:44:01.127Z"
   },
   {
    "duration": 28,
    "start_time": "2022-06-29T07:44:01.155Z"
   },
   {
    "duration": 14,
    "start_time": "2022-06-29T07:44:01.185Z"
   },
   {
    "duration": 36,
    "start_time": "2022-06-29T07:44:01.201Z"
   },
   {
    "duration": 111,
    "start_time": "2022-06-29T07:44:01.240Z"
   },
   {
    "duration": 20,
    "start_time": "2022-06-29T07:44:01.354Z"
   },
   {
    "duration": 54,
    "start_time": "2022-06-29T07:44:01.376Z"
   },
   {
    "duration": 154,
    "start_time": "2022-06-29T07:44:01.431Z"
   },
   {
    "duration": 6,
    "start_time": "2022-06-29T07:44:01.587Z"
   },
   {
    "duration": 74,
    "start_time": "2022-06-29T07:44:01.595Z"
   },
   {
    "duration": 45,
    "start_time": "2022-06-29T07:44:01.670Z"
   },
   {
    "duration": 54,
    "start_time": "2022-06-29T07:44:01.716Z"
   },
   {
    "duration": 11,
    "start_time": "2022-06-29T07:44:01.772Z"
   },
   {
    "duration": 81,
    "start_time": "2022-06-29T07:44:01.784Z"
   },
   {
    "duration": 10,
    "start_time": "2022-06-29T07:44:01.866Z"
   },
   {
    "duration": 82,
    "start_time": "2022-06-29T07:44:01.878Z"
   },
   {
    "duration": 79,
    "start_time": "2022-06-29T07:44:01.962Z"
   },
   {
    "duration": 50,
    "start_time": "2022-06-29T07:44:02.043Z"
   },
   {
    "duration": 91,
    "start_time": "2022-06-29T07:44:02.095Z"
   },
   {
    "duration": 32,
    "start_time": "2022-06-29T07:44:02.188Z"
   },
   {
    "duration": 30,
    "start_time": "2022-06-29T07:44:02.222Z"
   },
   {
    "duration": 32,
    "start_time": "2022-06-29T07:44:02.255Z"
   },
   {
    "duration": 14,
    "start_time": "2022-06-29T07:44:02.289Z"
   },
   {
    "duration": 59,
    "start_time": "2022-06-29T07:44:02.305Z"
   },
   {
    "duration": 10,
    "start_time": "2022-06-29T07:44:02.365Z"
   },
   {
    "duration": 44,
    "start_time": "2022-06-29T07:44:02.376Z"
   },
   {
    "duration": 85,
    "start_time": "2022-06-29T07:44:02.422Z"
   },
   {
    "duration": 34,
    "start_time": "2022-06-29T07:44:02.509Z"
   },
   {
    "duration": 13,
    "start_time": "2022-06-29T07:44:02.545Z"
   },
   {
    "duration": 34,
    "start_time": "2022-06-29T07:44:02.559Z"
   },
   {
    "duration": 89,
    "start_time": "2022-06-29T07:44:08.804Z"
   },
   {
    "duration": 14,
    "start_time": "2022-06-29T07:44:58.780Z"
   },
   {
    "duration": 8,
    "start_time": "2022-06-29T07:45:06.484Z"
   },
   {
    "duration": 20,
    "start_time": "2022-06-29T07:45:14.812Z"
   },
   {
    "duration": 18,
    "start_time": "2022-06-29T07:46:12.932Z"
   },
   {
    "duration": 25,
    "start_time": "2022-06-29T07:49:02.635Z"
   },
   {
    "duration": 12,
    "start_time": "2022-06-29T07:49:07.139Z"
   },
   {
    "duration": 19,
    "start_time": "2022-06-29T07:50:01.676Z"
   },
   {
    "duration": 14,
    "start_time": "2022-06-29T07:50:07.172Z"
   },
   {
    "duration": 17,
    "start_time": "2022-06-29T07:50:14.628Z"
   },
   {
    "duration": 22,
    "start_time": "2022-06-29T07:51:17.643Z"
   },
   {
    "duration": 1195,
    "start_time": "2022-06-29T07:51:35.235Z"
   },
   {
    "duration": 490,
    "start_time": "2022-06-29T07:51:36.433Z"
   },
   {
    "duration": 56,
    "start_time": "2022-06-29T07:51:36.925Z"
   },
   {
    "duration": 73,
    "start_time": "2022-06-29T07:51:36.983Z"
   },
   {
    "duration": 26,
    "start_time": "2022-06-29T07:51:37.058Z"
   },
   {
    "duration": 40,
    "start_time": "2022-06-29T07:51:37.086Z"
   },
   {
    "duration": 12,
    "start_time": "2022-06-29T07:51:37.128Z"
   },
   {
    "duration": 25,
    "start_time": "2022-06-29T07:51:37.142Z"
   },
   {
    "duration": 102,
    "start_time": "2022-06-29T07:51:37.169Z"
   },
   {
    "duration": 11,
    "start_time": "2022-06-29T07:51:37.273Z"
   },
   {
    "duration": 15,
    "start_time": "2022-06-29T07:51:37.286Z"
   },
   {
    "duration": 141,
    "start_time": "2022-06-29T07:51:37.303Z"
   },
   {
    "duration": 8,
    "start_time": "2022-06-29T07:51:37.445Z"
   },
   {
    "duration": 55,
    "start_time": "2022-06-29T07:51:37.455Z"
   },
   {
    "duration": 50,
    "start_time": "2022-06-29T07:51:37.526Z"
   },
   {
    "duration": 73,
    "start_time": "2022-06-29T07:51:37.578Z"
   },
   {
    "duration": 13,
    "start_time": "2022-06-29T07:51:37.654Z"
   },
   {
    "duration": 76,
    "start_time": "2022-06-29T07:51:37.669Z"
   },
   {
    "duration": 12,
    "start_time": "2022-06-29T07:51:37.747Z"
   },
   {
    "duration": 34,
    "start_time": "2022-06-29T07:51:37.761Z"
   },
   {
    "duration": 41,
    "start_time": "2022-06-29T07:51:37.797Z"
   },
   {
    "duration": 20,
    "start_time": "2022-06-29T07:51:37.840Z"
   },
   {
    "duration": 30,
    "start_time": "2022-06-29T07:51:37.861Z"
   },
   {
    "duration": 8,
    "start_time": "2022-06-29T07:51:37.893Z"
   },
   {
    "duration": 35,
    "start_time": "2022-06-29T07:51:37.902Z"
   },
   {
    "duration": 11,
    "start_time": "2022-06-29T07:51:37.940Z"
   },
   {
    "duration": 14,
    "start_time": "2022-06-29T07:51:37.953Z"
   },
   {
    "duration": 14,
    "start_time": "2022-06-29T07:51:37.971Z"
   },
   {
    "duration": 68,
    "start_time": "2022-06-29T07:51:37.987Z"
   },
   {
    "duration": 13,
    "start_time": "2022-06-29T07:51:38.056Z"
   },
   {
    "duration": 25,
    "start_time": "2022-06-29T07:51:38.070Z"
   },
   {
    "duration": 35,
    "start_time": "2022-06-29T07:51:38.097Z"
   },
   {
    "duration": 13,
    "start_time": "2022-06-29T07:51:38.134Z"
   },
   {
    "duration": 18,
    "start_time": "2022-06-29T07:51:38.149Z"
   },
   {
    "duration": 123,
    "start_time": "2022-06-29T07:51:38.169Z"
   },
   {
    "duration": 0,
    "start_time": "2022-06-29T07:51:38.294Z"
   },
   {
    "duration": 0,
    "start_time": "2022-06-29T07:51:38.294Z"
   },
   {
    "duration": 0,
    "start_time": "2022-06-29T07:51:38.296Z"
   },
   {
    "duration": 0,
    "start_time": "2022-06-29T07:51:38.297Z"
   },
   {
    "duration": 0,
    "start_time": "2022-06-29T07:51:38.299Z"
   },
   {
    "duration": 0,
    "start_time": "2022-06-29T07:51:38.300Z"
   },
   {
    "duration": 0,
    "start_time": "2022-06-29T07:51:38.302Z"
   },
   {
    "duration": 0,
    "start_time": "2022-06-29T07:51:38.303Z"
   },
   {
    "duration": 0,
    "start_time": "2022-06-29T07:51:38.304Z"
   },
   {
    "duration": 0,
    "start_time": "2022-06-29T07:51:38.305Z"
   },
   {
    "duration": 0,
    "start_time": "2022-06-29T07:51:38.329Z"
   },
   {
    "duration": 0,
    "start_time": "2022-06-29T07:51:38.339Z"
   },
   {
    "duration": 0,
    "start_time": "2022-06-29T07:51:38.341Z"
   },
   {
    "duration": 0,
    "start_time": "2022-06-29T07:51:38.342Z"
   },
   {
    "duration": 0,
    "start_time": "2022-06-29T07:51:38.343Z"
   },
   {
    "duration": 0,
    "start_time": "2022-06-29T07:51:38.345Z"
   },
   {
    "duration": 0,
    "start_time": "2022-06-29T07:51:38.348Z"
   },
   {
    "duration": 0,
    "start_time": "2022-06-29T07:51:38.349Z"
   },
   {
    "duration": 3,
    "start_time": "2022-06-29T07:52:06.660Z"
   },
   {
    "duration": 474,
    "start_time": "2022-06-29T07:52:06.665Z"
   },
   {
    "duration": 39,
    "start_time": "2022-06-29T07:52:07.141Z"
   },
   {
    "duration": 56,
    "start_time": "2022-06-29T07:52:07.182Z"
   },
   {
    "duration": 24,
    "start_time": "2022-06-29T07:52:07.240Z"
   },
   {
    "duration": 21,
    "start_time": "2022-06-29T07:52:07.265Z"
   },
   {
    "duration": 41,
    "start_time": "2022-06-29T07:52:07.288Z"
   },
   {
    "duration": 12,
    "start_time": "2022-06-29T07:52:07.331Z"
   },
   {
    "duration": 88,
    "start_time": "2022-06-29T07:52:07.345Z"
   },
   {
    "duration": 9,
    "start_time": "2022-06-29T07:52:07.435Z"
   },
   {
    "duration": 18,
    "start_time": "2022-06-29T07:52:07.447Z"
   },
   {
    "duration": 109,
    "start_time": "2022-06-29T07:52:07.467Z"
   },
   {
    "duration": 8,
    "start_time": "2022-06-29T07:52:07.578Z"
   },
   {
    "duration": 61,
    "start_time": "2022-06-29T07:52:07.588Z"
   },
   {
    "duration": 43,
    "start_time": "2022-06-29T07:52:07.651Z"
   },
   {
    "duration": 68,
    "start_time": "2022-06-29T07:52:07.696Z"
   },
   {
    "duration": 10,
    "start_time": "2022-06-29T07:52:07.766Z"
   },
   {
    "duration": 56,
    "start_time": "2022-06-29T07:52:07.779Z"
   },
   {
    "duration": 11,
    "start_time": "2022-06-29T07:52:07.837Z"
   },
   {
    "duration": 30,
    "start_time": "2022-06-29T07:52:07.850Z"
   },
   {
    "duration": 18,
    "start_time": "2022-06-29T07:52:07.882Z"
   },
   {
    "duration": 43,
    "start_time": "2022-06-29T07:52:07.901Z"
   },
   {
    "duration": 31,
    "start_time": "2022-06-29T07:52:07.946Z"
   },
   {
    "duration": 9,
    "start_time": "2022-06-29T07:52:07.979Z"
   },
   {
    "duration": 45,
    "start_time": "2022-06-29T07:52:07.990Z"
   },
   {
    "duration": 12,
    "start_time": "2022-06-29T07:52:08.037Z"
   },
   {
    "duration": 14,
    "start_time": "2022-06-29T07:52:08.051Z"
   },
   {
    "duration": 17,
    "start_time": "2022-06-29T07:52:08.067Z"
   },
   {
    "duration": 60,
    "start_time": "2022-06-29T07:52:08.087Z"
   },
   {
    "duration": 13,
    "start_time": "2022-06-29T07:52:08.148Z"
   },
   {
    "duration": 27,
    "start_time": "2022-06-29T07:52:08.164Z"
   },
   {
    "duration": 39,
    "start_time": "2022-06-29T07:52:08.193Z"
   },
   {
    "duration": 13,
    "start_time": "2022-06-29T07:52:08.233Z"
   },
   {
    "duration": 16,
    "start_time": "2022-06-29T07:52:10.478Z"
   },
   {
    "duration": 15,
    "start_time": "2022-06-29T07:52:19.711Z"
   },
   {
    "duration": 15,
    "start_time": "2022-06-29T07:52:46.711Z"
   },
   {
    "duration": 17,
    "start_time": "2022-06-29T07:52:51.854Z"
   },
   {
    "duration": 18,
    "start_time": "2022-06-29T07:53:14.070Z"
   },
   {
    "duration": 7,
    "start_time": "2022-06-29T07:53:18.150Z"
   },
   {
    "duration": 8,
    "start_time": "2022-06-29T07:53:40.742Z"
   },
   {
    "duration": 9,
    "start_time": "2022-06-29T07:53:42.982Z"
   },
   {
    "duration": 18,
    "start_time": "2022-06-29T07:53:53.150Z"
   },
   {
    "duration": 6,
    "start_time": "2022-06-29T07:53:56.320Z"
   },
   {
    "duration": 7,
    "start_time": "2022-06-29T07:53:59.246Z"
   },
   {
    "duration": 951,
    "start_time": "2022-06-29T07:54:00.959Z"
   },
   {
    "duration": 4,
    "start_time": "2022-06-29T07:54:09.798Z"
   },
   {
    "duration": 5,
    "start_time": "2022-06-29T07:54:15.159Z"
   },
   {
    "duration": 1255,
    "start_time": "2022-06-29T07:54:16.079Z"
   },
   {
    "duration": 7,
    "start_time": "2022-06-29T07:54:33.527Z"
   },
   {
    "duration": 927,
    "start_time": "2022-06-29T07:54:34.646Z"
   },
   {
    "duration": 3,
    "start_time": "2022-06-29T07:54:44.371Z"
   },
   {
    "duration": 514,
    "start_time": "2022-06-29T07:54:44.377Z"
   },
   {
    "duration": 42,
    "start_time": "2022-06-29T07:54:44.893Z"
   },
   {
    "duration": 27,
    "start_time": "2022-06-29T07:54:44.937Z"
   },
   {
    "duration": 22,
    "start_time": "2022-06-29T07:54:44.966Z"
   },
   {
    "duration": 46,
    "start_time": "2022-06-29T07:54:44.990Z"
   },
   {
    "duration": 12,
    "start_time": "2022-06-29T07:54:45.038Z"
   },
   {
    "duration": 17,
    "start_time": "2022-06-29T07:54:45.052Z"
   },
   {
    "duration": 102,
    "start_time": "2022-06-29T07:54:45.071Z"
   },
   {
    "duration": 9,
    "start_time": "2022-06-29T07:54:45.176Z"
   },
   {
    "duration": 17,
    "start_time": "2022-06-29T07:54:45.188Z"
   },
   {
    "duration": 113,
    "start_time": "2022-06-29T07:54:45.207Z"
   },
   {
    "duration": 9,
    "start_time": "2022-06-29T07:54:45.321Z"
   },
   {
    "duration": 46,
    "start_time": "2022-06-29T07:54:45.332Z"
   },
   {
    "duration": 60,
    "start_time": "2022-06-29T07:54:45.381Z"
   },
   {
    "duration": 52,
    "start_time": "2022-06-29T07:54:45.443Z"
   },
   {
    "duration": 31,
    "start_time": "2022-06-29T07:54:45.497Z"
   },
   {
    "duration": 47,
    "start_time": "2022-06-29T07:54:45.530Z"
   },
   {
    "duration": 12,
    "start_time": "2022-06-29T07:54:45.578Z"
   },
   {
    "duration": 47,
    "start_time": "2022-06-29T07:54:45.592Z"
   },
   {
    "duration": 20,
    "start_time": "2022-06-29T07:54:45.641Z"
   },
   {
    "duration": 19,
    "start_time": "2022-06-29T07:54:45.662Z"
   },
   {
    "duration": 50,
    "start_time": "2022-06-29T07:54:45.683Z"
   },
   {
    "duration": 9,
    "start_time": "2022-06-29T07:54:45.735Z"
   },
   {
    "duration": 21,
    "start_time": "2022-06-29T07:54:45.745Z"
   },
   {
    "duration": 10,
    "start_time": "2022-06-29T07:54:45.768Z"
   },
   {
    "duration": 12,
    "start_time": "2022-06-29T07:54:45.780Z"
   },
   {
    "duration": 13,
    "start_time": "2022-06-29T07:54:45.827Z"
   },
   {
    "duration": 28,
    "start_time": "2022-06-29T07:54:45.843Z"
   },
   {
    "duration": 12,
    "start_time": "2022-06-29T07:54:45.873Z"
   },
   {
    "duration": 44,
    "start_time": "2022-06-29T07:54:45.886Z"
   },
   {
    "duration": 13,
    "start_time": "2022-06-29T07:54:45.932Z"
   },
   {
    "duration": 14,
    "start_time": "2022-06-29T07:54:45.947Z"
   },
   {
    "duration": 15,
    "start_time": "2022-06-29T07:54:45.963Z"
   },
   {
    "duration": 48,
    "start_time": "2022-06-29T07:54:45.980Z"
   },
   {
    "duration": 18,
    "start_time": "2022-06-29T07:54:46.030Z"
   },
   {
    "duration": 10,
    "start_time": "2022-06-29T07:54:46.050Z"
   },
   {
    "duration": 11,
    "start_time": "2022-06-29T07:54:46.062Z"
   },
   {
    "duration": 9,
    "start_time": "2022-06-29T07:54:46.075Z"
   },
   {
    "duration": 43,
    "start_time": "2022-06-29T07:54:46.085Z"
   },
   {
    "duration": 6,
    "start_time": "2022-06-29T07:54:46.130Z"
   },
   {
    "duration": 5,
    "start_time": "2022-06-29T07:54:47.430Z"
   },
   {
    "duration": 75,
    "start_time": "2022-06-29T07:54:49.350Z"
   },
   {
    "duration": 14,
    "start_time": "2022-06-29T07:55:27.023Z"
   },
   {
    "duration": 34,
    "start_time": "2022-06-29T07:55:35.807Z"
   },
   {
    "duration": 5,
    "start_time": "2022-06-29T07:56:06.349Z"
   },
   {
    "duration": 334,
    "start_time": "2022-06-29T07:56:06.356Z"
   },
   {
    "duration": 364,
    "start_time": "2022-06-29T07:56:06.692Z"
   },
   {
    "duration": 346,
    "start_time": "2022-06-29T07:56:07.058Z"
   },
   {
    "duration": 318,
    "start_time": "2022-06-29T07:56:07.406Z"
   },
   {
    "duration": 301,
    "start_time": "2022-06-29T07:56:07.726Z"
   },
   {
    "duration": 390,
    "start_time": "2022-06-29T07:56:08.029Z"
   },
   {
    "duration": 299,
    "start_time": "2022-06-29T07:56:08.426Z"
   },
   {
    "duration": 372,
    "start_time": "2022-06-29T07:56:08.728Z"
   },
   {
    "duration": 335,
    "start_time": "2022-06-29T07:56:09.102Z"
   },
   {
    "duration": 30,
    "start_time": "2022-06-29T08:51:44.071Z"
   },
   {
    "duration": 29,
    "start_time": "2022-06-29T08:52:24.201Z"
   },
   {
    "duration": 34,
    "start_time": "2022-06-29T08:52:33.232Z"
   },
   {
    "duration": 27,
    "start_time": "2022-06-29T08:52:52.127Z"
   },
   {
    "duration": 28,
    "start_time": "2022-06-29T08:52:56.552Z"
   },
   {
    "duration": 28,
    "start_time": "2022-06-29T08:53:01.768Z"
   },
   {
    "duration": 24,
    "start_time": "2022-06-29T08:53:07.393Z"
   },
   {
    "duration": 7,
    "start_time": "2022-06-29T08:54:12.679Z"
   },
   {
    "duration": 12,
    "start_time": "2022-06-29T08:54:37.616Z"
   },
   {
    "duration": 9,
    "start_time": "2022-06-29T08:59:18.358Z"
   },
   {
    "duration": 8,
    "start_time": "2022-06-29T09:00:27.487Z"
   },
   {
    "duration": 11,
    "start_time": "2022-06-29T09:01:17.127Z"
   },
   {
    "duration": 27,
    "start_time": "2022-06-29T09:10:37.113Z"
   },
   {
    "duration": 5,
    "start_time": "2022-06-29T09:11:19.205Z"
   },
   {
    "duration": 10,
    "start_time": "2022-06-29T09:11:43.996Z"
   },
   {
    "duration": 3,
    "start_time": "2022-06-29T09:11:49.772Z"
   },
   {
    "duration": 8,
    "start_time": "2022-06-29T09:12:49.479Z"
   },
   {
    "duration": 54,
    "start_time": "2022-06-29T09:13:02.947Z"
   },
   {
    "duration": 10,
    "start_time": "2022-06-29T09:13:05.571Z"
   },
   {
    "duration": 7,
    "start_time": "2022-06-29T09:13:24.412Z"
   },
   {
    "duration": 4,
    "start_time": "2022-06-29T09:13:33.852Z"
   },
   {
    "duration": 5,
    "start_time": "2022-06-29T09:13:44.052Z"
   },
   {
    "duration": 3,
    "start_time": "2022-06-29T09:13:50.236Z"
   },
   {
    "duration": 4,
    "start_time": "2022-06-29T09:14:40.659Z"
   },
   {
    "duration": 4,
    "start_time": "2022-06-29T09:14:44.188Z"
   },
   {
    "duration": 3,
    "start_time": "2022-06-29T09:14:51.443Z"
   },
   {
    "duration": 3,
    "start_time": "2022-06-29T09:15:15.771Z"
   },
   {
    "duration": 4,
    "start_time": "2022-06-29T09:15:27.003Z"
   },
   {
    "duration": 9,
    "start_time": "2022-06-29T09:15:43.387Z"
   },
   {
    "duration": 8,
    "start_time": "2022-06-29T09:17:44.155Z"
   },
   {
    "duration": 10,
    "start_time": "2022-06-29T09:20:41.898Z"
   },
   {
    "duration": 343,
    "start_time": "2022-06-29T09:34:24.120Z"
   },
   {
    "duration": 157,
    "start_time": "2022-06-29T09:35:14.792Z"
   },
   {
    "duration": 170,
    "start_time": "2022-06-29T09:35:37.849Z"
   },
   {
    "duration": 5,
    "start_time": "2022-06-29T09:36:22.785Z"
   },
   {
    "duration": 15,
    "start_time": "2022-06-29T09:37:08.096Z"
   },
   {
    "duration": 17,
    "start_time": "2022-06-29T09:37:19.136Z"
   },
   {
    "duration": 48,
    "start_time": "2022-06-29T09:41:24.736Z"
   },
   {
    "duration": 238,
    "start_time": "2022-06-29T09:41:28.872Z"
   },
   {
    "duration": 208,
    "start_time": "2022-06-29T09:41:45.377Z"
   },
   {
    "duration": 270,
    "start_time": "2022-06-29T09:42:15.113Z"
   },
   {
    "duration": 237,
    "start_time": "2022-06-29T09:43:01.975Z"
   },
   {
    "duration": 324,
    "start_time": "2022-06-29T09:43:13.888Z"
   },
   {
    "duration": 217,
    "start_time": "2022-06-29T09:48:34.775Z"
   },
   {
    "duration": 245,
    "start_time": "2022-06-29T09:48:42.991Z"
   },
   {
    "duration": 16,
    "start_time": "2022-06-29T09:50:21.496Z"
   },
   {
    "duration": 286,
    "start_time": "2022-06-29T09:50:38.494Z"
   },
   {
    "duration": 291,
    "start_time": "2022-06-29T09:50:43.121Z"
   },
   {
    "duration": 241,
    "start_time": "2022-06-29T09:50:48.831Z"
   },
   {
    "duration": 216,
    "start_time": "2022-06-29T09:50:51.990Z"
   },
   {
    "duration": 213,
    "start_time": "2022-06-29T09:50:56.574Z"
   },
   {
    "duration": 238,
    "start_time": "2022-06-29T09:51:01.006Z"
   },
   {
    "duration": 237,
    "start_time": "2022-06-29T09:51:05.710Z"
   },
   {
    "duration": 337,
    "start_time": "2022-06-29T09:51:51.894Z"
   },
   {
    "duration": 224,
    "start_time": "2022-06-29T09:52:12.350Z"
   },
   {
    "duration": 509,
    "start_time": "2022-06-29T09:52:47.598Z"
   },
   {
    "duration": 259,
    "start_time": "2022-06-29T09:52:55.334Z"
   },
   {
    "duration": 227,
    "start_time": "2022-06-29T09:53:25.724Z"
   },
   {
    "duration": 212,
    "start_time": "2022-06-29T09:53:48.073Z"
   },
   {
    "duration": 248,
    "start_time": "2022-06-29T09:53:53.078Z"
   },
   {
    "duration": 17,
    "start_time": "2022-06-29T09:54:27.169Z"
   },
   {
    "duration": 255,
    "start_time": "2022-06-29T09:54:52.503Z"
   },
   {
    "duration": 246,
    "start_time": "2022-06-29T09:55:02.917Z"
   },
   {
    "duration": 341,
    "start_time": "2022-06-29T09:55:21.478Z"
   },
   {
    "duration": 252,
    "start_time": "2022-06-29T09:55:33.742Z"
   },
   {
    "duration": 267,
    "start_time": "2022-06-29T09:55:43.510Z"
   },
   {
    "duration": 261,
    "start_time": "2022-06-29T09:57:13.717Z"
   },
   {
    "duration": 289,
    "start_time": "2022-06-29T09:57:33.550Z"
   },
   {
    "duration": 261,
    "start_time": "2022-06-29T09:58:02.687Z"
   },
   {
    "duration": 266,
    "start_time": "2022-06-29T09:58:13.285Z"
   },
   {
    "duration": 173,
    "start_time": "2022-06-29T10:01:43.550Z"
   },
   {
    "duration": 242,
    "start_time": "2022-06-29T10:01:55.607Z"
   },
   {
    "duration": 282,
    "start_time": "2022-06-29T10:02:24.133Z"
   },
   {
    "duration": 244,
    "start_time": "2022-06-29T10:02:30.070Z"
   },
   {
    "duration": 433,
    "start_time": "2022-06-29T10:02:34.374Z"
   },
   {
    "duration": 296,
    "start_time": "2022-06-29T10:02:38.917Z"
   },
   {
    "duration": 259,
    "start_time": "2022-06-29T10:02:43.014Z"
   },
   {
    "duration": 286,
    "start_time": "2022-06-29T10:02:54.246Z"
   },
   {
    "duration": 265,
    "start_time": "2022-06-29T10:02:58.072Z"
   },
   {
    "duration": 248,
    "start_time": "2022-06-29T10:03:02.013Z"
   },
   {
    "duration": 265,
    "start_time": "2022-06-29T10:03:06.901Z"
   },
   {
    "duration": 303,
    "start_time": "2022-06-29T10:06:47.389Z"
   },
   {
    "duration": 351,
    "start_time": "2022-06-29T10:08:37.500Z"
   },
   {
    "duration": 357,
    "start_time": "2022-06-29T10:08:43.925Z"
   },
   {
    "duration": 472,
    "start_time": "2022-06-29T10:08:57.971Z"
   },
   {
    "duration": 4,
    "start_time": "2022-06-29T10:11:30.661Z"
   },
   {
    "duration": 15,
    "start_time": "2022-06-29T10:15:54.908Z"
   },
   {
    "duration": 22,
    "start_time": "2022-06-29T10:16:00.963Z"
   },
   {
    "duration": 238,
    "start_time": "2022-06-29T10:27:19.172Z"
   },
   {
    "duration": 293,
    "start_time": "2022-06-29T10:27:44.430Z"
   },
   {
    "duration": 253,
    "start_time": "2022-06-29T10:28:40.747Z"
   },
   {
    "duration": 234,
    "start_time": "2022-06-29T10:29:23.871Z"
   },
   {
    "duration": 212,
    "start_time": "2022-06-29T10:33:59.858Z"
   },
   {
    "duration": 183,
    "start_time": "2022-06-29T10:35:37.530Z"
   },
   {
    "duration": 211,
    "start_time": "2022-06-29T10:35:54.841Z"
   },
   {
    "duration": 213,
    "start_time": "2022-06-29T10:35:57.258Z"
   },
   {
    "duration": 216,
    "start_time": "2022-06-29T10:35:59.571Z"
   },
   {
    "duration": 1123,
    "start_time": "2022-06-29T10:40:16.357Z"
   },
   {
    "duration": 435,
    "start_time": "2022-06-29T10:40:17.482Z"
   },
   {
    "duration": 46,
    "start_time": "2022-06-29T10:40:17.919Z"
   },
   {
    "duration": 59,
    "start_time": "2022-06-29T10:40:17.967Z"
   },
   {
    "duration": 22,
    "start_time": "2022-06-29T10:40:18.029Z"
   },
   {
    "duration": 24,
    "start_time": "2022-06-29T10:40:18.053Z"
   },
   {
    "duration": 12,
    "start_time": "2022-06-29T10:40:18.079Z"
   },
   {
    "duration": 37,
    "start_time": "2022-06-29T10:40:18.092Z"
   },
   {
    "duration": 104,
    "start_time": "2022-06-29T10:40:18.131Z"
   },
   {
    "duration": 9,
    "start_time": "2022-06-29T10:40:18.237Z"
   },
   {
    "duration": 14,
    "start_time": "2022-06-29T10:40:18.248Z"
   },
   {
    "duration": 114,
    "start_time": "2022-06-29T10:40:18.263Z"
   },
   {
    "duration": 7,
    "start_time": "2022-06-29T10:40:18.378Z"
   },
   {
    "duration": 54,
    "start_time": "2022-06-29T10:40:18.387Z"
   },
   {
    "duration": 86,
    "start_time": "2022-06-29T10:40:18.444Z"
   },
   {
    "duration": 49,
    "start_time": "2022-06-29T10:40:18.532Z"
   },
   {
    "duration": 44,
    "start_time": "2022-06-29T10:40:18.582Z"
   },
   {
    "duration": 102,
    "start_time": "2022-06-29T10:40:18.628Z"
   },
   {
    "duration": 11,
    "start_time": "2022-06-29T10:40:18.732Z"
   },
   {
    "duration": 37,
    "start_time": "2022-06-29T10:40:18.745Z"
   },
   {
    "duration": 18,
    "start_time": "2022-06-29T10:40:18.784Z"
   },
   {
    "duration": 36,
    "start_time": "2022-06-29T10:40:18.804Z"
   },
   {
    "duration": 30,
    "start_time": "2022-06-29T10:40:18.842Z"
   },
   {
    "duration": 8,
    "start_time": "2022-06-29T10:40:18.874Z"
   },
   {
    "duration": 18,
    "start_time": "2022-06-29T10:40:18.884Z"
   },
   {
    "duration": 12,
    "start_time": "2022-06-29T10:40:18.927Z"
   },
   {
    "duration": 12,
    "start_time": "2022-06-29T10:40:18.941Z"
   },
   {
    "duration": 15,
    "start_time": "2022-06-29T10:40:18.958Z"
   },
   {
    "duration": 60,
    "start_time": "2022-06-29T10:40:18.975Z"
   },
   {
    "duration": 12,
    "start_time": "2022-06-29T10:40:19.037Z"
   },
   {
    "duration": 27,
    "start_time": "2022-06-29T10:40:19.050Z"
   },
   {
    "duration": 13,
    "start_time": "2022-06-29T10:40:19.078Z"
   },
   {
    "duration": 35,
    "start_time": "2022-06-29T10:40:19.092Z"
   },
   {
    "duration": 16,
    "start_time": "2022-06-29T10:40:19.129Z"
   },
   {
    "duration": 18,
    "start_time": "2022-06-29T10:40:19.146Z"
   },
   {
    "duration": 20,
    "start_time": "2022-06-29T10:40:19.166Z"
   },
   {
    "duration": 41,
    "start_time": "2022-06-29T10:40:19.187Z"
   },
   {
    "duration": 11,
    "start_time": "2022-06-29T10:40:19.230Z"
   },
   {
    "duration": 17,
    "start_time": "2022-06-29T10:40:19.243Z"
   },
   {
    "duration": 28,
    "start_time": "2022-06-29T10:40:19.262Z"
   },
   {
    "duration": 6,
    "start_time": "2022-06-29T10:40:19.292Z"
   },
   {
    "duration": 81,
    "start_time": "2022-06-29T10:40:19.300Z"
   },
   {
    "duration": 44,
    "start_time": "2022-06-29T10:40:19.384Z"
   },
   {
    "duration": 4,
    "start_time": "2022-06-29T10:40:19.430Z"
   },
   {
    "duration": 309,
    "start_time": "2022-06-29T10:40:19.435Z"
   },
   {
    "duration": 344,
    "start_time": "2022-06-29T10:40:19.746Z"
   },
   {
    "duration": 345,
    "start_time": "2022-06-29T10:40:20.092Z"
   },
   {
    "duration": 300,
    "start_time": "2022-06-29T10:40:20.438Z"
   },
   {
    "duration": 288,
    "start_time": "2022-06-29T10:40:20.739Z"
   },
   {
    "duration": 383,
    "start_time": "2022-06-29T10:40:21.029Z"
   },
   {
    "duration": 329,
    "start_time": "2022-06-29T10:40:21.414Z"
   },
   {
    "duration": 329,
    "start_time": "2022-06-29T10:40:21.745Z"
   },
   {
    "duration": 345,
    "start_time": "2022-06-29T10:40:22.075Z"
   },
   {
    "duration": 283,
    "start_time": "2022-06-29T10:40:22.422Z"
   },
   {
    "duration": 275,
    "start_time": "2022-06-29T10:40:22.707Z"
   },
   {
    "duration": 225,
    "start_time": "2022-06-29T10:40:22.984Z"
   },
   {
    "duration": 249,
    "start_time": "2022-06-29T10:40:23.212Z"
   },
   {
    "duration": 236,
    "start_time": "2022-06-29T10:40:23.462Z"
   },
   {
    "duration": 214,
    "start_time": "2022-06-29T10:40:23.700Z"
   },
   {
    "duration": 223,
    "start_time": "2022-06-29T10:40:23.915Z"
   },
   {
    "duration": 345,
    "start_time": "2022-06-29T10:40:24.139Z"
   },
   {
    "duration": 291,
    "start_time": "2022-06-29T10:40:24.487Z"
   },
   {
    "duration": 9,
    "start_time": "2022-06-29T10:40:24.780Z"
   },
   {
    "duration": 38,
    "start_time": "2022-06-29T10:40:24.790Z"
   },
   {
    "duration": 7,
    "start_time": "2022-06-29T10:40:24.830Z"
   },
   {
    "duration": 10,
    "start_time": "2022-06-29T10:40:24.838Z"
   },
   {
    "duration": 146,
    "start_time": "2022-06-29T10:44:04.536Z"
   },
   {
    "duration": 51,
    "start_time": "2022-06-29T10:45:00.769Z"
   },
   {
    "duration": 7,
    "start_time": "2022-06-29T10:45:07.969Z"
   },
   {
    "duration": 17,
    "start_time": "2022-06-29T10:45:41.319Z"
   },
   {
    "duration": 10,
    "start_time": "2022-06-29T10:46:22.560Z"
   },
   {
    "duration": 921,
    "start_time": "2022-06-29T10:46:37.712Z"
   },
   {
    "duration": 4,
    "start_time": "2022-06-29T10:46:53.480Z"
   },
   {
    "duration": 8,
    "start_time": "2022-06-29T10:46:56.591Z"
   },
   {
    "duration": 7,
    "start_time": "2022-06-29T10:47:12.695Z"
   },
   {
    "duration": 925,
    "start_time": "2022-06-29T10:54:16.988Z"
   },
   {
    "duration": 775,
    "start_time": "2022-06-29T10:54:41.902Z"
   },
   {
    "duration": 4,
    "start_time": "2022-06-29T10:54:47.813Z"
   },
   {
    "duration": 6,
    "start_time": "2022-06-29T10:54:53.766Z"
   },
   {
    "duration": 1000,
    "start_time": "2022-06-29T10:54:58.837Z"
   },
   {
    "duration": 6,
    "start_time": "2022-06-29T10:55:06.309Z"
   },
   {
    "duration": 7,
    "start_time": "2022-06-29T10:55:57.670Z"
   },
   {
    "duration": 16,
    "start_time": "2022-06-29T10:56:27.717Z"
   },
   {
    "duration": 7,
    "start_time": "2022-06-29T10:58:09.694Z"
   },
   {
    "duration": 152,
    "start_time": "2022-06-29T10:58:11.412Z"
   },
   {
    "duration": 1197,
    "start_time": "2022-06-29T10:58:22.405Z"
   },
   {
    "duration": 423,
    "start_time": "2022-06-29T10:58:23.604Z"
   },
   {
    "duration": 41,
    "start_time": "2022-06-29T10:58:24.028Z"
   },
   {
    "duration": 56,
    "start_time": "2022-06-29T10:58:24.071Z"
   },
   {
    "duration": 23,
    "start_time": "2022-06-29T10:58:24.129Z"
   },
   {
    "duration": 22,
    "start_time": "2022-06-29T10:58:24.153Z"
   },
   {
    "duration": 11,
    "start_time": "2022-06-29T10:58:24.177Z"
   },
   {
    "duration": 37,
    "start_time": "2022-06-29T10:58:24.189Z"
   },
   {
    "duration": 107,
    "start_time": "2022-06-29T10:58:24.228Z"
   },
   {
    "duration": 10,
    "start_time": "2022-06-29T10:58:24.339Z"
   },
   {
    "duration": 15,
    "start_time": "2022-06-29T10:58:24.351Z"
   },
   {
    "duration": 140,
    "start_time": "2022-06-29T10:58:24.368Z"
   },
   {
    "duration": 18,
    "start_time": "2022-06-29T10:58:24.511Z"
   },
   {
    "duration": 51,
    "start_time": "2022-06-29T10:58:24.531Z"
   },
   {
    "duration": 68,
    "start_time": "2022-06-29T10:58:24.584Z"
   },
   {
    "duration": 50,
    "start_time": "2022-06-29T10:58:24.655Z"
   },
   {
    "duration": 24,
    "start_time": "2022-06-29T10:58:24.707Z"
   },
   {
    "duration": 57,
    "start_time": "2022-06-29T10:58:24.733Z"
   },
   {
    "duration": 11,
    "start_time": "2022-06-29T10:58:24.792Z"
   },
   {
    "duration": 45,
    "start_time": "2022-06-29T10:58:24.804Z"
   },
   {
    "duration": 19,
    "start_time": "2022-06-29T10:58:24.851Z"
   },
   {
    "duration": 19,
    "start_time": "2022-06-29T10:58:24.872Z"
   },
   {
    "duration": 57,
    "start_time": "2022-06-29T10:58:24.893Z"
   },
   {
    "duration": 10,
    "start_time": "2022-06-29T10:58:24.951Z"
   },
   {
    "duration": 30,
    "start_time": "2022-06-29T10:58:24.963Z"
   },
   {
    "duration": 11,
    "start_time": "2022-06-29T10:58:24.995Z"
   },
   {
    "duration": 28,
    "start_time": "2022-06-29T10:58:25.008Z"
   },
   {
    "duration": 15,
    "start_time": "2022-06-29T10:58:25.041Z"
   },
   {
    "duration": 29,
    "start_time": "2022-06-29T10:58:25.058Z"
   },
   {
    "duration": 37,
    "start_time": "2022-06-29T10:58:25.089Z"
   },
   {
    "duration": 19,
    "start_time": "2022-06-29T10:58:25.128Z"
   },
   {
    "duration": 12,
    "start_time": "2022-06-29T10:58:25.149Z"
   },
   {
    "duration": 23,
    "start_time": "2022-06-29T10:58:25.162Z"
   },
   {
    "duration": 15,
    "start_time": "2022-06-29T10:58:25.186Z"
   },
   {
    "duration": 40,
    "start_time": "2022-06-29T10:58:25.203Z"
   },
   {
    "duration": 16,
    "start_time": "2022-06-29T10:58:25.244Z"
   },
   {
    "duration": 8,
    "start_time": "2022-06-29T10:58:25.262Z"
   },
   {
    "duration": 7,
    "start_time": "2022-06-29T10:58:25.272Z"
   },
   {
    "duration": 7,
    "start_time": "2022-06-29T10:58:25.281Z"
   },
   {
    "duration": 46,
    "start_time": "2022-06-29T10:58:25.289Z"
   },
   {
    "duration": 22,
    "start_time": "2022-06-29T10:58:25.337Z"
   },
   {
    "duration": 16,
    "start_time": "2022-06-29T10:58:25.361Z"
   },
   {
    "duration": 101,
    "start_time": "2022-06-29T10:58:25.378Z"
   },
   {
    "duration": 36,
    "start_time": "2022-06-29T10:58:25.481Z"
   },
   {
    "duration": 10,
    "start_time": "2022-06-29T10:58:25.519Z"
   },
   {
    "duration": 306,
    "start_time": "2022-06-29T10:58:25.531Z"
   },
   {
    "duration": 339,
    "start_time": "2022-06-29T10:58:25.839Z"
   },
   {
    "duration": 334,
    "start_time": "2022-06-29T10:58:26.181Z"
   },
   {
    "duration": 367,
    "start_time": "2022-06-29T10:58:26.517Z"
   },
   {
    "duration": 294,
    "start_time": "2022-06-29T10:58:26.886Z"
   },
   {
    "duration": 368,
    "start_time": "2022-06-29T10:58:27.181Z"
   },
   {
    "duration": 270,
    "start_time": "2022-06-29T10:58:27.551Z"
   },
   {
    "duration": 308,
    "start_time": "2022-06-29T10:58:27.823Z"
   },
   {
    "duration": 330,
    "start_time": "2022-06-29T10:58:28.132Z"
   },
   {
    "duration": 247,
    "start_time": "2022-06-29T10:58:28.463Z"
   },
   {
    "duration": 230,
    "start_time": "2022-06-29T10:58:28.712Z"
   },
   {
    "duration": 246,
    "start_time": "2022-06-29T10:58:28.944Z"
   },
   {
    "duration": 221,
    "start_time": "2022-06-29T10:58:29.192Z"
   },
   {
    "duration": 245,
    "start_time": "2022-06-29T10:58:29.414Z"
   },
   {
    "duration": 220,
    "start_time": "2022-06-29T10:58:29.660Z"
   },
   {
    "duration": 223,
    "start_time": "2022-06-29T10:58:29.882Z"
   },
   {
    "duration": 439,
    "start_time": "2022-06-29T10:58:30.107Z"
   },
   {
    "duration": 516,
    "start_time": "2022-06-29T10:58:30.549Z"
   },
   {
    "duration": 64,
    "start_time": "2022-06-29T10:58:31.066Z"
   },
   {
    "duration": 27,
    "start_time": "2022-06-29T10:58:31.132Z"
   },
   {
    "duration": 75,
    "start_time": "2022-06-29T10:58:31.161Z"
   },
   {
    "duration": 39,
    "start_time": "2022-06-29T10:58:31.238Z"
   },
   {
    "duration": 107,
    "start_time": "2022-06-29T11:12:43.384Z"
   },
   {
    "duration": 5,
    "start_time": "2022-06-29T11:12:50.967Z"
   },
   {
    "duration": 7,
    "start_time": "2022-06-29T11:18:17.494Z"
   },
   {
    "duration": 6,
    "start_time": "2022-06-29T11:22:09.813Z"
   },
   {
    "duration": 8,
    "start_time": "2022-06-29T11:23:03.925Z"
   },
   {
    "duration": 7,
    "start_time": "2022-06-29T11:23:53.198Z"
   },
   {
    "duration": 5,
    "start_time": "2022-06-29T11:24:03.652Z"
   },
   {
    "duration": 5,
    "start_time": "2022-06-29T11:24:10.892Z"
   },
   {
    "duration": 7,
    "start_time": "2022-06-29T11:25:53.844Z"
   },
   {
    "duration": 7,
    "start_time": "2022-06-29T11:29:33.307Z"
   },
   {
    "duration": 8,
    "start_time": "2022-06-29T11:30:14.996Z"
   },
   {
    "duration": 6,
    "start_time": "2022-06-29T11:30:29.650Z"
   },
   {
    "duration": 6,
    "start_time": "2022-06-29T11:35:09.106Z"
   },
   {
    "duration": 6,
    "start_time": "2022-06-29T11:36:00.818Z"
   },
   {
    "duration": 6,
    "start_time": "2022-06-29T11:36:32.699Z"
   },
   {
    "duration": 7,
    "start_time": "2022-06-29T11:36:47.697Z"
   },
   {
    "duration": 7,
    "start_time": "2022-06-29T11:40:01.977Z"
   },
   {
    "duration": 1221,
    "start_time": "2022-06-29T11:40:29.625Z"
   },
   {
    "duration": 474,
    "start_time": "2022-06-29T11:40:30.848Z"
   },
   {
    "duration": 61,
    "start_time": "2022-06-29T11:40:31.323Z"
   },
   {
    "duration": 72,
    "start_time": "2022-06-29T11:40:31.387Z"
   },
   {
    "duration": 23,
    "start_time": "2022-06-29T11:40:31.462Z"
   },
   {
    "duration": 58,
    "start_time": "2022-06-29T11:40:31.488Z"
   },
   {
    "duration": 20,
    "start_time": "2022-06-29T11:40:31.548Z"
   },
   {
    "duration": 26,
    "start_time": "2022-06-29T11:40:31.570Z"
   },
   {
    "duration": 111,
    "start_time": "2022-06-29T11:40:31.598Z"
   },
   {
    "duration": 10,
    "start_time": "2022-06-29T11:40:31.711Z"
   },
   {
    "duration": 52,
    "start_time": "2022-06-29T11:40:31.726Z"
   },
   {
    "duration": 126,
    "start_time": "2022-06-29T11:40:31.780Z"
   },
   {
    "duration": 8,
    "start_time": "2022-06-29T11:40:31.908Z"
   },
   {
    "duration": 62,
    "start_time": "2022-06-29T11:40:31.926Z"
   },
   {
    "duration": 47,
    "start_time": "2022-06-29T11:40:31.989Z"
   },
   {
    "duration": 51,
    "start_time": "2022-06-29T11:40:32.037Z"
   },
   {
    "duration": 11,
    "start_time": "2022-06-29T11:40:32.090Z"
   },
   {
    "duration": 72,
    "start_time": "2022-06-29T11:40:32.103Z"
   },
   {
    "duration": 11,
    "start_time": "2022-06-29T11:40:32.176Z"
   },
   {
    "duration": 51,
    "start_time": "2022-06-29T11:40:32.188Z"
   },
   {
    "duration": 19,
    "start_time": "2022-06-29T11:40:32.240Z"
   },
   {
    "duration": 20,
    "start_time": "2022-06-29T11:40:32.260Z"
   },
   {
    "duration": 56,
    "start_time": "2022-06-29T11:40:32.282Z"
   },
   {
    "duration": 9,
    "start_time": "2022-06-29T11:40:32.341Z"
   },
   {
    "duration": 20,
    "start_time": "2022-06-29T11:40:32.352Z"
   },
   {
    "duration": 24,
    "start_time": "2022-06-29T11:40:32.374Z"
   },
   {
    "duration": 24,
    "start_time": "2022-06-29T11:40:32.399Z"
   },
   {
    "duration": 27,
    "start_time": "2022-06-29T11:40:32.429Z"
   },
   {
    "duration": 31,
    "start_time": "2022-06-29T11:40:32.458Z"
   },
   {
    "duration": 12,
    "start_time": "2022-06-29T11:40:32.491Z"
   },
   {
    "duration": 36,
    "start_time": "2022-06-29T11:40:32.505Z"
   },
   {
    "duration": 14,
    "start_time": "2022-06-29T11:40:32.543Z"
   },
   {
    "duration": 28,
    "start_time": "2022-06-29T11:40:32.560Z"
   },
   {
    "duration": 22,
    "start_time": "2022-06-29T11:40:32.590Z"
   },
   {
    "duration": 18,
    "start_time": "2022-06-29T11:40:32.625Z"
   },
   {
    "duration": 26,
    "start_time": "2022-06-29T11:40:32.646Z"
   },
   {
    "duration": 8,
    "start_time": "2022-06-29T11:40:32.674Z"
   },
   {
    "duration": 16,
    "start_time": "2022-06-29T11:40:32.684Z"
   },
   {
    "duration": 25,
    "start_time": "2022-06-29T11:40:32.702Z"
   },
   {
    "duration": 13,
    "start_time": "2022-06-29T11:40:32.729Z"
   },
   {
    "duration": 31,
    "start_time": "2022-06-29T11:40:32.744Z"
   },
   {
    "duration": 11,
    "start_time": "2022-06-29T11:40:32.777Z"
   },
   {
    "duration": 111,
    "start_time": "2022-06-29T11:40:32.790Z"
   },
   {
    "duration": 37,
    "start_time": "2022-06-29T11:40:32.902Z"
   },
   {
    "duration": 4,
    "start_time": "2022-06-29T11:40:32.941Z"
   },
   {
    "duration": 322,
    "start_time": "2022-06-29T11:40:32.946Z"
   },
   {
    "duration": 376,
    "start_time": "2022-06-29T11:40:33.270Z"
   },
   {
    "duration": 345,
    "start_time": "2022-06-29T11:40:33.649Z"
   },
   {
    "duration": 312,
    "start_time": "2022-06-29T11:40:33.996Z"
   },
   {
    "duration": 383,
    "start_time": "2022-06-29T11:40:34.310Z"
   },
   {
    "duration": 406,
    "start_time": "2022-06-29T11:40:34.696Z"
   },
   {
    "duration": 321,
    "start_time": "2022-06-29T11:40:35.105Z"
   },
   {
    "duration": 336,
    "start_time": "2022-06-29T11:40:35.428Z"
   },
   {
    "duration": 334,
    "start_time": "2022-06-29T11:40:35.767Z"
   },
   {
    "duration": 317,
    "start_time": "2022-06-29T11:40:36.104Z"
   },
   {
    "duration": 251,
    "start_time": "2022-06-29T11:40:36.423Z"
   },
   {
    "duration": 251,
    "start_time": "2022-06-29T11:40:36.675Z"
   },
   {
    "duration": 246,
    "start_time": "2022-06-29T11:40:36.928Z"
   },
   {
    "duration": 295,
    "start_time": "2022-06-29T11:40:37.176Z"
   },
   {
    "duration": 256,
    "start_time": "2022-06-29T11:40:37.473Z"
   },
   {
    "duration": 257,
    "start_time": "2022-06-29T11:40:37.731Z"
   },
   {
    "duration": 387,
    "start_time": "2022-06-29T11:40:37.990Z"
   },
   {
    "duration": 268,
    "start_time": "2022-06-29T11:40:38.379Z"
   },
   {
    "duration": 9,
    "start_time": "2022-06-29T11:40:38.649Z"
   },
   {
    "duration": 9,
    "start_time": "2022-06-29T11:40:38.660Z"
   },
   {
    "duration": 11,
    "start_time": "2022-06-29T11:40:38.670Z"
   },
   {
    "duration": 54,
    "start_time": "2022-06-29T11:40:38.683Z"
   },
   {
    "duration": 7,
    "start_time": "2022-06-29T11:40:38.739Z"
   },
   {
    "duration": 11,
    "start_time": "2022-06-29T11:40:38.748Z"
   },
   {
    "duration": 51,
    "start_time": "2022-06-30T12:55:47.955Z"
   },
   {
    "duration": 1477,
    "start_time": "2022-06-30T12:55:53.336Z"
   },
   {
    "duration": 904,
    "start_time": "2022-06-30T12:55:54.816Z"
   },
   {
    "duration": 52,
    "start_time": "2022-06-30T12:55:55.721Z"
   },
   {
    "duration": 52,
    "start_time": "2022-06-30T12:55:55.775Z"
   },
   {
    "duration": 23,
    "start_time": "2022-06-30T12:55:55.829Z"
   },
   {
    "duration": 18,
    "start_time": "2022-06-30T12:55:55.854Z"
   },
   {
    "duration": 9,
    "start_time": "2022-06-30T12:55:55.874Z"
   },
   {
    "duration": 15,
    "start_time": "2022-06-30T12:55:55.884Z"
   },
   {
    "duration": 120,
    "start_time": "2022-06-30T12:55:57.823Z"
   },
   {
    "duration": 38,
    "start_time": "2022-06-30T12:56:11.289Z"
   },
   {
    "duration": 46,
    "start_time": "2022-06-30T12:56:13.815Z"
   },
   {
    "duration": 155,
    "start_time": "2022-06-30T13:06:00.987Z"
   },
   {
    "duration": 47,
    "start_time": "2022-06-30T13:06:07.299Z"
   },
   {
    "duration": 42,
    "start_time": "2022-06-30T13:06:22.370Z"
   },
   {
    "duration": 4,
    "start_time": "2022-06-30T13:07:47.660Z"
   },
   {
    "duration": 424,
    "start_time": "2022-06-30T13:07:47.666Z"
   },
   {
    "duration": 43,
    "start_time": "2022-06-30T13:07:48.093Z"
   },
   {
    "duration": 25,
    "start_time": "2022-06-30T13:07:48.138Z"
   },
   {
    "duration": 23,
    "start_time": "2022-06-30T13:07:48.165Z"
   },
   {
    "duration": 44,
    "start_time": "2022-06-30T13:07:48.189Z"
   },
   {
    "duration": 10,
    "start_time": "2022-06-30T13:07:48.235Z"
   },
   {
    "duration": 14,
    "start_time": "2022-06-30T13:07:48.246Z"
   },
   {
    "duration": 82,
    "start_time": "2022-06-30T13:07:51.467Z"
   },
   {
    "duration": 101,
    "start_time": "2022-06-30T13:07:58.610Z"
   },
   {
    "duration": 8,
    "start_time": "2022-06-30T13:08:01.627Z"
   },
   {
    "duration": 9,
    "start_time": "2022-06-30T13:08:15.363Z"
   },
   {
    "duration": 5,
    "start_time": "2022-06-30T13:08:18.986Z"
   },
   {
    "duration": 5,
    "start_time": "2022-06-30T13:08:53.059Z"
   },
   {
    "duration": 5,
    "start_time": "2022-06-30T13:09:07.571Z"
   },
   {
    "duration": 54,
    "start_time": "2022-06-30T13:09:13.419Z"
   },
   {
    "duration": 55,
    "start_time": "2022-06-30T13:09:19.242Z"
   },
   {
    "duration": 56,
    "start_time": "2022-06-30T13:09:22.650Z"
   },
   {
    "duration": 62,
    "start_time": "2022-06-30T13:09:30.426Z"
   },
   {
    "duration": 62,
    "start_time": "2022-06-30T13:09:34.539Z"
   },
   {
    "duration": 69,
    "start_time": "2022-06-30T13:09:38.532Z"
   },
   {
    "duration": 6,
    "start_time": "2022-06-30T13:09:41.571Z"
   },
   {
    "duration": 4,
    "start_time": "2022-06-30T13:09:58.531Z"
   },
   {
    "duration": 4,
    "start_time": "2022-06-30T13:10:39.915Z"
   },
   {
    "duration": 9,
    "start_time": "2022-06-30T13:10:52.596Z"
   },
   {
    "duration": 4,
    "start_time": "2022-06-30T13:10:58.731Z"
   },
   {
    "duration": 4,
    "start_time": "2022-06-30T13:19:22.163Z"
   },
   {
    "duration": 79,
    "start_time": "2022-06-30T13:19:42.524Z"
   },
   {
    "duration": 48,
    "start_time": "2022-06-30T13:20:21.819Z"
   },
   {
    "duration": 51,
    "start_time": "2022-06-30T13:20:25.795Z"
   },
   {
    "duration": 51,
    "start_time": "2022-06-30T13:20:29.291Z"
   },
   {
    "duration": 51,
    "start_time": "2022-06-30T13:20:31.452Z"
   },
   {
    "duration": 50,
    "start_time": "2022-06-30T13:21:49.803Z"
   },
   {
    "duration": 71,
    "start_time": "2022-06-30T13:21:56.227Z"
   },
   {
    "duration": 5,
    "start_time": "2022-06-30T13:22:27.498Z"
   },
   {
    "duration": 7,
    "start_time": "2022-06-30T13:22:37.251Z"
   },
   {
    "duration": 6,
    "start_time": "2022-06-30T13:22:45.770Z"
   },
   {
    "duration": 4,
    "start_time": "2022-06-30T13:23:05.715Z"
   },
   {
    "duration": 4,
    "start_time": "2022-06-30T13:23:13.075Z"
   },
   {
    "duration": 3,
    "start_time": "2022-06-30T13:26:53.262Z"
   },
   {
    "duration": 395,
    "start_time": "2022-06-30T13:26:53.267Z"
   },
   {
    "duration": 37,
    "start_time": "2022-06-30T13:26:53.664Z"
   },
   {
    "duration": 34,
    "start_time": "2022-06-30T13:26:53.702Z"
   },
   {
    "duration": 22,
    "start_time": "2022-06-30T13:26:53.739Z"
   },
   {
    "duration": 20,
    "start_time": "2022-06-30T13:26:53.762Z"
   },
   {
    "duration": 10,
    "start_time": "2022-06-30T13:26:53.784Z"
   },
   {
    "duration": 36,
    "start_time": "2022-06-30T13:26:53.796Z"
   },
   {
    "duration": 70,
    "start_time": "2022-06-30T13:26:53.834Z"
   },
   {
    "duration": 4,
    "start_time": "2022-06-30T13:26:53.905Z"
   },
   {
    "duration": 7,
    "start_time": "2022-06-30T13:26:53.927Z"
   },
   {
    "duration": 19,
    "start_time": "2022-06-30T13:26:53.936Z"
   },
   {
    "duration": 102,
    "start_time": "2022-06-30T13:26:53.957Z"
   },
   {
    "duration": 8,
    "start_time": "2022-06-30T13:26:54.061Z"
   },
   {
    "duration": 57,
    "start_time": "2022-06-30T13:26:54.071Z"
   },
   {
    "duration": 40,
    "start_time": "2022-06-30T13:26:54.129Z"
   },
   {
    "duration": 66,
    "start_time": "2022-06-30T13:26:54.171Z"
   },
   {
    "duration": 10,
    "start_time": "2022-06-30T13:26:57.035Z"
   },
   {
    "duration": 35,
    "start_time": "2022-06-30T13:29:16.891Z"
   },
   {
    "duration": 37,
    "start_time": "2022-06-30T13:44:31.280Z"
   },
   {
    "duration": 291,
    "start_time": "2022-06-30T13:47:37.157Z"
   },
   {
    "duration": 247,
    "start_time": "2022-06-30T13:47:51.126Z"
   },
   {
    "duration": 42,
    "start_time": "2022-06-30T13:48:33.454Z"
   },
   {
    "duration": 617,
    "start_time": "2022-06-30T13:48:58.726Z"
   },
   {
    "duration": 30,
    "start_time": "2022-06-30T13:49:14.622Z"
   },
   {
    "duration": 606,
    "start_time": "2022-06-30T13:49:25.326Z"
   },
   {
    "duration": 25,
    "start_time": "2022-06-30T13:49:34.838Z"
   },
   {
    "duration": 26,
    "start_time": "2022-06-30T13:49:38.445Z"
   },
   {
    "duration": 21,
    "start_time": "2022-06-30T13:49:41.853Z"
   },
   {
    "duration": 35,
    "start_time": "2022-06-30T13:49:51.117Z"
   },
   {
    "duration": 23,
    "start_time": "2022-06-30T13:49:54.829Z"
   },
   {
    "duration": 51,
    "start_time": "2022-06-30T13:50:07.837Z"
   },
   {
    "duration": 3,
    "start_time": "2022-06-30T13:50:46.246Z"
   },
   {
    "duration": 463,
    "start_time": "2022-06-30T13:50:46.251Z"
   },
   {
    "duration": 44,
    "start_time": "2022-06-30T13:50:46.716Z"
   },
   {
    "duration": 26,
    "start_time": "2022-06-30T13:50:46.762Z"
   },
   {
    "duration": 65,
    "start_time": "2022-06-30T13:50:46.790Z"
   },
   {
    "duration": 19,
    "start_time": "2022-06-30T13:50:46.857Z"
   },
   {
    "duration": 10,
    "start_time": "2022-06-30T13:50:46.878Z"
   },
   {
    "duration": 42,
    "start_time": "2022-06-30T13:50:46.889Z"
   },
   {
    "duration": 86,
    "start_time": "2022-06-30T13:50:46.933Z"
   },
   {
    "duration": 4,
    "start_time": "2022-06-30T13:50:47.021Z"
   },
   {
    "duration": 24,
    "start_time": "2022-06-30T13:50:47.029Z"
   },
   {
    "duration": 15,
    "start_time": "2022-06-30T13:50:47.055Z"
   },
   {
    "duration": 111,
    "start_time": "2022-06-30T13:50:47.071Z"
   },
   {
    "duration": 8,
    "start_time": "2022-06-30T13:50:47.184Z"
   },
   {
    "duration": 70,
    "start_time": "2022-06-30T13:50:47.194Z"
   },
   {
    "duration": 44,
    "start_time": "2022-06-30T13:50:47.267Z"
   },
   {
    "duration": 65,
    "start_time": "2022-06-30T13:50:47.313Z"
   },
   {
    "duration": 11,
    "start_time": "2022-06-30T13:50:47.380Z"
   },
   {
    "duration": 84,
    "start_time": "2022-06-30T13:50:47.394Z"
   },
   {
    "duration": 55,
    "start_time": "2022-06-30T13:50:47.480Z"
   },
   {
    "duration": 12,
    "start_time": "2022-06-30T13:50:47.537Z"
   },
   {
    "duration": 28,
    "start_time": "2022-06-30T13:50:47.550Z"
   },
   {
    "duration": 17,
    "start_time": "2022-06-30T13:50:47.580Z"
   },
   {
    "duration": 17,
    "start_time": "2022-06-30T13:50:55.141Z"
   },
   {
    "duration": 20,
    "start_time": "2022-06-30T13:51:09.076Z"
   },
   {
    "duration": 11,
    "start_time": "2022-06-30T13:51:11.877Z"
   },
   {
    "duration": 42,
    "start_time": "2022-06-30T13:51:48.477Z"
   },
   {
    "duration": 9,
    "start_time": "2022-06-30T13:53:56.860Z"
   },
   {
    "duration": 21,
    "start_time": "2022-06-30T13:57:20.893Z"
   },
   {
    "duration": 39,
    "start_time": "2022-06-30T13:58:08.124Z"
   },
   {
    "duration": 38,
    "start_time": "2022-06-30T13:58:11.701Z"
   },
   {
    "duration": 39,
    "start_time": "2022-06-30T13:58:19.260Z"
   },
   {
    "duration": 4,
    "start_time": "2022-06-30T13:58:37.781Z"
   },
   {
    "duration": 426,
    "start_time": "2022-06-30T13:58:37.786Z"
   },
   {
    "duration": 37,
    "start_time": "2022-06-30T13:58:38.214Z"
   },
   {
    "duration": 25,
    "start_time": "2022-06-30T13:58:38.253Z"
   },
   {
    "duration": 51,
    "start_time": "2022-06-30T13:58:38.281Z"
   },
   {
    "duration": 20,
    "start_time": "2022-06-30T13:58:38.333Z"
   },
   {
    "duration": 14,
    "start_time": "2022-06-30T13:58:38.355Z"
   },
   {
    "duration": 18,
    "start_time": "2022-06-30T13:58:38.371Z"
   },
   {
    "duration": 99,
    "start_time": "2022-06-30T13:58:38.391Z"
   },
   {
    "duration": 4,
    "start_time": "2022-06-30T13:58:38.492Z"
   },
   {
    "duration": 14,
    "start_time": "2022-06-30T13:58:38.500Z"
   },
   {
    "duration": 16,
    "start_time": "2022-06-30T13:58:38.525Z"
   },
   {
    "duration": 110,
    "start_time": "2022-06-30T13:58:38.543Z"
   },
   {
    "duration": 7,
    "start_time": "2022-06-30T13:58:38.655Z"
   },
   {
    "duration": 67,
    "start_time": "2022-06-30T13:58:38.663Z"
   },
   {
    "duration": 51,
    "start_time": "2022-06-30T13:58:38.731Z"
   },
   {
    "duration": 68,
    "start_time": "2022-06-30T13:58:38.785Z"
   },
   {
    "duration": 11,
    "start_time": "2022-06-30T13:58:38.855Z"
   },
   {
    "duration": 41,
    "start_time": "2022-06-30T13:58:48.350Z"
   },
   {
    "duration": 27,
    "start_time": "2022-06-30T14:04:04.435Z"
   },
   {
    "duration": 10,
    "start_time": "2022-06-30T14:05:43.050Z"
   },
   {
    "duration": 12,
    "start_time": "2022-06-30T14:05:48.458Z"
   },
   {
    "duration": 4,
    "start_time": "2022-06-30T14:05:58.458Z"
   },
   {
    "duration": 11,
    "start_time": "2022-06-30T14:06:00.525Z"
   },
   {
    "duration": 8,
    "start_time": "2022-06-30T14:06:21.650Z"
   },
   {
    "duration": 12,
    "start_time": "2022-06-30T14:10:36.714Z"
   },
   {
    "duration": 31,
    "start_time": "2022-06-30T14:10:42.305Z"
   },
   {
    "duration": 12,
    "start_time": "2022-06-30T14:13:20.616Z"
   },
   {
    "duration": 23,
    "start_time": "2022-06-30T14:14:06.305Z"
   },
   {
    "duration": 9,
    "start_time": "2022-06-30T14:16:54.344Z"
   },
   {
    "duration": 4,
    "start_time": "2022-06-30T14:16:58.360Z"
   },
   {
    "duration": 20,
    "start_time": "2022-06-30T14:17:05.685Z"
   },
   {
    "duration": 20,
    "start_time": "2022-06-30T14:29:12.295Z"
   },
   {
    "duration": 16,
    "start_time": "2022-06-30T14:29:31.423Z"
   },
   {
    "duration": 25,
    "start_time": "2022-06-30T14:29:40.439Z"
   },
   {
    "duration": 18,
    "start_time": "2022-06-30T14:29:58.422Z"
   },
   {
    "duration": 19,
    "start_time": "2022-06-30T14:32:21.990Z"
   },
   {
    "duration": 3,
    "start_time": "2022-06-30T14:32:25.869Z"
   },
   {
    "duration": 485,
    "start_time": "2022-06-30T14:32:25.874Z"
   },
   {
    "duration": 38,
    "start_time": "2022-06-30T14:32:26.361Z"
   },
   {
    "duration": 48,
    "start_time": "2022-06-30T14:32:26.401Z"
   },
   {
    "duration": 21,
    "start_time": "2022-06-30T14:32:26.451Z"
   },
   {
    "duration": 21,
    "start_time": "2022-06-30T14:32:26.474Z"
   },
   {
    "duration": 10,
    "start_time": "2022-06-30T14:32:26.496Z"
   },
   {
    "duration": 23,
    "start_time": "2022-06-30T14:32:26.533Z"
   },
   {
    "duration": 98,
    "start_time": "2022-06-30T14:32:26.557Z"
   },
   {
    "duration": 4,
    "start_time": "2022-06-30T14:32:26.657Z"
   },
   {
    "duration": 16,
    "start_time": "2022-06-30T14:32:26.665Z"
   },
   {
    "duration": 23,
    "start_time": "2022-06-30T14:32:26.683Z"
   },
   {
    "duration": 106,
    "start_time": "2022-06-30T14:32:26.708Z"
   },
   {
    "duration": 21,
    "start_time": "2022-06-30T14:32:26.816Z"
   },
   {
    "duration": 40,
    "start_time": "2022-06-30T14:32:26.839Z"
   },
   {
    "duration": 52,
    "start_time": "2022-06-30T14:32:26.881Z"
   },
   {
    "duration": 53,
    "start_time": "2022-06-30T14:32:26.936Z"
   },
   {
    "duration": 11,
    "start_time": "2022-06-30T14:32:26.990Z"
   },
   {
    "duration": 54,
    "start_time": "2022-06-30T14:32:27.003Z"
   },
   {
    "duration": 18,
    "start_time": "2022-06-30T14:32:27.061Z"
   },
   {
    "duration": 7,
    "start_time": "2022-06-30T14:32:27.081Z"
   },
   {
    "duration": 47,
    "start_time": "2022-06-30T14:32:27.090Z"
   },
   {
    "duration": 15,
    "start_time": "2022-06-30T14:32:27.140Z"
   },
   {
    "duration": 18,
    "start_time": "2022-06-30T14:32:27.157Z"
   },
   {
    "duration": 19,
    "start_time": "2022-06-30T14:32:27.177Z"
   },
   {
    "duration": 50,
    "start_time": "2022-06-30T14:32:27.198Z"
   },
   {
    "duration": 7,
    "start_time": "2022-06-30T14:32:27.250Z"
   },
   {
    "duration": 13,
    "start_time": "2022-06-30T14:32:27.259Z"
   },
   {
    "duration": 8,
    "start_time": "2022-06-30T14:32:27.277Z"
   },
   {
    "duration": 16,
    "start_time": "2022-06-30T14:32:27.287Z"
   },
   {
    "duration": 45,
    "start_time": "2022-06-30T14:32:27.305Z"
   },
   {
    "duration": 13,
    "start_time": "2022-06-30T14:32:27.352Z"
   },
   {
    "duration": 1382,
    "start_time": "2022-06-30T14:32:27.367Z"
   },
   {
    "duration": 0,
    "start_time": "2022-06-30T14:32:28.751Z"
   },
   {
    "duration": 0,
    "start_time": "2022-06-30T14:32:28.752Z"
   },
   {
    "duration": 0,
    "start_time": "2022-06-30T14:32:28.753Z"
   },
   {
    "duration": 0,
    "start_time": "2022-06-30T14:32:28.754Z"
   },
   {
    "duration": 0,
    "start_time": "2022-06-30T14:32:28.755Z"
   },
   {
    "duration": 1,
    "start_time": "2022-06-30T14:32:28.756Z"
   },
   {
    "duration": 0,
    "start_time": "2022-06-30T14:32:28.757Z"
   },
   {
    "duration": 0,
    "start_time": "2022-06-30T14:32:28.759Z"
   },
   {
    "duration": 0,
    "start_time": "2022-06-30T14:32:28.760Z"
   },
   {
    "duration": 0,
    "start_time": "2022-06-30T14:32:28.761Z"
   },
   {
    "duration": 0,
    "start_time": "2022-06-30T14:32:28.762Z"
   },
   {
    "duration": 0,
    "start_time": "2022-06-30T14:32:28.763Z"
   },
   {
    "duration": 0,
    "start_time": "2022-06-30T14:32:28.764Z"
   },
   {
    "duration": 0,
    "start_time": "2022-06-30T14:32:28.765Z"
   },
   {
    "duration": 0,
    "start_time": "2022-06-30T14:32:28.766Z"
   },
   {
    "duration": 0,
    "start_time": "2022-06-30T14:32:28.767Z"
   },
   {
    "duration": 0,
    "start_time": "2022-06-30T14:32:28.768Z"
   },
   {
    "duration": 0,
    "start_time": "2022-06-30T14:32:28.769Z"
   },
   {
    "duration": 0,
    "start_time": "2022-06-30T14:32:28.770Z"
   },
   {
    "duration": 0,
    "start_time": "2022-06-30T14:32:28.771Z"
   },
   {
    "duration": 0,
    "start_time": "2022-06-30T14:32:28.772Z"
   },
   {
    "duration": 0,
    "start_time": "2022-06-30T14:32:28.773Z"
   },
   {
    "duration": 0,
    "start_time": "2022-06-30T14:32:28.774Z"
   },
   {
    "duration": 0,
    "start_time": "2022-06-30T14:32:28.775Z"
   },
   {
    "duration": 0,
    "start_time": "2022-06-30T14:32:28.776Z"
   },
   {
    "duration": 0,
    "start_time": "2022-06-30T14:32:28.777Z"
   },
   {
    "duration": 3,
    "start_time": "2022-06-30T14:32:53.175Z"
   },
   {
    "duration": 456,
    "start_time": "2022-06-30T14:32:53.180Z"
   },
   {
    "duration": 37,
    "start_time": "2022-06-30T14:32:53.639Z"
   },
   {
    "duration": 24,
    "start_time": "2022-06-30T14:32:53.677Z"
   },
   {
    "duration": 48,
    "start_time": "2022-06-30T14:32:53.704Z"
   },
   {
    "duration": 19,
    "start_time": "2022-06-30T14:32:53.753Z"
   },
   {
    "duration": 11,
    "start_time": "2022-06-30T14:32:53.773Z"
   },
   {
    "duration": 11,
    "start_time": "2022-06-30T14:32:53.785Z"
   },
   {
    "duration": 109,
    "start_time": "2022-06-30T14:32:53.798Z"
   },
   {
    "duration": 5,
    "start_time": "2022-06-30T14:32:53.908Z"
   },
   {
    "duration": 25,
    "start_time": "2022-06-30T14:32:53.915Z"
   },
   {
    "duration": 13,
    "start_time": "2022-06-30T14:32:53.942Z"
   },
   {
    "duration": 117,
    "start_time": "2022-06-30T14:32:53.957Z"
   },
   {
    "duration": 7,
    "start_time": "2022-06-30T14:32:54.075Z"
   },
   {
    "duration": 63,
    "start_time": "2022-06-30T14:32:54.084Z"
   },
   {
    "duration": 44,
    "start_time": "2022-06-30T14:32:54.149Z"
   },
   {
    "duration": 66,
    "start_time": "2022-06-30T14:32:54.194Z"
   },
   {
    "duration": 11,
    "start_time": "2022-06-30T14:32:54.263Z"
   },
   {
    "duration": 71,
    "start_time": "2022-06-30T14:32:54.275Z"
   },
   {
    "duration": 22,
    "start_time": "2022-06-30T14:32:54.348Z"
   },
   {
    "duration": 7,
    "start_time": "2022-06-30T14:32:54.371Z"
   },
   {
    "duration": 61,
    "start_time": "2022-06-30T14:32:54.380Z"
   },
   {
    "duration": 24,
    "start_time": "2022-06-30T14:32:54.442Z"
   },
   {
    "duration": 24,
    "start_time": "2022-06-30T14:32:54.468Z"
   },
   {
    "duration": 24,
    "start_time": "2022-06-30T14:33:03.117Z"
   },
   {
    "duration": 8,
    "start_time": "2022-06-30T14:33:27.566Z"
   },
   {
    "duration": 21,
    "start_time": "2022-06-30T14:33:43.641Z"
   },
   {
    "duration": 10,
    "start_time": "2022-06-30T14:34:13.270Z"
   },
   {
    "duration": 10,
    "start_time": "2022-06-30T14:34:38.501Z"
   },
   {
    "duration": 9,
    "start_time": "2022-06-30T14:35:00.067Z"
   },
   {
    "duration": 29,
    "start_time": "2022-06-30T14:35:04.042Z"
   },
   {
    "duration": 10,
    "start_time": "2022-06-30T14:35:37.262Z"
   },
   {
    "duration": 5,
    "start_time": "2022-06-30T14:35:42.302Z"
   },
   {
    "duration": 6,
    "start_time": "2022-06-30T14:35:47.197Z"
   },
   {
    "duration": 5,
    "start_time": "2022-06-30T14:36:13.549Z"
   },
   {
    "duration": 9,
    "start_time": "2022-06-30T14:36:17.920Z"
   },
   {
    "duration": 7,
    "start_time": "2022-06-30T14:36:28.805Z"
   },
   {
    "duration": 5,
    "start_time": "2022-06-30T14:36:40.815Z"
   },
   {
    "duration": 12,
    "start_time": "2022-06-30T14:36:49.322Z"
   },
   {
    "duration": 10,
    "start_time": "2022-06-30T14:36:53.549Z"
   },
   {
    "duration": 5,
    "start_time": "2022-06-30T14:36:57.245Z"
   },
   {
    "duration": 5,
    "start_time": "2022-06-30T14:37:10.621Z"
   },
   {
    "duration": 5,
    "start_time": "2022-06-30T14:40:54.645Z"
   },
   {
    "duration": 7,
    "start_time": "2022-06-30T14:52:41.003Z"
   },
   {
    "duration": 5,
    "start_time": "2022-06-30T14:54:03.065Z"
   },
   {
    "duration": 114,
    "start_time": "2022-06-30T14:54:09.858Z"
   },
   {
    "duration": 121,
    "start_time": "2022-06-30T14:54:21.826Z"
   },
   {
    "duration": 106,
    "start_time": "2022-06-30T14:54:33.363Z"
   },
   {
    "duration": 30,
    "start_time": "2022-06-30T14:55:08.677Z"
   },
   {
    "duration": 8,
    "start_time": "2022-06-30T14:55:47.162Z"
   },
   {
    "duration": 27,
    "start_time": "2022-06-30T14:55:55.392Z"
   },
   {
    "duration": 25,
    "start_time": "2022-06-30T14:56:03.866Z"
   },
   {
    "duration": 34,
    "start_time": "2022-06-30T14:59:09.928Z"
   },
   {
    "duration": 3,
    "start_time": "2022-06-30T14:59:26.953Z"
   },
   {
    "duration": 18,
    "start_time": "2022-06-30T14:59:40.304Z"
   },
   {
    "duration": 308,
    "start_time": "2022-06-30T14:59:53.184Z"
   },
   {
    "duration": 567,
    "start_time": "2022-06-30T15:01:43.139Z"
   },
   {
    "duration": 281,
    "start_time": "2022-06-30T15:03:04.921Z"
   },
   {
    "duration": 538,
    "start_time": "2022-06-30T15:03:21.279Z"
   },
   {
    "duration": 141,
    "start_time": "2022-06-30T15:04:31.688Z"
   },
   {
    "duration": 753,
    "start_time": "2022-06-30T15:04:50.327Z"
   },
   {
    "duration": 767,
    "start_time": "2022-06-30T15:10:21.182Z"
   },
   {
    "duration": 545,
    "start_time": "2022-06-30T15:10:52.126Z"
   },
   {
    "duration": 867,
    "start_time": "2022-06-30T15:11:16.526Z"
   },
   {
    "duration": 8,
    "start_time": "2022-06-30T15:11:25.103Z"
   },
   {
    "duration": 5,
    "start_time": "2022-06-30T15:11:35.334Z"
   },
   {
    "duration": 5,
    "start_time": "2022-06-30T15:12:21.190Z"
   },
   {
    "duration": 6,
    "start_time": "2022-06-30T15:12:26.110Z"
   },
   {
    "duration": 7,
    "start_time": "2022-06-30T15:13:52.055Z"
   },
   {
    "duration": 875,
    "start_time": "2022-06-30T15:15:18.943Z"
   },
   {
    "duration": 14,
    "start_time": "2022-06-30T15:15:35.894Z"
   },
   {
    "duration": 18,
    "start_time": "2022-06-30T15:15:47.390Z"
   },
   {
    "duration": 325,
    "start_time": "2022-06-30T15:16:22.638Z"
   },
   {
    "duration": 750,
    "start_time": "2022-06-30T15:18:10.350Z"
   },
   {
    "duration": 731,
    "start_time": "2022-06-30T15:18:27.926Z"
   },
   {
    "duration": 17,
    "start_time": "2022-06-30T15:18:32.629Z"
   },
   {
    "duration": 566,
    "start_time": "2022-06-30T15:18:39.686Z"
   },
   {
    "duration": 684,
    "start_time": "2022-06-30T15:18:53.183Z"
   },
   {
    "duration": 810,
    "start_time": "2022-06-30T15:19:03.984Z"
   },
   {
    "duration": 504,
    "start_time": "2022-06-30T15:19:21.877Z"
   },
   {
    "duration": 494,
    "start_time": "2022-06-30T15:19:46.598Z"
   },
   {
    "duration": 522,
    "start_time": "2022-06-30T15:20:03.102Z"
   },
   {
    "duration": 571,
    "start_time": "2022-06-30T15:21:05.161Z"
   },
   {
    "duration": 693,
    "start_time": "2022-06-30T15:21:13.629Z"
   },
   {
    "duration": 510,
    "start_time": "2022-06-30T15:21:20.152Z"
   },
   {
    "duration": 4,
    "start_time": "2022-06-30T19:20:12.878Z"
   },
   {
    "duration": 538,
    "start_time": "2022-06-30T19:20:12.884Z"
   },
   {
    "duration": 56,
    "start_time": "2022-06-30T19:20:13.425Z"
   },
   {
    "duration": 71,
    "start_time": "2022-06-30T19:20:13.482Z"
   },
   {
    "duration": 25,
    "start_time": "2022-06-30T19:20:13.556Z"
   },
   {
    "duration": 52,
    "start_time": "2022-06-30T19:20:13.583Z"
   },
   {
    "duration": 12,
    "start_time": "2022-06-30T19:20:13.637Z"
   },
   {
    "duration": 12,
    "start_time": "2022-06-30T19:20:13.651Z"
   },
   {
    "duration": 109,
    "start_time": "2022-06-30T19:20:13.665Z"
   },
   {
    "duration": 5,
    "start_time": "2022-06-30T19:20:13.776Z"
   },
   {
    "duration": 9,
    "start_time": "2022-06-30T19:20:13.784Z"
   },
   {
    "duration": 32,
    "start_time": "2022-06-30T19:20:13.795Z"
   },
   {
    "duration": 118,
    "start_time": "2022-06-30T19:20:13.829Z"
   },
   {
    "duration": 8,
    "start_time": "2022-06-30T19:20:13.949Z"
   },
   {
    "duration": 68,
    "start_time": "2022-06-30T19:20:13.959Z"
   },
   {
    "duration": 47,
    "start_time": "2022-06-30T19:20:14.030Z"
   },
   {
    "duration": 77,
    "start_time": "2022-06-30T19:20:14.080Z"
   },
   {
    "duration": 11,
    "start_time": "2022-06-30T19:20:14.159Z"
   },
   {
    "duration": 58,
    "start_time": "2022-06-30T19:20:14.172Z"
   },
   {
    "duration": 22,
    "start_time": "2022-06-30T19:20:14.232Z"
   },
   {
    "duration": 8,
    "start_time": "2022-06-30T19:20:14.256Z"
   },
   {
    "duration": 31,
    "start_time": "2022-06-30T19:20:14.266Z"
   },
   {
    "duration": 43,
    "start_time": "2022-06-30T19:20:14.300Z"
   },
   {
    "duration": 19,
    "start_time": "2022-06-30T19:20:14.345Z"
   },
   {
    "duration": 23,
    "start_time": "2022-06-30T19:20:14.366Z"
   },
   {
    "duration": 65,
    "start_time": "2022-06-30T19:20:14.391Z"
   },
   {
    "duration": 11,
    "start_time": "2022-06-30T19:20:14.459Z"
   },
   {
    "duration": 21,
    "start_time": "2022-06-30T19:20:14.472Z"
   },
   {
    "duration": 16,
    "start_time": "2022-06-30T19:20:14.525Z"
   },
   {
    "duration": 33,
    "start_time": "2022-06-30T19:20:14.543Z"
   },
   {
    "duration": 14,
    "start_time": "2022-06-30T19:20:14.578Z"
   },
   {
    "duration": 154,
    "start_time": "2022-06-30T19:20:14.594Z"
   },
   {
    "duration": 36,
    "start_time": "2022-06-30T19:20:14.750Z"
   },
   {
    "duration": 4,
    "start_time": "2022-06-30T19:20:14.787Z"
   },
   {
    "duration": 773,
    "start_time": "2022-06-30T19:20:14.793Z"
   },
   {
    "duration": 706,
    "start_time": "2022-06-30T19:20:15.567Z"
   },
   {
    "duration": 756,
    "start_time": "2022-06-30T19:20:16.275Z"
   },
   {
    "duration": 517,
    "start_time": "2022-06-30T19:21:49.032Z"
   },
   {
    "duration": 310,
    "start_time": "2022-06-30T19:22:14.247Z"
   },
   {
    "duration": 565,
    "start_time": "2022-06-30T19:23:11.002Z"
   },
   {
    "duration": 14,
    "start_time": "2022-06-30T19:23:44.115Z"
   },
   {
    "duration": 234,
    "start_time": "2022-06-30T19:24:10.729Z"
   },
   {
    "duration": 653,
    "start_time": "2022-06-30T19:24:30.975Z"
   },
   {
    "duration": 538,
    "start_time": "2022-06-30T19:25:45.894Z"
   },
   {
    "duration": 528,
    "start_time": "2022-06-30T19:26:46.297Z"
   },
   {
    "duration": 213,
    "start_time": "2022-06-30T19:27:17.237Z"
   },
   {
    "duration": 259,
    "start_time": "2022-06-30T19:27:24.579Z"
   },
   {
    "duration": 211,
    "start_time": "2022-06-30T19:27:27.438Z"
   },
   {
    "duration": 275,
    "start_time": "2022-06-30T19:30:02.223Z"
   },
   {
    "duration": 217,
    "start_time": "2022-06-30T19:30:05.779Z"
   },
   {
    "duration": 208,
    "start_time": "2022-06-30T19:30:17.556Z"
   },
   {
    "duration": 13,
    "start_time": "2022-06-30T19:39:36.191Z"
   },
   {
    "duration": 160,
    "start_time": "2022-06-30T19:41:27.121Z"
   },
   {
    "duration": 240,
    "start_time": "2022-06-30T19:41:28.280Z"
   },
   {
    "duration": 274,
    "start_time": "2022-06-30T19:41:56.396Z"
   },
   {
    "duration": 47,
    "start_time": "2022-06-30T19:43:38.969Z"
   },
   {
    "duration": 11,
    "start_time": "2022-06-30T19:43:50.149Z"
   },
   {
    "duration": 48,
    "start_time": "2022-06-30T19:43:56.551Z"
   },
   {
    "duration": 281,
    "start_time": "2022-06-30T19:44:19.606Z"
   },
   {
    "duration": 270,
    "start_time": "2022-06-30T19:45:19.477Z"
   },
   {
    "duration": 606,
    "start_time": "2022-06-30T19:45:43.767Z"
   },
   {
    "duration": 5,
    "start_time": "2022-06-30T19:45:59.893Z"
   },
   {
    "duration": 364,
    "start_time": "2022-06-30T19:46:04.257Z"
   },
   {
    "duration": 449,
    "start_time": "2022-06-30T19:46:35.082Z"
   },
   {
    "duration": 317,
    "start_time": "2022-06-30T19:46:58.435Z"
   },
   {
    "duration": 453,
    "start_time": "2022-06-30T19:47:12.442Z"
   },
   {
    "duration": 271,
    "start_time": "2022-06-30T19:48:05.968Z"
   },
   {
    "duration": 492,
    "start_time": "2022-06-30T19:48:18.318Z"
   },
   {
    "duration": 442,
    "start_time": "2022-06-30T19:48:26.169Z"
   },
   {
    "duration": 415,
    "start_time": "2022-06-30T19:48:56.464Z"
   },
   {
    "duration": 773,
    "start_time": "2022-06-30T19:49:07.078Z"
   },
   {
    "duration": 7,
    "start_time": "2022-06-30T19:50:50.670Z"
   },
   {
    "duration": 507,
    "start_time": "2022-06-30T19:51:22.692Z"
   },
   {
    "duration": 454,
    "start_time": "2022-06-30T19:51:38.646Z"
   },
   {
    "duration": 390,
    "start_time": "2022-06-30T19:51:48.660Z"
   },
   {
    "duration": 421,
    "start_time": "2022-06-30T19:52:40.700Z"
   },
   {
    "duration": 392,
    "start_time": "2022-06-30T19:53:08.773Z"
   },
   {
    "duration": 386,
    "start_time": "2022-06-30T19:53:53.263Z"
   },
   {
    "duration": 251,
    "start_time": "2022-06-30T19:54:12.172Z"
   },
   {
    "duration": 242,
    "start_time": "2022-06-30T19:54:37.605Z"
   },
   {
    "duration": 233,
    "start_time": "2022-06-30T19:55:24.875Z"
   },
   {
    "duration": 243,
    "start_time": "2022-06-30T19:55:40.148Z"
   },
   {
    "duration": 743,
    "start_time": "2022-06-30T19:55:58.796Z"
   },
   {
    "duration": 376,
    "start_time": "2022-06-30T19:58:46.475Z"
   },
   {
    "duration": 412,
    "start_time": "2022-06-30T20:00:58.100Z"
   },
   {
    "duration": 508,
    "start_time": "2022-06-30T20:01:37.316Z"
   },
   {
    "duration": 423,
    "start_time": "2022-06-30T20:01:47.850Z"
   },
   {
    "duration": 376,
    "start_time": "2022-06-30T20:02:30.145Z"
   },
   {
    "duration": 378,
    "start_time": "2022-06-30T20:02:35.125Z"
   },
   {
    "duration": 3,
    "start_time": "2022-06-30T20:03:04.160Z"
   },
   {
    "duration": 366,
    "start_time": "2022-06-30T20:05:31.842Z"
   },
   {
    "duration": 814,
    "start_time": "2022-06-30T20:08:04.510Z"
   },
   {
    "duration": 398,
    "start_time": "2022-06-30T20:08:25.274Z"
   },
   {
    "duration": 360,
    "start_time": "2022-06-30T20:08:32.809Z"
   },
   {
    "duration": 358,
    "start_time": "2022-06-30T20:11:46.226Z"
   },
   {
    "duration": 12,
    "start_time": "2022-06-30T20:12:27.355Z"
   },
   {
    "duration": 16,
    "start_time": "2022-06-30T20:13:17.843Z"
   },
   {
    "duration": 3,
    "start_time": "2022-06-30T20:13:24.095Z"
   },
   {
    "duration": 414,
    "start_time": "2022-06-30T20:13:30.855Z"
   },
   {
    "duration": 713,
    "start_time": "2022-06-30T20:13:47.185Z"
   },
   {
    "duration": 363,
    "start_time": "2022-06-30T20:14:16.209Z"
   },
   {
    "duration": 914,
    "start_time": "2022-06-30T20:16:33.053Z"
   },
   {
    "duration": 383,
    "start_time": "2022-06-30T20:17:41.913Z"
   },
   {
    "duration": 8,
    "start_time": "2022-06-30T20:19:03.105Z"
   },
   {
    "duration": 7,
    "start_time": "2022-06-30T20:19:09.868Z"
   },
   {
    "duration": 26,
    "start_time": "2022-06-30T20:20:46.829Z"
   },
   {
    "duration": 7,
    "start_time": "2022-06-30T20:20:50.789Z"
   },
   {
    "duration": 9,
    "start_time": "2022-06-30T20:20:53.325Z"
   },
   {
    "duration": 1136,
    "start_time": "2022-06-30T20:21:55.439Z"
   },
   {
    "duration": 415,
    "start_time": "2022-06-30T20:21:56.578Z"
   },
   {
    "duration": 39,
    "start_time": "2022-06-30T20:21:56.995Z"
   },
   {
    "duration": 25,
    "start_time": "2022-06-30T20:21:57.036Z"
   },
   {
    "duration": 20,
    "start_time": "2022-06-30T20:21:57.062Z"
   },
   {
    "duration": 50,
    "start_time": "2022-06-30T20:21:57.083Z"
   },
   {
    "duration": 10,
    "start_time": "2022-06-30T20:21:57.135Z"
   },
   {
    "duration": 12,
    "start_time": "2022-06-30T20:21:57.147Z"
   },
   {
    "duration": 103,
    "start_time": "2022-06-30T20:21:57.160Z"
   },
   {
    "duration": 4,
    "start_time": "2022-06-30T20:21:57.265Z"
   },
   {
    "duration": 11,
    "start_time": "2022-06-30T20:21:57.271Z"
   },
   {
    "duration": 11,
    "start_time": "2022-06-30T20:21:57.283Z"
   },
   {
    "duration": 127,
    "start_time": "2022-06-30T20:21:57.295Z"
   },
   {
    "duration": 7,
    "start_time": "2022-06-30T20:21:57.426Z"
   },
   {
    "duration": 43,
    "start_time": "2022-06-30T20:21:57.434Z"
   },
   {
    "duration": 55,
    "start_time": "2022-06-30T20:21:57.478Z"
   },
   {
    "duration": 46,
    "start_time": "2022-06-30T20:21:57.535Z"
   },
   {
    "duration": 10,
    "start_time": "2022-06-30T20:21:57.583Z"
   },
   {
    "duration": 66,
    "start_time": "2022-06-30T20:21:57.595Z"
   },
   {
    "duration": 20,
    "start_time": "2022-06-30T20:21:57.664Z"
   },
   {
    "duration": 7,
    "start_time": "2022-06-30T20:21:57.686Z"
   },
   {
    "duration": 50,
    "start_time": "2022-06-30T20:21:57.694Z"
   },
   {
    "duration": 15,
    "start_time": "2022-06-30T20:21:57.746Z"
   },
   {
    "duration": 19,
    "start_time": "2022-06-30T20:21:57.762Z"
   },
   {
    "duration": 15,
    "start_time": "2022-06-30T20:21:57.782Z"
   },
   {
    "duration": 44,
    "start_time": "2022-06-30T20:21:57.798Z"
   },
   {
    "duration": 10,
    "start_time": "2022-06-30T20:21:57.844Z"
   },
   {
    "duration": 7,
    "start_time": "2022-06-30T20:21:57.858Z"
   },
   {
    "duration": 10,
    "start_time": "2022-06-30T20:21:57.866Z"
   },
   {
    "duration": 14,
    "start_time": "2022-06-30T20:21:57.877Z"
   },
   {
    "duration": 4,
    "start_time": "2022-06-30T20:21:57.927Z"
   },
   {
    "duration": 120,
    "start_time": "2022-06-30T20:21:57.932Z"
   },
   {
    "duration": 35,
    "start_time": "2022-06-30T20:21:58.054Z"
   },
   {
    "duration": 5,
    "start_time": "2022-06-30T20:21:58.091Z"
   },
   {
    "duration": 763,
    "start_time": "2022-06-30T20:21:58.098Z"
   },
   {
    "duration": 698,
    "start_time": "2022-06-30T20:21:58.863Z"
   },
   {
    "duration": 745,
    "start_time": "2022-06-30T20:21:59.562Z"
   },
   {
    "duration": 386,
    "start_time": "2022-06-30T20:22:00.309Z"
   },
   {
    "duration": 833,
    "start_time": "2022-06-30T20:22:00.697Z"
   },
   {
    "duration": 278,
    "start_time": "2022-06-30T20:22:01.532Z"
   },
   {
    "duration": 236,
    "start_time": "2022-06-30T20:22:01.812Z"
   },
   {
    "duration": 226,
    "start_time": "2022-06-30T20:22:02.049Z"
   },
   {
    "duration": 396,
    "start_time": "2022-06-30T20:22:02.276Z"
   },
   {
    "duration": 478,
    "start_time": "2022-06-30T20:22:02.673Z"
   },
   {
    "duration": 212,
    "start_time": "2022-06-30T20:22:03.152Z"
   },
   {
    "duration": 235,
    "start_time": "2022-06-30T20:22:03.366Z"
   },
   {
    "duration": 312,
    "start_time": "2022-06-30T20:22:03.602Z"
   },
   {
    "duration": 360,
    "start_time": "2022-06-30T20:22:03.916Z"
   },
   {
    "duration": 582,
    "start_time": "2022-06-30T20:22:04.277Z"
   },
   {
    "duration": 220,
    "start_time": "2022-06-30T20:22:04.861Z"
   },
   {
    "duration": 219,
    "start_time": "2022-06-30T20:22:05.082Z"
   },
   {
    "duration": 225,
    "start_time": "2022-06-30T20:22:05.303Z"
   },
   {
    "duration": 364,
    "start_time": "2022-06-30T20:22:05.530Z"
   },
   {
    "duration": 639,
    "start_time": "2022-06-30T20:22:05.896Z"
   },
   {
    "duration": 11,
    "start_time": "2022-06-30T20:22:06.537Z"
   },
   {
    "duration": 10,
    "start_time": "2022-06-30T20:22:06.549Z"
   },
   {
    "duration": 8,
    "start_time": "2022-06-30T20:22:06.561Z"
   },
   {
    "duration": 56,
    "start_time": "2022-06-30T20:22:06.571Z"
   },
   {
    "duration": 6,
    "start_time": "2022-06-30T20:22:06.629Z"
   },
   {
    "duration": 8,
    "start_time": "2022-06-30T20:22:06.637Z"
   },
   {
    "duration": 1471,
    "start_time": "2022-07-01T16:11:46.209Z"
   },
   {
    "duration": 765,
    "start_time": "2022-07-01T16:11:47.682Z"
   },
   {
    "duration": 45,
    "start_time": "2022-07-01T16:11:48.449Z"
   },
   {
    "duration": 29,
    "start_time": "2022-07-01T16:11:48.496Z"
   },
   {
    "duration": 33,
    "start_time": "2022-07-01T16:11:48.526Z"
   },
   {
    "duration": 16,
    "start_time": "2022-07-01T16:11:48.563Z"
   },
   {
    "duration": 9,
    "start_time": "2022-07-01T16:11:48.581Z"
   },
   {
    "duration": 12,
    "start_time": "2022-07-01T16:11:48.592Z"
   },
   {
    "duration": 81,
    "start_time": "2022-07-01T16:11:48.606Z"
   },
   {
    "duration": 3,
    "start_time": "2022-07-01T16:11:48.690Z"
   },
   {
    "duration": 10,
    "start_time": "2022-07-01T16:11:48.695Z"
   },
   {
    "duration": 11,
    "start_time": "2022-07-01T16:11:48.706Z"
   },
   {
    "duration": 103,
    "start_time": "2022-07-01T16:11:48.719Z"
   },
   {
    "duration": 6,
    "start_time": "2022-07-01T16:11:48.824Z"
   },
   {
    "duration": 57,
    "start_time": "2022-07-01T16:11:48.832Z"
   },
   {
    "duration": 40,
    "start_time": "2022-07-01T16:11:48.891Z"
   },
   {
    "duration": 63,
    "start_time": "2022-07-01T16:11:48.933Z"
   },
   {
    "duration": 10,
    "start_time": "2022-07-01T16:11:48.997Z"
   },
   {
    "duration": 81,
    "start_time": "2022-07-01T16:11:49.009Z"
   },
   {
    "duration": 82,
    "start_time": "2022-07-01T16:11:49.093Z"
   },
   {
    "duration": 7,
    "start_time": "2022-07-01T16:11:49.177Z"
   },
   {
    "duration": 25,
    "start_time": "2022-07-01T16:11:49.186Z"
   },
   {
    "duration": 15,
    "start_time": "2022-07-01T16:11:49.213Z"
   },
   {
    "duration": 21,
    "start_time": "2022-07-01T16:11:49.258Z"
   },
   {
    "duration": 16,
    "start_time": "2022-07-01T16:11:49.280Z"
   },
   {
    "duration": 16,
    "start_time": "2022-07-01T16:11:49.298Z"
   },
   {
    "duration": 8,
    "start_time": "2022-07-01T16:11:49.316Z"
   },
   {
    "duration": 11,
    "start_time": "2022-07-01T16:11:49.330Z"
   },
   {
    "duration": 13,
    "start_time": "2022-07-01T16:11:49.342Z"
   },
   {
    "duration": 21,
    "start_time": "2022-07-01T16:11:49.358Z"
   },
   {
    "duration": 5,
    "start_time": "2022-07-01T16:11:49.381Z"
   },
   {
    "duration": 113,
    "start_time": "2022-07-01T16:11:49.387Z"
   },
   {
    "duration": 35,
    "start_time": "2022-07-01T16:11:49.502Z"
   },
   {
    "duration": 3,
    "start_time": "2022-07-01T16:11:49.539Z"
   },
   {
    "duration": 1005,
    "start_time": "2022-07-01T16:11:49.543Z"
   },
   {
    "duration": 732,
    "start_time": "2022-07-01T16:11:50.551Z"
   },
   {
    "duration": 743,
    "start_time": "2022-07-01T16:11:51.288Z"
   },
   {
    "duration": 467,
    "start_time": "2022-07-01T16:11:52.033Z"
   },
   {
    "duration": 609,
    "start_time": "2022-07-01T16:11:52.501Z"
   },
   {
    "duration": 263,
    "start_time": "2022-07-01T16:11:53.112Z"
   },
   {
    "duration": 249,
    "start_time": "2022-07-01T16:11:53.377Z"
   },
   {
    "duration": 223,
    "start_time": "2022-07-01T16:11:53.627Z"
   },
   {
    "duration": 435,
    "start_time": "2022-07-01T16:11:53.852Z"
   },
   {
    "duration": 588,
    "start_time": "2022-07-01T16:11:54.288Z"
   },
   {
    "duration": 219,
    "start_time": "2022-07-01T16:11:54.877Z"
   },
   {
    "duration": 265,
    "start_time": "2022-07-01T16:11:55.098Z"
   },
   {
    "duration": 319,
    "start_time": "2022-07-01T16:11:55.369Z"
   },
   {
    "duration": 417,
    "start_time": "2022-07-01T16:11:55.690Z"
   },
   {
    "duration": 506,
    "start_time": "2022-07-01T16:11:56.109Z"
   },
   {
    "duration": 233,
    "start_time": "2022-07-01T16:11:56.616Z"
   },
   {
    "duration": 227,
    "start_time": "2022-07-01T16:11:56.851Z"
   },
   {
    "duration": 211,
    "start_time": "2022-07-01T16:11:57.080Z"
   },
   {
    "duration": 432,
    "start_time": "2022-07-01T16:11:57.293Z"
   },
   {
    "duration": 608,
    "start_time": "2022-07-01T16:11:57.727Z"
   },
   {
    "duration": 15,
    "start_time": "2022-07-01T16:11:58.336Z"
   },
   {
    "duration": 6,
    "start_time": "2022-07-01T16:12:01.785Z"
   },
   {
    "duration": 53,
    "start_time": "2022-07-01T20:34:15.264Z"
   },
   {
    "duration": 1582,
    "start_time": "2022-07-01T20:34:20.289Z"
   },
   {
    "duration": 2180,
    "start_time": "2022-07-01T20:34:21.873Z"
   },
   {
    "duration": 51,
    "start_time": "2022-07-01T20:34:24.061Z"
   },
   {
    "duration": 48,
    "start_time": "2022-07-01T20:34:24.114Z"
   },
   {
    "duration": 26,
    "start_time": "2022-07-01T20:34:24.166Z"
   },
   {
    "duration": 17,
    "start_time": "2022-07-01T20:34:24.194Z"
   },
   {
    "duration": 10,
    "start_time": "2022-07-01T20:34:24.213Z"
   },
   {
    "duration": 30,
    "start_time": "2022-07-01T20:34:24.225Z"
   },
   {
    "duration": 96,
    "start_time": "2022-07-01T20:34:24.257Z"
   },
   {
    "duration": 14,
    "start_time": "2022-07-01T20:34:27.181Z"
   },
   {
    "duration": 33,
    "start_time": "2022-07-01T20:34:45.628Z"
   },
   {
    "duration": 6,
    "start_time": "2022-07-01T20:34:57.261Z"
   },
   {
    "duration": 3,
    "start_time": "2022-07-01T20:37:09.293Z"
   },
   {
    "duration": 549,
    "start_time": "2022-07-01T20:37:09.300Z"
   },
   {
    "duration": 52,
    "start_time": "2022-07-01T20:37:09.852Z"
   },
   {
    "duration": 55,
    "start_time": "2022-07-01T20:37:09.906Z"
   },
   {
    "duration": 34,
    "start_time": "2022-07-01T20:37:09.964Z"
   },
   {
    "duration": 20,
    "start_time": "2022-07-01T20:37:10.000Z"
   },
   {
    "duration": 12,
    "start_time": "2022-07-01T20:37:10.021Z"
   },
   {
    "duration": 51,
    "start_time": "2022-07-01T20:37:10.034Z"
   },
   {
    "duration": 92,
    "start_time": "2022-07-01T20:37:10.087Z"
   },
   {
    "duration": 5,
    "start_time": "2022-07-01T20:37:10.181Z"
   },
   {
    "duration": 9,
    "start_time": "2022-07-01T20:37:10.188Z"
   },
   {
    "duration": 21,
    "start_time": "2022-07-01T20:37:10.199Z"
   },
   {
    "duration": 143,
    "start_time": "2022-07-01T20:37:10.222Z"
   },
   {
    "duration": 10,
    "start_time": "2022-07-01T20:37:10.367Z"
   },
   {
    "duration": 44,
    "start_time": "2022-07-01T20:37:10.378Z"
   },
   {
    "duration": 58,
    "start_time": "2022-07-01T20:37:10.424Z"
   },
   {
    "duration": 66,
    "start_time": "2022-07-01T20:37:10.484Z"
   },
   {
    "duration": 14,
    "start_time": "2022-07-01T20:37:10.561Z"
   },
   {
    "duration": 48,
    "start_time": "2022-07-01T20:37:10.577Z"
   },
   {
    "duration": 42,
    "start_time": "2022-07-01T20:37:10.626Z"
   },
   {
    "duration": 11,
    "start_time": "2022-07-01T20:37:10.669Z"
   },
   {
    "duration": 24,
    "start_time": "2022-07-01T20:37:10.682Z"
   },
   {
    "duration": 17,
    "start_time": "2022-07-01T20:37:10.708Z"
   },
   {
    "duration": 34,
    "start_time": "2022-07-01T20:37:10.727Z"
   },
   {
    "duration": 21,
    "start_time": "2022-07-01T20:37:10.763Z"
   },
   {
    "duration": 18,
    "start_time": "2022-07-01T20:37:10.786Z"
   },
   {
    "duration": 7,
    "start_time": "2022-07-01T20:37:10.805Z"
   },
   {
    "duration": 36,
    "start_time": "2022-07-01T20:37:10.814Z"
   },
   {
    "duration": 18,
    "start_time": "2022-07-01T20:37:10.853Z"
   },
   {
    "duration": 18,
    "start_time": "2022-07-01T20:37:10.873Z"
   },
   {
    "duration": 5,
    "start_time": "2022-07-01T20:37:13.993Z"
   },
   {
    "duration": 164,
    "start_time": "2022-07-01T20:37:15.951Z"
   },
   {
    "duration": 4,
    "start_time": "2022-07-01T20:38:09.678Z"
   },
   {
    "duration": 187,
    "start_time": "2022-07-01T20:38:10.982Z"
   },
   {
    "duration": 7,
    "start_time": "2022-07-01T20:44:50.341Z"
   },
   {
    "duration": 3,
    "start_time": "2022-07-01T20:44:54.832Z"
   },
   {
    "duration": 563,
    "start_time": "2022-07-01T20:44:54.846Z"
   },
   {
    "duration": 62,
    "start_time": "2022-07-01T20:44:55.412Z"
   },
   {
    "duration": 27,
    "start_time": "2022-07-01T20:44:55.476Z"
   },
   {
    "duration": 21,
    "start_time": "2022-07-01T20:44:55.505Z"
   },
   {
    "duration": 42,
    "start_time": "2022-07-01T20:44:55.528Z"
   },
   {
    "duration": 14,
    "start_time": "2022-07-01T20:44:55.572Z"
   },
   {
    "duration": 14,
    "start_time": "2022-07-01T20:44:55.588Z"
   },
   {
    "duration": 100,
    "start_time": "2022-07-01T20:44:55.604Z"
   },
   {
    "duration": 4,
    "start_time": "2022-07-01T20:44:55.706Z"
   },
   {
    "duration": 12,
    "start_time": "2022-07-01T20:44:55.712Z"
   },
   {
    "duration": 21,
    "start_time": "2022-07-01T20:44:55.726Z"
   },
   {
    "duration": 121,
    "start_time": "2022-07-01T20:44:55.752Z"
   },
   {
    "duration": 8,
    "start_time": "2022-07-01T20:44:55.875Z"
   },
   {
    "duration": 44,
    "start_time": "2022-07-01T20:44:55.885Z"
   },
   {
    "duration": 53,
    "start_time": "2022-07-01T20:44:55.945Z"
   },
   {
    "duration": 68,
    "start_time": "2022-07-01T20:44:56.000Z"
   },
   {
    "duration": 11,
    "start_time": "2022-07-01T20:44:56.073Z"
   },
   {
    "duration": 41,
    "start_time": "2022-07-01T20:44:56.085Z"
   },
   {
    "duration": 39,
    "start_time": "2022-07-01T20:44:56.128Z"
   },
   {
    "duration": 8,
    "start_time": "2022-07-01T20:44:56.172Z"
   },
   {
    "duration": 26,
    "start_time": "2022-07-01T20:44:56.181Z"
   },
   {
    "duration": 48,
    "start_time": "2022-07-01T20:44:56.208Z"
   },
   {
    "duration": 32,
    "start_time": "2022-07-01T20:44:56.261Z"
   },
   {
    "duration": 20,
    "start_time": "2022-07-01T20:44:56.294Z"
   },
   {
    "duration": 20,
    "start_time": "2022-07-01T20:44:56.315Z"
   },
   {
    "duration": 20,
    "start_time": "2022-07-01T20:44:56.336Z"
   },
   {
    "duration": 28,
    "start_time": "2022-07-01T20:44:56.359Z"
   },
   {
    "duration": 8,
    "start_time": "2022-07-01T20:44:56.391Z"
   },
   {
    "duration": 17,
    "start_time": "2022-07-01T20:44:56.400Z"
   },
   {
    "duration": 6,
    "start_time": "2022-07-01T20:44:56.418Z"
   },
   {
    "duration": 182,
    "start_time": "2022-07-01T20:44:56.425Z"
   },
   {
    "duration": 56,
    "start_time": "2022-07-01T20:44:56.609Z"
   },
   {
    "duration": 5,
    "start_time": "2022-07-01T20:44:56.669Z"
   },
   {
    "duration": 941,
    "start_time": "2022-07-01T20:44:56.675Z"
   },
   {
    "duration": 841,
    "start_time": "2022-07-01T20:44:57.618Z"
   },
   {
    "duration": 852,
    "start_time": "2022-07-01T20:44:58.460Z"
   },
   {
    "duration": 441,
    "start_time": "2022-07-01T20:44:59.313Z"
   },
   {
    "duration": 601,
    "start_time": "2022-07-01T20:44:59.756Z"
   },
   {
    "duration": 399,
    "start_time": "2022-07-01T20:45:00.361Z"
   },
   {
    "duration": 285,
    "start_time": "2022-07-01T20:45:00.762Z"
   },
   {
    "duration": 262,
    "start_time": "2022-07-01T20:45:01.060Z"
   },
   {
    "duration": 402,
    "start_time": "2022-07-01T20:45:01.324Z"
   },
   {
    "duration": 595,
    "start_time": "2022-07-01T20:45:01.728Z"
   },
   {
    "duration": 276,
    "start_time": "2022-07-01T20:45:02.325Z"
   },
   {
    "duration": 287,
    "start_time": "2022-07-01T20:45:02.604Z"
   },
   {
    "duration": 246,
    "start_time": "2022-07-01T20:45:02.894Z"
   },
   {
    "duration": 544,
    "start_time": "2022-07-01T20:45:03.146Z"
   },
   {
    "duration": 624,
    "start_time": "2022-07-01T20:45:03.692Z"
   },
   {
    "duration": 277,
    "start_time": "2022-07-01T20:45:04.318Z"
   },
   {
    "duration": 265,
    "start_time": "2022-07-01T20:45:04.597Z"
   },
   {
    "duration": 249,
    "start_time": "2022-07-01T20:45:04.863Z"
   },
   {
    "duration": 460,
    "start_time": "2022-07-01T20:45:05.113Z"
   },
   {
    "duration": 761,
    "start_time": "2022-07-01T20:45:05.576Z"
   },
   {
    "duration": 18,
    "start_time": "2022-07-01T20:45:06.340Z"
   },
   {
    "duration": 25,
    "start_time": "2022-07-01T20:45:06.362Z"
   },
   {
    "duration": 16,
    "start_time": "2022-07-01T20:45:06.389Z"
   },
   {
    "duration": 5,
    "start_time": "2022-07-01T20:45:08.588Z"
   },
   {
    "duration": 5,
    "start_time": "2022-07-01T20:45:23.872Z"
   },
   {
    "duration": 6,
    "start_time": "2022-07-01T20:45:33.799Z"
   },
   {
    "duration": 11,
    "start_time": "2022-07-01T20:46:44.640Z"
   },
   {
    "duration": 5,
    "start_time": "2022-07-01T20:46:45.406Z"
   },
   {
    "duration": 5,
    "start_time": "2022-07-01T20:46:46.095Z"
   },
   {
    "duration": 6,
    "start_time": "2022-07-01T20:46:47.380Z"
   },
   {
    "duration": 6,
    "start_time": "2022-07-01T20:46:48.265Z"
   },
   {
    "duration": 6,
    "start_time": "2022-07-01T20:46:49.572Z"
   },
   {
    "duration": 6,
    "start_time": "2022-07-01T20:46:57.133Z"
   },
   {
    "duration": 7,
    "start_time": "2022-07-01T20:47:13.129Z"
   },
   {
    "duration": 5,
    "start_time": "2022-07-01T20:47:31.513Z"
   },
   {
    "duration": 11,
    "start_time": "2022-07-01T20:48:00.859Z"
   },
   {
    "duration": 8,
    "start_time": "2022-07-01T20:48:08.267Z"
   },
   {
    "duration": 7,
    "start_time": "2022-07-01T20:48:17.377Z"
   },
   {
    "duration": 1221,
    "start_time": "2022-07-03T20:10:04.267Z"
   },
   {
    "duration": 1421,
    "start_time": "2022-07-03T20:10:05.490Z"
   },
   {
    "duration": 41,
    "start_time": "2022-07-03T20:10:06.912Z"
   },
   {
    "duration": 21,
    "start_time": "2022-07-03T20:10:06.955Z"
   },
   {
    "duration": 18,
    "start_time": "2022-07-03T20:10:06.977Z"
   },
   {
    "duration": 42,
    "start_time": "2022-07-03T20:10:06.996Z"
   },
   {
    "duration": 8,
    "start_time": "2022-07-03T20:10:07.040Z"
   },
   {
    "duration": 14,
    "start_time": "2022-07-03T20:10:07.050Z"
   },
   {
    "duration": 84,
    "start_time": "2022-07-03T20:10:07.065Z"
   },
   {
    "duration": 4,
    "start_time": "2022-07-03T20:10:07.151Z"
   },
   {
    "duration": 9,
    "start_time": "2022-07-03T20:10:07.156Z"
   },
   {
    "duration": 10,
    "start_time": "2022-07-03T20:10:07.167Z"
   },
   {
    "duration": 102,
    "start_time": "2022-07-03T20:10:07.179Z"
   },
   {
    "duration": 6,
    "start_time": "2022-07-03T20:10:07.282Z"
   },
   {
    "duration": 49,
    "start_time": "2022-07-03T20:10:07.290Z"
   },
   {
    "duration": 37,
    "start_time": "2022-07-03T20:10:07.341Z"
   },
   {
    "duration": 62,
    "start_time": "2022-07-03T20:10:07.380Z"
   },
   {
    "duration": 10,
    "start_time": "2022-07-03T20:10:07.444Z"
   },
   {
    "duration": 42,
    "start_time": "2022-07-03T20:10:07.455Z"
   },
   {
    "duration": 37,
    "start_time": "2022-07-03T20:10:07.499Z"
   },
   {
    "duration": 6,
    "start_time": "2022-07-03T20:10:07.538Z"
   },
   {
    "duration": 21,
    "start_time": "2022-07-03T20:10:07.545Z"
   },
   {
    "duration": 13,
    "start_time": "2022-07-03T20:10:07.567Z"
   },
   {
    "duration": 17,
    "start_time": "2022-07-03T20:10:07.581Z"
   },
   {
    "duration": 40,
    "start_time": "2022-07-03T20:10:07.599Z"
   },
   {
    "duration": 17,
    "start_time": "2022-07-03T20:10:07.640Z"
   },
   {
    "duration": 6,
    "start_time": "2022-07-03T20:10:07.659Z"
   },
   {
    "duration": 7,
    "start_time": "2022-07-03T20:10:07.668Z"
   },
   {
    "duration": 8,
    "start_time": "2022-07-03T20:10:07.676Z"
   },
   {
    "duration": 47,
    "start_time": "2022-07-03T20:10:07.685Z"
   },
   {
    "duration": 4,
    "start_time": "2022-07-03T20:10:07.733Z"
   },
   {
    "duration": 149,
    "start_time": "2022-07-03T20:10:07.738Z"
   },
   {
    "duration": 41,
    "start_time": "2022-07-03T20:10:07.888Z"
   },
   {
    "duration": 3,
    "start_time": "2022-07-03T20:10:07.931Z"
   },
   {
    "duration": 733,
    "start_time": "2022-07-03T20:10:07.935Z"
   },
   {
    "duration": 728,
    "start_time": "2022-07-03T20:10:08.670Z"
   },
   {
    "duration": 754,
    "start_time": "2022-07-03T20:10:09.400Z"
   },
   {
    "duration": 462,
    "start_time": "2022-07-03T20:10:10.156Z"
   },
   {
    "duration": 645,
    "start_time": "2022-07-03T20:10:10.619Z"
   },
   {
    "duration": 264,
    "start_time": "2022-07-03T20:10:11.266Z"
   },
   {
    "duration": 216,
    "start_time": "2022-07-03T20:10:11.531Z"
   },
   {
    "duration": 234,
    "start_time": "2022-07-03T20:10:11.749Z"
   },
   {
    "duration": 378,
    "start_time": "2022-07-03T20:10:11.985Z"
   },
   {
    "duration": 466,
    "start_time": "2022-07-03T20:10:12.365Z"
   },
   {
    "duration": 202,
    "start_time": "2022-07-03T20:10:12.833Z"
   },
   {
    "duration": 223,
    "start_time": "2022-07-03T20:10:13.037Z"
   },
   {
    "duration": 282,
    "start_time": "2022-07-03T20:10:13.263Z"
   },
   {
    "duration": 364,
    "start_time": "2022-07-03T20:10:13.546Z"
   },
   {
    "duration": 464,
    "start_time": "2022-07-03T20:10:13.912Z"
   },
   {
    "duration": 221,
    "start_time": "2022-07-03T20:10:14.377Z"
   },
   {
    "duration": 199,
    "start_time": "2022-07-03T20:10:14.600Z"
   },
   {
    "duration": 206,
    "start_time": "2022-07-03T20:10:14.800Z"
   },
   {
    "duration": 370,
    "start_time": "2022-07-03T20:10:15.007Z"
   },
   {
    "duration": 570,
    "start_time": "2022-07-03T20:10:15.379Z"
   },
   {
    "duration": 7,
    "start_time": "2022-07-03T20:10:15.951Z"
   },
   {
    "duration": 7,
    "start_time": "2022-07-03T20:10:15.960Z"
   },
   {
    "duration": 5,
    "start_time": "2022-07-03T20:10:39.180Z"
   },
   {
    "duration": 6,
    "start_time": "2022-07-03T20:10:52.638Z"
   }
  ],
  "celltoolbar": "Отсутствует",
  "kernelspec": {
   "display_name": "Python 3 (ipykernel)",
   "language": "python",
   "name": "python3"
  },
  "language_info": {
   "codemirror_mode": {
    "name": "ipython",
    "version": 3
   },
   "file_extension": ".py",
   "mimetype": "text/x-python",
   "name": "python",
   "nbconvert_exporter": "python",
   "pygments_lexer": "ipython3",
   "version": "3.9.12"
  },
  "toc": {
   "base_numbering": 1,
   "nav_menu": {},
   "number_sections": true,
   "sideBar": true,
   "skip_h1_title": true,
   "title_cell": "Содержание",
   "title_sidebar": "Contents",
   "toc_cell": true,
   "toc_position": {
    "height": "calc(100% - 180px)",
    "left": "10px",
    "top": "150px",
    "width": "462.5px"
   },
   "toc_section_display": true,
   "toc_window_display": true
  },
  "varInspector": {
   "cols": {
    "lenName": "20",
    "lenType": "20",
    "lenVar": 40
   },
   "kernels_config": {
    "python": {
     "delete_cmd_postfix": "",
     "delete_cmd_prefix": "del ",
     "library": "var_list.py",
     "varRefreshCmd": "print(var_dic_list())"
    },
    "r": {
     "delete_cmd_postfix": ") ",
     "delete_cmd_prefix": "rm(",
     "library": "var_list.r",
     "varRefreshCmd": "cat(var_dic_list()) "
    }
   },
   "types_to_exclude": [
    "module",
    "function",
    "builtin_function_or_method",
    "instance",
    "_Feature"
   ],
   "window_display": true
  }
 },
 "nbformat": 4,
 "nbformat_minor": 2
}
