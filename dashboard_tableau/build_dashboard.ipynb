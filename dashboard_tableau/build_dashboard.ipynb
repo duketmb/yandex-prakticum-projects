{
 "cells": [
  {
   "cell_type": "markdown",
   "id": "3d5d2e07",
   "metadata": {
    "toc": true
   },
   "source": [
    "<h1>Содержание<span class=\"tocSkip\"></span></h1>\n",
    "<div class=\"toc\"><ul class=\"toc-item\"><li><span><a href=\"#Коннект-к-БД\" data-toc-modified-id=\"Коннект-к-БД-1\"><span class=\"toc-item-num\">1&nbsp;&nbsp;</span>Коннект к БД</a></span></li><li><span><a href=\"#Выгрузка-данных-из-БД\" data-toc-modified-id=\"Выгрузка-данных-из-БД-2\"><span class=\"toc-item-num\">2&nbsp;&nbsp;</span>Выгрузка данных из БД</a></span></li><li><span><a href=\"#Построение-дашборда-в-Tableau-Public\" data-toc-modified-id=\"Построение-дашборда-в-Tableau-Public-3\"><span class=\"toc-item-num\">3&nbsp;&nbsp;</span>Построение дашборда в Tableau Public</a></span></li><li><span><a href=\"#Создание-презентации-для-менеджеров\" data-toc-modified-id=\"Создание-презентации-для-менеджеров-4\"><span class=\"toc-item-num\">4&nbsp;&nbsp;</span>Создание презентации для менеджеров</a></span></li></ul></div>"
   ]
  },
  {
   "cell_type": "markdown",
   "id": "0a28e8ed",
   "metadata": {},
   "source": [
    "# Построение дашборда"
   ]
  },
  {
   "cell_type": "markdown",
   "id": "8cfaedfa",
   "metadata": {},
   "source": [
    "При работе в сервисе отображения статей производился анализ пользовательского взаимодействия с карточками статей.  \n",
    "Каждую карточку определяют её тема и источник (у него тоже есть тема). Примеры тем: «Красота и здоровье», «Россия», «Путешествия».\n",
    "Пользователей системы характеризует возрастная категория. Например, «26-30» или «45+».  \n",
    "Есть три способа взаимодействия пользователей с системой:\n",
    "- карточка отображена для пользователя (show);\n",
    "- пользователь кликнул на карточку (click);\n",
    "- пользователь просмотрел статью карточки (view).  \n",
    "\n",
    "По запросу менеджеров было принято решение сделать дашборд для быстрого анализа необходимых данных и ответов на следующие вопросы:\n",
    "- Сколько взаимодействий пользователей с карточками происходит в системе с разбивкой по темам карточек?\n",
    "- Как много карточек генерируют источники с разными темами?\n",
    "- Как соотносятся темы карточек и темы источников?  \n",
    "\n",
    "Принято решение, что дашборд должен основываться на пайплайне, который будет брать данные из таблицы, в которых хранятся сырые данные, трансформировать данные и укладывать их в агрегирующую таблицу.  \n",
    "С менеджерами было проведено обсуждение состава дашборда, его внешний вид и набор отображаемых данных. После этого проведено обсуждение с администраторами БД с целью выяснения куда и как собираются нужные данные. С ними же решено, где хранить агрегирующие таблицы. Совместно был разработан пайплайн сбора и агрегации данных и схема дашборда.  \n",
    "Было сформировано следующее техническое задание:\n",
    "1. Бизнес-задача: анализ взаимодействия пользователей с карточками;\n",
    "2. Насколько часто предполагается пользоваться дашбордом: не реже, чем раз в неделю;\n",
    "3. Кто будет основным пользователем дашборда: менеджеры по анализу контента;\n",
    "4. Состав данных для дашборда:\n",
    "    - История событий по темам карточек (два графика - абсолютные числа и процентное соотношение);\n",
    "    - Разбивка событий по темам источников;\n",
    "    - Таблица соответствия тем источников темам карточек;\n",
    "5. По каким параметрам данные должны группироваться:\n",
    "    - Дата и время;\n",
    "    - Тема карточки;\n",
    "    - Тема источника;\n",
    "    - Возрастная группа;\n",
    "6. Характер данных:\n",
    "    - История событий по темам карточек — абсолютные величины с разбивкой по минутам;\n",
    "    - Разбивка событий по темам источников — относительные величины (% событий);\n",
    "    - Соответствия тем источников темам карточек - абсолютные величины;\n",
    "7. Важность: все графики имеют равную важность;\n",
    "8. Источники данных для дашборда: cырые данные о событиях взаимодействия пользователей с карточками (таблица `log_raw`);\n",
    "9. База данных, в которой будут храниться агрегированные данные: дополнительные агрегированные таблицы в БД `zen`;\n",
    "10. Частота обновления данных: один раз в сутки, в полночь по UTC;\n",
    "11. Какие графики должны отображаться и в каком порядке, какие элементы управления должны быть на дашборде (макет дашборда):\n",
    "![Макет дашборда](https://i.ibb.co/d7Sz9Qr/dash-maket.png)\n",
    "\n",
    "**Цель работы:** Построить дашборд для менеджеров, отвечающий на поставленные вопросы. Также оформить презентацию с ответами.\n",
    "\n",
    "**Ход работы:**\n",
    "1. Создать коннект к БД.\n",
    "2. Выгрузить данные из БД в .csv-файл.\n",
    "3. В Tableau Public построить дашборд в соответствии с ТЗ.\n",
    "4. Сделать презентацию для менеджеров.\n"
   ]
  },
  {
   "cell_type": "markdown",
   "id": "48c243c2",
   "metadata": {},
   "source": [
    "## Коннект к БД"
   ]
  },
  {
   "cell_type": "code",
   "execution_count": 1,
   "id": "be1e2ec2",
   "metadata": {},
   "outputs": [],
   "source": [
    "# импортируем библиотеки\n",
    "import pandas as pd\n",
    "from sqlalchemy import create_engine"
   ]
  },
  {
   "cell_type": "code",
   "execution_count": 2,
   "id": "0fb9a5f1",
   "metadata": {},
   "outputs": [],
   "source": [
    "# Задаём параметры подключения к БД, которые указал админ.\n",
    "db_config = {'user': 'praktikum_student', # имя пользователя\n",
    "            'pwd': 'Sdf4$2;d-d30pp', # пароль\n",
    "            'host': 'rc1b-wcoijxj3yxfsf3fs.mdb.yandexcloud.net',\n",
    "            'port': 6432, # порт подключения\n",
    "            'db': 'data-analyst-zen-project-db'} # название базы данных\n",
    "# Формируем строку соединения с БД.\n",
    "connection_string = 'postgresql://{}:{}@{}:{}/{}'.format(db_config['user'],\n",
    "                                                db_config['pwd'],\n",
    "                                                db_config['host'],\n",
    "                                                db_config['port'],\n",
    "                                                db_config['db'])\n",
    "# Подключаемся к БД.\n",
    "engine = create_engine(connection_string)"
   ]
  },
  {
   "cell_type": "markdown",
   "id": "2bbec597",
   "metadata": {},
   "source": [
    "## Выгрузка данных из БД"
   ]
  },
  {
   "cell_type": "code",
   "execution_count": 3,
   "id": "6c9ea7b5",
   "metadata": {},
   "outputs": [
    {
     "data": {
      "text/html": [
       "<div>\n",
       "<style scoped>\n",
       "    .dataframe tbody tr th:only-of-type {\n",
       "        vertical-align: middle;\n",
       "    }\n",
       "\n",
       "    .dataframe tbody tr th {\n",
       "        vertical-align: top;\n",
       "    }\n",
       "\n",
       "    .dataframe thead th {\n",
       "        text-align: right;\n",
       "    }\n",
       "</style>\n",
       "<table border=\"1\" class=\"dataframe\">\n",
       "  <thead>\n",
       "    <tr style=\"text-align: right;\">\n",
       "      <th></th>\n",
       "      <th>event_id</th>\n",
       "      <th>age_segment</th>\n",
       "      <th>event</th>\n",
       "      <th>item_id</th>\n",
       "      <th>item_topic</th>\n",
       "      <th>item_type</th>\n",
       "      <th>source_id</th>\n",
       "      <th>source_topic</th>\n",
       "      <th>source_type</th>\n",
       "      <th>ts</th>\n",
       "      <th>user_id</th>\n",
       "    </tr>\n",
       "  </thead>\n",
       "  <tbody>\n",
       "    <tr>\n",
       "      <th>0</th>\n",
       "      <td>2931262</td>\n",
       "      <td>18-25</td>\n",
       "      <td>show</td>\n",
       "      <td>1793260</td>\n",
       "      <td>Красота</td>\n",
       "      <td>native</td>\n",
       "      <td>8388799</td>\n",
       "      <td>История</td>\n",
       "      <td>publisher</td>\n",
       "      <td>1569349657638</td>\n",
       "      <td>2185026</td>\n",
       "    </tr>\n",
       "    <tr>\n",
       "      <th>1</th>\n",
       "      <td>2931277</td>\n",
       "      <td>18-25</td>\n",
       "      <td>show</td>\n",
       "      <td>7465641</td>\n",
       "      <td>Культура</td>\n",
       "      <td>native</td>\n",
       "      <td>5837959</td>\n",
       "      <td>История</td>\n",
       "      <td>publisher</td>\n",
       "      <td>1569349657971</td>\n",
       "      <td>6845238</td>\n",
       "    </tr>\n",
       "    <tr>\n",
       "      <th>2</th>\n",
       "      <td>2931285</td>\n",
       "      <td>18-25</td>\n",
       "      <td>show</td>\n",
       "      <td>406073</td>\n",
       "      <td>История</td>\n",
       "      <td>url</td>\n",
       "      <td>2335872</td>\n",
       "      <td>Сад и дача</td>\n",
       "      <td>domain</td>\n",
       "      <td>1569349658408</td>\n",
       "      <td>5244363</td>\n",
       "    </tr>\n",
       "    <tr>\n",
       "      <th>3</th>\n",
       "      <td>2931247</td>\n",
       "      <td>26-30</td>\n",
       "      <td>show</td>\n",
       "      <td>752665</td>\n",
       "      <td>Путешествия</td>\n",
       "      <td>native</td>\n",
       "      <td>6963489</td>\n",
       "      <td>Здоровье</td>\n",
       "      <td>publisher</td>\n",
       "      <td>1569349657189</td>\n",
       "      <td>7553074</td>\n",
       "    </tr>\n",
       "    <tr>\n",
       "      <th>4</th>\n",
       "      <td>2931278</td>\n",
       "      <td>26-30</td>\n",
       "      <td>click</td>\n",
       "      <td>6843081</td>\n",
       "      <td>Юмор</td>\n",
       "      <td>url</td>\n",
       "      <td>5427748</td>\n",
       "      <td>Семейные отношения</td>\n",
       "      <td>domain</td>\n",
       "      <td>1569349658054</td>\n",
       "      <td>1317585</td>\n",
       "    </tr>\n",
       "  </tbody>\n",
       "</table>\n",
       "</div>"
      ],
      "text/plain": [
       "   event_id age_segment  event  item_id   item_topic item_type  source_id  \\\n",
       "0   2931262       18-25   show  1793260      Красота    native    8388799   \n",
       "1   2931277       18-25   show  7465641     Культура    native    5837959   \n",
       "2   2931285       18-25   show   406073      История       url    2335872   \n",
       "3   2931247       26-30   show   752665  Путешествия    native    6963489   \n",
       "4   2931278       26-30  click  6843081         Юмор       url    5427748   \n",
       "\n",
       "         source_topic source_type             ts  user_id  \n",
       "0             История   publisher  1569349657638  2185026  \n",
       "1             История   publisher  1569349657971  6845238  \n",
       "2          Сад и дача      domain  1569349658408  5244363  \n",
       "3            Здоровье   publisher  1569349657189  7553074  \n",
       "4  Семейные отношения      domain  1569349658054  1317585  "
      ]
     },
     "execution_count": 3,
     "metadata": {},
     "output_type": "execute_result"
    }
   ],
   "source": [
    "# Формируем sql-запрос на выгрузку сырых данных.\n",
    "query = ''' SELECT *\n",
    "            FROM log_raw\n",
    "        '''\n",
    "# Выполняем запрос и сохраняем результат выполнения в DataFrame.\n",
    "log_raw = pd.io.sql.read_sql(query, con=engine)\n",
    "# Смотрим, что выгрузили\n",
    "log_raw.head()"
   ]
  },
  {
   "cell_type": "markdown",
   "id": "18b9fd61",
   "metadata": {},
   "source": [
    "После выгрузки сырых данных необходимо провести агрегацию.  \n",
    "Для построения дашборда по ТЗ нам необходима следующая информация из сырых данных:\n",
    "- тема карточки `item_topic`;\n",
    "- тема источника `source_topic`;\n",
    "- возрастная категория `age_segment`;\n",
    "- время `ts`;\n",
    "- количество взаимодействий с карточкой.  \n",
    "\n",
    "Приведем время в понятный формат, округлив до минут. Затем сгруппируем таблицу по столбцам тем, возраста и времени, подсчитывая количество взаимодействий.\n"
   ]
  },
  {
   "cell_type": "code",
   "execution_count": 4,
   "id": "c79f49b1",
   "metadata": {},
   "outputs": [
    {
     "data": {
      "text/html": [
       "<div>\n",
       "<style scoped>\n",
       "    .dataframe tbody tr th:only-of-type {\n",
       "        vertical-align: middle;\n",
       "    }\n",
       "\n",
       "    .dataframe tbody tr th {\n",
       "        vertical-align: top;\n",
       "    }\n",
       "\n",
       "    .dataframe thead th {\n",
       "        text-align: right;\n",
       "    }\n",
       "</style>\n",
       "<table border=\"1\" class=\"dataframe\">\n",
       "  <thead>\n",
       "    <tr style=\"text-align: right;\">\n",
       "      <th></th>\n",
       "      <th>item_topic</th>\n",
       "      <th>source_topic</th>\n",
       "      <th>age_segment</th>\n",
       "      <th>dt</th>\n",
       "      <th>event</th>\n",
       "    </tr>\n",
       "  </thead>\n",
       "  <tbody>\n",
       "    <tr>\n",
       "      <th>0</th>\n",
       "      <td>Деньги</td>\n",
       "      <td>Авто</td>\n",
       "      <td>18-25</td>\n",
       "      <td>2019-09-24 18:32:00</td>\n",
       "      <td>3</td>\n",
       "    </tr>\n",
       "    <tr>\n",
       "      <th>1</th>\n",
       "      <td>Деньги</td>\n",
       "      <td>Авто</td>\n",
       "      <td>18-25</td>\n",
       "      <td>2019-09-24 18:35:00</td>\n",
       "      <td>1</td>\n",
       "    </tr>\n",
       "    <tr>\n",
       "      <th>2</th>\n",
       "      <td>Деньги</td>\n",
       "      <td>Авто</td>\n",
       "      <td>18-25</td>\n",
       "      <td>2019-09-24 18:54:00</td>\n",
       "      <td>4</td>\n",
       "    </tr>\n",
       "    <tr>\n",
       "      <th>3</th>\n",
       "      <td>Деньги</td>\n",
       "      <td>Авто</td>\n",
       "      <td>18-25</td>\n",
       "      <td>2019-09-24 18:55:00</td>\n",
       "      <td>17</td>\n",
       "    </tr>\n",
       "    <tr>\n",
       "      <th>4</th>\n",
       "      <td>Деньги</td>\n",
       "      <td>Авто</td>\n",
       "      <td>18-25</td>\n",
       "      <td>2019-09-24 18:56:00</td>\n",
       "      <td>27</td>\n",
       "    </tr>\n",
       "  </tbody>\n",
       "</table>\n",
       "</div>"
      ],
      "text/plain": [
       "  item_topic source_topic age_segment                  dt  event\n",
       "0     Деньги         Авто       18-25 2019-09-24 18:32:00      3\n",
       "1     Деньги         Авто       18-25 2019-09-24 18:35:00      1\n",
       "2     Деньги         Авто       18-25 2019-09-24 18:54:00      4\n",
       "3     Деньги         Авто       18-25 2019-09-24 18:55:00     17\n",
       "4     Деньги         Авто       18-25 2019-09-24 18:56:00     27"
      ]
     },
     "execution_count": 4,
     "metadata": {},
     "output_type": "execute_result"
    }
   ],
   "source": [
    "# Преобразуем данные к нужным типам.\n",
    "log_raw['dt'] = pd.to_datetime(log_raw['ts'], unit='ms').dt.round('T')\n",
    "\n",
    "# Готовим агрегирующую таблицу.\n",
    "data_dash = (\n",
    "    log_raw\n",
    "    .groupby(['item_topic', 'source_topic', 'age_segment', 'dt'])\n",
    "    .agg({'event': 'count'})\n",
    "    .reset_index()\n",
    ")\n",
    "data_dash.head()"
   ]
  },
  {
   "cell_type": "markdown",
   "id": "b272e908",
   "metadata": {},
   "source": [
    "База данных в данное время доступна только в режиме read-only. Для записи агрегирующих таблиц в базу данных мог использоваться код ниже."
   ]
  },
  {
   "cell_type": "code",
   "execution_count": 5,
   "id": "15507134",
   "metadata": {},
   "outputs": [],
   "source": [
    "# Сохраняем датафрейм в таблицу data_dash базы данных.\n",
    "# data_dash.to_sql(\n",
    "#     name='data_dash', con=engine, if_exists='append', index=False\n",
    "# ) "
   ]
  },
  {
   "cell_type": "markdown",
   "id": "fa522678",
   "metadata": {},
   "source": [
    "Также возможно написание скрипта для еженедельной выгрузки данных по данному пайплайну. В данном проекте это не рассматривалось, т.к. данный скрипт выполнить невозможно из-за необновляемости БД и отсутсвия доступа на запись. Однако, заготовку данного скрипта можно найти в этой же папке на гитхабе, что и эта тетрадь.\n",
    "\n",
    "Аггрегированную таблицу из сырых выгруженных данных сохраним локально для работы с ней далее в Tableau Public."
   ]
  },
  {
   "cell_type": "code",
   "execution_count": 6,
   "id": "cf3e02a3",
   "metadata": {},
   "outputs": [],
   "source": [
    "data_dash.to_csv('data_dash.csv', index=False) "
   ]
  },
  {
   "cell_type": "markdown",
   "id": "e6715455",
   "metadata": {},
   "source": [
    "Теперь можно переходить к построению дашборда в Tableau Public."
   ]
  },
  {
   "cell_type": "markdown",
   "id": "ead4aa44",
   "metadata": {},
   "source": [
    "## Построение дашборда в Tableau Public"
   ]
  },
  {
   "cell_type": "markdown",
   "id": "d1e99872",
   "metadata": {},
   "source": [
    "По согласованному ТЗ был создан дашборд, который опубликован в Tableau Public:  \n",
    "https://public.tableau.com/views/Card_Dash_for_studies/Dashboard1?:language=en-US&publish=yes&:display_count=n&:origin=viz_share_link"
   ]
  },
  {
   "cell_type": "markdown",
   "id": "558471c1",
   "metadata": {},
   "source": [
    "## Создание презентации для менеджеров"
   ]
  },
  {
   "cell_type": "markdown",
   "id": "9bc159db",
   "metadata": {},
   "source": [
    "Для менеджеров была создана презентация, которую можно посмотреть здесь:  \n",
    "https://drive.google.com/file/d/1E3X2OxoehqNbIVIjuxDHuMOb3HAI5Dcj/view?usp=sharing"
   ]
  }
 ],
 "metadata": {
  "kernelspec": {
   "display_name": "Python 3 (ipykernel)",
   "language": "python",
   "name": "python3"
  },
  "language_info": {
   "codemirror_mode": {
    "name": "ipython",
    "version": 3
   },
   "file_extension": ".py",
   "mimetype": "text/x-python",
   "name": "python",
   "nbconvert_exporter": "python",
   "pygments_lexer": "ipython3",
   "version": "3.9.13"
  },
  "toc": {
   "base_numbering": 1,
   "nav_menu": {
    "height": "129px",
    "width": "261px"
   },
   "number_sections": true,
   "sideBar": true,
   "skip_h1_title": true,
   "title_cell": "Содержание",
   "title_sidebar": "Содержание",
   "toc_cell": true,
   "toc_position": {
    "height": "749px",
    "left": "49px",
    "top": "191px",
    "width": "384px"
   },
   "toc_section_display": true,
   "toc_window_display": true
  },
  "varInspector": {
   "cols": {
    "lenName": 16,
    "lenType": 16,
    "lenVar": 40
   },
   "kernels_config": {
    "python": {
     "delete_cmd_postfix": "",
     "delete_cmd_prefix": "del ",
     "library": "var_list.py",
     "varRefreshCmd": "print(var_dic_list())"
    },
    "r": {
     "delete_cmd_postfix": ") ",
     "delete_cmd_prefix": "rm(",
     "library": "var_list.r",
     "varRefreshCmd": "cat(var_dic_list()) "
    }
   },
   "types_to_exclude": [
    "module",
    "function",
    "builtin_function_or_method",
    "instance",
    "_Feature"
   ],
   "window_display": false
  }
 },
 "nbformat": 4,
 "nbformat_minor": 5
}
