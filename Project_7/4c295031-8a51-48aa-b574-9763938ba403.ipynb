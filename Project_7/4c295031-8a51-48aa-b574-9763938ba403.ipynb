{
 "cells": [
  {
   "cell_type": "markdown",
   "metadata": {},
   "source": [
    "Привет Илья :) Меня зовут Семенюк Артём, я буду проверять твой проект. Предлагаю общаться на \"ты\",\n",
    "если так не очень комфортно, то перейдём на \"Вы\". \n",
    "Несколько слов о ревью. Оно может содержать 3 типа комментариев, различающихся цветом:\n",
    "\n",
    "<div class=\"alert alert-success\">\n",
    "✅Зелёный: хорошие решения и верные выводы, которые могут быть применены в будущем, интересные подходы\n",
    "</div>\n",
    "\n",
    "\n",
    "<div class=\"alert alert-warning\">\n",
    "⚠️Жёлтый: не критические замечания тех моментов, которые можно реализовать по-другому или оптимировать (исправлять их сейчас не обязательно, но стоит прокомментировать) \n",
    "</div>\n",
    "\n",
    "\n",
    "<div class=\"alert alert-danger\">\n",
    "❌Красный: аспекты заданий,фтребующие твоего непосредственного внимания (при их исправлении\n",
    "проект будет принят)\n",
    "</div>\n",
    "\n",
    "\n",
    "Предлагаю работать над проектом в диалоге. Если что-то меняешь в проекте следуя моим рекомендациям, то\n",
    "выделяй, пожалуйста, свои комментарии, отличным от моих цветом. И так же большая просьба\n",
    "не изменять и не удалять мои комментарии. Так будет проще отслеживать изменения в проекте\n",
    "и это ускорит повторную проверку :)"
   ]
  },
  {
   "cell_type": "markdown",
   "metadata": {},
   "source": [
    "<div style=\"border:solid blue 2px; padding: 20px\">\n",
    "<div class=\"alert alert-info\"> <b>Комментарий студента:</b> \n",
    "Привет. Давай посмотрим что вышло.</div>"
   ]
  },
  {
   "cell_type": "markdown",
   "metadata": {
    "toc": true
   },
   "source": [
    "<h1>Содержание<span class=\"tocSkip\"></span></h1>\n",
    "<div class=\"toc\"><ul class=\"toc-item\"><li><span><a href=\"#Изучение-и-подготовка-данных\" data-toc-modified-id=\"Изучение-и-подготовка-данных-1\"><span class=\"toc-item-num\">1&nbsp;&nbsp;</span>Изучение и подготовка данных</a></span><ul class=\"toc-item\"><li><span><a href=\"#Выводы-из-обзора\" data-toc-modified-id=\"Выводы-из-обзора-1.1\"><span class=\"toc-item-num\">1.1&nbsp;&nbsp;</span>Выводы из обзора</a></span></li></ul></li><li><span><a href=\"#Приоритезация-гипотез\" data-toc-modified-id=\"Приоритезация-гипотез-2\"><span class=\"toc-item-num\">2&nbsp;&nbsp;</span>Приоритезация гипотез</a></span><ul class=\"toc-item\"><li><span><a href=\"#Вывод\" data-toc-modified-id=\"Вывод-2.1\"><span class=\"toc-item-num\">2.1&nbsp;&nbsp;</span>Вывод</a></span></li></ul></li><li><span><a href=\"#Анализ-A/B-теста\" data-toc-modified-id=\"Анализ-A/B-теста-3\"><span class=\"toc-item-num\">3&nbsp;&nbsp;</span>Анализ A/B теста</a></span><ul class=\"toc-item\"><li><span><a href=\"#Проверка-групп\" data-toc-modified-id=\"Проверка-групп-3.1\"><span class=\"toc-item-num\">3.1&nbsp;&nbsp;</span>Проверка групп</a></span></li><li><span><a href=\"#Подготовка-данных-к-анализу\" data-toc-modified-id=\"Подготовка-данных-к-анализу-3.2\"><span class=\"toc-item-num\">3.2&nbsp;&nbsp;</span>Подготовка данных к анализу</a></span></li><li><span><a href=\"#Построение-графика-кумулятивной-выручки\" data-toc-modified-id=\"Построение-графика-кумулятивной-выручки-3.3\"><span class=\"toc-item-num\">3.3&nbsp;&nbsp;</span>Построение графика кумулятивной выручки</a></span></li><li><span><a href=\"#Построение-графика-кумулятивного-среднего-чека\" data-toc-modified-id=\"Построение-графика-кумулятивного-среднего-чека-3.4\"><span class=\"toc-item-num\">3.4&nbsp;&nbsp;</span>Построение графика кумулятивного среднего чека</a></span></li><li><span><a href=\"#Построение-графика-относительного-изменения-кумулятивного-среднего-чека\" data-toc-modified-id=\"Построение-графика-относительного-изменения-кумулятивного-среднего-чека-3.5\"><span class=\"toc-item-num\">3.5&nbsp;&nbsp;</span>Построение графика относительного изменения кумулятивного среднего чека</a></span></li><li><span><a href=\"#Построение-графика-кумулятивной-конверсии\" data-toc-modified-id=\"Построение-графика-кумулятивной-конверсии-3.6\"><span class=\"toc-item-num\">3.6&nbsp;&nbsp;</span>Построение графика кумулятивной конверсии</a></span></li><li><span><a href=\"#Построение-графика-относительного-изменения-кумулятивной-конверсии\" data-toc-modified-id=\"Построение-графика-относительного-изменения-кумулятивной-конверсии-3.7\"><span class=\"toc-item-num\">3.7&nbsp;&nbsp;</span>Построение графика относительного изменения кумулятивной конверсии</a></span></li><li><span><a href=\"#Построение-точечного-графика-количества-заказов-по-пользователям\" data-toc-modified-id=\"Построение-точечного-графика-количества-заказов-по-пользователям-3.8\"><span class=\"toc-item-num\">3.8&nbsp;&nbsp;</span>Построение точечного графика количества заказов по пользователям</a></span></li><li><span><a href=\"#Расчет-95го-и-99го-перцентиля-количества-заказов\" data-toc-modified-id=\"Расчет-95го-и-99го-перцентиля-количества-заказов-3.9\"><span class=\"toc-item-num\">3.9&nbsp;&nbsp;</span>Расчет 95го и 99го перцентиля количества заказов</a></span></li><li><span><a href=\"#Построение-точечного-графика-стоимости-заказов\" data-toc-modified-id=\"Построение-точечного-графика-стоимости-заказов-3.10\"><span class=\"toc-item-num\">3.10&nbsp;&nbsp;</span>Построение точечного графика стоимости заказов</a></span></li><li><span><a href=\"#Расчет-95го-и-99го-перцентиля-стоимости-заказов\" data-toc-modified-id=\"Расчет-95го-и-99го-перцентиля-стоимости-заказов-3.11\"><span class=\"toc-item-num\">3.11&nbsp;&nbsp;</span>Расчет 95го и 99го перцентиля стоимости заказов</a></span></li><li><span><a href=\"#Расчет-статзначимости-различий-в-конверсии-по-сырым-данным\" data-toc-modified-id=\"Расчет-статзначимости-различий-в-конверсии-по-сырым-данным-3.12\"><span class=\"toc-item-num\">3.12&nbsp;&nbsp;</span>Расчет статзначимости различий в конверсии по сырым данным</a></span></li><li><span><a href=\"#Расчет-статзначимости-различий-в-среднем-чеке-по-сырым-данным\" data-toc-modified-id=\"Расчет-статзначимости-различий-в-среднем-чеке-по-сырым-данным-3.13\"><span class=\"toc-item-num\">3.13&nbsp;&nbsp;</span>Расчет статзначимости различий в среднем чеке по сырым данным</a></span></li><li><span><a href=\"#Расчет-статзначимости-различий-в-конверсии-по-очищенным-данным\" data-toc-modified-id=\"Расчет-статзначимости-различий-в-конверсии-по-очищенным-данным-3.14\"><span class=\"toc-item-num\">3.14&nbsp;&nbsp;</span>Расчет статзначимости различий в конверсии по очищенным данным</a></span></li><li><span><a href=\"#Расчет-статзначимости-различий-в-среднем-чеке-по-очищенным-данным\" data-toc-modified-id=\"Расчет-статзначимости-различий-в-среднем-чеке-по-очищенным-данным-3.15\"><span class=\"toc-item-num\">3.15&nbsp;&nbsp;</span>Расчет статзначимости различий в среднем чеке по очищенным данным</a></span></li><li><span><a href=\"#Построение-кумулятивных-графиков-по-очищенным-данным\" data-toc-modified-id=\"Построение-кумулятивных-графиков-по-очищенным-данным-3.16\"><span class=\"toc-item-num\">3.16&nbsp;&nbsp;</span>Построение кумулятивных графиков по очищенным данным</a></span></li></ul></li><li><span><a href=\"#Выводы\" data-toc-modified-id=\"Выводы-4\"><span class=\"toc-item-num\">4&nbsp;&nbsp;</span>Выводы</a></span></li></ul></div>"
   ]
  },
  {
   "cell_type": "markdown",
   "metadata": {},
   "source": [
    "# Проведение и анализ A/B-теста"
   ]
  },
  {
   "cell_type": "markdown",
   "metadata": {},
   "source": [
    "В данном проекте описана приоритезация заранее подготовленных гипотез (представлены в файле `hypothesis`), проведение А/В-теста по выбранной гипотезе и анализ проведенного теста.  \n",
    "В интернет-магазине совместно с макетологами были подготовлены гипотезы для увеличения выручки.  \n",
    "Были приоритизированы эти гипотезы (описано в разделе 1), по выбранной наиболее приоритетной запущен A/B-тест (за запуском следили коллеги).  \n",
    "Результаты A/B-теста были собраны в файлы `orders` и `visits`. Наша задача - проанилизировать результаты теста.\n",
    "\n",
    "**Цель теста:** проверить, увеличивает ли выбранная гипотеза выручку.  \n",
    "\n",
    "**Ход теста:**\n",
    "1. Приоритизация гипотез по RICE и ICE.\n",
    "2. Анализ результатов теста.\n",
    "\n",
    "**Описание данных:**  \n",
    "1. Гипотезы (файл hypothesis.csv):\n",
    "    - `Hypothesis` — краткое описание гипотезы;\n",
    "    - `Reach` — охват пользователей по 10-балльной шкале;\n",
    "    - `Impact` — влияние на пользователей по 10-балльной шкале;\n",
    "    - `Confidence` — уверенность в гипотезе по 10-балльной шкале;\n",
    "    - `Efforts` — затраты ресурсов на проверку гипотезы по 10-балльной шкале. Чем больше значение, тем дороже проверка гипотезы.\n",
    "2. Заказы по результатам теста (файл orders.csv):\n",
    "    - `transactionId` — идентификатор заказа;\n",
    "    - `visitorId` — идентификатор пользователя, совершившего заказ;\n",
    "    - `date`— дата, когда был совершён заказ;\n",
    "    - `revenue` — выручка заказа;\n",
    "    - `group` — группа A/B-теста, в которую попал заказ.\n",
    "3. Визиты по результатам теста (файл visitors.csv):\n",
    "    - `date` — дата;\n",
    "    - `group` — группа A/B-теста;\n",
    "    - `visitors` — количество пользователей в указанную дату в указанной группе A/B-теста"
   ]
  },
  {
   "cell_type": "markdown",
   "metadata": {},
   "source": [
    "## Изучение и подготовка данных"
   ]
  },
  {
   "cell_type": "code",
   "execution_count": 1,
   "metadata": {},
   "outputs": [],
   "source": [
    "# Импортируем используемые библиотеки\n",
    "import pandas as pd\n",
    "import os\n",
    "import matplotlib.pyplot as plt\n",
    "import seaborn as sns\n",
    "import numpy as np\n",
    "import datetime as dt\n",
    "import scipy.stats as stats\n",
    "\n",
    "# Устанавливаем размер всех графиков\n",
    "plt.rcParams[\"figure.figsize\"] = (12,8)"
   ]
  },
  {
   "cell_type": "markdown",
   "metadata": {},
   "source": [
    "<div style=\"border:solid blue 2px; padding: 20px\">\n",
    "<div class=\"alert alert-info\"> <b>Комментарий студента:</b> \n",
    "Добавил сюда установку размера графиков, чтобы сократить код построения</div>"
   ]
  },
  {
   "cell_type": "code",
   "execution_count": 2,
   "metadata": {},
   "outputs": [],
   "source": [
    "# Открываем датасеты. Для двух версий работы с проектом - две версии открытия сетов.\n",
    "\n",
    "# Создаем локальные пути.\n",
    "path_hypothesis = 'hypothesis.csv'\n",
    "path_visitors = 'visitors.csv'\n",
    "path_orders = 'orders.csv'\n",
    "\n",
    "# Создаем путь для удаленной папки.\n",
    "path_remote = '/datasets/'\n",
    "\n",
    "# Проверяя наличие путей к файлам, открываем датасеты.\n",
    "if os.path.exists(path_hypothesis):\n",
    "    hypothesis = pd.read_csv(path_hypothesis)\n",
    "    visitors = pd.read_csv(path_visitors)\n",
    "    orders = pd.read_csv(path_orders)\n",
    "elif os.path.exists(path_remote + path_hypothesis):\n",
    "    hypothesis = pd.read_csv(path_remote + path_hypothesis)\n",
    "    visitors = pd.read_csv(path_remote + path_visitors)\n",
    "    orders = pd.read_csv(path_remote + path_orders)\n",
    "else:\n",
    "    print('Someting wrong')"
   ]
  },
  {
   "cell_type": "code",
   "execution_count": 3,
   "metadata": {},
   "outputs": [],
   "source": [
    "# Увеличиваем ширину столбца до 120 пикселей, \n",
    "# чтобы были видны столбцы целиком\n",
    "pd.options.display.max_colwidth = 120"
   ]
  },
  {
   "cell_type": "code",
   "execution_count": 4,
   "metadata": {
    "scrolled": false
   },
   "outputs": [
    {
     "name": "stdout",
     "output_type": "stream",
     "text": [
      "--------------------------------------------------------------------------------\n",
      "<class 'pandas.core.frame.DataFrame'>\n",
      "RangeIndex: 9 entries, 0 to 8\n",
      "Data columns (total 5 columns):\n",
      " #   Column      Non-Null Count  Dtype \n",
      "---  ------      --------------  ----- \n",
      " 0   Hypothesis  9 non-null      object\n",
      " 1   Reach       9 non-null      int64 \n",
      " 2   Impact      9 non-null      int64 \n",
      " 3   Confidence  9 non-null      int64 \n",
      " 4   Efforts     9 non-null      int64 \n",
      "dtypes: int64(4), object(1)\n",
      "memory usage: 488.0+ bytes\n"
     ]
    },
    {
     "data": {
      "text/plain": [
       "None"
      ]
     },
     "metadata": {},
     "output_type": "display_data"
    },
    {
     "data": {
      "text/html": [
       "<div>\n",
       "<style scoped>\n",
       "    .dataframe tbody tr th:only-of-type {\n",
       "        vertical-align: middle;\n",
       "    }\n",
       "\n",
       "    .dataframe tbody tr th {\n",
       "        vertical-align: top;\n",
       "    }\n",
       "\n",
       "    .dataframe thead th {\n",
       "        text-align: right;\n",
       "    }\n",
       "</style>\n",
       "<table border=\"1\" class=\"dataframe\">\n",
       "  <thead>\n",
       "    <tr style=\"text-align: right;\">\n",
       "      <th></th>\n",
       "      <th>Hypothesis</th>\n",
       "      <th>Reach</th>\n",
       "      <th>Impact</th>\n",
       "      <th>Confidence</th>\n",
       "      <th>Efforts</th>\n",
       "    </tr>\n",
       "  </thead>\n",
       "  <tbody>\n",
       "    <tr>\n",
       "      <th>0</th>\n",
       "      <td>Добавить два новых канала привлечения трафика, что позволит привлекать на 30% больше пользователей</td>\n",
       "      <td>3</td>\n",
       "      <td>10</td>\n",
       "      <td>8</td>\n",
       "      <td>6</td>\n",
       "    </tr>\n",
       "    <tr>\n",
       "      <th>1</th>\n",
       "      <td>Запустить собственную службу доставки, что сократит срок доставки заказов</td>\n",
       "      <td>2</td>\n",
       "      <td>5</td>\n",
       "      <td>4</td>\n",
       "      <td>10</td>\n",
       "    </tr>\n",
       "    <tr>\n",
       "      <th>2</th>\n",
       "      <td>Добавить блоки рекомендаций товаров на сайт интернет магазина, чтобы повысить конверсию и средний чек заказа</td>\n",
       "      <td>8</td>\n",
       "      <td>3</td>\n",
       "      <td>7</td>\n",
       "      <td>3</td>\n",
       "    </tr>\n",
       "    <tr>\n",
       "      <th>3</th>\n",
       "      <td>Изменить структура категорий, что увеличит конверсию, т.к. пользователи быстрее найдут нужный товар</td>\n",
       "      <td>8</td>\n",
       "      <td>3</td>\n",
       "      <td>3</td>\n",
       "      <td>8</td>\n",
       "    </tr>\n",
       "    <tr>\n",
       "      <th>4</th>\n",
       "      <td>Изменить цвет фона главной страницы, чтобы увеличить вовлеченность пользователей</td>\n",
       "      <td>3</td>\n",
       "      <td>1</td>\n",
       "      <td>1</td>\n",
       "      <td>1</td>\n",
       "    </tr>\n",
       "  </tbody>\n",
       "</table>\n",
       "</div>"
      ],
      "text/plain": [
       "                                                                                                     Hypothesis  \\\n",
       "0            Добавить два новых канала привлечения трафика, что позволит привлекать на 30% больше пользователей   \n",
       "1                                     Запустить собственную службу доставки, что сократит срок доставки заказов   \n",
       "2  Добавить блоки рекомендаций товаров на сайт интернет магазина, чтобы повысить конверсию и средний чек заказа   \n",
       "3           Изменить структура категорий, что увеличит конверсию, т.к. пользователи быстрее найдут нужный товар   \n",
       "4                              Изменить цвет фона главной страницы, чтобы увеличить вовлеченность пользователей   \n",
       "\n",
       "   Reach  Impact  Confidence  Efforts  \n",
       "0      3      10           8        6  \n",
       "1      2       5           4       10  \n",
       "2      8       3           7        3  \n",
       "3      8       3           3        8  \n",
       "4      3       1           1        1  "
      ]
     },
     "metadata": {},
     "output_type": "display_data"
    },
    {
     "data": {
      "text/html": [
       "<div>\n",
       "<style scoped>\n",
       "    .dataframe tbody tr th:only-of-type {\n",
       "        vertical-align: middle;\n",
       "    }\n",
       "\n",
       "    .dataframe tbody tr th {\n",
       "        vertical-align: top;\n",
       "    }\n",
       "\n",
       "    .dataframe thead th {\n",
       "        text-align: right;\n",
       "    }\n",
       "</style>\n",
       "<table border=\"1\" class=\"dataframe\">\n",
       "  <thead>\n",
       "    <tr style=\"text-align: right;\">\n",
       "      <th></th>\n",
       "      <th>Hypothesis</th>\n",
       "      <th>Reach</th>\n",
       "      <th>Impact</th>\n",
       "      <th>Confidence</th>\n",
       "      <th>Efforts</th>\n",
       "    </tr>\n",
       "  </thead>\n",
       "  <tbody>\n",
       "    <tr>\n",
       "      <th>4</th>\n",
       "      <td>Изменить цвет фона главной страницы, чтобы увеличить вовлеченность пользователей</td>\n",
       "      <td>3</td>\n",
       "      <td>1</td>\n",
       "      <td>1</td>\n",
       "      <td>1</td>\n",
       "    </tr>\n",
       "    <tr>\n",
       "      <th>5</th>\n",
       "      <td>Добавить страницу отзывов клиентов о магазине, что позволит увеличить количество заказов</td>\n",
       "      <td>3</td>\n",
       "      <td>2</td>\n",
       "      <td>2</td>\n",
       "      <td>3</td>\n",
       "    </tr>\n",
       "    <tr>\n",
       "      <th>6</th>\n",
       "      <td>Показать на главной странице баннеры с актуальными акциями и распродажами, чтобы увеличить конверсию</td>\n",
       "      <td>5</td>\n",
       "      <td>3</td>\n",
       "      <td>8</td>\n",
       "      <td>3</td>\n",
       "    </tr>\n",
       "    <tr>\n",
       "      <th>7</th>\n",
       "      <td>Добавить форму подписки на все основные страницы, чтобы собрать базу клиентов для email-рассылок</td>\n",
       "      <td>10</td>\n",
       "      <td>7</td>\n",
       "      <td>8</td>\n",
       "      <td>5</td>\n",
       "    </tr>\n",
       "    <tr>\n",
       "      <th>8</th>\n",
       "      <td>Запустить акцию, дающую скидку на товар в день рождения</td>\n",
       "      <td>1</td>\n",
       "      <td>9</td>\n",
       "      <td>9</td>\n",
       "      <td>5</td>\n",
       "    </tr>\n",
       "  </tbody>\n",
       "</table>\n",
       "</div>"
      ],
      "text/plain": [
       "                                                                                             Hypothesis  \\\n",
       "4                      Изменить цвет фона главной страницы, чтобы увеличить вовлеченность пользователей   \n",
       "5              Добавить страницу отзывов клиентов о магазине, что позволит увеличить количество заказов   \n",
       "6  Показать на главной странице баннеры с актуальными акциями и распродажами, чтобы увеличить конверсию   \n",
       "7      Добавить форму подписки на все основные страницы, чтобы собрать базу клиентов для email-рассылок   \n",
       "8                                               Запустить акцию, дающую скидку на товар в день рождения   \n",
       "\n",
       "   Reach  Impact  Confidence  Efforts  \n",
       "4      3       1           1        1  \n",
       "5      3       2           2        3  \n",
       "6      5       3           8        3  \n",
       "7     10       7           8        5  \n",
       "8      1       9           9        5  "
      ]
     },
     "metadata": {},
     "output_type": "display_data"
    },
    {
     "name": "stdout",
     "output_type": "stream",
     "text": [
      "--------------------------------------------------------------------------------\n",
      "Hypothesis : кол-во NaN 0 , процент NaN 0.0 %\n",
      "--------------------------------------------------------------------------------\n",
      "Reach : кол-во NaN 0 , процент NaN 0.0 %\n",
      "--------------------------------------------------------------------------------\n",
      "Impact : кол-во NaN 0 , процент NaN 0.0 %\n",
      "--------------------------------------------------------------------------------\n",
      "Confidence : кол-во NaN 0 , процент NaN 0.0 %\n",
      "--------------------------------------------------------------------------------\n",
      "Efforts : кол-во NaN 0 , процент NaN 0.0 %\n",
      "--------------------------------------------------------------------------------\n",
      "Кол-во дубликатов 0 , процент дубликатов 0.0 %\n",
      "--------------------------------------------------------------------------------\n",
      "<class 'pandas.core.frame.DataFrame'>\n",
      "RangeIndex: 62 entries, 0 to 61\n",
      "Data columns (total 3 columns):\n",
      " #   Column    Non-Null Count  Dtype \n",
      "---  ------    --------------  ----- \n",
      " 0   date      62 non-null     object\n",
      " 1   group     62 non-null     object\n",
      " 2   visitors  62 non-null     int64 \n",
      "dtypes: int64(1), object(2)\n",
      "memory usage: 1.6+ KB\n"
     ]
    },
    {
     "data": {
      "text/plain": [
       "None"
      ]
     },
     "metadata": {},
     "output_type": "display_data"
    },
    {
     "data": {
      "text/html": [
       "<div>\n",
       "<style scoped>\n",
       "    .dataframe tbody tr th:only-of-type {\n",
       "        vertical-align: middle;\n",
       "    }\n",
       "\n",
       "    .dataframe tbody tr th {\n",
       "        vertical-align: top;\n",
       "    }\n",
       "\n",
       "    .dataframe thead th {\n",
       "        text-align: right;\n",
       "    }\n",
       "</style>\n",
       "<table border=\"1\" class=\"dataframe\">\n",
       "  <thead>\n",
       "    <tr style=\"text-align: right;\">\n",
       "      <th></th>\n",
       "      <th>date</th>\n",
       "      <th>group</th>\n",
       "      <th>visitors</th>\n",
       "    </tr>\n",
       "  </thead>\n",
       "  <tbody>\n",
       "    <tr>\n",
       "      <th>0</th>\n",
       "      <td>2019-08-01</td>\n",
       "      <td>A</td>\n",
       "      <td>719</td>\n",
       "    </tr>\n",
       "    <tr>\n",
       "      <th>1</th>\n",
       "      <td>2019-08-02</td>\n",
       "      <td>A</td>\n",
       "      <td>619</td>\n",
       "    </tr>\n",
       "    <tr>\n",
       "      <th>2</th>\n",
       "      <td>2019-08-03</td>\n",
       "      <td>A</td>\n",
       "      <td>507</td>\n",
       "    </tr>\n",
       "    <tr>\n",
       "      <th>3</th>\n",
       "      <td>2019-08-04</td>\n",
       "      <td>A</td>\n",
       "      <td>717</td>\n",
       "    </tr>\n",
       "    <tr>\n",
       "      <th>4</th>\n",
       "      <td>2019-08-05</td>\n",
       "      <td>A</td>\n",
       "      <td>756</td>\n",
       "    </tr>\n",
       "  </tbody>\n",
       "</table>\n",
       "</div>"
      ],
      "text/plain": [
       "         date group  visitors\n",
       "0  2019-08-01     A       719\n",
       "1  2019-08-02     A       619\n",
       "2  2019-08-03     A       507\n",
       "3  2019-08-04     A       717\n",
       "4  2019-08-05     A       756"
      ]
     },
     "metadata": {},
     "output_type": "display_data"
    },
    {
     "data": {
      "text/html": [
       "<div>\n",
       "<style scoped>\n",
       "    .dataframe tbody tr th:only-of-type {\n",
       "        vertical-align: middle;\n",
       "    }\n",
       "\n",
       "    .dataframe tbody tr th {\n",
       "        vertical-align: top;\n",
       "    }\n",
       "\n",
       "    .dataframe thead th {\n",
       "        text-align: right;\n",
       "    }\n",
       "</style>\n",
       "<table border=\"1\" class=\"dataframe\">\n",
       "  <thead>\n",
       "    <tr style=\"text-align: right;\">\n",
       "      <th></th>\n",
       "      <th>date</th>\n",
       "      <th>group</th>\n",
       "      <th>visitors</th>\n",
       "    </tr>\n",
       "  </thead>\n",
       "  <tbody>\n",
       "    <tr>\n",
       "      <th>57</th>\n",
       "      <td>2019-08-27</td>\n",
       "      <td>B</td>\n",
       "      <td>720</td>\n",
       "    </tr>\n",
       "    <tr>\n",
       "      <th>58</th>\n",
       "      <td>2019-08-28</td>\n",
       "      <td>B</td>\n",
       "      <td>654</td>\n",
       "    </tr>\n",
       "    <tr>\n",
       "      <th>59</th>\n",
       "      <td>2019-08-29</td>\n",
       "      <td>B</td>\n",
       "      <td>531</td>\n",
       "    </tr>\n",
       "    <tr>\n",
       "      <th>60</th>\n",
       "      <td>2019-08-30</td>\n",
       "      <td>B</td>\n",
       "      <td>490</td>\n",
       "    </tr>\n",
       "    <tr>\n",
       "      <th>61</th>\n",
       "      <td>2019-08-31</td>\n",
       "      <td>B</td>\n",
       "      <td>718</td>\n",
       "    </tr>\n",
       "  </tbody>\n",
       "</table>\n",
       "</div>"
      ],
      "text/plain": [
       "          date group  visitors\n",
       "57  2019-08-27     B       720\n",
       "58  2019-08-28     B       654\n",
       "59  2019-08-29     B       531\n",
       "60  2019-08-30     B       490\n",
       "61  2019-08-31     B       718"
      ]
     },
     "metadata": {},
     "output_type": "display_data"
    },
    {
     "name": "stdout",
     "output_type": "stream",
     "text": [
      "--------------------------------------------------------------------------------\n",
      "date : кол-во NaN 0 , процент NaN 0.0 %\n",
      "--------------------------------------------------------------------------------\n",
      "group : кол-во NaN 0 , процент NaN 0.0 %\n",
      "--------------------------------------------------------------------------------\n",
      "visitors : кол-во NaN 0 , процент NaN 0.0 %\n",
      "--------------------------------------------------------------------------------\n",
      "Кол-во дубликатов 0 , процент дубликатов 0.0 %\n",
      "--------------------------------------------------------------------------------\n",
      "<class 'pandas.core.frame.DataFrame'>\n",
      "RangeIndex: 1197 entries, 0 to 1196\n",
      "Data columns (total 5 columns):\n",
      " #   Column         Non-Null Count  Dtype \n",
      "---  ------         --------------  ----- \n",
      " 0   transactionId  1197 non-null   int64 \n",
      " 1   visitorId      1197 non-null   int64 \n",
      " 2   date           1197 non-null   object\n",
      " 3   revenue        1197 non-null   int64 \n",
      " 4   group          1197 non-null   object\n",
      "dtypes: int64(3), object(2)\n",
      "memory usage: 46.9+ KB\n"
     ]
    },
    {
     "data": {
      "text/plain": [
       "None"
      ]
     },
     "metadata": {},
     "output_type": "display_data"
    },
    {
     "data": {
      "text/html": [
       "<div>\n",
       "<style scoped>\n",
       "    .dataframe tbody tr th:only-of-type {\n",
       "        vertical-align: middle;\n",
       "    }\n",
       "\n",
       "    .dataframe tbody tr th {\n",
       "        vertical-align: top;\n",
       "    }\n",
       "\n",
       "    .dataframe thead th {\n",
       "        text-align: right;\n",
       "    }\n",
       "</style>\n",
       "<table border=\"1\" class=\"dataframe\">\n",
       "  <thead>\n",
       "    <tr style=\"text-align: right;\">\n",
       "      <th></th>\n",
       "      <th>transactionId</th>\n",
       "      <th>visitorId</th>\n",
       "      <th>date</th>\n",
       "      <th>revenue</th>\n",
       "      <th>group</th>\n",
       "    </tr>\n",
       "  </thead>\n",
       "  <tbody>\n",
       "    <tr>\n",
       "      <th>0</th>\n",
       "      <td>3667963787</td>\n",
       "      <td>3312258926</td>\n",
       "      <td>2019-08-15</td>\n",
       "      <td>1650</td>\n",
       "      <td>B</td>\n",
       "    </tr>\n",
       "    <tr>\n",
       "      <th>1</th>\n",
       "      <td>2804400009</td>\n",
       "      <td>3642806036</td>\n",
       "      <td>2019-08-15</td>\n",
       "      <td>730</td>\n",
       "      <td>B</td>\n",
       "    </tr>\n",
       "    <tr>\n",
       "      <th>2</th>\n",
       "      <td>2961555356</td>\n",
       "      <td>4069496402</td>\n",
       "      <td>2019-08-15</td>\n",
       "      <td>400</td>\n",
       "      <td>A</td>\n",
       "    </tr>\n",
       "    <tr>\n",
       "      <th>3</th>\n",
       "      <td>3797467345</td>\n",
       "      <td>1196621759</td>\n",
       "      <td>2019-08-15</td>\n",
       "      <td>9759</td>\n",
       "      <td>B</td>\n",
       "    </tr>\n",
       "    <tr>\n",
       "      <th>4</th>\n",
       "      <td>2282983706</td>\n",
       "      <td>2322279887</td>\n",
       "      <td>2019-08-15</td>\n",
       "      <td>2308</td>\n",
       "      <td>B</td>\n",
       "    </tr>\n",
       "  </tbody>\n",
       "</table>\n",
       "</div>"
      ],
      "text/plain": [
       "   transactionId   visitorId        date  revenue group\n",
       "0     3667963787  3312258926  2019-08-15     1650     B\n",
       "1     2804400009  3642806036  2019-08-15      730     B\n",
       "2     2961555356  4069496402  2019-08-15      400     A\n",
       "3     3797467345  1196621759  2019-08-15     9759     B\n",
       "4     2282983706  2322279887  2019-08-15     2308     B"
      ]
     },
     "metadata": {},
     "output_type": "display_data"
    },
    {
     "data": {
      "text/html": [
       "<div>\n",
       "<style scoped>\n",
       "    .dataframe tbody tr th:only-of-type {\n",
       "        vertical-align: middle;\n",
       "    }\n",
       "\n",
       "    .dataframe tbody tr th {\n",
       "        vertical-align: top;\n",
       "    }\n",
       "\n",
       "    .dataframe thead th {\n",
       "        text-align: right;\n",
       "    }\n",
       "</style>\n",
       "<table border=\"1\" class=\"dataframe\">\n",
       "  <thead>\n",
       "    <tr style=\"text-align: right;\">\n",
       "      <th></th>\n",
       "      <th>transactionId</th>\n",
       "      <th>visitorId</th>\n",
       "      <th>date</th>\n",
       "      <th>revenue</th>\n",
       "      <th>group</th>\n",
       "    </tr>\n",
       "  </thead>\n",
       "  <tbody>\n",
       "    <tr>\n",
       "      <th>1192</th>\n",
       "      <td>2662137336</td>\n",
       "      <td>3733762160</td>\n",
       "      <td>2019-08-14</td>\n",
       "      <td>6490</td>\n",
       "      <td>B</td>\n",
       "    </tr>\n",
       "    <tr>\n",
       "      <th>1193</th>\n",
       "      <td>2203539145</td>\n",
       "      <td>370388673</td>\n",
       "      <td>2019-08-14</td>\n",
       "      <td>3190</td>\n",
       "      <td>A</td>\n",
       "    </tr>\n",
       "    <tr>\n",
       "      <th>1194</th>\n",
       "      <td>1807773912</td>\n",
       "      <td>573423106</td>\n",
       "      <td>2019-08-14</td>\n",
       "      <td>10550</td>\n",
       "      <td>A</td>\n",
       "    </tr>\n",
       "    <tr>\n",
       "      <th>1195</th>\n",
       "      <td>1947021204</td>\n",
       "      <td>1614305549</td>\n",
       "      <td>2019-08-14</td>\n",
       "      <td>100</td>\n",
       "      <td>A</td>\n",
       "    </tr>\n",
       "    <tr>\n",
       "      <th>1196</th>\n",
       "      <td>3936777065</td>\n",
       "      <td>2108080724</td>\n",
       "      <td>2019-08-15</td>\n",
       "      <td>202740</td>\n",
       "      <td>B</td>\n",
       "    </tr>\n",
       "  </tbody>\n",
       "</table>\n",
       "</div>"
      ],
      "text/plain": [
       "      transactionId   visitorId        date  revenue group\n",
       "1192     2662137336  3733762160  2019-08-14     6490     B\n",
       "1193     2203539145   370388673  2019-08-14     3190     A\n",
       "1194     1807773912   573423106  2019-08-14    10550     A\n",
       "1195     1947021204  1614305549  2019-08-14      100     A\n",
       "1196     3936777065  2108080724  2019-08-15   202740     B"
      ]
     },
     "metadata": {},
     "output_type": "display_data"
    },
    {
     "name": "stdout",
     "output_type": "stream",
     "text": [
      "--------------------------------------------------------------------------------\n",
      "transactionId : кол-во NaN 0 , процент NaN 0.0 %\n",
      "--------------------------------------------------------------------------------\n",
      "visitorId : кол-во NaN 0 , процент NaN 0.0 %\n",
      "--------------------------------------------------------------------------------\n",
      "date : кол-во NaN 0 , процент NaN 0.0 %\n",
      "--------------------------------------------------------------------------------\n",
      "revenue : кол-во NaN 0 , процент NaN 0.0 %\n",
      "--------------------------------------------------------------------------------\n",
      "group : кол-во NaN 0 , процент NaN 0.0 %\n",
      "--------------------------------------------------------------------------------\n",
      "Кол-во дубликатов 0 , процент дубликатов 0.0 %\n"
     ]
    }
   ],
   "source": [
    "# Создадим итеративный список наших фреймов\n",
    "list_tbl = [hypothesis, visitors, orders]\n",
    "# Пройдемся по каждому фрейму и выведем общую информацию\n",
    "for tbl in list_tbl:\n",
    "    print('-'* 80)\n",
    "    temp = tbl.copy() \n",
    "    display(temp.info(), temp.head(), temp.tail())\n",
    "    for col_l in temp.columns:\n",
    "        print('-'* 80)\n",
    "        print(col_l,': кол-во NaN',temp[col_l].isna().sum(),\n",
    "            ', процент NaN', round(temp[col_l].isna().sum()/len(temp)*100, 2),'%')\n",
    "    print('-'* 80)\n",
    "    print('Кол-во дубликатов',temp.duplicated().sum(),\n",
    "        ', процент дубликатов', round(temp.duplicated().sum()/len(temp)*100, 2),'%')"
   ]
  },
  {
   "cell_type": "markdown",
   "metadata": {},
   "source": [
    "По названию столбцов в сете hypothesis видно использование верхнего регистра в начале, исправим это."
   ]
  },
  {
   "cell_type": "code",
   "execution_count": 5,
   "metadata": {},
   "outputs": [
    {
     "data": {
      "text/plain": [
       "Index(['hypothesis', 'reach', 'impact', 'confidence', 'efforts'], dtype='object')"
      ]
     },
     "execution_count": 5,
     "metadata": {},
     "output_type": "execute_result"
    }
   ],
   "source": [
    "# Приведем к нижнему регистру.\n",
    "hypothesis.columns = hypothesis.columns.str.lower()\n",
    "# Проверим.\n",
    "hypothesis.columns"
   ]
  },
  {
   "cell_type": "markdown",
   "metadata": {},
   "source": [
    "Во всех столбцах с датой дату необходимо привести к типу datetime."
   ]
  },
  {
   "cell_type": "code",
   "execution_count": 6,
   "metadata": {},
   "outputs": [
    {
     "name": "stdout",
     "output_type": "stream",
     "text": [
      "<class 'pandas.core.frame.DataFrame'>\n",
      "RangeIndex: 62 entries, 0 to 61\n",
      "Data columns (total 3 columns):\n",
      " #   Column    Non-Null Count  Dtype         \n",
      "---  ------    --------------  -----         \n",
      " 0   date      62 non-null     datetime64[ns]\n",
      " 1   group     62 non-null     object        \n",
      " 2   visitors  62 non-null     int64         \n",
      "dtypes: datetime64[ns](1), int64(1), object(1)\n",
      "memory usage: 1.6+ KB\n",
      "<class 'pandas.core.frame.DataFrame'>\n",
      "RangeIndex: 1197 entries, 0 to 1196\n",
      "Data columns (total 5 columns):\n",
      " #   Column         Non-Null Count  Dtype         \n",
      "---  ------         --------------  -----         \n",
      " 0   transactionId  1197 non-null   int64         \n",
      " 1   visitorId      1197 non-null   int64         \n",
      " 2   date           1197 non-null   datetime64[ns]\n",
      " 3   revenue        1197 non-null   int64         \n",
      " 4   group          1197 non-null   object        \n",
      "dtypes: datetime64[ns](1), int64(3), object(1)\n",
      "memory usage: 46.9+ KB\n"
     ]
    },
    {
     "data": {
      "text/plain": [
       "None"
      ]
     },
     "metadata": {},
     "output_type": "display_data"
    },
    {
     "data": {
      "text/plain": [
       "None"
      ]
     },
     "metadata": {},
     "output_type": "display_data"
    }
   ],
   "source": [
    "visitors['date'] = visitors['date'].map(lambda x: dt.datetime.strptime(x, '%Y-%m-%d'))\n",
    "orders['date'] = orders['date'].map(lambda x: dt.datetime.strptime(x, '%Y-%m-%d'))\n",
    "\n",
    "# Проверяем типы.\n",
    "display(visitors.info(), orders.info())"
   ]
  },
  {
   "cell_type": "markdown",
   "metadata": {},
   "source": [
    "### Выводы из обзора"
   ]
  },
  {
   "cell_type": "markdown",
   "metadata": {},
   "source": [
    "1. Пропусков и полных дубликатов во всех сетах нет.\n",
    "2. Типы полей соответствуют содержащейся в них информации (поля date приведены к типу datetime).\n",
    "3. Названия столбцов в таблице гипотез приведены к общепринятому."
   ]
  },
  {
   "cell_type": "markdown",
   "metadata": {},
   "source": [
    "<div class=\"alert alert-block alert-success\">✅ <b>Комментарий ревьюера:</b> Полезная функция для ознакомления с данными. Хорошая работа :)\n",
    "</div>"
   ]
  },
  {
   "cell_type": "markdown",
   "metadata": {},
   "source": [
    "## Приоритезация гипотез"
   ]
  },
  {
   "cell_type": "markdown",
   "metadata": {},
   "source": [
    "Применим два подхода к приоритезацию гипотез: ICE и RICE. Добавим два столбца с оценками по ICE и RICE соответственно. Отсортируем таблицу по оценкам."
   ]
  },
  {
   "cell_type": "code",
   "execution_count": 7,
   "metadata": {},
   "outputs": [
    {
     "name": "stdout",
     "output_type": "stream",
     "text": [
      "============================================= Приоритезация гипотез по ICE =============================================\n"
     ]
    },
    {
     "data": {
      "text/html": [
       "<div>\n",
       "<style scoped>\n",
       "    .dataframe tbody tr th:only-of-type {\n",
       "        vertical-align: middle;\n",
       "    }\n",
       "\n",
       "    .dataframe tbody tr th {\n",
       "        vertical-align: top;\n",
       "    }\n",
       "\n",
       "    .dataframe thead th {\n",
       "        text-align: right;\n",
       "    }\n",
       "</style>\n",
       "<table border=\"1\" class=\"dataframe\">\n",
       "  <thead>\n",
       "    <tr style=\"text-align: right;\">\n",
       "      <th></th>\n",
       "      <th>hypothesis</th>\n",
       "      <th>reach</th>\n",
       "      <th>impact</th>\n",
       "      <th>confidence</th>\n",
       "      <th>efforts</th>\n",
       "      <th>iceScore</th>\n",
       "      <th>riceScore</th>\n",
       "    </tr>\n",
       "  </thead>\n",
       "  <tbody>\n",
       "    <tr>\n",
       "      <th>8</th>\n",
       "      <td>Запустить акцию, дающую скидку на товар в день рождения</td>\n",
       "      <td>1</td>\n",
       "      <td>9</td>\n",
       "      <td>9</td>\n",
       "      <td>5</td>\n",
       "      <td>16.200000</td>\n",
       "      <td>16.2</td>\n",
       "    </tr>\n",
       "    <tr>\n",
       "      <th>0</th>\n",
       "      <td>Добавить два новых канала привлечения трафика, что позволит привлекать на 30% больше пользователей</td>\n",
       "      <td>3</td>\n",
       "      <td>10</td>\n",
       "      <td>8</td>\n",
       "      <td>6</td>\n",
       "      <td>13.333333</td>\n",
       "      <td>40.0</td>\n",
       "    </tr>\n",
       "    <tr>\n",
       "      <th>7</th>\n",
       "      <td>Добавить форму подписки на все основные страницы, чтобы собрать базу клиентов для email-рассылок</td>\n",
       "      <td>10</td>\n",
       "      <td>7</td>\n",
       "      <td>8</td>\n",
       "      <td>5</td>\n",
       "      <td>11.200000</td>\n",
       "      <td>112.0</td>\n",
       "    </tr>\n",
       "    <tr>\n",
       "      <th>6</th>\n",
       "      <td>Показать на главной странице баннеры с актуальными акциями и распродажами, чтобы увеличить конверсию</td>\n",
       "      <td>5</td>\n",
       "      <td>3</td>\n",
       "      <td>8</td>\n",
       "      <td>3</td>\n",
       "      <td>8.000000</td>\n",
       "      <td>40.0</td>\n",
       "    </tr>\n",
       "    <tr>\n",
       "      <th>2</th>\n",
       "      <td>Добавить блоки рекомендаций товаров на сайт интернет магазина, чтобы повысить конверсию и средний чек заказа</td>\n",
       "      <td>8</td>\n",
       "      <td>3</td>\n",
       "      <td>7</td>\n",
       "      <td>3</td>\n",
       "      <td>7.000000</td>\n",
       "      <td>56.0</td>\n",
       "    </tr>\n",
       "    <tr>\n",
       "      <th>1</th>\n",
       "      <td>Запустить собственную службу доставки, что сократит срок доставки заказов</td>\n",
       "      <td>2</td>\n",
       "      <td>5</td>\n",
       "      <td>4</td>\n",
       "      <td>10</td>\n",
       "      <td>2.000000</td>\n",
       "      <td>4.0</td>\n",
       "    </tr>\n",
       "    <tr>\n",
       "      <th>5</th>\n",
       "      <td>Добавить страницу отзывов клиентов о магазине, что позволит увеличить количество заказов</td>\n",
       "      <td>3</td>\n",
       "      <td>2</td>\n",
       "      <td>2</td>\n",
       "      <td>3</td>\n",
       "      <td>1.333333</td>\n",
       "      <td>4.0</td>\n",
       "    </tr>\n",
       "    <tr>\n",
       "      <th>3</th>\n",
       "      <td>Изменить структура категорий, что увеличит конверсию, т.к. пользователи быстрее найдут нужный товар</td>\n",
       "      <td>8</td>\n",
       "      <td>3</td>\n",
       "      <td>3</td>\n",
       "      <td>8</td>\n",
       "      <td>1.125000</td>\n",
       "      <td>9.0</td>\n",
       "    </tr>\n",
       "    <tr>\n",
       "      <th>4</th>\n",
       "      <td>Изменить цвет фона главной страницы, чтобы увеличить вовлеченность пользователей</td>\n",
       "      <td>3</td>\n",
       "      <td>1</td>\n",
       "      <td>1</td>\n",
       "      <td>1</td>\n",
       "      <td>1.000000</td>\n",
       "      <td>3.0</td>\n",
       "    </tr>\n",
       "  </tbody>\n",
       "</table>\n",
       "</div>"
      ],
      "text/plain": [
       "                                                                                                     hypothesis  \\\n",
       "8                                                       Запустить акцию, дающую скидку на товар в день рождения   \n",
       "0            Добавить два новых канала привлечения трафика, что позволит привлекать на 30% больше пользователей   \n",
       "7              Добавить форму подписки на все основные страницы, чтобы собрать базу клиентов для email-рассылок   \n",
       "6          Показать на главной странице баннеры с актуальными акциями и распродажами, чтобы увеличить конверсию   \n",
       "2  Добавить блоки рекомендаций товаров на сайт интернет магазина, чтобы повысить конверсию и средний чек заказа   \n",
       "1                                     Запустить собственную службу доставки, что сократит срок доставки заказов   \n",
       "5                      Добавить страницу отзывов клиентов о магазине, что позволит увеличить количество заказов   \n",
       "3           Изменить структура категорий, что увеличит конверсию, т.к. пользователи быстрее найдут нужный товар   \n",
       "4                              Изменить цвет фона главной страницы, чтобы увеличить вовлеченность пользователей   \n",
       "\n",
       "   reach  impact  confidence  efforts   iceScore  riceScore  \n",
       "8      1       9           9        5  16.200000       16.2  \n",
       "0      3      10           8        6  13.333333       40.0  \n",
       "7     10       7           8        5  11.200000      112.0  \n",
       "6      5       3           8        3   8.000000       40.0  \n",
       "2      8       3           7        3   7.000000       56.0  \n",
       "1      2       5           4       10   2.000000        4.0  \n",
       "5      3       2           2        3   1.333333        4.0  \n",
       "3      8       3           3        8   1.125000        9.0  \n",
       "4      3       1           1        1   1.000000        3.0  "
      ]
     },
     "metadata": {},
     "output_type": "display_data"
    },
    {
     "name": "stdout",
     "output_type": "stream",
     "text": [
      "============================================= Приоритезация гипотез по RICE =============================================\n"
     ]
    },
    {
     "data": {
      "text/html": [
       "<div>\n",
       "<style scoped>\n",
       "    .dataframe tbody tr th:only-of-type {\n",
       "        vertical-align: middle;\n",
       "    }\n",
       "\n",
       "    .dataframe tbody tr th {\n",
       "        vertical-align: top;\n",
       "    }\n",
       "\n",
       "    .dataframe thead th {\n",
       "        text-align: right;\n",
       "    }\n",
       "</style>\n",
       "<table border=\"1\" class=\"dataframe\">\n",
       "  <thead>\n",
       "    <tr style=\"text-align: right;\">\n",
       "      <th></th>\n",
       "      <th>hypothesis</th>\n",
       "      <th>reach</th>\n",
       "      <th>impact</th>\n",
       "      <th>confidence</th>\n",
       "      <th>efforts</th>\n",
       "      <th>iceScore</th>\n",
       "      <th>riceScore</th>\n",
       "    </tr>\n",
       "  </thead>\n",
       "  <tbody>\n",
       "    <tr>\n",
       "      <th>7</th>\n",
       "      <td>Добавить форму подписки на все основные страницы, чтобы собрать базу клиентов для email-рассылок</td>\n",
       "      <td>10</td>\n",
       "      <td>7</td>\n",
       "      <td>8</td>\n",
       "      <td>5</td>\n",
       "      <td>11.200000</td>\n",
       "      <td>112.0</td>\n",
       "    </tr>\n",
       "    <tr>\n",
       "      <th>2</th>\n",
       "      <td>Добавить блоки рекомендаций товаров на сайт интернет магазина, чтобы повысить конверсию и средний чек заказа</td>\n",
       "      <td>8</td>\n",
       "      <td>3</td>\n",
       "      <td>7</td>\n",
       "      <td>3</td>\n",
       "      <td>7.000000</td>\n",
       "      <td>56.0</td>\n",
       "    </tr>\n",
       "    <tr>\n",
       "      <th>0</th>\n",
       "      <td>Добавить два новых канала привлечения трафика, что позволит привлекать на 30% больше пользователей</td>\n",
       "      <td>3</td>\n",
       "      <td>10</td>\n",
       "      <td>8</td>\n",
       "      <td>6</td>\n",
       "      <td>13.333333</td>\n",
       "      <td>40.0</td>\n",
       "    </tr>\n",
       "    <tr>\n",
       "      <th>6</th>\n",
       "      <td>Показать на главной странице баннеры с актуальными акциями и распродажами, чтобы увеличить конверсию</td>\n",
       "      <td>5</td>\n",
       "      <td>3</td>\n",
       "      <td>8</td>\n",
       "      <td>3</td>\n",
       "      <td>8.000000</td>\n",
       "      <td>40.0</td>\n",
       "    </tr>\n",
       "    <tr>\n",
       "      <th>8</th>\n",
       "      <td>Запустить акцию, дающую скидку на товар в день рождения</td>\n",
       "      <td>1</td>\n",
       "      <td>9</td>\n",
       "      <td>9</td>\n",
       "      <td>5</td>\n",
       "      <td>16.200000</td>\n",
       "      <td>16.2</td>\n",
       "    </tr>\n",
       "    <tr>\n",
       "      <th>3</th>\n",
       "      <td>Изменить структура категорий, что увеличит конверсию, т.к. пользователи быстрее найдут нужный товар</td>\n",
       "      <td>8</td>\n",
       "      <td>3</td>\n",
       "      <td>3</td>\n",
       "      <td>8</td>\n",
       "      <td>1.125000</td>\n",
       "      <td>9.0</td>\n",
       "    </tr>\n",
       "    <tr>\n",
       "      <th>1</th>\n",
       "      <td>Запустить собственную службу доставки, что сократит срок доставки заказов</td>\n",
       "      <td>2</td>\n",
       "      <td>5</td>\n",
       "      <td>4</td>\n",
       "      <td>10</td>\n",
       "      <td>2.000000</td>\n",
       "      <td>4.0</td>\n",
       "    </tr>\n",
       "    <tr>\n",
       "      <th>5</th>\n",
       "      <td>Добавить страницу отзывов клиентов о магазине, что позволит увеличить количество заказов</td>\n",
       "      <td>3</td>\n",
       "      <td>2</td>\n",
       "      <td>2</td>\n",
       "      <td>3</td>\n",
       "      <td>1.333333</td>\n",
       "      <td>4.0</td>\n",
       "    </tr>\n",
       "    <tr>\n",
       "      <th>4</th>\n",
       "      <td>Изменить цвет фона главной страницы, чтобы увеличить вовлеченность пользователей</td>\n",
       "      <td>3</td>\n",
       "      <td>1</td>\n",
       "      <td>1</td>\n",
       "      <td>1</td>\n",
       "      <td>1.000000</td>\n",
       "      <td>3.0</td>\n",
       "    </tr>\n",
       "  </tbody>\n",
       "</table>\n",
       "</div>"
      ],
      "text/plain": [
       "                                                                                                     hypothesis  \\\n",
       "7              Добавить форму подписки на все основные страницы, чтобы собрать базу клиентов для email-рассылок   \n",
       "2  Добавить блоки рекомендаций товаров на сайт интернет магазина, чтобы повысить конверсию и средний чек заказа   \n",
       "0            Добавить два новых канала привлечения трафика, что позволит привлекать на 30% больше пользователей   \n",
       "6          Показать на главной странице баннеры с актуальными акциями и распродажами, чтобы увеличить конверсию   \n",
       "8                                                       Запустить акцию, дающую скидку на товар в день рождения   \n",
       "3           Изменить структура категорий, что увеличит конверсию, т.к. пользователи быстрее найдут нужный товар   \n",
       "1                                     Запустить собственную службу доставки, что сократит срок доставки заказов   \n",
       "5                      Добавить страницу отзывов клиентов о магазине, что позволит увеличить количество заказов   \n",
       "4                              Изменить цвет фона главной страницы, чтобы увеличить вовлеченность пользователей   \n",
       "\n",
       "   reach  impact  confidence  efforts   iceScore  riceScore  \n",
       "7     10       7           8        5  11.200000      112.0  \n",
       "2      8       3           7        3   7.000000       56.0  \n",
       "0      3      10           8        6  13.333333       40.0  \n",
       "6      5       3           8        3   8.000000       40.0  \n",
       "8      1       9           9        5  16.200000       16.2  \n",
       "3      8       3           3        8   1.125000        9.0  \n",
       "1      2       5           4       10   2.000000        4.0  \n",
       "5      3       2           2        3   1.333333        4.0  \n",
       "4      3       1           1        1   1.000000        3.0  "
      ]
     },
     "metadata": {},
     "output_type": "display_data"
    }
   ],
   "source": [
    "# Добавляем оценку по ICE.\n",
    "hypothesis['iceScore'] = hypothesis['impact'] * hypothesis['confidence'] / hypothesis['efforts'] \n",
    "# Добавляем оценку по RICE.\n",
    "hypothesis['riceScore'] = (hypothesis['reach'] * hypothesis['impact'] \n",
    "                           * hypothesis['confidence'] / hypothesis['efforts'])\n",
    "# Выводим отсортированную таблицу по ICE.\n",
    "print('='*45, 'Приоритезация гипотез по ICE', '='*45)\n",
    "display(hypothesis.sort_values(by='iceScore', ascending=False))\n",
    "# Выводим отсортированную таблицу по RICE.\n",
    "print('='*45, 'Приоритезация гипотез по RICE', '='*45)\n",
    "display(hypothesis.sort_values(by='riceScore', ascending=False))"
   ]
  },
  {
   "cell_type": "markdown",
   "metadata": {},
   "source": [
    "<div class=\"alert alert-block alert-success\">✅ <b>Комментарий ревьюера:</b> Здорово, что получилось вывести названия гипотез целиком :)\n",
    "</div>"
   ]
  },
  {
   "cell_type": "markdown",
   "metadata": {},
   "source": [
    "Из отсортированных таблиц видно, что по методу приоритезации гипотез ICE приоритетными являются гипотезы:\n",
    "1. Запустить акцию, дающую скидку на товар в день рождения - 16,2 балла.\n",
    "2. Добавить два новых канала привлечения трафика, что позволит привлекать на 30% больше пользователей - 13,3 балла.\n",
    "3. Добавить форму подписки на все основные страницы, чтобы собрать базу клиентов для email-рассылок - 11,2 балла.\n",
    "\n",
    "У остальных гипотез по ICE менее 10 баллов.  \n",
    "\n",
    "По RICE самыми приоритетными были выбраны:\n",
    "1. Добавить форму подписки на все основные страницы, чтобы собрать базу клиентов для email-рассылок - 112 баллов.\n",
    "2. Добавить блоки рекомендаций товаров на сайт интернет магазина, чтобы повысить конверсию и средний чек заказа - 56 баллов.\n",
    "3. Добавить два новых канала привлечения трафика, что позволит привлекать на 30% больше пользователей - 40 баллов.\n",
    "4. Показать на главной странице баннеры с актуальными акциями и распродажами, чтобы увеличить конверсию\t- 40 баллов.  \n",
    "\n",
    "У остальных гипотез по RICE менее 20 баллов.\n",
    "\n",
    "Различия в приоритезации гипотез возникли из-за того, что в методе RICE используется также параметр Reach, который отвечает за оценку количества пользователей, которых затронет изменение.  "
   ]
  },
  {
   "cell_type": "markdown",
   "metadata": {},
   "source": [
    "<div class=\"alert alert-block alert-warning\"> ⚠️ <b>Комментарий ревьюера:</b> Всё верно, но в выводе стоит указывать полные названия гипотез, а не их номера. Т.к. нумерация появляется при загрузке в пандас, и коллеги, которые будут смотреть отчёт, могут не понять о каких гипотезах идёт речь</div>"
   ]
  },
  {
   "cell_type": "markdown",
   "metadata": {},
   "source": [
    "<div style=\"border:solid blue 2px; padding: 20px\">\n",
    "<div class=\"alert alert-info\"> <b>Комментарий студента:</b> \n",
    "Ок, переписал.</div>"
   ]
  },
  {
   "cell_type": "markdown",
   "metadata": {},
   "source": [
    "<div class=\"alert alert-block alert-success\">✅ <b>Комментарий ревьюера 2:</b> Отлично :)\n",
    "</div>"
   ]
  },
  {
   "cell_type": "markdown",
   "metadata": {},
   "source": [
    "### Вывод"
   ]
  },
  {
   "cell_type": "markdown",
   "metadata": {},
   "source": [
    "Наиболее приоритетной гипотезой признана гипотеза \"Добавить форму подписки на все основные страницы, чтобы собрать базу клиентов для email-рассылок\", т.к. она набрала больше всего баллов по RICE, а также в тройке лидеров по ICE."
   ]
  },
  {
   "cell_type": "markdown",
   "metadata": {},
   "source": [
    "## Анализ A/B теста"
   ]
  },
  {
   "cell_type": "markdown",
   "metadata": {},
   "source": [
    "### Проверка групп"
   ]
  },
  {
   "cell_type": "markdown",
   "metadata": {},
   "source": [
    "Перед анализом теста необходимо проверить:\n",
    "1. Не попали ли некоторые покупатели в обе группы.\n",
    "2. Равные ли группы получились.  \n",
    "\n",
    "Проверим это."
   ]
  },
  {
   "cell_type": "code",
   "execution_count": 8,
   "metadata": {
    "scrolled": true
   },
   "outputs": [
    {
     "name": "stdout",
     "output_type": "stream",
     "text": [
      "Всего покупателей: 1031 или 100%\n",
      "Покупателей в группе А: 503 или 48.79%\n",
      "Покупателей в группе B: 586 или 56.84%\n"
     ]
    }
   ],
   "source": [
    "# Формируем фреймы по группам\n",
    "orders_a = orders[orders['group']=='A']\n",
    "orders_b = orders[orders['group']=='B']\n",
    "\n",
    "# Посмотрим сколько пользователей в каждой группе\n",
    "print('Всего покупателей:', len(orders['visitorId'].unique()), 'или 100%')\n",
    "print('Покупателей в группе А:', \n",
    "      len(orders_a[\"visitorId\"].unique()), \n",
    "      'или {0:.2f}%'.format(len(orders_a[\"visitorId\"].unique())/len(orders['visitorId'].unique())*100))\n",
    "print('Покупателей в группе B:', \n",
    "      len(orders_b[\"visitorId\"].unique()), \n",
    "      'или {0:.2f}%'.format(len(orders_b[\"visitorId\"].unique())/len(orders['visitorId'].unique())*100))"
   ]
  },
  {
   "cell_type": "markdown",
   "metadata": {},
   "source": [
    "Видно, что общая сумма уникальных покупателей по группам больше, чем общее количество покупателей. Значит, некоторые покупатели попали в обе группы. Посмотрим, сколько таких покупателей."
   ]
  },
  {
   "cell_type": "code",
   "execution_count": 9,
   "metadata": {},
   "outputs": [
    {
     "name": "stdout",
     "output_type": "stream",
     "text": [
      "Пересекающихся покупателей: 58 или 5.63%\n"
     ]
    }
   ],
   "source": [
    "# Сформируем таблицу с пользователями, которые попали в обе группы\n",
    "problem_users = np.intersect1d(orders_a['visitorId'].unique(), orders_b['visitorId'].unique())\n",
    "print('Пересекающихся покупателей:', \n",
    "      len(problem_users),\n",
    "      'или {0:.2f}%'.format(len(problem_users)/len(orders['visitorId'].unique())*100))"
   ]
  },
  {
   "cell_type": "markdown",
   "metadata": {},
   "source": [
    "Покупателей, попавших в обе группы 5,6% - не так много, можно их удалить (из обоих групп) для более точного исследования."
   ]
  },
  {
   "cell_type": "code",
   "execution_count": 10,
   "metadata": {},
   "outputs": [
    {
     "name": "stdout",
     "output_type": "stream",
     "text": [
      "Осталось покупателей: 973 или 94.37% от изначального\n",
      "Покупателей в группе А осталось: 445 или 45.73% от текущего\n",
      "Покупателей в группе B осталось: 528 или 54.27% от текущего\n"
     ]
    }
   ],
   "source": [
    "# Сохраним длину изначального фрейма, чтобы потом сравнить, сколько удалено.\n",
    "orders_old_len = len(orders['visitorId'].unique())\n",
    "# Удалим пользователей, которые попали в обе группы\n",
    "orders = orders[~orders['visitorId'].isin(problem_users)].reset_index()\n",
    "\n",
    "# Переприсвоим фреймы по группам\n",
    "orders_a = orders[orders['group']=='A']\n",
    "orders_b = orders[orders['group']=='B']\n",
    "\n",
    "# Проверим, насколько равные получились группы\n",
    "print('Осталось покупателей:', \n",
    "      len(orders['visitorId'].unique()), \n",
    "      'или {0:.2f}% от изначального'.format(len(orders['visitorId'].unique())/orders_old_len*100))\n",
    "print('Покупателей в группе А осталось:', \n",
    "      len(orders_a[\"visitorId\"].unique()), \n",
    "      'или {0:.2f}% от текущего'.format(len(orders_a[\"visitorId\"].unique())/len(orders['visitorId'].unique())*100))\n",
    "print('Покупателей в группе B осталось:', \n",
    "      len(orders_b[\"visitorId\"].unique()), \n",
    "      'или {0:.2f}% от текущего'.format(len(orders_b[\"visitorId\"].unique())/len(orders['visitorId'].unique())*100))"
   ]
  },
  {
   "cell_type": "markdown",
   "metadata": {},
   "source": [
    "**Выводы:**\n",
    "1. В изначальных данных были пользователи, попавшие в обе группы (5,6% от общего числа). \n",
    "2. Пересекающиеся пользователи удалены из данных.\n",
    "2. Получившиеся группы примерно равны (46 на 54 процента). "
   ]
  },
  {
   "cell_type": "markdown",
   "metadata": {},
   "source": [
    "<div class=\"alert alert-block alert-danger\">❌ <b>Комментарий ревьюера:</b> Действительно важно проверять пересекающихся пользователей. Но перед их удалением нужно сначала оценить сколько пользователей в каждой из групп изначально, сколько пользователей попали в обе группы. Далее посмотреть существенное ли это количество, т.е. решить можно их удалять или нет, и после удаления оценить как изменились группы и данные \n",
    "</div>"
   ]
  },
  {
   "cell_type": "markdown",
   "metadata": {},
   "source": [
    "<div style=\"border:solid blue 2px; padding: 20px\">\n",
    "<div class=\"alert alert-info\"> <b>Комментарий студента:</b> \n",
    "Корявенько, но вроде посмотрел.</div>"
   ]
  },
  {
   "cell_type": "markdown",
   "metadata": {},
   "source": [
    "<div class=\"alert alert-block alert-success\">✅ <b>Комментарий ревьюера 2:</b> Всё здорово, теперь проверка более полная. И 5% пересекающихся пользователей можно удалить, для более точного исследования :)\n",
    "</div>"
   ]
  },
  {
   "cell_type": "markdown",
   "metadata": {},
   "source": [
    "### Подготовка данных к анализу"
   ]
  },
  {
   "cell_type": "markdown",
   "metadata": {},
   "source": [
    "Создадим фрейм, по которому будем строить дальнейшие графики. В него должны войти: \n",
    "- `date` — дата;\n",
    "- `group` — группа A/B-теста (A или B);\n",
    "- `orders` — кумулятивное количество заказов на указанную дату в указанной группе;\n",
    "- `buyers` — кумулятивное количество пользователей, совершивших хотя бы один заказ, на указанную дату в указанной группе;\n",
    "- `revenue` — кумулятивная выручка на указанную дату в указанной группе (средний чек);\n",
    "- `visitors` — кумулятивное количество посетителей интернет-магазина на указанную дату в определённой группе;\n",
    "- `conversion` — конверсия посетителей в количество заказов."
   ]
  },
  {
   "cell_type": "code",
   "execution_count": 11,
   "metadata": {},
   "outputs": [
    {
     "data": {
      "text/html": [
       "<div>\n",
       "<style scoped>\n",
       "    .dataframe tbody tr th:only-of-type {\n",
       "        vertical-align: middle;\n",
       "    }\n",
       "\n",
       "    .dataframe tbody tr th {\n",
       "        vertical-align: top;\n",
       "    }\n",
       "\n",
       "    .dataframe thead th {\n",
       "        text-align: right;\n",
       "    }\n",
       "</style>\n",
       "<table border=\"1\" class=\"dataframe\">\n",
       "  <thead>\n",
       "    <tr style=\"text-align: right;\">\n",
       "      <th></th>\n",
       "      <th>date</th>\n",
       "      <th>group</th>\n",
       "      <th>orders</th>\n",
       "      <th>buyers</th>\n",
       "      <th>revenue</th>\n",
       "      <th>visitors</th>\n",
       "      <th>conversion</th>\n",
       "    </tr>\n",
       "  </thead>\n",
       "  <tbody>\n",
       "    <tr>\n",
       "      <th>0</th>\n",
       "      <td>2019-08-01</td>\n",
       "      <td>A</td>\n",
       "      <td>23</td>\n",
       "      <td>19</td>\n",
       "      <td>142779</td>\n",
       "      <td>719</td>\n",
       "      <td>0.031989</td>\n",
       "    </tr>\n",
       "    <tr>\n",
       "      <th>1</th>\n",
       "      <td>2019-08-01</td>\n",
       "      <td>B</td>\n",
       "      <td>17</td>\n",
       "      <td>17</td>\n",
       "      <td>59758</td>\n",
       "      <td>713</td>\n",
       "      <td>0.023843</td>\n",
       "    </tr>\n",
       "    <tr>\n",
       "      <th>2</th>\n",
       "      <td>2019-08-02</td>\n",
       "      <td>A</td>\n",
       "      <td>42</td>\n",
       "      <td>36</td>\n",
       "      <td>234381</td>\n",
       "      <td>1338</td>\n",
       "      <td>0.031390</td>\n",
       "    </tr>\n",
       "    <tr>\n",
       "      <th>3</th>\n",
       "      <td>2019-08-02</td>\n",
       "      <td>B</td>\n",
       "      <td>40</td>\n",
       "      <td>39</td>\n",
       "      <td>221801</td>\n",
       "      <td>1294</td>\n",
       "      <td>0.030912</td>\n",
       "    </tr>\n",
       "    <tr>\n",
       "      <th>4</th>\n",
       "      <td>2019-08-03</td>\n",
       "      <td>A</td>\n",
       "      <td>66</td>\n",
       "      <td>60</td>\n",
       "      <td>346854</td>\n",
       "      <td>1845</td>\n",
       "      <td>0.035772</td>\n",
       "    </tr>\n",
       "  </tbody>\n",
       "</table>\n",
       "</div>"
      ],
      "text/plain": [
       "        date group  orders  buyers  revenue  visitors  conversion\n",
       "0 2019-08-01     A      23      19   142779       719    0.031989\n",
       "1 2019-08-01     B      17      17    59758       713    0.023843\n",
       "2 2019-08-02     A      42      36   234381      1338    0.031390\n",
       "3 2019-08-02     B      40      39   221801      1294    0.030912\n",
       "4 2019-08-03     A      66      60   346854      1845    0.035772"
      ]
     },
     "execution_count": 11,
     "metadata": {},
     "output_type": "execute_result"
    }
   ],
   "source": [
    "# создаем массив уникальных пар значений дат и групп теста\n",
    "dates = orders[['date','group']].drop_duplicates()\n",
    "\n",
    "# аггрегируем заказы по датам, получая число уникальных ID заказов и пользователей, \n",
    "# а также сумму выручки по дням в каждой из групп\n",
    "orders_agg = (\n",
    "              dates.apply(lambda x: orders[np.logical_and(orders['date'] <= x['date'], orders['group'] == x['group'])]\n",
    "                         .agg({'date' : 'max', \n",
    "                               'group' : 'max', \n",
    "                               'transactionId' : 'nunique', \n",
    "                               'visitorId' : 'nunique', \n",
    "                               'revenue' : 'sum'}), axis=1)\n",
    "                         .sort_values(by=['date','group'])\n",
    "              )\n",
    "\n",
    "# аггрегируем данные по количеству посетителей по дням в каждой из групп\n",
    "visitors_agg = (\n",
    "                      dates.apply(lambda x: visitors[np.logical_and(visitors['date'] <= x['date'], \n",
    "                                                                          visitors['group'] == x['group'])]\n",
    "                                        .agg({'date' : 'max', \n",
    "                                              'group' : 'max', \n",
    "                                              'visitors' : 'sum'}), axis=1)\n",
    "                                        .sort_values(by=['date','group'])\n",
    "                     )\n",
    "\n",
    "# объединяем кумулятивные данные в одной таблице и присваиваем ее столбцам понятные названия\n",
    "cumdata = orders_agg.merge(visitors_agg, on=['date', 'group'])\n",
    "cumdata.columns = ['date', 'group', 'orders', 'buyers', 'revenue', 'visitors']\n",
    "\n",
    "# добавляем столбец с конверсией\n",
    "cumdata['conversion'] = cumdata['orders']/cumdata['visitors']\n",
    "\n",
    "cumdata.head() "
   ]
  },
  {
   "cell_type": "markdown",
   "metadata": {},
   "source": [
    "### Построение графика кумулятивной выручки"
   ]
  },
  {
   "cell_type": "markdown",
   "metadata": {},
   "source": [
    "Построим график кумулятивной выручки по группам"
   ]
  },
  {
   "cell_type": "code",
   "execution_count": 12,
   "metadata": {
    "scrolled": false
   },
   "outputs": [
    {
     "data": {
      "image/png": "[encoded data removed]",
      "text/plain": [
       "<Figure size 864x576 with 1 Axes>"
      ]
     },
     "metadata": {
      "needs_background": "light"
     },
     "output_type": "display_data"
    }
   ],
   "source": [
    "# датафрейм с кумулятивным количеством заказов и кумулятивной выручкой по дням в группе А\n",
    "cumdata_a = cumdata[cumdata['group']=='A'].reset_index(drop=True)\n",
    "\n",
    "# датафрейм с кумулятивным количеством заказов и кумулятивной выручкой по дням в группе B\n",
    "cumdata_b = cumdata[cumdata['group']=='B'].reset_index(drop=True)\n",
    "\n",
    "# Строим график выручки группы А\n",
    "plt.plot(cumdata_a['date'], cumdata_a['revenue'], label='A')\n",
    "\n",
    "# Строим график выручки группы B\n",
    "plt.plot(cumdata_b['date'], cumdata_b['revenue'], label='B')\n",
    "\n",
    "# отображаем легенду и название\n",
    "plt.title('График кумулятивной выручки по группам')\n",
    "plt.legend()\n",
    "plt.show()"
   ]
  },
  {
   "cell_type": "markdown",
   "metadata": {},
   "source": [
    "**Вывод:**\n",
    "Выручка по обоим группам почти равномерно увеличивается в течение всего теста. Однако графики выручки обеих групп в нескольких точках резко растут. Это может сигнализировать о всплесках числа заказов, либо о появлении очень дорогих заказов в выборке. Такие выбросы проанализируем далее."
   ]
  },
  {
   "cell_type": "markdown",
   "metadata": {},
   "source": [
    "<div class=\"alert alert-block alert-success\">✅ <b>Комментарий ревьюера:</b> Всё верно, резкий скачок может говорить о купных заказах  :)\n",
    "</div>"
   ]
  },
  {
   "cell_type": "markdown",
   "metadata": {},
   "source": [
    "### Построение графика кумулятивного среднего чека"
   ]
  },
  {
   "cell_type": "markdown",
   "metadata": {},
   "source": [
    "Построим график кумулятивного среднего чека по группам."
   ]
  },
  {
   "cell_type": "code",
   "execution_count": 13,
   "metadata": {},
   "outputs": [
    {
     "data": {
      "image/png": "[encoded data removed]",
      "text/plain": [
       "<Figure size 864x576 with 1 Axes>"
      ]
     },
     "metadata": {
      "needs_background": "light"
     },
     "output_type": "display_data"
    }
   ],
   "source": [
    "# Строим график выручки группы А\n",
    "plt.plot(cumdata_a['date'], cumdata_a['revenue']/cumdata_a['orders'], label='A')\n",
    "\n",
    "# Строим график выручки группы В\n",
    "plt.plot(cumdata_b['date'], cumdata_b['revenue']/cumdata_b['orders'], label='B')\n",
    "\n",
    "# отображаем легенду и название\n",
    "plt.title('График кумулятивного среднего чека по группам')\n",
    "plt.legend()\n",
    "plt.show()"
   ]
  },
  {
   "cell_type": "markdown",
   "metadata": {},
   "source": [
    "**Вывод:**\n",
    "Средний чек был неровный для каждой группы, а также видно, что около 19 августа в группе В резко вырос средний чек. Возможно, из-за какой-то крупной покупки."
   ]
  },
  {
   "cell_type": "markdown",
   "metadata": {},
   "source": [
    "<div class=\"alert alert-block alert-success\">✅ <b>Комментарий ревьюера:</b> а средний чек тоже влияют аномалии, из-за чего и появился такой скачок :)\n",
    "</div>"
   ]
  },
  {
   "cell_type": "markdown",
   "metadata": {},
   "source": [
    "### Построение графика относительного изменения кумулятивного среднего чека"
   ]
  },
  {
   "cell_type": "markdown",
   "metadata": {},
   "source": [
    "Построим график относительного изменения кумулятивного среднего чека группы B к группе A."
   ]
  },
  {
   "cell_type": "code",
   "execution_count": 14,
   "metadata": {},
   "outputs": [
    {
     "data": {
      "image/png": "[encoded data removed]",
      "text/plain": [
       "<Figure size 864x576 with 1 Axes>"
      ]
     },
     "metadata": {
      "needs_background": "light"
     },
     "output_type": "display_data"
    }
   ],
   "source": [
    "# cтроим отношение средних чеков\n",
    "plt.plot(cumdata_a['date'], (cumdata_b['revenue']/cumdata_b['orders'])/(cumdata_a['revenue']/cumdata_a['orders'])-1)\n",
    "\n",
    "# добавляем ось X в нуле\n",
    "plt.axhline(y=0, color='black', linestyle='--')\n",
    "\n",
    "# добавляем ось X в среднем значении относительного среднего чека за весь период\n",
    "plt.axhline(y=((cumdata_b['revenue']/cumdata_b['orders'])/(cumdata_a['revenue']/cumdata_a['orders'])-1).mean(),\n",
    "            linestyle='--',\n",
    "            label='Среднее отношение среднего чека группы В к А по всему периоду')\n",
    "\n",
    "# отображаем название\n",
    "plt.title('График относительного изменения кумулятивного среднего чека группы В к А')\n",
    "plt.legend()\n",
    "plt.show()"
   ]
  },
  {
   "cell_type": "markdown",
   "metadata": {},
   "source": [
    "**Выводы:** Отношение накопительной суммы среднего чека группы В к группе А было нестабильным: в начале теста средний чек группы А лидировал, затем на какое-то время был паритет, а после предполагаемой большой покупки 19 августа в группе В эта группы вырвалась вперед по среднему чеку. В любом случае нестабильность на относительном графике кумулятивного среднего чека - признак закравшихся аномалий."
   ]
  },
  {
   "cell_type": "markdown",
   "metadata": {},
   "source": [
    "### Построение графика кумулятивной конверсии"
   ]
  },
  {
   "cell_type": "markdown",
   "metadata": {},
   "source": [
    "Построим график кумулятивной конверсии посетителей в количество заказов по группам."
   ]
  },
  {
   "cell_type": "code",
   "execution_count": 15,
   "metadata": {},
   "outputs": [
    {
     "data": {
      "image/png": "[encoded data removed]",
      "text/plain": [
       "<Figure size 864x576 with 1 Axes>"
      ]
     },
     "metadata": {
      "needs_background": "light"
     },
     "output_type": "display_data"
    }
   ],
   "source": [
    "# строим графики\n",
    "plt.plot(cumdata_a['date'], cumdata_a['conversion'], label='A')\n",
    "plt.plot(cumdata_b['date'], cumdata_b['conversion'], label='B')\n",
    "\n",
    "# добавляем ось X в среднем значении конверсии группы А\n",
    "plt.axhline(y=cumdata_a['conversion'].mean(), color='C0', linestyle='--', label='Средняя конверсия А')\n",
    "\n",
    "# добавляем ось X в среднем значении конверсии группы В\n",
    "plt.axhline(y=cumdata_b['conversion'].mean(), color='C1', linestyle='--', label='Средняя конверсия В')\n",
    "\n",
    "# отображаем легенду и название\n",
    "plt.title('График кумулятивной конверсии по группам')\n",
    "plt.legend()\n",
    "plt.show()"
   ]
  },
  {
   "cell_type": "markdown",
   "metadata": {},
   "source": [
    "**Вывод:** Кумулятивная конверсия была нестабильна для обоих групп, однако, имеет тенденцию к фиксации. По группе В можно сказать, что она уже зафиксировалась на уровне среднего значения. Группа А также похоже, что вышла на плато по конверсии, однако, из-за высоких значений вначале теста конверсия на плато ниже средней. На протяжении почти всего теста конверсия группы В лучше конверсии в группе А."
   ]
  },
  {
   "cell_type": "markdown",
   "metadata": {},
   "source": [
    "<div class=\"alert alert-block alert-success\">✅ <b>Комментарий ревьюера:</b> Здорово, что добавил на график значения средней конверсии. Также можно добавить, что на протяжении практически всего теста конверсия В лучше А  :)\n",
    "</div>"
   ]
  },
  {
   "cell_type": "markdown",
   "metadata": {},
   "source": [
    "### Построение графика относительного изменения кумулятивной конверсии"
   ]
  },
  {
   "cell_type": "markdown",
   "metadata": {},
   "source": [
    "Построим график относительного изменения кумулятивной конверсии группы B к группе A. "
   ]
  },
  {
   "cell_type": "code",
   "execution_count": 16,
   "metadata": {},
   "outputs": [
    {
     "data": {
      "image/png": "[encoded data removed]",
      "text/plain": [
       "<Figure size 864x576 with 1 Axes>"
      ]
     },
     "metadata": {
      "needs_background": "light"
     },
     "output_type": "display_data"
    }
   ],
   "source": [
    "# Строим график\n",
    "plt.plot(cumdata_a['date'], cumdata_b['conversion']/cumdata_a['conversion']-1,\n",
    "         label=\"Относительный прирост конверсии группы B относительно группы A\")\n",
    "\n",
    "# добавляем ось X в нуле\n",
    "plt.axhline(y=0, color='black', linestyle='--')\n",
    "\n",
    "# добавляем ось X в среднем значении относительной конверсии за весь период\n",
    "plt.axhline(y=(cumdata_b['conversion']/cumdata_a['conversion']-1).mean(),\n",
    "            linestyle='--',\n",
    "            label='Среднее отношение конверсии В к А по всему периоду')\n",
    "\n",
    "# отображаем легенду и название\n",
    "plt.title('График относительного изменения кумулятивной конверсии группы В к А')\n",
    "plt.legend()\n",
    "plt.show()"
   ]
  },
  {
   "cell_type": "markdown",
   "metadata": {},
   "source": [
    "**Вывод:** В начале теста группа В была в роли догоняющей по конверсии. Однако, потом вырвалась вперед, и, кажется, установила уверенное преимущестно на уровне около +15% относительно группы А. Средний относительный прирост конверсии группы В примерно 10%. Со второй недели относительный прирост конверсии группы В к группе А больше среднего до конца периода."
   ]
  },
  {
   "cell_type": "markdown",
   "metadata": {},
   "source": [
    "<div class=\"alert alert-block alert-warning\"> ⚠️ <b>Комментарий ревьюера:</b> На график можно добавить дополнительные горизонтальные линии, для лучшего восприятия. например как на графике выше </div>"
   ]
  },
  {
   "cell_type": "markdown",
   "metadata": {},
   "source": [
    "<div style=\"border:solid blue 2px; padding: 20px\">\n",
    "<div class=\"alert alert-info\"> <b>Комментарий студента:</b> \n",
    "Добавил линию средней относительной конверсии за весь период.</div>"
   ]
  },
  {
   "cell_type": "markdown",
   "metadata": {},
   "source": [
    "<div class=\"alert alert-block alert-success\">✅ <b>Комментарий ревьюера 2:</b> Теперь по графику видно, что со второй недели относительный прирост В к А больше среднего по всему периоду :)\n",
    "</div>"
   ]
  },
  {
   "cell_type": "markdown",
   "metadata": {},
   "source": [
    "### Построение точечного графика количества заказов по пользователям"
   ]
  },
  {
   "cell_type": "markdown",
   "metadata": {},
   "source": [
    "Проверим данные на аномалии и попробуем их \"очистить\". Начнем с количества заказов на одного пользователя.  \n",
    "Построим точечный график количества заказов по пользователям."
   ]
  },
  {
   "cell_type": "code",
   "execution_count": 17,
   "metadata": {
    "scrolled": false
   },
   "outputs": [
    {
     "data": {
      "image/png": "[encoded data removed]",
      "text/plain": [
       "<Figure size 864x576 with 1 Axes>"
      ]
     },
     "metadata": {
      "needs_background": "light"
     },
     "output_type": "display_data"
    }
   ],
   "source": [
    "# Задаем значения по X по количеству уникальных пользователей\n",
    "x_values = pd.Series(range(0, len(orders.groupby('visitorId')['transactionId'].count())))\n",
    "\n",
    "# Строим график\n",
    "plt.scatter(x_values, orders.groupby('visitorId')['transactionId'].count())\n",
    "\n",
    "# Называем оси и график\n",
    "plt.title('График количества заказов на одного пользователя')\n",
    "plt.xlabel('Номера уникальных пользователей по порядку', fontsize=12)\n",
    "plt.ylabel('Количество заказов', fontsize=12)\n",
    "\n",
    "plt.show()"
   ]
  },
  {
   "cell_type": "markdown",
   "metadata": {},
   "source": [
    "**Вывод:** Мало пользователей делали более двух заказов, эти пользователи выглядят аномальными. Посмотрим на перцентили и выберем границу для аномальных пользователей."
   ]
  },
  {
   "cell_type": "markdown",
   "metadata": {},
   "source": [
    "### Расчет 95го и 99го перцентиля количества заказов"
   ]
  },
  {
   "cell_type": "markdown",
   "metadata": {},
   "source": [
    "Посчитаем 95-й и 99-й перцентили количества заказов на пользователя."
   ]
  },
  {
   "cell_type": "code",
   "execution_count": 18,
   "metadata": {},
   "outputs": [
    {
     "data": {
      "text/plain": [
       "array([1., 2.])"
      ]
     },
     "execution_count": 18,
     "metadata": {},
     "output_type": "execute_result"
    }
   ],
   "source": [
    "np.percentile(orders.groupby('visitorId')['transactionId'].count(), [95, 99])"
   ]
  },
  {
   "cell_type": "markdown",
   "metadata": {},
   "source": [
    "**Вывод:** 95 процентов пользователей совершили один и менее заказ. 99 процентов пользователей совершили два и менее заказа. Следовательно, аномальными можно считать 1% пользователей."
   ]
  },
  {
   "cell_type": "markdown",
   "metadata": {},
   "source": [
    "<div class=\"alert alert-block alert-danger\">❌ <b>Комментарий ревьюера:</b> За границу аномального кол-ва заказов лучше брать значения перцентилей, таким образом будет точно известно какой процент данных отсекается \n",
    "</div>"
   ]
  },
  {
   "cell_type": "markdown",
   "metadata": {},
   "source": [
    "<div style=\"border:solid blue 2px; padding: 20px\">\n",
    "<div class=\"alert alert-info\"> <b>Комментарий студента:</b> \n",
    "Вывод переписал, однако, не соглашусь, что по перцентилям будет известен процент оставшихся данных. Это может быть неверно для дискретных значений (как здесь), либо когда отсекаем по нескольким признакам (1% по одному признаку убрали и 1% по другому, из общей выборки ушло 1,5%).</div>"
   ]
  },
  {
   "cell_type": "markdown",
   "metadata": {},
   "source": [
    "<div class=\"alert alert-block alert-success\">✅ <b>Комментарий ревьюера 2:</b> Соглашусь, если данные будут фильтроваться по нескольким признакам, то процент оставшихся данных будет другим. Но всё равно лучше ориентироваться на рассчитанные значения, чем на предполагаемые  :)\n",
    "</div>"
   ]
  },
  {
   "cell_type": "markdown",
   "metadata": {},
   "source": [
    "### Построение точечного графика стоимости заказов"
   ]
  },
  {
   "cell_type": "markdown",
   "metadata": {},
   "source": [
    "Для исследования аномалий также построим точечный график стоимостей заказов."
   ]
  },
  {
   "cell_type": "code",
   "execution_count": 19,
   "metadata": {},
   "outputs": [
    {
     "data": {
      "image/png": "[encoded data removed]",
      "text/plain": [
       "<Figure size 864x576 with 1 Axes>"
      ]
     },
     "metadata": {
      "needs_background": "light"
     },
     "output_type": "display_data"
    }
   ],
   "source": [
    "# Задаем значения по X по количеству уникальных заказов\n",
    "x_values = pd.Series(range(0, len(orders['revenue'])))\n",
    "\n",
    "# Строим график\n",
    "plt.scatter(x_values, orders['revenue'])\n",
    "\n",
    "# Называем оси и график\n",
    "plt.title('График стоимости заказов')\n",
    "plt.xlabel('Номера уникальных заказов по порядку', fontsize=12)\n",
    "plt.ylabel('Стоимость заказов', fontsize=12)\n",
    "\n",
    "plt.show()"
   ]
  },
  {
   "cell_type": "markdown",
   "metadata": {},
   "source": [
    "Для наглядности построим график без учета двух видимых выбросов (сумма заказа менее 100000)."
   ]
  },
  {
   "cell_type": "code",
   "execution_count": 20,
   "metadata": {},
   "outputs": [
    {
     "data": {
      "image/png": "[encoded data removed]",
      "text/plain": [
       "<Figure size 864x576 with 1 Axes>"
      ]
     },
     "metadata": {
      "needs_background": "light"
     },
     "output_type": "display_data"
    }
   ],
   "source": [
    "# Задаем значения по X по количеству уникальных заказов менее 100000\n",
    "x_values = pd.Series(range(0, len(orders.query('revenue<100000')['revenue'])))\n",
    "\n",
    "# Строим график\n",
    "plt.scatter(x_values, orders.query('revenue<100000')['revenue'])\n",
    "\n",
    "# Называем оси и график\n",
    "plt.title(\"График стоимости заказов до 100'000\")\n",
    "plt.xlabel('Номера уникальных заказов по порядку', fontsize=12)\n",
    "plt.ylabel('Стоимость заказов', fontsize=12)\n",
    "\n",
    "plt.show()"
   ]
  },
  {
   "cell_type": "markdown",
   "metadata": {},
   "source": [
    "<div class=\"alert alert-block alert-success\">✅ <b>Комментарий ревьюера:</b> Для большей наглядности распределения, рекомендую построить доп. график без учёта 2х явных выбросов  :)\n",
    "</div>"
   ]
  },
  {
   "cell_type": "markdown",
   "metadata": {},
   "source": [
    "<div style=\"border:solid blue 2px; padding: 20px\">\n",
    "<div class=\"alert alert-info\"> <b>Комментарий студента:</b> \n",
    "Добавил</div>"
   ]
  },
  {
   "cell_type": "markdown",
   "metadata": {},
   "source": [
    "<div class=\"alert alert-block alert-success\">✅ <b>Комментарий ревьюера 2:</b> По этому графику можно сделать вывод, что большая часть заказов менее 20000 :)\n",
    "</div>"
   ]
  },
  {
   "cell_type": "markdown",
   "metadata": {},
   "source": [
    "**Вывод:** из графиков видно, что большинство заказов менее 20000. Проверим, действительно ли они аномальны, определив 95й и 99й перцентили."
   ]
  },
  {
   "cell_type": "markdown",
   "metadata": {},
   "source": [
    "### Расчет 95го и 99го перцентиля стоимости заказов"
   ]
  },
  {
   "cell_type": "markdown",
   "metadata": {},
   "source": [
    "Посчитаем 95-й и 99-й перцентили стоимости заказов. "
   ]
  },
  {
   "cell_type": "code",
   "execution_count": 21,
   "metadata": {},
   "outputs": [
    {
     "data": {
      "text/plain": [
       "array([26785., 53904.])"
      ]
     },
     "execution_count": 21,
     "metadata": {},
     "output_type": "execute_result"
    }
   ],
   "source": [
    "np.percentile(orders['revenue'], [95, 99])"
   ]
  },
  {
   "cell_type": "markdown",
   "metadata": {},
   "source": [
    "**Вывод:** 95 процентов заказов было на сумму 26785 и менее, 99 процентов - на 53904 и менее. Границу аномальной стоимости заказов можно выбрать на уровне 99го перцентиля."
   ]
  },
  {
   "cell_type": "markdown",
   "metadata": {},
   "source": [
    "<div class=\"alert alert-block alert-danger\">❌ <b>Комментарий ревьюера:</b> Почему была выбрана граница 40000? Лучше использовать значения перцентилей \n",
    "</div>"
   ]
  },
  {
   "cell_type": "markdown",
   "metadata": {},
   "source": [
    "<div style=\"border:solid blue 2px; padding: 20px\">\n",
    "<div class=\"alert alert-info\"> <b>Комментарий студента:</b> \n",
    "Вывод переписал, вместо 40000, берем 99й перцентиль.</div>"
   ]
  },
  {
   "cell_type": "markdown",
   "metadata": {},
   "source": [
    "<div class=\"alert alert-block alert-success\">✅ <b>Комментарий ревьюера 2:</b> Всё здорово :)\n",
    "</div>"
   ]
  },
  {
   "cell_type": "markdown",
   "metadata": {},
   "source": [
    "Проверим, сколько данных мы потеряем, оставив только покупателей, которые входят в 99% по количеству заказов и суммы покупки. Для простоты отсеивания также добавим каждому пользователю данные о количестве совершенных покупок за период теста в столбец `orders_count`."
   ]
  },
  {
   "cell_type": "code",
   "execution_count": 22,
   "metadata": {},
   "outputs": [
    {
     "name": "stdout",
     "output_type": "stream",
     "text": [
      "Верхняя граница количества заказов: 3.0\n",
      "Верхняя граница чека: 53904.0\n",
      "Процент отброшенных значений: 3.25 %\n"
     ]
    }
   ],
   "source": [
    "# Добавляем столбец с количеством совершенных заказов каждым посетителей\n",
    "orders['orders_count'] =  orders.groupby('visitorId')['transactionId'].transform('count')\n",
    "\n",
    "# Задаем выбранный уровень перцентиля\n",
    "high_percentile = 0.99\n",
    "\n",
    "# Задаем границы количества заказов и чека на уровне 99%\n",
    "orders_high = orders['orders_count'].quantile(high_percentile)\n",
    "revenue_high = orders['revenue'].quantile(high_percentile)\n",
    "print(f'Верхняя граница количества заказов: {orders_high}')\n",
    "print(f'Верхняя граница чека: {revenue_high}')\n",
    "\n",
    "# Выясняем, сколько данных отсеится\n",
    "print('Процент отброшенных значений:',\n",
    "      round(\n",
    "        100 - len(orders.query('(orders_count < @orders_high) & (revenue < @revenue_high)'))\n",
    "        / len(orders) * 100,\n",
    "        2\n",
    "        ),\n",
    "      '%'\n",
    "    )"
   ]
  },
  {
   "cell_type": "markdown",
   "metadata": {},
   "source": [
    "Фильтрация по двум параметрам по 99-му перцентилю отсеивает 3,25% значений. Немного, можно фильтровать."
   ]
  },
  {
   "cell_type": "code",
   "execution_count": 23,
   "metadata": {},
   "outputs": [
    {
     "data": {
      "text/plain": [
       "group\n",
       "A    45.371312\n",
       "B    54.628688\n",
       "Name: visitorId, dtype: float64"
      ]
     },
     "execution_count": 23,
     "metadata": {},
     "output_type": "execute_result"
    }
   ],
   "source": [
    "# Создаем отфильтрованный фрейм с данными о заказах\n",
    "orders_filtered = orders.query('(orders_count < @orders_high) & (revenue < @revenue_high)')\n",
    "\n",
    "# Разделим на группы\n",
    "orders_filtered_a = orders_filtered.query('group==\"A\"')\n",
    "orders_filtered_b = orders_filtered.query('group==\"B\"')\n",
    "\n",
    "# Проверим, насколько равные получились группы\n",
    "orders_filtered.groupby('group')['visitorId'].count() / len(orders_filtered) * 100"
   ]
  },
  {
   "cell_type": "markdown",
   "metadata": {},
   "source": [
    "Без аномальных покупателей группы также примерно равные: 45 и 55 процентов."
   ]
  },
  {
   "cell_type": "markdown",
   "metadata": {},
   "source": [
    "### Расчет статзначимости различий в конверсии по сырым данным"
   ]
  },
  {
   "cell_type": "markdown",
   "metadata": {},
   "source": [
    "Итак, сформулируем гипотезы:\n",
    "* Н0 - различий в конверсии (количество заказов на одного пользователя) между группами нет;\n",
    "* Н1 - различия в конверсии есть.  \n",
    "\n",
    "Доверительный интервал выберем на уровне 0.05.\n",
    "\n",
    "Расчитаем статистическую значимость различия в конверсии между группами по критерию Манна-Уитни."
   ]
  },
  {
   "cell_type": "markdown",
   "metadata": {},
   "source": [
    "<div class=\"alert alert-block alert-danger\">❌ <b>Комментарий ревьюера:</b> Не хватает постановок гипотез (касается и расчётов ниже)\n",
    "</div>"
   ]
  },
  {
   "cell_type": "markdown",
   "metadata": {},
   "source": [
    "<div style=\"border:solid blue 2px; padding: 20px\">\n",
    "<div class=\"alert alert-info\"> <b>Комментарий студента:</b> \n",
    "Сформулировал</div>"
   ]
  },
  {
   "cell_type": "markdown",
   "metadata": {},
   "source": [
    "<div class=\"alert alert-block alert-success\">✅ <b>Комментарий ревьюера 2:</b> Всё верно :)\n",
    "</div>"
   ]
  },
  {
   "cell_type": "code",
   "execution_count": 24,
   "metadata": {},
   "outputs": [
    {
     "name": "stdout",
     "output_type": "stream",
     "text": [
      "p-value = 0.01102\n",
      "Увеличение конверсии группы В относительно А = 0.160\n"
     ]
    }
   ],
   "source": [
    "# Создаем сет с уникальными покупателями группы А\n",
    "orders_by_user_a = orders_a.groupby('visitorId')['transactionId'].nunique()\n",
    "\n",
    "# Создаем сет с пользователями группы В\n",
    "orders_by_user_b = orders_b.groupby('visitorId')['transactionId'].nunique() \n",
    "\n",
    "# Создаем сет, в котором будут и те, кто покупал, и те, кто не купил (для А)\n",
    "sample_a = pd.concat(\n",
    "        [\n",
    "            # Добавляем количество заказов для каждого покупателя\n",
    "            orders_by_user_a,\n",
    "            # Добавляем нули для тех, кто не покупал\n",
    "            pd.Series(\n",
    "                    0,\n",
    "                    index=np.arange(\n",
    "                        visitors.query('group==\"A\"')['visitors'].sum() - len(orders_by_user_a)\n",
    "                        ),\n",
    "                    ),\n",
    "        ],\n",
    "        axis=0,\n",
    "        )\n",
    "\n",
    "# Создаем сет, в котором будут и те, кто покупал, и те, кто не купил (для В)\n",
    "sample_b = pd.concat(\n",
    "        [\n",
    "            # Добавляем количество заказов для каждого покупателя\n",
    "            orders_by_user_b,\n",
    "            # Добавляем нулия для тех, кто не покупал\n",
    "            pd.Series(\n",
    "                    0,\n",
    "                    index=np.arange(\n",
    "                        visitors.query('group==\"B\"')['visitors'].sum() - len(orders_by_user_b)\n",
    "                        ),\n",
    "                    ),\n",
    "        ],\n",
    "        axis=0,\n",
    "        )\n",
    "\n",
    "# Подсчитываем p-value по Манну-Уитни\n",
    "print('p-value =', \"{0:.5f}\".format(stats.mannwhitneyu(sample_a, sample_b)[1]))\n",
    "\n",
    "# Увеличение конверсии в группе В относительно группы А\n",
    "print('Увеличение конверсии группы В относительно А =', \"{0:.3f}\".format(sample_b.mean() / sample_a.mean() - 1))"
   ]
  },
  {
   "cell_type": "markdown",
   "metadata": {},
   "source": [
    "Построим график изменения p-value конверсии посетителей в заказы по дням."
   ]
  },
  {
   "cell_type": "code",
   "execution_count": 25,
   "metadata": {
    "scrolled": true
   },
   "outputs": [
    {
     "data": {
      "text/plain": [
       "[0.07106, 0.05051, 0.06248, 0.02177, 0.01102]"
      ]
     },
     "execution_count": 25,
     "metadata": {},
     "output_type": "execute_result"
    }
   ],
   "source": [
    "# Делаем список из дней\n",
    "days = pd.to_datetime(dates['date'].unique()).sort_values()\n",
    "# Создаем пустой список, куда добавим значения p-value на каждую дату\n",
    "p_vals_cr = []\n",
    "\n",
    "for dt in days:\n",
    "\n",
    "    # Создаем сет с уникальными покупателями группы А на каждую дату\n",
    "    df_a = orders_a[orders_a['date'] <= dt].groupby('visitorId')['transactionId'].nunique()\n",
    "\n",
    "    # Создаем сет с уникальными покупателями группы В на каждую дату\n",
    "    df_b = orders_b[orders_b['date'] <= dt].groupby('visitorId')['transactionId'].nunique()\n",
    " \n",
    "    # Создаем сет, в котором будут и те, кто покупал, и те, кто не купил (для А)\n",
    "    df_a = pd.concat(\n",
    "        [\n",
    "            df_a,\n",
    "            pd.Series(\n",
    "                    0,\n",
    "                    index=np.arange(\n",
    "                        visitors.query('group==\"A\" & (date <= @dt)')['visitors'].sum() - len(df_a)\n",
    "                        ),\n",
    "                    ),\n",
    "        ],\n",
    "        axis=0,\n",
    "        )\n",
    "\n",
    "    # Создаем сет, в котором будут и те, кто покупал, и те, кто не купил (для В)\n",
    "    df_b = pd.concat(\n",
    "        [\n",
    "            df_b,\n",
    "            pd.Series(\n",
    "                    0,\n",
    "                    index=np.arange(\n",
    "                        visitors.query('group==\"B\" & (date <= @dt)')['visitors'].sum() - len(df_b)\n",
    "                        ),\n",
    "                    ),\n",
    "        ],\n",
    "        axis=0,\n",
    "        )\n",
    "    \n",
    "    # Рассчитываем p-value и добавляем в общий список\n",
    "    p_val_cr = '{0:.5f}'.format(stats.mannwhitneyu(df_a, df_b).pvalue)\n",
    "    p_vals_cr.append(p_val_cr)\n",
    "# Переводим в float вместо строк\n",
    "p_vals_cr = [float(x) for x in p_vals_cr]\n",
    "# Проверим последние 5 значений. Последнее должно совпадать с рассчитанным выше\n",
    "p_vals_cr[-5:]"
   ]
  },
  {
   "cell_type": "code",
   "execution_count": 26,
   "metadata": {},
   "outputs": [
    {
     "data": {
      "image/png": "[encoded data removed]",
      "text/plain": [
       "<Figure size 864x576 with 1 Axes>"
      ]
     },
     "metadata": {
      "needs_background": "light"
     },
     "output_type": "display_data"
    }
   ],
   "source": [
    "# cтроим график изменения p-value по дням\n",
    "plt.plot(days, p_vals_cr)\n",
    "\n",
    "# добавляем ось X в значении доверительного интервала 0.05\n",
    "plt.axhline(y=0.05, color='black', linestyle='--')\n",
    "\n",
    "# отображаем название\n",
    "plt.title('График изменения p-value конверсии посетителей в количество заказов')\n",
    "plt.show()"
   ]
  },
  {
   "cell_type": "markdown",
   "metadata": {},
   "source": [
    "**Вывод:** видно, что p-value вышел на плато и установился меньше 0,05. Соответственно, гипотезу о равенства конверсий в группах можно отклонить и принять альтернативную гипотезу: различия в конверсии есть, и они в пользу группы В. Конверсия группы В выросла на 16%. Окончательные выводы можно будет делать после анализа данных без аномальных покупателей."
   ]
  },
  {
   "cell_type": "markdown",
   "metadata": {},
   "source": [
    "<div class=\"alert alert-block alert-danger\">❌ <b>Комментарий ревьюера:</b> Хороший график изменения p-value. Но не совсем ясно о каком доверительном интеравале идёт речь. Также нет заключения о том есть ли различия по конверсиям или нет. В данном случае стоит опираться всё же на последние значения, т.к. для первых дней не очень много данных \n",
    "</div>"
   ]
  },
  {
   "cell_type": "markdown",
   "metadata": {},
   "source": [
    "<div style=\"border:solid blue 2px; padding: 20px\">\n",
    "<div class=\"alert alert-info\"> <b>Комментарий студента:</b> \n",
    "Про доверительный интервал написал выше: приняли равным 0.05. Вывод поправил, теперь указано какая гипотеза выиграла.</div>"
   ]
  },
  {
   "cell_type": "markdown",
   "metadata": {},
   "source": [
    "<div class=\"alert alert-block alert-success\">✅ <b>Комментарий ревьюера 2:</b> Теперь вывод более полный и мы видим стат. отличия в конверсиях по сырым данным :)\n",
    "</div>"
   ]
  },
  {
   "cell_type": "markdown",
   "metadata": {},
   "source": [
    "### Расчет статзначимости различий в среднем чеке по сырым данным"
   ]
  },
  {
   "cell_type": "markdown",
   "metadata": {},
   "source": [
    "Итак, сформулируем гипотезы:\n",
    "* Н0 - различий в среднем чеке между группами нет;\n",
    "* Н1 - различия в среднем чеке есть.  \n",
    "\n",
    "Доверительный интервал выберем на уровне 0.05.\n",
    "\n",
    "Посчитаем статистическую значимость различий в среднем чеке заказа между группами по «сырым» данным."
   ]
  },
  {
   "cell_type": "code",
   "execution_count": 27,
   "metadata": {},
   "outputs": [
    {
     "name": "stdout",
     "output_type": "stream",
     "text": [
      "p-value = 0.82949\n",
      "Увеличение среднего чека группы В относительно А = 0.287\n"
     ]
    }
   ],
   "source": [
    "print('p-value =', \n",
    "      '{0:.5f}'.format(stats.mannwhitneyu(orders_a['revenue'], \n",
    "                                          orders_b['revenue'])[1]))\n",
    "print('Увеличение среднего чека группы В относительно А =', \n",
    "      '{0:.3f}'.format(orders_b['revenue'].mean()/orders_a['revenue'].mean()-1))"
   ]
  },
  {
   "cell_type": "markdown",
   "metadata": {},
   "source": [
    "Построим график изменения p-value среднего чека заказов."
   ]
  },
  {
   "cell_type": "code",
   "execution_count": 28,
   "metadata": {
    "scrolled": true
   },
   "outputs": [
    {
     "data": {
      "text/plain": [
       "[0.44253, 0.6036, 0.94363, 0.87069, 0.88402, 0.82949]"
      ]
     },
     "execution_count": 28,
     "metadata": {},
     "output_type": "execute_result"
    }
   ],
   "source": [
    "# Создаем пустой список, куда добавим значения p-value на каждую дату\n",
    "p_vals_avg_check = []\n",
    "\n",
    "for dt in days:\n",
    "\n",
    "    # Создаем сет с данными о покупках группы А на каждую дату\n",
    "    df_a = orders_a[orders_a['date'] <= dt]\n",
    "    # Создаем сет с данными о покупках группы В на каждую дату\n",
    "    df_b = orders_b[orders_b['date'] <= dt]\n",
    "    \n",
    "    # Рассчитываем p-value и добавляем в общий список\n",
    "    p_val_avg_check = '{0:.5f}'.format(stats.mannwhitneyu(df_a['revenue'],df_b['revenue']).pvalue)\n",
    "    p_vals_avg_check.append(p_val_avg_check)\n",
    "\n",
    "# Переводим в float вместо строк\n",
    "p_vals_avg_check = [float(x) for x in p_vals_avg_check]\n",
    "# Проверим последние 5 значений. Последнее должно совпадать с рассчитанным выше\n",
    "p_vals_avg_check[-6:]"
   ]
  },
  {
   "cell_type": "code",
   "execution_count": 29,
   "metadata": {},
   "outputs": [
    {
     "data": {
      "image/png": "[encoded data removed]",
      "text/plain": [
       "<Figure size 864x576 with 1 Axes>"
      ]
     },
     "metadata": {
      "needs_background": "light"
     },
     "output_type": "display_data"
    }
   ],
   "source": [
    "# cтроим график изменения p-value по дням\n",
    "plt.plot(days, p_vals_avg_check)\n",
    "\n",
    "# добавляем ось X в значении доверительного интервала 0.05\n",
    "plt.axhline(y=0.05, color='black', linestyle='--')\n",
    "\n",
    "# отображаем название\n",
    "plt.title('График изменения p-value среднего чека заказов')\n",
    "plt.show()"
   ]
  },
  {
   "cell_type": "markdown",
   "metadata": {},
   "source": [
    "**Вывод:** p-value значительно больше 0.05, следовательно статистически значимых отличий в среднем чеке между группами нет - принимаем нулевую гипотезу. Также это подтверждается графиком изменения p-value во времени, из которого видно, что p-value весь период теста был выше доверителнього интервала. Средний чек группы В по сравнению с группой А вырос на 28,7%. Однако, есть предположение, что в группу В попали крупные заказы. Проверим увеличение среднего чека группы В позже на данных без аномальных покупок."
   ]
  },
  {
   "cell_type": "markdown",
   "metadata": {},
   "source": [
    "<div class=\"alert alert-block alert-success\">✅ <b>Комментарий ревьюера:</b> Всё верно, по чеку отличий нет, несмотря на большую отномительную разницу  :)\n",
    "</div>"
   ]
  },
  {
   "cell_type": "markdown",
   "metadata": {},
   "source": [
    "<div style=\"border:solid blue 2px; padding: 20px\">\n",
    "<div class=\"alert alert-info\"> <b>Комментарий студента:</b> \n",
    "Добавил гипотезу, вывод привязал к ней.</div>"
   ]
  },
  {
   "cell_type": "markdown",
   "metadata": {},
   "source": [
    "### Расчет статзначимости различий в конверсии по очищенным данным"
   ]
  },
  {
   "cell_type": "markdown",
   "metadata": {},
   "source": [
    "Аналогично расчетам ранее, проверяем следующие гипотезы:\n",
    "* Н0 - различий в конверсии (количество заказов на одного пользователя) между группами нет;\n",
    "* Н1 - различия в конверсии есть.  \n",
    "\n",
    "Доверительный интервал выберем на уровне 0.05.\n",
    "\n",
    "Расчитаем статистическую значимость различия в конверсии (количество заказов на одного пользователя) между группами по критерию Манна-Уитни по очищенным данным (количество и стоимость заказов ниже 99го перцентиля)."
   ]
  },
  {
   "cell_type": "code",
   "execution_count": 30,
   "metadata": {
    "scrolled": false
   },
   "outputs": [
    {
     "data": {
      "text/plain": [
       "visitorId\n",
       "11685486    1\n",
       "54447517    1\n",
       "66685450    1\n",
       "78758296    1\n",
       "85103373    1\n",
       "Name: transactionId, dtype: int64"
      ]
     },
     "metadata": {},
     "output_type": "display_data"
    },
    {
     "data": {
      "text/plain": [
       "visitorId\n",
       "5114589     1\n",
       "6958315     1\n",
       "39475350    1\n",
       "47206413    1\n",
       "48147722    1\n",
       "Name: transactionId, dtype: int64"
      ]
     },
     "metadata": {},
     "output_type": "display_data"
    }
   ],
   "source": [
    "# Группируем отфильтрованный фрейм по уникальным покупателям, \n",
    "# вычисляя количество заказов на каждого (для группы А)\n",
    "orders_filtered_by_user_a = orders_filtered_a.groupby('visitorId')['transactionId'].nunique()\n",
    "\n",
    "# Группируем отфильтрованный фрейм по уникальным покупателям, \n",
    "# вычисляя количество заказов на каждого (для группы В)\n",
    "orders_filtered_by_user_b = orders_filtered_b.groupby('visitorId')['transactionId'].nunique()\n",
    "display(orders_filtered_by_user_a.head())\n",
    "display(orders_filtered_by_user_b.head())"
   ]
  },
  {
   "cell_type": "code",
   "execution_count": 31,
   "metadata": {
    "scrolled": true
   },
   "outputs": [
    {
     "name": "stdout",
     "output_type": "stream",
     "text": [
      "p-value = 0.00621\n",
      "Увеличение конверсии группы В относительно А = 0.193\n"
     ]
    }
   ],
   "source": [
    "# Создаем сет, в котором будут и те, кто покупал, и те, кто не купил (для А)\n",
    "sample_filtered_a = pd.concat(\n",
    "    [\n",
    "        # Заказы по покупателям (покупатель - количество заказов)\n",
    "        orders_filtered_by_user_a,\n",
    "        # Серия нулей по количеству посетителей, которые не покупатели\n",
    "        pd.Series(\n",
    "            0,\n",
    "            index=np.arange(\n",
    "                visitors.query('group==\"A\"')['visitors'].sum() - len(orders_filtered_by_user_a)\n",
    "            ),\n",
    "        ),\n",
    "    ],\n",
    "    axis=0,\n",
    "    )\n",
    "\n",
    "# Создаем сет, в котором будут и те, кто покупал, и те, кто не купил (для В)\n",
    "sample_filtered_b = pd.concat(\n",
    "    [\n",
    "        # Заказы по покупателям (покупатель - количество заказов)\n",
    "        orders_filtered_by_user_b,\n",
    "        # Серия нулей по количеству посетителей, которые не покупатели\n",
    "        pd.Series(\n",
    "            0,\n",
    "            index=np.arange(\n",
    "                visitors.query('group==\"B\"')['visitors'].sum() - len(orders_filtered_by_user_b)\n",
    "            ),\n",
    "        ),\n",
    "    ],\n",
    "    axis=0,\n",
    "    )\n",
    "\n",
    "# Считаем p-value по Манну-Уитни\n",
    "print('p-value =', '{0:.5f}'.format(stats.mannwhitneyu(sample_filtered_a, sample_filtered_b)[1]))\n",
    "\n",
    "# Увеличение конверсии в группе В относительно группы А\n",
    "print('Увеличение конверсии группы В относительно А =', '{0:.3f}'.format(sample_filtered_b.mean()/\n",
    "                                                                         sample_filtered_a.mean()-1))"
   ]
  },
  {
   "cell_type": "markdown",
   "metadata": {},
   "source": [
    "Для проверки также проведем ttest"
   ]
  },
  {
   "cell_type": "code",
   "execution_count": 32,
   "metadata": {
    "scrolled": true
   },
   "outputs": [
    {
     "name": "stdout",
     "output_type": "stream",
     "text": [
      "p-value по ttestу = 0.00676\n"
     ]
    }
   ],
   "source": [
    "print('p-value по ttestу =', '{0:.5f}'.format(stats.ttest_ind(sample_filtered_a, sample_filtered_b)[1]))"
   ]
  },
  {
   "cell_type": "markdown",
   "metadata": {},
   "source": [
    "Построим график изменения p-value конверсии посетителей в заказы по дням."
   ]
  },
  {
   "cell_type": "code",
   "execution_count": 33,
   "metadata": {
    "scrolled": true
   },
   "outputs": [
    {
     "data": {
      "text/plain": [
       "[0.04496, 0.03124, 0.03982, 0.01281, 0.00621]"
      ]
     },
     "execution_count": 33,
     "metadata": {},
     "output_type": "execute_result"
    }
   ],
   "source": [
    "# Создаем пустой список, куда добавим значения p-value на каждую дату\n",
    "p_vals_cr_clear = []\n",
    "\n",
    "for dt in days:\n",
    "\n",
    "    # Создаем сет с уникальными покупателями группы А на каждую дату\n",
    "    df_a = orders_filtered_a[orders_filtered_a['date'] <= dt].groupby('visitorId')['transactionId'].nunique()\n",
    "\n",
    "    # Создаем сет с уникальными покупателями группы В на каждую дату\n",
    "    df_b = orders_filtered_b[orders_filtered_b['date'] <= dt].groupby('visitorId')['transactionId'].nunique()\n",
    "\n",
    "    # Создаем сет, в котором будут и те, кто покупал, и те, кто не купил (для А)\n",
    "    df_a = pd.concat(\n",
    "        [\n",
    "            df_a,\n",
    "            pd.Series(\n",
    "                    0,\n",
    "                    index=np.arange(\n",
    "                        visitors.query('group==\"A\" & (date <= @dt)')['visitors'].sum() - len(df_a)\n",
    "                        ),\n",
    "                    ),\n",
    "        ],\n",
    "        axis=0,\n",
    "        )\n",
    "\n",
    "    # Создаем сет, в котором будут и те, кто покупал, и те, кто не купил (для В)\n",
    "    df_b = pd.concat(\n",
    "        [\n",
    "            df_b,\n",
    "            pd.Series(\n",
    "                    0,\n",
    "                    index=np.arange(\n",
    "                        visitors.query('group==\"B\" & (date <= @dt)')['visitors'].sum() - len(df_b)\n",
    "                        ),\n",
    "                    ),\n",
    "        ],\n",
    "        axis=0,\n",
    "        )\n",
    "    \n",
    "    # Рассчитываем p-value и добавляем в общий список\n",
    "    p_val_cr_clear = '{0:.5f}'.format(stats.mannwhitneyu(df_a, df_b).pvalue)\n",
    "    p_vals_cr_clear.append(p_val_cr_clear)\n",
    "\n",
    "# Переводим в float вместо строк\n",
    "p_vals_cr_clear = [float(x) for x in p_vals_cr_clear]\n",
    "# Проверим последние 5 значений. Последнее должно совпадать с рассчитанным выше\n",
    "p_vals_cr_clear[-5:]"
   ]
  },
  {
   "cell_type": "code",
   "execution_count": 34,
   "metadata": {},
   "outputs": [
    {
     "data": {
      "image/png": "[encoded data removed]",
      "text/plain": [
       "<Figure size 864x576 with 1 Axes>"
      ]
     },
     "metadata": {
      "needs_background": "light"
     },
     "output_type": "display_data"
    }
   ],
   "source": [
    "# cтроим график изменения p-value по дням\n",
    "plt.plot(days, p_vals_cr_clear)\n",
    "\n",
    "# добавляем ось X в значении доверительного интервала 0.05\n",
    "plt.axhline(y=0.05, color='black', linestyle='--')\n",
    "\n",
    "# отображаем название\n",
    "plt.title('График изменения p-value конверсии посетителей в количество заказов по очищенным данным')\n",
    "plt.show()"
   ]
  },
  {
   "cell_type": "markdown",
   "metadata": {},
   "source": [
    "**Вывод:** на очищенных данных p-value точнее показывает наличие статистической значимости, соответственно, можно сделать окончательный вывод, что верна альтернативная гипотеза: конверсия групп различается. T-test это также подтверждает. По графику изменения p-value во времени также видно, что значение p-value вышло на плато и оно ниже доверительного интервала. При этом в группе В по очищенным от аномалий данным конверсия выросла больше, чем на 20%."
   ]
  },
  {
   "cell_type": "markdown",
   "metadata": {},
   "source": [
    "<div class=\"alert alert-block alert-success\">✅ <b>Комментарий ревьюера:</b> Верно, по конверсиям есть стат. отличия  :)\n",
    "</div>"
   ]
  },
  {
   "cell_type": "markdown",
   "metadata": {},
   "source": [
    "### Расчет статзначимости различий в среднем чеке по очищенным данным"
   ]
  },
  {
   "cell_type": "markdown",
   "metadata": {},
   "source": [
    "Аналогично расчетам ранее, проверяем следующие гипотезы:\n",
    "* Н0 - различий в среднем чеке между группами нет;\n",
    "* Н1 - различия в среднем чеке есть.  \n",
    "\n",
    "Доверительный интервал выберем на уровне 0.05.\n",
    "\n",
    "Посчитаем статистическую значимость различий в среднем чеке заказа между группами по очищенным данным (количество и стоимость заказов ниже 99го перцентиля)."
   ]
  },
  {
   "cell_type": "code",
   "execution_count": 35,
   "metadata": {},
   "outputs": [
    {
     "name": "stdout",
     "output_type": "stream",
     "text": [
      "p-value = 0.84171\n",
      "Увеличение среднего чека группы В относительно А = -0.014\n"
     ]
    }
   ],
   "source": [
    "print('p-value =',\n",
    "    '{0:.5f}'.format(stats.mannwhitneyu(orders_filtered_a['revenue'],\n",
    "                                        orders_filtered_b['revenue'])[1]))\n",
    "\n",
    "print('Увеличение среднего чека группы В относительно А =',\n",
    "    \"{0:.3f}\".format(orders_filtered_b['revenue'].mean()\n",
    "                    / orders_filtered_a['revenue'].mean()\n",
    "                    - 1))"
   ]
  },
  {
   "cell_type": "markdown",
   "metadata": {},
   "source": [
    "Также проверим по t-testу."
   ]
  },
  {
   "cell_type": "code",
   "execution_count": 36,
   "metadata": {},
   "outputs": [
    {
     "name": "stdout",
     "output_type": "stream",
     "text": [
      "p-value по ttestу = 0.87232\n"
     ]
    }
   ],
   "source": [
    "# расчет p-value для среднего чека групп через ttest\n",
    "print('p-value по ttestу =', '{0:.5f}'.format(stats.ttest_ind(orders_filtered_a['revenue'],\n",
    "                                                              orders_filtered_b['revenue'])[1]))"
   ]
  },
  {
   "cell_type": "code",
   "execution_count": 37,
   "metadata": {
    "scrolled": true
   },
   "outputs": [
    {
     "data": {
      "text/plain": [
       "[0.45235, 0.66354, 0.98311, 0.79204, 0.89529, 0.84171]"
      ]
     },
     "execution_count": 37,
     "metadata": {},
     "output_type": "execute_result"
    }
   ],
   "source": [
    "# Создаем пустой список, куда добавим значения p-value на каждую дату\n",
    "p_vals_avg_check_clear = []\n",
    "\n",
    "for dt in days:\n",
    "\n",
    "    # Создаем сет с данными о покупках группы А на каждую дату\n",
    "    df_a = orders_filtered_a[orders_filtered_a['date'] <= dt]\n",
    "    # Создаем сет с данными о покупках группы В на каждую дату\n",
    "    df_b = orders_filtered_b[orders_filtered_b['date'] <= dt]\n",
    "    \n",
    "    # Рассчитываем p-value и добавляем в общий список\n",
    "    p_val_avg_check_clear = '{0:.5f}'.format(stats.mannwhitneyu(df_a['revenue'],df_b['revenue']).pvalue)\n",
    "    p_vals_avg_check_clear.append(p_val_avg_check_clear)\n",
    "\n",
    "# Переводим в float вместо строк\n",
    "p_vals_avg_check_clear = [float(x) for x in p_vals_avg_check_clear]\n",
    "# Проверим последние 5 значений. Последнее должно совпадать с рассчитанным выше\n",
    "p_vals_avg_check_clear[-6:]"
   ]
  },
  {
   "cell_type": "code",
   "execution_count": 38,
   "metadata": {},
   "outputs": [
    {
     "data": {
      "image/png": "[encoded data removed]",
      "text/plain": [
       "<Figure size 864x576 with 1 Axes>"
      ]
     },
     "metadata": {
      "needs_background": "light"
     },
     "output_type": "display_data"
    }
   ],
   "source": [
    "# cтроим график изменения p-value по дням\n",
    "plt.plot(days, p_vals_avg_check_clear)\n",
    "\n",
    "# добавляем ось X в значении доверительного интервала 0.05\n",
    "plt.axhline(y=0.05, color='black', linestyle='--')\n",
    "\n",
    "# отображаем название\n",
    "plt.title('График изменения p-value среднего чека заказов по очищенным данным')\n",
    "plt.show()"
   ]
  },
  {
   "cell_type": "markdown",
   "metadata": {},
   "source": [
    "**Вывод:** по очищенным данным в среднем чеке различий между группами также нет, принимаем нулевую гипотезу. А вот в процентном соотношении результаты группы В снизились: превосходство среднего чека группы В снизилось с 20% до 5%. Видимо в процессе проведения теста в группу В попадали самые крупные заказы. Прирост есть, однако, как видно из p-value, он статистически не значим. По графику изменения p-value также видно, что на протяжении всего теста этот прирост был статистически незначим. T-test эти выводы также подтверждает."
   ]
  },
  {
   "cell_type": "markdown",
   "metadata": {},
   "source": [
    "<div class=\"alert alert-block alert-success\">✅ <b>Комментарий ревьюера:</b> По чеку отличий как не было так и нет, хотя выбросы существенно уменьшили значение среднего чека группы В  :)\n",
    "</div>"
   ]
  },
  {
   "cell_type": "markdown",
   "metadata": {},
   "source": [
    "### Построение кумулятивных графиков по очищенным данным"
   ]
  },
  {
   "cell_type": "markdown",
   "metadata": {},
   "source": [
    "Построенные ранее графики среднего чека по сырым данным не дали точного ответа, установилось ли значение среднего чека в группах по прошествии месяца проводимого теста. Аномальные значения мешали разглядеть плато.  \n",
    "Поэтому построим кумулятивные графики по среднему чеку (по группам и относительного изменения) по очищенным от аномалий данным."
   ]
  },
  {
   "cell_type": "code",
   "execution_count": 39,
   "metadata": {
    "scrolled": false
   },
   "outputs": [
    {
     "data": {
      "text/html": [
       "<div>\n",
       "<style scoped>\n",
       "    .dataframe tbody tr th:only-of-type {\n",
       "        vertical-align: middle;\n",
       "    }\n",
       "\n",
       "    .dataframe tbody tr th {\n",
       "        vertical-align: top;\n",
       "    }\n",
       "\n",
       "    .dataframe thead th {\n",
       "        text-align: right;\n",
       "    }\n",
       "</style>\n",
       "<table border=\"1\" class=\"dataframe\">\n",
       "  <thead>\n",
       "    <tr style=\"text-align: right;\">\n",
       "      <th></th>\n",
       "      <th>date</th>\n",
       "      <th>group</th>\n",
       "      <th>orders</th>\n",
       "      <th>buyers</th>\n",
       "      <th>revenue</th>\n",
       "    </tr>\n",
       "  </thead>\n",
       "  <tbody>\n",
       "    <tr>\n",
       "      <th>45</th>\n",
       "      <td>2019-08-01</td>\n",
       "      <td>A</td>\n",
       "      <td>18</td>\n",
       "      <td>17</td>\n",
       "      <td>112340</td>\n",
       "    </tr>\n",
       "    <tr>\n",
       "      <th>54</th>\n",
       "      <td>2019-08-01</td>\n",
       "      <td>B</td>\n",
       "      <td>17</td>\n",
       "      <td>17</td>\n",
       "      <td>59758</td>\n",
       "    </tr>\n",
       "    <tr>\n",
       "      <th>149</th>\n",
       "      <td>2019-08-02</td>\n",
       "      <td>A</td>\n",
       "      <td>36</td>\n",
       "      <td>34</td>\n",
       "      <td>202252</td>\n",
       "    </tr>\n",
       "    <tr>\n",
       "      <th>147</th>\n",
       "      <td>2019-08-02</td>\n",
       "      <td>B</td>\n",
       "      <td>40</td>\n",
       "      <td>39</td>\n",
       "      <td>221801</td>\n",
       "    </tr>\n",
       "    <tr>\n",
       "      <th>245</th>\n",
       "      <td>2019-08-03</td>\n",
       "      <td>A</td>\n",
       "      <td>60</td>\n",
       "      <td>58</td>\n",
       "      <td>314725</td>\n",
       "    </tr>\n",
       "  </tbody>\n",
       "</table>\n",
       "</div>"
      ],
      "text/plain": [
       "          date group  orders  buyers  revenue\n",
       "45  2019-08-01     A      18      17   112340\n",
       "54  2019-08-01     B      17      17    59758\n",
       "149 2019-08-02     A      36      34   202252\n",
       "147 2019-08-02     B      40      39   221801\n",
       "245 2019-08-03     A      60      58   314725"
      ]
     },
     "execution_count": 39,
     "metadata": {},
     "output_type": "execute_result"
    }
   ],
   "source": [
    "# аггрегируем отфильтрованные заказы по датам, получая число уникальных \n",
    "# ID заказов и пользователей, а также сумму выручки по дням в каждой из групп.\n",
    "# Уникальные значения пар дат и групп (dates) мы получали ранее.\n",
    "orders_f_agg = (\n",
    "              dates.apply(lambda x: orders_filtered[np.logical_and(orders_filtered['date'] <= x['date'], \n",
    "                                                                   orders_filtered['group'] == x['group'])]\n",
    "                         .agg({'date' : 'max', \n",
    "                               'group' : 'max', \n",
    "                               'transactionId' : 'nunique', \n",
    "                               'visitorId' : 'nunique', \n",
    "                               'revenue' : 'sum'}), axis=1)\n",
    "                         .sort_values(by=['date','group'])\n",
    "              )\n",
    "\n",
    "# приводим столбцы к понятным названиям\n",
    "orders_f_agg.columns = ['date', 'group', 'orders', 'buyers', 'revenue']\n",
    "\n",
    "orders_f_agg.head()"
   ]
  },
  {
   "cell_type": "markdown",
   "metadata": {},
   "source": [
    "Разделим аггрегированные отфильтрованные данные о заказах по группам."
   ]
  },
  {
   "cell_type": "code",
   "execution_count": 40,
   "metadata": {},
   "outputs": [],
   "source": [
    "# датафрейм с кумулятивным количеством заказов и кумулятивной выручкой по дням в группе А\n",
    "cumdata_f_a = orders_f_agg[orders_f_agg['group']=='A'].reset_index(drop=True)\n",
    "\n",
    "# датафрейм с кумулятивным количеством заказов и кумулятивной выручкой по дням в группе B\n",
    "cumdata_f_b = orders_f_agg[orders_f_agg['group']=='B'].reset_index(drop=True)"
   ]
  },
  {
   "cell_type": "markdown",
   "metadata": {},
   "source": [
    "Теперь по аггрегированным данным по количеству заказов и выручке на каждый день построим графики кумулятивного среднего чека по группам и относительного изменения кумулятивного среднего чека группы В к группе А."
   ]
  },
  {
   "cell_type": "code",
   "execution_count": 41,
   "metadata": {
    "scrolled": false
   },
   "outputs": [
    {
     "data": {
      "image/png": "[encoded data removed]",
      "text/plain": [
       "<Figure size 864x576 with 1 Axes>"
      ]
     },
     "metadata": {
      "needs_background": "light"
     },
     "output_type": "display_data"
    }
   ],
   "source": [
    "# Строим график выручки группы А\n",
    "plt.plot(cumdata_f_a['date'], cumdata_f_a['revenue']/cumdata_f_a['orders'], label='A')\n",
    "\n",
    "# Строим график выручки группы В\n",
    "plt.plot(cumdata_f_b['date'], cumdata_f_b['revenue']/cumdata_f_b['orders'], label='B')\n",
    "\n",
    "# отображаем легенду и название\n",
    "plt.title('График кумулятивного среднего чека по группам на отфильтрованных данных')\n",
    "plt.legend()\n",
    "plt.show()"
   ]
  },
  {
   "cell_type": "code",
   "execution_count": 42,
   "metadata": {},
   "outputs": [
    {
     "data": {
      "image/png": "[encoded data removed]",
      "text/plain": [
       "<Figure size 864x576 with 1 Axes>"
      ]
     },
     "metadata": {
      "needs_background": "light"
     },
     "output_type": "display_data"
    }
   ],
   "source": [
    "# cтроим отношение средних чеков\n",
    "plt.plot(cumdata_f_a['date'], (cumdata_f_b['revenue']/cumdata_f_b['orders'])\n",
    "                               / (cumdata_f_a['revenue']/cumdata_f_a['orders'])-1)\n",
    "\n",
    "# добавляем ось X в нуле\n",
    "plt.axhline(y=0, color='black', linestyle='--')\n",
    "\n",
    "# добавляем ось X в среднем значении относительного среднего чека за весь период\n",
    "plt.axhline(y=((cumdata_f_b['revenue']/cumdata_f_b['orders'])\n",
    "                               / (cumdata_f_a['revenue']/cumdata_f_a['orders'])-1).mean(),\n",
    "            linestyle='--',\n",
    "            label='Среднее отношение среднего чека группы В к А по всему периоду')\n",
    "\n",
    "# отображаем название\n",
    "plt.title('График относительного изменения кумулятивного среднего чека группы В к А на отфильтрованных данных')\n",
    "plt.legend()\n",
    "plt.show()"
   ]
  },
  {
   "cell_type": "markdown",
   "metadata": {},
   "source": [
    "**Вывод:** из графиков кумулятивного среднего чека на очищенных данных видно, что средний чек также (как и конверсия посетителей в заказы) довольно стабилен по прошествии месяца. Небольшие колебания прироста среднего чека группы В по отношению к группе А присутствуют на графике, но значение установилось около 5% преимущества."
   ]
  },
  {
   "cell_type": "markdown",
   "metadata": {},
   "source": [
    "<div class=\"alert alert-block alert-success\">✅ <b>Комментарий ревьюера:</b> Здорово, что строишь доп. графики уже по отфильтрованным данным, чтобы оценить изменения  :)\n",
    "</div>"
   ]
  },
  {
   "cell_type": "markdown",
   "metadata": {},
   "source": [
    "## Выводы"
   ]
  },
  {
   "cell_type": "markdown",
   "metadata": {},
   "source": [
    "По результатам одного месяца тестирования выбранной гипотезы можно сделать следующие выводы:\n",
    "1. В сформированных группах были посетители, которые попали в обе группы. Такие посетители были удалены из выборок. Получившаяся выборка групп примерно равна:  46% посетителей в группе А, 54% - в группе В.\n",
    "2. По графикам кумулятивных метрик (средний чек, конверсия, выручка) видно:\n",
    "    * кумулятивная выручка группы А растет равномерно на протяжении теста. В группе В был резкий скачок данной метрики около 19 августа, однако, остальной общий тренд также равномерно восходящий;\n",
    "    * конверсия посетителей в количество заказов вышла на плато и в группе В она выше (также подтверждается статистическими тестами);\n",
    "    * на графиках среднего чека по сырым данным нельзя определить, вышли ли группы на плато - имелись резкие скачки среднего чека группы В, что мешало его разглядеть. Были построены графики на данных без аномалий , по которым видно, что по этой метрике также группы вышли на плато.\n",
    "3. Аномальные покупатели были определены как сделавшие более двух заказов, либо заказы на сумму более 40000. После очистки от аномалий выборка групп также осталась примерно одинаковой: 45% посетителей в группе А, 55% - в группе В.\n",
    "4. Конверсия посетителей в количество заказов у группы В выросло на 20%. Это увеличениие является статистически значимым, т.е. по конверсии группы отличаются.\n",
    "5. Средний чек в группах не отличается.\n",
    "5. Рекомендуется остановить тест и зафиксировать победу группы В, признав гипотезу успешной. Основанием являются:\n",
    "    * выход p-value конверсии на плато и закрепиление его там;\n",
    "    * конверсия группы В увеличилась более чем на 20% (график кумулятивной конверсии при этом также стабилен);\n",
    "    * различие среднего чека в группах не имеет статистической значимости, однако, в сумме с увеличением конверсии посетителей в количество заказов это даст увеличение выручки."
   ]
  },
  {
   "cell_type": "markdown",
   "metadata": {},
   "source": [
    "<div class=\"alert alert-block alert-danger\"> <b>Итоги ревью:</b> Хороший проект. Проделана качественная работа. Отдельно отмечу структуру, оформление и более глубокий анализ некоторых вопросов. Но, к сожалению, есть несколько замечаний, требующие корректировок и уточнений. Желаю успехов и жду работу на повторное ревью :)\n",
    "</div>"
   ]
  },
  {
   "cell_type": "markdown",
   "metadata": {},
   "source": [
    "<div style=\"border:solid blue 2px; padding: 20px\">\n",
    "<div class=\"alert alert-info\"> <b>Комментарий студента:</b> \n",
    "Спасибо за замечания <`3. </div>"
   ]
  },
  {
   "cell_type": "markdown",
   "metadata": {},
   "source": [
    "<div class=\"alert alert-block alert-success\"> <b>Итоги ревью 2:</b> Проект принят. Все критические замечания исправлены корректно. Проделана хоошая работа над ошибками. Ещ раз отмечу дополнительные иследования и качественные выводы.  Желаю успехов в будущих исследованиях :)\n",
    "</div>"
   ]
  }
 ],
 "metadata": {
  "ExecuteTimeLog": [
   {
    "duration": 1228,
    "start_time": "2022-08-29T19:50:31.515Z"
   },
   {
    "duration": 258,
    "start_time": "2022-08-29T19:53:55.298Z"
   },
   {
    "duration": 13,
    "start_time": "2022-08-29T19:54:42.577Z"
   },
   {
    "duration": 96,
    "start_time": "2022-08-29T19:56:33.990Z"
   },
   {
    "duration": 91,
    "start_time": "2022-08-29T19:56:39.903Z"
   },
   {
    "duration": 16,
    "start_time": "2022-08-29T19:56:51.719Z"
   },
   {
    "duration": 3,
    "start_time": "2022-08-29T19:57:52.599Z"
   },
   {
    "duration": 9,
    "start_time": "2022-08-29T19:57:54.503Z"
   },
   {
    "duration": 7,
    "start_time": "2022-08-29T19:58:04.198Z"
   },
   {
    "duration": 8,
    "start_time": "2022-08-29T19:59:21.150Z"
   },
   {
    "duration": 3,
    "start_time": "2022-08-29T20:04:08.599Z"
   },
   {
    "duration": 3,
    "start_time": "2022-08-29T20:04:13.718Z"
   },
   {
    "duration": 23,
    "start_time": "2022-08-29T20:04:36.781Z"
   },
   {
    "duration": 3,
    "start_time": "2022-08-29T20:04:50.598Z"
   },
   {
    "duration": 17,
    "start_time": "2022-08-29T20:04:51.967Z"
   },
   {
    "duration": 31,
    "start_time": "2022-08-29T20:05:37.799Z"
   },
   {
    "duration": 2,
    "start_time": "2022-08-29T20:13:00.246Z"
   },
   {
    "duration": 85,
    "start_time": "2022-08-29T20:13:50.973Z"
   },
   {
    "duration": 67,
    "start_time": "2022-08-29T20:14:13.278Z"
   },
   {
    "duration": 4,
    "start_time": "2022-08-29T20:16:54.244Z"
   },
   {
    "duration": 5,
    "start_time": "2022-08-29T20:17:19.582Z"
   },
   {
    "duration": 59,
    "start_time": "2022-08-29T20:18:35.430Z"
   },
   {
    "duration": 78,
    "start_time": "2022-08-29T20:18:52.701Z"
   },
   {
    "duration": 3,
    "start_time": "2022-08-29T20:24:12.660Z"
   },
   {
    "duration": 1298,
    "start_time": "2022-08-29T20:24:13.947Z"
   },
   {
    "duration": 3,
    "start_time": "2022-08-29T20:24:30.772Z"
   },
   {
    "duration": 3,
    "start_time": "2022-08-29T20:24:34.586Z"
   },
   {
    "duration": 17,
    "start_time": "2022-08-29T20:24:35.844Z"
   },
   {
    "duration": 5,
    "start_time": "2022-08-29T20:26:54.748Z"
   },
   {
    "duration": 1161,
    "start_time": "2022-08-29T20:27:04.075Z"
   },
   {
    "duration": 5,
    "start_time": "2022-08-29T20:27:06.811Z"
   },
   {
    "duration": 3,
    "start_time": "2022-08-29T20:27:16.610Z"
   },
   {
    "duration": 16,
    "start_time": "2022-08-29T20:27:18.627Z"
   },
   {
    "duration": 5,
    "start_time": "2022-08-29T20:27:31.634Z"
   },
   {
    "duration": 3,
    "start_time": "2022-08-29T20:27:46.147Z"
   },
   {
    "duration": 9,
    "start_time": "2022-08-29T20:27:50.082Z"
   },
   {
    "duration": 3,
    "start_time": "2022-08-29T20:29:26.155Z"
   },
   {
    "duration": 17,
    "start_time": "2022-08-29T20:29:34.866Z"
   },
   {
    "duration": 3,
    "start_time": "2022-08-29T20:30:18.099Z"
   },
   {
    "duration": 18,
    "start_time": "2022-08-29T20:30:21.042Z"
   },
   {
    "duration": 6,
    "start_time": "2022-08-29T20:33:40.450Z"
   },
   {
    "duration": 11,
    "start_time": "2022-08-29T20:33:45.665Z"
   },
   {
    "duration": 11,
    "start_time": "2022-08-29T20:35:01.490Z"
   },
   {
    "duration": 20,
    "start_time": "2022-08-29T20:36:33.372Z"
   },
   {
    "duration": 10,
    "start_time": "2022-08-29T20:40:51.978Z"
   },
   {
    "duration": 11,
    "start_time": "2022-08-29T20:40:57.809Z"
   },
   {
    "duration": 19,
    "start_time": "2022-08-29T20:41:09.865Z"
   },
   {
    "duration": 19,
    "start_time": "2022-08-29T20:41:48.570Z"
   },
   {
    "duration": 18,
    "start_time": "2022-08-29T20:42:11.955Z"
   },
   {
    "duration": 91,
    "start_time": "2022-08-29T20:42:29.402Z"
   },
   {
    "duration": 20,
    "start_time": "2022-08-29T20:45:57.913Z"
   },
   {
    "duration": 3,
    "start_time": "2022-08-29T20:47:04.010Z"
   },
   {
    "duration": 133,
    "start_time": "2022-08-29T20:47:04.015Z"
   },
   {
    "duration": 3,
    "start_time": "2022-08-29T20:47:04.150Z"
   },
   {
    "duration": 108,
    "start_time": "2022-08-29T20:47:04.154Z"
   },
   {
    "duration": 6,
    "start_time": "2022-08-29T20:47:04.264Z"
   },
   {
    "duration": 21,
    "start_time": "2022-08-29T20:47:10.102Z"
   },
   {
    "duration": 48,
    "start_time": "2022-08-30T08:57:33.864Z"
   },
   {
    "duration": 1251,
    "start_time": "2022-08-30T08:57:41.771Z"
   },
   {
    "duration": 227,
    "start_time": "2022-08-30T08:57:43.024Z"
   },
   {
    "duration": 2,
    "start_time": "2022-08-30T08:57:43.253Z"
   },
   {
    "duration": 91,
    "start_time": "2022-08-30T08:57:43.258Z"
   },
   {
    "duration": 4,
    "start_time": "2022-08-30T08:57:43.351Z"
   },
   {
    "duration": 24,
    "start_time": "2022-08-30T08:58:15.467Z"
   },
   {
    "duration": 23,
    "start_time": "2022-08-30T08:58:27.963Z"
   },
   {
    "duration": 26,
    "start_time": "2022-08-30T08:58:56.380Z"
   },
   {
    "duration": 24,
    "start_time": "2022-08-30T08:59:15.730Z"
   },
   {
    "duration": 63,
    "start_time": "2022-08-30T08:59:31.514Z"
   },
   {
    "duration": 23,
    "start_time": "2022-08-30T08:59:39.578Z"
   },
   {
    "duration": 23,
    "start_time": "2022-08-30T09:00:04.572Z"
   },
   {
    "duration": 30,
    "start_time": "2022-08-30T09:00:11.466Z"
   },
   {
    "duration": 26,
    "start_time": "2022-08-30T09:00:24.777Z"
   },
   {
    "duration": 28,
    "start_time": "2022-08-30T09:00:41.401Z"
   },
   {
    "duration": 25,
    "start_time": "2022-08-30T09:00:57.691Z"
   },
   {
    "duration": 21,
    "start_time": "2022-08-30T09:01:03.346Z"
   },
   {
    "duration": 4,
    "start_time": "2022-08-30T09:10:05.807Z"
   },
   {
    "duration": 56,
    "start_time": "2022-08-30T09:10:21.182Z"
   },
   {
    "duration": 11,
    "start_time": "2022-08-30T09:17:20.739Z"
   },
   {
    "duration": 6,
    "start_time": "2022-08-30T09:17:24.490Z"
   },
   {
    "duration": 16,
    "start_time": "2022-08-30T09:17:33.898Z"
   },
   {
    "duration": 17,
    "start_time": "2022-08-30T09:17:41.284Z"
   },
   {
    "duration": 15,
    "start_time": "2022-08-30T09:18:36.924Z"
   },
   {
    "duration": 16,
    "start_time": "2022-08-30T09:18:46.053Z"
   },
   {
    "duration": 16,
    "start_time": "2022-08-30T09:18:50.355Z"
   },
   {
    "duration": 23,
    "start_time": "2022-08-30T09:19:13.939Z"
   },
   {
    "duration": 22,
    "start_time": "2022-08-30T09:21:52.522Z"
   },
   {
    "duration": 22,
    "start_time": "2022-08-30T09:23:17.257Z"
   },
   {
    "duration": 14,
    "start_time": "2022-08-30T09:26:47.561Z"
   },
   {
    "duration": 14,
    "start_time": "2022-08-30T09:27:11.617Z"
   },
   {
    "duration": 8,
    "start_time": "2022-08-30T09:27:19.056Z"
   },
   {
    "duration": 15,
    "start_time": "2022-08-30T09:27:24.725Z"
   },
   {
    "duration": 9,
    "start_time": "2022-08-30T09:28:10.193Z"
   },
   {
    "duration": 20,
    "start_time": "2022-08-30T09:28:41.465Z"
   },
   {
    "duration": 7,
    "start_time": "2022-08-30T09:37:57.861Z"
   },
   {
    "duration": 7,
    "start_time": "2022-08-30T09:38:15.164Z"
   },
   {
    "duration": 10,
    "start_time": "2022-08-30T09:41:17.229Z"
   },
   {
    "duration": 54,
    "start_time": "2022-08-30T09:41:22.980Z"
   },
   {
    "duration": 78,
    "start_time": "2022-08-30T09:41:25.444Z"
   },
   {
    "duration": 60,
    "start_time": "2022-08-30T09:41:38.330Z"
   },
   {
    "duration": 57,
    "start_time": "2022-08-30T09:41:43.212Z"
   },
   {
    "duration": 815,
    "start_time": "2022-08-30T09:43:25.131Z"
   },
   {
    "duration": 54,
    "start_time": "2022-08-30T09:43:34.250Z"
   },
   {
    "duration": 10,
    "start_time": "2022-08-30T09:43:40.851Z"
   },
   {
    "duration": 57,
    "start_time": "2022-08-30T09:43:48.506Z"
   },
   {
    "duration": 15,
    "start_time": "2022-08-30T09:44:45.465Z"
   },
   {
    "duration": 47,
    "start_time": "2022-08-30T09:51:18.520Z"
   },
   {
    "duration": 203,
    "start_time": "2022-08-30T09:51:28.416Z"
   },
   {
    "duration": 3,
    "start_time": "2022-08-30T09:52:03.249Z"
   },
   {
    "duration": 231,
    "start_time": "2022-08-30T09:52:06.639Z"
   },
   {
    "duration": 3,
    "start_time": "2022-08-30T09:52:13.985Z"
   },
   {
    "duration": 120,
    "start_time": "2022-08-30T09:52:13.993Z"
   },
   {
    "duration": 2,
    "start_time": "2022-08-30T09:52:14.115Z"
   },
   {
    "duration": 91,
    "start_time": "2022-08-30T09:52:14.118Z"
   },
   {
    "duration": 4,
    "start_time": "2022-08-30T09:52:14.211Z"
   },
   {
    "duration": 29,
    "start_time": "2022-08-30T09:52:15.896Z"
   },
   {
    "duration": 19,
    "start_time": "2022-08-30T09:54:05.176Z"
   },
   {
    "duration": 62,
    "start_time": "2022-08-30T09:54:58.559Z"
   },
   {
    "duration": 11,
    "start_time": "2022-08-30T09:55:05.135Z"
   },
   {
    "duration": 11,
    "start_time": "2022-08-30T09:55:18.194Z"
   },
   {
    "duration": 59,
    "start_time": "2022-08-30T09:55:45.963Z"
   },
   {
    "duration": 68,
    "start_time": "2022-08-30T09:55:58.047Z"
   },
   {
    "duration": 63,
    "start_time": "2022-08-30T09:56:02.624Z"
   },
   {
    "duration": 59,
    "start_time": "2022-08-30T09:56:14.383Z"
   },
   {
    "duration": 77,
    "start_time": "2022-08-30T09:56:25.303Z"
   },
   {
    "duration": 61,
    "start_time": "2022-08-30T09:58:03.209Z"
   },
   {
    "duration": 63,
    "start_time": "2022-08-30T09:58:10.810Z"
   },
   {
    "duration": 62,
    "start_time": "2022-08-30T09:58:16.664Z"
   },
   {
    "duration": 5,
    "start_time": "2022-08-30T10:02:09.719Z"
   },
   {
    "duration": 14,
    "start_time": "2022-08-30T10:02:15.614Z"
   },
   {
    "duration": 26,
    "start_time": "2022-08-30T10:04:20.777Z"
   },
   {
    "duration": 10,
    "start_time": "2022-08-30T10:32:32.118Z"
   },
   {
    "duration": 10,
    "start_time": "2022-08-30T10:32:58.150Z"
   },
   {
    "duration": 12,
    "start_time": "2022-08-30T10:33:28.797Z"
   },
   {
    "duration": 6,
    "start_time": "2022-08-30T10:33:44.549Z"
   },
   {
    "duration": 4,
    "start_time": "2022-08-30T10:33:51.373Z"
   },
   {
    "duration": 9,
    "start_time": "2022-08-30T10:34:09.446Z"
   },
   {
    "duration": 4,
    "start_time": "2022-08-30T10:35:05.429Z"
   },
   {
    "duration": 5,
    "start_time": "2022-08-30T10:35:09.894Z"
   },
   {
    "duration": 6,
    "start_time": "2022-08-30T10:36:23.379Z"
   },
   {
    "duration": 9,
    "start_time": "2022-08-30T10:39:59.030Z"
   },
   {
    "duration": 4,
    "start_time": "2022-08-30T10:44:45.522Z"
   },
   {
    "duration": 1036,
    "start_time": "2022-08-30T10:44:49.066Z"
   },
   {
    "duration": 15,
    "start_time": "2022-08-30T10:44:57.802Z"
   },
   {
    "duration": 10,
    "start_time": "2022-08-30T10:46:55.658Z"
   },
   {
    "duration": 13,
    "start_time": "2022-08-30T10:49:31.545Z"
   },
   {
    "duration": 9,
    "start_time": "2022-08-30T10:49:42.473Z"
   },
   {
    "duration": 12,
    "start_time": "2022-08-30T10:50:18.416Z"
   },
   {
    "duration": 11,
    "start_time": "2022-08-30T10:50:26.232Z"
   },
   {
    "duration": 105,
    "start_time": "2022-08-30T10:56:40.935Z"
   },
   {
    "duration": 202,
    "start_time": "2022-08-30T10:59:23.110Z"
   },
   {
    "duration": 225,
    "start_time": "2022-08-30T10:59:32.160Z"
   },
   {
    "duration": 202,
    "start_time": "2022-08-30T11:05:15.133Z"
   },
   {
    "duration": 261,
    "start_time": "2022-08-30T11:10:46.826Z"
   },
   {
    "duration": 154,
    "start_time": "2022-08-30T11:11:03.421Z"
   },
   {
    "duration": 157,
    "start_time": "2022-08-30T11:11:56.643Z"
   },
   {
    "duration": 203,
    "start_time": "2022-08-30T11:12:04.706Z"
   },
   {
    "duration": 212,
    "start_time": "2022-08-30T11:12:10.281Z"
   },
   {
    "duration": 174,
    "start_time": "2022-08-30T11:12:17.754Z"
   },
   {
    "duration": 248,
    "start_time": "2022-08-30T11:12:23.362Z"
   },
   {
    "duration": 114,
    "start_time": "2022-08-30T11:19:01.057Z"
   },
   {
    "duration": 153,
    "start_time": "2022-08-30T11:19:20.391Z"
   },
   {
    "duration": 194,
    "start_time": "2022-08-30T11:19:36.392Z"
   },
   {
    "duration": 270,
    "start_time": "2022-08-30T11:22:31.472Z"
   },
   {
    "duration": 226,
    "start_time": "2022-08-30T11:22:35.656Z"
   },
   {
    "duration": 175,
    "start_time": "2022-08-30T11:26:07.767Z"
   },
   {
    "duration": 160,
    "start_time": "2022-08-30T11:26:13.894Z"
   },
   {
    "duration": 360,
    "start_time": "2022-08-30T11:26:25.486Z"
   },
   {
    "duration": 170,
    "start_time": "2022-08-30T11:36:34.301Z"
   },
   {
    "duration": 239,
    "start_time": "2022-08-30T11:36:43.516Z"
   },
   {
    "duration": 291,
    "start_time": "2022-08-30T11:38:09.142Z"
   },
   {
    "duration": 232,
    "start_time": "2022-08-30T11:38:18.245Z"
   },
   {
    "duration": 256,
    "start_time": "2022-08-30T11:39:17.478Z"
   },
   {
    "duration": 194,
    "start_time": "2022-08-30T11:39:25.630Z"
   },
   {
    "duration": 195,
    "start_time": "2022-08-30T11:39:29.046Z"
   },
   {
    "duration": 215,
    "start_time": "2022-08-30T11:39:34.094Z"
   },
   {
    "duration": 186,
    "start_time": "2022-08-30T11:39:50.453Z"
   },
   {
    "duration": 206,
    "start_time": "2022-08-30T11:39:52.654Z"
   },
   {
    "duration": 214,
    "start_time": "2022-08-30T11:40:45.630Z"
   },
   {
    "duration": 303,
    "start_time": "2022-08-30T11:44:59.109Z"
   },
   {
    "duration": 308,
    "start_time": "2022-08-30T11:45:03.701Z"
   },
   {
    "duration": 272,
    "start_time": "2022-08-30T11:45:11.133Z"
   },
   {
    "duration": 392,
    "start_time": "2022-08-30T11:45:22.837Z"
   },
   {
    "duration": 291,
    "start_time": "2022-08-30T11:45:29.661Z"
   },
   {
    "duration": 282,
    "start_time": "2022-08-30T11:46:30.956Z"
   },
   {
    "duration": 174,
    "start_time": "2022-08-30T11:46:39.205Z"
   },
   {
    "duration": 300,
    "start_time": "2022-08-30T11:46:42.214Z"
   },
   {
    "duration": 299,
    "start_time": "2022-08-30T11:48:25.878Z"
   },
   {
    "duration": 144,
    "start_time": "2022-08-30T12:51:07.442Z"
   },
   {
    "duration": 137,
    "start_time": "2022-08-30T12:51:32.042Z"
   },
   {
    "duration": 13,
    "start_time": "2022-08-30T13:02:02.829Z"
   },
   {
    "duration": 10,
    "start_time": "2022-08-30T13:02:16.843Z"
   },
   {
    "duration": 6,
    "start_time": "2022-08-30T13:07:35.700Z"
   },
   {
    "duration": 8,
    "start_time": "2022-08-30T13:08:46.178Z"
   },
   {
    "duration": 6,
    "start_time": "2022-08-30T13:08:52.115Z"
   },
   {
    "duration": 12,
    "start_time": "2022-08-30T13:12:55.995Z"
   },
   {
    "duration": 132,
    "start_time": "2022-08-30T13:14:18.715Z"
   },
   {
    "duration": 51,
    "start_time": "2022-08-30T13:17:38.660Z"
   },
   {
    "duration": 137,
    "start_time": "2022-08-30T13:17:43.875Z"
   },
   {
    "duration": 5,
    "start_time": "2022-08-30T13:26:33.294Z"
   },
   {
    "duration": 7,
    "start_time": "2022-08-30T13:31:26.294Z"
   },
   {
    "duration": 591,
    "start_time": "2022-08-30T13:31:42.295Z"
   },
   {
    "duration": 6,
    "start_time": "2022-08-30T13:31:50.951Z"
   },
   {
    "duration": 13,
    "start_time": "2022-08-30T13:35:00.175Z"
   },
   {
    "duration": 8,
    "start_time": "2022-08-30T13:35:06.904Z"
   },
   {
    "duration": 8,
    "start_time": "2022-08-30T13:35:17.127Z"
   },
   {
    "duration": 8,
    "start_time": "2022-08-30T13:35:19.598Z"
   },
   {
    "duration": 6,
    "start_time": "2022-08-30T13:35:30.344Z"
   },
   {
    "duration": 12,
    "start_time": "2022-08-30T13:35:54.231Z"
   },
   {
    "duration": 18,
    "start_time": "2022-08-30T13:36:04.975Z"
   },
   {
    "duration": 17,
    "start_time": "2022-08-30T13:56:30.089Z"
   },
   {
    "duration": 14,
    "start_time": "2022-08-30T13:56:45.577Z"
   },
   {
    "duration": 8,
    "start_time": "2022-08-30T13:57:03.913Z"
   },
   {
    "duration": 15,
    "start_time": "2022-08-30T13:57:48.969Z"
   },
   {
    "duration": 14,
    "start_time": "2022-08-30T13:58:09.072Z"
   },
   {
    "duration": 7,
    "start_time": "2022-08-30T13:58:25.889Z"
   },
   {
    "duration": 7,
    "start_time": "2022-08-30T13:58:42.786Z"
   },
   {
    "duration": 9,
    "start_time": "2022-08-30T14:00:15.336Z"
   },
   {
    "duration": 7,
    "start_time": "2022-08-30T14:00:17.479Z"
   },
   {
    "duration": 7,
    "start_time": "2022-08-30T14:00:28.569Z"
   },
   {
    "duration": 7,
    "start_time": "2022-08-30T14:00:53.056Z"
   },
   {
    "duration": 12,
    "start_time": "2022-08-30T14:02:55.593Z"
   },
   {
    "duration": 13,
    "start_time": "2022-08-30T14:06:19.058Z"
   },
   {
    "duration": 13,
    "start_time": "2022-08-30T14:06:46.297Z"
   },
   {
    "duration": 145,
    "start_time": "2022-08-30T14:06:52.144Z"
   },
   {
    "duration": 14,
    "start_time": "2022-08-30T14:06:54.258Z"
   },
   {
    "duration": 3,
    "start_time": "2022-08-30T14:07:06.741Z"
   },
   {
    "duration": 26,
    "start_time": "2022-08-30T14:07:09.897Z"
   },
   {
    "duration": 23,
    "start_time": "2022-08-30T14:13:03.178Z"
   },
   {
    "duration": 22,
    "start_time": "2022-08-30T14:13:07.274Z"
   },
   {
    "duration": 22,
    "start_time": "2022-08-30T14:13:31.762Z"
   },
   {
    "duration": 28,
    "start_time": "2022-08-30T14:13:39.018Z"
   },
   {
    "duration": 29,
    "start_time": "2022-08-30T14:13:41.594Z"
   },
   {
    "duration": 11,
    "start_time": "2022-08-30T14:33:07.857Z"
   },
   {
    "duration": 172,
    "start_time": "2022-08-30T14:41:46.370Z"
   },
   {
    "duration": 9,
    "start_time": "2022-08-30T14:44:20.362Z"
   },
   {
    "duration": 9,
    "start_time": "2022-08-30T14:45:57.817Z"
   },
   {
    "duration": 9,
    "start_time": "2022-08-30T14:46:21.170Z"
   },
   {
    "duration": 62,
    "start_time": "2022-08-30T14:46:43.370Z"
   },
   {
    "duration": 9,
    "start_time": "2022-08-30T14:47:12.401Z"
   },
   {
    "duration": 9,
    "start_time": "2022-08-30T14:47:16.225Z"
   },
   {
    "duration": 9,
    "start_time": "2022-08-30T14:47:27.290Z"
   },
   {
    "duration": 11,
    "start_time": "2022-08-30T14:48:57.689Z"
   },
   {
    "duration": 10,
    "start_time": "2022-08-30T14:49:20.937Z"
   },
   {
    "duration": 12,
    "start_time": "2022-08-30T14:49:26.817Z"
   },
   {
    "duration": 9,
    "start_time": "2022-08-30T14:50:02.097Z"
   },
   {
    "duration": 9,
    "start_time": "2022-08-30T14:50:26.030Z"
   },
   {
    "duration": 1082,
    "start_time": "2022-08-30T14:52:13.809Z"
   },
   {
    "duration": 1282,
    "start_time": "2022-08-30T14:52:44.910Z"
   },
   {
    "duration": 9,
    "start_time": "2022-08-30T14:52:55.658Z"
   },
   {
    "duration": 1991,
    "start_time": "2022-08-30T14:53:46.266Z"
   },
   {
    "duration": 10,
    "start_time": "2022-08-30T14:54:04.281Z"
   },
   {
    "duration": 10,
    "start_time": "2022-08-30T14:54:12.080Z"
   },
   {
    "duration": 9,
    "start_time": "2022-08-30T14:54:46.482Z"
   },
   {
    "duration": 8,
    "start_time": "2022-08-30T14:58:14.410Z"
   },
   {
    "duration": 10,
    "start_time": "2022-08-30T14:58:21.193Z"
   },
   {
    "duration": 10,
    "start_time": "2022-08-30T14:58:25.970Z"
   },
   {
    "duration": 8,
    "start_time": "2022-08-30T14:59:02.439Z"
   },
   {
    "duration": 4,
    "start_time": "2022-08-30T14:59:11.016Z"
   },
   {
    "duration": 9,
    "start_time": "2022-08-30T14:59:32.506Z"
   },
   {
    "duration": 27,
    "start_time": "2022-08-30T15:02:36.938Z"
   },
   {
    "duration": 798,
    "start_time": "2022-08-30T15:07:07.626Z"
   },
   {
    "duration": 13,
    "start_time": "2022-08-30T15:07:38.107Z"
   },
   {
    "duration": 10,
    "start_time": "2022-08-30T15:09:22.321Z"
   },
   {
    "duration": 10,
    "start_time": "2022-08-30T15:16:54.593Z"
   },
   {
    "duration": 491,
    "start_time": "2022-08-30T15:17:13.410Z"
   },
   {
    "duration": 8,
    "start_time": "2022-08-30T15:19:53.658Z"
   },
   {
    "duration": 6,
    "start_time": "2022-08-30T15:20:29.840Z"
   },
   {
    "duration": 54,
    "start_time": "2022-08-30T15:21:25.122Z"
   },
   {
    "duration": 5,
    "start_time": "2022-08-30T15:21:32.450Z"
   },
   {
    "duration": 5,
    "start_time": "2022-08-30T15:21:38.890Z"
   },
   {
    "duration": 4,
    "start_time": "2022-08-30T15:21:42.787Z"
   },
   {
    "duration": 5,
    "start_time": "2022-08-30T15:21:46.290Z"
   },
   {
    "duration": 516,
    "start_time": "2022-08-30T15:23:26.730Z"
   },
   {
    "duration": 31,
    "start_time": "2022-08-30T15:25:28.626Z"
   },
   {
    "duration": 462,
    "start_time": "2022-08-30T15:25:31.363Z"
   },
   {
    "duration": 534,
    "start_time": "2022-08-30T15:27:59.483Z"
   },
   {
    "duration": 200,
    "start_time": "2022-08-30T15:29:05.291Z"
   },
   {
    "duration": 277,
    "start_time": "2022-08-30T15:29:30.306Z"
   },
   {
    "duration": 3,
    "start_time": "2022-08-30T15:39:22.071Z"
   },
   {
    "duration": 119,
    "start_time": "2022-08-30T15:39:22.078Z"
   },
   {
    "duration": 2,
    "start_time": "2022-08-30T15:39:22.199Z"
   },
   {
    "duration": 101,
    "start_time": "2022-08-30T15:39:22.203Z"
   },
   {
    "duration": 4,
    "start_time": "2022-08-30T15:39:22.306Z"
   },
   {
    "duration": 29,
    "start_time": "2022-08-30T15:39:22.312Z"
   },
   {
    "duration": 22,
    "start_time": "2022-08-30T15:39:22.343Z"
   },
   {
    "duration": 11,
    "start_time": "2022-08-30T15:39:22.400Z"
   },
   {
    "duration": 1251,
    "start_time": "2022-08-30T18:40:00.124Z"
   },
   {
    "duration": 291,
    "start_time": "2022-08-30T18:40:01.377Z"
   },
   {
    "duration": 2,
    "start_time": "2022-08-30T18:40:01.669Z"
   },
   {
    "duration": 96,
    "start_time": "2022-08-30T18:40:01.673Z"
   },
   {
    "duration": 4,
    "start_time": "2022-08-30T18:40:01.771Z"
   },
   {
    "duration": 64,
    "start_time": "2022-08-30T18:40:01.776Z"
   },
   {
    "duration": 21,
    "start_time": "2022-08-30T18:40:01.841Z"
   },
   {
    "duration": 10,
    "start_time": "2022-08-30T18:40:01.863Z"
   },
   {
    "duration": 12,
    "start_time": "2022-08-30T18:40:12.544Z"
   },
   {
    "duration": 12,
    "start_time": "2022-08-30T18:40:22.902Z"
   },
   {
    "duration": 6,
    "start_time": "2022-08-30T18:41:14.125Z"
   },
   {
    "duration": 108,
    "start_time": "2022-08-30T18:41:28.749Z"
   },
   {
    "duration": 8,
    "start_time": "2022-08-30T18:41:38.623Z"
   },
   {
    "duration": 7,
    "start_time": "2022-08-30T18:41:47.957Z"
   },
   {
    "duration": 4,
    "start_time": "2022-08-30T18:42:07.269Z"
   },
   {
    "duration": 5,
    "start_time": "2022-08-30T18:42:12.668Z"
   },
   {
    "duration": 3,
    "start_time": "2022-08-30T18:42:16.957Z"
   },
   {
    "duration": 133,
    "start_time": "2022-08-30T18:42:41.415Z"
   },
   {
    "duration": 10,
    "start_time": "2022-08-30T18:42:56.190Z"
   },
   {
    "duration": 127,
    "start_time": "2022-08-30T18:43:05.252Z"
   },
   {
    "duration": 219,
    "start_time": "2022-08-30T18:43:18.832Z"
   },
   {
    "duration": 122,
    "start_time": "2022-08-30T18:43:27.458Z"
   },
   {
    "duration": 197,
    "start_time": "2022-08-30T18:44:54.580Z"
   },
   {
    "duration": 6,
    "start_time": "2022-08-30T18:53:35.451Z"
   },
   {
    "duration": 57,
    "start_time": "2022-08-30T18:57:22.784Z"
   },
   {
    "duration": 151,
    "start_time": "2022-08-30T18:57:46.641Z"
   },
   {
    "duration": 159,
    "start_time": "2022-08-30T19:22:01.186Z"
   },
   {
    "duration": 241,
    "start_time": "2022-08-30T19:22:08.336Z"
   },
   {
    "duration": 240,
    "start_time": "2022-08-30T19:22:48.433Z"
   },
   {
    "duration": 13,
    "start_time": "2022-08-30T19:22:52.663Z"
   },
   {
    "duration": 7,
    "start_time": "2022-08-30T19:23:10.583Z"
   },
   {
    "duration": 10,
    "start_time": "2022-08-30T19:23:13.190Z"
   },
   {
    "duration": 59,
    "start_time": "2022-08-30T19:23:50.767Z"
   },
   {
    "duration": 11,
    "start_time": "2022-08-30T19:23:54.687Z"
   },
   {
    "duration": 241,
    "start_time": "2022-08-30T19:26:36.826Z"
   },
   {
    "duration": 248,
    "start_time": "2022-08-30T19:26:39.856Z"
   },
   {
    "duration": 277,
    "start_time": "2022-08-30T19:29:00.951Z"
   },
   {
    "duration": 242,
    "start_time": "2022-08-30T19:30:47.265Z"
   },
   {
    "duration": 194,
    "start_time": "2022-08-30T19:31:06.102Z"
   },
   {
    "duration": 175,
    "start_time": "2022-08-30T19:34:00.262Z"
   },
   {
    "duration": 179,
    "start_time": "2022-08-30T19:55:42.987Z"
   },
   {
    "duration": 191,
    "start_time": "2022-08-30T19:58:13.587Z"
   },
   {
    "duration": 176,
    "start_time": "2022-08-30T19:59:11.491Z"
   },
   {
    "duration": 17,
    "start_time": "2022-08-30T20:13:23.385Z"
   },
   {
    "duration": 9,
    "start_time": "2022-08-30T20:24:47.248Z"
   },
   {
    "duration": 126,
    "start_time": "2022-08-30T20:24:55.328Z"
   },
   {
    "duration": 4,
    "start_time": "2022-08-30T20:25:19.307Z"
   },
   {
    "duration": 178,
    "start_time": "2022-08-30T20:25:50.000Z"
   },
   {
    "duration": 11,
    "start_time": "2022-08-30T20:25:53.833Z"
   },
   {
    "duration": 171,
    "start_time": "2022-08-30T20:26:42.785Z"
   },
   {
    "duration": 10,
    "start_time": "2022-08-30T20:26:48.442Z"
   },
   {
    "duration": 186,
    "start_time": "2022-08-30T20:27:00.082Z"
   },
   {
    "duration": 10,
    "start_time": "2022-08-30T20:27:03.145Z"
   },
   {
    "duration": 174,
    "start_time": "2022-08-30T20:27:11.506Z"
   },
   {
    "duration": 174,
    "start_time": "2022-08-30T20:27:14.321Z"
   },
   {
    "duration": 6,
    "start_time": "2022-08-30T20:27:20.976Z"
   },
   {
    "duration": 193,
    "start_time": "2022-08-30T20:27:22.993Z"
   },
   {
    "duration": 310,
    "start_time": "2022-08-30T20:28:11.313Z"
   },
   {
    "duration": 8,
    "start_time": "2022-08-30T20:30:51.177Z"
   },
   {
    "duration": 13,
    "start_time": "2022-08-30T20:30:55.864Z"
   },
   {
    "duration": 10,
    "start_time": "2022-08-30T20:31:04.970Z"
   },
   {
    "duration": 4,
    "start_time": "2022-08-30T20:32:25.911Z"
   },
   {
    "duration": 12,
    "start_time": "2022-08-30T20:32:30.792Z"
   },
   {
    "duration": 14,
    "start_time": "2022-08-30T20:33:01.991Z"
   },
   {
    "duration": 5,
    "start_time": "2022-08-30T20:33:23.969Z"
   },
   {
    "duration": 13,
    "start_time": "2022-08-30T20:33:29.903Z"
   },
   {
    "duration": 13,
    "start_time": "2022-08-30T20:33:50.463Z"
   },
   {
    "duration": 12,
    "start_time": "2022-08-30T20:34:24.488Z"
   },
   {
    "duration": 247,
    "start_time": "2022-08-30T20:36:41.160Z"
   },
   {
    "duration": 203,
    "start_time": "2022-08-30T20:36:47.009Z"
   },
   {
    "duration": 256,
    "start_time": "2022-08-30T20:36:52.259Z"
   },
   {
    "duration": 174,
    "start_time": "2022-08-30T20:37:00.752Z"
   },
   {
    "duration": 175,
    "start_time": "2022-08-30T20:37:04.095Z"
   },
   {
    "duration": 301,
    "start_time": "2022-08-30T20:37:06.511Z"
   },
   {
    "duration": 133,
    "start_time": "2022-08-30T20:38:03.639Z"
   },
   {
    "duration": 10,
    "start_time": "2022-08-30T20:38:58.429Z"
   },
   {
    "duration": 178,
    "start_time": "2022-08-30T20:39:19.722Z"
   },
   {
    "duration": 336,
    "start_time": "2022-08-30T20:42:03.391Z"
   },
   {
    "duration": 136,
    "start_time": "2022-08-30T20:42:45.599Z"
   },
   {
    "duration": 281,
    "start_time": "2022-08-30T20:42:58.470Z"
   },
   {
    "duration": 286,
    "start_time": "2022-08-30T20:43:09.951Z"
   },
   {
    "duration": 285,
    "start_time": "2022-08-30T20:43:28.974Z"
   },
   {
    "duration": 365,
    "start_time": "2022-08-30T20:44:03.773Z"
   },
   {
    "duration": 299,
    "start_time": "2022-08-30T20:44:11.541Z"
   },
   {
    "duration": 326,
    "start_time": "2022-08-30T20:44:26.598Z"
   },
   {
    "duration": 89,
    "start_time": "2022-08-30T20:44:31.846Z"
   },
   {
    "duration": 304,
    "start_time": "2022-08-30T20:44:52.150Z"
   },
   {
    "duration": 10,
    "start_time": "2022-08-30T20:50:20.604Z"
   },
   {
    "duration": 127,
    "start_time": "2022-08-30T20:50:23.436Z"
   },
   {
    "duration": 292,
    "start_time": "2022-08-30T20:50:32.797Z"
   },
   {
    "duration": 269,
    "start_time": "2022-08-30T20:50:46.654Z"
   },
   {
    "duration": 273,
    "start_time": "2022-08-30T20:51:42.948Z"
   },
   {
    "duration": 264,
    "start_time": "2022-08-30T20:51:45.068Z"
   },
   {
    "duration": 304,
    "start_time": "2022-08-30T20:51:49.910Z"
   },
   {
    "duration": 182,
    "start_time": "2022-08-30T20:59:30.338Z"
   },
   {
    "duration": 192,
    "start_time": "2022-08-30T21:00:01.227Z"
   },
   {
    "duration": 342,
    "start_time": "2022-08-30T21:02:10.978Z"
   },
   {
    "duration": 332,
    "start_time": "2022-08-30T21:02:53.722Z"
   },
   {
    "duration": 301,
    "start_time": "2022-08-30T21:04:06.699Z"
   },
   {
    "duration": 252,
    "start_time": "2022-08-30T21:04:25.762Z"
   },
   {
    "duration": 267,
    "start_time": "2022-08-30T21:05:02.747Z"
   },
   {
    "duration": 109,
    "start_time": "2022-08-30T21:17:51.863Z"
   },
   {
    "duration": 113,
    "start_time": "2022-08-30T21:19:41.210Z"
   },
   {
    "duration": 104,
    "start_time": "2022-08-30T21:20:21.933Z"
   },
   {
    "duration": 129,
    "start_time": "2022-08-30T21:20:36.327Z"
   },
   {
    "duration": 90,
    "start_time": "2022-08-30T21:20:47.534Z"
   },
   {
    "duration": 6,
    "start_time": "2022-08-30T21:24:41.685Z"
   },
   {
    "duration": 7,
    "start_time": "2022-08-30T21:24:52.774Z"
   },
   {
    "duration": 12,
    "start_time": "2022-08-30T21:25:06.749Z"
   },
   {
    "duration": 116,
    "start_time": "2022-08-30T21:32:37.076Z"
   },
   {
    "duration": 116,
    "start_time": "2022-08-30T21:33:18.980Z"
   },
   {
    "duration": 121,
    "start_time": "2022-08-30T21:33:21.909Z"
   },
   {
    "duration": 122,
    "start_time": "2022-08-30T21:33:33.604Z"
   },
   {
    "duration": 146,
    "start_time": "2022-08-30T21:34:16.541Z"
   },
   {
    "duration": 227,
    "start_time": "2022-08-30T21:34:28.519Z"
   },
   {
    "duration": 148,
    "start_time": "2022-08-30T21:34:31.915Z"
   },
   {
    "duration": 152,
    "start_time": "2022-08-30T21:34:56.011Z"
   },
   {
    "duration": 148,
    "start_time": "2022-08-30T21:35:05.683Z"
   },
   {
    "duration": 6,
    "start_time": "2022-08-30T21:35:35.258Z"
   },
   {
    "duration": 144,
    "start_time": "2022-08-30T21:38:33.555Z"
   },
   {
    "duration": 147,
    "start_time": "2022-08-30T21:42:13.315Z"
   },
   {
    "duration": 8,
    "start_time": "2022-08-30T21:42:18.145Z"
   },
   {
    "duration": 8,
    "start_time": "2022-08-30T21:42:28.866Z"
   },
   {
    "duration": 10,
    "start_time": "2022-08-30T21:45:50.089Z"
   },
   {
    "duration": 11,
    "start_time": "2022-08-30T21:46:04.777Z"
   },
   {
    "duration": 10,
    "start_time": "2022-08-30T21:55:52.295Z"
   },
   {
    "duration": 11,
    "start_time": "2022-08-30T21:55:58.943Z"
   },
   {
    "duration": 10,
    "start_time": "2022-08-30T21:56:03.991Z"
   },
   {
    "duration": 10,
    "start_time": "2022-08-30T21:56:09.343Z"
   },
   {
    "duration": 4,
    "start_time": "2022-08-30T21:57:27.934Z"
   },
   {
    "duration": 6,
    "start_time": "2022-08-30T21:57:47.751Z"
   },
   {
    "duration": 26,
    "start_time": "2022-08-30T21:58:05.015Z"
   },
   {
    "duration": 11,
    "start_time": "2022-08-30T21:58:11.630Z"
   },
   {
    "duration": 6,
    "start_time": "2022-08-30T21:58:13.611Z"
   },
   {
    "duration": 7,
    "start_time": "2022-08-30T21:58:27.935Z"
   },
   {
    "duration": 10,
    "start_time": "2022-08-30T21:59:04.715Z"
   },
   {
    "duration": 10,
    "start_time": "2022-08-30T21:59:38.909Z"
   },
   {
    "duration": 14,
    "start_time": "2022-08-30T22:01:13.438Z"
   },
   {
    "duration": 8,
    "start_time": "2022-08-30T22:01:19.102Z"
   },
   {
    "duration": 5,
    "start_time": "2022-08-30T22:02:17.920Z"
   },
   {
    "duration": 12,
    "start_time": "2022-08-30T22:02:23.542Z"
   },
   {
    "duration": 11,
    "start_time": "2022-08-30T22:02:33.182Z"
   },
   {
    "duration": 10,
    "start_time": "2022-08-30T22:03:34.934Z"
   },
   {
    "duration": 9,
    "start_time": "2022-08-30T22:04:44.622Z"
   },
   {
    "duration": 11,
    "start_time": "2022-08-30T22:04:58.596Z"
   },
   {
    "duration": 10,
    "start_time": "2022-08-30T22:05:06.342Z"
   },
   {
    "duration": 10,
    "start_time": "2022-08-30T22:05:42.886Z"
   },
   {
    "duration": 9,
    "start_time": "2022-08-30T22:06:24.036Z"
   },
   {
    "duration": 7,
    "start_time": "2022-08-30T22:07:50.668Z"
   },
   {
    "duration": 12,
    "start_time": "2022-08-30T22:08:00.076Z"
   },
   {
    "duration": 11,
    "start_time": "2022-08-30T22:08:13.116Z"
   },
   {
    "duration": 11,
    "start_time": "2022-08-30T22:09:07.397Z"
   },
   {
    "duration": 8,
    "start_time": "2022-08-30T22:09:15.443Z"
   },
   {
    "duration": 10,
    "start_time": "2022-08-30T22:09:18.612Z"
   },
   {
    "duration": 61,
    "start_time": "2022-08-30T22:10:40.437Z"
   },
   {
    "duration": 7,
    "start_time": "2022-08-30T22:10:45.548Z"
   },
   {
    "duration": 66,
    "start_time": "2022-08-30T22:11:32.212Z"
   },
   {
    "duration": 9,
    "start_time": "2022-08-30T22:15:49.515Z"
   },
   {
    "duration": 10,
    "start_time": "2022-08-30T22:16:25.355Z"
   },
   {
    "duration": 8,
    "start_time": "2022-08-30T22:17:17.155Z"
   },
   {
    "duration": 130,
    "start_time": "2022-08-30T22:18:01.790Z"
   },
   {
    "duration": 124,
    "start_time": "2022-08-30T22:18:40.476Z"
   },
   {
    "duration": 128,
    "start_time": "2022-08-30T22:18:48.385Z"
   },
   {
    "duration": 128,
    "start_time": "2022-08-30T22:21:55.076Z"
   },
   {
    "duration": 125,
    "start_time": "2022-08-30T22:22:07.262Z"
   },
   {
    "duration": 127,
    "start_time": "2022-08-30T22:24:18.666Z"
   },
   {
    "duration": 4,
    "start_time": "2022-08-30T22:27:04.515Z"
   },
   {
    "duration": 5,
    "start_time": "2022-08-30T22:27:11.170Z"
   },
   {
    "duration": 6,
    "start_time": "2022-08-30T22:28:27.546Z"
   },
   {
    "duration": 7,
    "start_time": "2022-08-30T22:29:14.305Z"
   },
   {
    "duration": 25,
    "start_time": "2022-08-30T22:29:17.776Z"
   },
   {
    "duration": 11,
    "start_time": "2022-08-30T22:29:43.825Z"
   },
   {
    "duration": 4,
    "start_time": "2022-08-30T22:29:58.034Z"
   },
   {
    "duration": 6,
    "start_time": "2022-08-30T22:31:42.696Z"
   },
   {
    "duration": 9,
    "start_time": "2022-08-30T22:32:15.490Z"
   },
   {
    "duration": 10,
    "start_time": "2022-08-30T22:32:37.855Z"
   },
   {
    "duration": 9,
    "start_time": "2022-08-30T22:32:49.913Z"
   },
   {
    "duration": 12,
    "start_time": "2022-08-30T22:33:10.215Z"
   },
   {
    "duration": 6,
    "start_time": "2022-08-30T22:34:49.720Z"
   },
   {
    "duration": 12,
    "start_time": "2022-08-30T22:37:16.901Z"
   },
   {
    "duration": 10,
    "start_time": "2022-08-30T22:37:23.987Z"
   },
   {
    "duration": 5,
    "start_time": "2022-08-30T22:37:30.063Z"
   },
   {
    "duration": 30,
    "start_time": "2022-08-30T22:39:10.504Z"
   },
   {
    "duration": 1292,
    "start_time": "2022-08-31T07:41:00.248Z"
   },
   {
    "duration": 226,
    "start_time": "2022-08-31T07:41:01.542Z"
   },
   {
    "duration": 3,
    "start_time": "2022-08-31T07:41:01.770Z"
   },
   {
    "duration": 133,
    "start_time": "2022-08-31T07:41:01.776Z"
   },
   {
    "duration": 6,
    "start_time": "2022-08-31T07:41:01.911Z"
   },
   {
    "duration": 149,
    "start_time": "2022-08-31T07:41:01.918Z"
   },
   {
    "duration": 59,
    "start_time": "2022-08-31T07:41:02.068Z"
   },
   {
    "duration": 13,
    "start_time": "2022-08-31T07:41:02.128Z"
   },
   {
    "duration": 308,
    "start_time": "2022-08-31T07:41:02.143Z"
   },
   {
    "duration": 307,
    "start_time": "2022-08-31T07:41:02.454Z"
   },
   {
    "duration": 222,
    "start_time": "2022-08-31T07:41:02.763Z"
   },
   {
    "duration": 362,
    "start_time": "2022-08-31T07:41:02.987Z"
   },
   {
    "duration": 358,
    "start_time": "2022-08-31T07:41:03.351Z"
   },
   {
    "duration": 320,
    "start_time": "2022-08-31T07:41:03.711Z"
   },
   {
    "duration": 186,
    "start_time": "2022-08-31T07:41:04.033Z"
   },
   {
    "duration": 8,
    "start_time": "2022-08-31T07:41:04.221Z"
   },
   {
    "duration": 211,
    "start_time": "2022-08-31T07:41:04.231Z"
   },
   {
    "duration": 5,
    "start_time": "2022-08-31T07:41:04.444Z"
   },
   {
    "duration": 19,
    "start_time": "2022-08-31T07:41:04.451Z"
   },
   {
    "duration": 98,
    "start_time": "2022-08-31T07:41:04.471Z"
   },
   {
    "duration": 243,
    "start_time": "2022-08-31T07:41:08.086Z"
   },
   {
    "duration": 210,
    "start_time": "2022-08-31T07:41:37.399Z"
   },
   {
    "duration": 162,
    "start_time": "2022-08-31T07:43:06.151Z"
   },
   {
    "duration": 6,
    "start_time": "2022-08-31T07:43:28.006Z"
   },
   {
    "duration": 4,
    "start_time": "2022-08-31T07:43:33.910Z"
   },
   {
    "duration": 10,
    "start_time": "2022-08-31T07:43:46.327Z"
   },
   {
    "duration": 10,
    "start_time": "2022-08-31T07:43:58.036Z"
   },
   {
    "duration": 13,
    "start_time": "2022-08-31T07:45:26.077Z"
   },
   {
    "duration": 6,
    "start_time": "2022-08-31T07:45:35.054Z"
   },
   {
    "duration": 8,
    "start_time": "2022-08-31T07:46:27.685Z"
   },
   {
    "duration": 14,
    "start_time": "2022-08-31T07:56:38.948Z"
   },
   {
    "duration": 9,
    "start_time": "2022-08-31T08:00:32.788Z"
   },
   {
    "duration": 8,
    "start_time": "2022-08-31T08:00:46.300Z"
   },
   {
    "duration": 11,
    "start_time": "2022-08-31T08:01:07.373Z"
   },
   {
    "duration": 27,
    "start_time": "2022-08-31T08:14:25.827Z"
   },
   {
    "duration": 12,
    "start_time": "2022-08-31T08:14:54.515Z"
   },
   {
    "duration": 14,
    "start_time": "2022-08-31T08:15:16.050Z"
   },
   {
    "duration": 9,
    "start_time": "2022-08-31T08:15:44.971Z"
   },
   {
    "duration": 106,
    "start_time": "2022-08-31T08:17:58.203Z"
   },
   {
    "duration": 95,
    "start_time": "2022-08-31T08:18:34.619Z"
   },
   {
    "duration": 198,
    "start_time": "2022-08-31T08:18:53.643Z"
   },
   {
    "duration": 14,
    "start_time": "2022-08-31T08:19:23.010Z"
   },
   {
    "duration": 121,
    "start_time": "2022-08-31T08:19:46.594Z"
   },
   {
    "duration": 7,
    "start_time": "2022-08-31T08:21:02.130Z"
   },
   {
    "duration": 10,
    "start_time": "2022-08-31T08:22:32.274Z"
   },
   {
    "duration": 10,
    "start_time": "2022-08-31T08:22:37.771Z"
   },
   {
    "duration": 5,
    "start_time": "2022-08-31T08:24:38.226Z"
   },
   {
    "duration": 6,
    "start_time": "2022-08-31T08:24:54.502Z"
   },
   {
    "duration": 198,
    "start_time": "2022-08-31T08:25:44.858Z"
   },
   {
    "duration": 14,
    "start_time": "2022-08-31T08:25:47.178Z"
   },
   {
    "duration": 140,
    "start_time": "2022-08-31T08:26:04.918Z"
   },
   {
    "duration": 1306,
    "start_time": "2022-08-31T08:27:21.057Z"
   },
   {
    "duration": 1019,
    "start_time": "2022-08-31T08:27:42.005Z"
   },
   {
    "duration": 8,
    "start_time": "2022-08-31T08:28:01.554Z"
   },
   {
    "duration": 12,
    "start_time": "2022-08-31T08:28:08.145Z"
   },
   {
    "duration": 9,
    "start_time": "2022-08-31T08:29:57.155Z"
   },
   {
    "duration": 22,
    "start_time": "2022-08-31T08:30:16.482Z"
   },
   {
    "duration": 5,
    "start_time": "2022-08-31T08:30:39.705Z"
   },
   {
    "duration": 5,
    "start_time": "2022-08-31T08:31:11.881Z"
   },
   {
    "duration": 7,
    "start_time": "2022-08-31T08:31:36.369Z"
   },
   {
    "duration": 7,
    "start_time": "2022-08-31T08:31:38.554Z"
   },
   {
    "duration": 5,
    "start_time": "2022-08-31T08:57:25.838Z"
   },
   {
    "duration": 7,
    "start_time": "2022-08-31T08:57:35.901Z"
   },
   {
    "duration": 5,
    "start_time": "2022-08-31T08:57:51.221Z"
   },
   {
    "duration": 8,
    "start_time": "2022-08-31T08:57:55.301Z"
   },
   {
    "duration": 4,
    "start_time": "2022-08-31T09:00:02.886Z"
   },
   {
    "duration": 6,
    "start_time": "2022-08-31T09:00:19.653Z"
   },
   {
    "duration": 20,
    "start_time": "2022-08-31T09:07:03.353Z"
   },
   {
    "duration": 143,
    "start_time": "2022-08-31T09:07:09.541Z"
   },
   {
    "duration": 21,
    "start_time": "2022-08-31T09:07:15.860Z"
   },
   {
    "duration": 21,
    "start_time": "2022-08-31T09:07:23.324Z"
   },
   {
    "duration": 9,
    "start_time": "2022-08-31T09:08:05.876Z"
   },
   {
    "duration": 29,
    "start_time": "2022-08-31T09:08:31.598Z"
   },
   {
    "duration": 7,
    "start_time": "2022-08-31T09:08:54.261Z"
   },
   {
    "duration": 7,
    "start_time": "2022-08-31T09:08:59.781Z"
   },
   {
    "duration": 2757,
    "start_time": "2022-08-31T09:09:16.342Z"
   },
   {
    "duration": 6,
    "start_time": "2022-08-31T09:09:22.269Z"
   },
   {
    "duration": 10,
    "start_time": "2022-08-31T09:10:39.349Z"
   },
   {
    "duration": 9,
    "start_time": "2022-08-31T09:10:44.083Z"
   },
   {
    "duration": 9,
    "start_time": "2022-08-31T09:11:11.381Z"
   },
   {
    "duration": 12,
    "start_time": "2022-08-31T09:11:22.949Z"
   },
   {
    "duration": 12,
    "start_time": "2022-08-31T09:11:31.748Z"
   },
   {
    "duration": 9,
    "start_time": "2022-08-31T09:11:43.468Z"
   },
   {
    "duration": 12,
    "start_time": "2022-08-31T09:12:40.829Z"
   },
   {
    "duration": 7,
    "start_time": "2022-08-31T09:12:50.043Z"
   },
   {
    "duration": 4,
    "start_time": "2022-08-31T09:13:10.307Z"
   },
   {
    "duration": 1570,
    "start_time": "2022-08-31T09:13:12.181Z"
   },
   {
    "duration": 12,
    "start_time": "2022-08-31T09:13:20.333Z"
   },
   {
    "duration": 9,
    "start_time": "2022-08-31T09:13:37.405Z"
   },
   {
    "duration": 4,
    "start_time": "2022-08-31T09:14:03.532Z"
   },
   {
    "duration": 28,
    "start_time": "2022-08-31T09:14:12.316Z"
   },
   {
    "duration": 4,
    "start_time": "2022-08-31T09:14:20.699Z"
   },
   {
    "duration": 5,
    "start_time": "2022-08-31T09:15:02.475Z"
   },
   {
    "duration": 5,
    "start_time": "2022-08-31T09:15:18.716Z"
   },
   {
    "duration": 5,
    "start_time": "2022-08-31T09:15:20.803Z"
   },
   {
    "duration": 8,
    "start_time": "2022-08-31T09:16:56.706Z"
   },
   {
    "duration": 5,
    "start_time": "2022-08-31T09:17:01.166Z"
   },
   {
    "duration": 34,
    "start_time": "2022-08-31T09:18:00.532Z"
   },
   {
    "duration": 47,
    "start_time": "2022-08-31T09:19:50.922Z"
   },
   {
    "duration": 9,
    "start_time": "2022-08-31T09:20:34.013Z"
   },
   {
    "duration": 7,
    "start_time": "2022-08-31T09:20:41.330Z"
   },
   {
    "duration": 34,
    "start_time": "2022-08-31T09:22:20.666Z"
   },
   {
    "duration": 16,
    "start_time": "2022-08-31T09:22:46.604Z"
   },
   {
    "duration": 10,
    "start_time": "2022-08-31T09:22:57.675Z"
   },
   {
    "duration": 1521,
    "start_time": "2022-08-31T09:23:08.066Z"
   },
   {
    "duration": 32,
    "start_time": "2022-08-31T09:23:24.271Z"
   },
   {
    "duration": 35,
    "start_time": "2022-08-31T09:26:23.697Z"
   },
   {
    "duration": 5,
    "start_time": "2022-08-31T09:27:08.121Z"
   },
   {
    "duration": 8,
    "start_time": "2022-08-31T09:29:32.576Z"
   },
   {
    "duration": 8,
    "start_time": "2022-08-31T09:29:36.231Z"
   },
   {
    "duration": 8,
    "start_time": "2022-08-31T09:29:48.096Z"
   },
   {
    "duration": 20,
    "start_time": "2022-08-31T09:30:22.463Z"
   },
   {
    "duration": 8,
    "start_time": "2022-08-31T09:30:29.319Z"
   },
   {
    "duration": 8,
    "start_time": "2022-08-31T09:30:31.999Z"
   },
   {
    "duration": 5,
    "start_time": "2022-08-31T09:31:31.593Z"
   },
   {
    "duration": 1428,
    "start_time": "2022-08-31T09:34:29.351Z"
   },
   {
    "duration": 918,
    "start_time": "2022-08-31T09:34:42.712Z"
   },
   {
    "duration": 5,
    "start_time": "2022-08-31T09:34:46.098Z"
   },
   {
    "duration": 13,
    "start_time": "2022-08-31T09:35:06.544Z"
   },
   {
    "duration": 10,
    "start_time": "2022-08-31T09:35:17.369Z"
   },
   {
    "duration": 6,
    "start_time": "2022-08-31T09:36:36.503Z"
   },
   {
    "duration": 4,
    "start_time": "2022-08-31T09:37:32.112Z"
   },
   {
    "duration": 5,
    "start_time": "2022-08-31T09:39:53.802Z"
   },
   {
    "duration": 8,
    "start_time": "2022-08-31T09:40:01.814Z"
   },
   {
    "duration": 4,
    "start_time": "2022-08-31T09:40:10.862Z"
   },
   {
    "duration": 4,
    "start_time": "2022-08-31T09:40:16.870Z"
   },
   {
    "duration": 5,
    "start_time": "2022-08-31T09:40:21.717Z"
   },
   {
    "duration": 6,
    "start_time": "2022-08-31T09:42:18.935Z"
   },
   {
    "duration": 12,
    "start_time": "2022-08-31T09:56:20.234Z"
   },
   {
    "duration": 164,
    "start_time": "2022-08-31T09:57:31.424Z"
   },
   {
    "duration": 12,
    "start_time": "2022-08-31T09:58:28.088Z"
   },
   {
    "duration": 14,
    "start_time": "2022-08-31T09:58:35.751Z"
   },
   {
    "duration": 11,
    "start_time": "2022-08-31T09:59:22.831Z"
   },
   {
    "duration": 13,
    "start_time": "2022-08-31T09:59:34.079Z"
   },
   {
    "duration": 154,
    "start_time": "2022-08-31T10:00:24.295Z"
   },
   {
    "duration": 15,
    "start_time": "2022-08-31T10:00:27.215Z"
   },
   {
    "duration": 12,
    "start_time": "2022-08-31T10:00:28.152Z"
   },
   {
    "duration": 191,
    "start_time": "2022-08-31T10:01:20.913Z"
   },
   {
    "duration": 194,
    "start_time": "2022-08-31T10:02:00.222Z"
   },
   {
    "duration": 357,
    "start_time": "2022-08-31T10:02:45.879Z"
   },
   {
    "duration": 11,
    "start_time": "2022-08-31T10:10:50.596Z"
   },
   {
    "duration": 163,
    "start_time": "2022-08-31T10:12:02.605Z"
   },
   {
    "duration": 194,
    "start_time": "2022-08-31T10:12:14.229Z"
   },
   {
    "duration": 263,
    "start_time": "2022-08-31T10:12:21.353Z"
   },
   {
    "duration": 151,
    "start_time": "2022-08-31T10:14:42.396Z"
   },
   {
    "duration": 14,
    "start_time": "2022-08-31T10:14:45.940Z"
   },
   {
    "duration": 151,
    "start_time": "2022-08-31T10:15:02.189Z"
   },
   {
    "duration": 152,
    "start_time": "2022-08-31T10:17:06.235Z"
   },
   {
    "duration": 201,
    "start_time": "2022-08-31T10:17:10.691Z"
   },
   {
    "duration": 281,
    "start_time": "2022-08-31T10:17:13.147Z"
   },
   {
    "duration": 160,
    "start_time": "2022-08-31T10:18:19.619Z"
   },
   {
    "duration": 5,
    "start_time": "2022-08-31T10:21:27.671Z"
   },
   {
    "duration": 196,
    "start_time": "2022-08-31T10:21:38.058Z"
   },
   {
    "duration": 285,
    "start_time": "2022-08-31T10:21:41.033Z"
   },
   {
    "duration": 281,
    "start_time": "2022-08-31T10:22:50.786Z"
   },
   {
    "duration": 320,
    "start_time": "2022-08-31T10:23:30.601Z"
   },
   {
    "duration": 273,
    "start_time": "2022-08-31T10:24:29.145Z"
   },
   {
    "duration": 11,
    "start_time": "2022-08-31T10:42:10.642Z"
   },
   {
    "duration": 10,
    "start_time": "2022-08-31T10:42:24.042Z"
   },
   {
    "duration": 15,
    "start_time": "2022-08-31T10:43:00.578Z"
   },
   {
    "duration": 18,
    "start_time": "2022-08-31T10:43:06.571Z"
   },
   {
    "duration": 17,
    "start_time": "2022-08-31T10:43:17.033Z"
   },
   {
    "duration": 15,
    "start_time": "2022-08-31T10:43:25.971Z"
   },
   {
    "duration": 3,
    "start_time": "2022-08-31T10:55:42.016Z"
   },
   {
    "duration": 8,
    "start_time": "2022-08-31T10:55:44.903Z"
   },
   {
    "duration": 12,
    "start_time": "2022-08-31T10:58:11.870Z"
   },
   {
    "duration": 4,
    "start_time": "2022-08-31T10:59:39.886Z"
   },
   {
    "duration": 10,
    "start_time": "2022-08-31T10:59:45.977Z"
   },
   {
    "duration": 12,
    "start_time": "2022-08-31T10:59:56.701Z"
   },
   {
    "duration": 0,
    "start_time": "2022-08-31T11:00:05.930Z"
   },
   {
    "duration": 8,
    "start_time": "2022-08-31T11:00:10.381Z"
   },
   {
    "duration": 6,
    "start_time": "2022-08-31T11:01:40.006Z"
   },
   {
    "duration": 9,
    "start_time": "2022-08-31T11:01:56.525Z"
   },
   {
    "duration": 7,
    "start_time": "2022-08-31T11:02:01.924Z"
   },
   {
    "duration": 6,
    "start_time": "2022-08-31T11:02:22.052Z"
   },
   {
    "duration": 6,
    "start_time": "2022-08-31T11:02:25.140Z"
   },
   {
    "duration": 9,
    "start_time": "2022-08-31T11:02:41.962Z"
   },
   {
    "duration": 72,
    "start_time": "2022-08-31T11:02:47.804Z"
   },
   {
    "duration": 69,
    "start_time": "2022-08-31T11:03:12.372Z"
   },
   {
    "duration": 213,
    "start_time": "2022-08-31T11:04:19.961Z"
   },
   {
    "duration": 339,
    "start_time": "2022-08-31T11:05:13.372Z"
   },
   {
    "duration": 4,
    "start_time": "2022-08-31T11:06:12.948Z"
   },
   {
    "duration": 71,
    "start_time": "2022-08-31T11:07:08.627Z"
   },
   {
    "duration": 8,
    "start_time": "2022-08-31T11:07:31.643Z"
   },
   {
    "duration": 3,
    "start_time": "2022-08-31T11:07:59.515Z"
   },
   {
    "duration": 4,
    "start_time": "2022-08-31T11:08:04.576Z"
   },
   {
    "duration": 254,
    "start_time": "2022-08-31T11:08:07.659Z"
   },
   {
    "duration": 309,
    "start_time": "2022-08-31T11:08:51.691Z"
   },
   {
    "duration": 10,
    "start_time": "2022-08-31T11:09:11.874Z"
   },
   {
    "duration": 5,
    "start_time": "2022-08-31T11:09:17.659Z"
   },
   {
    "duration": 6,
    "start_time": "2022-08-31T11:09:25.131Z"
   },
   {
    "duration": 6,
    "start_time": "2022-08-31T11:09:36.114Z"
   },
   {
    "duration": 5,
    "start_time": "2022-08-31T11:09:47.059Z"
   },
   {
    "duration": 4,
    "start_time": "2022-08-31T11:10:13.363Z"
   },
   {
    "duration": 71,
    "start_time": "2022-08-31T11:10:26.754Z"
   },
   {
    "duration": 70,
    "start_time": "2022-08-31T11:10:40.754Z"
   },
   {
    "duration": 336,
    "start_time": "2022-08-31T11:11:22.850Z"
   },
   {
    "duration": 68,
    "start_time": "2022-08-31T11:12:31.720Z"
   },
   {
    "duration": 72,
    "start_time": "2022-08-31T11:12:47.713Z"
   },
   {
    "duration": 159,
    "start_time": "2022-08-31T11:12:55.227Z"
   },
   {
    "duration": 267,
    "start_time": "2022-08-31T11:13:04.634Z"
   },
   {
    "duration": 278,
    "start_time": "2022-08-31T11:13:35.747Z"
   },
   {
    "duration": 84,
    "start_time": "2022-08-31T11:17:32.002Z"
   },
   {
    "duration": 69,
    "start_time": "2022-08-31T11:18:10.673Z"
   },
   {
    "duration": 273,
    "start_time": "2022-08-31T11:18:19.120Z"
   },
   {
    "duration": 75,
    "start_time": "2022-08-31T11:18:30.472Z"
   },
   {
    "duration": 154,
    "start_time": "2022-08-31T11:18:40.433Z"
   },
   {
    "duration": 72,
    "start_time": "2022-08-31T11:18:50.000Z"
   },
   {
    "duration": 273,
    "start_time": "2022-08-31T11:18:53.728Z"
   },
   {
    "duration": 281,
    "start_time": "2022-08-31T11:22:09.415Z"
   },
   {
    "duration": 10,
    "start_time": "2022-08-31T11:23:40.606Z"
   },
   {
    "duration": 11,
    "start_time": "2022-08-31T11:23:50.991Z"
   },
   {
    "duration": 68,
    "start_time": "2022-08-31T11:26:19.999Z"
   },
   {
    "duration": 1739,
    "start_time": "2022-08-31T11:26:46.193Z"
   },
   {
    "duration": 2134,
    "start_time": "2022-08-31T11:28:11.367Z"
   },
   {
    "duration": 266,
    "start_time": "2022-08-31T11:28:18.053Z"
   },
   {
    "duration": 2313,
    "start_time": "2022-08-31T11:28:55.263Z"
   },
   {
    "duration": 2248,
    "start_time": "2022-08-31T11:29:01.543Z"
   },
   {
    "duration": 5,
    "start_time": "2022-08-31T11:31:39.104Z"
   },
   {
    "duration": 905,
    "start_time": "2022-08-31T11:33:21.142Z"
   },
   {
    "duration": 495,
    "start_time": "2022-08-31T11:33:50.444Z"
   },
   {
    "duration": 255,
    "start_time": "2022-08-31T11:33:53.972Z"
   },
   {
    "duration": 31,
    "start_time": "2022-08-31T12:01:30.435Z"
   },
   {
    "duration": 32,
    "start_time": "2022-08-31T12:03:15.493Z"
   },
   {
    "duration": 515,
    "start_time": "2022-08-31T12:09:24.012Z"
   },
   {
    "duration": 537,
    "start_time": "2022-08-31T12:09:57.116Z"
   },
   {
    "duration": 499,
    "start_time": "2022-08-31T12:10:03.482Z"
   },
   {
    "duration": 305,
    "start_time": "2022-08-31T12:11:05.866Z"
   },
   {
    "duration": 6,
    "start_time": "2022-08-31T12:20:34.584Z"
   },
   {
    "duration": 72,
    "start_time": "2022-08-31T12:21:28.200Z"
   },
   {
    "duration": 71,
    "start_time": "2022-08-31T12:21:45.343Z"
   },
   {
    "duration": 66,
    "start_time": "2022-08-31T12:21:51.175Z"
   },
   {
    "duration": 72,
    "start_time": "2022-08-31T12:22:32.160Z"
   },
   {
    "duration": 330,
    "start_time": "2022-08-31T12:23:29.200Z"
   },
   {
    "duration": 10,
    "start_time": "2022-08-31T12:26:10.047Z"
   },
   {
    "duration": 30,
    "start_time": "2022-08-31T12:26:11.326Z"
   },
   {
    "duration": 4,
    "start_time": "2022-08-31T12:26:21.638Z"
   },
   {
    "duration": 467,
    "start_time": "2022-08-31T12:30:39.813Z"
   },
   {
    "duration": 466,
    "start_time": "2022-08-31T12:30:48.702Z"
   },
   {
    "duration": 535,
    "start_time": "2022-08-31T12:31:26.948Z"
   },
   {
    "duration": 286,
    "start_time": "2022-08-31T12:32:40.925Z"
   },
   {
    "duration": 72,
    "start_time": "2022-08-31T12:35:49.844Z"
   },
   {
    "duration": 6,
    "start_time": "2022-08-31T12:35:55.220Z"
   },
   {
    "duration": 73,
    "start_time": "2022-08-31T12:35:59.796Z"
   },
   {
    "duration": 295,
    "start_time": "2022-08-31T12:36:22.996Z"
   },
   {
    "duration": 1190,
    "start_time": "2022-08-31T12:59:11.650Z"
   },
   {
    "duration": 116,
    "start_time": "2022-08-31T12:59:12.842Z"
   },
   {
    "duration": 2,
    "start_time": "2022-08-31T12:59:12.960Z"
   },
   {
    "duration": 82,
    "start_time": "2022-08-31T12:59:12.964Z"
   },
   {
    "duration": 5,
    "start_time": "2022-08-31T12:59:13.047Z"
   },
   {
    "duration": 35,
    "start_time": "2022-08-31T12:59:13.053Z"
   },
   {
    "duration": 30,
    "start_time": "2022-08-31T12:59:13.108Z"
   },
   {
    "duration": 13,
    "start_time": "2022-08-31T12:59:13.140Z"
   },
   {
    "duration": 316,
    "start_time": "2022-08-31T12:59:13.155Z"
   },
   {
    "duration": 301,
    "start_time": "2022-08-31T12:59:13.473Z"
   },
   {
    "duration": 216,
    "start_time": "2022-08-31T12:59:13.776Z"
   },
   {
    "duration": 308,
    "start_time": "2022-08-31T12:59:13.994Z"
   },
   {
    "duration": 349,
    "start_time": "2022-08-31T12:59:14.312Z"
   },
   {
    "duration": 301,
    "start_time": "2022-08-31T12:59:14.663Z"
   },
   {
    "duration": 185,
    "start_time": "2022-08-31T12:59:14.966Z"
   },
   {
    "duration": 7,
    "start_time": "2022-08-31T12:59:15.154Z"
   },
   {
    "duration": 183,
    "start_time": "2022-08-31T12:59:15.163Z"
   },
   {
    "duration": 6,
    "start_time": "2022-08-31T12:59:15.348Z"
   },
   {
    "duration": 12,
    "start_time": "2022-08-31T12:59:15.356Z"
   },
   {
    "duration": 117,
    "start_time": "2022-08-31T12:59:15.370Z"
   },
   {
    "duration": 43,
    "start_time": "2022-08-31T12:59:15.489Z"
   },
   {
    "duration": 518,
    "start_time": "2022-08-31T12:59:15.534Z"
   },
   {
    "duration": 276,
    "start_time": "2022-08-31T12:59:16.055Z"
   },
   {
    "duration": 7,
    "start_time": "2022-08-31T12:59:16.333Z"
   },
   {
    "duration": 78,
    "start_time": "2022-08-31T12:59:16.341Z"
   },
   {
    "duration": 283,
    "start_time": "2022-08-31T12:59:16.420Z"
   },
   {
    "duration": 10,
    "start_time": "2022-08-31T12:59:16.709Z"
   },
   {
    "duration": 29,
    "start_time": "2022-08-31T12:59:16.722Z"
   },
   {
    "duration": 4,
    "start_time": "2022-08-31T12:59:16.753Z"
   },
   {
    "duration": 530,
    "start_time": "2022-08-31T12:59:16.759Z"
   },
   {
    "duration": 338,
    "start_time": "2022-08-31T12:59:17.291Z"
   },
   {
    "duration": 7,
    "start_time": "2022-08-31T12:59:17.631Z"
   },
   {
    "duration": 91,
    "start_time": "2022-08-31T12:59:17.640Z"
   },
   {
    "duration": 277,
    "start_time": "2022-08-31T12:59:17.732Z"
   },
   {
    "duration": 163,
    "start_time": "2022-08-31T12:59:18.010Z"
   },
   {
    "duration": 5,
    "start_time": "2022-08-31T12:59:18.174Z"
   },
   {
    "duration": 215,
    "start_time": "2022-08-31T12:59:18.180Z"
   },
   {
    "duration": 318,
    "start_time": "2022-08-31T12:59:18.397Z"
   },
   {
    "duration": 90,
    "start_time": "2022-09-01T10:33:50.680Z"
   },
   {
    "duration": 1262,
    "start_time": "2022-09-01T10:37:44.218Z"
   },
   {
    "duration": 221,
    "start_time": "2022-09-01T10:37:45.482Z"
   },
   {
    "duration": 3,
    "start_time": "2022-09-01T10:37:45.705Z"
   },
   {
    "duration": 98,
    "start_time": "2022-09-01T10:37:45.709Z"
   },
   {
    "duration": 5,
    "start_time": "2022-09-01T10:37:45.808Z"
   },
   {
    "duration": 30,
    "start_time": "2022-09-01T10:37:45.814Z"
   },
   {
    "duration": 23,
    "start_time": "2022-09-01T10:37:45.845Z"
   },
   {
    "duration": 38,
    "start_time": "2022-09-01T10:37:45.870Z"
   },
   {
    "duration": 324,
    "start_time": "2022-09-01T10:37:45.910Z"
   },
   {
    "duration": 292,
    "start_time": "2022-09-01T10:37:46.237Z"
   },
   {
    "duration": 208,
    "start_time": "2022-09-01T10:37:46.530Z"
   },
   {
    "duration": 292,
    "start_time": "2022-09-01T10:37:46.740Z"
   },
   {
    "duration": 307,
    "start_time": "2022-09-01T10:37:47.034Z"
   },
   {
    "duration": 280,
    "start_time": "2022-09-01T10:37:47.342Z"
   },
   {
    "duration": 156,
    "start_time": "2022-09-01T10:37:47.624Z"
   },
   {
    "duration": 5,
    "start_time": "2022-09-01T10:37:47.782Z"
   },
   {
    "duration": 151,
    "start_time": "2022-09-01T10:37:47.789Z"
   },
   {
    "duration": 5,
    "start_time": "2022-09-01T10:37:47.941Z"
   },
   {
    "duration": 13,
    "start_time": "2022-09-01T10:37:47.947Z"
   },
   {
    "duration": 93,
    "start_time": "2022-09-01T10:37:47.961Z"
   },
   {
    "duration": 31,
    "start_time": "2022-09-01T10:37:48.056Z"
   },
   {
    "duration": 436,
    "start_time": "2022-09-01T10:37:48.089Z"
   },
   {
    "duration": 272,
    "start_time": "2022-09-01T10:37:48.527Z"
   },
   {
    "duration": 7,
    "start_time": "2022-09-01T10:37:48.805Z"
   },
   {
    "duration": 74,
    "start_time": "2022-09-01T10:37:48.813Z"
   },
   {
    "duration": 289,
    "start_time": "2022-09-01T10:37:48.889Z"
   },
   {
    "duration": 9,
    "start_time": "2022-09-01T10:37:49.180Z"
   },
   {
    "duration": 25,
    "start_time": "2022-09-01T10:37:49.205Z"
   },
   {
    "duration": 4,
    "start_time": "2022-09-01T10:37:49.231Z"
   },
   {
    "duration": 426,
    "start_time": "2022-09-01T10:37:49.237Z"
   },
   {
    "duration": 261,
    "start_time": "2022-09-01T10:37:49.664Z"
   },
   {
    "duration": 7,
    "start_time": "2022-09-01T10:37:49.926Z"
   },
   {
    "duration": 80,
    "start_time": "2022-09-01T10:37:49.934Z"
   },
   {
    "duration": 291,
    "start_time": "2022-09-01T10:37:50.015Z"
   },
   {
    "duration": 166,
    "start_time": "2022-09-01T10:37:50.307Z"
   },
   {
    "duration": 4,
    "start_time": "2022-09-01T10:37:50.475Z"
   },
   {
    "duration": 199,
    "start_time": "2022-09-01T10:37:50.481Z"
   },
   {
    "duration": 318,
    "start_time": "2022-09-01T10:37:50.682Z"
   },
   {
    "duration": 91,
    "start_time": "2022-09-01T10:47:08.914Z"
   },
   {
    "duration": 11,
    "start_time": "2022-09-01T10:47:20.490Z"
   },
   {
    "duration": 11,
    "start_time": "2022-09-01T10:47:27.554Z"
   },
   {
    "duration": 10,
    "start_time": "2022-09-01T10:47:39.491Z"
   },
   {
    "duration": 15,
    "start_time": "2022-09-01T10:49:39.529Z"
   },
   {
    "duration": 88,
    "start_time": "2022-09-01T10:49:44.609Z"
   },
   {
    "duration": 75,
    "start_time": "2022-09-01T10:50:49.946Z"
   },
   {
    "duration": 70,
    "start_time": "2022-09-01T10:51:00.385Z"
   },
   {
    "duration": 11,
    "start_time": "2022-09-01T10:51:18.512Z"
   },
   {
    "duration": 118,
    "start_time": "2022-09-01T10:51:40.360Z"
   },
   {
    "duration": 96,
    "start_time": "2022-09-01T10:54:54.479Z"
   },
   {
    "duration": 105,
    "start_time": "2022-09-01T10:55:33.337Z"
   },
   {
    "duration": 171,
    "start_time": "2022-09-01T10:55:47.879Z"
   },
   {
    "duration": 161,
    "start_time": "2022-09-01T10:57:52.814Z"
   },
   {
    "duration": 158,
    "start_time": "2022-09-01T10:58:29.488Z"
   },
   {
    "duration": 151,
    "start_time": "2022-09-01T10:59:55.579Z"
   },
   {
    "duration": 12,
    "start_time": "2022-09-01T11:01:25.290Z"
   },
   {
    "duration": 13,
    "start_time": "2022-09-01T11:01:41.511Z"
   },
   {
    "duration": 12,
    "start_time": "2022-09-01T11:01:56.566Z"
   },
   {
    "duration": 13,
    "start_time": "2022-09-01T11:02:10.335Z"
   },
   {
    "duration": 95,
    "start_time": "2022-09-01T11:02:17.758Z"
   },
   {
    "duration": 90,
    "start_time": "2022-09-01T11:03:16.735Z"
   },
   {
    "duration": 119,
    "start_time": "2022-09-01T11:03:39.505Z"
   },
   {
    "duration": 127,
    "start_time": "2022-09-01T11:03:46.028Z"
   },
   {
    "duration": 80,
    "start_time": "2022-09-01T11:03:58.981Z"
   },
   {
    "duration": 89,
    "start_time": "2022-09-01T11:04:12.303Z"
   },
   {
    "duration": 94,
    "start_time": "2022-09-01T11:04:14.689Z"
   },
   {
    "duration": 136,
    "start_time": "2022-09-01T11:04:43.629Z"
   },
   {
    "duration": 68,
    "start_time": "2022-09-01T11:06:30.903Z"
   },
   {
    "duration": 85,
    "start_time": "2022-09-01T11:06:51.889Z"
   },
   {
    "duration": 81,
    "start_time": "2022-09-01T11:07:08.103Z"
   },
   {
    "duration": 64,
    "start_time": "2022-09-01T11:07:21.054Z"
   },
   {
    "duration": 76,
    "start_time": "2022-09-01T11:07:28.308Z"
   },
   {
    "duration": 102,
    "start_time": "2022-09-01T11:07:57.934Z"
   },
   {
    "duration": 96,
    "start_time": "2022-09-01T11:08:04.077Z"
   },
   {
    "duration": 108,
    "start_time": "2022-09-01T11:08:42.940Z"
   },
   {
    "duration": 93,
    "start_time": "2022-09-01T11:08:52.533Z"
   },
   {
    "duration": 3,
    "start_time": "2022-09-01T11:09:53.124Z"
   },
   {
    "duration": 93,
    "start_time": "2022-09-01T11:09:54.919Z"
   },
   {
    "duration": 200,
    "start_time": "2022-09-01T11:10:03.596Z"
   },
   {
    "duration": 177,
    "start_time": "2022-09-01T11:10:07.707Z"
   },
   {
    "duration": 212,
    "start_time": "2022-09-01T11:10:18.027Z"
   },
   {
    "duration": 263,
    "start_time": "2022-09-01T11:10:23.721Z"
   },
   {
    "duration": 288,
    "start_time": "2022-09-01T11:10:30.502Z"
   },
   {
    "duration": 334,
    "start_time": "2022-09-01T11:10:36.827Z"
   },
   {
    "duration": 323,
    "start_time": "2022-09-01T11:10:40.038Z"
   },
   {
    "duration": 165,
    "start_time": "2022-09-01T11:10:45.923Z"
   },
   {
    "duration": 137,
    "start_time": "2022-09-01T11:10:51.079Z"
   },
   {
    "duration": 238,
    "start_time": "2022-09-01T11:11:00.654Z"
   },
   {
    "duration": 305,
    "start_time": "2022-09-01T11:11:05.877Z"
   },
   {
    "duration": 297,
    "start_time": "2022-09-01T11:11:11.733Z"
   },
   {
    "duration": 227,
    "start_time": "2022-09-01T11:11:23.452Z"
   },
   {
    "duration": 190,
    "start_time": "2022-09-01T11:11:32.364Z"
   },
   {
    "duration": 263,
    "start_time": "2022-09-01T11:11:35.643Z"
   },
   {
    "duration": 4,
    "start_time": "2022-09-01T11:12:07.659Z"
   },
   {
    "duration": 179,
    "start_time": "2022-09-01T11:12:43.955Z"
   },
   {
    "duration": 138,
    "start_time": "2022-09-01T11:12:50.323Z"
   },
   {
    "duration": 94,
    "start_time": "2022-09-01T11:12:56.835Z"
   },
   {
    "duration": 93,
    "start_time": "2022-09-01T11:17:47.362Z"
   },
   {
    "duration": 93,
    "start_time": "2022-09-01T11:18:24.121Z"
   },
   {
    "duration": 105,
    "start_time": "2022-09-01T11:18:28.849Z"
   },
   {
    "duration": 112,
    "start_time": "2022-09-01T11:18:39.714Z"
   },
   {
    "duration": 99,
    "start_time": "2022-09-01T11:20:08.409Z"
   },
   {
    "duration": 95,
    "start_time": "2022-09-01T11:20:21.314Z"
   },
   {
    "duration": 105,
    "start_time": "2022-09-01T11:20:27.201Z"
   },
   {
    "duration": 100,
    "start_time": "2022-09-01T11:20:36.298Z"
   },
   {
    "duration": 95,
    "start_time": "2022-09-01T11:20:45.515Z"
   },
   {
    "duration": 95,
    "start_time": "2022-09-01T11:22:22.793Z"
   },
   {
    "duration": 94,
    "start_time": "2022-09-01T11:22:45.120Z"
   },
   {
    "duration": 182,
    "start_time": "2022-09-01T11:31:44.760Z"
   },
   {
    "duration": 103,
    "start_time": "2022-09-01T11:32:18.985Z"
   },
   {
    "duration": 113,
    "start_time": "2022-09-01T11:33:07.961Z"
   },
   {
    "duration": 115,
    "start_time": "2022-09-01T11:33:21.951Z"
   },
   {
    "duration": 122,
    "start_time": "2022-09-01T11:33:43.584Z"
   },
   {
    "duration": 5,
    "start_time": "2022-09-01T11:34:50.239Z"
   },
   {
    "duration": 126,
    "start_time": "2022-09-01T11:38:38.254Z"
   },
   {
    "duration": 7,
    "start_time": "2022-09-01T11:38:50.533Z"
   },
   {
    "duration": 113,
    "start_time": "2022-09-01T11:39:05.470Z"
   },
   {
    "duration": 112,
    "start_time": "2022-09-01T11:39:23.943Z"
   },
   {
    "duration": 7,
    "start_time": "2022-09-01T11:39:51.535Z"
   },
   {
    "duration": 9,
    "start_time": "2022-09-01T11:39:58.637Z"
   },
   {
    "duration": 121,
    "start_time": "2022-09-01T11:40:30.343Z"
   },
   {
    "duration": 128,
    "start_time": "2022-09-01T11:40:47.742Z"
   },
   {
    "duration": 124,
    "start_time": "2022-09-01T11:41:07.054Z"
   },
   {
    "duration": 5,
    "start_time": "2022-09-01T11:41:34.390Z"
   },
   {
    "duration": 12,
    "start_time": "2022-09-01T11:43:14.141Z"
   },
   {
    "duration": 10,
    "start_time": "2022-09-01T11:43:30.909Z"
   },
   {
    "duration": 8,
    "start_time": "2022-09-01T11:43:37.629Z"
   },
   {
    "duration": 13,
    "start_time": "2022-09-01T11:43:43.910Z"
   },
   {
    "duration": 4,
    "start_time": "2022-09-01T11:44:22.876Z"
   },
   {
    "duration": 4,
    "start_time": "2022-09-01T11:44:30.500Z"
   },
   {
    "duration": 3,
    "start_time": "2022-09-01T11:45:04.567Z"
   },
   {
    "duration": 7,
    "start_time": "2022-09-01T11:45:20.933Z"
   },
   {
    "duration": 77,
    "start_time": "2022-09-01T11:45:24.750Z"
   },
   {
    "duration": 8,
    "start_time": "2022-09-01T11:45:35.830Z"
   },
   {
    "duration": 12,
    "start_time": "2022-09-01T11:45:43.364Z"
   },
   {
    "duration": 3,
    "start_time": "2022-09-01T11:45:52.387Z"
   },
   {
    "duration": 146,
    "start_time": "2022-09-01T11:45:52.393Z"
   },
   {
    "duration": 2,
    "start_time": "2022-09-01T11:45:52.541Z"
   },
   {
    "duration": 104,
    "start_time": "2022-09-01T11:45:52.544Z"
   },
   {
    "duration": 5,
    "start_time": "2022-09-01T11:45:52.649Z"
   },
   {
    "duration": 67,
    "start_time": "2022-09-01T11:45:52.655Z"
   },
   {
    "duration": 45,
    "start_time": "2022-09-01T11:45:52.723Z"
   },
   {
    "duration": 20,
    "start_time": "2022-09-01T11:45:55.501Z"
   },
   {
    "duration": 8,
    "start_time": "2022-09-01T11:45:57.124Z"
   },
   {
    "duration": 10,
    "start_time": "2022-09-01T11:46:01.843Z"
   },
   {
    "duration": 9,
    "start_time": "2022-09-01T11:46:08.812Z"
   },
   {
    "duration": 12,
    "start_time": "2022-09-01T11:50:14.061Z"
   },
   {
    "duration": 4,
    "start_time": "2022-09-01T11:50:45.195Z"
   },
   {
    "duration": 3,
    "start_time": "2022-09-01T11:50:59.492Z"
   },
   {
    "duration": 131,
    "start_time": "2022-09-01T11:50:59.498Z"
   },
   {
    "duration": 4,
    "start_time": "2022-09-01T11:50:59.632Z"
   },
   {
    "duration": 115,
    "start_time": "2022-09-01T11:50:59.638Z"
   },
   {
    "duration": 4,
    "start_time": "2022-09-01T11:50:59.755Z"
   },
   {
    "duration": 62,
    "start_time": "2022-09-01T11:50:59.762Z"
   },
   {
    "duration": 27,
    "start_time": "2022-09-01T11:50:59.827Z"
   },
   {
    "duration": 8,
    "start_time": "2022-09-01T11:50:59.856Z"
   },
   {
    "duration": 7,
    "start_time": "2022-09-01T11:51:01.108Z"
   },
   {
    "duration": 10,
    "start_time": "2022-09-01T11:51:12.219Z"
   },
   {
    "duration": 4,
    "start_time": "2022-09-01T11:51:19.547Z"
   },
   {
    "duration": 5,
    "start_time": "2022-09-01T11:52:02.875Z"
   },
   {
    "duration": 5,
    "start_time": "2022-09-01T11:53:39.372Z"
   },
   {
    "duration": 5,
    "start_time": "2022-09-01T11:53:57.644Z"
   },
   {
    "duration": 5,
    "start_time": "2022-09-01T11:54:03.123Z"
   },
   {
    "duration": 7,
    "start_time": "2022-09-01T11:54:16.402Z"
   },
   {
    "duration": 6,
    "start_time": "2022-09-01T11:54:22.930Z"
   },
   {
    "duration": 251,
    "start_time": "2022-09-01T11:55:07.731Z"
   },
   {
    "duration": 9,
    "start_time": "2022-09-01T11:55:36.189Z"
   },
   {
    "duration": 7,
    "start_time": "2022-09-01T11:55:46.634Z"
   },
   {
    "duration": 7,
    "start_time": "2022-09-01T11:56:02.836Z"
   },
   {
    "duration": 8,
    "start_time": "2022-09-01T11:56:10.439Z"
   },
   {
    "duration": 4,
    "start_time": "2022-09-01T11:56:25.091Z"
   },
   {
    "duration": 11,
    "start_time": "2022-09-01T11:58:11.925Z"
   },
   {
    "duration": 7,
    "start_time": "2022-09-01T12:00:21.091Z"
   },
   {
    "duration": 8,
    "start_time": "2022-09-01T12:00:28.954Z"
   },
   {
    "duration": 7,
    "start_time": "2022-09-01T12:00:58.927Z"
   },
   {
    "duration": 9,
    "start_time": "2022-09-01T12:01:37.131Z"
   },
   {
    "duration": 8,
    "start_time": "2022-09-01T12:01:51.826Z"
   },
   {
    "duration": 9,
    "start_time": "2022-09-01T12:02:09.818Z"
   },
   {
    "duration": 8,
    "start_time": "2022-09-01T12:02:39.257Z"
   },
   {
    "duration": 11,
    "start_time": "2022-09-01T12:03:04.088Z"
   },
   {
    "duration": 8,
    "start_time": "2022-09-01T12:03:20.961Z"
   },
   {
    "duration": 8,
    "start_time": "2022-09-01T12:04:12.075Z"
   },
   {
    "duration": 12,
    "start_time": "2022-09-01T12:04:23.785Z"
   },
   {
    "duration": 7,
    "start_time": "2022-09-01T12:04:32.801Z"
   },
   {
    "duration": 145,
    "start_time": "2022-09-01T12:04:45.825Z"
   },
   {
    "duration": 12,
    "start_time": "2022-09-01T12:04:51.330Z"
   },
   {
    "duration": 8,
    "start_time": "2022-09-01T12:05:10.089Z"
   },
   {
    "duration": 13,
    "start_time": "2022-09-01T12:05:22.881Z"
   },
   {
    "duration": 7,
    "start_time": "2022-09-01T12:05:25.684Z"
   },
   {
    "duration": 7,
    "start_time": "2022-09-01T12:05:32.417Z"
   },
   {
    "duration": 84,
    "start_time": "2022-09-01T12:07:30.825Z"
   },
   {
    "duration": 8,
    "start_time": "2022-09-01T12:07:46.688Z"
   },
   {
    "duration": 8,
    "start_time": "2022-09-01T12:08:37.648Z"
   },
   {
    "duration": 9,
    "start_time": "2022-09-01T12:08:59.232Z"
   },
   {
    "duration": 3,
    "start_time": "2022-09-01T12:09:08.487Z"
   },
   {
    "duration": 111,
    "start_time": "2022-09-01T12:09:08.492Z"
   },
   {
    "duration": 3,
    "start_time": "2022-09-01T12:09:08.605Z"
   },
   {
    "duration": 97,
    "start_time": "2022-09-01T12:09:08.610Z"
   },
   {
    "duration": 3,
    "start_time": "2022-09-01T12:09:08.709Z"
   },
   {
    "duration": 27,
    "start_time": "2022-09-01T12:09:08.714Z"
   },
   {
    "duration": 20,
    "start_time": "2022-09-01T12:09:08.742Z"
   },
   {
    "duration": 8,
    "start_time": "2022-09-01T12:09:10.951Z"
   },
   {
    "duration": 9,
    "start_time": "2022-09-01T12:09:40.384Z"
   },
   {
    "duration": 10,
    "start_time": "2022-09-01T12:09:47.047Z"
   },
   {
    "duration": 5,
    "start_time": "2022-09-01T12:10:57.152Z"
   },
   {
    "duration": 15,
    "start_time": "2022-09-01T12:13:37.415Z"
   },
   {
    "duration": 11,
    "start_time": "2022-09-01T12:14:12.952Z"
   },
   {
    "duration": 13,
    "start_time": "2022-09-01T12:14:20.110Z"
   },
   {
    "duration": 4,
    "start_time": "2022-09-01T12:14:45.578Z"
   },
   {
    "duration": 11,
    "start_time": "2022-09-01T12:14:48.590Z"
   },
   {
    "duration": 12,
    "start_time": "2022-09-01T12:15:07.206Z"
   },
   {
    "duration": 4,
    "start_time": "2022-09-01T12:15:15.495Z"
   },
   {
    "duration": 113,
    "start_time": "2022-09-01T12:15:15.501Z"
   },
   {
    "duration": 3,
    "start_time": "2022-09-01T12:15:15.616Z"
   },
   {
    "duration": 101,
    "start_time": "2022-09-01T12:15:15.621Z"
   },
   {
    "duration": 5,
    "start_time": "2022-09-01T12:15:15.725Z"
   },
   {
    "duration": 26,
    "start_time": "2022-09-01T12:15:15.731Z"
   },
   {
    "duration": 48,
    "start_time": "2022-09-01T12:15:15.759Z"
   },
   {
    "duration": 10,
    "start_time": "2022-09-01T12:15:15.808Z"
   },
   {
    "duration": 4,
    "start_time": "2022-09-01T12:15:15.820Z"
   },
   {
    "duration": 8,
    "start_time": "2022-09-01T12:15:15.825Z"
   },
   {
    "duration": 11,
    "start_time": "2022-09-01T12:15:21.751Z"
   },
   {
    "duration": 11,
    "start_time": "2022-09-01T12:16:04.392Z"
   },
   {
    "duration": 11,
    "start_time": "2022-09-01T12:16:10.903Z"
   },
   {
    "duration": 326,
    "start_time": "2022-09-01T12:20:56.895Z"
   },
   {
    "duration": 294,
    "start_time": "2022-09-01T12:21:15.037Z"
   },
   {
    "duration": 393,
    "start_time": "2022-09-01T12:22:30.045Z"
   },
   {
    "duration": 140,
    "start_time": "2022-09-01T13:54:50.843Z"
   },
   {
    "duration": 157,
    "start_time": "2022-09-01T13:55:11.602Z"
   },
   {
    "duration": 76,
    "start_time": "2022-09-01T13:55:13.907Z"
   },
   {
    "duration": 142,
    "start_time": "2022-09-01T13:55:26.842Z"
   },
   {
    "duration": 167,
    "start_time": "2022-09-01T14:07:20.109Z"
   },
   {
    "duration": 9,
    "start_time": "2022-09-01T14:17:18.812Z"
   },
   {
    "duration": 5,
    "start_time": "2022-09-01T14:17:26.596Z"
   },
   {
    "duration": 5,
    "start_time": "2022-09-01T14:18:29.980Z"
   },
   {
    "duration": 7,
    "start_time": "2022-09-01T14:18:48.933Z"
   },
   {
    "duration": 11,
    "start_time": "2022-09-01T14:21:44.403Z"
   },
   {
    "duration": 4,
    "start_time": "2022-09-01T14:22:35.557Z"
   },
   {
    "duration": 17,
    "start_time": "2022-09-01T14:22:41.396Z"
   },
   {
    "duration": 17,
    "start_time": "2022-09-01T14:22:54.875Z"
   },
   {
    "duration": 99,
    "start_time": "2022-09-01T14:27:36.659Z"
   },
   {
    "duration": 32,
    "start_time": "2022-09-01T14:28:09.467Z"
   },
   {
    "duration": 15,
    "start_time": "2022-09-01T14:28:22.348Z"
   },
   {
    "duration": 16,
    "start_time": "2022-09-01T14:29:04.451Z"
   },
   {
    "duration": 14,
    "start_time": "2022-09-01T14:29:20.201Z"
   },
   {
    "duration": 19,
    "start_time": "2022-09-01T14:30:16.713Z"
   },
   {
    "duration": 3,
    "start_time": "2022-09-01T14:30:47.527Z"
   },
   {
    "duration": 103,
    "start_time": "2022-09-01T14:30:47.535Z"
   },
   {
    "duration": 3,
    "start_time": "2022-09-01T14:30:47.639Z"
   },
   {
    "duration": 73,
    "start_time": "2022-09-01T14:30:47.643Z"
   },
   {
    "duration": 4,
    "start_time": "2022-09-01T14:30:47.718Z"
   },
   {
    "duration": 25,
    "start_time": "2022-09-01T14:30:47.724Z"
   },
   {
    "duration": 22,
    "start_time": "2022-09-01T14:30:47.751Z"
   },
   {
    "duration": 36,
    "start_time": "2022-09-01T14:30:47.775Z"
   },
   {
    "duration": 6,
    "start_time": "2022-09-01T14:30:47.813Z"
   },
   {
    "duration": 5,
    "start_time": "2022-09-01T14:30:47.821Z"
   },
   {
    "duration": 9,
    "start_time": "2022-09-01T14:30:47.828Z"
   },
   {
    "duration": 277,
    "start_time": "2022-09-01T14:30:47.839Z"
   },
   {
    "duration": 200,
    "start_time": "2022-09-01T14:30:48.118Z"
   },
   {
    "duration": 201,
    "start_time": "2022-09-01T14:30:48.320Z"
   },
   {
    "duration": 284,
    "start_time": "2022-09-01T14:30:48.523Z"
   },
   {
    "duration": 333,
    "start_time": "2022-09-01T14:30:48.809Z"
   },
   {
    "duration": 284,
    "start_time": "2022-09-01T14:30:49.143Z"
   },
   {
    "duration": 160,
    "start_time": "2022-09-01T14:30:49.429Z"
   },
   {
    "duration": 17,
    "start_time": "2022-09-01T14:30:49.591Z"
   },
   {
    "duration": 235,
    "start_time": "2022-09-01T14:30:49.609Z"
   },
   {
    "duration": 149,
    "start_time": "2022-09-01T14:30:49.846Z"
   },
   {
    "duration": 11,
    "start_time": "2022-09-01T14:30:49.997Z"
   },
   {
    "duration": 11,
    "start_time": "2022-09-01T14:30:59.473Z"
   },
   {
    "duration": 13,
    "start_time": "2022-09-01T14:31:47.152Z"
   },
   {
    "duration": 6,
    "start_time": "2022-09-01T14:32:02.273Z"
   },
   {
    "duration": 108,
    "start_time": "2022-09-01T14:32:13.824Z"
   },
   {
    "duration": 3,
    "start_time": "2022-09-01T14:32:22.713Z"
   },
   {
    "duration": 117,
    "start_time": "2022-09-01T14:32:22.720Z"
   },
   {
    "duration": 3,
    "start_time": "2022-09-01T14:32:22.839Z"
   },
   {
    "duration": 87,
    "start_time": "2022-09-01T14:32:22.843Z"
   },
   {
    "duration": 4,
    "start_time": "2022-09-01T14:32:22.932Z"
   },
   {
    "duration": 45,
    "start_time": "2022-09-01T14:32:22.938Z"
   },
   {
    "duration": 26,
    "start_time": "2022-09-01T14:32:22.984Z"
   },
   {
    "duration": 7,
    "start_time": "2022-09-01T14:32:23.012Z"
   },
   {
    "duration": 17,
    "start_time": "2022-09-01T14:32:23.020Z"
   },
   {
    "duration": 13,
    "start_time": "2022-09-01T14:32:23.039Z"
   },
   {
    "duration": 36,
    "start_time": "2022-09-01T14:32:23.054Z"
   },
   {
    "duration": 288,
    "start_time": "2022-09-01T14:32:23.092Z"
   },
   {
    "duration": 191,
    "start_time": "2022-09-01T14:32:23.381Z"
   },
   {
    "duration": 186,
    "start_time": "2022-09-01T14:32:23.573Z"
   },
   {
    "duration": 256,
    "start_time": "2022-09-01T14:32:23.761Z"
   },
   {
    "duration": 316,
    "start_time": "2022-09-01T14:32:24.018Z"
   },
   {
    "duration": 298,
    "start_time": "2022-09-01T14:32:24.336Z"
   },
   {
    "duration": 153,
    "start_time": "2022-09-01T14:32:24.636Z"
   },
   {
    "duration": 16,
    "start_time": "2022-09-01T14:32:24.790Z"
   },
   {
    "duration": 141,
    "start_time": "2022-09-01T14:32:24.807Z"
   },
   {
    "duration": 160,
    "start_time": "2022-09-01T14:32:24.950Z"
   },
   {
    "duration": 4,
    "start_time": "2022-09-01T14:32:25.112Z"
   },
   {
    "duration": 18,
    "start_time": "2022-09-01T14:32:25.117Z"
   },
   {
    "duration": 7,
    "start_time": "2022-09-01T14:32:40.650Z"
   },
   {
    "duration": 13,
    "start_time": "2022-09-01T14:33:33.113Z"
   },
   {
    "duration": 13,
    "start_time": "2022-09-01T14:34:01.840Z"
   },
   {
    "duration": 13,
    "start_time": "2022-09-01T14:34:16.855Z"
   },
   {
    "duration": 3,
    "start_time": "2022-09-01T14:34:39.251Z"
   },
   {
    "duration": 108,
    "start_time": "2022-09-01T14:34:39.259Z"
   },
   {
    "duration": 3,
    "start_time": "2022-09-01T14:34:39.369Z"
   },
   {
    "duration": 78,
    "start_time": "2022-09-01T14:34:39.373Z"
   },
   {
    "duration": 5,
    "start_time": "2022-09-01T14:34:39.452Z"
   },
   {
    "duration": 55,
    "start_time": "2022-09-01T14:34:39.459Z"
   },
   {
    "duration": 32,
    "start_time": "2022-09-01T14:34:39.516Z"
   },
   {
    "duration": 9,
    "start_time": "2022-09-01T14:34:39.550Z"
   },
   {
    "duration": 12,
    "start_time": "2022-09-01T14:34:39.560Z"
   },
   {
    "duration": 5,
    "start_time": "2022-09-01T14:34:39.573Z"
   },
   {
    "duration": 11,
    "start_time": "2022-09-01T14:34:39.607Z"
   },
   {
    "duration": 321,
    "start_time": "2022-09-01T14:34:39.620Z"
   },
   {
    "duration": 226,
    "start_time": "2022-09-01T14:34:39.943Z"
   },
   {
    "duration": 325,
    "start_time": "2022-09-01T14:34:40.171Z"
   },
   {
    "duration": 299,
    "start_time": "2022-09-01T14:34:40.499Z"
   },
   {
    "duration": 373,
    "start_time": "2022-09-01T14:34:40.805Z"
   },
   {
    "duration": 366,
    "start_time": "2022-09-01T14:34:41.180Z"
   },
   {
    "duration": 180,
    "start_time": "2022-09-01T14:34:41.548Z"
   },
   {
    "duration": 6,
    "start_time": "2022-09-01T14:34:41.730Z"
   },
   {
    "duration": 183,
    "start_time": "2022-09-01T14:34:41.737Z"
   },
   {
    "duration": 178,
    "start_time": "2022-09-01T14:34:41.921Z"
   },
   {
    "duration": 9,
    "start_time": "2022-09-01T14:34:42.101Z"
   },
   {
    "duration": 12,
    "start_time": "2022-09-01T14:34:45.049Z"
   },
   {
    "duration": 13,
    "start_time": "2022-09-01T14:35:36.298Z"
   },
   {
    "duration": 4,
    "start_time": "2022-09-01T14:35:39.633Z"
   },
   {
    "duration": 243,
    "start_time": "2022-09-01T14:35:39.641Z"
   },
   {
    "duration": 3,
    "start_time": "2022-09-01T14:35:39.886Z"
   },
   {
    "duration": 76,
    "start_time": "2022-09-01T14:35:39.891Z"
   },
   {
    "duration": 37,
    "start_time": "2022-09-01T14:35:39.969Z"
   },
   {
    "duration": 29,
    "start_time": "2022-09-01T14:35:40.009Z"
   },
   {
    "duration": 28,
    "start_time": "2022-09-01T14:35:40.040Z"
   },
   {
    "duration": 43,
    "start_time": "2022-09-01T14:35:40.070Z"
   },
   {
    "duration": 7,
    "start_time": "2022-09-01T14:35:40.114Z"
   },
   {
    "duration": 5,
    "start_time": "2022-09-01T14:35:40.123Z"
   },
   {
    "duration": 12,
    "start_time": "2022-09-01T14:35:40.130Z"
   },
   {
    "duration": 322,
    "start_time": "2022-09-01T14:35:40.143Z"
   },
   {
    "duration": 213,
    "start_time": "2022-09-01T14:35:40.468Z"
   },
   {
    "duration": 214,
    "start_time": "2022-09-01T14:35:40.683Z"
   },
   {
    "duration": 307,
    "start_time": "2022-09-01T14:35:40.899Z"
   },
   {
    "duration": 353,
    "start_time": "2022-09-01T14:35:41.208Z"
   },
   {
    "duration": 397,
    "start_time": "2022-09-01T14:35:41.563Z"
   },
   {
    "duration": 160,
    "start_time": "2022-09-01T14:35:41.962Z"
   },
   {
    "duration": 6,
    "start_time": "2022-09-01T14:35:42.124Z"
   },
   {
    "duration": 155,
    "start_time": "2022-09-01T14:35:42.132Z"
   },
   {
    "duration": 156,
    "start_time": "2022-09-01T14:35:42.289Z"
   },
   {
    "duration": 5,
    "start_time": "2022-09-01T14:35:42.447Z"
   },
   {
    "duration": 6165,
    "start_time": "2022-09-01T14:35:44.233Z"
   },
   {
    "duration": 5,
    "start_time": "2022-09-01T14:36:02.727Z"
   },
   {
    "duration": 15,
    "start_time": "2022-09-01T14:36:09.375Z"
   },
   {
    "duration": 5,
    "start_time": "2022-09-01T14:36:59.416Z"
   },
   {
    "duration": 8,
    "start_time": "2022-09-01T14:37:08.887Z"
   },
   {
    "duration": 131,
    "start_time": "2022-09-01T14:37:17.696Z"
   },
   {
    "duration": 101,
    "start_time": "2022-09-01T14:37:22.681Z"
   },
   {
    "duration": 5,
    "start_time": "2022-09-01T14:37:28.937Z"
   },
   {
    "duration": 5,
    "start_time": "2022-09-01T14:37:44.928Z"
   },
   {
    "duration": 11,
    "start_time": "2022-09-01T14:37:57.039Z"
   },
   {
    "duration": 3,
    "start_time": "2022-09-01T14:38:08.422Z"
   },
   {
    "duration": 111,
    "start_time": "2022-09-01T14:38:08.430Z"
   },
   {
    "duration": 3,
    "start_time": "2022-09-01T14:38:08.542Z"
   },
   {
    "duration": 77,
    "start_time": "2022-09-01T14:38:08.546Z"
   },
   {
    "duration": 4,
    "start_time": "2022-09-01T14:38:08.624Z"
   },
   {
    "duration": 33,
    "start_time": "2022-09-01T14:38:08.630Z"
   },
   {
    "duration": 47,
    "start_time": "2022-09-01T14:38:08.664Z"
   },
   {
    "duration": 9,
    "start_time": "2022-09-01T14:38:08.713Z"
   },
   {
    "duration": 18,
    "start_time": "2022-09-01T14:38:08.724Z"
   },
   {
    "duration": 9,
    "start_time": "2022-09-01T14:38:08.744Z"
   },
   {
    "duration": 15,
    "start_time": "2022-09-01T14:38:08.755Z"
   },
   {
    "duration": 280,
    "start_time": "2022-09-01T14:38:08.772Z"
   },
   {
    "duration": 179,
    "start_time": "2022-09-01T14:38:09.053Z"
   },
   {
    "duration": 184,
    "start_time": "2022-09-01T14:38:09.233Z"
   },
   {
    "duration": 279,
    "start_time": "2022-09-01T14:38:09.420Z"
   },
   {
    "duration": 343,
    "start_time": "2022-09-01T14:38:09.700Z"
   },
   {
    "duration": 299,
    "start_time": "2022-09-01T14:38:10.044Z"
   },
   {
    "duration": 171,
    "start_time": "2022-09-01T14:38:10.345Z"
   },
   {
    "duration": 5,
    "start_time": "2022-09-01T14:38:10.518Z"
   },
   {
    "duration": 157,
    "start_time": "2022-09-01T14:38:10.524Z"
   },
   {
    "duration": 243,
    "start_time": "2022-09-01T14:38:10.683Z"
   },
   {
    "duration": 5,
    "start_time": "2022-09-01T14:38:10.927Z"
   },
   {
    "duration": 11,
    "start_time": "2022-09-01T14:38:12.870Z"
   },
   {
    "duration": 12,
    "start_time": "2022-09-01T14:38:23.720Z"
   },
   {
    "duration": 3,
    "start_time": "2022-09-01T14:38:26.520Z"
   },
   {
    "duration": 122,
    "start_time": "2022-09-01T14:38:26.528Z"
   },
   {
    "duration": 2,
    "start_time": "2022-09-01T14:38:26.652Z"
   },
   {
    "duration": 68,
    "start_time": "2022-09-01T14:38:26.656Z"
   },
   {
    "duration": 4,
    "start_time": "2022-09-01T14:38:26.726Z"
   },
   {
    "duration": 33,
    "start_time": "2022-09-01T14:38:26.733Z"
   },
   {
    "duration": 39,
    "start_time": "2022-09-01T14:38:26.768Z"
   },
   {
    "duration": 8,
    "start_time": "2022-09-01T14:38:26.808Z"
   },
   {
    "duration": 6,
    "start_time": "2022-09-01T14:38:26.818Z"
   },
   {
    "duration": 6,
    "start_time": "2022-09-01T14:38:26.826Z"
   },
   {
    "duration": 11,
    "start_time": "2022-09-01T14:38:26.833Z"
   },
   {
    "duration": 282,
    "start_time": "2022-09-01T14:38:26.845Z"
   },
   {
    "duration": 188,
    "start_time": "2022-09-01T14:38:27.128Z"
   },
   {
    "duration": 191,
    "start_time": "2022-09-01T14:38:27.318Z"
   },
   {
    "duration": 296,
    "start_time": "2022-09-01T14:38:27.512Z"
   },
   {
    "duration": 330,
    "start_time": "2022-09-01T14:38:27.809Z"
   },
   {
    "duration": 291,
    "start_time": "2022-09-01T14:38:28.141Z"
   },
   {
    "duration": 153,
    "start_time": "2022-09-01T14:38:28.434Z"
   },
   {
    "duration": 6,
    "start_time": "2022-09-01T14:38:28.588Z"
   },
   {
    "duration": 151,
    "start_time": "2022-09-01T14:38:28.606Z"
   },
   {
    "duration": 156,
    "start_time": "2022-09-01T14:38:28.759Z"
   },
   {
    "duration": 4,
    "start_time": "2022-09-01T14:38:28.917Z"
   },
   {
    "duration": 6,
    "start_time": "2022-09-01T14:38:33.718Z"
   },
   {
    "duration": 5,
    "start_time": "2022-09-01T14:38:38.319Z"
   },
   {
    "duration": 15,
    "start_time": "2022-09-01T14:38:43.250Z"
   },
   {
    "duration": 7,
    "start_time": "2022-09-01T14:38:54.711Z"
   },
   {
    "duration": 3,
    "start_time": "2022-09-01T14:39:13.919Z"
   },
   {
    "duration": 105,
    "start_time": "2022-09-01T14:39:13.926Z"
   },
   {
    "duration": 3,
    "start_time": "2022-09-01T14:39:14.033Z"
   },
   {
    "duration": 82,
    "start_time": "2022-09-01T14:39:14.038Z"
   },
   {
    "duration": 5,
    "start_time": "2022-09-01T14:39:14.121Z"
   },
   {
    "duration": 29,
    "start_time": "2022-09-01T14:39:14.127Z"
   },
   {
    "duration": 19,
    "start_time": "2022-09-01T14:39:14.158Z"
   },
   {
    "duration": 32,
    "start_time": "2022-09-01T14:39:14.178Z"
   },
   {
    "duration": 5,
    "start_time": "2022-09-01T14:39:14.212Z"
   },
   {
    "duration": 7,
    "start_time": "2022-09-01T14:39:14.219Z"
   },
   {
    "duration": 11,
    "start_time": "2022-09-01T14:39:14.228Z"
   },
   {
    "duration": 276,
    "start_time": "2022-09-01T14:39:14.240Z"
   },
   {
    "duration": 190,
    "start_time": "2022-09-01T14:39:14.518Z"
   },
   {
    "duration": 191,
    "start_time": "2022-09-01T14:39:14.710Z"
   },
   {
    "duration": 372,
    "start_time": "2022-09-01T14:39:14.905Z"
   },
   {
    "duration": 334,
    "start_time": "2022-09-01T14:39:15.279Z"
   },
   {
    "duration": 311,
    "start_time": "2022-09-01T14:39:15.615Z"
   },
   {
    "duration": 182,
    "start_time": "2022-09-01T14:39:15.927Z"
   },
   {
    "duration": 7,
    "start_time": "2022-09-01T14:39:16.111Z"
   },
   {
    "duration": 215,
    "start_time": "2022-09-01T14:39:16.120Z"
   },
   {
    "duration": 156,
    "start_time": "2022-09-01T14:39:16.336Z"
   },
   {
    "duration": 7,
    "start_time": "2022-09-01T14:39:16.494Z"
   },
   {
    "duration": 12,
    "start_time": "2022-09-01T14:39:21.112Z"
   },
   {
    "duration": 5,
    "start_time": "2022-09-01T14:39:46.633Z"
   },
   {
    "duration": 7,
    "start_time": "2022-09-01T14:39:49.405Z"
   },
   {
    "duration": 23,
    "start_time": "2022-09-01T14:40:08.517Z"
   },
   {
    "duration": 3,
    "start_time": "2022-09-01T14:40:11.398Z"
   },
   {
    "duration": 5,
    "start_time": "2022-09-01T14:40:16.837Z"
   },
   {
    "duration": 3,
    "start_time": "2022-09-01T14:40:20.136Z"
   },
   {
    "duration": 325,
    "start_time": "2022-09-01T14:40:20.141Z"
   },
   {
    "duration": 3,
    "start_time": "2022-09-01T14:40:20.467Z"
   },
   {
    "duration": 71,
    "start_time": "2022-09-01T14:40:20.471Z"
   },
   {
    "duration": 4,
    "start_time": "2022-09-01T14:40:20.544Z"
   },
   {
    "duration": 33,
    "start_time": "2022-09-01T14:40:20.550Z"
   },
   {
    "duration": 37,
    "start_time": "2022-09-01T14:40:20.584Z"
   },
   {
    "duration": 8,
    "start_time": "2022-09-01T14:40:20.623Z"
   },
   {
    "duration": 22,
    "start_time": "2022-09-01T14:40:20.632Z"
   },
   {
    "duration": 19,
    "start_time": "2022-09-01T14:40:20.656Z"
   },
   {
    "duration": 31,
    "start_time": "2022-09-01T14:40:20.676Z"
   },
   {
    "duration": 271,
    "start_time": "2022-09-01T14:40:20.709Z"
   },
   {
    "duration": 189,
    "start_time": "2022-09-01T14:40:20.982Z"
   },
   {
    "duration": 184,
    "start_time": "2022-09-01T14:40:21.172Z"
   },
   {
    "duration": 266,
    "start_time": "2022-09-01T14:40:21.359Z"
   },
   {
    "duration": 321,
    "start_time": "2022-09-01T14:40:21.627Z"
   },
   {
    "duration": 287,
    "start_time": "2022-09-01T14:40:21.949Z"
   },
   {
    "duration": 236,
    "start_time": "2022-09-01T14:40:22.238Z"
   },
   {
    "duration": 6,
    "start_time": "2022-09-01T14:40:22.476Z"
   },
   {
    "duration": 180,
    "start_time": "2022-09-01T14:40:22.484Z"
   },
   {
    "duration": 171,
    "start_time": "2022-09-01T14:40:22.665Z"
   },
   {
    "duration": 5,
    "start_time": "2022-09-01T14:40:22.837Z"
   },
   {
    "duration": 5,
    "start_time": "2022-09-01T14:40:22.843Z"
   },
   {
    "duration": 6,
    "start_time": "2022-09-01T14:40:24.565Z"
   },
   {
    "duration": 5,
    "start_time": "2022-09-01T14:41:42.664Z"
   },
   {
    "duration": 12,
    "start_time": "2022-09-01T14:41:54.357Z"
   },
   {
    "duration": 5,
    "start_time": "2022-09-01T14:42:04.110Z"
   },
   {
    "duration": 3,
    "start_time": "2022-09-01T14:42:06.689Z"
   },
   {
    "duration": 111,
    "start_time": "2022-09-01T14:42:06.696Z"
   },
   {
    "duration": 3,
    "start_time": "2022-09-01T14:42:06.809Z"
   },
   {
    "duration": 96,
    "start_time": "2022-09-01T14:42:06.813Z"
   },
   {
    "duration": 4,
    "start_time": "2022-09-01T14:42:06.911Z"
   },
   {
    "duration": 27,
    "start_time": "2022-09-01T14:42:06.917Z"
   },
   {
    "duration": 23,
    "start_time": "2022-09-01T14:42:06.946Z"
   },
   {
    "duration": 40,
    "start_time": "2022-09-01T14:42:06.971Z"
   },
   {
    "duration": 5,
    "start_time": "2022-09-01T14:42:07.013Z"
   },
   {
    "duration": 5,
    "start_time": "2022-09-01T14:42:07.020Z"
   },
   {
    "duration": 9,
    "start_time": "2022-09-01T14:42:07.027Z"
   },
   {
    "duration": 281,
    "start_time": "2022-09-01T14:42:07.038Z"
   },
   {
    "duration": 195,
    "start_time": "2022-09-01T14:42:07.321Z"
   },
   {
    "duration": 205,
    "start_time": "2022-09-01T14:42:07.518Z"
   },
   {
    "duration": 270,
    "start_time": "2022-09-01T14:42:07.726Z"
   },
   {
    "duration": 348,
    "start_time": "2022-09-01T14:42:07.998Z"
   },
   {
    "duration": 304,
    "start_time": "2022-09-01T14:42:08.347Z"
   },
   {
    "duration": 158,
    "start_time": "2022-09-01T14:42:08.653Z"
   },
   {
    "duration": 6,
    "start_time": "2022-09-01T14:42:08.813Z"
   },
   {
    "duration": 157,
    "start_time": "2022-09-01T14:42:08.821Z"
   },
   {
    "duration": 150,
    "start_time": "2022-09-01T14:42:08.980Z"
   },
   {
    "duration": 5,
    "start_time": "2022-09-01T14:42:09.131Z"
   },
   {
    "duration": 9,
    "start_time": "2022-09-01T14:42:09.138Z"
   },
   {
    "duration": 1584,
    "start_time": "2022-09-01T14:42:10.549Z"
   },
   {
    "duration": 7,
    "start_time": "2022-09-01T14:42:26.534Z"
   },
   {
    "duration": 5,
    "start_time": "2022-09-01T14:42:35.117Z"
   },
   {
    "duration": 11,
    "start_time": "2022-09-01T14:44:51.965Z"
   },
   {
    "duration": 4,
    "start_time": "2022-09-01T19:21:26.926Z"
   },
   {
    "duration": 115,
    "start_time": "2022-09-01T19:21:26.933Z"
   },
   {
    "duration": 2,
    "start_time": "2022-09-01T19:21:27.050Z"
   },
   {
    "duration": 69,
    "start_time": "2022-09-01T19:21:27.053Z"
   },
   {
    "duration": 4,
    "start_time": "2022-09-01T19:21:27.123Z"
   },
   {
    "duration": 29,
    "start_time": "2022-09-01T19:21:27.128Z"
   },
   {
    "duration": 55,
    "start_time": "2022-09-01T19:21:27.158Z"
   },
   {
    "duration": 9,
    "start_time": "2022-09-01T19:21:27.215Z"
   },
   {
    "duration": 5,
    "start_time": "2022-09-01T19:21:32.659Z"
   },
   {
    "duration": 13,
    "start_time": "2022-09-01T19:21:39.937Z"
   },
   {
    "duration": 3,
    "start_time": "2022-09-01T19:23:01.871Z"
   },
   {
    "duration": 127,
    "start_time": "2022-09-01T19:23:01.875Z"
   },
   {
    "duration": 2,
    "start_time": "2022-09-01T19:23:02.004Z"
   },
   {
    "duration": 107,
    "start_time": "2022-09-01T19:23:02.008Z"
   },
   {
    "duration": 5,
    "start_time": "2022-09-01T19:23:02.117Z"
   },
   {
    "duration": 31,
    "start_time": "2022-09-01T19:23:02.123Z"
   },
   {
    "duration": 51,
    "start_time": "2022-09-01T19:23:02.156Z"
   },
   {
    "duration": 9,
    "start_time": "2022-09-01T19:23:02.209Z"
   },
   {
    "duration": 12,
    "start_time": "2022-09-01T19:23:02.220Z"
   },
   {
    "duration": 20,
    "start_time": "2022-09-01T19:23:02.233Z"
   },
   {
    "duration": 273,
    "start_time": "2022-09-01T19:23:02.254Z"
   },
   {
    "duration": 181,
    "start_time": "2022-09-01T19:23:02.528Z"
   },
   {
    "duration": 267,
    "start_time": "2022-09-01T19:23:02.710Z"
   },
   {
    "duration": 301,
    "start_time": "2022-09-01T19:23:02.978Z"
   },
   {
    "duration": 348,
    "start_time": "2022-09-01T19:23:03.280Z"
   },
   {
    "duration": 292,
    "start_time": "2022-09-01T19:23:03.629Z"
   },
   {
    "duration": 157,
    "start_time": "2022-09-01T19:23:03.922Z"
   },
   {
    "duration": 6,
    "start_time": "2022-09-01T19:23:04.080Z"
   },
   {
    "duration": 158,
    "start_time": "2022-09-01T19:23:04.087Z"
   },
   {
    "duration": 146,
    "start_time": "2022-09-01T19:23:04.247Z"
   },
   {
    "duration": 14,
    "start_time": "2022-09-01T19:23:04.394Z"
   },
   {
    "duration": 5,
    "start_time": "2022-09-01T19:23:12.193Z"
   },
   {
    "duration": 12,
    "start_time": "2022-09-01T19:23:49.590Z"
   },
   {
    "duration": 3,
    "start_time": "2022-09-01T19:23:53.651Z"
   },
   {
    "duration": 130,
    "start_time": "2022-09-01T19:23:53.655Z"
   },
   {
    "duration": 2,
    "start_time": "2022-09-01T19:23:53.787Z"
   },
   {
    "duration": 70,
    "start_time": "2022-09-01T19:23:53.791Z"
   },
   {
    "duration": 4,
    "start_time": "2022-09-01T19:23:53.863Z"
   },
   {
    "duration": 59,
    "start_time": "2022-09-01T19:23:53.868Z"
   },
   {
    "duration": 20,
    "start_time": "2022-09-01T19:23:53.928Z"
   },
   {
    "duration": 8,
    "start_time": "2022-09-01T19:23:53.950Z"
   },
   {
    "duration": 5,
    "start_time": "2022-09-01T19:23:53.959Z"
   },
   {
    "duration": 50,
    "start_time": "2022-09-01T19:23:53.965Z"
   },
   {
    "duration": 273,
    "start_time": "2022-09-01T19:23:54.017Z"
   },
   {
    "duration": 192,
    "start_time": "2022-09-01T19:23:54.292Z"
   },
   {
    "duration": 193,
    "start_time": "2022-09-01T19:23:54.485Z"
   },
   {
    "duration": 302,
    "start_time": "2022-09-01T19:23:54.679Z"
   },
   {
    "duration": 330,
    "start_time": "2022-09-01T19:23:54.982Z"
   },
   {
    "duration": 405,
    "start_time": "2022-09-01T19:23:55.313Z"
   },
   {
    "duration": 170,
    "start_time": "2022-09-01T19:23:55.720Z"
   },
   {
    "duration": 15,
    "start_time": "2022-09-01T19:23:55.892Z"
   },
   {
    "duration": 170,
    "start_time": "2022-09-01T19:23:55.908Z"
   },
   {
    "duration": 202,
    "start_time": "2022-09-01T19:23:56.080Z"
   },
   {
    "duration": 5,
    "start_time": "2022-09-01T19:23:56.284Z"
   },
   {
    "duration": 13,
    "start_time": "2022-09-01T19:24:00.269Z"
   },
   {
    "duration": 3,
    "start_time": "2022-09-01T19:27:31.066Z"
   },
   {
    "duration": 117,
    "start_time": "2022-09-01T19:27:31.073Z"
   },
   {
    "duration": 3,
    "start_time": "2022-09-01T19:27:31.191Z"
   },
   {
    "duration": 69,
    "start_time": "2022-09-01T19:27:31.195Z"
   },
   {
    "duration": 4,
    "start_time": "2022-09-01T19:27:31.266Z"
   },
   {
    "duration": 26,
    "start_time": "2022-09-01T19:27:31.305Z"
   },
   {
    "duration": 21,
    "start_time": "2022-09-01T19:27:31.332Z"
   },
   {
    "duration": 13,
    "start_time": "2022-09-01T19:27:31.354Z"
   },
   {
    "duration": 38,
    "start_time": "2022-09-01T19:27:31.368Z"
   },
   {
    "duration": 9,
    "start_time": "2022-09-01T19:28:31.863Z"
   },
   {
    "duration": 12,
    "start_time": "2022-09-01T19:29:55.575Z"
   },
   {
    "duration": 3,
    "start_time": "2022-09-01T19:30:17.059Z"
   },
   {
    "duration": 163,
    "start_time": "2022-09-01T19:30:17.064Z"
   },
   {
    "duration": 3,
    "start_time": "2022-09-01T19:30:17.228Z"
   },
   {
    "duration": 97,
    "start_time": "2022-09-01T19:30:17.232Z"
   },
   {
    "duration": 4,
    "start_time": "2022-09-01T19:30:17.331Z"
   },
   {
    "duration": 41,
    "start_time": "2022-09-01T19:30:17.336Z"
   },
   {
    "duration": 43,
    "start_time": "2022-09-01T19:30:17.378Z"
   },
   {
    "duration": 13,
    "start_time": "2022-09-01T19:30:17.423Z"
   },
   {
    "duration": 18,
    "start_time": "2022-09-01T19:30:17.437Z"
   },
   {
    "duration": 27,
    "start_time": "2022-09-01T19:30:17.457Z"
   },
   {
    "duration": 274,
    "start_time": "2022-09-01T19:30:17.486Z"
   },
   {
    "duration": 189,
    "start_time": "2022-09-01T19:30:17.762Z"
   },
   {
    "duration": 203,
    "start_time": "2022-09-01T19:30:17.953Z"
   },
   {
    "duration": 257,
    "start_time": "2022-09-01T19:30:18.157Z"
   },
   {
    "duration": 338,
    "start_time": "2022-09-01T19:30:18.416Z"
   },
   {
    "duration": 313,
    "start_time": "2022-09-01T19:30:18.756Z"
   },
   {
    "duration": 161,
    "start_time": "2022-09-01T19:30:19.071Z"
   },
   {
    "duration": 7,
    "start_time": "2022-09-01T19:30:19.233Z"
   },
   {
    "duration": 160,
    "start_time": "2022-09-01T19:30:19.242Z"
   },
   {
    "duration": 231,
    "start_time": "2022-09-01T19:30:19.406Z"
   },
   {
    "duration": 4,
    "start_time": "2022-09-01T19:30:19.639Z"
   },
   {
    "duration": 7,
    "start_time": "2022-09-01T19:30:27.798Z"
   },
   {
    "duration": 5,
    "start_time": "2022-09-01T19:31:20.271Z"
   },
   {
    "duration": 10,
    "start_time": "2022-09-01T19:31:36.672Z"
   },
   {
    "duration": 10,
    "start_time": "2022-09-01T19:31:40.886Z"
   },
   {
    "duration": 12,
    "start_time": "2022-09-01T19:32:18.798Z"
   },
   {
    "duration": 4,
    "start_time": "2022-09-01T19:34:25.627Z"
   },
   {
    "duration": 149,
    "start_time": "2022-09-01T19:34:25.632Z"
   },
   {
    "duration": 2,
    "start_time": "2022-09-01T19:34:25.783Z"
   },
   {
    "duration": 88,
    "start_time": "2022-09-01T19:34:25.787Z"
   },
   {
    "duration": 31,
    "start_time": "2022-09-01T19:34:25.877Z"
   },
   {
    "duration": 38,
    "start_time": "2022-09-01T19:34:25.909Z"
   },
   {
    "duration": 24,
    "start_time": "2022-09-01T19:34:25.948Z"
   },
   {
    "duration": 7,
    "start_time": "2022-09-01T19:34:25.974Z"
   },
   {
    "duration": 38,
    "start_time": "2022-09-01T19:34:25.983Z"
   },
   {
    "duration": 12,
    "start_time": "2022-09-01T19:34:36.341Z"
   },
   {
    "duration": 14,
    "start_time": "2022-09-01T19:34:38.798Z"
   },
   {
    "duration": 13,
    "start_time": "2022-09-01T19:34:49.809Z"
   },
   {
    "duration": 3,
    "start_time": "2022-09-01T19:35:06.257Z"
   },
   {
    "duration": 356,
    "start_time": "2022-09-01T19:35:06.261Z"
   },
   {
    "duration": 2,
    "start_time": "2022-09-01T19:35:06.619Z"
   },
   {
    "duration": 96,
    "start_time": "2022-09-01T19:35:06.623Z"
   },
   {
    "duration": 4,
    "start_time": "2022-09-01T19:35:06.721Z"
   },
   {
    "duration": 29,
    "start_time": "2022-09-01T19:35:06.727Z"
   },
   {
    "duration": 53,
    "start_time": "2022-09-01T19:35:06.758Z"
   },
   {
    "duration": 9,
    "start_time": "2022-09-01T19:35:06.813Z"
   },
   {
    "duration": 4,
    "start_time": "2022-09-01T19:35:06.823Z"
   },
   {
    "duration": 12,
    "start_time": "2022-09-01T19:35:11.421Z"
   },
   {
    "duration": 4,
    "start_time": "2022-09-01T19:35:25.594Z"
   },
   {
    "duration": 223,
    "start_time": "2022-09-01T19:35:25.600Z"
   },
   {
    "duration": 3,
    "start_time": "2022-09-01T19:35:25.825Z"
   },
   {
    "duration": 91,
    "start_time": "2022-09-01T19:35:25.830Z"
   },
   {
    "duration": 5,
    "start_time": "2022-09-01T19:35:25.923Z"
   },
   {
    "duration": 33,
    "start_time": "2022-09-01T19:35:25.930Z"
   },
   {
    "duration": 57,
    "start_time": "2022-09-01T19:35:25.965Z"
   },
   {
    "duration": 12,
    "start_time": "2022-09-01T19:35:26.025Z"
   },
   {
    "duration": 15,
    "start_time": "2022-09-01T19:35:26.040Z"
   },
   {
    "duration": 36,
    "start_time": "2022-09-01T19:35:26.057Z"
   },
   {
    "duration": 312,
    "start_time": "2022-09-01T19:35:26.095Z"
   },
   {
    "duration": 201,
    "start_time": "2022-09-01T19:35:26.409Z"
   },
   {
    "duration": 197,
    "start_time": "2022-09-01T19:35:26.611Z"
   },
   {
    "duration": 280,
    "start_time": "2022-09-01T19:35:26.810Z"
   },
   {
    "duration": 338,
    "start_time": "2022-09-01T19:35:27.092Z"
   },
   {
    "duration": 299,
    "start_time": "2022-09-01T19:35:27.432Z"
   },
   {
    "duration": 162,
    "start_time": "2022-09-01T19:35:27.733Z"
   },
   {
    "duration": 12,
    "start_time": "2022-09-01T19:35:27.896Z"
   },
   {
    "duration": 161,
    "start_time": "2022-09-01T19:35:27.909Z"
   },
   {
    "duration": 153,
    "start_time": "2022-09-01T19:35:28.072Z"
   },
   {
    "duration": 5,
    "start_time": "2022-09-01T19:35:28.227Z"
   },
   {
    "duration": 13,
    "start_time": "2022-09-01T19:35:32.285Z"
   },
   {
    "duration": 14,
    "start_time": "2022-09-01T19:40:29.927Z"
   },
   {
    "duration": 11,
    "start_time": "2022-09-01T19:40:56.582Z"
   },
   {
    "duration": 27,
    "start_time": "2022-09-01T19:57:19.332Z"
   },
   {
    "duration": 420,
    "start_time": "2022-09-01T19:57:25.263Z"
   },
   {
    "duration": 306,
    "start_time": "2022-09-01T19:57:31.465Z"
   },
   {
    "duration": 5,
    "start_time": "2022-09-01T20:12:14.040Z"
   },
   {
    "duration": 4,
    "start_time": "2022-09-01T20:13:26.041Z"
   },
   {
    "duration": 7,
    "start_time": "2022-09-01T20:35:15.359Z"
   },
   {
    "duration": 5,
    "start_time": "2022-09-01T20:35:37.465Z"
   },
   {
    "duration": 222,
    "start_time": "2022-09-01T20:35:37.472Z"
   },
   {
    "duration": 3,
    "start_time": "2022-09-01T20:35:37.696Z"
   },
   {
    "duration": 110,
    "start_time": "2022-09-01T20:35:37.702Z"
   },
   {
    "duration": 5,
    "start_time": "2022-09-01T20:35:37.813Z"
   },
   {
    "duration": 29,
    "start_time": "2022-09-01T20:35:37.819Z"
   },
   {
    "duration": 63,
    "start_time": "2022-09-01T20:35:37.850Z"
   },
   {
    "duration": 8,
    "start_time": "2022-09-01T20:35:37.914Z"
   },
   {
    "duration": 5,
    "start_time": "2022-09-01T20:35:37.924Z"
   },
   {
    "duration": 13,
    "start_time": "2022-09-01T20:35:37.931Z"
   },
   {
    "duration": 316,
    "start_time": "2022-09-01T20:35:37.945Z"
   },
   {
    "duration": 204,
    "start_time": "2022-09-01T20:35:38.263Z"
   },
   {
    "duration": 308,
    "start_time": "2022-09-01T20:35:38.469Z"
   },
   {
    "duration": 343,
    "start_time": "2022-09-01T20:35:38.779Z"
   },
   {
    "duration": 363,
    "start_time": "2022-09-01T20:35:39.124Z"
   },
   {
    "duration": 384,
    "start_time": "2022-09-01T20:35:39.489Z"
   },
   {
    "duration": 218,
    "start_time": "2022-09-01T20:35:39.875Z"
   },
   {
    "duration": 11,
    "start_time": "2022-09-01T20:35:40.096Z"
   },
   {
    "duration": 203,
    "start_time": "2022-09-01T20:35:40.109Z"
   },
   {
    "duration": 248,
    "start_time": "2022-09-01T20:35:40.314Z"
   },
   {
    "duration": 5,
    "start_time": "2022-09-01T20:35:40.564Z"
   },
   {
    "duration": 39,
    "start_time": "2022-09-01T20:35:40.572Z"
   },
   {
    "duration": 18,
    "start_time": "2022-09-01T20:35:40.613Z"
   },
   {
    "duration": 32,
    "start_time": "2022-09-01T20:35:40.634Z"
   },
   {
    "duration": 585,
    "start_time": "2022-09-01T20:35:40.669Z"
   },
   {
    "duration": 292,
    "start_time": "2022-09-01T20:35:41.256Z"
   },
   {
    "duration": 8,
    "start_time": "2022-09-01T20:35:41.550Z"
   },
   {
    "duration": 108,
    "start_time": "2022-09-01T20:35:41.560Z"
   },
   {
    "duration": 333,
    "start_time": "2022-09-01T20:35:41.670Z"
   },
   {
    "duration": 13,
    "start_time": "2022-09-01T20:38:21.629Z"
   },
   {
    "duration": 31,
    "start_time": "2022-09-01T20:38:24.565Z"
   },
   {
    "duration": 4,
    "start_time": "2022-09-01T20:38:30.203Z"
   },
   {
    "duration": 431,
    "start_time": "2022-09-01T20:38:33.571Z"
   },
   {
    "duration": 308,
    "start_time": "2022-09-01T20:38:37.498Z"
   },
   {
    "duration": 5,
    "start_time": "2022-09-01T20:40:38.083Z"
   },
   {
    "duration": 7,
    "start_time": "2022-09-01T20:40:40.723Z"
   },
   {
    "duration": 4,
    "start_time": "2022-09-01T20:41:10.987Z"
   },
   {
    "duration": 70,
    "start_time": "2022-09-01T20:41:13.171Z"
   },
   {
    "duration": 251,
    "start_time": "2022-09-01T20:41:17.868Z"
   },
   {
    "duration": 149,
    "start_time": "2022-09-01T20:45:14.843Z"
   },
   {
    "duration": 4,
    "start_time": "2022-09-01T20:45:17.030Z"
   },
   {
    "duration": 191,
    "start_time": "2022-09-01T20:45:20.334Z"
   },
   {
    "duration": 402,
    "start_time": "2022-09-01T20:45:30.010Z"
   },
   {
    "duration": 69,
    "start_time": "2022-09-01T20:46:14.333Z"
   },
   {
    "duration": 68,
    "start_time": "2022-09-01T20:46:20.732Z"
   },
   {
    "duration": 72,
    "start_time": "2022-09-01T20:46:45.267Z"
   },
   {
    "duration": 302,
    "start_time": "2022-09-01T20:47:05.004Z"
   },
   {
    "duration": 312,
    "start_time": "2022-09-01T20:47:12.482Z"
   },
   {
    "duration": 83,
    "start_time": "2022-09-01T20:48:35.300Z"
   },
   {
    "duration": 257,
    "start_time": "2022-09-01T20:49:08.970Z"
   },
   {
    "duration": 342,
    "start_time": "2022-09-01T20:49:37.699Z"
   },
   {
    "duration": 287,
    "start_time": "2022-09-01T20:51:08.132Z"
   },
   {
    "duration": 1153,
    "start_time": "2022-09-01T20:54:34.949Z"
   },
   {
    "duration": 115,
    "start_time": "2022-09-01T20:54:36.105Z"
   },
   {
    "duration": 4,
    "start_time": "2022-09-01T20:54:36.222Z"
   },
   {
    "duration": 122,
    "start_time": "2022-09-01T20:54:36.229Z"
   },
   {
    "duration": 4,
    "start_time": "2022-09-01T20:54:36.353Z"
   },
   {
    "duration": 62,
    "start_time": "2022-09-01T20:54:36.359Z"
   },
   {
    "duration": 31,
    "start_time": "2022-09-01T20:54:36.423Z"
   },
   {
    "duration": 12,
    "start_time": "2022-09-01T20:54:36.456Z"
   },
   {
    "duration": 69,
    "start_time": "2022-09-01T20:54:36.470Z"
   },
   {
    "duration": 116,
    "start_time": "2022-09-01T20:54:36.542Z"
   },
   {
    "duration": 0,
    "start_time": "2022-09-01T20:54:36.660Z"
   },
   {
    "duration": 0,
    "start_time": "2022-09-01T20:54:36.662Z"
   },
   {
    "duration": 0,
    "start_time": "2022-09-01T20:54:36.663Z"
   },
   {
    "duration": 0,
    "start_time": "2022-09-01T20:54:36.664Z"
   },
   {
    "duration": 0,
    "start_time": "2022-09-01T20:54:36.665Z"
   },
   {
    "duration": 0,
    "start_time": "2022-09-01T20:54:36.666Z"
   },
   {
    "duration": 0,
    "start_time": "2022-09-01T20:54:36.668Z"
   },
   {
    "duration": 0,
    "start_time": "2022-09-01T20:54:36.669Z"
   },
   {
    "duration": 0,
    "start_time": "2022-09-01T20:54:36.670Z"
   },
   {
    "duration": 0,
    "start_time": "2022-09-01T20:54:36.670Z"
   },
   {
    "duration": 0,
    "start_time": "2022-09-01T20:54:36.672Z"
   },
   {
    "duration": 0,
    "start_time": "2022-09-01T20:54:36.673Z"
   },
   {
    "duration": 0,
    "start_time": "2022-09-01T20:54:36.674Z"
   },
   {
    "duration": 0,
    "start_time": "2022-09-01T20:54:36.675Z"
   },
   {
    "duration": 0,
    "start_time": "2022-09-01T20:54:36.676Z"
   },
   {
    "duration": 0,
    "start_time": "2022-09-01T20:54:36.677Z"
   },
   {
    "duration": 0,
    "start_time": "2022-09-01T20:54:36.678Z"
   },
   {
    "duration": 0,
    "start_time": "2022-09-01T20:54:36.706Z"
   },
   {
    "duration": 0,
    "start_time": "2022-09-01T20:54:36.708Z"
   },
   {
    "duration": 0,
    "start_time": "2022-09-01T20:54:36.709Z"
   },
   {
    "duration": 0,
    "start_time": "2022-09-01T20:54:36.710Z"
   },
   {
    "duration": 0,
    "start_time": "2022-09-01T20:54:36.711Z"
   },
   {
    "duration": 0,
    "start_time": "2022-09-01T20:54:36.712Z"
   },
   {
    "duration": 0,
    "start_time": "2022-09-01T20:54:36.713Z"
   },
   {
    "duration": 0,
    "start_time": "2022-09-01T20:54:36.714Z"
   },
   {
    "duration": 0,
    "start_time": "2022-09-01T20:54:36.715Z"
   },
   {
    "duration": 0,
    "start_time": "2022-09-01T20:54:36.716Z"
   },
   {
    "duration": 0,
    "start_time": "2022-09-01T20:54:36.717Z"
   },
   {
    "duration": 0,
    "start_time": "2022-09-01T20:54:36.718Z"
   },
   {
    "duration": 0,
    "start_time": "2022-09-01T20:54:36.718Z"
   },
   {
    "duration": 0,
    "start_time": "2022-09-01T20:54:36.720Z"
   },
   {
    "duration": 0,
    "start_time": "2022-09-01T20:54:36.721Z"
   },
   {
    "duration": 12,
    "start_time": "2022-09-01T20:56:07.742Z"
   },
   {
    "duration": 1104,
    "start_time": "2022-09-01T20:56:16.767Z"
   },
   {
    "duration": 110,
    "start_time": "2022-09-01T20:56:17.873Z"
   },
   {
    "duration": 2,
    "start_time": "2022-09-01T20:56:17.985Z"
   },
   {
    "duration": 118,
    "start_time": "2022-09-01T20:56:17.990Z"
   },
   {
    "duration": 6,
    "start_time": "2022-09-01T20:56:18.110Z"
   },
   {
    "duration": 27,
    "start_time": "2022-09-01T20:56:18.117Z"
   },
   {
    "duration": 23,
    "start_time": "2022-09-01T20:56:18.146Z"
   },
   {
    "duration": 43,
    "start_time": "2022-09-01T20:56:18.170Z"
   },
   {
    "duration": 5,
    "start_time": "2022-09-01T20:56:18.214Z"
   },
   {
    "duration": 12,
    "start_time": "2022-09-01T20:56:18.222Z"
   },
   {
    "duration": 319,
    "start_time": "2022-09-01T20:56:18.236Z"
   },
   {
    "duration": 273,
    "start_time": "2022-09-01T20:56:18.557Z"
   },
   {
    "duration": 219,
    "start_time": "2022-09-01T20:56:18.832Z"
   },
   {
    "duration": 291,
    "start_time": "2022-09-01T20:56:19.053Z"
   },
   {
    "duration": 360,
    "start_time": "2022-09-01T20:56:19.346Z"
   },
   {
    "duration": 501,
    "start_time": "2022-09-01T20:56:19.708Z"
   },
   {
    "duration": 303,
    "start_time": "2022-09-01T20:56:20.210Z"
   },
   {
    "duration": 6,
    "start_time": "2022-09-01T20:56:20.514Z"
   },
   {
    "duration": 310,
    "start_time": "2022-09-01T20:56:20.522Z"
   },
   {
    "duration": 585,
    "start_time": "2022-09-01T20:56:20.833Z"
   },
   {
    "duration": 7,
    "start_time": "2022-09-01T20:56:21.420Z"
   },
   {
    "duration": 24,
    "start_time": "2022-09-01T20:56:21.429Z"
   },
   {
    "duration": 41,
    "start_time": "2022-09-01T20:56:21.455Z"
   },
   {
    "duration": 38,
    "start_time": "2022-09-01T20:56:21.498Z"
   },
   {
    "duration": 478,
    "start_time": "2022-09-01T20:56:21.538Z"
   },
   {
    "duration": 301,
    "start_time": "2022-09-01T20:56:22.018Z"
   },
   {
    "duration": 8,
    "start_time": "2022-09-01T20:56:22.321Z"
   },
   {
    "duration": 92,
    "start_time": "2022-09-01T20:56:22.332Z"
   },
   {
    "duration": 280,
    "start_time": "2022-09-01T20:56:22.426Z"
   },
   {
    "duration": 11,
    "start_time": "2022-09-01T20:56:22.708Z"
   },
   {
    "duration": 55,
    "start_time": "2022-09-01T20:56:22.721Z"
   },
   {
    "duration": 5,
    "start_time": "2022-09-01T20:56:22.777Z"
   },
   {
    "duration": 467,
    "start_time": "2022-09-01T20:56:22.783Z"
   },
   {
    "duration": 269,
    "start_time": "2022-09-01T20:56:23.251Z"
   },
   {
    "duration": 8,
    "start_time": "2022-09-01T20:56:23.522Z"
   },
   {
    "duration": 24,
    "start_time": "2022-09-01T20:56:23.532Z"
   },
   {
    "duration": 89,
    "start_time": "2022-09-01T20:56:23.557Z"
   },
   {
    "duration": 285,
    "start_time": "2022-09-01T20:56:23.647Z"
   },
   {
    "duration": 169,
    "start_time": "2022-09-01T20:56:23.934Z"
   },
   {
    "duration": 5,
    "start_time": "2022-09-01T20:56:24.106Z"
   },
   {
    "duration": 209,
    "start_time": "2022-09-01T20:56:24.113Z"
   },
   {
    "duration": 314,
    "start_time": "2022-09-01T20:56:24.324Z"
   },
   {
    "duration": 1246,
    "start_time": "2022-09-02T12:41:14.755Z"
   },
   {
    "duration": 272,
    "start_time": "2022-09-02T12:41:16.004Z"
   },
   {
    "duration": 4,
    "start_time": "2022-09-02T12:41:16.278Z"
   },
   {
    "duration": 116,
    "start_time": "2022-09-02T12:41:16.284Z"
   },
   {
    "duration": 5,
    "start_time": "2022-09-02T12:41:16.401Z"
   },
   {
    "duration": 32,
    "start_time": "2022-09-02T12:41:16.408Z"
   },
   {
    "duration": 24,
    "start_time": "2022-09-02T12:41:16.441Z"
   },
   {
    "duration": 32,
    "start_time": "2022-09-02T12:41:16.466Z"
   },
   {
    "duration": 5,
    "start_time": "2022-09-02T12:41:16.500Z"
   },
   {
    "duration": 15,
    "start_time": "2022-09-02T12:41:16.507Z"
   },
   {
    "duration": 333,
    "start_time": "2022-09-02T12:41:16.524Z"
   },
   {
    "duration": 308,
    "start_time": "2022-09-02T12:41:16.859Z"
   },
   {
    "duration": 219,
    "start_time": "2022-09-02T12:41:17.169Z"
   },
   {
    "duration": 329,
    "start_time": "2022-09-02T12:41:17.390Z"
   },
   {
    "duration": 332,
    "start_time": "2022-09-02T12:41:17.721Z"
   },
   {
    "duration": 320,
    "start_time": "2022-09-02T12:41:18.054Z"
   },
   {
    "duration": 188,
    "start_time": "2022-09-02T12:41:18.376Z"
   },
   {
    "duration": 6,
    "start_time": "2022-09-02T12:41:18.566Z"
   },
   {
    "duration": 174,
    "start_time": "2022-09-02T12:41:18.574Z"
   },
   {
    "duration": 249,
    "start_time": "2022-09-02T12:41:18.750Z"
   },
   {
    "duration": 5,
    "start_time": "2022-09-02T12:41:19.001Z"
   },
   {
    "duration": 13,
    "start_time": "2022-09-02T12:41:19.007Z"
   },
   {
    "duration": 14,
    "start_time": "2022-09-02T12:41:19.022Z"
   },
   {
    "duration": 60,
    "start_time": "2022-09-02T12:41:19.037Z"
   },
   {
    "duration": 560,
    "start_time": "2022-09-02T12:41:19.098Z"
   },
   {
    "duration": 364,
    "start_time": "2022-09-02T12:41:19.660Z"
   },
   {
    "duration": 9,
    "start_time": "2022-09-02T12:41:20.026Z"
   },
   {
    "duration": 113,
    "start_time": "2022-09-02T12:41:20.039Z"
   },
   {
    "duration": 312,
    "start_time": "2022-09-02T12:41:20.154Z"
   },
   {
    "duration": 10,
    "start_time": "2022-09-02T12:41:20.467Z"
   },
   {
    "duration": 38,
    "start_time": "2022-09-02T12:41:20.479Z"
   },
   {
    "duration": 4,
    "start_time": "2022-09-02T12:41:20.519Z"
   },
   {
    "duration": 531,
    "start_time": "2022-09-02T12:41:20.525Z"
   },
   {
    "duration": 306,
    "start_time": "2022-09-02T12:41:21.058Z"
   },
   {
    "duration": 8,
    "start_time": "2022-09-02T12:41:21.365Z"
   },
   {
    "duration": 17,
    "start_time": "2022-09-02T12:41:21.374Z"
   },
   {
    "duration": 81,
    "start_time": "2022-09-02T12:41:21.393Z"
   },
   {
    "duration": 363,
    "start_time": "2022-09-02T12:41:21.475Z"
   },
   {
    "duration": 218,
    "start_time": "2022-09-02T12:41:21.840Z"
   },
   {
    "duration": 7,
    "start_time": "2022-09-02T12:41:22.060Z"
   },
   {
    "duration": 229,
    "start_time": "2022-09-02T12:41:22.069Z"
   },
   {
    "duration": 348,
    "start_time": "2022-09-02T12:41:22.299Z"
   }
  ],
  "kernelspec": {
   "display_name": "Python 3 (ipykernel)",
   "language": "python",
   "name": "python3"
  },
  "language_info": {
   "codemirror_mode": {
    "name": "ipython",
    "version": 3
   },
   "file_extension": ".py",
   "mimetype": "text/x-python",
   "name": "python",
   "nbconvert_exporter": "python",
   "pygments_lexer": "ipython3",
   "version": "3.9.5"
  },
  "toc": {
   "base_numbering": 1,
   "nav_menu": {},
   "number_sections": true,
   "sideBar": true,
   "skip_h1_title": true,
   "title_cell": "Содержание",
   "title_sidebar": "Содержание",
   "toc_cell": true,
   "toc_position": {
    "height": "calc(100% - 180px)",
    "left": "10px",
    "top": "150px",
    "width": "282.312px"
   },
   "toc_section_display": true,
   "toc_window_display": true
  }
 },
 "nbformat": 4,
 "nbformat_minor": 2
}
