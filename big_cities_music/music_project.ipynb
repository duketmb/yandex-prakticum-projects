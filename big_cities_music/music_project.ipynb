{
 "cells": [
  {
   "cell_type": "markdown",
   "metadata": {
    "toc": true
   },
   "source": [
    "<h1>Содержание<span class=\"tocSkip\"></span></h1>\n",
    "<div class=\"toc\"><ul class=\"toc-item\"><li><span><a href=\"#Обзор-данных\" data-toc-modified-id=\"Обзор-данных-1\"><span class=\"toc-item-num\">1&nbsp;&nbsp;</span>Обзор данных</a></span></li><li><span><a href=\"#Предобработка-данных\" data-toc-modified-id=\"Предобработка-данных-2\"><span class=\"toc-item-num\">2&nbsp;&nbsp;</span>Предобработка данных</a></span><ul class=\"toc-item\"><li><span><a href=\"#Стиль-заголовков\" data-toc-modified-id=\"Стиль-заголовков-2.1\"><span class=\"toc-item-num\">2.1&nbsp;&nbsp;</span>Стиль заголовков</a></span></li><li><span><a href=\"#Пропуски-значений\" data-toc-modified-id=\"Пропуски-значений-2.2\"><span class=\"toc-item-num\">2.2&nbsp;&nbsp;</span>Пропуски значений</a></span></li><li><span><a href=\"#Дубликаты\" data-toc-modified-id=\"Дубликаты-2.3\"><span class=\"toc-item-num\">2.3&nbsp;&nbsp;</span>Дубликаты</a></span></li></ul></li><li><span><a href=\"#Проверка-гипотез\" data-toc-modified-id=\"Проверка-гипотез-3\"><span class=\"toc-item-num\">3&nbsp;&nbsp;</span>Проверка гипотез</a></span><ul class=\"toc-item\"><li><span><a href=\"#Сравнение-поведения-пользователей-двух-столиц\" data-toc-modified-id=\"Сравнение-поведения-пользователей-двух-столиц-3.1\"><span class=\"toc-item-num\">3.1&nbsp;&nbsp;</span>Сравнение поведения пользователей двух столиц</a></span></li><li><span><a href=\"#Музыка-в-начале-и-в-конце-недели\" data-toc-modified-id=\"Музыка-в-начале-и-в-конце-недели-3.2\"><span class=\"toc-item-num\">3.2&nbsp;&nbsp;</span>Музыка в начале и в конце недели</a></span></li><li><span><a href=\"#Жанровые-предпочтения-в-Москве-и-Петербурге\" data-toc-modified-id=\"Жанровые-предпочтения-в-Москве-и-Петербурге-3.3\"><span class=\"toc-item-num\">3.3&nbsp;&nbsp;</span>Жанровые предпочтения в Москве и Петербурге</a></span></li></ul></li><li><span><a href=\"#Итоги-исследования\" data-toc-modified-id=\"Итоги-исследования-4\"><span class=\"toc-item-num\">4&nbsp;&nbsp;</span>Итоги исследования</a></span></li></ul></div>"
   ]
  },
  {
   "cell_type": "markdown",
   "metadata": {
    "id": "E0vqbgi9ay0H"
   },
   "source": [
    "# Яндекс.Музыка"
   ]
  },
  {
   "cell_type": "markdown",
   "metadata": {
    "id": "VUC88oWjTJw2"
   },
   "source": [
    "Сравнение Москвы и Петербурга окружено мифами. Например:\n",
    " * Москва — мегаполис, подчинённый жёсткому ритму рабочей недели;\n",
    " * Петербург — культурная столица, со своими вкусами.\n",
    "\n",
    "На данных Яндекс.Музыки вы сравните поведение пользователей двух столиц.\n",
    "\n",
    "**Цель исследования** — проверьте три гипотезы:\n",
    "1. Активность пользователей зависит от дня недели. Причём в Москве и Петербурге это проявляется по-разному.\n",
    "2. В понедельник утром в Москве преобладают одни жанры, а в Петербурге — другие. Так же и вечером пятницы преобладают разные жанры — в зависимости от города. \n",
    "3. Москва и Петербург предпочитают разные жанры музыки. В Москве чаще слушают поп-музыку, в Петербурге — русский рэп.\n",
    "\n",
    "**Ход исследования**\n",
    "\n",
    "Данные о поведении пользователей вы получите из файла `yandex_music_project.csv`. О качестве данных ничего не известно. Поэтому перед проверкой гипотез понадобится обзор данных. \n",
    "\n",
    "Вы проверите данные на ошибки и оцените их влияние на исследование. Затем, на этапе предобработки вы поищете возможность исправить самые критичные ошибки данных.\n",
    " \n",
    "Таким образом, исследование пройдёт в три этапа:\n",
    " 1. Обзор данных.\n",
    " 2. Предобработка данных.\n",
    " 3. Проверка гипотез.\n",
    "\n"
   ]
  },
  {
   "cell_type": "markdown",
   "metadata": {
    "id": "Ml1hmfXC_Zcs"
   },
   "source": [
    "## Обзор данных\n",
    "\n",
    "Составьте первое представление о данных Яндекс.Музыки.\n",
    "\n",
    "\n"
   ]
  },
  {
   "cell_type": "markdown",
   "metadata": {
    "id": "57eAOGIz_Zcs"
   },
   "source": [
    "Основной инструмент аналитика — `pandas`. Импортируйте эту библиотеку."
   ]
  },
  {
   "cell_type": "code",
   "execution_count": 1,
   "metadata": {
    "id": "AXN7PHPN_Zcs"
   },
   "outputs": [],
   "source": [
    "# импорт библиотеки pandas\n",
    "import pandas as pd"
   ]
  },
  {
   "cell_type": "markdown",
   "metadata": {
    "id": "SG23P8tt_Zcs"
   },
   "source": [
    "Прочитайте файл `yandex_music_project.csv` из папки `/datasets` и сохраните его в переменной `df`:"
   ]
  },
  {
   "cell_type": "code",
   "execution_count": 2,
   "metadata": {
    "id": "fFVu7vqh_Zct"
   },
   "outputs": [],
   "source": [
    "# чтение файла с данными и сохранение в df\n",
    "try:\n",
    "    df = pd.read_csv('/datasets/yandex_music_project.csv')\n",
    "except:\n",
    "    df = pd.read_csv('dataset_project1.csv')"
   ]
  },
  {
   "cell_type": "markdown",
   "metadata": {
    "id": "rDoOMd3uTqnZ"
   },
   "source": [
    "Выведите на экран первые десять строк таблицы:"
   ]
  },
  {
   "cell_type": "code",
   "execution_count": 3,
   "metadata": {
    "id": "oWTVX3gW_Zct"
   },
   "outputs": [
    {
     "data": {
      "text/html": [
       "<div>\n",
       "<style scoped>\n",
       "    .dataframe tbody tr th:only-of-type {\n",
       "        vertical-align: middle;\n",
       "    }\n",
       "\n",
       "    .dataframe tbody tr th {\n",
       "        vertical-align: top;\n",
       "    }\n",
       "\n",
       "    .dataframe thead th {\n",
       "        text-align: right;\n",
       "    }\n",
       "</style>\n",
       "<table border=\"1\" class=\"dataframe\">\n",
       "  <thead>\n",
       "    <tr style=\"text-align: right;\">\n",
       "      <th></th>\n",
       "      <th>userID</th>\n",
       "      <th>Track</th>\n",
       "      <th>artist</th>\n",
       "      <th>genre</th>\n",
       "      <th>City</th>\n",
       "      <th>time</th>\n",
       "      <th>Day</th>\n",
       "    </tr>\n",
       "  </thead>\n",
       "  <tbody>\n",
       "    <tr>\n",
       "      <th>0</th>\n",
       "      <td>FFB692EC</td>\n",
       "      <td>Kamigata To Boots</td>\n",
       "      <td>The Mass Missile</td>\n",
       "      <td>rock</td>\n",
       "      <td>Saint-Petersburg</td>\n",
       "      <td>20:28:33</td>\n",
       "      <td>Wednesday</td>\n",
       "    </tr>\n",
       "    <tr>\n",
       "      <th>1</th>\n",
       "      <td>55204538</td>\n",
       "      <td>Delayed Because of Accident</td>\n",
       "      <td>Andreas Rönnberg</td>\n",
       "      <td>rock</td>\n",
       "      <td>Moscow</td>\n",
       "      <td>14:07:09</td>\n",
       "      <td>Friday</td>\n",
       "    </tr>\n",
       "    <tr>\n",
       "      <th>2</th>\n",
       "      <td>20EC38</td>\n",
       "      <td>Funiculì funiculà</td>\n",
       "      <td>Mario Lanza</td>\n",
       "      <td>pop</td>\n",
       "      <td>Saint-Petersburg</td>\n",
       "      <td>20:58:07</td>\n",
       "      <td>Wednesday</td>\n",
       "    </tr>\n",
       "    <tr>\n",
       "      <th>3</th>\n",
       "      <td>A3DD03C9</td>\n",
       "      <td>Dragons in the Sunset</td>\n",
       "      <td>Fire + Ice</td>\n",
       "      <td>folk</td>\n",
       "      <td>Saint-Petersburg</td>\n",
       "      <td>08:37:09</td>\n",
       "      <td>Monday</td>\n",
       "    </tr>\n",
       "    <tr>\n",
       "      <th>4</th>\n",
       "      <td>E2DC1FAE</td>\n",
       "      <td>Soul People</td>\n",
       "      <td>Space Echo</td>\n",
       "      <td>dance</td>\n",
       "      <td>Moscow</td>\n",
       "      <td>08:34:34</td>\n",
       "      <td>Monday</td>\n",
       "    </tr>\n",
       "    <tr>\n",
       "      <th>5</th>\n",
       "      <td>842029A1</td>\n",
       "      <td>Преданная</td>\n",
       "      <td>IMPERVTOR</td>\n",
       "      <td>rusrap</td>\n",
       "      <td>Saint-Petersburg</td>\n",
       "      <td>13:09:41</td>\n",
       "      <td>Friday</td>\n",
       "    </tr>\n",
       "    <tr>\n",
       "      <th>6</th>\n",
       "      <td>4CB90AA5</td>\n",
       "      <td>True</td>\n",
       "      <td>Roman Messer</td>\n",
       "      <td>dance</td>\n",
       "      <td>Moscow</td>\n",
       "      <td>13:00:07</td>\n",
       "      <td>Wednesday</td>\n",
       "    </tr>\n",
       "    <tr>\n",
       "      <th>7</th>\n",
       "      <td>F03E1C1F</td>\n",
       "      <td>Feeling This Way</td>\n",
       "      <td>Polina Griffith</td>\n",
       "      <td>dance</td>\n",
       "      <td>Moscow</td>\n",
       "      <td>20:47:49</td>\n",
       "      <td>Wednesday</td>\n",
       "    </tr>\n",
       "    <tr>\n",
       "      <th>8</th>\n",
       "      <td>8FA1D3BE</td>\n",
       "      <td>И вновь продолжается бой</td>\n",
       "      <td>NaN</td>\n",
       "      <td>ruspop</td>\n",
       "      <td>Moscow</td>\n",
       "      <td>09:17:40</td>\n",
       "      <td>Friday</td>\n",
       "    </tr>\n",
       "    <tr>\n",
       "      <th>9</th>\n",
       "      <td>E772D5C0</td>\n",
       "      <td>Pessimist</td>\n",
       "      <td>NaN</td>\n",
       "      <td>dance</td>\n",
       "      <td>Saint-Petersburg</td>\n",
       "      <td>21:20:49</td>\n",
       "      <td>Wednesday</td>\n",
       "    </tr>\n",
       "  </tbody>\n",
       "</table>\n",
       "</div>"
      ],
      "text/plain": [
       "     userID                        Track            artist   genre  \\\n",
       "0  FFB692EC            Kamigata To Boots  The Mass Missile    rock   \n",
       "1  55204538  Delayed Because of Accident  Andreas Rönnberg    rock   \n",
       "2    20EC38            Funiculì funiculà       Mario Lanza     pop   \n",
       "3  A3DD03C9        Dragons in the Sunset        Fire + Ice    folk   \n",
       "4  E2DC1FAE                  Soul People        Space Echo   dance   \n",
       "5  842029A1                    Преданная         IMPERVTOR  rusrap   \n",
       "6  4CB90AA5                         True      Roman Messer   dance   \n",
       "7  F03E1C1F             Feeling This Way   Polina Griffith   dance   \n",
       "8  8FA1D3BE     И вновь продолжается бой               NaN  ruspop   \n",
       "9  E772D5C0                    Pessimist               NaN   dance   \n",
       "\n",
       "             City        time        Day  \n",
       "0  Saint-Petersburg  20:28:33  Wednesday  \n",
       "1            Moscow  14:07:09     Friday  \n",
       "2  Saint-Petersburg  20:58:07  Wednesday  \n",
       "3  Saint-Petersburg  08:37:09     Monday  \n",
       "4            Moscow  08:34:34     Monday  \n",
       "5  Saint-Petersburg  13:09:41     Friday  \n",
       "6            Moscow  13:00:07  Wednesday  \n",
       "7            Moscow  20:47:49  Wednesday  \n",
       "8            Moscow  09:17:40     Friday  \n",
       "9  Saint-Petersburg  21:20:49  Wednesday  "
      ]
     },
     "execution_count": 3,
     "metadata": {},
     "output_type": "execute_result"
    }
   ],
   "source": [
    "# получение первых 10 строк таблицы df\n",
    "df.head(10)"
   ]
  },
  {
   "cell_type": "code",
   "execution_count": 4,
   "metadata": {},
   "outputs": [
    {
     "data": {
      "text/html": [
       "<div>\n",
       "<style scoped>\n",
       "    .dataframe tbody tr th:only-of-type {\n",
       "        vertical-align: middle;\n",
       "    }\n",
       "\n",
       "    .dataframe tbody tr th {\n",
       "        vertical-align: top;\n",
       "    }\n",
       "\n",
       "    .dataframe thead th {\n",
       "        text-align: right;\n",
       "    }\n",
       "</style>\n",
       "<table border=\"1\" class=\"dataframe\">\n",
       "  <thead>\n",
       "    <tr style=\"text-align: right;\">\n",
       "      <th></th>\n",
       "      <th>userID</th>\n",
       "      <th>Track</th>\n",
       "      <th>artist</th>\n",
       "      <th>genre</th>\n",
       "      <th>City</th>\n",
       "      <th>time</th>\n",
       "      <th>Day</th>\n",
       "    </tr>\n",
       "  </thead>\n",
       "  <tbody>\n",
       "    <tr>\n",
       "      <th>65074</th>\n",
       "      <td>729CBB09</td>\n",
       "      <td>My Name</td>\n",
       "      <td>McLean</td>\n",
       "      <td>rnb</td>\n",
       "      <td>Moscow</td>\n",
       "      <td>13:32:28</td>\n",
       "      <td>Wednesday</td>\n",
       "    </tr>\n",
       "    <tr>\n",
       "      <th>65075</th>\n",
       "      <td>D08D4A55</td>\n",
       "      <td>Maybe One Day (feat. Black Spade)</td>\n",
       "      <td>Blu &amp; Exile</td>\n",
       "      <td>hip</td>\n",
       "      <td>Saint-Petersburg</td>\n",
       "      <td>10:00:00</td>\n",
       "      <td>Monday</td>\n",
       "    </tr>\n",
       "    <tr>\n",
       "      <th>65076</th>\n",
       "      <td>C5E3A0D5</td>\n",
       "      <td>Jalopiina</td>\n",
       "      <td>NaN</td>\n",
       "      <td>industrial</td>\n",
       "      <td>Moscow</td>\n",
       "      <td>20:09:26</td>\n",
       "      <td>Friday</td>\n",
       "    </tr>\n",
       "    <tr>\n",
       "      <th>65077</th>\n",
       "      <td>321D0506</td>\n",
       "      <td>Freight Train</td>\n",
       "      <td>Chas McDevitt</td>\n",
       "      <td>rock</td>\n",
       "      <td>Moscow</td>\n",
       "      <td>21:43:59</td>\n",
       "      <td>Friday</td>\n",
       "    </tr>\n",
       "    <tr>\n",
       "      <th>65078</th>\n",
       "      <td>3A64EF84</td>\n",
       "      <td>Tell Me Sweet Little Lies</td>\n",
       "      <td>Monica Lopez</td>\n",
       "      <td>country</td>\n",
       "      <td>Moscow</td>\n",
       "      <td>21:59:46</td>\n",
       "      <td>Friday</td>\n",
       "    </tr>\n",
       "  </tbody>\n",
       "</table>\n",
       "</div>"
      ],
      "text/plain": [
       "         userID                              Track         artist       genre  \\\n",
       "65074  729CBB09                            My Name         McLean         rnb   \n",
       "65075  D08D4A55  Maybe One Day (feat. Black Spade)    Blu & Exile         hip   \n",
       "65076  C5E3A0D5                          Jalopiina            NaN  industrial   \n",
       "65077  321D0506                      Freight Train  Chas McDevitt        rock   \n",
       "65078  3A64EF84          Tell Me Sweet Little Lies   Monica Lopez     country   \n",
       "\n",
       "                 City        time        Day  \n",
       "65074            Moscow  13:32:28  Wednesday  \n",
       "65075  Saint-Petersburg  10:00:00     Monday  \n",
       "65076            Moscow  20:09:26     Friday  \n",
       "65077            Moscow  21:43:59     Friday  \n",
       "65078            Moscow  21:59:46     Friday  "
      ]
     },
     "execution_count": 4,
     "metadata": {},
     "output_type": "execute_result"
    }
   ],
   "source": [
    "# Комментарий ревьюера\n",
    "df.tail(5)"
   ]
  },
  {
   "cell_type": "markdown",
   "metadata": {
    "id": "EO73Kwic_Zct"
   },
   "source": [
    "Одной командой получить общую информацию о таблице:"
   ]
  },
  {
   "cell_type": "code",
   "execution_count": 5,
   "metadata": {
    "id": "DSf2kIb-_Zct"
   },
   "outputs": [
    {
     "name": "stdout",
     "output_type": "stream",
     "text": [
      "<class 'pandas.core.frame.DataFrame'>\n",
      "RangeIndex: 65079 entries, 0 to 65078\n",
      "Data columns (total 7 columns):\n",
      " #   Column    Non-Null Count  Dtype \n",
      "---  ------    --------------  ----- \n",
      " 0     userID  65079 non-null  object\n",
      " 1   Track     63848 non-null  object\n",
      " 2   artist    57876 non-null  object\n",
      " 3   genre     63881 non-null  object\n",
      " 4     City    65079 non-null  object\n",
      " 5   time      65079 non-null  object\n",
      " 6   Day       65079 non-null  object\n",
      "dtypes: object(7)\n",
      "memory usage: 3.5+ MB\n"
     ]
    }
   ],
   "source": [
    "# получение общей информации о данных в таблице df\n",
    "df.info()"
   ]
  },
  {
   "cell_type": "markdown",
   "metadata": {
    "id": "TaQ2Iwbr_Zct"
   },
   "source": [
    "Итак, в таблице семь столбцов. Тип данных во всех столбцах — `object`.\n",
    "\n",
    "Согласно документации к данным:\n",
    "* `userID` — идентификатор пользователя;\n",
    "* `Track` — название трека;  \n",
    "* `artist` — имя исполнителя;\n",
    "* `genre` — название жанра;\n",
    "* `City` — город пользователя;\n",
    "* `time` — время начала прослушивания;\n",
    "* `Day` — день недели.\n",
    "\n",
    "В названиях колонок видны три нарушения стиля:\n",
    "1. Строчные буквы сочетаются с прописными.\n",
    "2. Встречаются пробелы.\n",
    "3. Не используется змеиный регистр.\n",
    "\n",
    "\n",
    "\n",
    "Количество значений в столбцах различается. Значит, в данных есть пропущенные значения.\n"
   ]
  },
  {
   "cell_type": "markdown",
   "metadata": {
    "id": "MCB6-dXG_Zct"
   },
   "source": [
    "**Выводы**\n",
    "\n",
    "В каждой строке таблицы — данные о прослушанном треке. Часть колонок описывает саму композицию: название, исполнителя и жанр. Остальные данные рассказывают о пользователе: из какого он города, когда он слушал музыку. \n",
    "\n",
    "Предварительно можно утверждать, что, данных достаточно для проверки гипотез. Но встречаются пропуски в данных, а в названиях колонок — расхождения с хорошим стилем.\n",
    "\n",
    "Чтобы двигаться дальше, нужно устранить проблемы в данных."
   ]
  },
  {
   "cell_type": "markdown",
   "metadata": {
    "id": "SjYF6Ub9_Zct"
   },
   "source": [
    "## Предобработка данных\n",
    "Исправьте стиль в заголовках столбцов, исключите пропуски. Затем проверьте данные на дубликаты."
   ]
  },
  {
   "cell_type": "markdown",
   "metadata": {
    "id": "dIaKXr29_Zct"
   },
   "source": [
    "### Стиль заголовков\n",
    "Выведите на экран названия столбцов:"
   ]
  },
  {
   "cell_type": "code",
   "execution_count": 6,
   "metadata": {
    "id": "oKOTdF_Q_Zct"
   },
   "outputs": [
    {
     "data": {
      "text/plain": [
       "Index(['  userID', 'Track', 'artist', 'genre', '  City  ', 'time', 'Day'], dtype='object')"
      ]
     },
     "execution_count": 6,
     "metadata": {},
     "output_type": "execute_result"
    }
   ],
   "source": [
    "# перечень названий столбцов таблицы df\n",
    "df.columns"
   ]
  },
  {
   "cell_type": "markdown",
   "metadata": {
    "id": "zj5534cv_Zct"
   },
   "source": [
    "Приведите названия в соответствие с хорошим стилем:\n",
    "* несколько слов в названии запишите в «змеином_регистре»,\n",
    "* все символы сделайте строчными,\n",
    "* устраните пробелы.\n",
    "\n",
    "Для этого переименуйте колонки так:\n",
    "* `'  userID'` → `'user_id'`;\n",
    "* `'Track'` → `'track'`;\n",
    "* `'  City  '` → `'city'`;\n",
    "* `'Day'` → `'day'`."
   ]
  },
  {
   "cell_type": "code",
   "execution_count": 7,
   "metadata": {
    "id": "ISlFqs5y_Zct"
   },
   "outputs": [],
   "source": [
    "# переименование столбцов\n",
    "df = df.rename(columns={'  userID': 'user_id', 'Track': 'track', '  City  ': 'city', 'Day': 'day'})"
   ]
  },
  {
   "cell_type": "markdown",
   "metadata": {
    "id": "1dqbh00J_Zct"
   },
   "source": [
    "Проверьте результат. Для этого ещё раз выведите на экран названия столбцов:"
   ]
  },
  {
   "cell_type": "code",
   "execution_count": 8,
   "metadata": {
    "id": "d4NOAmTW_Zct"
   },
   "outputs": [
    {
     "data": {
      "text/plain": [
       "Index(['user_id', 'track', 'artist', 'genre', 'city', 'time', 'day'], dtype='object')"
      ]
     },
     "execution_count": 8,
     "metadata": {},
     "output_type": "execute_result"
    }
   ],
   "source": [
    "# проверка результатов - перечень названий столбцов\n",
    "df.columns"
   ]
  },
  {
   "cell_type": "markdown",
   "metadata": {
    "id": "5ISfbcfY_Zct"
   },
   "source": [
    "### Пропуски значений\n",
    "Сначала посчитайте, сколько в таблице пропущенных значений. Для этого достаточно двух методов `pandas`:"
   ]
  },
  {
   "cell_type": "code",
   "execution_count": 9,
   "metadata": {
    "id": "RskX29qr_Zct",
    "scrolled": true
   },
   "outputs": [
    {
     "data": {
      "text/plain": [
       "user_id       0\n",
       "track      1231\n",
       "artist     7203\n",
       "genre      1198\n",
       "city          0\n",
       "time          0\n",
       "day           0\n",
       "dtype: int64"
      ]
     },
     "execution_count": 9,
     "metadata": {},
     "output_type": "execute_result"
    }
   ],
   "source": [
    "# подсчёт пропусков\n",
    "df.isna().sum()"
   ]
  },
  {
   "cell_type": "markdown",
   "metadata": {
    "id": "qubhgnlO_Zct"
   },
   "source": [
    "Не все пропущенные значения влияют на исследование. Так в `track` и `artist` пропуски не важны для вашей работы. Достаточно заменить их явными обозначениями.\n",
    "\n",
    "Но пропуски в `genre` могут помешать сравнению музыкальных вкусов в Москве и Санкт-Петербурге. На практике было бы правильно установить причину пропусков и восстановить данные. Такой возможности нет в учебном проекте. Придётся:\n",
    "* заполнить и эти пропуски явными обозначениями,\n",
    "* оценить, насколько они повредят расчётам. "
   ]
  },
  {
   "cell_type": "markdown",
   "metadata": {
    "id": "fSv2laPA_Zct"
   },
   "source": [
    "Замените пропущенные значения в столбцах `track`, `artist` и `genre` на строку `'unknown'`. Для этого создайте список `columns_to_replace`, переберите его элементы циклом `for` и для каждого столбца выполните замену пропущенных значений:"
   ]
  },
  {
   "cell_type": "code",
   "execution_count": 10,
   "metadata": {
    "id": "KplB5qWs_Zct"
   },
   "outputs": [],
   "source": [
    "# перебор названий столбцов в цикле и замена пропущенных значений на 'unknown'\n",
    "columns_to_replace = ['track', 'artist', 'genre']\n",
    "for column in columns_to_replace:\n",
    "    df[column] = df[column].fillna('unknown')"
   ]
  },
  {
   "cell_type": "markdown",
   "metadata": {
    "id": "Ilsm-MZo_Zct"
   },
   "source": [
    "Убедитесь, что в таблице не осталось пропусков. Для этого ещё раз посчитайте пропущенные значения."
   ]
  },
  {
   "cell_type": "code",
   "execution_count": 11,
   "metadata": {
    "id": "Tq4nYRX4_Zct"
   },
   "outputs": [
    {
     "data": {
      "text/plain": [
       "user_id    0\n",
       "track      0\n",
       "artist     0\n",
       "genre      0\n",
       "city       0\n",
       "time       0\n",
       "day        0\n",
       "dtype: int64"
      ]
     },
     "execution_count": 11,
     "metadata": {},
     "output_type": "execute_result"
    }
   ],
   "source": [
    "# подсчёт пропусков\n",
    "df.isna().sum()"
   ]
  },
  {
   "cell_type": "markdown",
   "metadata": {
    "id": "BWKRtBJ3_Zct"
   },
   "source": [
    "### Дубликаты\n",
    "Посчитайте явные дубликаты в таблице одной командой:"
   ]
  },
  {
   "cell_type": "code",
   "execution_count": 12,
   "metadata": {
    "id": "36eES_S0_Zct"
   },
   "outputs": [
    {
     "data": {
      "text/plain": [
       "3826"
      ]
     },
     "execution_count": 12,
     "metadata": {},
     "output_type": "execute_result"
    }
   ],
   "source": [
    "# подсчёт явных дубликатов\n",
    "df.duplicated().sum()"
   ]
  },
  {
   "cell_type": "markdown",
   "metadata": {
    "id": "Ot25h6XR_Zct"
   },
   "source": [
    "Вызовите специальный метод `pandas`, чтобы удалить явные дубликаты:"
   ]
  },
  {
   "cell_type": "code",
   "execution_count": 13,
   "metadata": {
    "id": "exFHq6tt_Zct"
   },
   "outputs": [],
   "source": [
    "# удаление явных дубликатов (с удалением старых индексов и формированием новых)\n",
    "df = df.drop_duplicates().reset_index(drop=True)"
   ]
  },
  {
   "cell_type": "markdown",
   "metadata": {
    "id": "Im2YwBEG_Zct"
   },
   "source": [
    "Ещё раз посчитайте явные дубликаты в таблице — убедитесь, что полностью от них избавились:"
   ]
  },
  {
   "cell_type": "code",
   "execution_count": 14,
   "metadata": {
    "id": "-8PuNWQ0_Zct"
   },
   "outputs": [
    {
     "data": {
      "text/plain": [
       "0"
      ]
     },
     "execution_count": 14,
     "metadata": {},
     "output_type": "execute_result"
    }
   ],
   "source": [
    "# проверка на отсутствие дубликатов\n",
    "df.duplicated().sum()"
   ]
  },
  {
   "cell_type": "markdown",
   "metadata": {
    "id": "QlFBsxAr_Zct"
   },
   "source": [
    "Теперь избавьтесь от неявных дубликатов в колонке `genre`. Например, название одного и того же жанра может быть записано немного по-разному. Такие ошибки тоже повлияют на результат исследования."
   ]
  },
  {
   "cell_type": "markdown",
   "metadata": {
    "id": "eSjWwsOh_Zct"
   },
   "source": [
    "Выведите на экран список уникальных названий жанров, отсортированный в алфавитном порядке. Для этого:\n",
    "* извлеките нужный столбец датафрейма, \n",
    "* примените к нему метод сортировки,\n",
    "* для отсортированного столбца вызовите метод, который вернёт уникальные значения из столбца."
   ]
  },
  {
   "cell_type": "code",
   "execution_count": 15,
   "metadata": {
    "id": "JIUcqzZN_Zct"
   },
   "outputs": [
    {
     "data": {
      "text/plain": [
       "array(['acid', 'acoustic', 'action', 'adult', 'africa', 'afrikaans',\n",
       "       'alternative', 'alternativepunk', 'ambient', 'americana',\n",
       "       'animated', 'anime', 'arabesk', 'arabic', 'arena',\n",
       "       'argentinetango', 'art', 'audiobook', 'author', 'avantgarde',\n",
       "       'axé', 'baile', 'balkan', 'beats', 'bigroom', 'black', 'bluegrass',\n",
       "       'blues', 'bollywood', 'bossa', 'brazilian', 'breakbeat', 'breaks',\n",
       "       'broadway', 'cantautori', 'cantopop', 'canzone', 'caribbean',\n",
       "       'caucasian', 'celtic', 'chamber', 'chanson', 'children', 'chill',\n",
       "       'chinese', 'choral', 'christian', 'christmas', 'classical',\n",
       "       'classicmetal', 'club', 'colombian', 'comedy', 'conjazz',\n",
       "       'contemporary', 'country', 'cuban', 'dance', 'dancehall',\n",
       "       'dancepop', 'dark', 'death', 'deep', 'deutschrock', 'deutschspr',\n",
       "       'dirty', 'disco', 'dnb', 'documentary', 'downbeat', 'downtempo',\n",
       "       'drum', 'dub', 'dubstep', 'eastern', 'easy', 'electronic',\n",
       "       'electropop', 'emo', 'entehno', 'epicmetal', 'estrada', 'ethnic',\n",
       "       'eurofolk', 'european', 'experimental', 'extrememetal', 'fado',\n",
       "       'fairytail', 'film', 'fitness', 'flamenco', 'folk', 'folklore',\n",
       "       'folkmetal', 'folkrock', 'folktronica', 'forró', 'frankreich',\n",
       "       'französisch', 'french', 'funk', 'future', 'gangsta', 'garage',\n",
       "       'german', 'ghazal', 'gitarre', 'glitch', 'gospel', 'gothic',\n",
       "       'grime', 'grunge', 'gypsy', 'handsup', \"hard'n'heavy\", 'hardcore',\n",
       "       'hardstyle', 'hardtechno', 'hip', 'hip-hop', 'hiphop',\n",
       "       'historisch', 'holiday', 'hop', 'horror', 'house', 'hymn', 'idm',\n",
       "       'independent', 'indian', 'indie', 'indipop', 'industrial',\n",
       "       'inspirational', 'instrumental', 'international', 'irish', 'jam',\n",
       "       'japanese', 'jazz', 'jewish', 'jpop', 'jungle', 'k-pop',\n",
       "       'karadeniz', 'karaoke', 'kayokyoku', 'korean', 'laiko', 'latin',\n",
       "       'latino', 'leftfield', 'local', 'lounge', 'loungeelectronic',\n",
       "       'lovers', 'malaysian', 'mandopop', 'marschmusik', 'meditative',\n",
       "       'mediterranean', 'melodic', 'metal', 'metalcore', 'mexican',\n",
       "       'middle', 'minimal', 'miscellaneous', 'modern', 'mood', 'mpb',\n",
       "       'muslim', 'native', 'neoklassik', 'neue', 'new', 'newage',\n",
       "       'newwave', 'nu', 'nujazz', 'numetal', 'oceania', 'old', 'opera',\n",
       "       'orchestral', 'other', 'piano', 'podcasts', 'pop', 'popdance',\n",
       "       'popelectronic', 'popeurodance', 'poprussian', 'post',\n",
       "       'posthardcore', 'postrock', 'power', 'progmetal', 'progressive',\n",
       "       'psychedelic', 'punjabi', 'punk', 'quebecois', 'ragga', 'ram',\n",
       "       'rancheras', 'rap', 'rave', 'reggae', 'reggaeton', 'regional',\n",
       "       'relax', 'religious', 'retro', 'rhythm', 'rnb', 'rnr', 'rock',\n",
       "       'rockabilly', 'rockalternative', 'rockindie', 'rockother',\n",
       "       'romance', 'roots', 'ruspop', 'rusrap', 'rusrock', 'russian',\n",
       "       'salsa', 'samba', 'scenic', 'schlager', 'self', 'sertanejo',\n",
       "       'shanson', 'shoegazing', 'showtunes', 'singer', 'ska', 'skarock',\n",
       "       'slow', 'smooth', 'soft', 'soul', 'soulful', 'sound', 'soundtrack',\n",
       "       'southern', 'specialty', 'speech', 'spiritual', 'sport',\n",
       "       'stonerrock', 'surf', 'swing', 'synthpop', 'synthrock',\n",
       "       'sängerportrait', 'tango', 'tanzorchester', 'taraftar', 'tatar',\n",
       "       'tech', 'techno', 'teen', 'thrash', 'top', 'traditional',\n",
       "       'tradjazz', 'trance', 'tribal', 'trip', 'triphop', 'tropical',\n",
       "       'türk', 'türkçe', 'ukrrock', 'unknown', 'urban', 'uzbek',\n",
       "       'variété', 'vi', 'videogame', 'vocal', 'western', 'world',\n",
       "       'worldbeat', 'ïîï', 'электроника'], dtype=object)"
      ]
     },
     "execution_count": 15,
     "metadata": {},
     "output_type": "execute_result"
    }
   ],
   "source": [
    "# Просмотр уникальных названий жанров\n",
    "df['genre'].sort_values().unique()"
   ]
  },
  {
   "cell_type": "markdown",
   "metadata": {
    "id": "qej-Qmuo_Zct"
   },
   "source": [
    "Просмотрите список и найдите неявные дубликаты названия `hiphop`. Это могут быть названия с ошибками или альтернативные названия того же жанра.\n",
    "\n",
    "Вы увидите следующие неявные дубликаты:\n",
    "* *hip*,\n",
    "* *hop*,\n",
    "* *hip-hop*.\n",
    "\n",
    "Также неявными дубликатами являются названия жанров 'электроника' и 'electronic'.\n",
    "\n",
    "Чтобы очистить от них таблицу, напишите функцию `replace_wrong_genres()` с двумя параметрами: \n",
    "* `wrong_genres` — список дубликатов,\n",
    "* `correct_genre` — строка с правильным значением.\n",
    "\n",
    "Функция должна исправить колонку `genre` в таблице `df`: заменить каждое значение из списка `wrong_genres` на значение из `correct_genre`."
   ]
  },
  {
   "cell_type": "code",
   "execution_count": 16,
   "metadata": {
    "id": "ErNDkmns_Zct"
   },
   "outputs": [],
   "source": [
    "# Функция для замены неявных дубликатов\n",
    "def replace_wrong_genres(wrong_genres, correct_genre):\n",
    "    df['genre'] = df['genre'].replace(wrong_genres, correct_genre)"
   ]
  },
  {
   "cell_type": "markdown",
   "metadata": {
    "id": "aDoBJxbA_Zct"
   },
   "source": [
    "Вызовите `replace_wrong_genres()` и передайте ей такие аргументы, чтобы она устранила неявные дубликаты: вместо `hip`, `hop` и `hip-hop` в таблице должно быть значение `hiphop`:"
   ]
  },
  {
   "cell_type": "code",
   "execution_count": 17,
   "metadata": {
    "id": "YN5i2hpmSo09"
   },
   "outputs": [],
   "source": [
    "# Устранение неявных дубликатов жанра hiphop\n",
    "# Переименовываем дубликаты hip, hop и hip-hop на hiphop\n",
    "replace_wrong_genres(['hip', 'hop', 'hip-hop'], 'hiphop')\n",
    "# Переименовываем дубликат электроника на electronic\n",
    "replace_wrong_genres('электроника', 'electronic')\n",
    "# Переименовываем дубликат ïîï на unknown\n",
    "replace_wrong_genres('ïîï', 'unknown')"
   ]
  },
  {
   "cell_type": "markdown",
   "metadata": {
    "id": "zQKF16_RG15m"
   },
   "source": [
    "Проверьте, что заменили неправильные названия:\n",
    "\n",
    "*   hip\n",
    "*   hop\n",
    "*   hip-hop\n",
    "\n",
    "Выведите отсортированный список уникальных значений столбца `genre`:"
   ]
  },
  {
   "cell_type": "code",
   "execution_count": 18,
   "metadata": {
    "id": "wvixALnFG15m"
   },
   "outputs": [
    {
     "data": {
      "text/plain": [
       "array(['acid', 'acoustic', 'action', 'adult', 'africa', 'afrikaans',\n",
       "       'alternative', 'alternativepunk', 'ambient', 'americana',\n",
       "       'animated', 'anime', 'arabesk', 'arabic', 'arena',\n",
       "       'argentinetango', 'art', 'audiobook', 'author', 'avantgarde',\n",
       "       'axé', 'baile', 'balkan', 'beats', 'bigroom', 'black', 'bluegrass',\n",
       "       'blues', 'bollywood', 'bossa', 'brazilian', 'breakbeat', 'breaks',\n",
       "       'broadway', 'cantautori', 'cantopop', 'canzone', 'caribbean',\n",
       "       'caucasian', 'celtic', 'chamber', 'chanson', 'children', 'chill',\n",
       "       'chinese', 'choral', 'christian', 'christmas', 'classical',\n",
       "       'classicmetal', 'club', 'colombian', 'comedy', 'conjazz',\n",
       "       'contemporary', 'country', 'cuban', 'dance', 'dancehall',\n",
       "       'dancepop', 'dark', 'death', 'deep', 'deutschrock', 'deutschspr',\n",
       "       'dirty', 'disco', 'dnb', 'documentary', 'downbeat', 'downtempo',\n",
       "       'drum', 'dub', 'dubstep', 'eastern', 'easy', 'electronic',\n",
       "       'electropop', 'emo', 'entehno', 'epicmetal', 'estrada', 'ethnic',\n",
       "       'eurofolk', 'european', 'experimental', 'extrememetal', 'fado',\n",
       "       'fairytail', 'film', 'fitness', 'flamenco', 'folk', 'folklore',\n",
       "       'folkmetal', 'folkrock', 'folktronica', 'forró', 'frankreich',\n",
       "       'französisch', 'french', 'funk', 'future', 'gangsta', 'garage',\n",
       "       'german', 'ghazal', 'gitarre', 'glitch', 'gospel', 'gothic',\n",
       "       'grime', 'grunge', 'gypsy', 'handsup', \"hard'n'heavy\", 'hardcore',\n",
       "       'hardstyle', 'hardtechno', 'hiphop', 'historisch', 'holiday',\n",
       "       'horror', 'house', 'hymn', 'idm', 'independent', 'indian', 'indie',\n",
       "       'indipop', 'industrial', 'inspirational', 'instrumental',\n",
       "       'international', 'irish', 'jam', 'japanese', 'jazz', 'jewish',\n",
       "       'jpop', 'jungle', 'k-pop', 'karadeniz', 'karaoke', 'kayokyoku',\n",
       "       'korean', 'laiko', 'latin', 'latino', 'leftfield', 'local',\n",
       "       'lounge', 'loungeelectronic', 'lovers', 'malaysian', 'mandopop',\n",
       "       'marschmusik', 'meditative', 'mediterranean', 'melodic', 'metal',\n",
       "       'metalcore', 'mexican', 'middle', 'minimal', 'miscellaneous',\n",
       "       'modern', 'mood', 'mpb', 'muslim', 'native', 'neoklassik', 'neue',\n",
       "       'new', 'newage', 'newwave', 'nu', 'nujazz', 'numetal', 'oceania',\n",
       "       'old', 'opera', 'orchestral', 'other', 'piano', 'podcasts', 'pop',\n",
       "       'popdance', 'popelectronic', 'popeurodance', 'poprussian', 'post',\n",
       "       'posthardcore', 'postrock', 'power', 'progmetal', 'progressive',\n",
       "       'psychedelic', 'punjabi', 'punk', 'quebecois', 'ragga', 'ram',\n",
       "       'rancheras', 'rap', 'rave', 'reggae', 'reggaeton', 'regional',\n",
       "       'relax', 'religious', 'retro', 'rhythm', 'rnb', 'rnr', 'rock',\n",
       "       'rockabilly', 'rockalternative', 'rockindie', 'rockother',\n",
       "       'romance', 'roots', 'ruspop', 'rusrap', 'rusrock', 'russian',\n",
       "       'salsa', 'samba', 'scenic', 'schlager', 'self', 'sertanejo',\n",
       "       'shanson', 'shoegazing', 'showtunes', 'singer', 'ska', 'skarock',\n",
       "       'slow', 'smooth', 'soft', 'soul', 'soulful', 'sound', 'soundtrack',\n",
       "       'southern', 'specialty', 'speech', 'spiritual', 'sport',\n",
       "       'stonerrock', 'surf', 'swing', 'synthpop', 'synthrock',\n",
       "       'sängerportrait', 'tango', 'tanzorchester', 'taraftar', 'tatar',\n",
       "       'tech', 'techno', 'teen', 'thrash', 'top', 'traditional',\n",
       "       'tradjazz', 'trance', 'tribal', 'trip', 'triphop', 'tropical',\n",
       "       'türk', 'türkçe', 'ukrrock', 'unknown', 'urban', 'uzbek',\n",
       "       'variété', 'vi', 'videogame', 'vocal', 'western', 'world',\n",
       "       'worldbeat'], dtype=object)"
      ]
     },
     "execution_count": 18,
     "metadata": {},
     "output_type": "execute_result"
    }
   ],
   "source": [
    "# Проверка на неявные дубликаты\n",
    "df['genre'].sort_values().unique()"
   ]
  },
  {
   "cell_type": "markdown",
   "metadata": {
    "id": "jz6a9-7HQUDd"
   },
   "source": [
    "**Выводы**\n",
    "\n",
    "Предобработка обнаружила три проблемы в данных:\n",
    "\n",
    "- нарушения в стиле заголовков,\n",
    "- пропущенные значения,\n",
    "- дубликаты — явные и неявные.\n",
    "\n",
    "Вы исправили заголовки, чтобы упростить работу с таблицей. Без дубликатов исследование станет более точным.\n",
    "\n",
    "Пропущенные значения вы заменили на `'unknown'`. Ещё предстоит увидеть, не повредят ли исследованию пропуски в колонке `genre`.\n",
    "\n",
    "Теперь можно перейти к проверке гипотез. "
   ]
  },
  {
   "cell_type": "markdown",
   "metadata": {
    "id": "WttZHXH0SqKk"
   },
   "source": [
    "## Проверка гипотез"
   ]
  },
  {
   "cell_type": "markdown",
   "metadata": {
    "id": "Im936VVi_Zcu"
   },
   "source": [
    "### Сравнение поведения пользователей двух столиц"
   ]
  },
  {
   "cell_type": "markdown",
   "metadata": {
    "id": "nwt_MuaL_Zcu"
   },
   "source": [
    "Первая гипотеза утверждает, что пользователи по-разному слушают музыку в Москве и Санкт-Петербурге. Проверьте это предположение по данным о трёх днях недели — понедельнике, среде и пятнице. Для этого:\n",
    "\n",
    "* Разделите пользователей Москвы и Санкт-Петербурга\n",
    "* Сравните, сколько треков послушала каждая группа пользователей в понедельник, среду и пятницу.\n"
   ]
  },
  {
   "cell_type": "markdown",
   "metadata": {
    "id": "8Dw_YMmT_Zcu"
   },
   "source": [
    "Для тренировки сначала выполните каждый из расчётов по отдельности. \n",
    "\n",
    "Оцените активность пользователей в каждом городе. Сгруппируйте данные по городу и посчитайте прослушивания в каждой группе.\n",
    "\n"
   ]
  },
  {
   "cell_type": "code",
   "execution_count": 19,
   "metadata": {
    "id": "0_Qs96oh_Zcu"
   },
   "outputs": [
    {
     "data": {
      "text/plain": [
       "city\n",
       "Moscow              42741\n",
       "Saint-Petersburg    18512\n",
       "Name: track, dtype: int64"
      ]
     },
     "execution_count": 19,
     "metadata": {},
     "output_type": "execute_result"
    }
   ],
   "source": [
    "# Подсчёт прослушиваний в каждом городе\n",
    "tracks_by_city = df.groupby('city')['track'].count()\n",
    "tracks_by_city"
   ]
  },
  {
   "cell_type": "markdown",
   "metadata": {
    "id": "dzli3w8o_Zcu"
   },
   "source": [
    "В Москве прослушиваний больше, чем в Петербурге. Из этого не следует, что московские пользователи чаще слушают музыку. Просто самих пользователей в Москве больше.\n",
    "\n",
    "Теперь сгруппируйте данные по дню недели и подсчитайте прослушивания в понедельник, среду и пятницу. Учтите, что в данных есть информация о прослушиваниях только за эти дни.\n"
   ]
  },
  {
   "cell_type": "code",
   "execution_count": 20,
   "metadata": {
    "id": "uZMKjiJz_Zcu"
   },
   "outputs": [
    {
     "data": {
      "text/plain": [
       "day\n",
       "Friday       21840\n",
       "Monday       21354\n",
       "Wednesday    18059\n",
       "Name: track, dtype: int64"
      ]
     },
     "execution_count": 20,
     "metadata": {},
     "output_type": "execute_result"
    }
   ],
   "source": [
    "# Подсчёт прослушиваний в каждый из трёх дней\n",
    "tracks_by_day = df.groupby('day')['track'].count()\n",
    "tracks_by_day"
   ]
  },
  {
   "cell_type": "markdown",
   "metadata": {
    "id": "cC2tNrlL_Zcu"
   },
   "source": [
    "В среднем пользователи из двух городов менее активны по средам. Но картина может измениться, если рассмотреть каждый город в отдельности."
   ]
  },
  {
   "cell_type": "markdown",
   "metadata": {
    "id": "POzs8bGa_Zcu"
   },
   "source": [
    "Вы видели, как работает группировка по городу и по дням недели. Теперь напишите функцию, которая объединит два эти расчёта.\n",
    "\n",
    "Создайте функцию `list_of_number_tracks()`, которая посчитает прослушивания для заданного дня и города. Ей понадобятся два параметра:\n",
    "* список из дней недели,\n",
    "* список из названий городов.\n",
    "\n",
    "В функции сохраните в переменную строки исходной таблицы, у которых значение:\n",
    "  * в колонке `day` равно параметру `day`,\n",
    "  * в колонке `city` равно параметру `city`.\n",
    "\n",
    "Для этого примените последовательную фильтрацию с логической индексацией.\n",
    "\n",
    "Затем посчитайте значения в столбце `user_id` получившейся таблицы. Результат сохраните в новую переменную. Верните эту переменную из функции."
   ]
  },
  {
   "cell_type": "code",
   "execution_count": 21,
   "metadata": {
    "id": "Nz3GdQB1_Zcu"
   },
   "outputs": [],
   "source": [
    "# <создание функции list_of_number_tracks()>\n",
    "# Функция для создания списка прослушиваний для конкретного города и дней.\n",
    "# Функция возвращает список списков, где в каждом вложенном списке первый \n",
    "# элемент - имя города, а последующие - число прослушиваний по дням.\n",
    "\n",
    "# Объявляется функция с двумя параметрами: days, cities.\n",
    "def list_of_number_tracks(days, cities):\n",
    "# Создается пустой список list_of_tracks_by_day, в которые войдут искомые списки.\n",
    "    list_of_tracks_by_day = []\n",
    "# Для каждого города во входном параметре cities создается подсписок.\n",
    "    for city in cities:\n",
    "        list_of_tracks_by_day.append([city])        \n",
    "# Фильтруем таблицу по нужному городу.\n",
    "        track_list = df[df['city']==city]\n",
    "# Для каждой отфильтрованной таблицы работаем дальше по дням из входного списка дней:\n",
    "        for day in days:\n",
    "# Фильтруем дальше таблицу по каждому дню из входного списка.\n",
    "            track_list_by_day = track_list[track_list['day']==day]\n",
    "# Добавляем в созданный список списков по индексу, соответствующему длине списка минус 1,\n",
    "# количество прослушиваний в этот день в этом городе.\n",
    "            list_of_tracks_by_day[len(list_of_tracks_by_day)-1].append(track_list_by_day['user_id'].count())\n",
    "# Функция возвращает список списков - list_of_tracks_by_day.\n",
    "    return list_of_tracks_by_day"
   ]
  },
  {
   "cell_type": "markdown",
   "metadata": {
    "id": "ytf7xFrFJQ2r"
   },
   "source": [
    "Создадим два списка, по которым нужно собрать данные: список нужных городов `cities` и список нужных дней `days`.\n",
    "Вызовим `list_of_number_tracks()` с входными параметрами `cities` и `days`, чтобы получить данные для каждого города в каждый из дней."
   ]
  },
  {
   "cell_type": "code",
   "execution_count": 22,
   "metadata": {},
   "outputs": [],
   "source": [
    "# Создаем список нужных дней и городов.\n",
    "days = ['Monday', 'Wednesday', 'Friday']\n",
    "cities = ['Moscow', 'Saint-Petersburg']\n",
    "# Вызываем созданную функцию и присваиваем вернувшийся список списков переменной tracks_by_cities_by_days\n",
    "tracks_by_cities_by_days = list_of_number_tracks(days, cities)"
   ]
  },
  {
   "cell_type": "markdown",
   "metadata": {
    "id": "7QXffbO-_Zcu"
   },
   "source": [
    "Создайте c помощью конструктора `pd.DataFrame` таблицу, где\n",
    "* названия колонок — `['city', 'monday', 'wednesday', 'friday']`;\n",
    "* данные — результаты, которые вы получили с помощью `number_tracks`."
   ]
  },
  {
   "cell_type": "code",
   "execution_count": 23,
   "metadata": {
    "id": "APAcLpOr_Zcu"
   },
   "outputs": [
    {
     "data": {
      "text/html": [
       "<div>\n",
       "<style scoped>\n",
       "    .dataframe tbody tr th:only-of-type {\n",
       "        vertical-align: middle;\n",
       "    }\n",
       "\n",
       "    .dataframe tbody tr th {\n",
       "        vertical-align: top;\n",
       "    }\n",
       "\n",
       "    .dataframe thead th {\n",
       "        text-align: right;\n",
       "    }\n",
       "</style>\n",
       "<table border=\"1\" class=\"dataframe\">\n",
       "  <thead>\n",
       "    <tr style=\"text-align: right;\">\n",
       "      <th></th>\n",
       "      <th>city</th>\n",
       "      <th>monday</th>\n",
       "      <th>wednesday</th>\n",
       "      <th>friday</th>\n",
       "    </tr>\n",
       "  </thead>\n",
       "  <tbody>\n",
       "    <tr>\n",
       "      <th>0</th>\n",
       "      <td>Moscow</td>\n",
       "      <td>15740</td>\n",
       "      <td>11056</td>\n",
       "      <td>15945</td>\n",
       "    </tr>\n",
       "    <tr>\n",
       "      <th>1</th>\n",
       "      <td>Saint-Petersburg</td>\n",
       "      <td>5614</td>\n",
       "      <td>7003</td>\n",
       "      <td>5895</td>\n",
       "    </tr>\n",
       "  </tbody>\n",
       "</table>\n",
       "</div>"
      ],
      "text/plain": [
       "               city  monday  wednesday  friday\n",
       "0            Moscow   15740      11056   15945\n",
       "1  Saint-Petersburg    5614       7003    5895"
      ]
     },
     "execution_count": 23,
     "metadata": {},
     "output_type": "execute_result"
    }
   ],
   "source": [
    "# Выводим таблицу с результатами\n",
    "pd.DataFrame(data=tracks_by_cities_by_days, columns=['city', 'monday', 'wednesday', 'friday'])"
   ]
  },
  {
   "cell_type": "markdown",
   "metadata": {
    "id": "-EgPIHYu_Zcu"
   },
   "source": [
    "**Выводы**\n",
    "\n",
    "Данные показывают разницу поведения пользователей:\n",
    "\n",
    "- В Москве пик прослушиваний приходится на понедельник и пятницу, а в среду заметен спад.\n",
    "- В Петербурге, наоборот, больше слушают музыку по средам. Активность в понедельник и пятницу здесь почти в равной мере уступает среде.\n",
    "\n",
    "Значит, данные говорят в пользу первой гипотезы."
   ]
  },
  {
   "cell_type": "markdown",
   "metadata": {
    "id": "atZAxtq4_Zcu"
   },
   "source": [
    "### Музыка в начале и в конце недели"
   ]
  },
  {
   "cell_type": "markdown",
   "metadata": {
    "id": "eXrQqXFH_Zcu"
   },
   "source": [
    "Согласно второй гипотезе, утром в понедельник в Москве преобладают одни жанры, а в Петербурге — другие. Так же и вечером пятницы преобладают разные жанры — в зависимости от города."
   ]
  },
  {
   "cell_type": "markdown",
   "metadata": {
    "id": "S8UcW6Hw_Zcu"
   },
   "source": [
    "Сохраните таблицы с данными в две переменные:\n",
    "* по Москве — в `moscow_general`;\n",
    "* по Санкт-Петербургу — в `spb_general`."
   ]
  },
  {
   "cell_type": "code",
   "execution_count": 24,
   "metadata": {
    "id": "qeaFfM_P_Zcu"
   },
   "outputs": [
    {
     "data": {
      "text/html": [
       "<div>\n",
       "<style scoped>\n",
       "    .dataframe tbody tr th:only-of-type {\n",
       "        vertical-align: middle;\n",
       "    }\n",
       "\n",
       "    .dataframe tbody tr th {\n",
       "        vertical-align: top;\n",
       "    }\n",
       "\n",
       "    .dataframe thead th {\n",
       "        text-align: right;\n",
       "    }\n",
       "</style>\n",
       "<table border=\"1\" class=\"dataframe\">\n",
       "  <thead>\n",
       "    <tr style=\"text-align: right;\">\n",
       "      <th></th>\n",
       "      <th>user_id</th>\n",
       "      <th>track</th>\n",
       "      <th>artist</th>\n",
       "      <th>genre</th>\n",
       "      <th>city</th>\n",
       "      <th>time</th>\n",
       "      <th>day</th>\n",
       "    </tr>\n",
       "  </thead>\n",
       "  <tbody>\n",
       "    <tr>\n",
       "      <th>1</th>\n",
       "      <td>55204538</td>\n",
       "      <td>Delayed Because of Accident</td>\n",
       "      <td>Andreas Rönnberg</td>\n",
       "      <td>rock</td>\n",
       "      <td>Moscow</td>\n",
       "      <td>14:07:09</td>\n",
       "      <td>Friday</td>\n",
       "    </tr>\n",
       "    <tr>\n",
       "      <th>4</th>\n",
       "      <td>E2DC1FAE</td>\n",
       "      <td>Soul People</td>\n",
       "      <td>Space Echo</td>\n",
       "      <td>dance</td>\n",
       "      <td>Moscow</td>\n",
       "      <td>08:34:34</td>\n",
       "      <td>Monday</td>\n",
       "    </tr>\n",
       "    <tr>\n",
       "      <th>6</th>\n",
       "      <td>4CB90AA5</td>\n",
       "      <td>True</td>\n",
       "      <td>Roman Messer</td>\n",
       "      <td>dance</td>\n",
       "      <td>Moscow</td>\n",
       "      <td>13:00:07</td>\n",
       "      <td>Wednesday</td>\n",
       "    </tr>\n",
       "    <tr>\n",
       "      <th>7</th>\n",
       "      <td>F03E1C1F</td>\n",
       "      <td>Feeling This Way</td>\n",
       "      <td>Polina Griffith</td>\n",
       "      <td>dance</td>\n",
       "      <td>Moscow</td>\n",
       "      <td>20:47:49</td>\n",
       "      <td>Wednesday</td>\n",
       "    </tr>\n",
       "    <tr>\n",
       "      <th>8</th>\n",
       "      <td>8FA1D3BE</td>\n",
       "      <td>И вновь продолжается бой</td>\n",
       "      <td>unknown</td>\n",
       "      <td>ruspop</td>\n",
       "      <td>Moscow</td>\n",
       "      <td>09:17:40</td>\n",
       "      <td>Friday</td>\n",
       "    </tr>\n",
       "    <tr>\n",
       "      <th>...</th>\n",
       "      <td>...</td>\n",
       "      <td>...</td>\n",
       "      <td>...</td>\n",
       "      <td>...</td>\n",
       "      <td>...</td>\n",
       "      <td>...</td>\n",
       "      <td>...</td>\n",
       "    </tr>\n",
       "    <tr>\n",
       "      <th>61247</th>\n",
       "      <td>83A474E7</td>\n",
       "      <td>I Worship Only What You Bleed</td>\n",
       "      <td>The Black Dahlia Murder</td>\n",
       "      <td>extrememetal</td>\n",
       "      <td>Moscow</td>\n",
       "      <td>21:07:12</td>\n",
       "      <td>Monday</td>\n",
       "    </tr>\n",
       "    <tr>\n",
       "      <th>61248</th>\n",
       "      <td>729CBB09</td>\n",
       "      <td>My Name</td>\n",
       "      <td>McLean</td>\n",
       "      <td>rnb</td>\n",
       "      <td>Moscow</td>\n",
       "      <td>13:32:28</td>\n",
       "      <td>Wednesday</td>\n",
       "    </tr>\n",
       "    <tr>\n",
       "      <th>61250</th>\n",
       "      <td>C5E3A0D5</td>\n",
       "      <td>Jalopiina</td>\n",
       "      <td>unknown</td>\n",
       "      <td>industrial</td>\n",
       "      <td>Moscow</td>\n",
       "      <td>20:09:26</td>\n",
       "      <td>Friday</td>\n",
       "    </tr>\n",
       "    <tr>\n",
       "      <th>61251</th>\n",
       "      <td>321D0506</td>\n",
       "      <td>Freight Train</td>\n",
       "      <td>Chas McDevitt</td>\n",
       "      <td>rock</td>\n",
       "      <td>Moscow</td>\n",
       "      <td>21:43:59</td>\n",
       "      <td>Friday</td>\n",
       "    </tr>\n",
       "    <tr>\n",
       "      <th>61252</th>\n",
       "      <td>3A64EF84</td>\n",
       "      <td>Tell Me Sweet Little Lies</td>\n",
       "      <td>Monica Lopez</td>\n",
       "      <td>country</td>\n",
       "      <td>Moscow</td>\n",
       "      <td>21:59:46</td>\n",
       "      <td>Friday</td>\n",
       "    </tr>\n",
       "  </tbody>\n",
       "</table>\n",
       "<p>42741 rows × 7 columns</p>\n",
       "</div>"
      ],
      "text/plain": [
       "        user_id                          track                   artist  \\\n",
       "1      55204538    Delayed Because of Accident         Andreas Rönnberg   \n",
       "4      E2DC1FAE                    Soul People               Space Echo   \n",
       "6      4CB90AA5                           True             Roman Messer   \n",
       "7      F03E1C1F               Feeling This Way          Polina Griffith   \n",
       "8      8FA1D3BE       И вновь продолжается бой                  unknown   \n",
       "...         ...                            ...                      ...   \n",
       "61247  83A474E7  I Worship Only What You Bleed  The Black Dahlia Murder   \n",
       "61248  729CBB09                        My Name                   McLean   \n",
       "61250  C5E3A0D5                      Jalopiina                  unknown   \n",
       "61251  321D0506                  Freight Train            Chas McDevitt   \n",
       "61252  3A64EF84      Tell Me Sweet Little Lies             Monica Lopez   \n",
       "\n",
       "              genre    city      time        day  \n",
       "1              rock  Moscow  14:07:09     Friday  \n",
       "4             dance  Moscow  08:34:34     Monday  \n",
       "6             dance  Moscow  13:00:07  Wednesday  \n",
       "7             dance  Moscow  20:47:49  Wednesday  \n",
       "8            ruspop  Moscow  09:17:40     Friday  \n",
       "...             ...     ...       ...        ...  \n",
       "61247  extrememetal  Moscow  21:07:12     Monday  \n",
       "61248           rnb  Moscow  13:32:28  Wednesday  \n",
       "61250    industrial  Moscow  20:09:26     Friday  \n",
       "61251          rock  Moscow  21:43:59     Friday  \n",
       "61252       country  Moscow  21:59:46     Friday  \n",
       "\n",
       "[42741 rows x 7 columns]"
      ]
     },
     "execution_count": 24,
     "metadata": {},
     "output_type": "execute_result"
    }
   ],
   "source": [
    "# получение таблицы moscow_general из тех строк таблицы df, \n",
    "# для которых значение в столбце 'city' равно 'Moscow'\n",
    "moscow_general = df[df['city']=='Moscow']\n",
    "moscow_general"
   ]
  },
  {
   "cell_type": "code",
   "execution_count": 25,
   "metadata": {
    "id": "ORaVRKto_Zcu"
   },
   "outputs": [
    {
     "data": {
      "text/html": [
       "<div>\n",
       "<style scoped>\n",
       "    .dataframe tbody tr th:only-of-type {\n",
       "        vertical-align: middle;\n",
       "    }\n",
       "\n",
       "    .dataframe tbody tr th {\n",
       "        vertical-align: top;\n",
       "    }\n",
       "\n",
       "    .dataframe thead th {\n",
       "        text-align: right;\n",
       "    }\n",
       "</style>\n",
       "<table border=\"1\" class=\"dataframe\">\n",
       "  <thead>\n",
       "    <tr style=\"text-align: right;\">\n",
       "      <th></th>\n",
       "      <th>user_id</th>\n",
       "      <th>track</th>\n",
       "      <th>artist</th>\n",
       "      <th>genre</th>\n",
       "      <th>city</th>\n",
       "      <th>time</th>\n",
       "      <th>day</th>\n",
       "    </tr>\n",
       "  </thead>\n",
       "  <tbody>\n",
       "    <tr>\n",
       "      <th>0</th>\n",
       "      <td>FFB692EC</td>\n",
       "      <td>Kamigata To Boots</td>\n",
       "      <td>The Mass Missile</td>\n",
       "      <td>rock</td>\n",
       "      <td>Saint-Petersburg</td>\n",
       "      <td>20:28:33</td>\n",
       "      <td>Wednesday</td>\n",
       "    </tr>\n",
       "    <tr>\n",
       "      <th>2</th>\n",
       "      <td>20EC38</td>\n",
       "      <td>Funiculì funiculà</td>\n",
       "      <td>Mario Lanza</td>\n",
       "      <td>pop</td>\n",
       "      <td>Saint-Petersburg</td>\n",
       "      <td>20:58:07</td>\n",
       "      <td>Wednesday</td>\n",
       "    </tr>\n",
       "    <tr>\n",
       "      <th>3</th>\n",
       "      <td>A3DD03C9</td>\n",
       "      <td>Dragons in the Sunset</td>\n",
       "      <td>Fire + Ice</td>\n",
       "      <td>folk</td>\n",
       "      <td>Saint-Petersburg</td>\n",
       "      <td>08:37:09</td>\n",
       "      <td>Monday</td>\n",
       "    </tr>\n",
       "    <tr>\n",
       "      <th>5</th>\n",
       "      <td>842029A1</td>\n",
       "      <td>Преданная</td>\n",
       "      <td>IMPERVTOR</td>\n",
       "      <td>rusrap</td>\n",
       "      <td>Saint-Petersburg</td>\n",
       "      <td>13:09:41</td>\n",
       "      <td>Friday</td>\n",
       "    </tr>\n",
       "    <tr>\n",
       "      <th>9</th>\n",
       "      <td>E772D5C0</td>\n",
       "      <td>Pessimist</td>\n",
       "      <td>unknown</td>\n",
       "      <td>dance</td>\n",
       "      <td>Saint-Petersburg</td>\n",
       "      <td>21:20:49</td>\n",
       "      <td>Wednesday</td>\n",
       "    </tr>\n",
       "    <tr>\n",
       "      <th>...</th>\n",
       "      <td>...</td>\n",
       "      <td>...</td>\n",
       "      <td>...</td>\n",
       "      <td>...</td>\n",
       "      <td>...</td>\n",
       "      <td>...</td>\n",
       "      <td>...</td>\n",
       "    </tr>\n",
       "    <tr>\n",
       "      <th>61239</th>\n",
       "      <td>D94F810B</td>\n",
       "      <td>Theme from the Walking Dead</td>\n",
       "      <td>Proyecto Halloween</td>\n",
       "      <td>film</td>\n",
       "      <td>Saint-Petersburg</td>\n",
       "      <td>21:14:40</td>\n",
       "      <td>Monday</td>\n",
       "    </tr>\n",
       "    <tr>\n",
       "      <th>61240</th>\n",
       "      <td>BC8EC5CF</td>\n",
       "      <td>Red Lips: Gta (Rover Rework)</td>\n",
       "      <td>Rover</td>\n",
       "      <td>electronic</td>\n",
       "      <td>Saint-Petersburg</td>\n",
       "      <td>21:06:50</td>\n",
       "      <td>Monday</td>\n",
       "    </tr>\n",
       "    <tr>\n",
       "      <th>61241</th>\n",
       "      <td>29E04611</td>\n",
       "      <td>Bre Petrunko</td>\n",
       "      <td>Perunika Trio</td>\n",
       "      <td>world</td>\n",
       "      <td>Saint-Petersburg</td>\n",
       "      <td>13:56:00</td>\n",
       "      <td>Monday</td>\n",
       "    </tr>\n",
       "    <tr>\n",
       "      <th>61242</th>\n",
       "      <td>1B91C621</td>\n",
       "      <td>(Hello) Cloud Mountain</td>\n",
       "      <td>sleepmakeswaves</td>\n",
       "      <td>postrock</td>\n",
       "      <td>Saint-Petersburg</td>\n",
       "      <td>09:22:13</td>\n",
       "      <td>Monday</td>\n",
       "    </tr>\n",
       "    <tr>\n",
       "      <th>61249</th>\n",
       "      <td>D08D4A55</td>\n",
       "      <td>Maybe One Day (feat. Black Spade)</td>\n",
       "      <td>Blu &amp; Exile</td>\n",
       "      <td>hiphop</td>\n",
       "      <td>Saint-Petersburg</td>\n",
       "      <td>10:00:00</td>\n",
       "      <td>Monday</td>\n",
       "    </tr>\n",
       "  </tbody>\n",
       "</table>\n",
       "<p>18512 rows × 7 columns</p>\n",
       "</div>"
      ],
      "text/plain": [
       "        user_id                              track              artist  \\\n",
       "0      FFB692EC                  Kamigata To Boots    The Mass Missile   \n",
       "2        20EC38                  Funiculì funiculà         Mario Lanza   \n",
       "3      A3DD03C9              Dragons in the Sunset          Fire + Ice   \n",
       "5      842029A1                          Преданная           IMPERVTOR   \n",
       "9      E772D5C0                          Pessimist             unknown   \n",
       "...         ...                                ...                 ...   \n",
       "61239  D94F810B        Theme from the Walking Dead  Proyecto Halloween   \n",
       "61240  BC8EC5CF       Red Lips: Gta (Rover Rework)               Rover   \n",
       "61241  29E04611                       Bre Petrunko       Perunika Trio   \n",
       "61242  1B91C621             (Hello) Cloud Mountain     sleepmakeswaves   \n",
       "61249  D08D4A55  Maybe One Day (feat. Black Spade)         Blu & Exile   \n",
       "\n",
       "            genre              city      time        day  \n",
       "0            rock  Saint-Petersburg  20:28:33  Wednesday  \n",
       "2             pop  Saint-Petersburg  20:58:07  Wednesday  \n",
       "3            folk  Saint-Petersburg  08:37:09     Monday  \n",
       "5          rusrap  Saint-Petersburg  13:09:41     Friday  \n",
       "9           dance  Saint-Petersburg  21:20:49  Wednesday  \n",
       "...           ...               ...       ...        ...  \n",
       "61239        film  Saint-Petersburg  21:14:40     Monday  \n",
       "61240  electronic  Saint-Petersburg  21:06:50     Monday  \n",
       "61241       world  Saint-Petersburg  13:56:00     Monday  \n",
       "61242    postrock  Saint-Petersburg  09:22:13     Monday  \n",
       "61249      hiphop  Saint-Petersburg  10:00:00     Monday  \n",
       "\n",
       "[18512 rows x 7 columns]"
      ]
     },
     "execution_count": 25,
     "metadata": {},
     "output_type": "execute_result"
    }
   ],
   "source": [
    "# получение таблицы spb_general из тех строк таблицы df,\n",
    "# для которых значение в столбце 'city' равно 'Saint-Petersburg'\n",
    "spb_general = df[df['city']=='Saint-Petersburg']\n",
    "spb_general"
   ]
  },
  {
   "cell_type": "markdown",
   "metadata": {
    "id": "MEJV-CX2_Zcu"
   },
   "source": [
    "Создайте функцию `genre_weekday()` с четырьмя параметрами:\n",
    "* таблица (датафрейм) с данными,\n",
    "* день недели,\n",
    "* начальная временная метка в формате 'hh:mm', \n",
    "* последняя временная метка в формате 'hh:mm'.\n",
    "\n",
    "Функция должна вернуть информацию о топ-10 жанров тех треков, которые прослушивали в указанный день, в промежутке между двумя отметками времени."
   ]
  },
  {
   "cell_type": "code",
   "execution_count": 26,
   "metadata": {
    "id": "laJT9BYl_Zcu"
   },
   "outputs": [],
   "source": [
    "# Объявление функции genre_weekday() с параметрами table, day, time1, time2,\n",
    "# которая возвращает информацию о самых популярных жанрах в указанный день в\n",
    "# заданное время:\n",
    "def genre_weekday(table, day, time1, time2):\n",
    "# 1) в переменную genre_df сохраняются те строки переданного датафрейма table, для\n",
    "#    которых одновременно:\n",
    "#    - значение в столбце day равно значению аргумента day\n",
    "#    - значение в столбце time больше значения аргумента time1\n",
    "#    - значение в столбце time меньше значения аргумента time2\n",
    "#    Используйте последовательную фильтрацию с помощью логической индексации.\n",
    "    genre_df = table[table['day']==day]\n",
    "    genre_df = genre_df[genre_df['time']>time1]\n",
    "    genre_df = genre_df[genre_df['time']<time2]\n",
    "# 2) сгруппировать датафрейм genre_df по столбцу genre, взять один из его\n",
    "#    столбцов и посчитать методом count() количество записей для каждого из\n",
    "#    присутствующих жанров, получившийся Series записать в переменную\n",
    "#    genre_df_count\n",
    "    genre_df_count = genre_df.groupby('genre')['track'].count()\n",
    "# 3) отсортировать genre_df_count по убыванию встречаемости и сохранить\n",
    "#    в переменную genre_df_sorted\n",
    "    genre_df_sorted = genre_df_count.sort_values(ascending=False)\n",
    "# 4) вернуть Series из 10 первых значений genre_df_sorted, это будут топ-10\n",
    "#    популярных жанров (в указанный день, в заданное время)\n",
    "    return print(genre_df_sorted[:10])"
   ]
  },
  {
   "cell_type": "markdown",
   "metadata": {
    "id": "la2s2_PF_Zcu"
   },
   "source": [
    "Cравните результаты функции `genre_weekday()` для Москвы и Санкт-Петербурга в понедельник утром (с 7:00 до 11:00) и в пятницу вечером (с 17:00 до 23:00):"
   ]
  },
  {
   "cell_type": "code",
   "execution_count": 27,
   "metadata": {
    "id": "yz7itPUQ_Zcu"
   },
   "outputs": [
    {
     "name": "stdout",
     "output_type": "stream",
     "text": [
      "genre\n",
      "pop            781\n",
      "dance          549\n",
      "electronic     480\n",
      "rock           474\n",
      "hiphop         286\n",
      "ruspop         186\n",
      "world          181\n",
      "rusrap         175\n",
      "alternative    164\n",
      "unknown        161\n",
      "Name: track, dtype: int64\n"
     ]
    }
   ],
   "source": [
    "# вызов функции для утра понедельника в Москве (вместо df — таблица moscow_general)\n",
    "# объекты, хранящие время, являются строками и сравниваются как строки\n",
    "# пример вызова: genre_weekday(moscow_general, 'Monday', '07:00', '11:00')\n",
    "moscow_morning_monday = genre_weekday(moscow_general, 'Monday', '07:00', '11:00')"
   ]
  },
  {
   "cell_type": "code",
   "execution_count": 28,
   "metadata": {
    "id": "kwUcHPdy_Zcu"
   },
   "outputs": [
    {
     "name": "stdout",
     "output_type": "stream",
     "text": [
      "genre\n",
      "pop            218\n",
      "dance          182\n",
      "rock           162\n",
      "electronic     147\n",
      "hiphop          80\n",
      "ruspop          64\n",
      "alternative     58\n",
      "rusrap          55\n",
      "jazz            44\n",
      "classical       40\n",
      "Name: track, dtype: int64\n"
     ]
    }
   ],
   "source": [
    "# вызов функции для утра понедельника в Петербурге (вместо df — таблица spb_general)\n",
    "spb_morning_monday = genre_weekday(spb_general, 'Monday', '07:00', '11:00')"
   ]
  },
  {
   "cell_type": "code",
   "execution_count": 29,
   "metadata": {
    "id": "EzXVRE1o_Zcu"
   },
   "outputs": [
    {
     "name": "stdout",
     "output_type": "stream",
     "text": [
      "genre\n",
      "pop            713\n",
      "rock           517\n",
      "dance          495\n",
      "electronic     482\n",
      "hiphop         273\n",
      "world          208\n",
      "ruspop         170\n",
      "alternative    163\n",
      "classical      163\n",
      "rusrap         142\n",
      "Name: track, dtype: int64\n"
     ]
    }
   ],
   "source": [
    "# вызов функции для вечера пятницы в Москве\n",
    "moscow_evening_friday = genre_weekday(moscow_general, 'Friday', '17:00', '23:00')"
   ]
  },
  {
   "cell_type": "code",
   "execution_count": 30,
   "metadata": {
    "id": "JZaEKu5v_Zcu"
   },
   "outputs": [
    {
     "name": "stdout",
     "output_type": "stream",
     "text": [
      "genre\n",
      "pop            256\n",
      "electronic     216\n",
      "rock           216\n",
      "dance          210\n",
      "hiphop          97\n",
      "alternative     63\n",
      "jazz            61\n",
      "classical       60\n",
      "rusrap          59\n",
      "world           54\n",
      "Name: track, dtype: int64\n"
     ]
    }
   ],
   "source": [
    "# вызов функции для вечера пятницы в Петербурге\n",
    "spb_evening_friday = genre_weekday(spb_general, 'Friday', '17:00', '23:00')"
   ]
  },
  {
   "cell_type": "code",
   "execution_count": 31,
   "metadata": {},
   "outputs": [
    {
     "data": {
      "text/html": [
       "<div>\n",
       "<style scoped>\n",
       "    .dataframe tbody tr th:only-of-type {\n",
       "        vertical-align: middle;\n",
       "    }\n",
       "\n",
       "    .dataframe tbody tr th {\n",
       "        vertical-align: top;\n",
       "    }\n",
       "\n",
       "    .dataframe thead th {\n",
       "        text-align: right;\n",
       "    }\n",
       "</style>\n",
       "<table border=\"1\" class=\"dataframe\">\n",
       "  <thead>\n",
       "    <tr style=\"text-align: right;\">\n",
       "      <th></th>\n",
       "      <th>city</th>\n",
       "      <th>day</th>\n",
       "      <th>time</th>\n",
       "      <th>pop</th>\n",
       "      <th>electronic</th>\n",
       "      <th>rock</th>\n",
       "      <th>dance</th>\n",
       "      <th>hiphop</th>\n",
       "      <th>alternative</th>\n",
       "      <th>jazz</th>\n",
       "      <th>classical</th>\n",
       "      <th>rusrap</th>\n",
       "      <th>world</th>\n",
       "      <th>ruspop</th>\n",
       "      <th>unknown</th>\n",
       "    </tr>\n",
       "  </thead>\n",
       "  <tbody>\n",
       "    <tr>\n",
       "      <th>0</th>\n",
       "      <td>Moscow</td>\n",
       "      <td>Monday</td>\n",
       "      <td>7-11</td>\n",
       "      <td>+</td>\n",
       "      <td>+</td>\n",
       "      <td>+</td>\n",
       "      <td>+</td>\n",
       "      <td>+</td>\n",
       "      <td>+</td>\n",
       "      <td>-</td>\n",
       "      <td>-</td>\n",
       "      <td>+</td>\n",
       "      <td>+</td>\n",
       "      <td>+</td>\n",
       "      <td>+</td>\n",
       "    </tr>\n",
       "    <tr>\n",
       "      <th>1</th>\n",
       "      <td>Saint-Petersburg</td>\n",
       "      <td>Monday</td>\n",
       "      <td>7-11</td>\n",
       "      <td>+</td>\n",
       "      <td>+</td>\n",
       "      <td>+</td>\n",
       "      <td>+</td>\n",
       "      <td>+</td>\n",
       "      <td>+</td>\n",
       "      <td>+</td>\n",
       "      <td>+</td>\n",
       "      <td>+</td>\n",
       "      <td>-</td>\n",
       "      <td>+</td>\n",
       "      <td>-</td>\n",
       "    </tr>\n",
       "    <tr>\n",
       "      <th>2</th>\n",
       "      <td>Moscow</td>\n",
       "      <td>Friday</td>\n",
       "      <td>17-23</td>\n",
       "      <td>+</td>\n",
       "      <td>+</td>\n",
       "      <td>+</td>\n",
       "      <td>+</td>\n",
       "      <td>+</td>\n",
       "      <td>+</td>\n",
       "      <td>-</td>\n",
       "      <td>+</td>\n",
       "      <td>+</td>\n",
       "      <td>+</td>\n",
       "      <td>+</td>\n",
       "      <td>-</td>\n",
       "    </tr>\n",
       "    <tr>\n",
       "      <th>3</th>\n",
       "      <td>Saint-Petersburg</td>\n",
       "      <td>Monday</td>\n",
       "      <td>17-23</td>\n",
       "      <td>+</td>\n",
       "      <td>+</td>\n",
       "      <td>+</td>\n",
       "      <td>+</td>\n",
       "      <td>+</td>\n",
       "      <td>+</td>\n",
       "      <td>+</td>\n",
       "      <td>+</td>\n",
       "      <td>+</td>\n",
       "      <td>+</td>\n",
       "      <td>-</td>\n",
       "      <td>-</td>\n",
       "    </tr>\n",
       "  </tbody>\n",
       "</table>\n",
       "</div>"
      ],
      "text/plain": [
       "               city     day   time pop electronic rock dance hiphop  \\\n",
       "0            Moscow  Monday   7-11   +          +    +     +      +   \n",
       "1  Saint-Petersburg  Monday   7-11   +          +    +     +      +   \n",
       "2            Moscow  Friday  17-23   +          +    +     +      +   \n",
       "3  Saint-Petersburg  Monday  17-23   +          +    +     +      +   \n",
       "\n",
       "  alternative jazz classical rusrap world ruspop unknown  \n",
       "0           +    -         -      +     +      +       +  \n",
       "1           +    +         +      +     -      +       -  \n",
       "2           +    -         +      +     +      +       -  \n",
       "3           +    +         +      +     +      -       -  "
      ]
     },
     "execution_count": 31,
     "metadata": {},
     "output_type": "execute_result"
    }
   ],
   "source": [
    "# сделаем таблицу для наглядного показа\n",
    "columns = ['city', 'day', 'time', 'pop', 'electronic', 'rock', 'dance', 'hiphop', 'alternative', \n",
    "           'jazz', 'classical', 'rusrap', 'world', 'ruspop', 'unknown']\n",
    "data = [['Moscow', 'Monday', '7-11', '+', '+', '+', '+', '+', '+', '-', '-', '+', '+', '+', '+'],\n",
    "       ['Saint-Petersburg', 'Monday', '7-11', '+', '+', '+', '+', '+', '+', '+', '+', '+', '-', '+', '-'],\n",
    "       ['Moscow', 'Friday', '17-23', '+', '+', '+', '+', '+', '+', '-', '+', '+', '+', '+', '-'],\n",
    "       ['Saint-Petersburg', 'Monday', '17-23', '+', '+', '+', '+', '+', '+', '+', '+', '+', '+', '-', '-']]\n",
    "# выводим таблицу\n",
    "pd.DataFrame(data=data, columns=columns)"
   ]
  },
  {
   "cell_type": "markdown",
   "metadata": {
    "id": "wrCe4MNX_Zcu"
   },
   "source": [
    "**Выводы**\n",
    "\n",
    "Если сравнить топ-10 жанров в понедельник утром, можно сделать такие выводы:\n",
    "\n",
    "1. В Москве и Петербурге слушают похожую музыку. Единственное отличие — в московский рейтинг вошёл жанр “world”, а в петербургский — джаз и классика.\n",
    "\n",
    "2. В Москве пропущенных значений оказалось так много, что значение `'unknown'` заняло десятое место среди самых популярных жанров. Значит, пропущенные значения занимают существенную долю в данных и угрожают достоверности исследования.\n",
    "\n",
    "Вечер пятницы не меняет эту картину. Некоторые жанры поднимаются немного выше, другие спускаются, но в целом топ-10 остаётся тем же самым.\n",
    "\n",
    "Таким образом, вторая гипотеза подтвердилась лишь частично:\n",
    "* Пользователи слушают похожую музыку в начале недели и в конце.\n",
    "* Разница между Москвой и Петербургом не слишком выражена. В Москве чаще слушают русскую популярную музыку, в Петербурге — джаз.\n",
    "\n",
    "Однако пропуски в данных ставят под сомнение этот результат. В Москве их так много, что рейтинг топ-10 мог бы выглядеть иначе, если бы не утерянные  данные о жанрах."
   ]
  },
  {
   "cell_type": "markdown",
   "metadata": {
    "id": "JolODAqr_Zcu"
   },
   "source": [
    "### Жанровые предпочтения в Москве и Петербурге\n",
    "\n",
    "Гипотеза: Петербург — столица рэпа, музыку этого жанра там слушают чаще, чем в Москве.  А Москва — город контрастов, в котором, тем не менее, преобладает поп-музыка."
   ]
  },
  {
   "cell_type": "markdown",
   "metadata": {
    "id": "DlegSvaT_Zcu"
   },
   "source": [
    "Сгруппируйте таблицу `moscow_general` по жанру и посчитайте прослушивания треков каждого жанра методом `count()`. Затем отсортируйте результат в порядке убывания и сохраните его в таблице `moscow_genres`."
   ]
  },
  {
   "cell_type": "code",
   "execution_count": 32,
   "metadata": {
    "id": "r19lIPke_Zcu"
   },
   "outputs": [],
   "source": [
    "# одной строкой: группировка таблицы moscow_general по столбцу 'genre', \n",
    "# подсчёт числа значений 'genre' в этой группировке методом count(), \n",
    "# сортировка получившегося Series в порядке убывания и сохранение в moscow_genres\n",
    "moscow_genres = moscow_general.groupby('genre')['track'].count().sort_values(ascending=False)"
   ]
  },
  {
   "cell_type": "markdown",
   "metadata": {
    "id": "6kMuomxTiIr8"
   },
   "source": [
    "Выведите на экран первые десять строк `moscow_genres`:"
   ]
  },
  {
   "cell_type": "code",
   "execution_count": 33,
   "metadata": {
    "id": "WhCSooF8_Zcv"
   },
   "outputs": [
    {
     "data": {
      "text/plain": [
       "genre\n",
       "pop            5892\n",
       "dance          4435\n",
       "rock           3965\n",
       "electronic     3786\n",
       "hiphop         2096\n",
       "classical      1616\n",
       "world          1432\n",
       "alternative    1379\n",
       "ruspop         1372\n",
       "rusrap         1161\n",
       "Name: track, dtype: int64"
      ]
     },
     "execution_count": 33,
     "metadata": {},
     "output_type": "execute_result"
    }
   ],
   "source": [
    "# просмотр первых 10 строк moscow_genres\n",
    "moscow_genres.head(10)"
   ]
  },
  {
   "cell_type": "markdown",
   "metadata": {
    "id": "cnPG2vnN_Zcv"
   },
   "source": [
    "Теперь повторите то же и для Петербурга.\n",
    "\n",
    "Сгруппируйте таблицу `spb_general` по жанру. Посчитайте прослушивания треков каждого жанра. Результат отсортируйте в порядке убывания и сохраните в таблице `spb_genres`:\n"
   ]
  },
  {
   "cell_type": "code",
   "execution_count": 34,
   "metadata": {
    "id": "gluLIpE7_Zcv"
   },
   "outputs": [],
   "source": [
    "# одной строкой: группировка таблицы spb_general по столбцу 'genre', \n",
    "# подсчёт числа значений 'genre' в этой группировке методом count(), \n",
    "# сортировка получившегося Series в порядке убывания и сохранение в spb_genres\n",
    "spb_genres = spb_general.groupby('genre')['track'].count().sort_values(ascending=False)"
   ]
  },
  {
   "cell_type": "markdown",
   "metadata": {
    "id": "5Doha_ODgyQ8"
   },
   "source": [
    "Выведите на экран первые десять строк `spb_genres`:"
   ]
  },
  {
   "cell_type": "code",
   "execution_count": 35,
   "metadata": {
    "id": "uaGJHjVU_Zcv"
   },
   "outputs": [
    {
     "data": {
      "text/plain": [
       "genre\n",
       "pop            2431\n",
       "dance          1932\n",
       "rock           1879\n",
       "electronic     1737\n",
       "hiphop          960\n",
       "alternative     649\n",
       "classical       646\n",
       "rusrap          564\n",
       "ruspop          538\n",
       "world           515\n",
       "Name: track, dtype: int64"
      ]
     },
     "execution_count": 35,
     "metadata": {},
     "output_type": "execute_result"
    }
   ],
   "source": [
    "# просмотр первых 10 строк spb_genres\n",
    "spb_genres.head(10)"
   ]
  },
  {
   "cell_type": "markdown",
   "metadata": {
    "id": "RY51YJYu_Zcv"
   },
   "source": [
    "**Выводы**"
   ]
  },
  {
   "cell_type": "markdown",
   "metadata": {
    "id": "nVhnJEm__Zcv"
   },
   "source": [
    "Гипотеза частично подтвердилась:\n",
    "* Поп-музыка — самый популярный жанр в Москве, как и предполагала гипотеза. Более того, в топ-10 жанров встречается близкий жанр — русская популярная музыка.\n",
    "* Вопреки ожиданиям, рэп одинаково популярен в Москве и Петербурге. \n"
   ]
  },
  {
   "cell_type": "markdown",
   "metadata": {
    "id": "ykKQ0N65_Zcv"
   },
   "source": [
    "## Итоги исследования"
   ]
  },
  {
   "cell_type": "markdown",
   "metadata": {
    "id": "tjUwbHb3_Zcv"
   },
   "source": [
    "Вы проверили три гипотезы и установили:\n",
    "\n",
    "1. День недели по-разному влияет на активность пользователей в Москве и Петербурге. \n",
    "\n",
    "Первая гипотеза полностью подтвердилась.\n",
    "\n",
    "2. Музыкальные предпочтения не сильно меняются в течение недели — будь то Москва или Петербург. Небольшие различия заметны в начале недели, по понедельникам:\n",
    "* в Москве слушают музыку жанра “world”,\n",
    "* в Петербурге — джаз и классику.\n",
    "\n",
    "Таким образом, вторая гипотеза подтвердилась лишь отчасти. Этот результат мог оказаться иным, если бы не пропуски в данных.\n",
    "\n",
    "3. Во вкусах пользователей Москвы и Петербурга больше общего чем различий. Вопреки ожиданиям, предпочтения жанров в Петербурге напоминают московские.\n",
    "\n",
    "Третья гипотеза не подтвердилась. Если различия в предпочтениях и существуют, на основной массе пользователей они незаметны."
   ]
  }
 ],
 "metadata": {
  "ExecuteTimeLog": [
   {
    "duration": 129,
    "start_time": "2022-05-06T19:24:25.293Z"
   },
   {
    "duration": 684,
    "start_time": "2022-05-06T19:24:42.728Z"
   },
   {
    "duration": 258,
    "start_time": "2022-05-06T19:24:43.426Z"
   },
   {
    "duration": 3,
    "start_time": "2022-05-06T19:24:43.687Z"
   },
   {
    "duration": 4,
    "start_time": "2022-05-06T19:24:43.693Z"
   },
   {
    "duration": 4,
    "start_time": "2022-05-06T19:24:43.699Z"
   },
   {
    "duration": 3,
    "start_time": "2022-05-06T19:24:43.708Z"
   },
   {
    "duration": 4,
    "start_time": "2022-05-06T19:24:43.714Z"
   },
   {
    "duration": 5,
    "start_time": "2022-05-06T19:24:43.721Z"
   },
   {
    "duration": 9,
    "start_time": "2022-05-06T19:24:43.728Z"
   },
   {
    "duration": 12,
    "start_time": "2022-05-06T19:24:43.740Z"
   },
   {
    "duration": 10,
    "start_time": "2022-05-06T19:24:43.754Z"
   },
   {
    "duration": 8,
    "start_time": "2022-05-06T19:24:43.769Z"
   },
   {
    "duration": 7,
    "start_time": "2022-05-06T19:24:43.779Z"
   },
   {
    "duration": 31,
    "start_time": "2022-05-06T19:24:43.788Z"
   },
   {
    "duration": 12,
    "start_time": "2022-05-06T19:24:43.821Z"
   },
   {
    "duration": 11,
    "start_time": "2022-05-06T19:24:43.835Z"
   },
   {
    "duration": 22,
    "start_time": "2022-05-06T19:24:43.848Z"
   },
   {
    "duration": 19,
    "start_time": "2022-05-06T19:24:43.872Z"
   },
   {
    "duration": 10,
    "start_time": "2022-05-06T19:24:43.896Z"
   },
   {
    "duration": 14,
    "start_time": "2022-05-06T19:24:43.908Z"
   },
   {
    "duration": 9,
    "start_time": "2022-05-06T19:24:43.924Z"
   },
   {
    "duration": 6,
    "start_time": "2022-05-06T19:24:43.937Z"
   },
   {
    "duration": 6,
    "start_time": "2022-05-06T19:24:43.945Z"
   },
   {
    "duration": 8,
    "start_time": "2022-05-06T19:24:43.955Z"
   },
   {
    "duration": 3,
    "start_time": "2022-05-06T19:24:43.964Z"
   },
   {
    "duration": 6,
    "start_time": "2022-05-06T19:24:43.969Z"
   },
   {
    "duration": 8,
    "start_time": "2022-05-06T19:24:43.977Z"
   },
   {
    "duration": 5,
    "start_time": "2022-05-06T19:24:43.989Z"
   },
   {
    "duration": 5,
    "start_time": "2022-05-06T19:24:43.996Z"
   },
   {
    "duration": 5,
    "start_time": "2022-05-06T19:24:44.002Z"
   },
   {
    "duration": 11,
    "start_time": "2022-05-06T19:24:44.009Z"
   },
   {
    "duration": 10,
    "start_time": "2022-05-06T19:24:44.023Z"
   },
   {
    "duration": 10,
    "start_time": "2022-05-06T19:24:44.036Z"
   },
   {
    "duration": 10,
    "start_time": "2022-05-06T19:24:44.048Z"
   },
   {
    "duration": 10,
    "start_time": "2022-05-06T19:24:44.061Z"
   },
   {
    "duration": 13,
    "start_time": "2022-05-06T19:24:44.073Z"
   },
   {
    "duration": 10,
    "start_time": "2022-05-06T19:24:44.088Z"
   },
   {
    "duration": 11,
    "start_time": "2022-05-06T19:24:44.100Z"
   },
   {
    "duration": 309,
    "start_time": "2022-05-06T19:24:50.833Z"
   },
   {
    "duration": 41,
    "start_time": "2022-05-06T19:25:56.327Z"
   },
   {
    "duration": 62,
    "start_time": "2022-05-06T19:27:31.600Z"
   },
   {
    "duration": 55,
    "start_time": "2022-05-06T19:27:44.864Z"
   },
   {
    "duration": 77,
    "start_time": "2022-05-06T19:48:21.148Z"
   },
   {
    "duration": 4,
    "start_time": "2022-05-06T19:48:46.961Z"
   },
   {
    "duration": 3,
    "start_time": "2022-05-06T19:49:18.392Z"
   },
   {
    "duration": 94,
    "start_time": "2022-05-06T19:54:27.395Z"
   },
   {
    "duration": 44,
    "start_time": "2022-05-06T19:55:10.074Z"
   },
   {
    "duration": 4,
    "start_time": "2022-05-06T19:55:18.784Z"
   },
   {
    "duration": 48,
    "start_time": "2022-05-06T19:55:33.216Z"
   },
   {
    "duration": 7,
    "start_time": "2022-05-06T19:55:35.105Z"
   },
   {
    "duration": 384,
    "start_time": "2022-05-06T19:55:43.778Z"
   },
   {
    "duration": 184,
    "start_time": "2022-05-06T19:55:44.164Z"
   },
   {
    "duration": 19,
    "start_time": "2022-05-06T19:55:44.350Z"
   },
   {
    "duration": 49,
    "start_time": "2022-05-06T19:55:44.371Z"
   },
   {
    "duration": 7,
    "start_time": "2022-05-06T19:55:44.422Z"
   },
   {
    "duration": 44,
    "start_time": "2022-05-06T19:55:44.431Z"
   },
   {
    "duration": 3,
    "start_time": "2022-05-06T19:55:44.477Z"
   },
   {
    "duration": 5,
    "start_time": "2022-05-06T19:55:44.482Z"
   },
   {
    "duration": 10,
    "start_time": "2022-05-06T19:55:44.488Z"
   },
   {
    "duration": 2,
    "start_time": "2022-05-06T19:55:44.509Z"
   },
   {
    "duration": 11,
    "start_time": "2022-05-06T19:55:44.512Z"
   },
   {
    "duration": 10,
    "start_time": "2022-05-06T19:55:44.524Z"
   },
   {
    "duration": 3,
    "start_time": "2022-05-06T19:55:44.538Z"
   },
   {
    "duration": 9,
    "start_time": "2022-05-06T19:55:44.542Z"
   },
   {
    "duration": 5,
    "start_time": "2022-05-06T19:55:44.553Z"
   },
   {
    "duration": 10,
    "start_time": "2022-05-06T19:55:44.559Z"
   },
   {
    "duration": 6,
    "start_time": "2022-05-06T19:55:44.570Z"
   },
   {
    "duration": 6,
    "start_time": "2022-05-06T19:55:44.577Z"
   },
   {
    "duration": 6,
    "start_time": "2022-05-06T19:55:44.584Z"
   },
   {
    "duration": 5,
    "start_time": "2022-05-06T19:55:44.591Z"
   },
   {
    "duration": 22,
    "start_time": "2022-05-06T19:55:44.598Z"
   },
   {
    "duration": 8,
    "start_time": "2022-05-06T19:55:44.623Z"
   },
   {
    "duration": 7,
    "start_time": "2022-05-06T19:55:44.633Z"
   },
   {
    "duration": 3,
    "start_time": "2022-05-06T19:55:44.642Z"
   },
   {
    "duration": 6,
    "start_time": "2022-05-06T19:55:44.647Z"
   },
   {
    "duration": 6,
    "start_time": "2022-05-06T19:55:44.654Z"
   },
   {
    "duration": 7,
    "start_time": "2022-05-06T19:55:44.661Z"
   },
   {
    "duration": 4,
    "start_time": "2022-05-06T19:55:44.671Z"
   },
   {
    "duration": 4,
    "start_time": "2022-05-06T19:55:44.676Z"
   },
   {
    "duration": 4,
    "start_time": "2022-05-06T19:55:44.682Z"
   },
   {
    "duration": 6,
    "start_time": "2022-05-06T19:55:44.688Z"
   },
   {
    "duration": 3,
    "start_time": "2022-05-06T19:55:44.696Z"
   },
   {
    "duration": 11,
    "start_time": "2022-05-06T19:55:44.701Z"
   },
   {
    "duration": 4,
    "start_time": "2022-05-06T19:55:44.721Z"
   },
   {
    "duration": 10,
    "start_time": "2022-05-06T19:55:44.727Z"
   },
   {
    "duration": 7,
    "start_time": "2022-05-06T19:55:44.744Z"
   },
   {
    "duration": 4,
    "start_time": "2022-05-06T19:55:44.752Z"
   },
   {
    "duration": 4,
    "start_time": "2022-05-06T19:55:44.758Z"
   },
   {
    "duration": 14,
    "start_time": "2022-05-06T19:57:03.287Z"
   },
   {
    "duration": 4,
    "start_time": "2022-05-06T19:57:04.767Z"
   },
   {
    "duration": 29,
    "start_time": "2022-05-06T19:58:21.767Z"
   },
   {
    "duration": 56,
    "start_time": "2022-05-06T19:58:28.785Z"
   },
   {
    "duration": 25,
    "start_time": "2022-05-06T20:06:20.377Z"
   },
   {
    "duration": 18,
    "start_time": "2022-05-06T20:06:26.152Z"
   },
   {
    "duration": 42,
    "start_time": "2022-05-06T20:06:27.497Z"
   },
   {
    "duration": 86,
    "start_time": "2022-05-06T20:06:58.616Z"
   },
   {
    "duration": 94,
    "start_time": "2022-05-06T20:07:18.384Z"
   },
   {
    "duration": 106,
    "start_time": "2022-05-06T20:09:39.857Z"
   },
   {
    "duration": 75,
    "start_time": "2022-05-06T20:09:57.203Z"
   },
   {
    "duration": 104,
    "start_time": "2022-05-06T20:11:03.881Z"
   },
   {
    "duration": 6,
    "start_time": "2022-05-06T20:12:04.401Z"
   },
   {
    "duration": 63,
    "start_time": "2022-05-06T20:12:24.712Z"
   },
   {
    "duration": 67,
    "start_time": "2022-05-06T20:12:38.192Z"
   },
   {
    "duration": 63,
    "start_time": "2022-05-06T20:13:01.921Z"
   },
   {
    "duration": 46,
    "start_time": "2022-05-06T20:15:17.433Z"
   },
   {
    "duration": 43,
    "start_time": "2022-05-06T20:15:40.459Z"
   },
   {
    "duration": 51,
    "start_time": "2022-05-06T20:16:11.226Z"
   },
   {
    "duration": 11,
    "start_time": "2022-05-06T20:16:18.753Z"
   },
   {
    "duration": 57,
    "start_time": "2022-05-06T20:16:58.889Z"
   },
   {
    "duration": 3,
    "start_time": "2022-05-06T20:41:01.247Z"
   },
   {
    "duration": 3,
    "start_time": "2022-05-06T20:41:04.100Z"
   },
   {
    "duration": 104,
    "start_time": "2022-05-06T20:41:06.780Z"
   },
   {
    "duration": 62,
    "start_time": "2022-05-06T20:46:32.389Z"
   },
   {
    "duration": 3,
    "start_time": "2022-05-06T20:46:59.769Z"
   },
   {
    "duration": 200,
    "start_time": "2022-05-06T20:46:59.775Z"
   },
   {
    "duration": 11,
    "start_time": "2022-05-06T20:46:59.977Z"
   },
   {
    "duration": 54,
    "start_time": "2022-05-06T20:46:59.990Z"
   },
   {
    "duration": 4,
    "start_time": "2022-05-06T20:47:00.047Z"
   },
   {
    "duration": 13,
    "start_time": "2022-05-06T20:47:00.052Z"
   },
   {
    "duration": 3,
    "start_time": "2022-05-06T20:47:00.067Z"
   },
   {
    "duration": 66,
    "start_time": "2022-05-06T20:47:00.072Z"
   },
   {
    "duration": 31,
    "start_time": "2022-05-06T20:47:00.140Z"
   },
   {
    "duration": 43,
    "start_time": "2022-05-06T20:47:00.173Z"
   },
   {
    "duration": 71,
    "start_time": "2022-05-06T20:47:00.220Z"
   },
   {
    "duration": 98,
    "start_time": "2022-05-06T20:47:00.293Z"
   },
   {
    "duration": 77,
    "start_time": "2022-05-06T20:47:00.393Z"
   },
   {
    "duration": 70,
    "start_time": "2022-05-06T20:47:00.471Z"
   },
   {
    "duration": 3,
    "start_time": "2022-05-06T20:47:00.543Z"
   },
   {
    "duration": 119,
    "start_time": "2022-05-06T20:47:00.547Z"
   },
   {
    "duration": 57,
    "start_time": "2022-05-06T20:47:10.211Z"
   },
   {
    "duration": 3,
    "start_time": "2022-05-06T20:48:01.067Z"
   },
   {
    "duration": 17,
    "start_time": "2022-05-06T20:48:02.443Z"
   },
   {
    "duration": 53,
    "start_time": "2022-05-06T20:48:03.939Z"
   },
   {
    "duration": 24,
    "start_time": "2022-05-06T20:50:18.060Z"
   },
   {
    "duration": 93,
    "start_time": "2022-05-06T20:50:19.667Z"
   },
   {
    "duration": 6,
    "start_time": "2022-05-06T21:00:42.358Z"
   },
   {
    "duration": 19,
    "start_time": "2022-05-06T21:00:43.163Z"
   },
   {
    "duration": 69,
    "start_time": "2022-05-06T21:00:44.492Z"
   },
   {
    "duration": 51,
    "start_time": "2022-05-07T06:05:24.236Z"
   },
   {
    "duration": 417,
    "start_time": "2022-05-07T06:08:46.246Z"
   },
   {
    "duration": 165,
    "start_time": "2022-05-07T06:08:46.665Z"
   },
   {
    "duration": 19,
    "start_time": "2022-05-07T06:08:46.832Z"
   },
   {
    "duration": 31,
    "start_time": "2022-05-07T06:08:46.853Z"
   },
   {
    "duration": 3,
    "start_time": "2022-05-07T06:08:46.886Z"
   },
   {
    "duration": 16,
    "start_time": "2022-05-07T06:08:46.891Z"
   },
   {
    "duration": 3,
    "start_time": "2022-05-07T06:08:46.933Z"
   },
   {
    "duration": 34,
    "start_time": "2022-05-07T06:08:46.938Z"
   },
   {
    "duration": 21,
    "start_time": "2022-05-07T06:08:46.974Z"
   },
   {
    "duration": 38,
    "start_time": "2022-05-07T06:08:46.998Z"
   },
   {
    "duration": 69,
    "start_time": "2022-05-07T06:08:47.038Z"
   },
   {
    "duration": 99,
    "start_time": "2022-05-07T06:08:47.109Z"
   },
   {
    "duration": 71,
    "start_time": "2022-05-07T06:08:47.210Z"
   },
   {
    "duration": 51,
    "start_time": "2022-05-07T06:08:47.283Z"
   },
   {
    "duration": 3,
    "start_time": "2022-05-07T06:08:47.336Z"
   },
   {
    "duration": 20,
    "start_time": "2022-05-07T06:08:47.340Z"
   },
   {
    "duration": 41,
    "start_time": "2022-05-07T06:08:47.362Z"
   },
   {
    "duration": 32,
    "start_time": "2022-05-07T06:08:49.945Z"
   },
   {
    "duration": 31,
    "start_time": "2022-05-07T06:09:19.696Z"
   },
   {
    "duration": 36,
    "start_time": "2022-05-07T06:09:32.936Z"
   },
   {
    "duration": 34,
    "start_time": "2022-05-07T06:09:40.106Z"
   },
   {
    "duration": 14,
    "start_time": "2022-05-07T06:10:15.876Z"
   },
   {
    "duration": 16,
    "start_time": "2022-05-07T06:11:36.235Z"
   },
   {
    "duration": 13,
    "start_time": "2022-05-07T06:11:46.236Z"
   },
   {
    "duration": 4,
    "start_time": "2022-05-07T06:20:07.501Z"
   },
   {
    "duration": 19,
    "start_time": "2022-05-07T06:20:34.006Z"
   },
   {
    "duration": 16,
    "start_time": "2022-05-07T06:21:11.696Z"
   },
   {
    "duration": 17,
    "start_time": "2022-05-07T06:21:39.566Z"
   },
   {
    "duration": 15,
    "start_time": "2022-05-07T06:22:06.535Z"
   },
   {
    "duration": 17,
    "start_time": "2022-05-07T06:22:26.716Z"
   },
   {
    "duration": 16,
    "start_time": "2022-05-07T06:23:03.195Z"
   },
   {
    "duration": 18,
    "start_time": "2022-05-07T06:36:56.587Z"
   },
   {
    "duration": 17,
    "start_time": "2022-05-07T06:37:07.547Z"
   },
   {
    "duration": 22,
    "start_time": "2022-05-07T06:39:30.178Z"
   },
   {
    "duration": 17,
    "start_time": "2022-05-07T06:39:32.751Z"
   },
   {
    "duration": 18,
    "start_time": "2022-05-07T06:43:36.398Z"
   },
   {
    "duration": 14,
    "start_time": "2022-05-07T06:44:52.288Z"
   },
   {
    "duration": 16,
    "start_time": "2022-05-07T06:45:42.467Z"
   },
   {
    "duration": 128,
    "start_time": "2022-05-07T06:49:29.628Z"
   },
   {
    "duration": 11,
    "start_time": "2022-05-07T06:49:46.363Z"
   },
   {
    "duration": 145,
    "start_time": "2022-05-07T07:07:56.813Z"
   },
   {
    "duration": 4,
    "start_time": "2022-05-07T07:08:08.557Z"
   },
   {
    "duration": 22,
    "start_time": "2022-05-07T07:09:19.576Z"
   },
   {
    "duration": 29,
    "start_time": "2022-05-07T07:09:43.059Z"
   },
   {
    "duration": 10,
    "start_time": "2022-05-07T07:09:52.937Z"
   },
   {
    "duration": 22,
    "start_time": "2022-05-07T07:10:43.026Z"
   },
   {
    "duration": 15,
    "start_time": "2022-05-07T07:10:47.987Z"
   },
   {
    "duration": 9,
    "start_time": "2022-05-07T07:10:51.316Z"
   },
   {
    "duration": 31,
    "start_time": "2022-05-07T07:15:24.276Z"
   },
   {
    "duration": 5,
    "start_time": "2022-05-07T07:15:47.037Z"
   },
   {
    "duration": 25,
    "start_time": "2022-05-07T07:15:47.756Z"
   },
   {
    "duration": 4,
    "start_time": "2022-05-07T07:16:07.286Z"
   },
   {
    "duration": 24,
    "start_time": "2022-05-07T07:16:08.885Z"
   },
   {
    "duration": 4,
    "start_time": "2022-05-07T07:17:42.416Z"
   },
   {
    "duration": 29,
    "start_time": "2022-05-07T07:17:43.614Z"
   },
   {
    "duration": 4,
    "start_time": "2022-05-07T07:19:30.887Z"
   },
   {
    "duration": 33,
    "start_time": "2022-05-07T07:19:33.216Z"
   },
   {
    "duration": 32,
    "start_time": "2022-05-07T07:19:38.082Z"
   },
   {
    "duration": 21,
    "start_time": "2022-05-07T07:19:40.126Z"
   },
   {
    "duration": 8,
    "start_time": "2022-05-07T07:19:44.656Z"
   },
   {
    "duration": 4,
    "start_time": "2022-05-07T07:25:02.742Z"
   },
   {
    "duration": 32,
    "start_time": "2022-05-07T07:25:04.066Z"
   },
   {
    "duration": 20,
    "start_time": "2022-05-07T07:25:04.947Z"
   },
   {
    "duration": 9,
    "start_time": "2022-05-07T07:25:06.195Z"
   },
   {
    "duration": 30,
    "start_time": "2022-05-07T07:32:10.746Z"
   },
   {
    "duration": 21,
    "start_time": "2022-05-07T07:32:43.586Z"
   },
   {
    "duration": 8,
    "start_time": "2022-05-07T07:33:43.246Z"
   },
   {
    "duration": 5,
    "start_time": "2022-05-07T07:38:38.806Z"
   },
   {
    "duration": 42,
    "start_time": "2022-05-07T07:38:42.266Z"
   },
   {
    "duration": 133,
    "start_time": "2022-05-07T07:42:27.761Z"
   },
   {
    "duration": 4,
    "start_time": "2022-05-07T07:42:42.761Z"
   },
   {
    "duration": 14,
    "start_time": "2022-05-07T07:42:45.875Z"
   },
   {
    "duration": 6,
    "start_time": "2022-05-07T07:43:33.601Z"
   },
   {
    "duration": 83,
    "start_time": "2022-05-07T07:43:36.076Z"
   },
   {
    "duration": 190,
    "start_time": "2022-05-07T07:43:42.155Z"
   },
   {
    "duration": 5,
    "start_time": "2022-05-07T07:44:14.896Z"
   },
   {
    "duration": 111,
    "start_time": "2022-05-07T07:44:15.905Z"
   },
   {
    "duration": 4,
    "start_time": "2022-05-07T07:45:36.786Z"
   },
   {
    "duration": 39,
    "start_time": "2022-05-07T07:45:38.502Z"
   },
   {
    "duration": 6,
    "start_time": "2022-05-07T07:46:00.156Z"
   },
   {
    "duration": 69,
    "start_time": "2022-05-07T07:46:03.805Z"
   },
   {
    "duration": 5,
    "start_time": "2022-05-07T07:47:26.595Z"
   },
   {
    "duration": 124,
    "start_time": "2022-05-07T07:47:28.731Z"
   },
   {
    "duration": 5,
    "start_time": "2022-05-07T07:48:49.845Z"
   },
   {
    "duration": 95,
    "start_time": "2022-05-07T07:48:52.056Z"
   },
   {
    "duration": 8,
    "start_time": "2022-05-07T07:49:48.906Z"
   },
   {
    "duration": 165,
    "start_time": "2022-05-07T07:49:50.617Z"
   },
   {
    "duration": 5,
    "start_time": "2022-05-07T07:56:57.579Z"
   },
   {
    "duration": 115,
    "start_time": "2022-05-07T07:56:59.054Z"
   },
   {
    "duration": 10,
    "start_time": "2022-05-07T07:58:47.352Z"
   },
   {
    "duration": 153,
    "start_time": "2022-05-07T07:58:48.204Z"
   },
   {
    "duration": 5,
    "start_time": "2022-05-07T08:01:19.558Z"
   },
   {
    "duration": 94,
    "start_time": "2022-05-07T08:01:21.262Z"
   },
   {
    "duration": 5,
    "start_time": "2022-05-07T08:01:36.706Z"
   },
   {
    "duration": 69,
    "start_time": "2022-05-07T08:01:37.854Z"
   },
   {
    "duration": 8,
    "start_time": "2022-05-07T08:02:30.563Z"
   },
   {
    "duration": 68,
    "start_time": "2022-05-07T08:02:36.410Z"
   },
   {
    "duration": 10,
    "start_time": "2022-05-07T08:02:38.250Z"
   },
   {
    "duration": 55,
    "start_time": "2022-05-07T08:02:38.950Z"
   },
   {
    "duration": 11,
    "start_time": "2022-05-07T08:02:39.850Z"
   },
   {
    "duration": 6,
    "start_time": "2022-05-07T08:16:21.008Z"
   },
   {
    "duration": 70,
    "start_time": "2022-05-07T08:16:23.602Z"
   },
   {
    "duration": 10,
    "start_time": "2022-05-07T08:16:26.290Z"
   },
   {
    "duration": 8,
    "start_time": "2022-05-07T08:19:30.611Z"
   },
   {
    "duration": 5,
    "start_time": "2022-05-07T08:20:01.122Z"
   },
   {
    "duration": 55,
    "start_time": "2022-05-07T08:20:02.643Z"
   },
   {
    "duration": 9,
    "start_time": "2022-05-07T08:20:04.969Z"
   },
   {
    "duration": 5,
    "start_time": "2022-05-07T08:24:33.801Z"
   },
   {
    "duration": 12,
    "start_time": "2022-05-07T08:24:35.585Z"
   },
   {
    "duration": 5,
    "start_time": "2022-05-07T08:25:06.522Z"
   },
   {
    "duration": 16,
    "start_time": "2022-05-07T08:25:08.474Z"
   },
   {
    "duration": 6,
    "start_time": "2022-05-07T08:25:35.348Z"
   },
   {
    "duration": 82,
    "start_time": "2022-05-07T08:25:36.290Z"
   },
   {
    "duration": 13,
    "start_time": "2022-05-07T08:25:39.033Z"
   },
   {
    "duration": 4,
    "start_time": "2022-05-07T08:37:14.379Z"
   },
   {
    "duration": 72,
    "start_time": "2022-05-07T08:37:15.297Z"
   },
   {
    "duration": 9,
    "start_time": "2022-05-07T08:37:17.161Z"
   },
   {
    "duration": 73,
    "start_time": "2022-05-07T15:00:41.453Z"
   },
   {
    "duration": 540,
    "start_time": "2022-05-07T15:00:49.651Z"
   },
   {
    "duration": 212,
    "start_time": "2022-05-07T15:00:50.193Z"
   },
   {
    "duration": 28,
    "start_time": "2022-05-07T15:00:50.407Z"
   },
   {
    "duration": 63,
    "start_time": "2022-05-07T15:00:50.437Z"
   },
   {
    "duration": 12,
    "start_time": "2022-05-07T15:00:50.503Z"
   },
   {
    "duration": 22,
    "start_time": "2022-05-07T15:00:50.517Z"
   },
   {
    "duration": 14,
    "start_time": "2022-05-07T15:00:50.541Z"
   },
   {
    "duration": 53,
    "start_time": "2022-05-07T15:00:50.557Z"
   },
   {
    "duration": 30,
    "start_time": "2022-05-07T15:00:50.612Z"
   },
   {
    "duration": 49,
    "start_time": "2022-05-07T15:00:50.644Z"
   },
   {
    "duration": 122,
    "start_time": "2022-05-07T15:00:50.696Z"
   },
   {
    "duration": 137,
    "start_time": "2022-05-07T15:00:50.820Z"
   },
   {
    "duration": 101,
    "start_time": "2022-05-07T15:00:50.959Z"
   },
   {
    "duration": 65,
    "start_time": "2022-05-07T15:00:51.064Z"
   },
   {
    "duration": 4,
    "start_time": "2022-05-07T15:00:51.131Z"
   },
   {
    "duration": 49,
    "start_time": "2022-05-07T15:00:51.137Z"
   },
   {
    "duration": 54,
    "start_time": "2022-05-07T15:00:51.188Z"
   },
   {
    "duration": 45,
    "start_time": "2022-05-07T15:00:51.245Z"
   },
   {
    "duration": 17,
    "start_time": "2022-05-07T15:00:51.293Z"
   },
   {
    "duration": 17,
    "start_time": "2022-05-07T15:00:58.786Z"
   },
   {
    "duration": 56,
    "start_time": "2022-05-07T15:01:02.842Z"
   },
   {
    "duration": 15,
    "start_time": "2022-05-07T15:01:12.547Z"
   },
   {
    "duration": 22,
    "start_time": "2022-05-07T15:01:16.618Z"
   },
   {
    "duration": 74,
    "start_time": "2022-05-07T15:02:54.920Z"
   },
   {
    "duration": 501,
    "start_time": "2022-05-07T15:03:05.894Z"
   },
   {
    "duration": 207,
    "start_time": "2022-05-07T15:03:06.398Z"
   },
   {
    "duration": 27,
    "start_time": "2022-05-07T15:03:06.608Z"
   },
   {
    "duration": 60,
    "start_time": "2022-05-07T15:03:06.637Z"
   },
   {
    "duration": 4,
    "start_time": "2022-05-07T15:03:06.700Z"
   },
   {
    "duration": 26,
    "start_time": "2022-05-07T15:03:06.707Z"
   },
   {
    "duration": 8,
    "start_time": "2022-05-07T15:03:06.736Z"
   },
   {
    "duration": 76,
    "start_time": "2022-05-07T15:03:06.746Z"
   },
   {
    "duration": 26,
    "start_time": "2022-05-07T15:03:06.824Z"
   },
   {
    "duration": 54,
    "start_time": "2022-05-07T15:03:06.853Z"
   },
   {
    "duration": 153,
    "start_time": "2022-05-07T15:03:06.910Z"
   },
   {
    "duration": 137,
    "start_time": "2022-05-07T15:03:07.065Z"
   },
   {
    "duration": 133,
    "start_time": "2022-05-07T15:03:07.205Z"
   },
   {
    "duration": 67,
    "start_time": "2022-05-07T15:03:07.341Z"
   },
   {
    "duration": 4,
    "start_time": "2022-05-07T15:03:07.411Z"
   },
   {
    "duration": 28,
    "start_time": "2022-05-07T15:03:07.417Z"
   },
   {
    "duration": 69,
    "start_time": "2022-05-07T15:03:07.448Z"
   },
   {
    "duration": 19,
    "start_time": "2022-05-07T15:03:07.520Z"
   },
   {
    "duration": 41,
    "start_time": "2022-05-07T15:03:07.542Z"
   },
   {
    "duration": 17,
    "start_time": "2022-05-07T15:03:15.632Z"
   },
   {
    "duration": 17,
    "start_time": "2022-05-07T15:03:18.832Z"
   },
   {
    "duration": 24,
    "start_time": "2022-05-07T15:03:29.848Z"
   },
   {
    "duration": 124,
    "start_time": "2022-05-07T15:07:47.931Z"
   },
   {
    "duration": 4,
    "start_time": "2022-05-07T15:07:54.149Z"
   },
   {
    "duration": 300,
    "start_time": "2022-05-07T15:07:54.156Z"
   },
   {
    "duration": 28,
    "start_time": "2022-05-07T15:07:54.459Z"
   },
   {
    "duration": 67,
    "start_time": "2022-05-07T15:07:54.491Z"
   },
   {
    "duration": 6,
    "start_time": "2022-05-07T15:07:54.581Z"
   },
   {
    "duration": 20,
    "start_time": "2022-05-07T15:07:54.590Z"
   },
   {
    "duration": 5,
    "start_time": "2022-05-07T15:07:54.614Z"
   },
   {
    "duration": 84,
    "start_time": "2022-05-07T15:07:54.622Z"
   },
   {
    "duration": 25,
    "start_time": "2022-05-07T15:07:54.709Z"
   },
   {
    "duration": 71,
    "start_time": "2022-05-07T15:07:54.737Z"
   },
   {
    "duration": 153,
    "start_time": "2022-05-07T15:07:54.811Z"
   },
   {
    "duration": 187,
    "start_time": "2022-05-07T15:07:54.968Z"
   },
   {
    "duration": 105,
    "start_time": "2022-05-07T15:07:55.159Z"
   },
   {
    "duration": 66,
    "start_time": "2022-05-07T15:07:55.267Z"
   },
   {
    "duration": 5,
    "start_time": "2022-05-07T15:07:55.336Z"
   },
   {
    "duration": 46,
    "start_time": "2022-05-07T15:07:55.344Z"
   },
   {
    "duration": 98,
    "start_time": "2022-05-07T15:07:55.392Z"
   },
   {
    "duration": 20,
    "start_time": "2022-05-07T15:07:55.493Z"
   },
   {
    "duration": 25,
    "start_time": "2022-05-07T15:07:55.516Z"
   },
   {
    "duration": 38,
    "start_time": "2022-05-07T15:07:55.545Z"
   },
   {
    "duration": 132,
    "start_time": "2022-05-07T15:07:55.586Z"
   },
   {
    "duration": 115,
    "start_time": "2022-05-07T15:07:55.722Z"
   },
   {
    "duration": 62,
    "start_time": "2022-05-07T15:08:08.328Z"
   },
   {
    "duration": 78,
    "start_time": "2022-05-07T15:33:23.025Z"
   },
   {
    "duration": 78,
    "start_time": "2022-05-07T15:34:08.664Z"
   },
   {
    "duration": 81,
    "start_time": "2022-05-07T15:34:41.249Z"
   },
   {
    "duration": 12,
    "start_time": "2022-05-07T15:41:24.979Z"
   },
   {
    "duration": 33,
    "start_time": "2022-05-07T15:42:13.263Z"
   },
   {
    "duration": 23,
    "start_time": "2022-05-07T15:42:21.712Z"
   },
   {
    "duration": 14,
    "start_time": "2022-05-07T15:42:25.111Z"
   },
   {
    "duration": 6,
    "start_time": "2022-05-07T15:47:23.316Z"
   },
   {
    "duration": 34,
    "start_time": "2022-05-07T15:49:07.152Z"
   },
   {
    "duration": 6,
    "start_time": "2022-05-07T15:49:19.145Z"
   },
   {
    "duration": 23,
    "start_time": "2022-05-07T15:49:21.151Z"
   },
   {
    "duration": 33,
    "start_time": "2022-05-07T15:49:29.664Z"
   },
   {
    "duration": 5,
    "start_time": "2022-05-07T15:49:48.665Z"
   },
   {
    "duration": 24,
    "start_time": "2022-05-07T15:49:49.551Z"
   },
   {
    "duration": 27,
    "start_time": "2022-05-07T15:50:30.969Z"
   },
   {
    "duration": 22,
    "start_time": "2022-05-07T15:54:04.354Z"
   },
   {
    "duration": 14,
    "start_time": "2022-05-07T15:54:04.904Z"
   },
   {
    "duration": 21,
    "start_time": "2022-05-07T15:54:05.544Z"
   },
   {
    "duration": 13,
    "start_time": "2022-05-07T15:54:06.201Z"
   },
   {
    "duration": 24,
    "start_time": "2022-05-07T15:55:18.240Z"
   },
   {
    "duration": 27,
    "start_time": "2022-05-07T15:55:28.640Z"
   },
   {
    "duration": 1986,
    "start_time": "2022-05-07T15:55:33.528Z"
   },
   {
    "duration": 23,
    "start_time": "2022-05-07T15:55:51.776Z"
   },
   {
    "duration": 24,
    "start_time": "2022-05-07T15:56:11.945Z"
   },
   {
    "duration": 15,
    "start_time": "2022-05-07T15:57:17.891Z"
   },
   {
    "duration": 23,
    "start_time": "2022-05-07T15:58:16.402Z"
   },
   {
    "duration": 21,
    "start_time": "2022-05-07T15:58:27.528Z"
   },
   {
    "duration": 21,
    "start_time": "2022-05-07T15:58:49.177Z"
   },
   {
    "duration": 28,
    "start_time": "2022-05-07T16:10:35.633Z"
   },
   {
    "duration": 23,
    "start_time": "2022-05-07T16:14:44.705Z"
   },
   {
    "duration": 21,
    "start_time": "2022-05-07T16:15:03.755Z"
   },
   {
    "duration": 6,
    "start_time": "2022-05-07T16:15:35.304Z"
   },
   {
    "duration": 9,
    "start_time": "2022-05-07T16:16:41.153Z"
   },
   {
    "duration": 13,
    "start_time": "2022-05-07T16:16:45.107Z"
   },
   {
    "duration": 8,
    "start_time": "2022-05-07T16:16:45.907Z"
   },
   {
    "duration": 5,
    "start_time": "2022-05-07T16:23:57.562Z"
   },
   {
    "duration": 49,
    "start_time": "2022-05-07T16:24:09.400Z"
   },
   {
    "duration": 54,
    "start_time": "2022-05-07T16:24:21.555Z"
   },
   {
    "duration": 63,
    "start_time": "2022-05-07T16:24:55.938Z"
   },
   {
    "duration": 25,
    "start_time": "2022-05-07T16:25:26.954Z"
   },
   {
    "duration": 29,
    "start_time": "2022-05-07T16:25:38.668Z"
   },
   {
    "duration": 27,
    "start_time": "2022-05-07T16:26:36.708Z"
   },
   {
    "duration": 12,
    "start_time": "2022-05-07T16:27:29.911Z"
   },
   {
    "duration": 11,
    "start_time": "2022-05-07T16:27:33.209Z"
   },
   {
    "duration": 552,
    "start_time": "2022-05-07T16:27:57.810Z"
   },
   {
    "duration": 256,
    "start_time": "2022-05-07T16:27:58.365Z"
   },
   {
    "duration": 29,
    "start_time": "2022-05-07T16:27:58.623Z"
   },
   {
    "duration": 62,
    "start_time": "2022-05-07T16:27:58.654Z"
   },
   {
    "duration": 8,
    "start_time": "2022-05-07T16:27:58.721Z"
   },
   {
    "duration": 22,
    "start_time": "2022-05-07T16:27:58.732Z"
   },
   {
    "duration": 32,
    "start_time": "2022-05-07T16:27:58.757Z"
   },
   {
    "duration": 69,
    "start_time": "2022-05-07T16:27:58.792Z"
   },
   {
    "duration": 28,
    "start_time": "2022-05-07T16:27:58.863Z"
   },
   {
    "duration": 48,
    "start_time": "2022-05-07T16:27:58.893Z"
   },
   {
    "duration": 162,
    "start_time": "2022-05-07T16:27:58.944Z"
   },
   {
    "duration": 162,
    "start_time": "2022-05-07T16:27:59.110Z"
   },
   {
    "duration": 133,
    "start_time": "2022-05-07T16:27:59.275Z"
   },
   {
    "duration": 75,
    "start_time": "2022-05-07T16:27:59.414Z"
   },
   {
    "duration": 7,
    "start_time": "2022-05-07T16:27:59.492Z"
   },
   {
    "duration": 45,
    "start_time": "2022-05-07T16:27:59.501Z"
   },
   {
    "duration": 67,
    "start_time": "2022-05-07T16:27:59.548Z"
   },
   {
    "duration": 28,
    "start_time": "2022-05-07T16:27:59.618Z"
   },
   {
    "duration": 49,
    "start_time": "2022-05-07T16:27:59.649Z"
   },
   {
    "duration": 23,
    "start_time": "2022-05-07T16:27:59.701Z"
   },
   {
    "duration": 91,
    "start_time": "2022-05-07T16:27:59.727Z"
   },
   {
    "duration": 14,
    "start_time": "2022-05-07T16:27:59.821Z"
   },
   {
    "duration": 16,
    "start_time": "2022-05-07T16:27:59.838Z"
   },
   {
    "duration": 25,
    "start_time": "2022-05-07T16:27:59.857Z"
   },
   {
    "duration": 8,
    "start_time": "2022-05-07T16:27:59.885Z"
   },
   {
    "duration": 52,
    "start_time": "2022-05-07T16:27:59.896Z"
   },
   {
    "duration": 43,
    "start_time": "2022-05-07T16:27:59.951Z"
   },
   {
    "duration": 36,
    "start_time": "2022-05-07T16:27:59.999Z"
   },
   {
    "duration": 24,
    "start_time": "2022-05-07T16:28:00.038Z"
   },
   {
    "duration": 49,
    "start_time": "2022-05-07T16:28:00.065Z"
   },
   {
    "duration": 42,
    "start_time": "2022-05-07T16:28:00.118Z"
   },
   {
    "duration": 18,
    "start_time": "2022-05-07T16:28:00.163Z"
   },
   {
    "duration": 52,
    "start_time": "2022-05-07T16:28:00.184Z"
   },
   {
    "duration": 15,
    "start_time": "2022-05-07T16:28:00.239Z"
   },
   {
    "duration": 6,
    "start_time": "2022-05-07T16:33:07.211Z"
   },
   {
    "duration": 547,
    "start_time": "2022-05-07T16:33:46.108Z"
   },
   {
    "duration": 229,
    "start_time": "2022-05-07T16:33:46.657Z"
   },
   {
    "duration": 40,
    "start_time": "2022-05-07T16:33:46.890Z"
   },
   {
    "duration": 61,
    "start_time": "2022-05-07T16:33:46.932Z"
   },
   {
    "duration": 9,
    "start_time": "2022-05-07T16:33:46.997Z"
   },
   {
    "duration": 48,
    "start_time": "2022-05-07T16:33:47.009Z"
   },
   {
    "duration": 7,
    "start_time": "2022-05-07T16:33:47.061Z"
   },
   {
    "duration": 49,
    "start_time": "2022-05-07T16:33:47.070Z"
   },
   {
    "duration": 37,
    "start_time": "2022-05-07T16:33:47.121Z"
   },
   {
    "duration": 48,
    "start_time": "2022-05-07T16:33:47.161Z"
   },
   {
    "duration": 138,
    "start_time": "2022-05-07T16:33:47.211Z"
   },
   {
    "duration": 147,
    "start_time": "2022-05-07T16:33:47.352Z"
   },
   {
    "duration": 102,
    "start_time": "2022-05-07T16:33:47.506Z"
   },
   {
    "duration": 75,
    "start_time": "2022-05-07T16:33:47.613Z"
   },
   {
    "duration": 7,
    "start_time": "2022-05-07T16:33:47.691Z"
   },
   {
    "duration": 32,
    "start_time": "2022-05-07T16:33:47.702Z"
   },
   {
    "duration": 82,
    "start_time": "2022-05-07T16:33:47.737Z"
   },
   {
    "duration": 20,
    "start_time": "2022-05-07T16:33:47.822Z"
   },
   {
    "duration": 62,
    "start_time": "2022-05-07T16:33:47.845Z"
   },
   {
    "duration": 8,
    "start_time": "2022-05-07T16:33:47.912Z"
   },
   {
    "duration": 82,
    "start_time": "2022-05-07T16:33:47.922Z"
   },
   {
    "duration": 19,
    "start_time": "2022-05-07T16:33:48.006Z"
   },
   {
    "duration": 24,
    "start_time": "2022-05-07T16:33:48.028Z"
   },
   {
    "duration": 33,
    "start_time": "2022-05-07T16:33:48.055Z"
   },
   {
    "duration": 9,
    "start_time": "2022-05-07T16:33:48.090Z"
   },
   {
    "duration": 64,
    "start_time": "2022-05-07T16:33:48.103Z"
   },
   {
    "duration": 27,
    "start_time": "2022-05-07T16:33:48.170Z"
   },
   {
    "duration": 42,
    "start_time": "2022-05-07T16:33:48.199Z"
   },
   {
    "duration": 20,
    "start_time": "2022-05-07T16:33:48.244Z"
   },
   {
    "duration": 49,
    "start_time": "2022-05-07T16:33:48.267Z"
   },
   {
    "duration": 37,
    "start_time": "2022-05-07T16:33:48.319Z"
   },
   {
    "duration": 8,
    "start_time": "2022-05-07T16:33:48.360Z"
   },
   {
    "duration": 20,
    "start_time": "2022-05-07T16:33:48.371Z"
   },
   {
    "duration": 36,
    "start_time": "2022-05-07T16:33:48.393Z"
   },
   {
    "duration": 79,
    "start_time": "2022-05-09T00:28:47.045Z"
   },
   {
    "duration": 471,
    "start_time": "2022-05-09T00:28:54.213Z"
   },
   {
    "duration": 195,
    "start_time": "2022-05-09T00:28:54.687Z"
   },
   {
    "duration": 30,
    "start_time": "2022-05-09T00:28:54.884Z"
   },
   {
    "duration": 16,
    "start_time": "2022-05-09T00:28:54.917Z"
   },
   {
    "duration": 78,
    "start_time": "2022-05-09T00:28:54.938Z"
   },
   {
    "duration": 6,
    "start_time": "2022-05-09T00:28:55.019Z"
   },
   {
    "duration": 16,
    "start_time": "2022-05-09T00:28:55.028Z"
   },
   {
    "duration": 8,
    "start_time": "2022-05-09T00:28:55.046Z"
   },
   {
    "duration": 67,
    "start_time": "2022-05-09T00:28:55.057Z"
   },
   {
    "duration": 24,
    "start_time": "2022-05-09T00:28:55.127Z"
   },
   {
    "duration": 51,
    "start_time": "2022-05-09T00:28:55.153Z"
   },
   {
    "duration": 116,
    "start_time": "2022-05-09T00:28:55.207Z"
   },
   {
    "duration": 124,
    "start_time": "2022-05-09T00:28:55.325Z"
   },
   {
    "duration": 97,
    "start_time": "2022-05-09T00:28:55.453Z"
   },
   {
    "duration": 59,
    "start_time": "2022-05-09T00:28:55.552Z"
   },
   {
    "duration": 4,
    "start_time": "2022-05-09T00:28:55.614Z"
   },
   {
    "duration": 29,
    "start_time": "2022-05-09T00:28:55.621Z"
   },
   {
    "duration": 73,
    "start_time": "2022-05-09T00:28:55.653Z"
   },
   {
    "duration": 19,
    "start_time": "2022-05-09T00:28:55.728Z"
   },
   {
    "duration": 46,
    "start_time": "2022-05-09T00:28:55.750Z"
   },
   {
    "duration": 8,
    "start_time": "2022-05-09T00:28:55.798Z"
   },
   {
    "duration": 65,
    "start_time": "2022-05-09T00:28:55.809Z"
   },
   {
    "duration": 24,
    "start_time": "2022-05-09T00:28:55.877Z"
   },
   {
    "duration": 19,
    "start_time": "2022-05-09T00:28:55.904Z"
   },
   {
    "duration": 17,
    "start_time": "2022-05-09T00:28:55.925Z"
   },
   {
    "duration": 8,
    "start_time": "2022-05-09T00:28:55.945Z"
   },
   {
    "duration": 62,
    "start_time": "2022-05-09T00:28:55.955Z"
   },
   {
    "duration": 16,
    "start_time": "2022-05-09T00:28:56.019Z"
   },
   {
    "duration": 21,
    "start_time": "2022-05-09T00:28:56.037Z"
   },
   {
    "duration": 16,
    "start_time": "2022-05-09T00:28:56.093Z"
   },
   {
    "duration": 27,
    "start_time": "2022-05-09T00:28:56.111Z"
   },
   {
    "duration": 16,
    "start_time": "2022-05-09T00:28:56.141Z"
   },
   {
    "duration": 39,
    "start_time": "2022-05-09T00:28:56.159Z"
   },
   {
    "duration": 15,
    "start_time": "2022-05-09T00:28:56.200Z"
   },
   {
    "duration": 7,
    "start_time": "2022-05-09T00:28:56.218Z"
   },
   {
    "duration": 465,
    "start_time": "2022-05-09T13:35:45.237Z"
   },
   {
    "duration": 171,
    "start_time": "2022-05-09T13:35:46.066Z"
   },
   {
    "duration": 18,
    "start_time": "2022-05-09T13:35:48.041Z"
   },
   {
    "duration": 16,
    "start_time": "2022-05-09T13:45:49.420Z"
   },
   {
    "duration": 10,
    "start_time": "2022-05-09T13:45:53.825Z"
   },
   {
    "duration": 3,
    "start_time": "2022-05-09T13:49:55.390Z"
   },
   {
    "duration": 11,
    "start_time": "2022-05-09T13:50:57.541Z"
   },
   {
    "duration": 3,
    "start_time": "2022-05-09T13:51:32.586Z"
   },
   {
    "duration": 27,
    "start_time": "2022-05-09T13:52:08.297Z"
   },
   {
    "duration": 24,
    "start_time": "2022-05-09T13:52:49.554Z"
   },
   {
    "duration": 26,
    "start_time": "2022-05-09T13:53:05.679Z"
   },
   {
    "duration": 84,
    "start_time": "2022-05-09T13:53:20.242Z"
   },
   {
    "duration": 85,
    "start_time": "2022-05-09T13:53:34.376Z"
   },
   {
    "duration": 75,
    "start_time": "2022-05-09T13:53:36.009Z"
   },
   {
    "duration": 69,
    "start_time": "2022-05-09T13:53:41.016Z"
   },
   {
    "duration": 43,
    "start_time": "2022-05-09T13:53:58.089Z"
   },
   {
    "duration": 3,
    "start_time": "2022-05-09T14:01:01.968Z"
   },
   {
    "duration": 16,
    "start_time": "2022-05-09T14:01:05.264Z"
   },
   {
    "duration": 41,
    "start_time": "2022-05-09T14:01:13.080Z"
   },
   {
    "duration": 15,
    "start_time": "2022-05-09T14:02:48.961Z"
   },
   {
    "duration": 13,
    "start_time": "2022-05-09T14:03:09.009Z"
   },
   {
    "duration": 4,
    "start_time": "2022-05-09T14:04:10.985Z"
   },
   {
    "duration": 55,
    "start_time": "2022-05-09T14:04:20.376Z"
   },
   {
    "duration": 9,
    "start_time": "2022-05-09T14:06:23.481Z"
   },
   {
    "duration": 12,
    "start_time": "2022-05-09T14:06:40.368Z"
   },
   {
    "duration": 10,
    "start_time": "2022-05-09T14:06:41.208Z"
   },
   {
    "duration": 23,
    "start_time": "2022-05-09T14:07:19.730Z"
   },
   {
    "duration": 33,
    "start_time": "2022-05-09T14:07:50.000Z"
   },
   {
    "duration": 4,
    "start_time": "2022-05-09T14:09:35.913Z"
   },
   {
    "duration": 7,
    "start_time": "2022-05-09T14:09:50.202Z"
   },
   {
    "duration": 23,
    "start_time": "2022-05-09T14:09:53.081Z"
   },
   {
    "duration": 128,
    "start_time": "2022-05-09T14:10:09.241Z"
   },
   {
    "duration": 5,
    "start_time": "2022-05-09T14:10:21.273Z"
   },
   {
    "duration": 19,
    "start_time": "2022-05-09T14:10:23.089Z"
   },
   {
    "duration": 5,
    "start_time": "2022-05-09T14:11:38.538Z"
   },
   {
    "duration": 18,
    "start_time": "2022-05-09T14:11:39.593Z"
   },
   {
    "duration": 11,
    "start_time": "2022-05-09T14:14:41.298Z"
   },
   {
    "duration": 11,
    "start_time": "2022-05-09T14:15:00.810Z"
   },
   {
    "duration": 11,
    "start_time": "2022-05-09T14:15:26.627Z"
   },
   {
    "duration": 20,
    "start_time": "2022-05-09T14:20:05.020Z"
   },
   {
    "duration": 6,
    "start_time": "2022-05-09T14:20:07.899Z"
   },
   {
    "duration": 20,
    "start_time": "2022-05-09T14:20:09.178Z"
   },
   {
    "duration": 13,
    "start_time": "2022-05-09T14:20:15.138Z"
   },
   {
    "duration": 17,
    "start_time": "2022-05-09T14:20:17.363Z"
   },
   {
    "duration": 13,
    "start_time": "2022-05-09T14:20:18.698Z"
   },
   {
    "duration": 17,
    "start_time": "2022-05-09T14:20:30.892Z"
   },
   {
    "duration": 11,
    "start_time": "2022-05-09T14:22:02.027Z"
   },
   {
    "duration": 5,
    "start_time": "2022-05-09T14:22:07.619Z"
   },
   {
    "duration": 8,
    "start_time": "2022-05-09T14:22:11.618Z"
   },
   {
    "duration": 5,
    "start_time": "2022-05-09T14:22:13.570Z"
   },
   {
    "duration": 5,
    "start_time": "2022-05-09T14:22:21.276Z"
   },
   {
    "duration": 17,
    "start_time": "2022-05-09T14:22:31.194Z"
   },
   {
    "duration": 22,
    "start_time": "2022-05-09T14:22:49.907Z"
   },
   {
    "duration": 21,
    "start_time": "2022-05-09T14:22:55.163Z"
   },
   {
    "duration": 12,
    "start_time": "2022-05-09T14:22:57.058Z"
   },
   {
    "duration": 18,
    "start_time": "2022-05-09T14:22:57.419Z"
   },
   {
    "duration": 12,
    "start_time": "2022-05-09T14:22:57.971Z"
   },
   {
    "duration": 20,
    "start_time": "2022-05-09T14:23:00.402Z"
   },
   {
    "duration": 16,
    "start_time": "2022-05-09T14:23:06.962Z"
   },
   {
    "duration": 7,
    "start_time": "2022-05-09T14:23:08.322Z"
   },
   {
    "duration": 10,
    "start_time": "2022-05-09T14:23:15.858Z"
   },
   {
    "duration": 6,
    "start_time": "2022-05-09T14:23:25.139Z"
   },
   {
    "duration": 9,
    "start_time": "2022-05-09T14:30:06.588Z"
   }
  ],
  "colab": {
   "collapsed_sections": [
    "E0vqbgi9ay0H",
    "VUC88oWjTJw2"
   ],
   "name": "yandex_music_project.ipynb",
   "provenance": []
  },
  "kernelspec": {
   "display_name": "Python 3 (ipykernel)",
   "language": "python",
   "name": "python3"
  },
  "language_info": {
   "codemirror_mode": {
    "name": "ipython",
    "version": 3
   },
   "file_extension": ".py",
   "mimetype": "text/x-python",
   "name": "python",
   "nbconvert_exporter": "python",
   "pygments_lexer": "ipython3",
   "version": "3.9.13"
  },
  "toc": {
   "base_numbering": 1,
   "nav_menu": {},
   "number_sections": true,
   "sideBar": true,
   "skip_h1_title": true,
   "title_cell": "Содержание",
   "title_sidebar": "Содержание",
   "toc_cell": true,
   "toc_position": {
    "height": "calc(100% - 180px)",
    "left": "10px",
    "top": "150px",
    "width": "212.375px"
   },
   "toc_section_display": true,
   "toc_window_display": true
  },
  "varInspector": {
   "cols": {
    "lenName": "20",
    "lenType": "20",
    "lenVar": 40
   },
   "kernels_config": {
    "python": {
     "delete_cmd_postfix": "",
     "delete_cmd_prefix": "del ",
     "library": "var_list.py",
     "varRefreshCmd": "print(var_dic_list())"
    },
    "r": {
     "delete_cmd_postfix": ") ",
     "delete_cmd_prefix": "rm(",
     "library": "var_list.r",
     "varRefreshCmd": "cat(var_dic_list()) "
    }
   },
   "types_to_exclude": [
    "module",
    "function",
    "builtin_function_or_method",
    "instance",
    "_Feature"
   ],
   "window_display": true
  }
 },
 "nbformat": 4,
 "nbformat_minor": 1
}
