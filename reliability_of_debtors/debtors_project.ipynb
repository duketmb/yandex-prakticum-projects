{
 "cells": [
  {
   "cell_type": "markdown",
   "id": "a04bae27",
   "metadata": {},
   "source": [
    "# Исследование надежности заемщиков"
   ]
  },
  {
   "cell_type": "markdown",
   "id": "74cbc80e",
   "metadata": {
    "toc": true
   },
   "source": [
    "<h1>Содержание<span class=\"tocSkip\"></span></h1>\n",
    "<div class=\"toc\"><ul class=\"toc-item\"><li><span><a href=\"#Описание-проекта\" data-toc-modified-id=\"Описание-проекта-1\"><span class=\"toc-item-num\">1&nbsp;&nbsp;</span>Описание проекта</a></span></li><li><span><a href=\"#Обзор-данных\" data-toc-modified-id=\"Обзор-данных-2\"><span class=\"toc-item-num\">2&nbsp;&nbsp;</span>Обзор данных</a></span></li><li><span><a href=\"#Подготовка-данных\" data-toc-modified-id=\"Подготовка-данных-3\"><span class=\"toc-item-num\">3&nbsp;&nbsp;</span>Подготовка данных</a></span><ul class=\"toc-item\"><li><span><a href=\"#Заполнение-пропусков\" data-toc-modified-id=\"Заполнение-пропусков-3.1\"><span class=\"toc-item-num\">3.1&nbsp;&nbsp;</span>Заполнение пропусков</a></span></li><li><span><a href=\"#Проверка-данных-на-аномалии-и-исправления\" data-toc-modified-id=\"Проверка-данных-на-аномалии-и-исправления-3.2\"><span class=\"toc-item-num\">3.2&nbsp;&nbsp;</span>Проверка данных на аномалии и исправления</a></span></li><li><span><a href=\"#Изменение-типов-данных\" data-toc-modified-id=\"Изменение-типов-данных-3.3\"><span class=\"toc-item-num\">3.3&nbsp;&nbsp;</span>Изменение типов данных</a></span></li><li><span><a href=\"#Удаление-дубликатов\" data-toc-modified-id=\"Удаление-дубликатов-3.4\"><span class=\"toc-item-num\">3.4&nbsp;&nbsp;</span>Удаление дубликатов</a></span></li><li><span><a href=\"#Формирование-дополнительных-датафреймов-словарей,-декомпозиция-исходного-датафрейма\" data-toc-modified-id=\"Формирование-дополнительных-датафреймов-словарей,-декомпозиция-исходного-датафрейма-3.5\"><span class=\"toc-item-num\">3.5&nbsp;&nbsp;</span>Формирование дополнительных датафреймов словарей, декомпозиция исходного датафрейма</a></span></li><li><span><a href=\"#Категоризация-дохода\" data-toc-modified-id=\"Категоризация-дохода-3.6\"><span class=\"toc-item-num\">3.6&nbsp;&nbsp;</span>Категоризация дохода</a></span></li><li><span><a href=\"#Категоризация-целей-кредита\" data-toc-modified-id=\"Категоризация-целей-кредита-3.7\"><span class=\"toc-item-num\">3.7&nbsp;&nbsp;</span>Категоризация целей кредита</a></span></li></ul></li><li><span><a href=\"#Построение-зависимостей\" data-toc-modified-id=\"Построение-зависимостей-4\"><span class=\"toc-item-num\">4&nbsp;&nbsp;</span>Построение зависимостей</a></span><ul class=\"toc-item\"><li><span><a href=\"#Количество-детей-и-возврат-кредита-в-срок\" data-toc-modified-id=\"Количество-детей-и-возврат-кредита-в-срок-4.1\"><span class=\"toc-item-num\">4.1&nbsp;&nbsp;</span>Количество детей и возврат кредита в срок</a></span></li><li><span><a href=\"#Семейное-положение-и-возврат-кредита-в-срок\" data-toc-modified-id=\"Семейное-положение-и-возврат-кредита-в-срок-4.2\"><span class=\"toc-item-num\">4.2&nbsp;&nbsp;</span>Семейное положение и возврат кредита в срок</a></span></li><li><span><a href=\"#Уровень-дохода-и-возврат-кредита-в-срок\" data-toc-modified-id=\"Уровень-дохода-и-возврат-кредита-в-срок-4.3\"><span class=\"toc-item-num\">4.3&nbsp;&nbsp;</span>Уровень дохода и возврат кредита в срок</a></span></li><li><span><a href=\"#Цель-кредита-и-возврат-кредита-в-срок\" data-toc-modified-id=\"Цель-кредита-и-возврат-кредита-в-срок-4.4\"><span class=\"toc-item-num\">4.4&nbsp;&nbsp;</span>Цель кредита и возврат кредита в срок</a></span></li></ul></li><li><span><a href=\"#Общий-вывод\" data-toc-modified-id=\"Общий-вывод-5\"><span class=\"toc-item-num\">5&nbsp;&nbsp;</span>Общий вывод</a></span></li></ul></div>"
   ]
  },
  {
   "cell_type": "markdown",
   "id": "cc41f821",
   "metadata": {},
   "source": [
    "## Описание проекта"
   ]
  },
  {
   "cell_type": "markdown",
   "id": "ade4ea47",
   "metadata": {},
   "source": [
    "Кредитный отдел банка обратился с вопросом оценки способности потенциального заемщика вернуть кредит. Для этого он хочет, чтобы была проанализирована предоставленная статистика о платежеспособности существующих клиентов.\n",
    "\n",
    "**Цель исследования** — выяснить, влияют ли на возврат кредита в срок такие факторы как:\n",
    "\n",
    "* количество детей;\n",
    "\n",
    "* семейное положение;\n",
    "\n",
    "* уровень дохода;\n",
    "\n",
    "* цель кредита.\n",
    "\n",
    "**Ход исследования**\n",
    "\n",
    "Форма предоставленных данных не была согласована заранее, поэтому понадобится обзор данных и их подготовка, в процессе которой проверим данные на ошибки и при необходимости исправим их.  \n",
    "Разделим данные на категории, выявим закономерности в разных категориях и построим сводные таблицы.  \n",
    "Таким образом, исследование будет проводиться в три этапа:  \n",
    "1. Обзор данных.\n",
    "2. Предобработка данных.\n",
    "3. Построение зависимостей.\n"
   ]
  },
  {
   "cell_type": "markdown",
   "id": "67210aca",
   "metadata": {},
   "source": [
    "## Обзор данных"
   ]
  },
  {
   "cell_type": "code",
   "execution_count": 1,
   "id": "48aa349f",
   "metadata": {},
   "outputs": [],
   "source": [
    "#Импортируем pandas и откроем предоставленную таблицу (варианты для локальной и удаленной работы)\n",
    "import pandas as pd\n",
    "try:\n",
    "    stat = pd.read_csv('/datasets/data.csv')\n",
    "except:\n",
    "    stat = pd.read_csv('dataset_project2.csv')"
   ]
  },
  {
   "cell_type": "code",
   "execution_count": 2,
   "id": "01c86d1e",
   "metadata": {
    "scrolled": true
   },
   "outputs": [
    {
     "name": "stdout",
     "output_type": "stream",
     "text": [
      "<class 'pandas.core.frame.DataFrame'>\n",
      "RangeIndex: 21525 entries, 0 to 21524\n",
      "Data columns (total 12 columns):\n",
      " #   Column            Non-Null Count  Dtype  \n",
      "---  ------            --------------  -----  \n",
      " 0   children          21525 non-null  int64  \n",
      " 1   days_employed     19351 non-null  float64\n",
      " 2   dob_years         21525 non-null  int64  \n",
      " 3   education         21525 non-null  object \n",
      " 4   education_id      21525 non-null  int64  \n",
      " 5   family_status     21525 non-null  object \n",
      " 6   family_status_id  21525 non-null  int64  \n",
      " 7   gender            21525 non-null  object \n",
      " 8   income_type       21525 non-null  object \n",
      " 9   debt              21525 non-null  int64  \n",
      " 10  total_income      19351 non-null  float64\n",
      " 11  purpose           21525 non-null  object \n",
      "dtypes: float64(2), int64(5), object(5)\n",
      "memory usage: 2.0+ MB\n"
     ]
    }
   ],
   "source": [
    "#Просмотрим общую информацию о фрейме.\n",
    "stat.info()"
   ]
  },
  {
   "cell_type": "code",
   "execution_count": 3,
   "id": "c4d8085c",
   "metadata": {},
   "outputs": [
    {
     "data": {
      "text/html": [
       "<div>\n",
       "<style scoped>\n",
       "    .dataframe tbody tr th:only-of-type {\n",
       "        vertical-align: middle;\n",
       "    }\n",
       "\n",
       "    .dataframe tbody tr th {\n",
       "        vertical-align: top;\n",
       "    }\n",
       "\n",
       "    .dataframe thead th {\n",
       "        text-align: right;\n",
       "    }\n",
       "</style>\n",
       "<table border=\"1\" class=\"dataframe\">\n",
       "  <thead>\n",
       "    <tr style=\"text-align: right;\">\n",
       "      <th></th>\n",
       "      <th>children</th>\n",
       "      <th>days_employed</th>\n",
       "      <th>dob_years</th>\n",
       "      <th>education</th>\n",
       "      <th>education_id</th>\n",
       "      <th>family_status</th>\n",
       "      <th>family_status_id</th>\n",
       "      <th>gender</th>\n",
       "      <th>income_type</th>\n",
       "      <th>debt</th>\n",
       "      <th>total_income</th>\n",
       "      <th>purpose</th>\n",
       "    </tr>\n",
       "  </thead>\n",
       "  <tbody>\n",
       "    <tr>\n",
       "      <th>0</th>\n",
       "      <td>1</td>\n",
       "      <td>-8437.673028</td>\n",
       "      <td>42</td>\n",
       "      <td>высшее</td>\n",
       "      <td>0</td>\n",
       "      <td>женат / замужем</td>\n",
       "      <td>0</td>\n",
       "      <td>F</td>\n",
       "      <td>сотрудник</td>\n",
       "      <td>0</td>\n",
       "      <td>253875.639453</td>\n",
       "      <td>покупка жилья</td>\n",
       "    </tr>\n",
       "    <tr>\n",
       "      <th>1</th>\n",
       "      <td>1</td>\n",
       "      <td>-4024.803754</td>\n",
       "      <td>36</td>\n",
       "      <td>среднее</td>\n",
       "      <td>1</td>\n",
       "      <td>женат / замужем</td>\n",
       "      <td>0</td>\n",
       "      <td>F</td>\n",
       "      <td>сотрудник</td>\n",
       "      <td>0</td>\n",
       "      <td>112080.014102</td>\n",
       "      <td>приобретение автомобиля</td>\n",
       "    </tr>\n",
       "    <tr>\n",
       "      <th>2</th>\n",
       "      <td>0</td>\n",
       "      <td>-5623.422610</td>\n",
       "      <td>33</td>\n",
       "      <td>Среднее</td>\n",
       "      <td>1</td>\n",
       "      <td>женат / замужем</td>\n",
       "      <td>0</td>\n",
       "      <td>M</td>\n",
       "      <td>сотрудник</td>\n",
       "      <td>0</td>\n",
       "      <td>145885.952297</td>\n",
       "      <td>покупка жилья</td>\n",
       "    </tr>\n",
       "    <tr>\n",
       "      <th>3</th>\n",
       "      <td>3</td>\n",
       "      <td>-4124.747207</td>\n",
       "      <td>32</td>\n",
       "      <td>среднее</td>\n",
       "      <td>1</td>\n",
       "      <td>женат / замужем</td>\n",
       "      <td>0</td>\n",
       "      <td>M</td>\n",
       "      <td>сотрудник</td>\n",
       "      <td>0</td>\n",
       "      <td>267628.550329</td>\n",
       "      <td>дополнительное образование</td>\n",
       "    </tr>\n",
       "    <tr>\n",
       "      <th>4</th>\n",
       "      <td>0</td>\n",
       "      <td>340266.072047</td>\n",
       "      <td>53</td>\n",
       "      <td>среднее</td>\n",
       "      <td>1</td>\n",
       "      <td>гражданский брак</td>\n",
       "      <td>1</td>\n",
       "      <td>F</td>\n",
       "      <td>пенсионер</td>\n",
       "      <td>0</td>\n",
       "      <td>158616.077870</td>\n",
       "      <td>сыграть свадьбу</td>\n",
       "    </tr>\n",
       "    <tr>\n",
       "      <th>5</th>\n",
       "      <td>0</td>\n",
       "      <td>-926.185831</td>\n",
       "      <td>27</td>\n",
       "      <td>высшее</td>\n",
       "      <td>0</td>\n",
       "      <td>гражданский брак</td>\n",
       "      <td>1</td>\n",
       "      <td>M</td>\n",
       "      <td>компаньон</td>\n",
       "      <td>0</td>\n",
       "      <td>255763.565419</td>\n",
       "      <td>покупка жилья</td>\n",
       "    </tr>\n",
       "    <tr>\n",
       "      <th>6</th>\n",
       "      <td>0</td>\n",
       "      <td>-2879.202052</td>\n",
       "      <td>43</td>\n",
       "      <td>высшее</td>\n",
       "      <td>0</td>\n",
       "      <td>женат / замужем</td>\n",
       "      <td>0</td>\n",
       "      <td>F</td>\n",
       "      <td>компаньон</td>\n",
       "      <td>0</td>\n",
       "      <td>240525.971920</td>\n",
       "      <td>операции с жильем</td>\n",
       "    </tr>\n",
       "    <tr>\n",
       "      <th>7</th>\n",
       "      <td>0</td>\n",
       "      <td>-152.779569</td>\n",
       "      <td>50</td>\n",
       "      <td>СРЕДНЕЕ</td>\n",
       "      <td>1</td>\n",
       "      <td>женат / замужем</td>\n",
       "      <td>0</td>\n",
       "      <td>M</td>\n",
       "      <td>сотрудник</td>\n",
       "      <td>0</td>\n",
       "      <td>135823.934197</td>\n",
       "      <td>образование</td>\n",
       "    </tr>\n",
       "    <tr>\n",
       "      <th>8</th>\n",
       "      <td>2</td>\n",
       "      <td>-6929.865299</td>\n",
       "      <td>35</td>\n",
       "      <td>ВЫСШЕЕ</td>\n",
       "      <td>0</td>\n",
       "      <td>гражданский брак</td>\n",
       "      <td>1</td>\n",
       "      <td>F</td>\n",
       "      <td>сотрудник</td>\n",
       "      <td>0</td>\n",
       "      <td>95856.832424</td>\n",
       "      <td>на проведение свадьбы</td>\n",
       "    </tr>\n",
       "    <tr>\n",
       "      <th>9</th>\n",
       "      <td>0</td>\n",
       "      <td>-2188.756445</td>\n",
       "      <td>41</td>\n",
       "      <td>среднее</td>\n",
       "      <td>1</td>\n",
       "      <td>женат / замужем</td>\n",
       "      <td>0</td>\n",
       "      <td>M</td>\n",
       "      <td>сотрудник</td>\n",
       "      <td>0</td>\n",
       "      <td>144425.938277</td>\n",
       "      <td>покупка жилья для семьи</td>\n",
       "    </tr>\n",
       "  </tbody>\n",
       "</table>\n",
       "</div>"
      ],
      "text/plain": [
       "   children  days_employed  dob_years education  education_id  \\\n",
       "0         1   -8437.673028         42    высшее             0   \n",
       "1         1   -4024.803754         36   среднее             1   \n",
       "2         0   -5623.422610         33   Среднее             1   \n",
       "3         3   -4124.747207         32   среднее             1   \n",
       "4         0  340266.072047         53   среднее             1   \n",
       "5         0    -926.185831         27    высшее             0   \n",
       "6         0   -2879.202052         43    высшее             0   \n",
       "7         0    -152.779569         50   СРЕДНЕЕ             1   \n",
       "8         2   -6929.865299         35    ВЫСШЕЕ             0   \n",
       "9         0   -2188.756445         41   среднее             1   \n",
       "\n",
       "      family_status  family_status_id gender income_type  debt   total_income  \\\n",
       "0   женат / замужем                 0      F   сотрудник     0  253875.639453   \n",
       "1   женат / замужем                 0      F   сотрудник     0  112080.014102   \n",
       "2   женат / замужем                 0      M   сотрудник     0  145885.952297   \n",
       "3   женат / замужем                 0      M   сотрудник     0  267628.550329   \n",
       "4  гражданский брак                 1      F   пенсионер     0  158616.077870   \n",
       "5  гражданский брак                 1      M   компаньон     0  255763.565419   \n",
       "6   женат / замужем                 0      F   компаньон     0  240525.971920   \n",
       "7   женат / замужем                 0      M   сотрудник     0  135823.934197   \n",
       "8  гражданский брак                 1      F   сотрудник     0   95856.832424   \n",
       "9   женат / замужем                 0      M   сотрудник     0  144425.938277   \n",
       "\n",
       "                      purpose  \n",
       "0               покупка жилья  \n",
       "1     приобретение автомобиля  \n",
       "2               покупка жилья  \n",
       "3  дополнительное образование  \n",
       "4             сыграть свадьбу  \n",
       "5               покупка жилья  \n",
       "6           операции с жильем  \n",
       "7                 образование  \n",
       "8       на проведение свадьбы  \n",
       "9     покупка жилья для семьи  "
      ]
     },
     "execution_count": 3,
     "metadata": {},
     "output_type": "execute_result"
    }
   ],
   "source": [
    "#Просмотрим первые 10 строк фрейма.\n",
    "stat[:10]"
   ]
  },
  {
   "cell_type": "code",
   "execution_count": 4,
   "id": "28fa2cc6",
   "metadata": {},
   "outputs": [
    {
     "data": {
      "text/plain": [
       "Index(['children', 'days_employed', 'dob_years', 'education', 'education_id',\n",
       "       'family_status', 'family_status_id', 'gender', 'income_type', 'debt',\n",
       "       'total_income', 'purpose'],\n",
       "      dtype='object')"
      ]
     },
     "execution_count": 4,
     "metadata": {},
     "output_type": "execute_result"
    }
   ],
   "source": [
    "#Посмотрим названия столбцов, чтобы посмотреть, нет ли ошибок в наименовании столбцов.\n",
    "stat.columns"
   ]
  },
  {
   "cell_type": "markdown",
   "id": "ca6c0a91",
   "metadata": {},
   "source": [
    "Как видно из общей информации о предоставленном датафрейме, данные разделены на 12 столбцов, в наименовании которых нет ошибок. Согласно предоставленной пояснительной записке к данным, соответствие названия столбцов и их содержания следующее:\n",
    "* `children` - количество детей в семье;\n",
    "* `days_employed` - общий трудовой стаж в днях;\n",
    "* `dob_years` - возраст клиента в годах;\n",
    "* `education` - уровень образования клиента;\n",
    "* `education_id` - идентификатор уровня образования;\n",
    "* `family_status` - семейное положение;\n",
    "* `family_status_id` - идентификатор семейного положения;\n",
    "* `gender` - пол клиента;\n",
    "* `income_type` - тип занятости;\n",
    "* `debt` - имел ли задолженность по возврату кредитов;\n",
    "* `total_income` - ежемесячный доход;\n",
    "* `purpose` - цель получения кредита.\n",
    "\n",
    "Из общей информации и части таблицы видны проблемы в данных:\n",
    "* в столбцах `days_employed` и `total_income` имеются пропущенные значения;\n",
    "* в столбце `days_employed` встречаются отрицательные значения;\n",
    "* в столбце `education` значения записаны в разных регистрах.\n",
    "\n",
    "**Выводы:**  \n",
    "В каждой строке таблицы - данные о заемщике и взятом им кредите. Часть колонок описывают кредит: были ли просрочки и на какие цели он взят. Остальные колонки описывают заемщика: сколько лет, стаж, размер зарплаты, количество детей и т.д.  \n",
    "\n",
    "Данных достаточно, чтобы можно было выявить требуемые закономерности. Однако, проблемы в данных могут помешать их обработать.  \n",
    "\n",
    "Чтобы перейти к построению зависимостей, нужно устранить проблемы в данных."
   ]
  },
  {
   "cell_type": "markdown",
   "id": "dcdd6310",
   "metadata": {},
   "source": [
    "## Подготовка данных"
   ]
  },
  {
   "cell_type": "markdown",
   "id": "f3ab3113",
   "metadata": {},
   "source": [
    "### Заполнение пропусков"
   ]
  },
  {
   "cell_type": "markdown",
   "id": "237864f3",
   "metadata": {},
   "source": [
    "На предыдущем шаге было определено, что в столбцах `days_employed` и `total_income` есть пропущенные значения.  \n",
    "Определим, сколько их."
   ]
  },
  {
   "cell_type": "code",
   "execution_count": 5,
   "id": "0a8018a0",
   "metadata": {},
   "outputs": [
    {
     "data": {
      "text/plain": [
       "children               0\n",
       "days_employed       2174\n",
       "dob_years              0\n",
       "education              0\n",
       "education_id           0\n",
       "family_status          0\n",
       "family_status_id       0\n",
       "gender                 0\n",
       "income_type            0\n",
       "debt                   0\n",
       "total_income        2174\n",
       "purpose                0\n",
       "dtype: int64"
      ]
     },
     "execution_count": 5,
     "metadata": {},
     "output_type": "execute_result"
    }
   ],
   "source": [
    "#Проверим, в каких стоблцах есть пропуски и сколько их\n",
    "stat.isna().sum()"
   ]
  },
  {
   "cell_type": "markdown",
   "id": "f7889035",
   "metadata": {},
   "source": [
    "Видно, что пропуски есть только в этих колонках. И в каждом из них по 2174 пропуска. Странно, что в разных столбцах одинаковое количество пропусков. Проверим, возможно, пропуски в этих столбцах встречаются в одних и тех же строках."
   ]
  },
  {
   "cell_type": "code",
   "execution_count": 6,
   "id": "af292e66",
   "metadata": {
    "scrolled": false
   },
   "outputs": [
    {
     "data": {
      "text/html": [
       "<div>\n",
       "<style scoped>\n",
       "    .dataframe tbody tr th:only-of-type {\n",
       "        vertical-align: middle;\n",
       "    }\n",
       "\n",
       "    .dataframe tbody tr th {\n",
       "        vertical-align: top;\n",
       "    }\n",
       "\n",
       "    .dataframe thead th {\n",
       "        text-align: right;\n",
       "    }\n",
       "</style>\n",
       "<table border=\"1\" class=\"dataframe\">\n",
       "  <thead>\n",
       "    <tr style=\"text-align: right;\">\n",
       "      <th></th>\n",
       "      <th>children</th>\n",
       "      <th>days_employed</th>\n",
       "      <th>dob_years</th>\n",
       "      <th>education</th>\n",
       "      <th>education_id</th>\n",
       "      <th>family_status</th>\n",
       "      <th>family_status_id</th>\n",
       "      <th>gender</th>\n",
       "      <th>income_type</th>\n",
       "      <th>debt</th>\n",
       "      <th>total_income</th>\n",
       "      <th>purpose</th>\n",
       "    </tr>\n",
       "  </thead>\n",
       "  <tbody>\n",
       "    <tr>\n",
       "      <th>12</th>\n",
       "      <td>0</td>\n",
       "      <td>NaN</td>\n",
       "      <td>65</td>\n",
       "      <td>среднее</td>\n",
       "      <td>1</td>\n",
       "      <td>гражданский брак</td>\n",
       "      <td>1</td>\n",
       "      <td>M</td>\n",
       "      <td>пенсионер</td>\n",
       "      <td>0</td>\n",
       "      <td>NaN</td>\n",
       "      <td>сыграть свадьбу</td>\n",
       "    </tr>\n",
       "    <tr>\n",
       "      <th>26</th>\n",
       "      <td>0</td>\n",
       "      <td>NaN</td>\n",
       "      <td>41</td>\n",
       "      <td>среднее</td>\n",
       "      <td>1</td>\n",
       "      <td>женат / замужем</td>\n",
       "      <td>0</td>\n",
       "      <td>M</td>\n",
       "      <td>госслужащий</td>\n",
       "      <td>0</td>\n",
       "      <td>NaN</td>\n",
       "      <td>образование</td>\n",
       "    </tr>\n",
       "    <tr>\n",
       "      <th>29</th>\n",
       "      <td>0</td>\n",
       "      <td>NaN</td>\n",
       "      <td>63</td>\n",
       "      <td>среднее</td>\n",
       "      <td>1</td>\n",
       "      <td>Не женат / не замужем</td>\n",
       "      <td>4</td>\n",
       "      <td>F</td>\n",
       "      <td>пенсионер</td>\n",
       "      <td>0</td>\n",
       "      <td>NaN</td>\n",
       "      <td>строительство жилой недвижимости</td>\n",
       "    </tr>\n",
       "    <tr>\n",
       "      <th>41</th>\n",
       "      <td>0</td>\n",
       "      <td>NaN</td>\n",
       "      <td>50</td>\n",
       "      <td>среднее</td>\n",
       "      <td>1</td>\n",
       "      <td>женат / замужем</td>\n",
       "      <td>0</td>\n",
       "      <td>F</td>\n",
       "      <td>госслужащий</td>\n",
       "      <td>0</td>\n",
       "      <td>NaN</td>\n",
       "      <td>сделка с подержанным автомобилем</td>\n",
       "    </tr>\n",
       "    <tr>\n",
       "      <th>55</th>\n",
       "      <td>0</td>\n",
       "      <td>NaN</td>\n",
       "      <td>54</td>\n",
       "      <td>среднее</td>\n",
       "      <td>1</td>\n",
       "      <td>гражданский брак</td>\n",
       "      <td>1</td>\n",
       "      <td>F</td>\n",
       "      <td>пенсионер</td>\n",
       "      <td>1</td>\n",
       "      <td>NaN</td>\n",
       "      <td>сыграть свадьбу</td>\n",
       "    </tr>\n",
       "    <tr>\n",
       "      <th>...</th>\n",
       "      <td>...</td>\n",
       "      <td>...</td>\n",
       "      <td>...</td>\n",
       "      <td>...</td>\n",
       "      <td>...</td>\n",
       "      <td>...</td>\n",
       "      <td>...</td>\n",
       "      <td>...</td>\n",
       "      <td>...</td>\n",
       "      <td>...</td>\n",
       "      <td>...</td>\n",
       "      <td>...</td>\n",
       "    </tr>\n",
       "    <tr>\n",
       "      <th>21489</th>\n",
       "      <td>2</td>\n",
       "      <td>NaN</td>\n",
       "      <td>47</td>\n",
       "      <td>Среднее</td>\n",
       "      <td>1</td>\n",
       "      <td>женат / замужем</td>\n",
       "      <td>0</td>\n",
       "      <td>M</td>\n",
       "      <td>компаньон</td>\n",
       "      <td>0</td>\n",
       "      <td>NaN</td>\n",
       "      <td>сделка с автомобилем</td>\n",
       "    </tr>\n",
       "    <tr>\n",
       "      <th>21495</th>\n",
       "      <td>1</td>\n",
       "      <td>NaN</td>\n",
       "      <td>50</td>\n",
       "      <td>среднее</td>\n",
       "      <td>1</td>\n",
       "      <td>гражданский брак</td>\n",
       "      <td>1</td>\n",
       "      <td>F</td>\n",
       "      <td>сотрудник</td>\n",
       "      <td>0</td>\n",
       "      <td>NaN</td>\n",
       "      <td>свадьба</td>\n",
       "    </tr>\n",
       "    <tr>\n",
       "      <th>21497</th>\n",
       "      <td>0</td>\n",
       "      <td>NaN</td>\n",
       "      <td>48</td>\n",
       "      <td>ВЫСШЕЕ</td>\n",
       "      <td>0</td>\n",
       "      <td>женат / замужем</td>\n",
       "      <td>0</td>\n",
       "      <td>F</td>\n",
       "      <td>компаньон</td>\n",
       "      <td>0</td>\n",
       "      <td>NaN</td>\n",
       "      <td>строительство недвижимости</td>\n",
       "    </tr>\n",
       "    <tr>\n",
       "      <th>21502</th>\n",
       "      <td>1</td>\n",
       "      <td>NaN</td>\n",
       "      <td>42</td>\n",
       "      <td>среднее</td>\n",
       "      <td>1</td>\n",
       "      <td>женат / замужем</td>\n",
       "      <td>0</td>\n",
       "      <td>F</td>\n",
       "      <td>сотрудник</td>\n",
       "      <td>0</td>\n",
       "      <td>NaN</td>\n",
       "      <td>строительство жилой недвижимости</td>\n",
       "    </tr>\n",
       "    <tr>\n",
       "      <th>21510</th>\n",
       "      <td>2</td>\n",
       "      <td>NaN</td>\n",
       "      <td>28</td>\n",
       "      <td>среднее</td>\n",
       "      <td>1</td>\n",
       "      <td>женат / замужем</td>\n",
       "      <td>0</td>\n",
       "      <td>F</td>\n",
       "      <td>сотрудник</td>\n",
       "      <td>0</td>\n",
       "      <td>NaN</td>\n",
       "      <td>приобретение автомобиля</td>\n",
       "    </tr>\n",
       "  </tbody>\n",
       "</table>\n",
       "<p>2174 rows × 12 columns</p>\n",
       "</div>"
      ],
      "text/plain": [
       "       children  days_employed  dob_years education  education_id  \\\n",
       "12            0            NaN         65   среднее             1   \n",
       "26            0            NaN         41   среднее             1   \n",
       "29            0            NaN         63   среднее             1   \n",
       "41            0            NaN         50   среднее             1   \n",
       "55            0            NaN         54   среднее             1   \n",
       "...         ...            ...        ...       ...           ...   \n",
       "21489         2            NaN         47   Среднее             1   \n",
       "21495         1            NaN         50   среднее             1   \n",
       "21497         0            NaN         48    ВЫСШЕЕ             0   \n",
       "21502         1            NaN         42   среднее             1   \n",
       "21510         2            NaN         28   среднее             1   \n",
       "\n",
       "               family_status  family_status_id gender  income_type  debt  \\\n",
       "12          гражданский брак                 1      M    пенсионер     0   \n",
       "26           женат / замужем                 0      M  госслужащий     0   \n",
       "29     Не женат / не замужем                 4      F    пенсионер     0   \n",
       "41           женат / замужем                 0      F  госслужащий     0   \n",
       "55          гражданский брак                 1      F    пенсионер     1   \n",
       "...                      ...               ...    ...          ...   ...   \n",
       "21489        женат / замужем                 0      M    компаньон     0   \n",
       "21495       гражданский брак                 1      F    сотрудник     0   \n",
       "21497        женат / замужем                 0      F    компаньон     0   \n",
       "21502        женат / замужем                 0      F    сотрудник     0   \n",
       "21510        женат / замужем                 0      F    сотрудник     0   \n",
       "\n",
       "       total_income                           purpose  \n",
       "12              NaN                   сыграть свадьбу  \n",
       "26              NaN                       образование  \n",
       "29              NaN  строительство жилой недвижимости  \n",
       "41              NaN  сделка с подержанным автомобилем  \n",
       "55              NaN                   сыграть свадьбу  \n",
       "...             ...                               ...  \n",
       "21489           NaN              сделка с автомобилем  \n",
       "21495           NaN                           свадьба  \n",
       "21497           NaN        строительство недвижимости  \n",
       "21502           NaN  строительство жилой недвижимости  \n",
       "21510           NaN           приобретение автомобиля  \n",
       "\n",
       "[2174 rows x 12 columns]"
      ]
     },
     "execution_count": 6,
     "metadata": {},
     "output_type": "execute_result"
    }
   ],
   "source": [
    "#выберем строки, в которых в обоих столбцах (days_employed и total_income) значения пропущены.\n",
    "stat[stat['days_employed'].isna() & stat['total_income'].isna()]"
   ]
  },
  {
   "cell_type": "markdown",
   "id": "adfa6c8c",
   "metadata": {},
   "source": [
    "Все пропуски `NaN` и они действительно встречаются исключительно в одних и тех же строках.  \n",
    "Раз пропуски в одних и тех же строках, значит, это точно не полностью случайные пропуски. При этом пропуски в каждом из столбцов не зависят от других значений в этих столбцах, а значит пропуски случайны.  \n",
    "Значит, можно предположить, что пропуски в обоих столбцах зависят друг от друга: ежемесячного дохода не может быть, если нет стажа. И наоборот: если нет стажа, то нет и дохода.  \n",
    "Причинами этих случайных пропусков могут быть:\n",
    "* ошибка выгрузки;\n",
    "* человеческий фактор (оператор не занес данные о доходе или стаже).\n",
    "\n",
    "Также можно предположить, что пропуски были из одного источника. Возможно, все клиенты с пропущенными доходами и стажем из одного банка.    \n",
    "Оценим влияние пропусков на выборку."
   ]
  },
  {
   "cell_type": "code",
   "execution_count": 7,
   "id": "74c357b1",
   "metadata": {},
   "outputs": [
    {
     "data": {
      "text/plain": [
       "children            0.000000\n",
       "days_employed       0.100999\n",
       "dob_years           0.000000\n",
       "education           0.000000\n",
       "education_id        0.000000\n",
       "family_status       0.000000\n",
       "family_status_id    0.000000\n",
       "gender              0.000000\n",
       "income_type         0.000000\n",
       "debt                0.000000\n",
       "total_income        0.100999\n",
       "purpose             0.000000\n",
       "dtype: float64"
      ]
     },
     "execution_count": 7,
     "metadata": {},
     "output_type": "execute_result"
    }
   ],
   "source": [
    "#Оценим долю пропусков во всех столбцах.\n",
    "stat.isna().mean()"
   ]
  },
  {
   "cell_type": "markdown",
   "id": "5b220cb6",
   "metadata": {},
   "source": [
    "В каждом из двух столбцов примерно по 10% значений пропущено.  \n",
    "Т.к. в столбце `days_employed` кроме пропусков есть также отрицательные значения, то заполнять пропуски до их устранения нет смысла - отрицательные значения будут портить значения среднего и медианы. Поэтому займемся этим на втором шаге, после работы с отрицальными значениями.  \n",
    "Сейчас заполним пропуски в столбце `total_income`."
   ]
  },
  {
   "cell_type": "code",
   "execution_count": 8,
   "id": "a5237114",
   "metadata": {},
   "outputs": [
    {
     "data": {
      "text/html": [
       "<div>\n",
       "<style scoped>\n",
       "    .dataframe tbody tr th:only-of-type {\n",
       "        vertical-align: middle;\n",
       "    }\n",
       "\n",
       "    .dataframe tbody tr th {\n",
       "        vertical-align: top;\n",
       "    }\n",
       "\n",
       "    .dataframe thead th {\n",
       "        text-align: right;\n",
       "    }\n",
       "</style>\n",
       "<table border=\"1\" class=\"dataframe\">\n",
       "  <thead>\n",
       "    <tr style=\"text-align: right;\">\n",
       "      <th></th>\n",
       "      <th>total_income</th>\n",
       "    </tr>\n",
       "  </thead>\n",
       "  <tbody>\n",
       "    <tr>\n",
       "      <th>min</th>\n",
       "      <td>2.066726e+04</td>\n",
       "    </tr>\n",
       "    <tr>\n",
       "      <th>max</th>\n",
       "      <td>2.265604e+06</td>\n",
       "    </tr>\n",
       "  </tbody>\n",
       "</table>\n",
       "</div>"
      ],
      "text/plain": [
       "     total_income\n",
       "min  2.066726e+04\n",
       "max  2.265604e+06"
      ]
     },
     "execution_count": 8,
     "metadata": {},
     "output_type": "execute_result"
    }
   ],
   "source": [
    "#Определим минимальную и максимальную зарплату заемщиков.\n",
    "stat.agg({'total_income': ['min', 'max']})"
   ]
  },
  {
   "cell_type": "markdown",
   "id": "5a42e087",
   "metadata": {},
   "source": [
    "Данные разнятся довольно сильно: от чуть выше 20 тысяч до более 2 миллионов. В дополнение к этому, пропусков более 10%.  \n",
    "Поэтому корректнее всего для заполнения пропусков использовать медианную зарплату вместо средней."
   ]
  },
  {
   "cell_type": "code",
   "execution_count": 9,
   "id": "4367a385",
   "metadata": {},
   "outputs": [
    {
     "data": {
      "text/plain": [
       "0"
      ]
     },
     "execution_count": 9,
     "metadata": {},
     "output_type": "execute_result"
    }
   ],
   "source": [
    "#Заполним пропуски медианным значением\n",
    "stat['total_income'] = stat['total_income'].fillna(stat['total_income'].median())\n",
    "#Проверим, что пропуски заменились\n",
    "stat['total_income'].isna().sum()"
   ]
  },
  {
   "cell_type": "markdown",
   "id": "e228c56a",
   "metadata": {},
   "source": [
    "Теперь пропусков в столбце `total_income` нет: все они заменены на медианные значения."
   ]
  },
  {
   "cell_type": "markdown",
   "id": "5fdda6fc",
   "metadata": {},
   "source": [
    "### Проверка данных на аномалии и исправления"
   ]
  },
  {
   "cell_type": "markdown",
   "id": "2e685cef",
   "metadata": {},
   "source": [
    "По обзору данных было замечено, что в столбце `days_employed` имелись отрицательные значения наряду с пропущенными.  \n",
    "Устраним пропуски и аномалии в этом столбце, а также проверим, нет ли аномалий в критичных для исследования столбцах: количество детей, семейное положение, цель кредита."
   ]
  },
  {
   "cell_type": "code",
   "execution_count": 10,
   "id": "07ab9956",
   "metadata": {},
   "outputs": [
    {
     "data": {
      "text/html": [
       "<div>\n",
       "<style scoped>\n",
       "    .dataframe tbody tr th:only-of-type {\n",
       "        vertical-align: middle;\n",
       "    }\n",
       "\n",
       "    .dataframe tbody tr th {\n",
       "        vertical-align: top;\n",
       "    }\n",
       "\n",
       "    .dataframe thead th {\n",
       "        text-align: right;\n",
       "    }\n",
       "</style>\n",
       "<table border=\"1\" class=\"dataframe\">\n",
       "  <thead>\n",
       "    <tr style=\"text-align: right;\">\n",
       "      <th></th>\n",
       "      <th>days_employed</th>\n",
       "    </tr>\n",
       "  </thead>\n",
       "  <tbody>\n",
       "    <tr>\n",
       "      <th>min</th>\n",
       "      <td>328728.720605</td>\n",
       "    </tr>\n",
       "    <tr>\n",
       "      <th>max</th>\n",
       "      <td>401755.400475</td>\n",
       "    </tr>\n",
       "    <tr>\n",
       "      <th>count</th>\n",
       "      <td>3445.000000</td>\n",
       "    </tr>\n",
       "  </tbody>\n",
       "</table>\n",
       "</div>"
      ],
      "text/plain": [
       "       days_employed\n",
       "min    328728.720605\n",
       "max    401755.400475\n",
       "count    3445.000000"
      ]
     },
     "execution_count": 10,
     "metadata": {},
     "output_type": "execute_result"
    }
   ],
   "source": [
    "#Посмотрим внимательнее на столбец days_employed. \n",
    "#Посчитаем количество положительных значений и найдем крайние значения среди них\n",
    "stat[stat['days_employed']>0].agg({'days_employed': ['min', 'max', 'count']})"
   ]
  },
  {
   "cell_type": "code",
   "execution_count": 11,
   "id": "3f322e2a",
   "metadata": {},
   "outputs": [
    {
     "data": {
      "text/plain": [
       "15906"
      ]
     },
     "execution_count": 11,
     "metadata": {},
     "output_type": "execute_result"
    }
   ],
   "source": [
    "#Посмотрим, сколько строк с отрицательными значениями в столбце days_employed\n",
    "stat[stat['days_employed']<0]['days_employed'].count()"
   ]
  },
  {
   "cell_type": "code",
   "execution_count": 12,
   "id": "0cf437f5",
   "metadata": {},
   "outputs": [
    {
     "data": {
      "text/plain": [
       "16.004645760743323"
      ]
     },
     "execution_count": 12,
     "metadata": {},
     "output_type": "execute_result"
    }
   ],
   "source": [
    "#Рассчитаем, какой процент строк содержит положительные значения в столбце days_employed\n",
    "stat[stat['days_employed']>0]['days_employed'].count() / len(stat) * 100"
   ]
  },
  {
   "cell_type": "markdown",
   "id": "237bc666",
   "metadata": {},
   "source": [
    "Среди неотрицательных значений стажа работы минимальное значение около 328 тысяч. Согласно документации на данные столбец стажа указан в днях. Однако, 328 тысяч для стажа в днях - слишком много. Возможно, что эти значения выгрузились не в днях, а в часах.  \n",
    "Однако, также присутсвуют отрицательные значения и пропуски. Причем, их значительно больше, чем положительных: положительных значений лишь около 16% из всей выборки.  \n",
    "Даже если бы положительные значения содержали значения, похожие на количество дней, то заполнять очевидно неверные значения (ниже нуля) и пропуски значениями, основанными на меньшей части выборки, неверно.  \n",
    "Также, учитывая тот факт, что в дальнейшем анализе значения из этого столбца не принимают участия, удалим этот столбец целиком.\n"
   ]
  },
  {
   "cell_type": "code",
   "execution_count": 13,
   "id": "3cc1fc62",
   "metadata": {},
   "outputs": [
    {
     "data": {
      "text/plain": [
       "Index(['children', 'dob_years', 'education', 'education_id', 'family_status',\n",
       "       'family_status_id', 'gender', 'income_type', 'debt', 'total_income',\n",
       "       'purpose'],\n",
       "      dtype='object')"
      ]
     },
     "execution_count": 13,
     "metadata": {},
     "output_type": "execute_result"
    }
   ],
   "source": [
    "#Удаляем столбец days_employed\n",
    "stat = stat.drop(columns='days_employed')\n",
    "#Проверяем, что удалили столбец\n",
    "stat.columns"
   ]
  },
  {
   "cell_type": "markdown",
   "id": "06e38ef3",
   "metadata": {},
   "source": [
    "Столбец `days_employed` удален. Теперь проверим остальные колонки на аномалии. Начнем по порядку: с количества детей."
   ]
  },
  {
   "cell_type": "code",
   "execution_count": 14,
   "id": "7d61223e",
   "metadata": {},
   "outputs": [
    {
     "data": {
      "text/plain": [
       " 0     14149\n",
       " 1      4818\n",
       " 2      2055\n",
       " 3       330\n",
       " 20       76\n",
       "-1        47\n",
       " 4        41\n",
       " 5         9\n",
       "Name: children, dtype: int64"
      ]
     },
     "execution_count": 14,
     "metadata": {},
     "output_type": "execute_result"
    }
   ],
   "source": [
    "stat['children'].value_counts()"
   ]
  },
  {
   "cell_type": "markdown",
   "id": "22301315",
   "metadata": {},
   "source": [
    "Видно, что есть аномальные значения: `-1` и `20`. Иметь 20 детей в принципе реально (приемных, например), однако количество заемщиков с таким количеством детей слишком велико: их даже больше, чем заемщиков с четырьмя и пятью детьми. Возможно, при внесении данных о количестве детей была допущена опечатка. Поэтому заменим значения `20` на `2`, а значения `-1` на `1`."
   ]
  },
  {
   "cell_type": "code",
   "execution_count": 15,
   "id": "c3c53d5a",
   "metadata": {},
   "outputs": [
    {
     "data": {
      "text/plain": [
       "0    14149\n",
       "1     4865\n",
       "2     2131\n",
       "3      330\n",
       "4       41\n",
       "5        9\n",
       "Name: children, dtype: int64"
      ]
     },
     "execution_count": 15,
     "metadata": {},
     "output_type": "execute_result"
    }
   ],
   "source": [
    "#Меняем значения 20 и -1 в столбце children на 2 и 1 соответственно\n",
    "stat.loc[stat['children']==20, 'children'] = 2\n",
    "stat.loc[stat['children']==-1, 'children'] = 1\n",
    "#Проверяем, что значения заменились\n",
    "stat['children'].value_counts()"
   ]
  },
  {
   "cell_type": "markdown",
   "id": "47586b8f",
   "metadata": {},
   "source": [
    "Перейдем к выявлению аномалий в столбце `family_status`. Также необходимо проверить, что нет аномалий в связанном с ним столбце `family_status_id`"
   ]
  },
  {
   "cell_type": "code",
   "execution_count": 16,
   "id": "488d407e",
   "metadata": {},
   "outputs": [
    {
     "data": {
      "text/plain": [
       "женат / замужем          12380\n",
       "гражданский брак          4177\n",
       "Не женат / не замужем     2813\n",
       "в разводе                 1195\n",
       "вдовец / вдова             960\n",
       "Name: family_status, dtype: int64"
      ]
     },
     "execution_count": 16,
     "metadata": {},
     "output_type": "execute_result"
    }
   ],
   "source": [
    "stat['family_status'].value_counts()"
   ]
  },
  {
   "cell_type": "code",
   "execution_count": 17,
   "id": "43059df3",
   "metadata": {},
   "outputs": [
    {
     "data": {
      "text/plain": [
       "0    12380\n",
       "1     4177\n",
       "4     2813\n",
       "3     1195\n",
       "2      960\n",
       "Name: family_status_id, dtype: int64"
      ]
     },
     "execution_count": 17,
     "metadata": {},
     "output_type": "execute_result"
    }
   ],
   "source": [
    "stat['family_status_id'].value_counts()"
   ]
  },
  {
   "cell_type": "markdown",
   "id": "64ded929",
   "metadata": {},
   "source": [
    "Пять типов значений в столбце `family_status` и пять значений в `family_status_id`. Никаких аномалий не обнаружено. Очередь за столбцом `debt` - проверим, там должны быть только нули и единицы."
   ]
  },
  {
   "cell_type": "code",
   "execution_count": 18,
   "id": "29efe418",
   "metadata": {},
   "outputs": [
    {
     "data": {
      "text/plain": [
       "0    19784\n",
       "1     1741\n",
       "Name: debt, dtype: int64"
      ]
     },
     "execution_count": 18,
     "metadata": {},
     "output_type": "execute_result"
    }
   ],
   "source": [
    "stat['debt'].value_counts()"
   ]
  },
  {
   "cell_type": "markdown",
   "id": "6c16fa27",
   "metadata": {},
   "source": [
    "Действительно, в столбце `debt` только нули и единицы. Остался только `purpose`."
   ]
  },
  {
   "cell_type": "code",
   "execution_count": 19,
   "id": "f89f92e7",
   "metadata": {},
   "outputs": [
    {
     "data": {
      "text/plain": [
       "свадьба                                   797\n",
       "на проведение свадьбы                     777\n",
       "сыграть свадьбу                           774\n",
       "операции с недвижимостью                  676\n",
       "покупка коммерческой недвижимости         664\n",
       "покупка жилья для сдачи                   653\n",
       "операции с жильем                         653\n",
       "операции с коммерческой недвижимостью     651\n",
       "покупка жилья                             647\n",
       "жилье                                     647\n",
       "покупка жилья для семьи                   641\n",
       "строительство собственной недвижимости    635\n",
       "недвижимость                              634\n",
       "операции со своей недвижимостью           630\n",
       "строительство жилой недвижимости          626\n",
       "покупка недвижимости                      624\n",
       "строительство недвижимости                620\n",
       "покупка своего жилья                      620\n",
       "ремонт жилью                              612\n",
       "покупка жилой недвижимости                607\n",
       "на покупку своего автомобиля              505\n",
       "заняться высшим образованием              496\n",
       "автомобиль                                495\n",
       "сделка с подержанным автомобилем          489\n",
       "свой автомобиль                           480\n",
       "на покупку подержанного автомобиля        479\n",
       "автомобили                                478\n",
       "на покупку автомобиля                     472\n",
       "дополнительное образование                462\n",
       "приобретение автомобиля                   462\n",
       "сделка с автомобилем                      455\n",
       "высшее образование                        453\n",
       "образование                               447\n",
       "получение дополнительного образования     447\n",
       "получение образования                     443\n",
       "профильное образование                    436\n",
       "получение высшего образования             426\n",
       "заняться образованием                     412\n",
       "Name: purpose, dtype: int64"
      ]
     },
     "execution_count": 19,
     "metadata": {},
     "output_type": "execute_result"
    }
   ],
   "source": [
    "stat['purpose'].value_counts()"
   ]
  },
  {
   "cell_type": "markdown",
   "id": "4c0f3a3b",
   "metadata": {},
   "source": [
    "В столбце `purpose` много разных значений, но все они не аномальны. Для большего удобства в представлении данных лучше разделить значения этого столбца на разные категории. Из уникальных значений можно выделить следующие категории:\n",
    "* операции с автомобилем;\n",
    "* операции с недвижимостью;\n",
    "* проведение свадьбы;\n",
    "* получение образования.\n",
    "\n",
    "Займемся категорированием этого столбца позднее."
   ]
  },
  {
   "cell_type": "markdown",
   "id": "8bbd03d8",
   "metadata": {},
   "source": [
    "### Изменение типов данных"
   ]
  },
  {
   "cell_type": "markdown",
   "id": "af8c3bb2",
   "metadata": {},
   "source": [
    "Во всех колонках типы данных соответствуют содержащимся там значениям, кроме колонки `total_income`. Удобнее оперировать доходом, опираясь на целочисленные значения. Поэтому приведем значения в этом столбце к типу `int`. "
   ]
  },
  {
   "cell_type": "code",
   "execution_count": 20,
   "id": "bc1aab93",
   "metadata": {},
   "outputs": [
    {
     "name": "stdout",
     "output_type": "stream",
     "text": [
      "<class 'pandas.core.frame.DataFrame'>\n",
      "RangeIndex: 21525 entries, 0 to 21524\n",
      "Data columns (total 11 columns):\n",
      " #   Column            Non-Null Count  Dtype \n",
      "---  ------            --------------  ----- \n",
      " 0   children          21525 non-null  int64 \n",
      " 1   dob_years         21525 non-null  int64 \n",
      " 2   education         21525 non-null  object\n",
      " 3   education_id      21525 non-null  int64 \n",
      " 4   family_status     21525 non-null  object\n",
      " 5   family_status_id  21525 non-null  int64 \n",
      " 6   gender            21525 non-null  object\n",
      " 7   income_type       21525 non-null  object\n",
      " 8   debt              21525 non-null  int64 \n",
      " 9   total_income      21525 non-null  int32 \n",
      " 10  purpose           21525 non-null  object\n",
      "dtypes: int32(1), int64(5), object(5)\n",
      "memory usage: 1.7+ MB\n"
     ]
    }
   ],
   "source": [
    "#Т.к. мы знаем, что все значения в столбце float, а пропусков нет, воспользуемся astype()\n",
    "stat['total_income'] = stat['total_income'].astype('int')\n",
    "#Проверим тип в столбце\n",
    "stat.info()"
   ]
  },
  {
   "cell_type": "markdown",
   "id": "f6755c6a",
   "metadata": {},
   "source": [
    "Тип данных изменен: у всех значений в столбце `total_income` тип `int`."
   ]
  },
  {
   "cell_type": "markdown",
   "id": "e2291279",
   "metadata": {},
   "source": [
    "### Удаление дубликатов"
   ]
  },
  {
   "cell_type": "markdown",
   "id": "9c6a52b7",
   "metadata": {},
   "source": [
    "Из просмотра верхних строк датафрейма помним, что в колонке `education` существовали неявные дубликаты. Устраним их, приведя все значения в этом столбце к нижнему регистру."
   ]
  },
  {
   "cell_type": "code",
   "execution_count": 21,
   "id": "921b66f8",
   "metadata": {},
   "outputs": [
    {
     "data": {
      "text/plain": [
       "array(['высшее', 'среднее', 'неоконченное высшее', 'начальное',\n",
       "       'ученая степень'], dtype=object)"
      ]
     },
     "execution_count": 21,
     "metadata": {},
     "output_type": "execute_result"
    }
   ],
   "source": [
    "#Присвоим всем значениям в столбце education аналогичные значения, только в нижнем регистре\n",
    "stat['education'] = stat['education'].str.lower()\n",
    "#Проверим уникальные значения в столбце\n",
    "stat['education'].unique()"
   ]
  },
  {
   "cell_type": "markdown",
   "id": "739b066e",
   "metadata": {},
   "source": [
    "Неявные дубликаты в столбце `education` устранены. Остальные значащие в исследовании колонки мы проверяли ранее, неявных дубликатов обнаружено не было.  \n",
    "Посмотрим, есть ли явные дубликаты, и удалим их при наличии."
   ]
  },
  {
   "cell_type": "code",
   "execution_count": 22,
   "id": "c0ffbe66",
   "metadata": {},
   "outputs": [
    {
     "data": {
      "text/plain": [
       "71"
      ]
     },
     "execution_count": 22,
     "metadata": {},
     "output_type": "execute_result"
    }
   ],
   "source": [
    "#Проверим есть ли явные дубликаты и сколько их\n",
    "stat.duplicated().sum()"
   ]
  },
  {
   "cell_type": "code",
   "execution_count": 23,
   "id": "7f15bbaf",
   "metadata": {},
   "outputs": [
    {
     "data": {
      "text/plain": [
       "0"
      ]
     },
     "execution_count": 23,
     "metadata": {},
     "output_type": "execute_result"
    }
   ],
   "source": [
    "#Удалим явные строки-дубликаты, обновив индексы в фрейме и удалив старые\n",
    "stat = stat.drop_duplicates().reset_index(drop=True)\n",
    "#Проверим, удалились ли дубликаты, посчитав их\n",
    "stat.duplicated().sum()"
   ]
  },
  {
   "cell_type": "markdown",
   "id": "ae893e93",
   "metadata": {},
   "source": [
    "Дубликаты удалены. Для их поиска и удаления использовались методы библиотеки `pandas` - `duplicated()` и `drop_duplicates()` в связке со стандартным методом `sum()` и методом из `pandas` - `reset_index()`.  \n",
    "\n",
    "Наличие дубликатов, возможно, связано с ошибкой выгрузки. Также, возможно, все дублирующиеся заемщики обслуживались в одном банке, и в базе данных этого банка произошла ошибка, в результате которых данные о заемщиках продублировались."
   ]
  },
  {
   "cell_type": "markdown",
   "id": "f8a2f190",
   "metadata": {},
   "source": [
    "### Формирование дополнительных датафреймов словарей, декомпозиция исходного датафрейма"
   ]
  },
  {
   "cell_type": "markdown",
   "id": "8a6968ff",
   "metadata": {},
   "source": [
    "Для удобства обработки фрейма и будущего построения сводных таблиц, проведем декомпозицию исходного датафрейма:\n",
    "* сформируем дополнительные датафреймы словарей для столбцов `education` и `family_status`;\n",
    "* удалим столбцы из исходного фрейма, для которых есть словарь."
   ]
  },
  {
   "cell_type": "code",
   "execution_count": 24,
   "id": "95393a83",
   "metadata": {},
   "outputs": [
    {
     "data": {
      "text/html": [
       "<div>\n",
       "<style scoped>\n",
       "    .dataframe tbody tr th:only-of-type {\n",
       "        vertical-align: middle;\n",
       "    }\n",
       "\n",
       "    .dataframe tbody tr th {\n",
       "        vertical-align: top;\n",
       "    }\n",
       "\n",
       "    .dataframe thead th {\n",
       "        text-align: right;\n",
       "    }\n",
       "</style>\n",
       "<table border=\"1\" class=\"dataframe\">\n",
       "  <thead>\n",
       "    <tr style=\"text-align: right;\">\n",
       "      <th></th>\n",
       "      <th>education</th>\n",
       "      <th>education_id</th>\n",
       "    </tr>\n",
       "  </thead>\n",
       "  <tbody>\n",
       "    <tr>\n",
       "      <th>0</th>\n",
       "      <td>высшее</td>\n",
       "      <td>0</td>\n",
       "    </tr>\n",
       "    <tr>\n",
       "      <th>1</th>\n",
       "      <td>среднее</td>\n",
       "      <td>1</td>\n",
       "    </tr>\n",
       "    <tr>\n",
       "      <th>2</th>\n",
       "      <td>неоконченное высшее</td>\n",
       "      <td>2</td>\n",
       "    </tr>\n",
       "    <tr>\n",
       "      <th>3</th>\n",
       "      <td>начальное</td>\n",
       "      <td>3</td>\n",
       "    </tr>\n",
       "    <tr>\n",
       "      <th>4</th>\n",
       "      <td>ученая степень</td>\n",
       "      <td>4</td>\n",
       "    </tr>\n",
       "  </tbody>\n",
       "</table>\n",
       "</div>"
      ],
      "text/plain": [
       "             education  education_id\n",
       "0               высшее             0\n",
       "1              среднее             1\n",
       "2  неоконченное высшее             2\n",
       "3            начальное             3\n",
       "4       ученая степень             4"
      ]
     },
     "execution_count": 24,
     "metadata": {},
     "output_type": "execute_result"
    }
   ],
   "source": [
    "#Создадим новую таблицу из исходного фрейма, в которой каждому уникальному значению из education\n",
    "#соответствует уникальное значение из education_id\n",
    "education_dict = stat[['education', 'education_id']].drop_duplicates().reset_index(drop=True)\n",
    "#Проверим созданную таблицу\n",
    "education_dict"
   ]
  },
  {
   "cell_type": "code",
   "execution_count": 25,
   "id": "c3368307",
   "metadata": {},
   "outputs": [
    {
     "data": {
      "text/html": [
       "<div>\n",
       "<style scoped>\n",
       "    .dataframe tbody tr th:only-of-type {\n",
       "        vertical-align: middle;\n",
       "    }\n",
       "\n",
       "    .dataframe tbody tr th {\n",
       "        vertical-align: top;\n",
       "    }\n",
       "\n",
       "    .dataframe thead th {\n",
       "        text-align: right;\n",
       "    }\n",
       "</style>\n",
       "<table border=\"1\" class=\"dataframe\">\n",
       "  <thead>\n",
       "    <tr style=\"text-align: right;\">\n",
       "      <th></th>\n",
       "      <th>family_status</th>\n",
       "      <th>family_status_id</th>\n",
       "    </tr>\n",
       "  </thead>\n",
       "  <tbody>\n",
       "    <tr>\n",
       "      <th>0</th>\n",
       "      <td>женат / замужем</td>\n",
       "      <td>0</td>\n",
       "    </tr>\n",
       "    <tr>\n",
       "      <th>1</th>\n",
       "      <td>гражданский брак</td>\n",
       "      <td>1</td>\n",
       "    </tr>\n",
       "    <tr>\n",
       "      <th>2</th>\n",
       "      <td>вдовец / вдова</td>\n",
       "      <td>2</td>\n",
       "    </tr>\n",
       "    <tr>\n",
       "      <th>3</th>\n",
       "      <td>в разводе</td>\n",
       "      <td>3</td>\n",
       "    </tr>\n",
       "    <tr>\n",
       "      <th>4</th>\n",
       "      <td>Не женат / не замужем</td>\n",
       "      <td>4</td>\n",
       "    </tr>\n",
       "  </tbody>\n",
       "</table>\n",
       "</div>"
      ],
      "text/plain": [
       "           family_status  family_status_id\n",
       "0        женат / замужем                 0\n",
       "1       гражданский брак                 1\n",
       "2         вдовец / вдова                 2\n",
       "3              в разводе                 3\n",
       "4  Не женат / не замужем                 4"
      ]
     },
     "execution_count": 25,
     "metadata": {},
     "output_type": "execute_result"
    }
   ],
   "source": [
    "#Создадим новую таблицу из исходного фрейма, в которой каждому уникальному значению из family_status\n",
    "#соответствует уникальное значение из family_status_id\n",
    "family_status_dict = stat[['family_status', 'family_status_id']].drop_duplicates().reset_index(drop=True)\n",
    "#Проверим созданную таблицу\n",
    "family_status_dict"
   ]
  },
  {
   "cell_type": "code",
   "execution_count": 26,
   "id": "a92e2ab1",
   "metadata": {},
   "outputs": [
    {
     "data": {
      "text/plain": [
       "Index(['children', 'dob_years', 'education_id', 'family_status_id', 'gender',\n",
       "       'income_type', 'debt', 'total_income', 'purpose'],\n",
       "      dtype='object')"
      ]
     },
     "execution_count": 26,
     "metadata": {},
     "output_type": "execute_result"
    }
   ],
   "source": [
    "#Удалим столбцы, для которых сформировали словари (education и family_status) из исходного фрейма\n",
    "stat = stat.drop(columns=['education', 'family_status'])\n",
    "#Проверим, что столбцы удалились\n",
    "stat.columns"
   ]
  },
  {
   "cell_type": "markdown",
   "id": "fa1895e9",
   "metadata": {},
   "source": [
    "Мы удалили лишние столбцы из исходного датафрейма. Теперь в фрейме нет излишней информации, дубликатов, для столбцов с идентификаторами есть таблицы-словари. Можно приступать к категорированию."
   ]
  },
  {
   "cell_type": "markdown",
   "id": "0350a992",
   "metadata": {},
   "source": [
    "### Категоризация дохода"
   ]
  },
  {
   "cell_type": "markdown",
   "id": "df7f1a57",
   "metadata": {},
   "source": [
    "Разделим замещиков на категории согласно их доходу:\n",
    "* 0–30000 — 'E';\n",
    "* 30001–50000 — 'D';\n",
    "* 50001–200000 — 'C';\n",
    "* 200001–1000000 — 'B';\n",
    "* 1000001 и выше — 'A'.\n",
    "\n",
    "Для записи категории заемщика по доходу создадим новый столбец во фрейме `total_income_category`."
   ]
  },
  {
   "cell_type": "code",
   "execution_count": 27,
   "id": "50b4cb6d",
   "metadata": {},
   "outputs": [
    {
     "data": {
      "text/plain": [
       "0    None\n",
       "1    None\n",
       "2       E\n",
       "3       E\n",
       "4       E\n",
       "5       D\n",
       "6       C\n",
       "7       B\n",
       "8       A\n",
       "dtype: object"
      ]
     },
     "execution_count": 27,
     "metadata": {},
     "output_type": "execute_result"
    }
   ],
   "source": [
    "#Создадим функцию для категоризации дохода по указанным выше параметрам\n",
    "def group_income(income):\n",
    "    if 0<income<=30000: return 'E'\n",
    "    elif 30000<income<=50000: return 'D'\n",
    "    elif 50000<income<=200000: return 'C'\n",
    "    elif 200000<income<=1000000: return 'B'\n",
    "    elif income>1000000: return 'A'\n",
    "#Если ни в один диапазон доход не попадает, функция вернет None по умолчанию. \n",
    "#Проверим, что функция работает правильно.\n",
    "#Создадим тестовую колонку.\n",
    "test_series = pd.Series(data=[-1, 0, 20, 3000, 30000, 32000, 100000, 344552, 1450000])\n",
    "#Применим к ней функцию.\n",
    "test_series.apply(group_income)"
   ]
  },
  {
   "cell_type": "code",
   "execution_count": 28,
   "id": "d9b95ef3",
   "metadata": {},
   "outputs": [
    {
     "data": {
      "text/html": [
       "<div>\n",
       "<style scoped>\n",
       "    .dataframe tbody tr th:only-of-type {\n",
       "        vertical-align: middle;\n",
       "    }\n",
       "\n",
       "    .dataframe tbody tr th {\n",
       "        vertical-align: top;\n",
       "    }\n",
       "\n",
       "    .dataframe thead th {\n",
       "        text-align: right;\n",
       "    }\n",
       "</style>\n",
       "<table border=\"1\" class=\"dataframe\">\n",
       "  <thead>\n",
       "    <tr style=\"text-align: right;\">\n",
       "      <th></th>\n",
       "      <th>children</th>\n",
       "      <th>dob_years</th>\n",
       "      <th>education_id</th>\n",
       "      <th>family_status_id</th>\n",
       "      <th>gender</th>\n",
       "      <th>income_type</th>\n",
       "      <th>debt</th>\n",
       "      <th>total_income</th>\n",
       "      <th>purpose</th>\n",
       "      <th>total_income_category</th>\n",
       "    </tr>\n",
       "  </thead>\n",
       "  <tbody>\n",
       "    <tr>\n",
       "      <th>0</th>\n",
       "      <td>1</td>\n",
       "      <td>42</td>\n",
       "      <td>0</td>\n",
       "      <td>0</td>\n",
       "      <td>F</td>\n",
       "      <td>сотрудник</td>\n",
       "      <td>0</td>\n",
       "      <td>253875</td>\n",
       "      <td>покупка жилья</td>\n",
       "      <td>B</td>\n",
       "    </tr>\n",
       "    <tr>\n",
       "      <th>1</th>\n",
       "      <td>1</td>\n",
       "      <td>36</td>\n",
       "      <td>1</td>\n",
       "      <td>0</td>\n",
       "      <td>F</td>\n",
       "      <td>сотрудник</td>\n",
       "      <td>0</td>\n",
       "      <td>112080</td>\n",
       "      <td>приобретение автомобиля</td>\n",
       "      <td>C</td>\n",
       "    </tr>\n",
       "    <tr>\n",
       "      <th>2</th>\n",
       "      <td>0</td>\n",
       "      <td>33</td>\n",
       "      <td>1</td>\n",
       "      <td>0</td>\n",
       "      <td>M</td>\n",
       "      <td>сотрудник</td>\n",
       "      <td>0</td>\n",
       "      <td>145885</td>\n",
       "      <td>покупка жилья</td>\n",
       "      <td>C</td>\n",
       "    </tr>\n",
       "    <tr>\n",
       "      <th>3</th>\n",
       "      <td>3</td>\n",
       "      <td>32</td>\n",
       "      <td>1</td>\n",
       "      <td>0</td>\n",
       "      <td>M</td>\n",
       "      <td>сотрудник</td>\n",
       "      <td>0</td>\n",
       "      <td>267628</td>\n",
       "      <td>дополнительное образование</td>\n",
       "      <td>B</td>\n",
       "    </tr>\n",
       "    <tr>\n",
       "      <th>4</th>\n",
       "      <td>0</td>\n",
       "      <td>53</td>\n",
       "      <td>1</td>\n",
       "      <td>1</td>\n",
       "      <td>F</td>\n",
       "      <td>пенсионер</td>\n",
       "      <td>0</td>\n",
       "      <td>158616</td>\n",
       "      <td>сыграть свадьбу</td>\n",
       "      <td>C</td>\n",
       "    </tr>\n",
       "  </tbody>\n",
       "</table>\n",
       "</div>"
      ],
      "text/plain": [
       "   children  dob_years  education_id  family_status_id gender income_type  \\\n",
       "0         1         42             0                 0      F   сотрудник   \n",
       "1         1         36             1                 0      F   сотрудник   \n",
       "2         0         33             1                 0      M   сотрудник   \n",
       "3         3         32             1                 0      M   сотрудник   \n",
       "4         0         53             1                 1      F   пенсионер   \n",
       "\n",
       "   debt  total_income                     purpose total_income_category  \n",
       "0     0        253875               покупка жилья                     B  \n",
       "1     0        112080     приобретение автомобиля                     C  \n",
       "2     0        145885               покупка жилья                     C  \n",
       "3     0        267628  дополнительное образование                     B  \n",
       "4     0        158616             сыграть свадьбу                     C  "
      ]
     },
     "execution_count": 28,
     "metadata": {},
     "output_type": "execute_result"
    }
   ],
   "source": [
    "#Применим созданную функцию к столбцу total_income.\n",
    "#Категории, которые возвращает функция запишем в новый столбец total_income_category\n",
    "stat['total_income_category'] = stat['total_income'].apply(group_income)\n",
    "#Проверим, что новый столбец создан и категории соответствуют значениям\n",
    "stat[:5]"
   ]
  },
  {
   "cell_type": "code",
   "execution_count": 29,
   "id": "df3bcbbc",
   "metadata": {},
   "outputs": [
    {
     "data": {
      "text/plain": [
       "array(['B', 'C', 'D', 'E', 'A'], dtype=object)"
      ]
     },
     "execution_count": 29,
     "metadata": {},
     "output_type": "execute_result"
    }
   ],
   "source": [
    "#Проверим, что в колонке total_income_category нет пропусков, посмотрев уникальные значения\n",
    "stat['total_income_category'].unique()"
   ]
  },
  {
   "cell_type": "markdown",
   "id": "3e0a332c",
   "metadata": {},
   "source": [
    "Доходы заемщиков категоризированы. Теперь можно наглядно показывать зависимость возрата кредита от категории дохода.  \n",
    "Создадим словарь для категорий дохода, а столбец с доходами из исходного фрейма удалим."
   ]
  },
  {
   "cell_type": "code",
   "execution_count": 30,
   "id": "0b8677a3",
   "metadata": {},
   "outputs": [
    {
     "data": {
      "text/html": [
       "<div>\n",
       "<style scoped>\n",
       "    .dataframe tbody tr th:only-of-type {\n",
       "        vertical-align: middle;\n",
       "    }\n",
       "\n",
       "    .dataframe tbody tr th {\n",
       "        vertical-align: top;\n",
       "    }\n",
       "\n",
       "    .dataframe thead th {\n",
       "        text-align: right;\n",
       "    }\n",
       "</style>\n",
       "<table border=\"1\" class=\"dataframe\">\n",
       "  <thead>\n",
       "    <tr style=\"text-align: right;\">\n",
       "      <th></th>\n",
       "      <th>total_income</th>\n",
       "      <th>total_income_category</th>\n",
       "    </tr>\n",
       "  </thead>\n",
       "  <tbody>\n",
       "    <tr>\n",
       "      <th>0</th>\n",
       "      <td>0-30000</td>\n",
       "      <td>E</td>\n",
       "    </tr>\n",
       "    <tr>\n",
       "      <th>1</th>\n",
       "      <td>30001–50000</td>\n",
       "      <td>D</td>\n",
       "    </tr>\n",
       "    <tr>\n",
       "      <th>2</th>\n",
       "      <td>50001–200000</td>\n",
       "      <td>C</td>\n",
       "    </tr>\n",
       "    <tr>\n",
       "      <th>3</th>\n",
       "      <td>200001–1000000</td>\n",
       "      <td>B</td>\n",
       "    </tr>\n",
       "    <tr>\n",
       "      <th>4</th>\n",
       "      <td>1000001 и выше</td>\n",
       "      <td>A</td>\n",
       "    </tr>\n",
       "  </tbody>\n",
       "</table>\n",
       "</div>"
      ],
      "text/plain": [
       "     total_income total_income_category\n",
       "0         0-30000                     E\n",
       "1     30001–50000                     D\n",
       "2    50001–200000                     C\n",
       "3  200001–1000000                     B\n",
       "4  1000001 и выше                     A"
      ]
     },
     "execution_count": 30,
     "metadata": {},
     "output_type": "execute_result"
    }
   ],
   "source": [
    "#Создаем таблицу-словарь для категорий доходов\n",
    "total_income_dict = pd.DataFrame(\n",
    "    data=[['0-30000', 'E'],\n",
    "          ['30001–50000', 'D'],\n",
    "          ['50001–200000', 'C'],\n",
    "          ['200001–1000000', 'B'],\n",
    "          ['1000001 и выше', 'A']],\n",
    "    columns=['total_income', 'total_income_category'])\n",
    "#Проверим создание таблицы-словаря\n",
    "total_income_dict"
   ]
  },
  {
   "cell_type": "code",
   "execution_count": 31,
   "id": "f97c9e39",
   "metadata": {},
   "outputs": [
    {
     "data": {
      "text/plain": [
       "Index(['children', 'dob_years', 'education_id', 'family_status_id', 'gender',\n",
       "       'income_type', 'debt', 'purpose', 'total_income_category'],\n",
       "      dtype='object')"
      ]
     },
     "execution_count": 31,
     "metadata": {},
     "output_type": "execute_result"
    }
   ],
   "source": [
    "#Удалим столбец 'total_income' из исходного фрейма\n",
    "stat = stat.drop(columns='total_income')\n",
    "#Проверим, что столбцы удалились\n",
    "stat.columns"
   ]
  },
  {
   "cell_type": "markdown",
   "id": "c758aa15",
   "metadata": {},
   "source": [
    "### Категоризация целей кредита"
   ]
  },
  {
   "cell_type": "markdown",
   "id": "5f114e8b",
   "metadata": {},
   "source": [
    "Разделим замещиков на категории согласно их целям кредита:\n",
    "* операции с автомобилем;\n",
    "* операции с недвижимостью;\n",
    "* проведение свадьбы;\n",
    "* получение образования.\n",
    "\n",
    "Для выяснения по каким подстрокам относить цели к той или иной категории методом `unique()` определим уникальные значения целей. После этого напишем функцию, которая в зависимости от значения в столбце `purpose` будет возвращать категорию. Для категорий создадим новый столбец `purpose_category`."
   ]
  },
  {
   "cell_type": "code",
   "execution_count": 32,
   "id": "54502223",
   "metadata": {},
   "outputs": [
    {
     "data": {
      "text/plain": [
       "array(['покупка жилья', 'приобретение автомобиля',\n",
       "       'дополнительное образование', 'сыграть свадьбу',\n",
       "       'операции с жильем', 'образование', 'на проведение свадьбы',\n",
       "       'покупка жилья для семьи', 'покупка недвижимости',\n",
       "       'покупка коммерческой недвижимости', 'покупка жилой недвижимости',\n",
       "       'строительство собственной недвижимости', 'недвижимость',\n",
       "       'строительство недвижимости', 'на покупку подержанного автомобиля',\n",
       "       'на покупку своего автомобиля',\n",
       "       'операции с коммерческой недвижимостью',\n",
       "       'строительство жилой недвижимости', 'жилье',\n",
       "       'операции со своей недвижимостью', 'автомобили',\n",
       "       'заняться образованием', 'сделка с подержанным автомобилем',\n",
       "       'получение образования', 'автомобиль', 'свадьба',\n",
       "       'получение дополнительного образования', 'покупка своего жилья',\n",
       "       'операции с недвижимостью', 'получение высшего образования',\n",
       "       'свой автомобиль', 'сделка с автомобилем',\n",
       "       'профильное образование', 'высшее образование',\n",
       "       'покупка жилья для сдачи', 'на покупку автомобиля', 'ремонт жилью',\n",
       "       'заняться высшим образованием'], dtype=object)"
      ]
     },
     "execution_count": 32,
     "metadata": {},
     "output_type": "execute_result"
    }
   ],
   "source": [
    "#Проверим уникальные значения в столбце purpose\n",
    "stat['purpose'].unique()"
   ]
  },
  {
   "cell_type": "code",
   "execution_count": 33,
   "id": "530383ae",
   "metadata": {},
   "outputs": [
    {
     "data": {
      "text/plain": [
       "0                   unknown\n",
       "1     получение образования\n",
       "2        проведение свадьбы\n",
       "3    операции с автомобилем\n",
       "dtype: object"
      ]
     },
     "execution_count": 33,
     "metadata": {},
     "output_type": "execute_result"
    }
   ],
   "source": [
    "#Создадим функцию, которая возвращает категорию в зависимости от значения в столбце purpose\n",
    "def group_purpose(purpose):\n",
    "    if 'авто' in purpose: return 'операции с автомобилем'\n",
    "    if 'недв' in purpose or 'жил' in purpose: return 'операции с недвижимостью'\n",
    "    if 'свад' in purpose: return 'проведение свадьбы'\n",
    "    if 'образ' in purpose: return 'получение образования'\n",
    "#Если мы ошиблись с подстроками, функция будет возвращать unknown\n",
    "    return 'unknown'\n",
    "#Проверим, что функция работает правильно.\n",
    "#Создадим тестовую колонку.\n",
    "test_series = pd.Series(data=['покупка', 'образование', 'свадьба в малиновке', 'ааааавтомобиль'])\n",
    "#Применим к ней функцию.\n",
    "test_series.apply(group_purpose)"
   ]
  },
  {
   "cell_type": "code",
   "execution_count": 34,
   "id": "70299b59",
   "metadata": {},
   "outputs": [
    {
     "data": {
      "text/html": [
       "<div>\n",
       "<style scoped>\n",
       "    .dataframe tbody tr th:only-of-type {\n",
       "        vertical-align: middle;\n",
       "    }\n",
       "\n",
       "    .dataframe tbody tr th {\n",
       "        vertical-align: top;\n",
       "    }\n",
       "\n",
       "    .dataframe thead th {\n",
       "        text-align: right;\n",
       "    }\n",
       "</style>\n",
       "<table border=\"1\" class=\"dataframe\">\n",
       "  <thead>\n",
       "    <tr style=\"text-align: right;\">\n",
       "      <th></th>\n",
       "      <th>children</th>\n",
       "      <th>dob_years</th>\n",
       "      <th>education_id</th>\n",
       "      <th>family_status_id</th>\n",
       "      <th>gender</th>\n",
       "      <th>income_type</th>\n",
       "      <th>debt</th>\n",
       "      <th>purpose</th>\n",
       "      <th>total_income_category</th>\n",
       "      <th>purpose_category</th>\n",
       "    </tr>\n",
       "  </thead>\n",
       "  <tbody>\n",
       "    <tr>\n",
       "      <th>0</th>\n",
       "      <td>1</td>\n",
       "      <td>42</td>\n",
       "      <td>0</td>\n",
       "      <td>0</td>\n",
       "      <td>F</td>\n",
       "      <td>сотрудник</td>\n",
       "      <td>0</td>\n",
       "      <td>покупка жилья</td>\n",
       "      <td>B</td>\n",
       "      <td>операции с недвижимостью</td>\n",
       "    </tr>\n",
       "    <tr>\n",
       "      <th>1</th>\n",
       "      <td>1</td>\n",
       "      <td>36</td>\n",
       "      <td>1</td>\n",
       "      <td>0</td>\n",
       "      <td>F</td>\n",
       "      <td>сотрудник</td>\n",
       "      <td>0</td>\n",
       "      <td>приобретение автомобиля</td>\n",
       "      <td>C</td>\n",
       "      <td>операции с автомобилем</td>\n",
       "    </tr>\n",
       "    <tr>\n",
       "      <th>2</th>\n",
       "      <td>0</td>\n",
       "      <td>33</td>\n",
       "      <td>1</td>\n",
       "      <td>0</td>\n",
       "      <td>M</td>\n",
       "      <td>сотрудник</td>\n",
       "      <td>0</td>\n",
       "      <td>покупка жилья</td>\n",
       "      <td>C</td>\n",
       "      <td>операции с недвижимостью</td>\n",
       "    </tr>\n",
       "    <tr>\n",
       "      <th>3</th>\n",
       "      <td>3</td>\n",
       "      <td>32</td>\n",
       "      <td>1</td>\n",
       "      <td>0</td>\n",
       "      <td>M</td>\n",
       "      <td>сотрудник</td>\n",
       "      <td>0</td>\n",
       "      <td>дополнительное образование</td>\n",
       "      <td>B</td>\n",
       "      <td>получение образования</td>\n",
       "    </tr>\n",
       "    <tr>\n",
       "      <th>4</th>\n",
       "      <td>0</td>\n",
       "      <td>53</td>\n",
       "      <td>1</td>\n",
       "      <td>1</td>\n",
       "      <td>F</td>\n",
       "      <td>пенсионер</td>\n",
       "      <td>0</td>\n",
       "      <td>сыграть свадьбу</td>\n",
       "      <td>C</td>\n",
       "      <td>проведение свадьбы</td>\n",
       "    </tr>\n",
       "  </tbody>\n",
       "</table>\n",
       "</div>"
      ],
      "text/plain": [
       "   children  dob_years  education_id  family_status_id gender income_type  \\\n",
       "0         1         42             0                 0      F   сотрудник   \n",
       "1         1         36             1                 0      F   сотрудник   \n",
       "2         0         33             1                 0      M   сотрудник   \n",
       "3         3         32             1                 0      M   сотрудник   \n",
       "4         0         53             1                 1      F   пенсионер   \n",
       "\n",
       "   debt                     purpose total_income_category  \\\n",
       "0     0               покупка жилья                     B   \n",
       "1     0     приобретение автомобиля                     C   \n",
       "2     0               покупка жилья                     C   \n",
       "3     0  дополнительное образование                     B   \n",
       "4     0             сыграть свадьбу                     C   \n",
       "\n",
       "           purpose_category  \n",
       "0  операции с недвижимостью  \n",
       "1    операции с автомобилем  \n",
       "2  операции с недвижимостью  \n",
       "3     получение образования  \n",
       "4        проведение свадьбы  "
      ]
     },
     "execution_count": 34,
     "metadata": {},
     "output_type": "execute_result"
    }
   ],
   "source": [
    "#Создадим новый столбец с категориями, присвоим ему значения, которое возвращает функция group_purpose\n",
    "stat['purpose_category'] = stat['purpose'].apply(group_purpose)\n",
    "#Проверим создание столбца, его значения\n",
    "stat[:5]"
   ]
  },
  {
   "cell_type": "code",
   "execution_count": 35,
   "id": "6597882c",
   "metadata": {},
   "outputs": [
    {
     "data": {
      "text/plain": [
       "array(['операции с недвижимостью', 'операции с автомобилем',\n",
       "       'получение образования', 'проведение свадьбы'], dtype=object)"
      ]
     },
     "execution_count": 35,
     "metadata": {},
     "output_type": "execute_result"
    }
   ],
   "source": [
    "#Проверим столбец purpose_category на пропуски (есть ли в уникальных unknown)\n",
    "stat['purpose_category'].unique()"
   ]
  },
  {
   "cell_type": "markdown",
   "id": "707ea56f",
   "metadata": {},
   "source": [
    "Цели заемщиков категоризированы. Теперь можно наглядно показывать зависимость возрата кредита от категории цели.  \n",
    "Создадим словарь для категорий целей, а столбец с целями из исходного фрейма удалим."
   ]
  },
  {
   "cell_type": "code",
   "execution_count": 36,
   "id": "9d25a72d",
   "metadata": {
    "scrolled": false
   },
   "outputs": [
    {
     "data": {
      "text/html": [
       "<div>\n",
       "<style scoped>\n",
       "    .dataframe tbody tr th:only-of-type {\n",
       "        vertical-align: middle;\n",
       "    }\n",
       "\n",
       "    .dataframe tbody tr th {\n",
       "        vertical-align: top;\n",
       "    }\n",
       "\n",
       "    .dataframe thead th {\n",
       "        text-align: right;\n",
       "    }\n",
       "</style>\n",
       "<table border=\"1\" class=\"dataframe\">\n",
       "  <thead>\n",
       "    <tr style=\"text-align: right;\">\n",
       "      <th></th>\n",
       "      <th>purpose</th>\n",
       "      <th>purpose_category</th>\n",
       "    </tr>\n",
       "  </thead>\n",
       "  <tbody>\n",
       "    <tr>\n",
       "      <th>0</th>\n",
       "      <td>покупка жилья</td>\n",
       "      <td>операции с недвижимостью</td>\n",
       "    </tr>\n",
       "    <tr>\n",
       "      <th>1</th>\n",
       "      <td>приобретение автомобиля</td>\n",
       "      <td>операции с автомобилем</td>\n",
       "    </tr>\n",
       "    <tr>\n",
       "      <th>2</th>\n",
       "      <td>дополнительное образование</td>\n",
       "      <td>получение образования</td>\n",
       "    </tr>\n",
       "    <tr>\n",
       "      <th>3</th>\n",
       "      <td>сыграть свадьбу</td>\n",
       "      <td>проведение свадьбы</td>\n",
       "    </tr>\n",
       "    <tr>\n",
       "      <th>4</th>\n",
       "      <td>операции с жильем</td>\n",
       "      <td>операции с недвижимостью</td>\n",
       "    </tr>\n",
       "    <tr>\n",
       "      <th>5</th>\n",
       "      <td>образование</td>\n",
       "      <td>получение образования</td>\n",
       "    </tr>\n",
       "    <tr>\n",
       "      <th>6</th>\n",
       "      <td>на проведение свадьбы</td>\n",
       "      <td>проведение свадьбы</td>\n",
       "    </tr>\n",
       "    <tr>\n",
       "      <th>7</th>\n",
       "      <td>покупка жилья для семьи</td>\n",
       "      <td>операции с недвижимостью</td>\n",
       "    </tr>\n",
       "    <tr>\n",
       "      <th>8</th>\n",
       "      <td>покупка недвижимости</td>\n",
       "      <td>операции с недвижимостью</td>\n",
       "    </tr>\n",
       "    <tr>\n",
       "      <th>9</th>\n",
       "      <td>покупка коммерческой недвижимости</td>\n",
       "      <td>операции с недвижимостью</td>\n",
       "    </tr>\n",
       "    <tr>\n",
       "      <th>10</th>\n",
       "      <td>покупка жилой недвижимости</td>\n",
       "      <td>операции с недвижимостью</td>\n",
       "    </tr>\n",
       "    <tr>\n",
       "      <th>11</th>\n",
       "      <td>строительство собственной недвижимости</td>\n",
       "      <td>операции с недвижимостью</td>\n",
       "    </tr>\n",
       "    <tr>\n",
       "      <th>12</th>\n",
       "      <td>недвижимость</td>\n",
       "      <td>операции с недвижимостью</td>\n",
       "    </tr>\n",
       "    <tr>\n",
       "      <th>13</th>\n",
       "      <td>строительство недвижимости</td>\n",
       "      <td>операции с недвижимостью</td>\n",
       "    </tr>\n",
       "    <tr>\n",
       "      <th>14</th>\n",
       "      <td>на покупку подержанного автомобиля</td>\n",
       "      <td>операции с автомобилем</td>\n",
       "    </tr>\n",
       "    <tr>\n",
       "      <th>15</th>\n",
       "      <td>на покупку своего автомобиля</td>\n",
       "      <td>операции с автомобилем</td>\n",
       "    </tr>\n",
       "    <tr>\n",
       "      <th>16</th>\n",
       "      <td>операции с коммерческой недвижимостью</td>\n",
       "      <td>операции с недвижимостью</td>\n",
       "    </tr>\n",
       "    <tr>\n",
       "      <th>17</th>\n",
       "      <td>строительство жилой недвижимости</td>\n",
       "      <td>операции с недвижимостью</td>\n",
       "    </tr>\n",
       "    <tr>\n",
       "      <th>18</th>\n",
       "      <td>жилье</td>\n",
       "      <td>операции с недвижимостью</td>\n",
       "    </tr>\n",
       "    <tr>\n",
       "      <th>19</th>\n",
       "      <td>операции со своей недвижимостью</td>\n",
       "      <td>операции с недвижимостью</td>\n",
       "    </tr>\n",
       "    <tr>\n",
       "      <th>20</th>\n",
       "      <td>автомобили</td>\n",
       "      <td>операции с автомобилем</td>\n",
       "    </tr>\n",
       "    <tr>\n",
       "      <th>21</th>\n",
       "      <td>заняться образованием</td>\n",
       "      <td>получение образования</td>\n",
       "    </tr>\n",
       "    <tr>\n",
       "      <th>22</th>\n",
       "      <td>сделка с подержанным автомобилем</td>\n",
       "      <td>операции с автомобилем</td>\n",
       "    </tr>\n",
       "    <tr>\n",
       "      <th>23</th>\n",
       "      <td>получение образования</td>\n",
       "      <td>получение образования</td>\n",
       "    </tr>\n",
       "    <tr>\n",
       "      <th>24</th>\n",
       "      <td>автомобиль</td>\n",
       "      <td>операции с автомобилем</td>\n",
       "    </tr>\n",
       "    <tr>\n",
       "      <th>25</th>\n",
       "      <td>свадьба</td>\n",
       "      <td>проведение свадьбы</td>\n",
       "    </tr>\n",
       "    <tr>\n",
       "      <th>26</th>\n",
       "      <td>получение дополнительного образования</td>\n",
       "      <td>получение образования</td>\n",
       "    </tr>\n",
       "    <tr>\n",
       "      <th>27</th>\n",
       "      <td>покупка своего жилья</td>\n",
       "      <td>операции с недвижимостью</td>\n",
       "    </tr>\n",
       "    <tr>\n",
       "      <th>28</th>\n",
       "      <td>операции с недвижимостью</td>\n",
       "      <td>операции с недвижимостью</td>\n",
       "    </tr>\n",
       "    <tr>\n",
       "      <th>29</th>\n",
       "      <td>получение высшего образования</td>\n",
       "      <td>получение образования</td>\n",
       "    </tr>\n",
       "    <tr>\n",
       "      <th>30</th>\n",
       "      <td>свой автомобиль</td>\n",
       "      <td>операции с автомобилем</td>\n",
       "    </tr>\n",
       "    <tr>\n",
       "      <th>31</th>\n",
       "      <td>сделка с автомобилем</td>\n",
       "      <td>операции с автомобилем</td>\n",
       "    </tr>\n",
       "    <tr>\n",
       "      <th>32</th>\n",
       "      <td>профильное образование</td>\n",
       "      <td>получение образования</td>\n",
       "    </tr>\n",
       "    <tr>\n",
       "      <th>33</th>\n",
       "      <td>высшее образование</td>\n",
       "      <td>получение образования</td>\n",
       "    </tr>\n",
       "    <tr>\n",
       "      <th>34</th>\n",
       "      <td>покупка жилья для сдачи</td>\n",
       "      <td>операции с недвижимостью</td>\n",
       "    </tr>\n",
       "    <tr>\n",
       "      <th>35</th>\n",
       "      <td>на покупку автомобиля</td>\n",
       "      <td>операции с автомобилем</td>\n",
       "    </tr>\n",
       "    <tr>\n",
       "      <th>36</th>\n",
       "      <td>ремонт жилью</td>\n",
       "      <td>операции с недвижимостью</td>\n",
       "    </tr>\n",
       "    <tr>\n",
       "      <th>37</th>\n",
       "      <td>заняться высшим образованием</td>\n",
       "      <td>получение образования</td>\n",
       "    </tr>\n",
       "  </tbody>\n",
       "</table>\n",
       "</div>"
      ],
      "text/plain": [
       "                                   purpose          purpose_category\n",
       "0                            покупка жилья  операции с недвижимостью\n",
       "1                  приобретение автомобиля    операции с автомобилем\n",
       "2               дополнительное образование     получение образования\n",
       "3                          сыграть свадьбу        проведение свадьбы\n",
       "4                        операции с жильем  операции с недвижимостью\n",
       "5                              образование     получение образования\n",
       "6                    на проведение свадьбы        проведение свадьбы\n",
       "7                  покупка жилья для семьи  операции с недвижимостью\n",
       "8                     покупка недвижимости  операции с недвижимостью\n",
       "9        покупка коммерческой недвижимости  операции с недвижимостью\n",
       "10              покупка жилой недвижимости  операции с недвижимостью\n",
       "11  строительство собственной недвижимости  операции с недвижимостью\n",
       "12                            недвижимость  операции с недвижимостью\n",
       "13              строительство недвижимости  операции с недвижимостью\n",
       "14      на покупку подержанного автомобиля    операции с автомобилем\n",
       "15            на покупку своего автомобиля    операции с автомобилем\n",
       "16   операции с коммерческой недвижимостью  операции с недвижимостью\n",
       "17        строительство жилой недвижимости  операции с недвижимостью\n",
       "18                                   жилье  операции с недвижимостью\n",
       "19         операции со своей недвижимостью  операции с недвижимостью\n",
       "20                              автомобили    операции с автомобилем\n",
       "21                   заняться образованием     получение образования\n",
       "22        сделка с подержанным автомобилем    операции с автомобилем\n",
       "23                   получение образования     получение образования\n",
       "24                              автомобиль    операции с автомобилем\n",
       "25                                 свадьба        проведение свадьбы\n",
       "26   получение дополнительного образования     получение образования\n",
       "27                    покупка своего жилья  операции с недвижимостью\n",
       "28                операции с недвижимостью  операции с недвижимостью\n",
       "29           получение высшего образования     получение образования\n",
       "30                         свой автомобиль    операции с автомобилем\n",
       "31                    сделка с автомобилем    операции с автомобилем\n",
       "32                  профильное образование     получение образования\n",
       "33                      высшее образование     получение образования\n",
       "34                 покупка жилья для сдачи  операции с недвижимостью\n",
       "35                   на покупку автомобиля    операции с автомобилем\n",
       "36                            ремонт жилью  операции с недвижимостью\n",
       "37            заняться высшим образованием     получение образования"
      ]
     },
     "execution_count": 36,
     "metadata": {},
     "output_type": "execute_result"
    }
   ],
   "source": [
    "#Создаем таблицу-словарь для категорий доходов\n",
    "purpose_dict = stat[['purpose', 'purpose_category']].drop_duplicates().reset_index(drop=True)\n",
    "#Проверим создание таблицы-словаря\n",
    "purpose_dict"
   ]
  },
  {
   "cell_type": "code",
   "execution_count": 37,
   "id": "dfb5dcc3",
   "metadata": {},
   "outputs": [
    {
     "data": {
      "text/plain": [
       "Index(['children', 'dob_years', 'education_id', 'family_status_id', 'gender',\n",
       "       'income_type', 'debt', 'total_income_category', 'purpose_category'],\n",
       "      dtype='object')"
      ]
     },
     "execution_count": 37,
     "metadata": {},
     "output_type": "execute_result"
    }
   ],
   "source": [
    "#Удалим столбец 'purpose' из исходного фрейма\n",
    "stat = stat.drop(columns='purpose')\n",
    "#Проверим, что столбцы удалились\n",
    "stat.columns"
   ]
  },
  {
   "cell_type": "markdown",
   "id": "9ab4abe2",
   "metadata": {},
   "source": [
    "## Построение зависимостей"
   ]
  },
  {
   "cell_type": "markdown",
   "id": "39b2fabb",
   "metadata": {},
   "source": [
    "### Количество детей и возврат кредита в срок"
   ]
  },
  {
   "cell_type": "markdown",
   "id": "16b35759",
   "metadata": {},
   "source": [
    "Для проверки наличия зависимости между возвратом кредита и количеством детей построим сводную таблицу, применив функцию `pivot` к столбцу `children`. В таблице будет отображаться количество заемщиков, сгрупированных по количеству детей, отдавшие или нет кредит вовремя."
   ]
  },
  {
   "cell_type": "code",
   "execution_count": 38,
   "id": "c8446110",
   "metadata": {},
   "outputs": [],
   "source": [
    "# Общая функция построения сводной таблицы\n",
    "def pivot(column):\n",
    "    return (stat.pivot_table(index=column, \n",
    "                            values='debt', \n",
    "                            aggfunc=['count', 'sum', 'mean'])\n",
    "                .sort_values(by=('mean', 'debt'))\n",
    "                .rename(columns={'mean': 'доля просрочек',\n",
    "                                 'count': 'число заемщиков',\n",
    "                                 'sum': 'число просрочек'})\n",
    "                .droplevel(1, axis=1))"
   ]
  },
  {
   "cell_type": "code",
   "execution_count": 39,
   "id": "9ed94243",
   "metadata": {},
   "outputs": [
    {
     "data": {
      "text/html": [
       "<div>\n",
       "<style scoped>\n",
       "    .dataframe tbody tr th:only-of-type {\n",
       "        vertical-align: middle;\n",
       "    }\n",
       "\n",
       "    .dataframe tbody tr th {\n",
       "        vertical-align: top;\n",
       "    }\n",
       "\n",
       "    .dataframe thead th {\n",
       "        text-align: right;\n",
       "    }\n",
       "</style>\n",
       "<table border=\"1\" class=\"dataframe\">\n",
       "  <thead>\n",
       "    <tr style=\"text-align: right;\">\n",
       "      <th></th>\n",
       "      <th>число заемщиков</th>\n",
       "      <th>число просрочек</th>\n",
       "      <th>доля просрочек</th>\n",
       "    </tr>\n",
       "    <tr>\n",
       "      <th>children</th>\n",
       "      <th></th>\n",
       "      <th></th>\n",
       "      <th></th>\n",
       "    </tr>\n",
       "  </thead>\n",
       "  <tbody>\n",
       "    <tr>\n",
       "      <th>5</th>\n",
       "      <td>9</td>\n",
       "      <td>0</td>\n",
       "      <td>0.000000</td>\n",
       "    </tr>\n",
       "    <tr>\n",
       "      <th>0</th>\n",
       "      <td>14091</td>\n",
       "      <td>1063</td>\n",
       "      <td>0.075438</td>\n",
       "    </tr>\n",
       "    <tr>\n",
       "      <th>3</th>\n",
       "      <td>330</td>\n",
       "      <td>27</td>\n",
       "      <td>0.081818</td>\n",
       "    </tr>\n",
       "    <tr>\n",
       "      <th>1</th>\n",
       "      <td>4855</td>\n",
       "      <td>445</td>\n",
       "      <td>0.091658</td>\n",
       "    </tr>\n",
       "    <tr>\n",
       "      <th>2</th>\n",
       "      <td>2128</td>\n",
       "      <td>202</td>\n",
       "      <td>0.094925</td>\n",
       "    </tr>\n",
       "    <tr>\n",
       "      <th>4</th>\n",
       "      <td>41</td>\n",
       "      <td>4</td>\n",
       "      <td>0.097561</td>\n",
       "    </tr>\n",
       "  </tbody>\n",
       "</table>\n",
       "</div>"
      ],
      "text/plain": [
       "          число заемщиков  число просрочек  доля просрочек\n",
       "children                                                  \n",
       "5                       9                0        0.000000\n",
       "0                   14091             1063        0.075438\n",
       "3                     330               27        0.081818\n",
       "1                    4855              445        0.091658\n",
       "2                    2128              202        0.094925\n",
       "4                      41                4        0.097561"
      ]
     },
     "execution_count": 39,
     "metadata": {},
     "output_type": "execute_result"
    }
   ],
   "source": [
    "children = pivot('children')\n",
    "children"
   ]
  },
  {
   "cell_type": "markdown",
   "id": "b1c187a4",
   "metadata": {},
   "source": [
    "В группе заемщиков с пятью детьми всего 9 человек. И из них ни один не имел задолженностей.  \n",
    "В остальных группах заемщиков по детям процент задолженности минимален у заемщиков без детей - 7,54%.  \n",
    "Максимальный процент невозвратов в срок у заемщиков с четырьмя детьми - 9,76%.\n"
   ]
  },
  {
   "cell_type": "markdown",
   "id": "4c4d7d1c",
   "metadata": {},
   "source": [
    "**Вывод 1**"
   ]
  },
  {
   "cell_type": "markdown",
   "id": "cb4b8261",
   "metadata": {},
   "source": [
    "По полученным данным можно сделать вывод, что в категории заемщиков с детьми доля просрочек больше, чем у заемщиков без детей."
   ]
  },
  {
   "cell_type": "markdown",
   "id": "ca6aac76",
   "metadata": {},
   "source": [
    "### Семейное положение и возврат кредита в срок"
   ]
  },
  {
   "cell_type": "markdown",
   "id": "8fda01d6",
   "metadata": {},
   "source": [
    "Для проверки наличия зависимости между возвратом кредита и семейным положением построим сводную таблицу, применив функцию `pivot` к столбцу `family_status_id`. В таблице будет отображаться количество заемщиков, сгрупированных по семейному положению, отдавшие или нет кредит вовремя.  \n",
    "Т.к. в столбце `family_status_id` хранятся только идентификаторы семейного положения, добавим к сводной таблице соответствующие идентификаторам значения из словаря `family_status_dict`."
   ]
  },
  {
   "cell_type": "code",
   "execution_count": 40,
   "id": "e3e3cbfb",
   "metadata": {
    "scrolled": true
   },
   "outputs": [
    {
     "data": {
      "text/html": [
       "<div>\n",
       "<style scoped>\n",
       "    .dataframe tbody tr th:only-of-type {\n",
       "        vertical-align: middle;\n",
       "    }\n",
       "\n",
       "    .dataframe tbody tr th {\n",
       "        vertical-align: top;\n",
       "    }\n",
       "\n",
       "    .dataframe thead th {\n",
       "        text-align: right;\n",
       "    }\n",
       "</style>\n",
       "<table border=\"1\" class=\"dataframe\">\n",
       "  <thead>\n",
       "    <tr style=\"text-align: right;\">\n",
       "      <th></th>\n",
       "      <th>family_status_id</th>\n",
       "      <th>число заемщиков</th>\n",
       "      <th>число просрочек</th>\n",
       "      <th>доля просрочек</th>\n",
       "      <th>family_status</th>\n",
       "    </tr>\n",
       "  </thead>\n",
       "  <tbody>\n",
       "    <tr>\n",
       "      <th>0</th>\n",
       "      <td>2</td>\n",
       "      <td>959</td>\n",
       "      <td>63</td>\n",
       "      <td>0.065693</td>\n",
       "      <td>вдовец / вдова</td>\n",
       "    </tr>\n",
       "    <tr>\n",
       "      <th>1</th>\n",
       "      <td>3</td>\n",
       "      <td>1195</td>\n",
       "      <td>85</td>\n",
       "      <td>0.071130</td>\n",
       "      <td>в разводе</td>\n",
       "    </tr>\n",
       "    <tr>\n",
       "      <th>2</th>\n",
       "      <td>0</td>\n",
       "      <td>12339</td>\n",
       "      <td>931</td>\n",
       "      <td>0.075452</td>\n",
       "      <td>женат / замужем</td>\n",
       "    </tr>\n",
       "    <tr>\n",
       "      <th>3</th>\n",
       "      <td>1</td>\n",
       "      <td>4151</td>\n",
       "      <td>388</td>\n",
       "      <td>0.093471</td>\n",
       "      <td>гражданский брак</td>\n",
       "    </tr>\n",
       "    <tr>\n",
       "      <th>4</th>\n",
       "      <td>4</td>\n",
       "      <td>2810</td>\n",
       "      <td>274</td>\n",
       "      <td>0.097509</td>\n",
       "      <td>Не женат / не замужем</td>\n",
       "    </tr>\n",
       "  </tbody>\n",
       "</table>\n",
       "</div>"
      ],
      "text/plain": [
       "   family_status_id  число заемщиков  число просрочек  доля просрочек  \\\n",
       "0                 2              959               63        0.065693   \n",
       "1                 3             1195               85        0.071130   \n",
       "2                 0            12339              931        0.075452   \n",
       "3                 1             4151              388        0.093471   \n",
       "4                 4             2810              274        0.097509   \n",
       "\n",
       "           family_status  \n",
       "0         вдовец / вдова  \n",
       "1              в разводе  \n",
       "2        женат / замужем  \n",
       "3       гражданский брак  \n",
       "4  Не женат / не замужем  "
      ]
     },
     "execution_count": 40,
     "metadata": {},
     "output_type": "execute_result"
    }
   ],
   "source": [
    "#Отображение сводной таблицы для групп заемщиков по семейному положению.\n",
    "#Методом merge объединяем сводную таблицу со словарем по столбцу family_status_id.\n",
    "pivot('family_status_id').merge(family_status_dict, on='family_status_id')"
   ]
  },
  {
   "cell_type": "markdown",
   "id": "0110aab3",
   "metadata": {},
   "source": [
    "Наибольший процент просрочек кредита у заемщиков, которые никогда не состояли в браке - 9,75%.  \n",
    "Наименьшие проблемы с возвратом кредита в срок имеют люди, бывшие в браке, но в данный момент в нем не находящиеся:\n",
    "* у вдов/вдовцов процент просрочек - 6,57%;\n",
    "* у разведенных людей - 7,11%.\n",
    "\n",
    "Люди, состоящие в официальных отношениях отдают долг с просрочкой примерно в таком же проценте случаев, что и разведенные - 7,55%.  \n",
    "Люди в гражданском браке недалеко ушли от никогда не состоявших в браке - 9,35%."
   ]
  },
  {
   "cell_type": "markdown",
   "id": "161cfb46",
   "metadata": {},
   "source": [
    "**Вывод 2**"
   ]
  },
  {
   "cell_type": "markdown",
   "id": "ca9292dc",
   "metadata": {},
   "source": [
    "Наименее способными отдавать в срок кредит людьми оказались неженатые/незамужние (9,75% просрочек) и люди в гражданском браке (9,35% просрочек).  \n",
    "У людей, находящихся в официальном браке или бывшем в нем, процент просрочек заметно ниже:\n",
    "* у женатых/замужних - 7,55%;\n",
    "* у разведенных - 7,11%;\n",
    "* у вдов/вдовцов - 6,57%."
   ]
  },
  {
   "cell_type": "markdown",
   "id": "1246c9aa",
   "metadata": {},
   "source": [
    "### Уровень дохода и возврат кредита в срок"
   ]
  },
  {
   "cell_type": "markdown",
   "id": "758b9889",
   "metadata": {},
   "source": [
    "Для проверки наличия зависимости между возвратом кредита и уровнем дохода построим сводную таблицу, применив функцию `pivot` к столбцу `total_income_category`. В таблице будет отображаться количество заемщиков, сгрупированных по уровню дохода, отдавшие или нет кредит вовремя.  \n",
    "Т.к. в столбце `total_income_category` хранятся только буквенное соответствие уровня дохода, добавим к сводной таблице соответствующие буквам значения из словаря `total_income_dict`."
   ]
  },
  {
   "cell_type": "code",
   "execution_count": 41,
   "id": "54c53ef6",
   "metadata": {
    "scrolled": false
   },
   "outputs": [
    {
     "data": {
      "text/html": [
       "<div>\n",
       "<style scoped>\n",
       "    .dataframe tbody tr th:only-of-type {\n",
       "        vertical-align: middle;\n",
       "    }\n",
       "\n",
       "    .dataframe tbody tr th {\n",
       "        vertical-align: top;\n",
       "    }\n",
       "\n",
       "    .dataframe thead th {\n",
       "        text-align: right;\n",
       "    }\n",
       "</style>\n",
       "<table border=\"1\" class=\"dataframe\">\n",
       "  <thead>\n",
       "    <tr style=\"text-align: right;\">\n",
       "      <th></th>\n",
       "      <th>total_income_category</th>\n",
       "      <th>число заемщиков</th>\n",
       "      <th>число просрочек</th>\n",
       "      <th>доля просрочек</th>\n",
       "      <th>total_income</th>\n",
       "    </tr>\n",
       "  </thead>\n",
       "  <tbody>\n",
       "    <tr>\n",
       "      <th>0</th>\n",
       "      <td>D</td>\n",
       "      <td>350</td>\n",
       "      <td>21</td>\n",
       "      <td>0.060000</td>\n",
       "      <td>30001–50000</td>\n",
       "    </tr>\n",
       "    <tr>\n",
       "      <th>1</th>\n",
       "      <td>B</td>\n",
       "      <td>5041</td>\n",
       "      <td>356</td>\n",
       "      <td>0.070621</td>\n",
       "      <td>200001–1000000</td>\n",
       "    </tr>\n",
       "    <tr>\n",
       "      <th>2</th>\n",
       "      <td>A</td>\n",
       "      <td>25</td>\n",
       "      <td>2</td>\n",
       "      <td>0.080000</td>\n",
       "      <td>1000001 и выше</td>\n",
       "    </tr>\n",
       "    <tr>\n",
       "      <th>3</th>\n",
       "      <td>C</td>\n",
       "      <td>16016</td>\n",
       "      <td>1360</td>\n",
       "      <td>0.084915</td>\n",
       "      <td>50001–200000</td>\n",
       "    </tr>\n",
       "    <tr>\n",
       "      <th>4</th>\n",
       "      <td>E</td>\n",
       "      <td>22</td>\n",
       "      <td>2</td>\n",
       "      <td>0.090909</td>\n",
       "      <td>0-30000</td>\n",
       "    </tr>\n",
       "  </tbody>\n",
       "</table>\n",
       "</div>"
      ],
      "text/plain": [
       "  total_income_category  число заемщиков  число просрочек  доля просрочек  \\\n",
       "0                     D              350               21        0.060000   \n",
       "1                     B             5041              356        0.070621   \n",
       "2                     A               25                2        0.080000   \n",
       "3                     C            16016             1360        0.084915   \n",
       "4                     E               22                2        0.090909   \n",
       "\n",
       "     total_income  \n",
       "0     30001–50000  \n",
       "1  200001–1000000  \n",
       "2  1000001 и выше  \n",
       "3    50001–200000  \n",
       "4         0-30000  "
      ]
     },
     "execution_count": 41,
     "metadata": {},
     "output_type": "execute_result"
    }
   ],
   "source": [
    "#Отображение сводной таблицы для групп заемщиков по уровню дохода.\n",
    "#Методом merge объединяем сводную таблицу со словарем по столбцу total_income_category.\n",
    "pivot('total_income_category').merge(total_income_dict, on='total_income_category')"
   ]
  },
  {
   "cell_type": "markdown",
   "id": "e91f8404",
   "metadata": {},
   "source": [
    "Наибольший процент просрочек кредита у заемщиков с минимальным доходом (до 30000) - 9,09%. Однако выборка очень мала: таких заемщиков лишь 22.  \n",
    "8,49% заемщиков со средним доходом (от 50001 до 200000) не возвращают кредит во время.  \n",
    "Среди клиентов с максимальным доходом (выше 1000001) 8% не укладываются в срок возврата. Однако, как и в случае с клиентами с минимальными доходом выборка маленькая: только 25 человек.  \n",
    "Среди клиентов с доходом выше среднего (от 200001 до 1000000) 7,06% с просрочками по кредиту, а среди клиентов с доходом ниже среднего (от 30001 до 50000) таких меньше 6%."
   ]
  },
  {
   "cell_type": "markdown",
   "id": "4fa84a90",
   "metadata": {},
   "source": [
    "**Вывод 3**"
   ]
  },
  {
   "cell_type": "markdown",
   "id": "78003ed5",
   "metadata": {},
   "source": [
    "Если рассматривать репрезентативные выборки с числом заемщиков в категории от 100 человек и выше, то зависимости между уровнем дохода и возвратом кредита вовремя не наблюдается. Кредит вовремя не возвращают:\n",
    "* 8,49% заемщиков со средним доходом;\n",
    "* 7,06% заемщиков с доходом выше среднего;\n",
    "* 6% заемщиков с доходом ниже среднего.\n",
    "\n",
    "Вопреки ожиданиям, самыми надежными в плане соблюдения сроков возврата кредита оказались заемщики с доходом ниже среднего."
   ]
  },
  {
   "cell_type": "markdown",
   "id": "c0af50f4",
   "metadata": {},
   "source": [
    "### Цель кредита и возврат кредита в срок"
   ]
  },
  {
   "cell_type": "markdown",
   "id": "9dea4856",
   "metadata": {},
   "source": [
    "Для проверки наличия зависимости между возвратом кредита и целью кредита построим сводную таблицу, применив функцию `pivot` к столбцу `purpose_category`. В таблице будет отображаться количество заемщиков, сгрупированных по цели кредита, отдавшие или нет кредит вовремя."
   ]
  },
  {
   "cell_type": "code",
   "execution_count": 42,
   "id": "c9022a99",
   "metadata": {
    "scrolled": true
   },
   "outputs": [
    {
     "data": {
      "text/html": [
       "<div>\n",
       "<style scoped>\n",
       "    .dataframe tbody tr th:only-of-type {\n",
       "        vertical-align: middle;\n",
       "    }\n",
       "\n",
       "    .dataframe tbody tr th {\n",
       "        vertical-align: top;\n",
       "    }\n",
       "\n",
       "    .dataframe thead th {\n",
       "        text-align: right;\n",
       "    }\n",
       "</style>\n",
       "<table border=\"1\" class=\"dataframe\">\n",
       "  <thead>\n",
       "    <tr style=\"text-align: right;\">\n",
       "      <th></th>\n",
       "      <th>число заемщиков</th>\n",
       "      <th>число просрочек</th>\n",
       "      <th>доля просрочек</th>\n",
       "    </tr>\n",
       "    <tr>\n",
       "      <th>purpose_category</th>\n",
       "      <th></th>\n",
       "      <th></th>\n",
       "      <th></th>\n",
       "    </tr>\n",
       "  </thead>\n",
       "  <tbody>\n",
       "    <tr>\n",
       "      <th>операции с недвижимостью</th>\n",
       "      <td>10811</td>\n",
       "      <td>782</td>\n",
       "      <td>0.072334</td>\n",
       "    </tr>\n",
       "    <tr>\n",
       "      <th>проведение свадьбы</th>\n",
       "      <td>2324</td>\n",
       "      <td>186</td>\n",
       "      <td>0.080034</td>\n",
       "    </tr>\n",
       "    <tr>\n",
       "      <th>получение образования</th>\n",
       "      <td>4013</td>\n",
       "      <td>370</td>\n",
       "      <td>0.092200</td>\n",
       "    </tr>\n",
       "    <tr>\n",
       "      <th>операции с автомобилем</th>\n",
       "      <td>4306</td>\n",
       "      <td>403</td>\n",
       "      <td>0.093590</td>\n",
       "    </tr>\n",
       "  </tbody>\n",
       "</table>\n",
       "</div>"
      ],
      "text/plain": [
       "                          число заемщиков  число просрочек  доля просрочек\n",
       "purpose_category                                                          \n",
       "операции с недвижимостью            10811              782        0.072334\n",
       "проведение свадьбы                   2324              186        0.080034\n",
       "получение образования                4013              370        0.092200\n",
       "операции с автомобилем               4306              403        0.093590"
      ]
     },
     "execution_count": 42,
     "metadata": {},
     "output_type": "execute_result"
    }
   ],
   "source": [
    "#Отображение сводной таблицы для групп заемщиков по цели кредита\n",
    "pivot('purpose_category')"
   ]
  },
  {
   "cell_type": "markdown",
   "id": "5f8ea4a3",
   "metadata": {},
   "source": [
    "В каждой категории достаточно большое количество заемщиков, чтобы говорить о полноте выборки.  \n",
    "Наибольшие проблемы с возвратом в срок возникают у заемщиков при цели кредита, связанной с автомобилем - 9,36% заемщиков возвращают не в срок.  \n",
    "Невовремя возвращают 9,22% кредитов, полученных на образование.  \n",
    "Кредиты, взятые на свадьбу, не возвращают вовремя в 8% случаев.  \n",
    "Наименее подвержены невозврату вовремя кредиты, взяты на недвижимость - 7,23% кредитов с просрочками."
   ]
  },
  {
   "cell_type": "markdown",
   "id": "a51c7e7f",
   "metadata": {},
   "source": [
    "**Вывод 4**"
   ]
  },
  {
   "cell_type": "markdown",
   "id": "e1dce7c3",
   "metadata": {},
   "source": [
    "Среди пары цель кредита и его возврат в срок сложно говорить о зависимости, т.к. группы (цели кредита) по сути не связаны между собой.  \n",
    "Однако, можно выделить наиболее и наименее подверженные риску невозврата вовремя цели кредитов:\n",
    "* меньше всего просрочек у кредитов с целями, связанными с недвижимостью - 7,23%;\n",
    "* 8% кредитов на свадьбы вернутся не в срок;\n",
    "* почти одинаковый процент кредитов, возвращенных не в срок, у кредитов на образование (9,22%) и на операции с авто (9,36%)."
   ]
  },
  {
   "cell_type": "markdown",
   "id": "b121aefc",
   "metadata": {},
   "source": [
    "## Общий вывод"
   ]
  },
  {
   "cell_type": "markdown",
   "id": "76629fe2",
   "metadata": {},
   "source": [
    "Проанализирована статистика платежеспособности клиентов банка.  \n",
    "Была произведена предобработка данных, заполнены пропуски, исправлены аномалии, удалены дубликаты.  \n",
    "Была произведена категоризация доходов и целей кредита, созданы таблицы-словари для семейного положения, доходов, целей кредита.  \n",
    "Построены сводные таблицы зависимостей возврата кредита в срок и:\n",
    "* количества детей у заемщика;\n",
    "* семейного положения заемщика;\n",
    "* уровня дохода;\n",
    "* цели кредита.\n",
    "\n",
    "1. Гипотеза о том, что с увеличением количества детей растет процент просрочек кредита подтверждена (доля просрочек у заемщиков с детьми выше, чем у заемщиков без детей).\n",
    "2. Наименее способными отдавать в срок кредит людьми оказались люди, которые никогда не были в официальном браке (9,75% и 9,35% просрочек). У бывших или находящихся в браке ответственность к сроку выплаты кредита больше: на 2% меньше просрочек.\n",
    "3. В некоторых категориях уровня дохода заемщиков выборка оказалась слишком мала, чтобы говорить о закономерностях. По остальным группам дохода зависимости нет: наименьший процент просрочек у людей с доходом ниже среднего. В добавок к этому в данном столбце было много пропущенных значений (10% от общего числа), что, возможно, повлияло на результат.\n",
    "4. Среди целей кредита самыми подверженными просрочкам оказались операции с авто и образование (9,36% и 9,22% соответственно). Кредиты, взятые на недвижимость наименее подвержены просрочкам - лишь 7,23% невовремя возвращенных кредитов. Кредиты на свадьбы имеют 8% просрочек среди всех взятых на свадьбы кредитов.\n",
    "\n",
    "Рекомендуется:\n",
    "* проверить базу на способ хранения стажа заемщика - подавляющее большинство значений в этом столбце хранится в несоответствующем описанию формате;\n",
    "* в пояснительную записку к данным добавить расшифровку колонки `debt` (0 - кредит возвращен вовремя, 1 - с просрочкой);\n",
    "* для столбца `education` заменить ручной ввод значения на выбор значения из выпадающего списка для унификации записываемых значений;\n",
    "* провести исследование о зависимости уровня образования, возраста, пола и способности возврата кредита вовремя. Все необходимые данные уже есть."
   ]
  }
 ],
 "metadata": {
  "ExecuteTimeLog": [
   {
    "duration": 753,
    "start_time": "2022-05-18T11:32:54.995Z"
   },
   {
    "duration": 18,
    "start_time": "2022-05-18T11:33:06.179Z"
   },
   {
    "duration": 498,
    "start_time": "2022-05-18T12:47:25.586Z"
   },
   {
    "duration": 15,
    "start_time": "2022-05-18T12:47:26.086Z"
   },
   {
    "duration": 12,
    "start_time": "2022-05-18T12:49:53.791Z"
   },
   {
    "duration": 75,
    "start_time": "2022-05-18T12:50:03.237Z"
   },
   {
    "duration": 7,
    "start_time": "2022-05-18T12:50:10.860Z"
   },
   {
    "duration": 6,
    "start_time": "2022-05-18T12:50:28.228Z"
   },
   {
    "duration": 7,
    "start_time": "2022-05-18T13:03:59.658Z"
   },
   {
    "duration": 6,
    "start_time": "2022-05-18T13:04:22.698Z"
   },
   {
    "duration": 5,
    "start_time": "2022-05-18T13:05:15.571Z"
   },
   {
    "duration": 4,
    "start_time": "2022-05-18T13:06:45.728Z"
   },
   {
    "duration": 5,
    "start_time": "2022-05-18T13:06:57.696Z"
   },
   {
    "duration": 7,
    "start_time": "2022-05-18T13:07:02.720Z"
   },
   {
    "duration": 5,
    "start_time": "2022-05-18T13:07:27.737Z"
   },
   {
    "duration": 5,
    "start_time": "2022-05-18T13:07:50.737Z"
   },
   {
    "duration": 8,
    "start_time": "2022-05-18T13:08:03.680Z"
   },
   {
    "duration": 6,
    "start_time": "2022-05-18T13:08:25.617Z"
   },
   {
    "duration": 5,
    "start_time": "2022-05-18T13:08:32.424Z"
   },
   {
    "duration": 5,
    "start_time": "2022-05-18T13:08:40.200Z"
   },
   {
    "duration": 11,
    "start_time": "2022-05-18T13:08:56.664Z"
   },
   {
    "duration": 7,
    "start_time": "2022-05-18T13:09:27.576Z"
   },
   {
    "duration": 8,
    "start_time": "2022-05-18T13:09:31.216Z"
   },
   {
    "duration": 8,
    "start_time": "2022-05-18T13:10:09.960Z"
   },
   {
    "duration": 9,
    "start_time": "2022-05-18T13:10:15.055Z"
   },
   {
    "duration": 11,
    "start_time": "2022-05-18T13:10:24.770Z"
   },
   {
    "duration": 7,
    "start_time": "2022-05-18T13:10:41.400Z"
   },
   {
    "duration": 9,
    "start_time": "2022-05-18T13:10:49.008Z"
   },
   {
    "duration": 10,
    "start_time": "2022-05-18T13:10:53.872Z"
   },
   {
    "duration": 12,
    "start_time": "2022-05-18T13:11:03.439Z"
   },
   {
    "duration": 15,
    "start_time": "2022-05-18T13:14:43.095Z"
   },
   {
    "duration": 15,
    "start_time": "2022-05-18T13:18:21.590Z"
   },
   {
    "duration": 9,
    "start_time": "2022-05-18T13:19:48.091Z"
   },
   {
    "duration": 21,
    "start_time": "2022-05-18T13:19:58.288Z"
   },
   {
    "duration": 13,
    "start_time": "2022-05-18T13:20:09.878Z"
   },
   {
    "duration": 14,
    "start_time": "2022-05-18T13:21:19.174Z"
   },
   {
    "duration": 12,
    "start_time": "2022-05-18T13:25:32.055Z"
   },
   {
    "duration": 13,
    "start_time": "2022-05-18T13:44:22.219Z"
   },
   {
    "duration": 7,
    "start_time": "2022-05-18T13:54:19.126Z"
   },
   {
    "duration": 10,
    "start_time": "2022-05-18T13:55:45.126Z"
   },
   {
    "duration": 9,
    "start_time": "2022-05-18T13:55:50.806Z"
   },
   {
    "duration": 16,
    "start_time": "2022-05-18T13:58:22.661Z"
   },
   {
    "duration": 51,
    "start_time": "2022-05-18T13:58:56.823Z"
   },
   {
    "duration": 13,
    "start_time": "2022-05-18T13:59:07.380Z"
   },
   {
    "duration": 24,
    "start_time": "2022-05-18T13:59:15.836Z"
   },
   {
    "duration": 13,
    "start_time": "2022-05-18T14:00:05.044Z"
   },
   {
    "duration": 5,
    "start_time": "2022-05-18T14:02:30.227Z"
   },
   {
    "duration": 5,
    "start_time": "2022-05-18T14:02:31.858Z"
   },
   {
    "duration": 7,
    "start_time": "2022-05-18T14:02:36.980Z"
   },
   {
    "duration": 7,
    "start_time": "2022-05-18T14:02:48.091Z"
   },
   {
    "duration": 8,
    "start_time": "2022-05-18T14:02:54.851Z"
   },
   {
    "duration": 6,
    "start_time": "2022-05-18T14:03:15.406Z"
   },
   {
    "duration": 8,
    "start_time": "2022-05-18T14:03:33.364Z"
   },
   {
    "duration": 9,
    "start_time": "2022-05-18T14:03:57.588Z"
   },
   {
    "duration": 10,
    "start_time": "2022-05-18T14:04:02.291Z"
   },
   {
    "duration": 7,
    "start_time": "2022-05-18T14:04:12.925Z"
   },
   {
    "duration": 5,
    "start_time": "2022-05-18T14:07:42.022Z"
   },
   {
    "duration": 8,
    "start_time": "2022-05-18T14:08:00.589Z"
   },
   {
    "duration": 8,
    "start_time": "2022-05-18T14:08:12.628Z"
   },
   {
    "duration": 7,
    "start_time": "2022-05-18T14:08:33.899Z"
   },
   {
    "duration": 7,
    "start_time": "2022-05-18T14:09:03.850Z"
   },
   {
    "duration": 5,
    "start_time": "2022-05-18T14:09:20.539Z"
   },
   {
    "duration": 9,
    "start_time": "2022-05-18T14:10:09.058Z"
   },
   {
    "duration": 5,
    "start_time": "2022-05-18T14:10:20.340Z"
   },
   {
    "duration": 2,
    "start_time": "2022-05-18T14:13:33.610Z"
   },
   {
    "duration": 5,
    "start_time": "2022-05-18T14:14:16.282Z"
   },
   {
    "duration": 4,
    "start_time": "2022-05-18T14:14:46.340Z"
   },
   {
    "duration": 6,
    "start_time": "2022-05-18T14:15:07.346Z"
   },
   {
    "duration": 6,
    "start_time": "2022-05-18T14:16:15.682Z"
   },
   {
    "duration": 5,
    "start_time": "2022-05-18T14:16:18.896Z"
   },
   {
    "duration": 5,
    "start_time": "2022-05-18T14:21:49.759Z"
   },
   {
    "duration": 5,
    "start_time": "2022-05-18T14:21:56.504Z"
   },
   {
    "duration": 4,
    "start_time": "2022-05-18T14:22:09.728Z"
   },
   {
    "duration": 31,
    "start_time": "2022-05-18T14:28:25.135Z"
   },
   {
    "duration": 7,
    "start_time": "2022-05-18T14:28:39.767Z"
   },
   {
    "duration": 29,
    "start_time": "2022-05-18T14:33:54.789Z"
   },
   {
    "duration": 44,
    "start_time": "2022-05-18T14:34:08.141Z"
   },
   {
    "duration": 23,
    "start_time": "2022-05-18T14:34:19.519Z"
   },
   {
    "duration": 32,
    "start_time": "2022-05-18T14:36:03.933Z"
   },
   {
    "duration": 27,
    "start_time": "2022-05-18T14:36:08.552Z"
   },
   {
    "duration": 10,
    "start_time": "2022-05-18T14:36:22.430Z"
   },
   {
    "duration": 26,
    "start_time": "2022-05-18T14:36:30.750Z"
   },
   {
    "duration": 9,
    "start_time": "2022-05-18T14:36:59.830Z"
   },
   {
    "duration": 7,
    "start_time": "2022-05-18T14:38:41.517Z"
   },
   {
    "duration": 10,
    "start_time": "2022-05-18T14:38:42.998Z"
   },
   {
    "duration": 7,
    "start_time": "2022-05-18T14:39:52.108Z"
   },
   {
    "duration": 4,
    "start_time": "2022-05-18T14:39:55.164Z"
   },
   {
    "duration": 3,
    "start_time": "2022-05-18T14:41:15.860Z"
   },
   {
    "duration": 10,
    "start_time": "2022-05-18T14:42:27.141Z"
   },
   {
    "duration": 9,
    "start_time": "2022-05-18T14:42:43.827Z"
   },
   {
    "duration": 10,
    "start_time": "2022-05-18T14:44:56.348Z"
   },
   {
    "duration": 5,
    "start_time": "2022-05-18T14:50:34.450Z"
   },
   {
    "duration": 5,
    "start_time": "2022-05-18T14:50:52.225Z"
   },
   {
    "duration": 13,
    "start_time": "2022-05-18T14:54:01.241Z"
   },
   {
    "duration": 5,
    "start_time": "2022-05-18T14:56:22.658Z"
   },
   {
    "duration": 5,
    "start_time": "2022-05-18T14:56:49.178Z"
   },
   {
    "duration": 31,
    "start_time": "2022-05-18T14:59:55.912Z"
   },
   {
    "duration": 24,
    "start_time": "2022-05-18T15:00:20.583Z"
   },
   {
    "duration": 48,
    "start_time": "2022-05-18T15:00:29.231Z"
   },
   {
    "duration": 37,
    "start_time": "2022-05-18T15:00:42.144Z"
   },
   {
    "duration": 6,
    "start_time": "2022-05-18T15:00:56.423Z"
   },
   {
    "duration": 10,
    "start_time": "2022-05-18T15:01:16.443Z"
   },
   {
    "duration": 10,
    "start_time": "2022-05-18T15:01:57.423Z"
   },
   {
    "duration": 8,
    "start_time": "2022-05-18T15:02:11.366Z"
   },
   {
    "duration": 10,
    "start_time": "2022-05-18T15:03:11.149Z"
   },
   {
    "duration": 10,
    "start_time": "2022-05-18T15:03:39.399Z"
   },
   {
    "duration": 8,
    "start_time": "2022-05-18T15:03:44.270Z"
   },
   {
    "duration": 9,
    "start_time": "2022-05-18T15:03:45.559Z"
   },
   {
    "duration": 9,
    "start_time": "2022-05-18T15:07:10.375Z"
   },
   {
    "duration": 13,
    "start_time": "2022-05-18T15:12:01.804Z"
   },
   {
    "duration": 517,
    "start_time": "2022-05-18T15:12:13.188Z"
   },
   {
    "duration": 17,
    "start_time": "2022-05-18T15:12:13.708Z"
   },
   {
    "duration": 22,
    "start_time": "2022-05-18T15:12:13.727Z"
   },
   {
    "duration": 5,
    "start_time": "2022-05-18T15:12:13.751Z"
   },
   {
    "duration": 13,
    "start_time": "2022-05-18T15:12:13.758Z"
   },
   {
    "duration": 11,
    "start_time": "2022-05-18T15:12:13.772Z"
   },
   {
    "duration": 10,
    "start_time": "2022-05-18T15:12:13.784Z"
   },
   {
    "duration": 29,
    "start_time": "2022-05-18T15:12:13.796Z"
   },
   {
    "duration": 10,
    "start_time": "2022-05-18T15:12:13.826Z"
   },
   {
    "duration": 10,
    "start_time": "2022-05-18T15:17:28.453Z"
   },
   {
    "duration": 12,
    "start_time": "2022-05-18T15:23:27.580Z"
   },
   {
    "duration": 9,
    "start_time": "2022-05-18T15:23:30.940Z"
   },
   {
    "duration": 71,
    "start_time": "2022-05-18T15:23:56.015Z"
   },
   {
    "duration": 17,
    "start_time": "2022-05-18T15:23:56.088Z"
   },
   {
    "duration": 14,
    "start_time": "2022-05-18T15:23:56.107Z"
   },
   {
    "duration": 21,
    "start_time": "2022-05-18T15:23:56.124Z"
   },
   {
    "duration": 18,
    "start_time": "2022-05-18T15:23:56.147Z"
   },
   {
    "duration": 6,
    "start_time": "2022-05-18T15:23:56.167Z"
   },
   {
    "duration": 16,
    "start_time": "2022-05-18T15:23:56.174Z"
   },
   {
    "duration": 10,
    "start_time": "2022-05-18T15:23:56.191Z"
   },
   {
    "duration": 80,
    "start_time": "2022-05-18T15:24:58.722Z"
   },
   {
    "duration": 15,
    "start_time": "2022-05-18T15:24:58.804Z"
   },
   {
    "duration": 20,
    "start_time": "2022-05-18T15:24:58.820Z"
   },
   {
    "duration": 10,
    "start_time": "2022-05-18T15:24:58.843Z"
   },
   {
    "duration": 17,
    "start_time": "2022-05-18T15:24:58.854Z"
   },
   {
    "duration": 5,
    "start_time": "2022-05-18T15:24:58.873Z"
   },
   {
    "duration": 10,
    "start_time": "2022-05-18T15:24:58.879Z"
   },
   {
    "duration": 1170,
    "start_time": "2022-05-18T15:25:01.719Z"
   },
   {
    "duration": 243,
    "start_time": "2022-05-18T15:25:31.379Z"
   },
   {
    "duration": 7,
    "start_time": "2022-05-18T15:26:11.510Z"
   },
   {
    "duration": 11,
    "start_time": "2022-05-18T15:40:49.952Z"
   },
   {
    "duration": 16,
    "start_time": "2022-05-18T15:41:09.525Z"
   },
   {
    "duration": 9,
    "start_time": "2022-05-18T15:41:17.725Z"
   },
   {
    "duration": 20,
    "start_time": "2022-05-18T15:41:36.940Z"
   },
   {
    "duration": 61,
    "start_time": "2022-05-18T15:42:07.502Z"
   },
   {
    "duration": 15,
    "start_time": "2022-05-18T15:42:07.565Z"
   },
   {
    "duration": 13,
    "start_time": "2022-05-18T15:42:07.582Z"
   },
   {
    "duration": 6,
    "start_time": "2022-05-18T15:42:07.596Z"
   },
   {
    "duration": 26,
    "start_time": "2022-05-18T15:42:07.604Z"
   },
   {
    "duration": 21,
    "start_time": "2022-05-18T15:42:11.702Z"
   },
   {
    "duration": 19,
    "start_time": "2022-05-18T15:50:10.633Z"
   },
   {
    "duration": 11,
    "start_time": "2022-05-18T15:50:15.775Z"
   },
   {
    "duration": 10,
    "start_time": "2022-05-18T15:50:56.622Z"
   },
   {
    "duration": 18,
    "start_time": "2022-05-18T15:51:28.105Z"
   },
   {
    "duration": 15,
    "start_time": "2022-05-18T15:51:42.399Z"
   },
   {
    "duration": 15,
    "start_time": "2022-05-18T15:52:03.393Z"
   },
   {
    "duration": 20,
    "start_time": "2022-05-18T15:52:22.890Z"
   },
   {
    "duration": 20,
    "start_time": "2022-05-18T16:04:53.896Z"
   },
   {
    "duration": 58,
    "start_time": "2022-05-18T16:05:06.516Z"
   },
   {
    "duration": 16,
    "start_time": "2022-05-18T16:05:06.576Z"
   },
   {
    "duration": 12,
    "start_time": "2022-05-18T16:05:06.594Z"
   },
   {
    "duration": 16,
    "start_time": "2022-05-18T16:05:06.608Z"
   },
   {
    "duration": 12,
    "start_time": "2022-05-18T16:05:06.625Z"
   },
   {
    "duration": 20,
    "start_time": "2022-05-18T16:05:06.639Z"
   },
   {
    "duration": 4,
    "start_time": "2022-05-18T16:05:06.661Z"
   },
   {
    "duration": 11,
    "start_time": "2022-05-18T16:05:06.667Z"
   },
   {
    "duration": 7,
    "start_time": "2022-05-18T16:05:48.804Z"
   },
   {
    "duration": 64,
    "start_time": "2022-05-20T09:57:40.354Z"
   },
   {
    "duration": 916,
    "start_time": "2022-05-20T09:57:50.400Z"
   },
   {
    "duration": 17,
    "start_time": "2022-05-20T09:57:51.318Z"
   },
   {
    "duration": 27,
    "start_time": "2022-05-20T09:57:51.337Z"
   },
   {
    "duration": 7,
    "start_time": "2022-05-20T09:57:51.366Z"
   },
   {
    "duration": 15,
    "start_time": "2022-05-20T09:57:51.375Z"
   },
   {
    "duration": 13,
    "start_time": "2022-05-20T09:57:54.532Z"
   },
   {
    "duration": 537,
    "start_time": "2022-05-20T10:32:17.002Z"
   },
   {
    "duration": 28,
    "start_time": "2022-05-20T10:32:17.541Z"
   },
   {
    "duration": 23,
    "start_time": "2022-05-20T10:32:17.571Z"
   },
   {
    "duration": 3,
    "start_time": "2022-05-20T10:32:17.597Z"
   },
   {
    "duration": 11,
    "start_time": "2022-05-20T10:32:17.602Z"
   },
   {
    "duration": 55,
    "start_time": "2022-05-20T10:32:17.615Z"
   },
   {
    "duration": 4,
    "start_time": "2022-05-20T10:32:17.672Z"
   },
   {
    "duration": 10,
    "start_time": "2022-05-20T10:32:17.678Z"
   },
   {
    "duration": 6,
    "start_time": "2022-05-20T10:32:17.689Z"
   },
   {
    "duration": 5,
    "start_time": "2022-05-20T10:32:54.479Z"
   },
   {
    "duration": 18,
    "start_time": "2022-05-20T10:42:37.664Z"
   },
   {
    "duration": 176,
    "start_time": "2022-05-20T10:43:42.560Z"
   },
   {
    "duration": 19,
    "start_time": "2022-05-20T10:43:52.020Z"
   },
   {
    "duration": 16,
    "start_time": "2022-05-20T10:44:16.596Z"
   },
   {
    "duration": 18,
    "start_time": "2022-05-20T10:44:27.444Z"
   },
   {
    "duration": 120,
    "start_time": "2022-05-20T10:44:32.339Z"
   },
   {
    "duration": 19,
    "start_time": "2022-05-20T10:44:55.772Z"
   },
   {
    "duration": 19,
    "start_time": "2022-05-20T10:45:14.906Z"
   },
   {
    "duration": 19,
    "start_time": "2022-05-20T10:45:32.186Z"
   },
   {
    "duration": 91,
    "start_time": "2022-05-20T10:45:43.093Z"
   },
   {
    "duration": 21,
    "start_time": "2022-05-20T10:45:43.192Z"
   },
   {
    "duration": 21,
    "start_time": "2022-05-20T10:45:43.215Z"
   },
   {
    "duration": 14,
    "start_time": "2022-05-20T10:45:43.238Z"
   },
   {
    "duration": 38,
    "start_time": "2022-05-20T10:45:43.255Z"
   },
   {
    "duration": 20,
    "start_time": "2022-05-20T10:45:43.295Z"
   },
   {
    "duration": 5,
    "start_time": "2022-05-20T10:45:43.317Z"
   },
   {
    "duration": 15,
    "start_time": "2022-05-20T10:45:43.324Z"
   },
   {
    "duration": 41,
    "start_time": "2022-05-20T10:45:43.341Z"
   },
   {
    "duration": 12,
    "start_time": "2022-05-20T10:45:43.384Z"
   },
   {
    "duration": 19,
    "start_time": "2022-05-20T10:45:46.593Z"
   },
   {
    "duration": 31,
    "start_time": "2022-05-20T10:45:56.338Z"
   },
   {
    "duration": 8,
    "start_time": "2022-05-20T10:46:42.025Z"
   },
   {
    "duration": 10,
    "start_time": "2022-05-20T10:48:40.209Z"
   },
   {
    "duration": 9,
    "start_time": "2022-05-20T10:48:57.411Z"
   },
   {
    "duration": 19,
    "start_time": "2022-05-20T10:50:33.866Z"
   },
   {
    "duration": 10,
    "start_time": "2022-05-20T10:50:42.716Z"
   },
   {
    "duration": 6,
    "start_time": "2022-05-20T10:51:01.669Z"
   },
   {
    "duration": 7,
    "start_time": "2022-05-20T10:51:14.208Z"
   },
   {
    "duration": 11,
    "start_time": "2022-05-20T10:51:28.467Z"
   },
   {
    "duration": 12,
    "start_time": "2022-05-20T10:51:36.767Z"
   },
   {
    "duration": 9,
    "start_time": "2022-05-20T10:51:42.598Z"
   },
   {
    "duration": 13,
    "start_time": "2022-05-20T10:52:15.824Z"
   },
   {
    "duration": 8,
    "start_time": "2022-05-20T10:52:48.432Z"
   },
   {
    "duration": 263,
    "start_time": "2022-05-20T13:26:15.537Z"
   },
   {
    "duration": 15,
    "start_time": "2022-05-20T13:26:15.802Z"
   },
   {
    "duration": 12,
    "start_time": "2022-05-20T13:26:15.819Z"
   },
   {
    "duration": 5,
    "start_time": "2022-05-20T13:26:15.833Z"
   },
   {
    "duration": 11,
    "start_time": "2022-05-20T13:26:15.839Z"
   },
   {
    "duration": 34,
    "start_time": "2022-05-20T13:26:15.852Z"
   },
   {
    "duration": 6,
    "start_time": "2022-05-20T13:26:15.888Z"
   },
   {
    "duration": 14,
    "start_time": "2022-05-20T13:26:15.896Z"
   },
   {
    "duration": 35,
    "start_time": "2022-05-20T13:26:15.912Z"
   },
   {
    "duration": 26,
    "start_time": "2022-05-20T13:26:52.157Z"
   },
   {
    "duration": 31,
    "start_time": "2022-05-20T13:27:05.797Z"
   },
   {
    "duration": 8,
    "start_time": "2022-05-20T13:27:21.732Z"
   },
   {
    "duration": 9,
    "start_time": "2022-05-20T13:29:08.364Z"
   },
   {
    "duration": 10,
    "start_time": "2022-05-20T13:30:19.955Z"
   },
   {
    "duration": 11,
    "start_time": "2022-05-20T13:31:29.555Z"
   },
   {
    "duration": 19,
    "start_time": "2022-05-20T13:32:03.241Z"
   },
   {
    "duration": 9,
    "start_time": "2022-05-20T13:32:29.866Z"
   },
   {
    "duration": 14,
    "start_time": "2022-05-20T13:32:43.683Z"
   },
   {
    "duration": 17,
    "start_time": "2022-05-20T13:32:54.667Z"
   },
   {
    "duration": 19,
    "start_time": "2022-05-20T13:33:16.859Z"
   },
   {
    "duration": 13,
    "start_time": "2022-05-20T13:33:20.194Z"
   },
   {
    "duration": 38,
    "start_time": "2022-05-20T13:34:01.658Z"
   },
   {
    "duration": 23,
    "start_time": "2022-05-20T13:34:09.251Z"
   },
   {
    "duration": 26,
    "start_time": "2022-05-20T13:34:26.738Z"
   },
   {
    "duration": 26,
    "start_time": "2022-05-20T13:34:30.594Z"
   },
   {
    "duration": 24,
    "start_time": "2022-05-20T13:34:35.218Z"
   },
   {
    "duration": 23,
    "start_time": "2022-05-20T13:35:57.562Z"
   },
   {
    "duration": 75,
    "start_time": "2022-05-20T13:36:03.343Z"
   },
   {
    "duration": 17,
    "start_time": "2022-05-20T13:36:03.420Z"
   },
   {
    "duration": 13,
    "start_time": "2022-05-20T13:36:03.438Z"
   },
   {
    "duration": 7,
    "start_time": "2022-05-20T13:36:03.453Z"
   },
   {
    "duration": 16,
    "start_time": "2022-05-20T13:36:03.461Z"
   },
   {
    "duration": 21,
    "start_time": "2022-05-20T13:36:03.479Z"
   },
   {
    "duration": 5,
    "start_time": "2022-05-20T13:36:03.501Z"
   },
   {
    "duration": 35,
    "start_time": "2022-05-20T13:36:03.508Z"
   },
   {
    "duration": 8,
    "start_time": "2022-05-20T13:36:03.545Z"
   },
   {
    "duration": 22,
    "start_time": "2022-05-20T13:36:14.722Z"
   },
   {
    "duration": 24,
    "start_time": "2022-05-20T13:36:20.089Z"
   },
   {
    "duration": 23,
    "start_time": "2022-05-20T13:36:25.258Z"
   },
   {
    "duration": 24,
    "start_time": "2022-05-20T13:36:30.433Z"
   },
   {
    "duration": 13,
    "start_time": "2022-05-20T13:36:58.753Z"
   },
   {
    "duration": 34,
    "start_time": "2022-05-20T13:37:17.090Z"
   },
   {
    "duration": 26,
    "start_time": "2022-05-20T13:37:22.513Z"
   },
   {
    "duration": 25,
    "start_time": "2022-05-20T13:37:48.689Z"
   },
   {
    "duration": 25,
    "start_time": "2022-05-20T13:37:54.946Z"
   },
   {
    "duration": 27,
    "start_time": "2022-05-20T13:37:59.121Z"
   },
   {
    "duration": 18,
    "start_time": "2022-05-20T13:39:47.560Z"
   },
   {
    "duration": 8,
    "start_time": "2022-05-20T13:39:55.633Z"
   },
   {
    "duration": 6,
    "start_time": "2022-05-20T13:40:02.697Z"
   },
   {
    "duration": 14,
    "start_time": "2022-05-20T13:40:37.488Z"
   },
   {
    "duration": 27,
    "start_time": "2022-05-20T13:40:58.744Z"
   },
   {
    "duration": 32,
    "start_time": "2022-05-20T13:41:01.080Z"
   },
   {
    "duration": 29,
    "start_time": "2022-05-20T13:41:15.216Z"
   },
   {
    "duration": 34,
    "start_time": "2022-05-20T13:41:22.122Z"
   },
   {
    "duration": 23,
    "start_time": "2022-05-20T13:41:58.424Z"
   },
   {
    "duration": 17,
    "start_time": "2022-05-20T13:58:25.734Z"
   },
   {
    "duration": 12,
    "start_time": "2022-05-20T13:58:52.717Z"
   },
   {
    "duration": 12,
    "start_time": "2022-05-20T13:59:10.373Z"
   },
   {
    "duration": 12,
    "start_time": "2022-05-20T13:59:15.125Z"
   },
   {
    "duration": 18,
    "start_time": "2022-05-20T13:59:34.317Z"
   },
   {
    "duration": 12,
    "start_time": "2022-05-20T13:59:50.286Z"
   },
   {
    "duration": 12,
    "start_time": "2022-05-20T14:00:07.308Z"
   },
   {
    "duration": 12,
    "start_time": "2022-05-20T14:00:15.755Z"
   },
   {
    "duration": 10,
    "start_time": "2022-05-20T14:00:24.678Z"
   },
   {
    "duration": 13,
    "start_time": "2022-05-20T14:04:08.804Z"
   },
   {
    "duration": 394,
    "start_time": "2022-05-20T14:04:29.580Z"
   },
   {
    "duration": 120,
    "start_time": "2022-05-20T14:04:48.675Z"
   },
   {
    "duration": 20,
    "start_time": "2022-05-20T14:05:00.516Z"
   },
   {
    "duration": 9,
    "start_time": "2022-05-20T14:05:11.653Z"
   },
   {
    "duration": 9,
    "start_time": "2022-05-20T14:05:56.898Z"
   },
   {
    "duration": 9,
    "start_time": "2022-05-20T14:07:36.571Z"
   },
   {
    "duration": 7,
    "start_time": "2022-05-20T14:07:59.475Z"
   },
   {
    "duration": 4,
    "start_time": "2022-05-20T14:08:07.388Z"
   },
   {
    "duration": 8,
    "start_time": "2022-05-20T14:08:15.699Z"
   },
   {
    "duration": 7,
    "start_time": "2022-05-20T14:08:46.960Z"
   },
   {
    "duration": 26,
    "start_time": "2022-05-20T14:09:44.233Z"
   },
   {
    "duration": 141,
    "start_time": "2022-05-20T14:10:39.227Z"
   },
   {
    "duration": 137,
    "start_time": "2022-05-20T14:10:59.154Z"
   },
   {
    "duration": 7,
    "start_time": "2022-05-20T14:11:16.058Z"
   },
   {
    "duration": 6,
    "start_time": "2022-05-20T14:11:17.889Z"
   },
   {
    "duration": 29,
    "start_time": "2022-05-20T14:11:43.105Z"
   },
   {
    "duration": 29,
    "start_time": "2022-05-20T14:12:07.258Z"
   },
   {
    "duration": 27,
    "start_time": "2022-05-20T14:12:16.003Z"
   },
   {
    "duration": 27,
    "start_time": "2022-05-20T14:12:20.633Z"
   },
   {
    "duration": 180,
    "start_time": "2022-05-20T14:17:25.258Z"
   },
   {
    "duration": 28,
    "start_time": "2022-05-20T14:18:01.145Z"
   },
   {
    "duration": 19,
    "start_time": "2022-05-20T14:21:16.705Z"
   },
   {
    "duration": 29,
    "start_time": "2022-05-20T14:21:37.777Z"
   },
   {
    "duration": 27,
    "start_time": "2022-05-20T14:23:24.944Z"
   },
   {
    "duration": 27,
    "start_time": "2022-05-20T14:23:32.179Z"
   },
   {
    "duration": 25,
    "start_time": "2022-05-20T14:32:55.560Z"
   },
   {
    "duration": 10,
    "start_time": "2022-05-20T14:38:24.815Z"
   },
   {
    "duration": 11,
    "start_time": "2022-05-20T14:38:50.215Z"
   },
   {
    "duration": 16,
    "start_time": "2022-05-20T14:42:32.974Z"
   },
   {
    "duration": 12,
    "start_time": "2022-05-20T14:43:28.094Z"
   },
   {
    "duration": 13,
    "start_time": "2022-05-20T14:43:50.469Z"
   },
   {
    "duration": 9,
    "start_time": "2022-05-20T14:43:55.702Z"
   },
   {
    "duration": 39,
    "start_time": "2022-05-20T14:45:30.767Z"
   },
   {
    "duration": 16,
    "start_time": "2022-05-20T14:47:10.694Z"
   },
   {
    "duration": 11,
    "start_time": "2022-05-20T14:47:26.773Z"
   },
   {
    "duration": 10,
    "start_time": "2022-05-20T14:47:38.968Z"
   },
   {
    "duration": 31,
    "start_time": "2022-05-20T14:47:43.441Z"
   },
   {
    "duration": 26,
    "start_time": "2022-05-20T14:47:56.781Z"
   },
   {
    "duration": 28,
    "start_time": "2022-05-20T14:48:13.374Z"
   },
   {
    "duration": 18,
    "start_time": "2022-05-20T14:48:25.702Z"
   },
   {
    "duration": 13,
    "start_time": "2022-05-20T14:52:58.468Z"
   },
   {
    "duration": 6,
    "start_time": "2022-05-20T14:53:12.683Z"
   },
   {
    "duration": 12,
    "start_time": "2022-05-20T14:53:21.884Z"
   },
   {
    "duration": 11,
    "start_time": "2022-05-20T14:53:32.167Z"
   },
   {
    "duration": 336,
    "start_time": "2022-05-20T14:53:44.911Z"
   },
   {
    "duration": 23,
    "start_time": "2022-05-20T14:53:45.257Z"
   },
   {
    "duration": 25,
    "start_time": "2022-05-20T14:53:45.283Z"
   },
   {
    "duration": 10,
    "start_time": "2022-05-20T14:53:45.311Z"
   },
   {
    "duration": 14,
    "start_time": "2022-05-20T14:53:45.322Z"
   },
   {
    "duration": 33,
    "start_time": "2022-05-20T14:53:45.338Z"
   },
   {
    "duration": 10,
    "start_time": "2022-05-20T14:53:45.373Z"
   },
   {
    "duration": 18,
    "start_time": "2022-05-20T14:53:45.392Z"
   },
   {
    "duration": 7,
    "start_time": "2022-05-20T14:53:45.412Z"
   },
   {
    "duration": 39,
    "start_time": "2022-05-20T14:53:45.421Z"
   },
   {
    "duration": 8,
    "start_time": "2022-05-20T14:53:48.179Z"
   },
   {
    "duration": 17,
    "start_time": "2022-05-20T14:54:14.261Z"
   },
   {
    "duration": 10,
    "start_time": "2022-05-20T14:54:55.769Z"
   },
   {
    "duration": 15,
    "start_time": "2022-05-20T14:55:52.609Z"
   },
   {
    "duration": 10,
    "start_time": "2022-05-20T14:56:00.386Z"
   },
   {
    "duration": 29,
    "start_time": "2022-05-20T14:56:07.890Z"
   },
   {
    "duration": 10,
    "start_time": "2022-05-20T14:56:21.722Z"
   },
   {
    "duration": 8,
    "start_time": "2022-05-20T14:56:27.971Z"
   },
   {
    "duration": 11,
    "start_time": "2022-05-20T14:56:34.059Z"
   },
   {
    "duration": 11,
    "start_time": "2022-05-20T14:56:44.362Z"
   },
   {
    "duration": 8,
    "start_time": "2022-05-20T14:56:51.664Z"
   },
   {
    "duration": 19,
    "start_time": "2022-05-20T14:58:00.754Z"
   },
   {
    "duration": 10,
    "start_time": "2022-05-20T14:58:20.298Z"
   },
   {
    "duration": 13,
    "start_time": "2022-05-20T15:00:02.416Z"
   },
   {
    "duration": 19,
    "start_time": "2022-05-20T15:02:09.728Z"
   },
   {
    "duration": 8,
    "start_time": "2022-05-20T15:02:22.391Z"
   },
   {
    "duration": 7,
    "start_time": "2022-05-20T15:02:28.183Z"
   },
   {
    "duration": 6,
    "start_time": "2022-05-20T15:08:08.806Z"
   },
   {
    "duration": 13,
    "start_time": "2022-05-20T15:08:15.501Z"
   },
   {
    "duration": 12,
    "start_time": "2022-05-20T15:08:25.118Z"
   },
   {
    "duration": 8,
    "start_time": "2022-05-20T15:09:43.221Z"
   },
   {
    "duration": 14,
    "start_time": "2022-05-20T15:10:01.783Z"
   },
   {
    "duration": 11,
    "start_time": "2022-05-20T15:10:18.765Z"
   },
   {
    "duration": 131,
    "start_time": "2022-05-20T15:10:26.929Z"
   },
   {
    "duration": 21,
    "start_time": "2022-05-20T15:10:27.062Z"
   },
   {
    "duration": 21,
    "start_time": "2022-05-20T15:10:27.085Z"
   },
   {
    "duration": 17,
    "start_time": "2022-05-20T15:10:27.108Z"
   },
   {
    "duration": 46,
    "start_time": "2022-05-20T15:10:27.127Z"
   },
   {
    "duration": 30,
    "start_time": "2022-05-20T15:10:27.175Z"
   },
   {
    "duration": 5,
    "start_time": "2022-05-20T15:10:27.207Z"
   },
   {
    "duration": 14,
    "start_time": "2022-05-20T15:10:27.214Z"
   },
   {
    "duration": 13,
    "start_time": "2022-05-20T15:10:27.230Z"
   },
   {
    "duration": 25,
    "start_time": "2022-05-20T15:10:27.258Z"
   },
   {
    "duration": 10,
    "start_time": "2022-05-20T15:10:27.285Z"
   },
   {
    "duration": 7,
    "start_time": "2022-05-20T15:10:27.297Z"
   },
   {
    "duration": 10,
    "start_time": "2022-05-20T15:10:29.029Z"
   },
   {
    "duration": 16,
    "start_time": "2022-05-20T15:13:14.364Z"
   },
   {
    "duration": 14,
    "start_time": "2022-05-20T15:13:22.372Z"
   },
   {
    "duration": 14,
    "start_time": "2022-05-20T15:13:33.676Z"
   },
   {
    "duration": 87,
    "start_time": "2022-05-20T15:13:38.824Z"
   },
   {
    "duration": 16,
    "start_time": "2022-05-20T15:13:38.914Z"
   },
   {
    "duration": 32,
    "start_time": "2022-05-20T15:13:38.932Z"
   },
   {
    "duration": 11,
    "start_time": "2022-05-20T15:13:38.967Z"
   },
   {
    "duration": 16,
    "start_time": "2022-05-20T15:13:38.979Z"
   },
   {
    "duration": 26,
    "start_time": "2022-05-20T15:13:38.997Z"
   },
   {
    "duration": 6,
    "start_time": "2022-05-20T15:13:39.024Z"
   },
   {
    "duration": 27,
    "start_time": "2022-05-20T15:13:39.031Z"
   },
   {
    "duration": 10,
    "start_time": "2022-05-20T15:13:39.063Z"
   },
   {
    "duration": 12,
    "start_time": "2022-05-20T15:13:39.075Z"
   },
   {
    "duration": 7,
    "start_time": "2022-05-20T15:13:39.089Z"
   },
   {
    "duration": 11,
    "start_time": "2022-05-20T15:13:39.097Z"
   },
   {
    "duration": 14,
    "start_time": "2022-05-20T15:13:40.516Z"
   },
   {
    "duration": 101,
    "start_time": "2022-05-20T15:13:54.376Z"
   },
   {
    "duration": 16,
    "start_time": "2022-05-20T15:13:54.480Z"
   },
   {
    "duration": 18,
    "start_time": "2022-05-20T15:13:54.498Z"
   },
   {
    "duration": 5,
    "start_time": "2022-05-20T15:13:54.519Z"
   },
   {
    "duration": 29,
    "start_time": "2022-05-20T15:13:54.526Z"
   },
   {
    "duration": 29,
    "start_time": "2022-05-20T15:13:54.558Z"
   },
   {
    "duration": 6,
    "start_time": "2022-05-20T15:13:54.589Z"
   },
   {
    "duration": 12,
    "start_time": "2022-05-20T15:13:54.596Z"
   },
   {
    "duration": 38,
    "start_time": "2022-05-20T15:13:54.609Z"
   },
   {
    "duration": 16,
    "start_time": "2022-05-20T15:13:54.652Z"
   },
   {
    "duration": 17,
    "start_time": "2022-05-20T15:13:54.669Z"
   },
   {
    "duration": 27,
    "start_time": "2022-05-20T15:13:54.688Z"
   },
   {
    "duration": 38,
    "start_time": "2022-05-20T15:14:00.732Z"
   },
   {
    "duration": 16,
    "start_time": "2022-05-20T15:14:23.090Z"
   },
   {
    "duration": 84,
    "start_time": "2022-05-20T15:14:36.281Z"
   },
   {
    "duration": 26,
    "start_time": "2022-05-20T15:14:36.369Z"
   },
   {
    "duration": 13,
    "start_time": "2022-05-20T15:14:36.397Z"
   },
   {
    "duration": 8,
    "start_time": "2022-05-20T15:14:36.412Z"
   },
   {
    "duration": 49,
    "start_time": "2022-05-20T15:14:36.422Z"
   },
   {
    "duration": 39,
    "start_time": "2022-05-20T15:14:36.474Z"
   },
   {
    "duration": 7,
    "start_time": "2022-05-20T15:14:36.515Z"
   },
   {
    "duration": 29,
    "start_time": "2022-05-20T15:14:36.524Z"
   },
   {
    "duration": 11,
    "start_time": "2022-05-20T15:14:36.555Z"
   },
   {
    "duration": 14,
    "start_time": "2022-05-20T15:14:36.568Z"
   },
   {
    "duration": 12,
    "start_time": "2022-05-20T15:14:36.584Z"
   },
   {
    "duration": 8,
    "start_time": "2022-05-20T15:14:36.598Z"
   },
   {
    "duration": 14,
    "start_time": "2022-05-20T15:14:38.476Z"
   },
   {
    "duration": 32,
    "start_time": "2022-05-20T15:14:53.940Z"
   },
   {
    "duration": 92,
    "start_time": "2022-05-20T15:14:56.599Z"
   },
   {
    "duration": 19,
    "start_time": "2022-05-20T15:14:56.694Z"
   },
   {
    "duration": 14,
    "start_time": "2022-05-20T15:14:56.715Z"
   },
   {
    "duration": 10,
    "start_time": "2022-05-20T15:14:56.745Z"
   },
   {
    "duration": 54,
    "start_time": "2022-05-20T15:14:56.757Z"
   },
   {
    "duration": 34,
    "start_time": "2022-05-20T15:14:56.813Z"
   },
   {
    "duration": 13,
    "start_time": "2022-05-20T15:14:56.849Z"
   },
   {
    "duration": 42,
    "start_time": "2022-05-20T15:14:56.864Z"
   },
   {
    "duration": 12,
    "start_time": "2022-05-20T15:14:56.908Z"
   },
   {
    "duration": 15,
    "start_time": "2022-05-20T15:14:56.922Z"
   },
   {
    "duration": 31,
    "start_time": "2022-05-20T15:14:56.939Z"
   },
   {
    "duration": 54,
    "start_time": "2022-05-20T15:14:56.973Z"
   },
   {
    "duration": 16,
    "start_time": "2022-05-20T15:14:59.116Z"
   },
   {
    "duration": 6,
    "start_time": "2022-05-20T15:15:46.171Z"
   },
   {
    "duration": 78,
    "start_time": "2022-05-21T08:36:04.694Z"
   },
   {
    "duration": 367,
    "start_time": "2022-05-21T08:36:41.272Z"
   },
   {
    "duration": 74,
    "start_time": "2022-05-21T08:39:45.313Z"
   },
   {
    "duration": 15,
    "start_time": "2022-05-21T08:39:49.305Z"
   },
   {
    "duration": 292,
    "start_time": "2022-05-23T07:40:11.643Z"
   },
   {
    "duration": 17,
    "start_time": "2022-05-23T07:40:11.937Z"
   },
   {
    "duration": 27,
    "start_time": "2022-05-23T07:40:11.956Z"
   },
   {
    "duration": 8,
    "start_time": "2022-05-23T07:40:11.985Z"
   },
   {
    "duration": 13,
    "start_time": "2022-05-23T07:40:11.994Z"
   },
   {
    "duration": 21,
    "start_time": "2022-05-23T07:40:12.009Z"
   },
   {
    "duration": 20,
    "start_time": "2022-05-23T07:40:12.032Z"
   },
   {
    "duration": 14,
    "start_time": "2022-05-23T07:40:12.057Z"
   },
   {
    "duration": 9,
    "start_time": "2022-05-23T07:40:12.073Z"
   },
   {
    "duration": 11,
    "start_time": "2022-05-23T07:40:12.085Z"
   },
   {
    "duration": 11,
    "start_time": "2022-05-23T07:40:12.098Z"
   },
   {
    "duration": 10,
    "start_time": "2022-05-23T07:40:12.111Z"
   },
   {
    "duration": 9,
    "start_time": "2022-05-23T07:40:12.141Z"
   },
   {
    "duration": 20,
    "start_time": "2022-05-23T07:40:12.154Z"
   },
   {
    "duration": 8,
    "start_time": "2022-05-23T07:40:12.176Z"
   },
   {
    "duration": 14,
    "start_time": "2022-05-23T07:40:12.186Z"
   },
   {
    "duration": 12,
    "start_time": "2022-05-23T07:40:12.201Z"
   },
   {
    "duration": 6,
    "start_time": "2022-05-23T07:40:12.215Z"
   },
   {
    "duration": 28,
    "start_time": "2022-05-23T07:40:12.223Z"
   },
   {
    "duration": 42,
    "start_time": "2022-05-23T07:40:12.252Z"
   },
   {
    "duration": 6,
    "start_time": "2022-05-23T07:40:12.296Z"
   },
   {
    "duration": 26,
    "start_time": "2022-05-23T07:40:12.304Z"
   },
   {
    "duration": 36,
    "start_time": "2022-05-23T07:40:12.332Z"
   },
   {
    "duration": 46,
    "start_time": "2022-05-23T07:40:12.369Z"
   },
   {
    "duration": 13,
    "start_time": "2022-05-23T07:40:12.417Z"
   },
   {
    "duration": 13,
    "start_time": "2022-05-23T07:41:04.506Z"
   },
   {
    "duration": 8,
    "start_time": "2022-05-23T08:13:33.372Z"
   },
   {
    "duration": 47,
    "start_time": "2022-05-23T08:34:21.870Z"
   },
   {
    "duration": 260,
    "start_time": "2022-05-23T08:34:26.476Z"
   },
   {
    "duration": 1878,
    "start_time": "2022-05-23T08:35:32.276Z"
   },
   {
    "duration": 19,
    "start_time": "2022-05-23T08:35:46.396Z"
   },
   {
    "duration": 12,
    "start_time": "2022-05-23T08:40:37.236Z"
   },
   {
    "duration": 10,
    "start_time": "2022-05-23T08:41:43.938Z"
   },
   {
    "duration": 9,
    "start_time": "2022-05-23T08:42:55.757Z"
   },
   {
    "duration": 9,
    "start_time": "2022-05-23T08:42:55.969Z"
   },
   {
    "duration": 13,
    "start_time": "2022-05-23T08:42:59.802Z"
   },
   {
    "duration": 6,
    "start_time": "2022-05-23T08:43:06.060Z"
   },
   {
    "duration": 7,
    "start_time": "2022-05-23T08:44:04.169Z"
   },
   {
    "duration": 7,
    "start_time": "2022-05-23T08:44:21.233Z"
   },
   {
    "duration": 8,
    "start_time": "2022-05-23T08:44:45.977Z"
   },
   {
    "duration": 7,
    "start_time": "2022-05-23T08:45:04.187Z"
   },
   {
    "duration": 18,
    "start_time": "2022-05-23T08:45:53.201Z"
   },
   {
    "duration": 17,
    "start_time": "2022-05-23T08:45:59.713Z"
   },
   {
    "duration": 9,
    "start_time": "2022-05-23T09:05:06.580Z"
   },
   {
    "duration": 15,
    "start_time": "2022-05-23T09:05:52.643Z"
   },
   {
    "duration": 65,
    "start_time": "2022-05-23T09:07:22.692Z"
   },
   {
    "duration": 26,
    "start_time": "2022-05-23T09:07:39.019Z"
   },
   {
    "duration": 4,
    "start_time": "2022-05-23T09:07:44.283Z"
   },
   {
    "duration": 8,
    "start_time": "2022-05-23T09:07:49.332Z"
   },
   {
    "duration": 9,
    "start_time": "2022-05-23T09:09:04.628Z"
   },
   {
    "duration": 8,
    "start_time": "2022-05-23T09:10:32.578Z"
   },
   {
    "duration": 7,
    "start_time": "2022-05-23T09:11:44.562Z"
   },
   {
    "duration": 6,
    "start_time": "2022-05-23T09:12:56.697Z"
   },
   {
    "duration": 8,
    "start_time": "2022-05-23T09:17:06.131Z"
   },
   {
    "duration": 9,
    "start_time": "2022-05-23T09:17:39.744Z"
   },
   {
    "duration": 8,
    "start_time": "2022-05-23T09:17:57.874Z"
   },
   {
    "duration": 9,
    "start_time": "2022-05-23T09:18:02.840Z"
   },
   {
    "duration": 7,
    "start_time": "2022-05-23T09:18:21.568Z"
   },
   {
    "duration": 6,
    "start_time": "2022-05-23T09:18:49.008Z"
   },
   {
    "duration": 7,
    "start_time": "2022-05-23T09:20:21.303Z"
   },
   {
    "duration": 1692,
    "start_time": "2022-05-23T09:20:25.599Z"
   },
   {
    "duration": 69,
    "start_time": "2022-05-23T09:20:33.728Z"
   },
   {
    "duration": 14,
    "start_time": "2022-05-23T09:20:33.798Z"
   },
   {
    "duration": 13,
    "start_time": "2022-05-23T09:20:33.814Z"
   },
   {
    "duration": 5,
    "start_time": "2022-05-23T09:20:33.841Z"
   },
   {
    "duration": 11,
    "start_time": "2022-05-23T09:20:33.848Z"
   },
   {
    "duration": 23,
    "start_time": "2022-05-23T09:20:33.861Z"
   },
   {
    "duration": 5,
    "start_time": "2022-05-23T09:20:33.886Z"
   },
   {
    "duration": 11,
    "start_time": "2022-05-23T09:20:33.892Z"
   },
   {
    "duration": 36,
    "start_time": "2022-05-23T09:20:33.905Z"
   },
   {
    "duration": 10,
    "start_time": "2022-05-23T09:20:33.944Z"
   },
   {
    "duration": 11,
    "start_time": "2022-05-23T09:20:33.955Z"
   },
   {
    "duration": 10,
    "start_time": "2022-05-23T09:20:33.967Z"
   },
   {
    "duration": 5,
    "start_time": "2022-05-23T09:20:33.979Z"
   },
   {
    "duration": 10,
    "start_time": "2022-05-23T09:20:33.986Z"
   },
   {
    "duration": 21,
    "start_time": "2022-05-23T09:20:33.998Z"
   },
   {
    "duration": 21,
    "start_time": "2022-05-23T09:20:34.020Z"
   },
   {
    "duration": 8,
    "start_time": "2022-05-23T09:20:34.042Z"
   },
   {
    "duration": 7,
    "start_time": "2022-05-23T09:20:34.051Z"
   },
   {
    "duration": 8,
    "start_time": "2022-05-23T09:20:34.061Z"
   },
   {
    "duration": 16,
    "start_time": "2022-05-23T09:20:34.070Z"
   },
   {
    "duration": 5,
    "start_time": "2022-05-23T09:20:34.088Z"
   },
   {
    "duration": 16,
    "start_time": "2022-05-23T09:20:34.094Z"
   },
   {
    "duration": 18,
    "start_time": "2022-05-23T09:20:34.140Z"
   },
   {
    "duration": 32,
    "start_time": "2022-05-23T09:20:34.159Z"
   },
   {
    "duration": 11,
    "start_time": "2022-05-23T09:20:34.192Z"
   },
   {
    "duration": 36,
    "start_time": "2022-05-23T09:20:34.205Z"
   },
   {
    "duration": 8,
    "start_time": "2022-05-23T09:20:34.243Z"
   },
   {
    "duration": 9,
    "start_time": "2022-05-23T09:20:34.254Z"
   },
   {
    "duration": 17,
    "start_time": "2022-05-23T09:20:35.879Z"
   },
   {
    "duration": 6,
    "start_time": "2022-05-23T09:20:38.759Z"
   },
   {
    "duration": 7,
    "start_time": "2022-05-23T09:20:43.799Z"
   },
   {
    "duration": 5,
    "start_time": "2022-05-23T09:21:30.719Z"
   },
   {
    "duration": 8,
    "start_time": "2022-05-23T09:21:36.942Z"
   },
   {
    "duration": 8,
    "start_time": "2022-05-23T09:21:40.959Z"
   },
   {
    "duration": 5,
    "start_time": "2022-05-23T09:21:48.030Z"
   },
   {
    "duration": 8,
    "start_time": "2022-05-23T09:21:53.246Z"
   },
   {
    "duration": 6,
    "start_time": "2022-05-23T09:21:56.710Z"
   },
   {
    "duration": 73,
    "start_time": "2022-05-23T09:22:28.997Z"
   },
   {
    "duration": 14,
    "start_time": "2022-05-23T09:22:29.071Z"
   },
   {
    "duration": 13,
    "start_time": "2022-05-23T09:22:29.087Z"
   },
   {
    "duration": 15,
    "start_time": "2022-05-23T09:22:29.103Z"
   },
   {
    "duration": 34,
    "start_time": "2022-05-23T09:22:29.120Z"
   },
   {
    "duration": 22,
    "start_time": "2022-05-23T09:22:29.156Z"
   },
   {
    "duration": 5,
    "start_time": "2022-05-23T09:22:29.179Z"
   },
   {
    "duration": 20,
    "start_time": "2022-05-23T09:22:29.186Z"
   },
   {
    "duration": 7,
    "start_time": "2022-05-23T09:22:29.207Z"
   },
   {
    "duration": 31,
    "start_time": "2022-05-23T09:22:29.218Z"
   },
   {
    "duration": 9,
    "start_time": "2022-05-23T09:22:29.252Z"
   },
   {
    "duration": 10,
    "start_time": "2022-05-23T09:22:29.263Z"
   },
   {
    "duration": 7,
    "start_time": "2022-05-23T09:22:29.274Z"
   },
   {
    "duration": 16,
    "start_time": "2022-05-23T09:22:29.282Z"
   },
   {
    "duration": 19,
    "start_time": "2022-05-23T09:22:29.299Z"
   },
   {
    "duration": 12,
    "start_time": "2022-05-23T09:22:29.320Z"
   },
   {
    "duration": 10,
    "start_time": "2022-05-23T09:22:29.341Z"
   },
   {
    "duration": 15,
    "start_time": "2022-05-23T09:22:29.353Z"
   },
   {
    "duration": 12,
    "start_time": "2022-05-23T09:22:29.370Z"
   },
   {
    "duration": 21,
    "start_time": "2022-05-23T09:22:29.384Z"
   },
   {
    "duration": 6,
    "start_time": "2022-05-23T09:22:29.406Z"
   },
   {
    "duration": 18,
    "start_time": "2022-05-23T09:22:29.413Z"
   },
   {
    "duration": 21,
    "start_time": "2022-05-23T09:22:29.441Z"
   },
   {
    "duration": 32,
    "start_time": "2022-05-23T09:22:29.463Z"
   },
   {
    "duration": 10,
    "start_time": "2022-05-23T09:22:29.497Z"
   },
   {
    "duration": 37,
    "start_time": "2022-05-23T09:22:29.509Z"
   },
   {
    "duration": 6,
    "start_time": "2022-05-23T09:22:29.548Z"
   },
   {
    "duration": 8,
    "start_time": "2022-05-23T09:22:31.831Z"
   },
   {
    "duration": 16,
    "start_time": "2022-05-23T09:22:33.214Z"
   },
   {
    "duration": 5,
    "start_time": "2022-05-23T09:22:35.182Z"
   },
   {
    "duration": 9,
    "start_time": "2022-05-23T09:22:38.094Z"
   },
   {
    "duration": 7,
    "start_time": "2022-05-23T09:22:40.342Z"
   },
   {
    "duration": 6,
    "start_time": "2022-05-23T09:22:43.543Z"
   },
   {
    "duration": 12,
    "start_time": "2022-05-23T09:24:16.982Z"
   },
   {
    "duration": 18,
    "start_time": "2022-05-23T09:24:36.094Z"
   },
   {
    "duration": 148,
    "start_time": "2022-05-23T09:33:09.301Z"
   },
   {
    "duration": 45,
    "start_time": "2022-05-23T09:33:51.780Z"
   },
   {
    "duration": 411,
    "start_time": "2022-05-23T09:34:01.876Z"
   },
   {
    "duration": 17,
    "start_time": "2022-05-23T09:35:02.476Z"
   },
   {
    "duration": 18,
    "start_time": "2022-05-23T09:35:33.876Z"
   },
   {
    "duration": 14,
    "start_time": "2022-05-23T09:35:47.603Z"
   },
   {
    "duration": 6,
    "start_time": "2022-05-23T10:25:07.481Z"
   },
   {
    "duration": 14,
    "start_time": "2022-05-23T10:29:11.976Z"
   },
   {
    "duration": 18,
    "start_time": "2022-05-23T10:30:06.488Z"
   },
   {
    "duration": 7,
    "start_time": "2022-05-23T10:30:48.048Z"
   },
   {
    "duration": 8,
    "start_time": "2022-05-23T10:33:24.263Z"
   },
   {
    "duration": 635,
    "start_time": "2022-05-23T10:33:33.855Z"
   },
   {
    "duration": 70,
    "start_time": "2022-05-23T10:33:38.573Z"
   },
   {
    "duration": 14,
    "start_time": "2022-05-23T10:33:38.645Z"
   },
   {
    "duration": 14,
    "start_time": "2022-05-23T10:33:38.660Z"
   },
   {
    "duration": 5,
    "start_time": "2022-05-23T10:33:38.676Z"
   },
   {
    "duration": 14,
    "start_time": "2022-05-23T10:33:38.682Z"
   },
   {
    "duration": 45,
    "start_time": "2022-05-23T10:33:38.697Z"
   },
   {
    "duration": 5,
    "start_time": "2022-05-23T10:33:38.744Z"
   },
   {
    "duration": 11,
    "start_time": "2022-05-23T10:33:38.750Z"
   },
   {
    "duration": 7,
    "start_time": "2022-05-23T10:33:38.762Z"
   },
   {
    "duration": 10,
    "start_time": "2022-05-23T10:33:38.771Z"
   },
   {
    "duration": 6,
    "start_time": "2022-05-23T10:33:38.782Z"
   },
   {
    "duration": 8,
    "start_time": "2022-05-23T10:33:38.790Z"
   },
   {
    "duration": 42,
    "start_time": "2022-05-23T10:33:38.799Z"
   },
   {
    "duration": 10,
    "start_time": "2022-05-23T10:33:38.843Z"
   },
   {
    "duration": 8,
    "start_time": "2022-05-23T10:33:38.855Z"
   },
   {
    "duration": 9,
    "start_time": "2022-05-23T10:33:38.864Z"
   },
   {
    "duration": 9,
    "start_time": "2022-05-23T10:33:38.875Z"
   },
   {
    "duration": 5,
    "start_time": "2022-05-23T10:33:38.885Z"
   },
   {
    "duration": 10,
    "start_time": "2022-05-23T10:33:38.891Z"
   },
   {
    "duration": 46,
    "start_time": "2022-05-23T10:33:38.903Z"
   },
   {
    "duration": 5,
    "start_time": "2022-05-23T10:33:38.950Z"
   },
   {
    "duration": 17,
    "start_time": "2022-05-23T10:33:38.956Z"
   },
   {
    "duration": 21,
    "start_time": "2022-05-23T10:33:38.974Z"
   },
   {
    "duration": 58,
    "start_time": "2022-05-23T10:33:38.997Z"
   },
   {
    "duration": 13,
    "start_time": "2022-05-23T10:33:39.058Z"
   },
   {
    "duration": 14,
    "start_time": "2022-05-23T10:33:39.073Z"
   },
   {
    "duration": 8,
    "start_time": "2022-05-23T10:33:39.090Z"
   },
   {
    "duration": 10,
    "start_time": "2022-05-23T10:33:39.101Z"
   },
   {
    "duration": 18,
    "start_time": "2022-05-23T10:33:41.162Z"
   },
   {
    "duration": 5,
    "start_time": "2022-05-23T10:33:45.247Z"
   },
   {
    "duration": 7,
    "start_time": "2022-05-23T10:33:51.576Z"
   },
   {
    "duration": 77,
    "start_time": "2022-05-23T10:33:57.829Z"
   },
   {
    "duration": 15,
    "start_time": "2022-05-23T10:33:57.907Z"
   },
   {
    "duration": 22,
    "start_time": "2022-05-23T10:33:57.924Z"
   },
   {
    "duration": 6,
    "start_time": "2022-05-23T10:33:57.948Z"
   },
   {
    "duration": 19,
    "start_time": "2022-05-23T10:33:57.956Z"
   },
   {
    "duration": 23,
    "start_time": "2022-05-23T10:33:57.977Z"
   },
   {
    "duration": 6,
    "start_time": "2022-05-23T10:33:58.002Z"
   },
   {
    "duration": 37,
    "start_time": "2022-05-23T10:33:58.010Z"
   },
   {
    "duration": 7,
    "start_time": "2022-05-23T10:33:58.049Z"
   },
   {
    "duration": 11,
    "start_time": "2022-05-23T10:33:58.059Z"
   },
   {
    "duration": 6,
    "start_time": "2022-05-23T10:33:58.072Z"
   },
   {
    "duration": 13,
    "start_time": "2022-05-23T10:33:58.080Z"
   },
   {
    "duration": 7,
    "start_time": "2022-05-23T10:33:58.095Z"
   },
   {
    "duration": 41,
    "start_time": "2022-05-23T10:33:58.103Z"
   },
   {
    "duration": 8,
    "start_time": "2022-05-23T10:33:58.145Z"
   },
   {
    "duration": 7,
    "start_time": "2022-05-23T10:33:58.154Z"
   },
   {
    "duration": 8,
    "start_time": "2022-05-23T10:33:58.163Z"
   },
   {
    "duration": 10,
    "start_time": "2022-05-23T10:33:58.173Z"
   },
   {
    "duration": 12,
    "start_time": "2022-05-23T10:33:58.184Z"
   },
   {
    "duration": 45,
    "start_time": "2022-05-23T10:33:58.197Z"
   },
   {
    "duration": 5,
    "start_time": "2022-05-23T10:33:58.244Z"
   },
   {
    "duration": 14,
    "start_time": "2022-05-23T10:33:58.251Z"
   },
   {
    "duration": 20,
    "start_time": "2022-05-23T10:33:58.267Z"
   },
   {
    "duration": 62,
    "start_time": "2022-05-23T10:33:58.288Z"
   },
   {
    "duration": 12,
    "start_time": "2022-05-23T10:33:58.352Z"
   },
   {
    "duration": 14,
    "start_time": "2022-05-23T10:33:58.366Z"
   },
   {
    "duration": 7,
    "start_time": "2022-05-23T10:33:58.382Z"
   },
   {
    "duration": 7,
    "start_time": "2022-05-23T10:33:58.392Z"
   },
   {
    "duration": 17,
    "start_time": "2022-05-23T10:34:00.207Z"
   },
   {
    "duration": 5,
    "start_time": "2022-05-23T10:34:02.063Z"
   },
   {
    "duration": 84,
    "start_time": "2022-05-23T10:34:19.197Z"
   },
   {
    "duration": 15,
    "start_time": "2022-05-23T10:34:19.283Z"
   },
   {
    "duration": 14,
    "start_time": "2022-05-23T10:34:19.300Z"
   },
   {
    "duration": 5,
    "start_time": "2022-05-23T10:34:19.341Z"
   },
   {
    "duration": 15,
    "start_time": "2022-05-23T10:34:19.348Z"
   },
   {
    "duration": 23,
    "start_time": "2022-05-23T10:34:19.365Z"
   },
   {
    "duration": 5,
    "start_time": "2022-05-23T10:34:19.390Z"
   },
   {
    "duration": 12,
    "start_time": "2022-05-23T10:34:19.396Z"
   },
   {
    "duration": 37,
    "start_time": "2022-05-23T10:34:19.410Z"
   },
   {
    "duration": 11,
    "start_time": "2022-05-23T10:34:19.450Z"
   },
   {
    "duration": 7,
    "start_time": "2022-05-23T10:34:19.463Z"
   },
   {
    "duration": 7,
    "start_time": "2022-05-23T10:34:19.472Z"
   },
   {
    "duration": 9,
    "start_time": "2022-05-23T10:34:19.480Z"
   },
   {
    "duration": 7,
    "start_time": "2022-05-23T10:34:19.491Z"
   },
   {
    "duration": 48,
    "start_time": "2022-05-23T10:34:19.500Z"
   },
   {
    "duration": 11,
    "start_time": "2022-05-23T10:34:19.550Z"
   },
   {
    "duration": 9,
    "start_time": "2022-05-23T10:34:19.563Z"
   },
   {
    "duration": 14,
    "start_time": "2022-05-23T10:34:19.574Z"
   },
   {
    "duration": 9,
    "start_time": "2022-05-23T10:34:19.590Z"
   },
   {
    "duration": 45,
    "start_time": "2022-05-23T10:34:19.601Z"
   },
   {
    "duration": 6,
    "start_time": "2022-05-23T10:34:19.648Z"
   },
   {
    "duration": 16,
    "start_time": "2022-05-23T10:34:19.656Z"
   },
   {
    "duration": 23,
    "start_time": "2022-05-23T10:34:19.674Z"
   },
   {
    "duration": 58,
    "start_time": "2022-05-23T10:34:19.698Z"
   },
   {
    "duration": 12,
    "start_time": "2022-05-23T10:34:19.758Z"
   },
   {
    "duration": 12,
    "start_time": "2022-05-23T10:34:19.772Z"
   },
   {
    "duration": 10,
    "start_time": "2022-05-23T10:34:19.786Z"
   },
   {
    "duration": 8,
    "start_time": "2022-05-23T10:34:24.111Z"
   },
   {
    "duration": 19,
    "start_time": "2022-05-23T10:34:25.951Z"
   },
   {
    "duration": 6,
    "start_time": "2022-05-23T10:34:27.703Z"
   },
   {
    "duration": 9,
    "start_time": "2022-05-23T10:34:48.143Z"
   },
   {
    "duration": 12,
    "start_time": "2022-05-23T10:35:37.031Z"
   },
   {
    "duration": 15,
    "start_time": "2022-05-23T10:36:02.776Z"
   },
   {
    "duration": 7,
    "start_time": "2022-05-23T10:36:25.007Z"
   },
   {
    "duration": 538,
    "start_time": "2022-05-23T10:36:55.615Z"
   },
   {
    "duration": 17,
    "start_time": "2022-05-23T10:36:56.155Z"
   },
   {
    "duration": 21,
    "start_time": "2022-05-23T10:36:56.174Z"
   },
   {
    "duration": 4,
    "start_time": "2022-05-23T10:36:56.199Z"
   },
   {
    "duration": 40,
    "start_time": "2022-05-23T10:36:56.205Z"
   },
   {
    "duration": 22,
    "start_time": "2022-05-23T10:36:56.248Z"
   },
   {
    "duration": 5,
    "start_time": "2022-05-23T10:36:56.272Z"
   },
   {
    "duration": 12,
    "start_time": "2022-05-23T10:36:56.279Z"
   },
   {
    "duration": 7,
    "start_time": "2022-05-23T10:36:56.293Z"
   },
   {
    "duration": 49,
    "start_time": "2022-05-23T10:36:56.302Z"
   },
   {
    "duration": 6,
    "start_time": "2022-05-23T10:36:56.353Z"
   },
   {
    "duration": 8,
    "start_time": "2022-05-23T10:36:56.360Z"
   },
   {
    "duration": 6,
    "start_time": "2022-05-23T10:36:56.371Z"
   },
   {
    "duration": 15,
    "start_time": "2022-05-23T10:36:56.379Z"
   },
   {
    "duration": 9,
    "start_time": "2022-05-23T10:36:56.396Z"
   },
   {
    "duration": 39,
    "start_time": "2022-05-23T10:36:56.407Z"
   },
   {
    "duration": 8,
    "start_time": "2022-05-23T10:36:56.448Z"
   },
   {
    "duration": 8,
    "start_time": "2022-05-23T10:36:56.458Z"
   },
   {
    "duration": 12,
    "start_time": "2022-05-23T10:36:56.468Z"
   },
   {
    "duration": 60,
    "start_time": "2022-05-23T10:36:56.482Z"
   },
   {
    "duration": 6,
    "start_time": "2022-05-23T10:36:56.544Z"
   },
   {
    "duration": 15,
    "start_time": "2022-05-23T10:36:56.553Z"
   },
   {
    "duration": 24,
    "start_time": "2022-05-23T10:36:56.569Z"
   },
   {
    "duration": 63,
    "start_time": "2022-05-23T10:36:56.595Z"
   },
   {
    "duration": 13,
    "start_time": "2022-05-23T10:36:56.660Z"
   },
   {
    "duration": 17,
    "start_time": "2022-05-23T10:36:56.675Z"
   },
   {
    "duration": 8,
    "start_time": "2022-05-23T10:36:56.694Z"
   },
   {
    "duration": 39,
    "start_time": "2022-05-23T10:36:56.705Z"
   },
   {
    "duration": 35,
    "start_time": "2022-05-23T10:36:56.745Z"
   },
   {
    "duration": 6,
    "start_time": "2022-05-23T10:36:56.782Z"
   },
   {
    "duration": 12,
    "start_time": "2022-05-23T10:36:56.790Z"
   },
   {
    "duration": 15,
    "start_time": "2022-05-23T10:36:56.804Z"
   },
   {
    "duration": 9,
    "start_time": "2022-05-23T10:36:56.821Z"
   },
   {
    "duration": 8,
    "start_time": "2022-05-23T10:36:56.842Z"
   },
   {
    "duration": 21,
    "start_time": "2022-05-23T10:36:56.852Z"
   },
   {
    "duration": 28,
    "start_time": "2022-05-23T10:36:56.876Z"
   },
   {
    "duration": 28,
    "start_time": "2022-05-23T10:36:56.907Z"
   },
   {
    "duration": 29,
    "start_time": "2022-05-23T10:39:09.926Z"
   },
   {
    "duration": 18,
    "start_time": "2022-05-23T10:39:22.901Z"
   },
   {
    "duration": 71,
    "start_time": "2022-05-23T10:39:35.109Z"
   },
   {
    "duration": 15,
    "start_time": "2022-05-23T10:39:35.181Z"
   },
   {
    "duration": 14,
    "start_time": "2022-05-23T10:39:35.197Z"
   },
   {
    "duration": 9,
    "start_time": "2022-05-23T10:39:35.213Z"
   },
   {
    "duration": 10,
    "start_time": "2022-05-23T10:39:35.242Z"
   },
   {
    "duration": 20,
    "start_time": "2022-05-23T10:39:35.254Z"
   },
   {
    "duration": 4,
    "start_time": "2022-05-23T10:39:35.276Z"
   },
   {
    "duration": 12,
    "start_time": "2022-05-23T10:39:35.281Z"
   },
   {
    "duration": 6,
    "start_time": "2022-05-23T10:39:35.295Z"
   },
   {
    "duration": 41,
    "start_time": "2022-05-23T10:39:35.304Z"
   },
   {
    "duration": 6,
    "start_time": "2022-05-23T10:39:35.347Z"
   },
   {
    "duration": 7,
    "start_time": "2022-05-23T10:39:35.355Z"
   },
   {
    "duration": 7,
    "start_time": "2022-05-23T10:39:35.364Z"
   },
   {
    "duration": 15,
    "start_time": "2022-05-23T10:39:35.372Z"
   },
   {
    "duration": 8,
    "start_time": "2022-05-23T10:39:35.389Z"
   },
   {
    "duration": 9,
    "start_time": "2022-05-23T10:39:35.399Z"
   },
   {
    "duration": 35,
    "start_time": "2022-05-23T10:39:35.410Z"
   },
   {
    "duration": 9,
    "start_time": "2022-05-23T10:39:35.446Z"
   },
   {
    "duration": 9,
    "start_time": "2022-05-23T10:39:35.456Z"
   },
   {
    "duration": 26,
    "start_time": "2022-05-23T10:39:35.467Z"
   },
   {
    "duration": 5,
    "start_time": "2022-05-23T10:39:35.495Z"
   },
   {
    "duration": 16,
    "start_time": "2022-05-23T10:39:35.501Z"
   },
   {
    "duration": 31,
    "start_time": "2022-05-23T10:39:35.518Z"
   },
   {
    "duration": 31,
    "start_time": "2022-05-23T10:39:35.551Z"
   },
   {
    "duration": 12,
    "start_time": "2022-05-23T10:39:35.584Z"
   },
   {
    "duration": 13,
    "start_time": "2022-05-23T10:39:35.597Z"
   },
   {
    "duration": 33,
    "start_time": "2022-05-23T10:39:35.612Z"
   },
   {
    "duration": 12,
    "start_time": "2022-05-23T10:39:35.647Z"
   },
   {
    "duration": 27,
    "start_time": "2022-05-23T10:39:35.660Z"
   },
   {
    "duration": 15,
    "start_time": "2022-05-23T10:39:35.689Z"
   },
   {
    "duration": 20,
    "start_time": "2022-05-23T10:39:37.710Z"
   },
   {
    "duration": 8,
    "start_time": "2022-05-23T10:40:19.221Z"
   },
   {
    "duration": 8,
    "start_time": "2022-05-23T10:40:26.789Z"
   },
   {
    "duration": 8,
    "start_time": "2022-05-23T10:40:36.308Z"
   },
   {
    "duration": 70,
    "start_time": "2022-05-23T10:40:57.483Z"
   },
   {
    "duration": 14,
    "start_time": "2022-05-23T10:40:57.554Z"
   },
   {
    "duration": 15,
    "start_time": "2022-05-23T10:40:57.570Z"
   },
   {
    "duration": 11,
    "start_time": "2022-05-23T10:40:57.586Z"
   },
   {
    "duration": 14,
    "start_time": "2022-05-23T10:40:57.599Z"
   },
   {
    "duration": 36,
    "start_time": "2022-05-23T10:40:57.615Z"
   },
   {
    "duration": 4,
    "start_time": "2022-05-23T10:40:57.653Z"
   },
   {
    "duration": 15,
    "start_time": "2022-05-23T10:40:57.658Z"
   },
   {
    "duration": 7,
    "start_time": "2022-05-23T10:40:57.674Z"
   },
   {
    "duration": 11,
    "start_time": "2022-05-23T10:40:57.683Z"
   },
   {
    "duration": 6,
    "start_time": "2022-05-23T10:40:57.696Z"
   },
   {
    "duration": 37,
    "start_time": "2022-05-23T10:40:57.705Z"
   },
   {
    "duration": 11,
    "start_time": "2022-05-23T10:40:57.744Z"
   },
   {
    "duration": 9,
    "start_time": "2022-05-23T10:40:57.756Z"
   },
   {
    "duration": 18,
    "start_time": "2022-05-23T10:40:57.767Z"
   },
   {
    "duration": 7,
    "start_time": "2022-05-23T10:40:57.786Z"
   },
   {
    "duration": 11,
    "start_time": "2022-05-23T10:40:57.795Z"
   },
   {
    "duration": 10,
    "start_time": "2022-05-23T10:40:57.808Z"
   },
   {
    "duration": 24,
    "start_time": "2022-05-23T10:40:57.820Z"
   },
   {
    "duration": 27,
    "start_time": "2022-05-23T10:40:57.846Z"
   },
   {
    "duration": 5,
    "start_time": "2022-05-23T10:40:57.875Z"
   },
   {
    "duration": 14,
    "start_time": "2022-05-23T10:40:57.882Z"
   },
   {
    "duration": 18,
    "start_time": "2022-05-23T10:40:57.898Z"
   },
   {
    "duration": 52,
    "start_time": "2022-05-23T10:40:57.918Z"
   },
   {
    "duration": 13,
    "start_time": "2022-05-23T10:40:57.971Z"
   },
   {
    "duration": 12,
    "start_time": "2022-05-23T10:40:57.985Z"
   },
   {
    "duration": 8,
    "start_time": "2022-05-23T10:40:57.998Z"
   },
   {
    "duration": 7,
    "start_time": "2022-05-23T10:41:09.717Z"
   },
   {
    "duration": 26,
    "start_time": "2022-05-23T10:41:19.189Z"
   },
   {
    "duration": 5,
    "start_time": "2022-05-23T10:41:22.973Z"
   },
   {
    "duration": 7,
    "start_time": "2022-05-23T10:51:02.028Z"
   },
   {
    "duration": 6,
    "start_time": "2022-05-23T10:51:12.164Z"
   },
   {
    "duration": 6,
    "start_time": "2022-05-23T10:51:41.915Z"
   },
   {
    "duration": 71,
    "start_time": "2022-05-23T10:51:44.889Z"
   },
   {
    "duration": 16,
    "start_time": "2022-05-23T10:51:44.961Z"
   },
   {
    "duration": 21,
    "start_time": "2022-05-23T10:51:44.979Z"
   },
   {
    "duration": 7,
    "start_time": "2022-05-23T10:51:45.003Z"
   },
   {
    "duration": 35,
    "start_time": "2022-05-23T10:51:45.011Z"
   },
   {
    "duration": 24,
    "start_time": "2022-05-23T10:51:45.048Z"
   },
   {
    "duration": 5,
    "start_time": "2022-05-23T10:51:45.073Z"
   },
   {
    "duration": 29,
    "start_time": "2022-05-23T10:51:45.080Z"
   },
   {
    "duration": 8,
    "start_time": "2022-05-23T10:51:45.110Z"
   },
   {
    "duration": 27,
    "start_time": "2022-05-23T10:51:45.120Z"
   },
   {
    "duration": 16,
    "start_time": "2022-05-23T10:51:45.149Z"
   },
   {
    "duration": 7,
    "start_time": "2022-05-23T10:51:45.166Z"
   },
   {
    "duration": 11,
    "start_time": "2022-05-23T10:51:45.174Z"
   },
   {
    "duration": 15,
    "start_time": "2022-05-23T10:51:45.186Z"
   },
   {
    "duration": 8,
    "start_time": "2022-05-23T10:51:45.203Z"
   },
   {
    "duration": 7,
    "start_time": "2022-05-23T10:51:45.241Z"
   },
   {
    "duration": 8,
    "start_time": "2022-05-23T10:51:45.250Z"
   },
   {
    "duration": 9,
    "start_time": "2022-05-23T10:51:45.260Z"
   },
   {
    "duration": 8,
    "start_time": "2022-05-23T10:51:45.270Z"
   },
   {
    "duration": 20,
    "start_time": "2022-05-23T10:51:45.280Z"
   },
   {
    "duration": 5,
    "start_time": "2022-05-23T10:51:45.302Z"
   },
   {
    "duration": 45,
    "start_time": "2022-05-23T10:51:45.308Z"
   },
   {
    "duration": 22,
    "start_time": "2022-05-23T10:51:45.355Z"
   },
   {
    "duration": 35,
    "start_time": "2022-05-23T10:51:45.379Z"
   },
   {
    "duration": 35,
    "start_time": "2022-05-23T10:51:45.416Z"
   },
   {
    "duration": 11,
    "start_time": "2022-05-23T10:51:45.452Z"
   },
   {
    "duration": 28,
    "start_time": "2022-05-23T10:51:45.465Z"
   },
   {
    "duration": 8,
    "start_time": "2022-05-23T10:51:49.597Z"
   },
   {
    "duration": 30,
    "start_time": "2022-05-23T10:51:52.467Z"
   },
   {
    "duration": 7,
    "start_time": "2022-05-23T10:51:54.371Z"
   },
   {
    "duration": 11,
    "start_time": "2022-05-23T10:51:56.907Z"
   },
   {
    "duration": 8,
    "start_time": "2022-05-23T10:51:58.908Z"
   },
   {
    "duration": 7,
    "start_time": "2022-05-23T10:52:10.195Z"
   },
   {
    "duration": 70,
    "start_time": "2022-05-23T10:52:48.833Z"
   },
   {
    "duration": 16,
    "start_time": "2022-05-23T10:52:48.904Z"
   },
   {
    "duration": 21,
    "start_time": "2022-05-23T10:52:48.922Z"
   },
   {
    "duration": 11,
    "start_time": "2022-05-23T10:52:48.946Z"
   },
   {
    "duration": 26,
    "start_time": "2022-05-23T10:52:48.960Z"
   },
   {
    "duration": 28,
    "start_time": "2022-05-23T10:52:48.988Z"
   },
   {
    "duration": 5,
    "start_time": "2022-05-23T10:52:49.017Z"
   },
   {
    "duration": 25,
    "start_time": "2022-05-23T10:52:49.023Z"
   },
   {
    "duration": 11,
    "start_time": "2022-05-23T10:52:49.049Z"
   },
   {
    "duration": 27,
    "start_time": "2022-05-23T10:52:49.062Z"
   },
   {
    "duration": 7,
    "start_time": "2022-05-23T10:52:49.091Z"
   },
   {
    "duration": 19,
    "start_time": "2022-05-23T10:52:49.100Z"
   },
   {
    "duration": 15,
    "start_time": "2022-05-23T10:52:49.121Z"
   },
   {
    "duration": 13,
    "start_time": "2022-05-23T10:52:49.138Z"
   },
   {
    "duration": 27,
    "start_time": "2022-05-23T10:52:49.153Z"
   },
   {
    "duration": 20,
    "start_time": "2022-05-23T10:52:49.182Z"
   },
   {
    "duration": 24,
    "start_time": "2022-05-23T10:52:49.204Z"
   },
   {
    "duration": 16,
    "start_time": "2022-05-23T10:52:49.230Z"
   },
   {
    "duration": 15,
    "start_time": "2022-05-23T10:52:49.248Z"
   },
   {
    "duration": 25,
    "start_time": "2022-05-23T10:52:49.265Z"
   },
   {
    "duration": 5,
    "start_time": "2022-05-23T10:52:49.291Z"
   },
   {
    "duration": 30,
    "start_time": "2022-05-23T10:52:49.298Z"
   },
   {
    "duration": 24,
    "start_time": "2022-05-23T10:52:49.330Z"
   },
   {
    "duration": 31,
    "start_time": "2022-05-23T10:52:49.356Z"
   },
   {
    "duration": 12,
    "start_time": "2022-05-23T10:52:49.388Z"
   },
   {
    "duration": 21,
    "start_time": "2022-05-23T10:52:49.401Z"
   },
   {
    "duration": 24,
    "start_time": "2022-05-23T10:52:49.424Z"
   },
   {
    "duration": 7,
    "start_time": "2022-05-23T10:52:56.795Z"
   },
   {
    "duration": 7,
    "start_time": "2022-05-23T10:53:05.963Z"
   },
   {
    "duration": 17,
    "start_time": "2022-05-23T10:53:10.635Z"
   },
   {
    "duration": 11,
    "start_time": "2022-05-23T10:53:15.699Z"
   },
   {
    "duration": 4,
    "start_time": "2022-05-23T10:53:22.220Z"
   },
   {
    "duration": 6,
    "start_time": "2022-05-23T10:53:27.434Z"
   },
   {
    "duration": 9,
    "start_time": "2022-05-23T10:53:34.258Z"
   },
   {
    "duration": 70,
    "start_time": "2022-05-23T10:53:43.490Z"
   },
   {
    "duration": 6,
    "start_time": "2022-05-23T10:53:52.722Z"
   },
   {
    "duration": 5,
    "start_time": "2022-05-23T10:54:38.147Z"
   },
   {
    "duration": 5,
    "start_time": "2022-05-23T10:54:57.898Z"
   },
   {
    "duration": 16,
    "start_time": "2022-05-23T10:55:05.370Z"
   },
   {
    "duration": 5,
    "start_time": "2022-05-23T10:55:34.106Z"
   },
   {
    "duration": 20,
    "start_time": "2022-05-23T10:55:53.370Z"
   },
   {
    "duration": 37,
    "start_time": "2022-05-23T10:56:11.081Z"
   },
   {
    "duration": 26,
    "start_time": "2022-05-23T10:56:13.938Z"
   },
   {
    "duration": 8,
    "start_time": "2022-05-23T10:56:28.169Z"
   },
   {
    "duration": 7,
    "start_time": "2022-05-23T10:56:33.330Z"
   },
   {
    "duration": 9,
    "start_time": "2022-05-23T10:56:51.569Z"
   },
   {
    "duration": 9,
    "start_time": "2022-05-23T10:56:53.545Z"
   },
   {
    "duration": 10,
    "start_time": "2022-05-23T10:56:57.401Z"
   },
   {
    "duration": 8,
    "start_time": "2022-05-23T10:59:14.785Z"
   },
   {
    "duration": 16,
    "start_time": "2022-05-23T10:59:47.497Z"
   },
   {
    "duration": 7,
    "start_time": "2022-05-23T10:59:50.560Z"
   },
   {
    "duration": 19,
    "start_time": "2022-05-23T11:07:20.470Z"
   },
   {
    "duration": 17,
    "start_time": "2022-05-23T11:07:25.830Z"
   },
   {
    "duration": 17,
    "start_time": "2022-05-23T11:09:14.110Z"
   },
   {
    "duration": 12,
    "start_time": "2022-05-23T11:09:17.718Z"
   },
   {
    "duration": 16,
    "start_time": "2022-05-23T11:09:46.814Z"
   },
   {
    "duration": 14,
    "start_time": "2022-05-23T11:09:49.709Z"
   },
   {
    "duration": 15,
    "start_time": "2022-05-23T11:12:38.445Z"
   },
   {
    "duration": 7,
    "start_time": "2022-05-23T11:13:41.468Z"
   },
   {
    "duration": 9,
    "start_time": "2022-05-23T11:14:39.516Z"
   },
   {
    "duration": 7,
    "start_time": "2022-05-23T11:14:44.572Z"
   },
   {
    "duration": 30,
    "start_time": "2022-05-23T11:17:05.860Z"
   },
   {
    "duration": 35,
    "start_time": "2022-05-23T11:17:17.596Z"
   },
   {
    "duration": 16,
    "start_time": "2022-05-23T11:17:25.268Z"
   },
   {
    "duration": 17,
    "start_time": "2022-05-23T11:19:38.140Z"
   },
   {
    "duration": 17,
    "start_time": "2022-05-23T11:19:48.612Z"
   },
   {
    "duration": 17,
    "start_time": "2022-05-23T11:20:07.211Z"
   },
   {
    "duration": 10,
    "start_time": "2022-05-23T11:20:28.035Z"
   },
   {
    "duration": 15,
    "start_time": "2022-05-23T11:20:38.827Z"
   },
   {
    "duration": 15,
    "start_time": "2022-05-23T11:20:51.244Z"
   },
   {
    "duration": 38,
    "start_time": "2022-05-23T11:20:57.475Z"
   },
   {
    "duration": 72,
    "start_time": "2022-05-23T11:24:38.002Z"
   },
   {
    "duration": 15,
    "start_time": "2022-05-23T11:24:38.076Z"
   },
   {
    "duration": 13,
    "start_time": "2022-05-23T11:24:38.092Z"
   },
   {
    "duration": 5,
    "start_time": "2022-05-23T11:24:38.108Z"
   },
   {
    "duration": 36,
    "start_time": "2022-05-23T11:24:38.115Z"
   },
   {
    "duration": 20,
    "start_time": "2022-05-23T11:24:38.153Z"
   },
   {
    "duration": 4,
    "start_time": "2022-05-23T11:24:38.175Z"
   },
   {
    "duration": 10,
    "start_time": "2022-05-23T11:24:38.181Z"
   },
   {
    "duration": 11,
    "start_time": "2022-05-23T11:24:38.193Z"
   },
   {
    "duration": 42,
    "start_time": "2022-05-23T11:24:38.207Z"
   },
   {
    "duration": 7,
    "start_time": "2022-05-23T11:24:38.250Z"
   },
   {
    "duration": 6,
    "start_time": "2022-05-23T11:24:38.258Z"
   },
   {
    "duration": 7,
    "start_time": "2022-05-23T11:24:38.265Z"
   },
   {
    "duration": 9,
    "start_time": "2022-05-23T11:24:38.273Z"
   },
   {
    "duration": 9,
    "start_time": "2022-05-23T11:24:38.284Z"
   },
   {
    "duration": 48,
    "start_time": "2022-05-23T11:24:38.294Z"
   },
   {
    "duration": 10,
    "start_time": "2022-05-23T11:24:38.344Z"
   },
   {
    "duration": 9,
    "start_time": "2022-05-23T11:24:38.356Z"
   },
   {
    "duration": 10,
    "start_time": "2022-05-23T11:24:38.366Z"
   },
   {
    "duration": 18,
    "start_time": "2022-05-23T11:24:38.378Z"
   },
   {
    "duration": 5,
    "start_time": "2022-05-23T11:24:38.398Z"
   },
   {
    "duration": 39,
    "start_time": "2022-05-23T11:24:38.405Z"
   },
   {
    "duration": 17,
    "start_time": "2022-05-23T11:24:38.446Z"
   },
   {
    "duration": 32,
    "start_time": "2022-05-23T11:24:38.464Z"
   },
   {
    "duration": 12,
    "start_time": "2022-05-23T11:24:38.498Z"
   },
   {
    "duration": 13,
    "start_time": "2022-05-23T11:24:38.542Z"
   },
   {
    "duration": 7,
    "start_time": "2022-05-23T11:24:38.557Z"
   },
   {
    "duration": 7,
    "start_time": "2022-05-23T11:24:38.567Z"
   },
   {
    "duration": 23,
    "start_time": "2022-05-23T11:24:38.575Z"
   },
   {
    "duration": 9,
    "start_time": "2022-05-23T11:24:38.600Z"
   },
   {
    "duration": 35,
    "start_time": "2022-05-23T11:24:38.611Z"
   },
   {
    "duration": 10,
    "start_time": "2022-05-23T11:24:38.648Z"
   },
   {
    "duration": 13,
    "start_time": "2022-05-23T11:24:38.659Z"
   },
   {
    "duration": 7,
    "start_time": "2022-05-23T11:24:42.929Z"
   },
   {
    "duration": 18,
    "start_time": "2022-05-23T11:24:46.826Z"
   },
   {
    "duration": 6,
    "start_time": "2022-05-23T11:24:48.681Z"
   },
   {
    "duration": 18,
    "start_time": "2022-05-23T11:25:26.292Z"
   },
   {
    "duration": 6,
    "start_time": "2022-05-23T11:25:38.309Z"
   },
   {
    "duration": 10,
    "start_time": "2022-05-23T11:25:44.618Z"
   },
   {
    "duration": 34,
    "start_time": "2022-05-23T11:28:42.634Z"
   },
   {
    "duration": 871,
    "start_time": "2022-05-23T11:31:02.440Z"
   },
   {
    "duration": 9,
    "start_time": "2022-05-23T11:31:13.784Z"
   },
   {
    "duration": 8,
    "start_time": "2022-05-23T11:31:27.864Z"
   },
   {
    "duration": 7,
    "start_time": "2022-05-23T11:31:33.278Z"
   },
   {
    "duration": 9,
    "start_time": "2022-05-23T11:31:38.751Z"
   },
   {
    "duration": 8,
    "start_time": "2022-05-23T11:31:50.551Z"
   },
   {
    "duration": 16,
    "start_time": "2022-05-23T11:35:35.197Z"
   },
   {
    "duration": 17,
    "start_time": "2022-05-23T11:35:49.782Z"
   },
   {
    "duration": 11,
    "start_time": "2022-05-23T11:35:57.165Z"
   },
   {
    "duration": 9,
    "start_time": "2022-05-23T11:36:22.525Z"
   },
   {
    "duration": 8,
    "start_time": "2022-05-23T11:36:51.741Z"
   },
   {
    "duration": 10,
    "start_time": "2022-05-23T11:36:54.125Z"
   },
   {
    "duration": 10,
    "start_time": "2022-05-23T11:37:04.629Z"
   },
   {
    "duration": 8,
    "start_time": "2022-05-23T11:37:07.260Z"
   },
   {
    "duration": 8,
    "start_time": "2022-05-23T11:37:24.063Z"
   },
   {
    "duration": 9,
    "start_time": "2022-05-23T11:37:24.942Z"
   },
   {
    "duration": 8,
    "start_time": "2022-05-23T11:37:35.773Z"
   },
   {
    "duration": 9,
    "start_time": "2022-05-23T11:37:38.844Z"
   },
   {
    "duration": 8,
    "start_time": "2022-05-23T11:37:47.965Z"
   },
   {
    "duration": 7,
    "start_time": "2022-05-23T11:37:50.022Z"
   },
   {
    "duration": 15,
    "start_time": "2022-05-23T11:39:40.020Z"
   },
   {
    "duration": 26,
    "start_time": "2022-05-23T11:41:38.660Z"
   },
   {
    "duration": 14,
    "start_time": "2022-05-23T11:42:05.396Z"
   },
   {
    "duration": 15,
    "start_time": "2022-05-23T11:45:39.451Z"
   },
   {
    "duration": 15,
    "start_time": "2022-05-23T11:45:47.442Z"
   },
   {
    "duration": 14,
    "start_time": "2022-05-23T11:45:51.082Z"
   },
   {
    "duration": 15,
    "start_time": "2022-05-23T11:45:58.314Z"
   },
   {
    "duration": 9,
    "start_time": "2022-05-23T11:47:48.114Z"
   },
   {
    "duration": 10,
    "start_time": "2022-05-23T11:48:07.329Z"
   },
   {
    "duration": 525,
    "start_time": "2022-05-23T11:50:44.516Z"
   },
   {
    "duration": 15,
    "start_time": "2022-05-23T11:50:45.044Z"
   },
   {
    "duration": 20,
    "start_time": "2022-05-23T11:50:45.061Z"
   },
   {
    "duration": 4,
    "start_time": "2022-05-23T11:50:45.083Z"
   },
   {
    "duration": 13,
    "start_time": "2022-05-23T11:50:45.089Z"
   },
   {
    "duration": 52,
    "start_time": "2022-05-23T11:50:45.104Z"
   },
   {
    "duration": 5,
    "start_time": "2022-05-23T11:50:45.158Z"
   },
   {
    "duration": 14,
    "start_time": "2022-05-23T11:50:45.164Z"
   },
   {
    "duration": 7,
    "start_time": "2022-05-23T11:50:45.179Z"
   },
   {
    "duration": 12,
    "start_time": "2022-05-23T11:50:45.187Z"
   },
   {
    "duration": 6,
    "start_time": "2022-05-23T11:50:45.200Z"
   },
   {
    "duration": 35,
    "start_time": "2022-05-23T11:50:45.207Z"
   },
   {
    "duration": 6,
    "start_time": "2022-05-23T11:50:45.244Z"
   },
   {
    "duration": 7,
    "start_time": "2022-05-23T11:50:45.253Z"
   },
   {
    "duration": 7,
    "start_time": "2022-05-23T11:50:45.262Z"
   },
   {
    "duration": 6,
    "start_time": "2022-05-23T11:50:45.270Z"
   },
   {
    "duration": 9,
    "start_time": "2022-05-23T11:50:45.278Z"
   },
   {
    "duration": 13,
    "start_time": "2022-05-23T11:50:45.288Z"
   },
   {
    "duration": 14,
    "start_time": "2022-05-23T11:50:45.302Z"
   },
   {
    "duration": 36,
    "start_time": "2022-05-23T11:50:45.318Z"
   },
   {
    "duration": 7,
    "start_time": "2022-05-23T11:50:45.356Z"
   },
   {
    "duration": 16,
    "start_time": "2022-05-23T11:50:45.364Z"
   },
   {
    "duration": 20,
    "start_time": "2022-05-23T11:50:45.382Z"
   },
   {
    "duration": 66,
    "start_time": "2022-05-23T11:50:45.404Z"
   },
   {
    "duration": 12,
    "start_time": "2022-05-23T11:50:45.473Z"
   },
   {
    "duration": 12,
    "start_time": "2022-05-23T11:50:45.487Z"
   },
   {
    "duration": 6,
    "start_time": "2022-05-23T11:50:45.501Z"
   },
   {
    "duration": 38,
    "start_time": "2022-05-23T11:50:45.509Z"
   },
   {
    "duration": 20,
    "start_time": "2022-05-23T11:50:45.548Z"
   },
   {
    "duration": 5,
    "start_time": "2022-05-23T11:50:45.569Z"
   },
   {
    "duration": 18,
    "start_time": "2022-05-23T11:50:45.576Z"
   },
   {
    "duration": 12,
    "start_time": "2022-05-23T11:50:45.596Z"
   },
   {
    "duration": 7,
    "start_time": "2022-05-23T11:50:45.609Z"
   },
   {
    "duration": 28,
    "start_time": "2022-05-23T11:50:45.618Z"
   },
   {
    "duration": 20,
    "start_time": "2022-05-23T11:50:45.648Z"
   },
   {
    "duration": 5,
    "start_time": "2022-05-23T11:50:45.669Z"
   },
   {
    "duration": 21,
    "start_time": "2022-05-23T11:50:45.676Z"
   },
   {
    "duration": 6,
    "start_time": "2022-05-23T11:50:45.698Z"
   },
   {
    "duration": 35,
    "start_time": "2022-05-23T11:50:45.706Z"
   },
   {
    "duration": 12,
    "start_time": "2022-05-23T11:50:45.743Z"
   },
   {
    "duration": 14,
    "start_time": "2022-05-23T11:50:45.758Z"
   },
   {
    "duration": 10,
    "start_time": "2022-05-23T11:50:45.773Z"
   },
   {
    "duration": 10,
    "start_time": "2022-05-23T11:51:29.620Z"
   },
   {
    "duration": 77,
    "start_time": "2022-05-23T11:51:42.894Z"
   },
   {
    "duration": 7,
    "start_time": "2022-05-23T11:51:49.760Z"
   },
   {
    "duration": 11,
    "start_time": "2022-05-23T11:51:55.045Z"
   },
   {
    "duration": 11,
    "start_time": "2022-05-23T11:58:35.427Z"
   },
   {
    "duration": 11,
    "start_time": "2022-05-23T12:30:04.883Z"
   },
   {
    "duration": 6,
    "start_time": "2022-05-23T12:30:21.258Z"
   },
   {
    "duration": 65,
    "start_time": "2022-05-23T12:31:09.938Z"
   },
   {
    "duration": 5,
    "start_time": "2022-05-23T12:31:16.547Z"
   },
   {
    "duration": 612,
    "start_time": "2022-05-23T12:31:24.605Z"
   },
   {
    "duration": 8,
    "start_time": "2022-05-23T12:31:29.538Z"
   },
   {
    "duration": 7,
    "start_time": "2022-05-23T12:32:07.826Z"
   },
   {
    "duration": 565,
    "start_time": "2022-05-23T12:33:37.649Z"
   },
   {
    "duration": 5,
    "start_time": "2022-05-23T12:33:45.912Z"
   },
   {
    "duration": 724,
    "start_time": "2022-05-23T12:34:24.849Z"
   },
   {
    "duration": 5,
    "start_time": "2022-05-23T12:34:58.746Z"
   },
   {
    "duration": 5,
    "start_time": "2022-05-23T12:35:05.184Z"
   },
   {
    "duration": 5,
    "start_time": "2022-05-23T12:35:11.937Z"
   },
   {
    "duration": 6,
    "start_time": "2022-05-23T12:36:22.227Z"
   },
   {
    "duration": 11,
    "start_time": "2022-05-23T12:36:27.192Z"
   },
   {
    "duration": 15,
    "start_time": "2022-05-23T12:37:18.761Z"
   },
   {
    "duration": 11,
    "start_time": "2022-05-23T12:37:38.033Z"
   },
   {
    "duration": 12,
    "start_time": "2022-05-23T12:37:46.561Z"
   },
   {
    "duration": 13,
    "start_time": "2022-05-23T12:38:17.833Z"
   },
   {
    "duration": 10,
    "start_time": "2022-05-23T12:38:28.849Z"
   },
   {
    "duration": 12,
    "start_time": "2022-05-23T12:38:42.033Z"
   },
   {
    "duration": 11,
    "start_time": "2022-05-23T12:38:45.520Z"
   },
   {
    "duration": 5,
    "start_time": "2022-05-23T12:39:07.064Z"
   },
   {
    "duration": 785,
    "start_time": "2022-05-23T12:39:15.920Z"
   },
   {
    "duration": 5,
    "start_time": "2022-05-23T12:39:30.243Z"
   },
   {
    "duration": 7,
    "start_time": "2022-05-23T12:39:41.873Z"
   },
   {
    "duration": 860,
    "start_time": "2022-05-23T12:39:44.515Z"
   },
   {
    "duration": 5,
    "start_time": "2022-05-23T12:39:49.256Z"
   },
   {
    "duration": 17,
    "start_time": "2022-05-23T12:46:57.553Z"
   },
   {
    "duration": 14,
    "start_time": "2022-05-23T12:51:58.586Z"
   },
   {
    "duration": 11,
    "start_time": "2022-05-23T12:52:04.417Z"
   },
   {
    "duration": 15,
    "start_time": "2022-05-23T12:52:28.574Z"
   },
   {
    "duration": 11,
    "start_time": "2022-05-23T12:53:58.854Z"
   },
   {
    "duration": 10,
    "start_time": "2022-05-23T12:54:04.327Z"
   },
   {
    "duration": 43,
    "start_time": "2022-05-23T12:55:11.561Z"
   },
   {
    "duration": 14,
    "start_time": "2022-05-23T12:55:16.782Z"
   },
   {
    "duration": 13,
    "start_time": "2022-05-23T12:57:57.550Z"
   },
   {
    "duration": 11,
    "start_time": "2022-05-23T13:00:26.373Z"
   },
   {
    "duration": 15,
    "start_time": "2022-05-23T13:08:41.979Z"
   },
   {
    "duration": 18,
    "start_time": "2022-05-23T13:08:47.123Z"
   },
   {
    "duration": 13,
    "start_time": "2022-05-23T13:08:52.266Z"
   },
   {
    "duration": 17,
    "start_time": "2022-05-23T13:08:57.916Z"
   },
   {
    "duration": 10,
    "start_time": "2022-05-23T13:09:20.723Z"
   },
   {
    "duration": 8,
    "start_time": "2022-05-23T13:46:36.344Z"
   },
   {
    "duration": 20,
    "start_time": "2022-05-23T13:46:45.592Z"
   },
   {
    "duration": 11,
    "start_time": "2022-05-23T13:46:47.552Z"
   },
   {
    "duration": 10,
    "start_time": "2022-05-23T13:47:48.776Z"
   },
   {
    "duration": 11,
    "start_time": "2022-05-23T13:47:57.049Z"
   },
   {
    "duration": 10,
    "start_time": "2022-05-23T13:48:03.552Z"
   },
   {
    "duration": 10,
    "start_time": "2022-05-23T13:49:55.080Z"
   },
   {
    "duration": 9,
    "start_time": "2022-05-23T13:51:02.984Z"
   },
   {
    "duration": 9,
    "start_time": "2022-05-23T13:51:39.256Z"
   },
   {
    "duration": 10,
    "start_time": "2022-05-23T13:51:44.029Z"
   },
   {
    "duration": 19,
    "start_time": "2022-05-23T13:52:36.512Z"
   },
   {
    "duration": 8,
    "start_time": "2022-05-23T13:52:40.513Z"
   },
   {
    "duration": 11,
    "start_time": "2022-05-23T13:53:05.880Z"
   },
   {
    "duration": 5,
    "start_time": "2022-05-23T13:54:42.887Z"
   },
   {
    "duration": 4,
    "start_time": "2022-05-23T13:54:53.519Z"
   },
   {
    "duration": 7,
    "start_time": "2022-05-23T13:55:17.984Z"
   },
   {
    "duration": 5,
    "start_time": "2022-05-23T13:55:26.384Z"
   },
   {
    "duration": 5,
    "start_time": "2022-05-23T13:55:40.752Z"
   },
   {
    "duration": 75,
    "start_time": "2022-05-23T14:04:09.582Z"
   },
   {
    "duration": 5,
    "start_time": "2022-05-23T14:05:09.819Z"
   },
   {
    "duration": 13,
    "start_time": "2022-05-23T14:05:27.462Z"
   },
   {
    "duration": 12,
    "start_time": "2022-05-23T14:08:54.493Z"
   },
   {
    "duration": 70,
    "start_time": "2022-05-23T14:09:49.255Z"
   },
   {
    "duration": 15,
    "start_time": "2022-05-23T14:09:49.327Z"
   },
   {
    "duration": 14,
    "start_time": "2022-05-23T14:09:49.344Z"
   },
   {
    "duration": 7,
    "start_time": "2022-05-23T14:09:49.360Z"
   },
   {
    "duration": 13,
    "start_time": "2022-05-23T14:09:49.368Z"
   },
   {
    "duration": 23,
    "start_time": "2022-05-23T14:09:49.383Z"
   },
   {
    "duration": 5,
    "start_time": "2022-05-23T14:09:49.408Z"
   },
   {
    "duration": 10,
    "start_time": "2022-05-23T14:09:49.441Z"
   },
   {
    "duration": 14,
    "start_time": "2022-05-23T14:09:49.452Z"
   },
   {
    "duration": 10,
    "start_time": "2022-05-23T14:09:49.469Z"
   },
   {
    "duration": 6,
    "start_time": "2022-05-23T14:09:49.480Z"
   },
   {
    "duration": 17,
    "start_time": "2022-05-23T14:09:49.488Z"
   },
   {
    "duration": 9,
    "start_time": "2022-05-23T14:09:49.507Z"
   },
   {
    "duration": 29,
    "start_time": "2022-05-23T14:09:49.518Z"
   },
   {
    "duration": 14,
    "start_time": "2022-05-23T14:09:49.549Z"
   },
   {
    "duration": 8,
    "start_time": "2022-05-23T14:09:49.564Z"
   },
   {
    "duration": 8,
    "start_time": "2022-05-23T14:09:49.573Z"
   },
   {
    "duration": 8,
    "start_time": "2022-05-23T14:09:49.582Z"
   },
   {
    "duration": 12,
    "start_time": "2022-05-23T14:09:49.591Z"
   },
   {
    "duration": 47,
    "start_time": "2022-05-23T14:09:49.605Z"
   },
   {
    "duration": 7,
    "start_time": "2022-05-23T14:09:49.654Z"
   },
   {
    "duration": 15,
    "start_time": "2022-05-23T14:09:49.662Z"
   },
   {
    "duration": 19,
    "start_time": "2022-05-23T14:09:49.679Z"
   },
   {
    "duration": 61,
    "start_time": "2022-05-23T14:09:49.700Z"
   },
   {
    "duration": 12,
    "start_time": "2022-05-23T14:09:49.762Z"
   },
   {
    "duration": 13,
    "start_time": "2022-05-23T14:09:49.776Z"
   },
   {
    "duration": 6,
    "start_time": "2022-05-23T14:09:49.791Z"
   },
   {
    "duration": 41,
    "start_time": "2022-05-23T14:09:49.801Z"
   },
   {
    "duration": 19,
    "start_time": "2022-05-23T14:09:49.844Z"
   },
   {
    "duration": 11,
    "start_time": "2022-05-23T14:09:49.865Z"
   },
   {
    "duration": 15,
    "start_time": "2022-05-23T14:09:49.878Z"
   },
   {
    "duration": 13,
    "start_time": "2022-05-23T14:09:49.895Z"
   },
   {
    "duration": 32,
    "start_time": "2022-05-23T14:09:49.910Z"
   },
   {
    "duration": 9,
    "start_time": "2022-05-23T14:09:49.945Z"
   },
   {
    "duration": 23,
    "start_time": "2022-05-23T14:09:49.956Z"
   },
   {
    "duration": 15,
    "start_time": "2022-05-23T14:09:49.981Z"
   },
   {
    "duration": 26,
    "start_time": "2022-05-23T14:09:49.998Z"
   },
   {
    "duration": 21,
    "start_time": "2022-05-23T14:09:50.025Z"
   },
   {
    "duration": 26,
    "start_time": "2022-05-23T14:09:50.048Z"
   },
   {
    "duration": 8,
    "start_time": "2022-05-23T14:09:50.076Z"
   },
   {
    "duration": 10,
    "start_time": "2022-05-23T14:09:53.517Z"
   },
   {
    "duration": 5,
    "start_time": "2022-05-23T14:09:55.055Z"
   },
   {
    "duration": 6,
    "start_time": "2022-05-23T14:11:00.677Z"
   },
   {
    "duration": 6,
    "start_time": "2022-05-23T14:11:05.828Z"
   },
   {
    "duration": 6,
    "start_time": "2022-05-23T14:15:23.084Z"
   },
   {
    "duration": 62,
    "start_time": "2022-05-23T14:15:47.772Z"
   },
   {
    "duration": 27,
    "start_time": "2022-05-23T14:15:57.154Z"
   },
   {
    "duration": 7,
    "start_time": "2022-05-23T14:16:04.119Z"
   },
   {
    "duration": 6,
    "start_time": "2022-05-23T14:17:26.276Z"
   },
   {
    "duration": 18,
    "start_time": "2022-05-23T14:25:42.170Z"
   },
   {
    "duration": 9,
    "start_time": "2022-05-23T14:25:46.722Z"
   },
   {
    "duration": 11,
    "start_time": "2022-05-23T14:25:48.779Z"
   },
   {
    "duration": 22,
    "start_time": "2022-05-23T14:26:46.339Z"
   },
   {
    "duration": 18,
    "start_time": "2022-05-23T14:27:06.458Z"
   },
   {
    "duration": 13,
    "start_time": "2022-05-23T14:29:42.993Z"
   },
   {
    "duration": 9,
    "start_time": "2022-05-23T14:31:45.807Z"
   },
   {
    "duration": 10,
    "start_time": "2022-05-23T14:34:45.786Z"
   },
   {
    "duration": 1268,
    "start_time": "2022-05-23T14:43:30.703Z"
   },
   {
    "duration": 49,
    "start_time": "2022-05-23T14:51:38.113Z"
   },
   {
    "duration": 18,
    "start_time": "2022-05-23T14:51:43.013Z"
   },
   {
    "duration": 5,
    "start_time": "2022-05-23T14:52:50.857Z"
   },
   {
    "duration": 17,
    "start_time": "2022-05-23T14:52:58.655Z"
   },
   {
    "duration": 19,
    "start_time": "2022-05-23T14:53:04.541Z"
   },
   {
    "duration": 17,
    "start_time": "2022-05-23T14:53:19.924Z"
   },
   {
    "duration": 13,
    "start_time": "2022-05-23T14:53:39.156Z"
   },
   {
    "duration": 9,
    "start_time": "2022-05-23T14:53:43.610Z"
   },
   {
    "duration": 13,
    "start_time": "2022-05-23T14:53:47.957Z"
   },
   {
    "duration": 13,
    "start_time": "2022-05-23T14:53:52.233Z"
   },
   {
    "duration": 11,
    "start_time": "2022-05-23T14:54:11.692Z"
   },
   {
    "duration": 52,
    "start_time": "2022-05-23T14:54:15.684Z"
   },
   {
    "duration": 64,
    "start_time": "2022-05-23T14:54:31.054Z"
   },
   {
    "duration": 14,
    "start_time": "2022-05-23T14:54:40.389Z"
   },
   {
    "duration": 549,
    "start_time": "2022-05-23T14:54:52.754Z"
   },
   {
    "duration": 433,
    "start_time": "2022-05-23T14:55:26.254Z"
   },
   {
    "duration": 9,
    "start_time": "2022-05-23T14:55:30.308Z"
   },
   {
    "duration": 15,
    "start_time": "2022-05-23T14:55:44.449Z"
   },
   {
    "duration": 72,
    "start_time": "2022-05-23T14:56:44.421Z"
   },
   {
    "duration": 17,
    "start_time": "2022-05-23T14:56:44.495Z"
   },
   {
    "duration": 38,
    "start_time": "2022-05-23T14:56:44.513Z"
   },
   {
    "duration": 6,
    "start_time": "2022-05-23T14:56:44.553Z"
   },
   {
    "duration": 16,
    "start_time": "2022-05-23T14:56:44.561Z"
   },
   {
    "duration": 25,
    "start_time": "2022-05-23T14:56:44.578Z"
   },
   {
    "duration": 4,
    "start_time": "2022-05-23T14:56:44.605Z"
   },
   {
    "duration": 40,
    "start_time": "2022-05-23T14:56:44.611Z"
   },
   {
    "duration": 7,
    "start_time": "2022-05-23T14:56:44.653Z"
   },
   {
    "duration": 11,
    "start_time": "2022-05-23T14:56:44.663Z"
   },
   {
    "duration": 7,
    "start_time": "2022-05-23T14:56:44.676Z"
   },
   {
    "duration": 7,
    "start_time": "2022-05-23T14:56:44.684Z"
   },
   {
    "duration": 52,
    "start_time": "2022-05-23T14:56:44.693Z"
   },
   {
    "duration": 6,
    "start_time": "2022-05-23T14:56:44.747Z"
   },
   {
    "duration": 10,
    "start_time": "2022-05-23T14:56:44.755Z"
   },
   {
    "duration": 9,
    "start_time": "2022-05-23T14:56:44.767Z"
   },
   {
    "duration": 6,
    "start_time": "2022-05-23T14:56:44.778Z"
   },
   {
    "duration": 8,
    "start_time": "2022-05-23T14:56:44.786Z"
   },
   {
    "duration": 46,
    "start_time": "2022-05-23T14:56:44.795Z"
   },
   {
    "duration": 18,
    "start_time": "2022-05-23T14:56:44.843Z"
   },
   {
    "duration": 7,
    "start_time": "2022-05-23T14:56:44.862Z"
   },
   {
    "duration": 19,
    "start_time": "2022-05-23T14:56:44.871Z"
   },
   {
    "duration": 51,
    "start_time": "2022-05-23T14:56:44.892Z"
   },
   {
    "duration": 36,
    "start_time": "2022-05-23T14:56:44.944Z"
   },
   {
    "duration": 13,
    "start_time": "2022-05-23T14:56:44.982Z"
   },
   {
    "duration": 11,
    "start_time": "2022-05-23T14:56:44.997Z"
   },
   {
    "duration": 37,
    "start_time": "2022-05-23T14:56:45.010Z"
   },
   {
    "duration": 12,
    "start_time": "2022-05-23T14:56:45.051Z"
   },
   {
    "duration": 23,
    "start_time": "2022-05-23T14:56:45.065Z"
   },
   {
    "duration": 8,
    "start_time": "2022-05-23T14:56:45.090Z"
   },
   {
    "duration": 41,
    "start_time": "2022-05-23T14:56:45.100Z"
   },
   {
    "duration": 9,
    "start_time": "2022-05-23T14:56:45.143Z"
   },
   {
    "duration": 14,
    "start_time": "2022-05-23T14:56:45.155Z"
   },
   {
    "duration": 8,
    "start_time": "2022-05-23T14:56:45.171Z"
   },
   {
    "duration": 20,
    "start_time": "2022-05-23T14:56:45.181Z"
   },
   {
    "duration": 10,
    "start_time": "2022-05-23T14:56:45.203Z"
   },
   {
    "duration": 46,
    "start_time": "2022-05-23T14:56:45.215Z"
   },
   {
    "duration": 7,
    "start_time": "2022-05-23T14:56:45.263Z"
   },
   {
    "duration": 23,
    "start_time": "2022-05-23T14:56:45.272Z"
   },
   {
    "duration": 9,
    "start_time": "2022-05-23T14:56:45.297Z"
   },
   {
    "duration": 12,
    "start_time": "2022-05-23T14:56:45.341Z"
   },
   {
    "duration": 12,
    "start_time": "2022-05-23T14:56:47.950Z"
   },
   {
    "duration": 10,
    "start_time": "2022-05-23T14:56:51.476Z"
   },
   {
    "duration": 9,
    "start_time": "2022-05-23T14:57:04.484Z"
   },
   {
    "duration": 16,
    "start_time": "2022-05-23T14:57:23.002Z"
   },
   {
    "duration": 10,
    "start_time": "2022-05-23T14:57:29.778Z"
   },
   {
    "duration": 17,
    "start_time": "2022-05-23T14:57:53.482Z"
   },
   {
    "duration": 8,
    "start_time": "2022-05-23T14:58:13.554Z"
   },
   {
    "duration": 16,
    "start_time": "2022-05-23T14:58:18.355Z"
   },
   {
    "duration": 15,
    "start_time": "2022-05-23T14:58:23.699Z"
   },
   {
    "duration": 8,
    "start_time": "2022-05-23T14:58:31.297Z"
   },
   {
    "duration": 17,
    "start_time": "2022-05-23T14:58:42.201Z"
   },
   {
    "duration": 7,
    "start_time": "2022-05-23T14:58:44.357Z"
   },
   {
    "duration": 12,
    "start_time": "2022-05-23T14:58:52.659Z"
   },
   {
    "duration": 13,
    "start_time": "2022-05-23T14:59:09.274Z"
   },
   {
    "duration": 18,
    "start_time": "2022-05-23T14:59:14.360Z"
   },
   {
    "duration": 8,
    "start_time": "2022-05-23T14:59:18.697Z"
   },
   {
    "duration": 10,
    "start_time": "2022-05-23T14:59:40.150Z"
   },
   {
    "duration": 81,
    "start_time": "2022-05-23T14:59:45.323Z"
   },
   {
    "duration": 42,
    "start_time": "2022-05-23T14:59:45.406Z"
   },
   {
    "duration": 16,
    "start_time": "2022-05-23T14:59:45.449Z"
   },
   {
    "duration": 10,
    "start_time": "2022-05-23T14:59:45.469Z"
   },
   {
    "duration": 18,
    "start_time": "2022-05-23T14:59:45.480Z"
   },
   {
    "duration": 49,
    "start_time": "2022-05-23T14:59:45.501Z"
   },
   {
    "duration": 6,
    "start_time": "2022-05-23T14:59:45.552Z"
   },
   {
    "duration": 22,
    "start_time": "2022-05-23T14:59:45.560Z"
   },
   {
    "duration": 10,
    "start_time": "2022-05-23T14:59:45.584Z"
   },
   {
    "duration": 12,
    "start_time": "2022-05-23T14:59:45.597Z"
   },
   {
    "duration": 35,
    "start_time": "2022-05-23T14:59:45.612Z"
   },
   {
    "duration": 8,
    "start_time": "2022-05-23T14:59:45.650Z"
   },
   {
    "duration": 10,
    "start_time": "2022-05-23T14:59:45.661Z"
   },
   {
    "duration": 15,
    "start_time": "2022-05-23T14:59:45.673Z"
   },
   {
    "duration": 14,
    "start_time": "2022-05-23T14:59:45.691Z"
   },
   {
    "duration": 37,
    "start_time": "2022-05-23T14:59:45.707Z"
   },
   {
    "duration": 13,
    "start_time": "2022-05-23T14:59:45.746Z"
   },
   {
    "duration": 10,
    "start_time": "2022-05-23T14:59:45.762Z"
   },
   {
    "duration": 16,
    "start_time": "2022-05-23T14:59:45.774Z"
   },
   {
    "duration": 22,
    "start_time": "2022-05-23T14:59:45.792Z"
   },
   {
    "duration": 27,
    "start_time": "2022-05-23T14:59:45.816Z"
   },
   {
    "duration": 16,
    "start_time": "2022-05-23T14:59:45.844Z"
   },
   {
    "duration": 26,
    "start_time": "2022-05-23T14:59:45.862Z"
   },
   {
    "duration": 84,
    "start_time": "2022-05-23T14:59:45.890Z"
   },
   {
    "duration": 16,
    "start_time": "2022-05-23T14:59:45.976Z"
   },
   {
    "duration": 22,
    "start_time": "2022-05-23T14:59:45.993Z"
   },
   {
    "duration": 24,
    "start_time": "2022-05-23T14:59:46.017Z"
   },
   {
    "duration": 14,
    "start_time": "2022-05-23T14:59:46.045Z"
   },
   {
    "duration": 33,
    "start_time": "2022-05-23T14:59:46.061Z"
   },
   {
    "duration": 29,
    "start_time": "2022-05-23T14:59:46.096Z"
   },
   {
    "duration": 19,
    "start_time": "2022-05-23T14:59:46.127Z"
   },
   {
    "duration": 19,
    "start_time": "2022-05-23T14:59:46.148Z"
   },
   {
    "duration": 18,
    "start_time": "2022-05-23T14:59:46.169Z"
   },
   {
    "duration": 14,
    "start_time": "2022-05-23T14:59:46.189Z"
   },
   {
    "duration": 24,
    "start_time": "2022-05-23T14:59:46.205Z"
   },
   {
    "duration": 14,
    "start_time": "2022-05-23T14:59:46.232Z"
   },
   {
    "duration": 23,
    "start_time": "2022-05-23T14:59:46.248Z"
   },
   {
    "duration": 8,
    "start_time": "2022-05-23T14:59:46.273Z"
   },
   {
    "duration": 25,
    "start_time": "2022-05-23T14:59:46.283Z"
   },
   {
    "duration": 33,
    "start_time": "2022-05-23T14:59:46.310Z"
   },
   {
    "duration": 22,
    "start_time": "2022-05-23T14:59:46.345Z"
   },
   {
    "duration": 14,
    "start_time": "2022-05-23T14:59:56.853Z"
   },
   {
    "duration": 9,
    "start_time": "2022-05-23T15:00:07.225Z"
   },
   {
    "duration": 13,
    "start_time": "2022-05-23T15:00:15.137Z"
   },
   {
    "duration": 80,
    "start_time": "2022-05-23T15:00:30.531Z"
   },
   {
    "duration": 38,
    "start_time": "2022-05-23T15:00:30.613Z"
   },
   {
    "duration": 15,
    "start_time": "2022-05-23T15:00:30.653Z"
   },
   {
    "duration": 20,
    "start_time": "2022-05-23T15:00:30.670Z"
   },
   {
    "duration": 29,
    "start_time": "2022-05-23T15:00:30.692Z"
   },
   {
    "duration": 40,
    "start_time": "2022-05-23T15:00:30.723Z"
   },
   {
    "duration": 5,
    "start_time": "2022-05-23T15:00:30.765Z"
   },
   {
    "duration": 20,
    "start_time": "2022-05-23T15:00:30.772Z"
   },
   {
    "duration": 11,
    "start_time": "2022-05-23T15:00:30.794Z"
   },
   {
    "duration": 36,
    "start_time": "2022-05-23T15:00:30.808Z"
   },
   {
    "duration": 7,
    "start_time": "2022-05-23T15:00:30.846Z"
   },
   {
    "duration": 10,
    "start_time": "2022-05-23T15:00:30.855Z"
   },
   {
    "duration": 25,
    "start_time": "2022-05-23T15:00:30.866Z"
   },
   {
    "duration": 13,
    "start_time": "2022-05-23T15:00:30.893Z"
   },
   {
    "duration": 13,
    "start_time": "2022-05-23T15:00:30.908Z"
   },
   {
    "duration": 9,
    "start_time": "2022-05-23T15:00:30.941Z"
   },
   {
    "duration": 12,
    "start_time": "2022-05-23T15:00:30.952Z"
   },
   {
    "duration": 22,
    "start_time": "2022-05-23T15:00:30.966Z"
   },
   {
    "duration": 110,
    "start_time": "2022-05-23T15:00:30.990Z"
   },
   {
    "duration": 30,
    "start_time": "2022-05-23T15:00:31.102Z"
   },
   {
    "duration": 24,
    "start_time": "2022-05-23T15:00:31.134Z"
   },
   {
    "duration": 33,
    "start_time": "2022-05-23T15:00:31.161Z"
   },
   {
    "duration": 37,
    "start_time": "2022-05-23T15:00:31.196Z"
   },
   {
    "duration": 57,
    "start_time": "2022-05-23T15:00:31.236Z"
   },
   {
    "duration": 19,
    "start_time": "2022-05-23T15:00:31.296Z"
   },
   {
    "duration": 32,
    "start_time": "2022-05-23T15:00:31.317Z"
   },
   {
    "duration": 8,
    "start_time": "2022-05-23T15:00:31.351Z"
   },
   {
    "duration": 19,
    "start_time": "2022-05-23T15:00:31.363Z"
   },
   {
    "duration": 30,
    "start_time": "2022-05-23T15:00:31.383Z"
   },
   {
    "duration": 16,
    "start_time": "2022-05-23T15:00:31.415Z"
   },
   {
    "duration": 22,
    "start_time": "2022-05-23T15:00:31.433Z"
   },
   {
    "duration": 34,
    "start_time": "2022-05-23T15:00:31.457Z"
   },
   {
    "duration": 21,
    "start_time": "2022-05-23T15:00:31.493Z"
   },
   {
    "duration": 11,
    "start_time": "2022-05-23T15:00:31.516Z"
   },
   {
    "duration": 30,
    "start_time": "2022-05-23T15:00:31.529Z"
   },
   {
    "duration": 24,
    "start_time": "2022-05-23T15:00:31.561Z"
   },
   {
    "duration": 33,
    "start_time": "2022-05-23T15:00:31.587Z"
   },
   {
    "duration": 7,
    "start_time": "2022-05-23T15:00:31.622Z"
   },
   {
    "duration": 24,
    "start_time": "2022-05-23T15:00:31.631Z"
   },
   {
    "duration": 8,
    "start_time": "2022-05-23T15:00:31.657Z"
   },
   {
    "duration": 26,
    "start_time": "2022-05-23T15:00:31.668Z"
   },
   {
    "duration": 15,
    "start_time": "2022-05-23T15:00:31.696Z"
   },
   {
    "duration": 16,
    "start_time": "2022-05-23T15:00:31.713Z"
   },
   {
    "duration": 30,
    "start_time": "2022-05-23T15:00:31.730Z"
   },
   {
    "duration": 0,
    "start_time": "2022-05-23T15:00:31.763Z"
   },
   {
    "duration": 0,
    "start_time": "2022-05-23T15:00:31.764Z"
   },
   {
    "duration": 0,
    "start_time": "2022-05-23T15:00:31.766Z"
   },
   {
    "duration": 14,
    "start_time": "2022-05-23T15:00:54.633Z"
   },
   {
    "duration": 18,
    "start_time": "2022-05-23T15:01:06.269Z"
   },
   {
    "duration": 335,
    "start_time": "2022-05-23T15:01:11.434Z"
   },
   {
    "duration": 9,
    "start_time": "2022-05-23T15:01:30.361Z"
   },
   {
    "duration": 15,
    "start_time": "2022-05-23T15:01:35.856Z"
   },
   {
    "duration": 14,
    "start_time": "2022-05-23T15:01:39.018Z"
   },
   {
    "duration": 8,
    "start_time": "2022-05-23T15:01:50.489Z"
   },
   {
    "duration": 77,
    "start_time": "2022-05-23T15:02:08.751Z"
   },
   {
    "duration": 18,
    "start_time": "2022-05-23T15:02:08.830Z"
   },
   {
    "duration": 15,
    "start_time": "2022-05-23T15:02:08.850Z"
   },
   {
    "duration": 13,
    "start_time": "2022-05-23T15:02:08.868Z"
   },
   {
    "duration": 18,
    "start_time": "2022-05-23T15:02:08.883Z"
   },
   {
    "duration": 47,
    "start_time": "2022-05-23T15:02:08.903Z"
   },
   {
    "duration": 5,
    "start_time": "2022-05-23T15:02:08.952Z"
   },
   {
    "duration": 28,
    "start_time": "2022-05-23T15:02:08.959Z"
   },
   {
    "duration": 8,
    "start_time": "2022-05-23T15:02:08.989Z"
   },
   {
    "duration": 13,
    "start_time": "2022-05-23T15:02:09.002Z"
   },
   {
    "duration": 29,
    "start_time": "2022-05-23T15:02:09.017Z"
   },
   {
    "duration": 9,
    "start_time": "2022-05-23T15:02:09.048Z"
   },
   {
    "duration": 9,
    "start_time": "2022-05-23T15:02:09.059Z"
   },
   {
    "duration": 9,
    "start_time": "2022-05-23T15:02:09.069Z"
   },
   {
    "duration": 8,
    "start_time": "2022-05-23T15:02:09.081Z"
   },
   {
    "duration": 52,
    "start_time": "2022-05-23T15:02:09.091Z"
   },
   {
    "duration": 10,
    "start_time": "2022-05-23T15:02:09.145Z"
   },
   {
    "duration": 13,
    "start_time": "2022-05-23T15:02:09.157Z"
   },
   {
    "duration": 14,
    "start_time": "2022-05-23T15:02:09.173Z"
   },
   {
    "duration": 54,
    "start_time": "2022-05-23T15:02:09.190Z"
   },
   {
    "duration": 8,
    "start_time": "2022-05-23T15:02:09.246Z"
   },
   {
    "duration": 26,
    "start_time": "2022-05-23T15:02:09.256Z"
   },
   {
    "duration": 33,
    "start_time": "2022-05-23T15:02:09.284Z"
   },
   {
    "duration": 39,
    "start_time": "2022-05-23T15:02:09.342Z"
   },
   {
    "duration": 16,
    "start_time": "2022-05-23T15:02:09.383Z"
   },
   {
    "duration": 49,
    "start_time": "2022-05-23T15:02:09.401Z"
   },
   {
    "duration": 18,
    "start_time": "2022-05-23T15:02:09.452Z"
   },
   {
    "duration": 17,
    "start_time": "2022-05-23T15:02:09.475Z"
   },
   {
    "duration": 48,
    "start_time": "2022-05-23T15:02:09.494Z"
   },
   {
    "duration": 8,
    "start_time": "2022-05-23T15:02:09.545Z"
   },
   {
    "duration": 30,
    "start_time": "2022-05-23T15:02:09.555Z"
   },
   {
    "duration": 17,
    "start_time": "2022-05-23T15:02:09.587Z"
   },
   {
    "duration": 10,
    "start_time": "2022-05-23T15:02:09.606Z"
   },
   {
    "duration": 23,
    "start_time": "2022-05-23T15:02:09.618Z"
   },
   {
    "duration": 23,
    "start_time": "2022-05-23T15:02:09.643Z"
   },
   {
    "duration": 13,
    "start_time": "2022-05-23T15:02:09.668Z"
   },
   {
    "duration": 33,
    "start_time": "2022-05-23T15:02:09.683Z"
   },
   {
    "duration": 8,
    "start_time": "2022-05-23T15:02:09.718Z"
   },
   {
    "duration": 36,
    "start_time": "2022-05-23T15:02:09.728Z"
   },
   {
    "duration": 10,
    "start_time": "2022-05-23T15:02:09.766Z"
   },
   {
    "duration": 14,
    "start_time": "2022-05-23T15:02:09.778Z"
   },
   {
    "duration": 14,
    "start_time": "2022-05-23T15:02:14.897Z"
   },
   {
    "duration": 78,
    "start_time": "2022-05-23T15:02:41.488Z"
   },
   {
    "duration": 22,
    "start_time": "2022-05-23T15:02:41.568Z"
   },
   {
    "duration": 50,
    "start_time": "2022-05-23T15:02:41.592Z"
   },
   {
    "duration": 9,
    "start_time": "2022-05-23T15:02:41.645Z"
   },
   {
    "duration": 14,
    "start_time": "2022-05-23T15:02:41.656Z"
   },
   {
    "duration": 27,
    "start_time": "2022-05-23T15:02:41.672Z"
   },
   {
    "duration": 5,
    "start_time": "2022-05-23T15:02:41.701Z"
   },
   {
    "duration": 41,
    "start_time": "2022-05-23T15:02:41.708Z"
   },
   {
    "duration": 7,
    "start_time": "2022-05-23T15:02:41.751Z"
   },
   {
    "duration": 12,
    "start_time": "2022-05-23T15:02:41.761Z"
   },
   {
    "duration": 14,
    "start_time": "2022-05-23T15:02:41.775Z"
   },
   {
    "duration": 8,
    "start_time": "2022-05-23T15:02:41.791Z"
   },
   {
    "duration": 7,
    "start_time": "2022-05-23T15:02:41.843Z"
   },
   {
    "duration": 8,
    "start_time": "2022-05-23T15:02:41.853Z"
   },
   {
    "duration": 13,
    "start_time": "2022-05-23T15:02:41.863Z"
   },
   {
    "duration": 9,
    "start_time": "2022-05-23T15:02:41.878Z"
   },
   {
    "duration": 11,
    "start_time": "2022-05-23T15:02:41.889Z"
   },
   {
    "duration": 6,
    "start_time": "2022-05-23T15:02:41.941Z"
   },
   {
    "duration": 14,
    "start_time": "2022-05-23T15:02:41.949Z"
   },
   {
    "duration": 21,
    "start_time": "2022-05-23T15:02:41.965Z"
   },
   {
    "duration": 6,
    "start_time": "2022-05-23T15:02:41.988Z"
   },
   {
    "duration": 50,
    "start_time": "2022-05-23T15:02:41.996Z"
   },
   {
    "duration": 26,
    "start_time": "2022-05-23T15:02:42.048Z"
   },
   {
    "duration": 38,
    "start_time": "2022-05-23T15:02:42.076Z"
   },
   {
    "duration": 32,
    "start_time": "2022-05-23T15:02:42.116Z"
   },
   {
    "duration": 14,
    "start_time": "2022-05-23T15:02:42.150Z"
   },
   {
    "duration": 8,
    "start_time": "2022-05-23T15:02:42.166Z"
   },
   {
    "duration": 10,
    "start_time": "2022-05-23T15:02:42.178Z"
   },
   {
    "duration": 52,
    "start_time": "2022-05-23T15:02:42.190Z"
   },
   {
    "duration": 7,
    "start_time": "2022-05-23T15:02:42.245Z"
   },
   {
    "duration": 13,
    "start_time": "2022-05-23T15:02:42.254Z"
   },
   {
    "duration": 14,
    "start_time": "2022-05-23T15:02:42.269Z"
   },
   {
    "duration": 9,
    "start_time": "2022-05-23T15:02:42.285Z"
   },
   {
    "duration": 10,
    "start_time": "2022-05-23T15:02:42.296Z"
   },
   {
    "duration": 20,
    "start_time": "2022-05-23T15:02:42.342Z"
   },
   {
    "duration": 13,
    "start_time": "2022-05-23T15:02:42.364Z"
   },
   {
    "duration": 20,
    "start_time": "2022-05-23T15:02:42.379Z"
   },
   {
    "duration": 7,
    "start_time": "2022-05-23T15:02:42.401Z"
   },
   {
    "duration": 52,
    "start_time": "2022-05-23T15:02:42.410Z"
   },
   {
    "duration": 10,
    "start_time": "2022-05-23T15:02:42.464Z"
   },
   {
    "duration": 19,
    "start_time": "2022-05-23T15:02:42.476Z"
   },
   {
    "duration": 17,
    "start_time": "2022-05-23T15:02:42.497Z"
   },
   {
    "duration": 11,
    "start_time": "2022-05-23T15:02:45.014Z"
   },
   {
    "duration": 24,
    "start_time": "2022-05-23T15:03:36.992Z"
   },
   {
    "duration": 14,
    "start_time": "2022-05-23T15:03:46.793Z"
   },
   {
    "duration": 9,
    "start_time": "2022-05-23T15:04:16.919Z"
   },
   {
    "duration": 568,
    "start_time": "2022-05-23T15:04:24.952Z"
   },
   {
    "duration": 501,
    "start_time": "2022-05-23T15:04:37.928Z"
   },
   {
    "duration": 9,
    "start_time": "2022-05-23T15:04:50.495Z"
   },
   {
    "duration": 581,
    "start_time": "2022-05-23T15:05:24.087Z"
   },
   {
    "duration": 78,
    "start_time": "2022-05-23T15:08:48.714Z"
   },
   {
    "duration": 21,
    "start_time": "2022-05-23T15:08:48.794Z"
   },
   {
    "duration": 43,
    "start_time": "2022-05-23T15:08:48.818Z"
   },
   {
    "duration": 6,
    "start_time": "2022-05-23T15:08:48.864Z"
   },
   {
    "duration": 14,
    "start_time": "2022-05-23T15:08:48.873Z"
   },
   {
    "duration": 56,
    "start_time": "2022-05-23T15:08:48.889Z"
   },
   {
    "duration": 7,
    "start_time": "2022-05-23T15:08:48.946Z"
   },
   {
    "duration": 20,
    "start_time": "2022-05-23T15:08:48.955Z"
   },
   {
    "duration": 10,
    "start_time": "2022-05-23T15:08:48.978Z"
   },
   {
    "duration": 13,
    "start_time": "2022-05-23T15:08:48.990Z"
   },
   {
    "duration": 39,
    "start_time": "2022-05-23T15:08:49.005Z"
   },
   {
    "duration": 8,
    "start_time": "2022-05-23T15:08:49.046Z"
   },
   {
    "duration": 12,
    "start_time": "2022-05-23T15:08:49.056Z"
   },
   {
    "duration": 12,
    "start_time": "2022-05-23T15:08:49.072Z"
   },
   {
    "duration": 10,
    "start_time": "2022-05-23T15:08:49.086Z"
   },
   {
    "duration": 43,
    "start_time": "2022-05-23T15:08:49.098Z"
   },
   {
    "duration": 8,
    "start_time": "2022-05-23T15:08:49.144Z"
   },
   {
    "duration": 10,
    "start_time": "2022-05-23T15:08:49.154Z"
   },
   {
    "duration": 19,
    "start_time": "2022-05-23T15:08:49.166Z"
   },
   {
    "duration": 31,
    "start_time": "2022-05-23T15:08:49.188Z"
   },
   {
    "duration": 20,
    "start_time": "2022-05-23T15:08:49.222Z"
   },
   {
    "duration": 16,
    "start_time": "2022-05-23T15:08:49.245Z"
   },
   {
    "duration": 22,
    "start_time": "2022-05-23T15:08:49.263Z"
   },
   {
    "duration": 74,
    "start_time": "2022-05-23T15:08:49.286Z"
   },
   {
    "duration": 14,
    "start_time": "2022-05-23T15:08:49.362Z"
   },
   {
    "duration": 16,
    "start_time": "2022-05-23T15:08:49.379Z"
   },
   {
    "duration": 9,
    "start_time": "2022-05-23T15:08:49.397Z"
   },
   {
    "duration": 35,
    "start_time": "2022-05-23T15:08:49.408Z"
   },
   {
    "duration": 28,
    "start_time": "2022-05-23T15:08:49.445Z"
   },
   {
    "duration": 8,
    "start_time": "2022-05-23T15:08:49.475Z"
   },
   {
    "duration": 12,
    "start_time": "2022-05-23T15:08:49.485Z"
   },
   {
    "duration": 42,
    "start_time": "2022-05-23T15:08:49.499Z"
   },
   {
    "duration": 6,
    "start_time": "2022-05-23T15:08:49.546Z"
   },
   {
    "duration": 13,
    "start_time": "2022-05-23T15:08:49.554Z"
   },
   {
    "duration": 21,
    "start_time": "2022-05-23T15:08:49.569Z"
   },
   {
    "duration": 6,
    "start_time": "2022-05-23T15:08:49.592Z"
   },
   {
    "duration": 53,
    "start_time": "2022-05-23T15:08:49.600Z"
   },
   {
    "duration": 6,
    "start_time": "2022-05-23T15:08:49.655Z"
   },
   {
    "duration": 23,
    "start_time": "2022-05-23T15:08:49.663Z"
   },
   {
    "duration": 9,
    "start_time": "2022-05-23T15:08:49.688Z"
   },
   {
    "duration": 46,
    "start_time": "2022-05-23T15:08:49.701Z"
   },
   {
    "duration": 16,
    "start_time": "2022-05-23T15:08:49.749Z"
   },
   {
    "duration": 23,
    "start_time": "2022-05-23T15:08:49.767Z"
   },
   {
    "duration": 12,
    "start_time": "2022-05-23T15:08:49.792Z"
   },
   {
    "duration": 8,
    "start_time": "2022-05-23T15:08:58.423Z"
   },
   {
    "duration": 80,
    "start_time": "2022-05-23T15:09:11.016Z"
   },
   {
    "duration": 17,
    "start_time": "2022-05-23T15:09:11.099Z"
   },
   {
    "duration": 37,
    "start_time": "2022-05-23T15:09:11.117Z"
   },
   {
    "duration": 7,
    "start_time": "2022-05-23T15:09:11.157Z"
   },
   {
    "duration": 14,
    "start_time": "2022-05-23T15:09:11.166Z"
   },
   {
    "duration": 25,
    "start_time": "2022-05-23T15:09:11.182Z"
   },
   {
    "duration": 5,
    "start_time": "2022-05-23T15:09:11.242Z"
   },
   {
    "duration": 14,
    "start_time": "2022-05-23T15:09:11.249Z"
   },
   {
    "duration": 8,
    "start_time": "2022-05-23T15:09:11.265Z"
   },
   {
    "duration": 12,
    "start_time": "2022-05-23T15:09:11.277Z"
   },
   {
    "duration": 8,
    "start_time": "2022-05-23T15:09:11.291Z"
   },
   {
    "duration": 42,
    "start_time": "2022-05-23T15:09:11.301Z"
   },
   {
    "duration": 7,
    "start_time": "2022-05-23T15:09:11.345Z"
   },
   {
    "duration": 11,
    "start_time": "2022-05-23T15:09:11.354Z"
   },
   {
    "duration": 13,
    "start_time": "2022-05-23T15:09:11.366Z"
   },
   {
    "duration": 8,
    "start_time": "2022-05-23T15:09:11.381Z"
   },
   {
    "duration": 10,
    "start_time": "2022-05-23T15:09:11.390Z"
   },
   {
    "duration": 39,
    "start_time": "2022-05-23T15:09:11.402Z"
   },
   {
    "duration": 9,
    "start_time": "2022-05-23T15:09:11.444Z"
   },
   {
    "duration": 18,
    "start_time": "2022-05-23T15:09:11.454Z"
   },
   {
    "duration": 5,
    "start_time": "2022-05-23T15:09:11.474Z"
   },
   {
    "duration": 22,
    "start_time": "2022-05-23T15:09:11.481Z"
   },
   {
    "duration": 51,
    "start_time": "2022-05-23T15:09:11.504Z"
   },
   {
    "duration": 39,
    "start_time": "2022-05-23T15:09:11.557Z"
   },
   {
    "duration": 15,
    "start_time": "2022-05-23T15:09:11.598Z"
   },
   {
    "duration": 35,
    "start_time": "2022-05-23T15:09:11.614Z"
   },
   {
    "duration": 8,
    "start_time": "2022-05-23T15:09:11.651Z"
   },
   {
    "duration": 10,
    "start_time": "2022-05-23T15:09:11.662Z"
   },
   {
    "duration": 39,
    "start_time": "2022-05-23T15:09:11.674Z"
   },
   {
    "duration": 34,
    "start_time": "2022-05-23T15:09:11.715Z"
   },
   {
    "duration": 17,
    "start_time": "2022-05-23T15:09:11.750Z"
   },
   {
    "duration": 13,
    "start_time": "2022-05-23T15:09:11.769Z"
   },
   {
    "duration": 10,
    "start_time": "2022-05-23T15:09:11.784Z"
   },
   {
    "duration": 8,
    "start_time": "2022-05-23T15:09:11.796Z"
   },
   {
    "duration": 40,
    "start_time": "2022-05-23T15:09:11.806Z"
   },
   {
    "duration": 14,
    "start_time": "2022-05-23T15:09:11.847Z"
   },
   {
    "duration": 23,
    "start_time": "2022-05-23T15:09:11.863Z"
   },
   {
    "duration": 7,
    "start_time": "2022-05-23T15:09:11.887Z"
   },
   {
    "duration": 45,
    "start_time": "2022-05-23T15:09:11.897Z"
   },
   {
    "duration": 9,
    "start_time": "2022-05-23T15:09:11.944Z"
   },
   {
    "duration": 14,
    "start_time": "2022-05-23T15:09:11.955Z"
   },
   {
    "duration": 15,
    "start_time": "2022-05-23T15:09:11.971Z"
   },
   {
    "duration": 21,
    "start_time": "2022-05-23T15:09:11.987Z"
   },
   {
    "duration": 12,
    "start_time": "2022-05-23T15:09:12.042Z"
   },
   {
    "duration": 10,
    "start_time": "2022-05-23T15:09:18.774Z"
   },
   {
    "duration": 555,
    "start_time": "2022-05-23T15:09:33.655Z"
   },
   {
    "duration": 14,
    "start_time": "2022-05-23T15:10:02.066Z"
   },
   {
    "duration": 10,
    "start_time": "2022-05-23T15:10:22.678Z"
   },
   {
    "duration": 588,
    "start_time": "2022-05-23T15:10:45.022Z"
   },
   {
    "duration": 18,
    "start_time": "2022-05-23T15:11:20.763Z"
   },
   {
    "duration": 10,
    "start_time": "2022-05-23T15:11:43.889Z"
   },
   {
    "duration": 7,
    "start_time": "2022-05-23T15:11:51.664Z"
   },
   {
    "duration": 15,
    "start_time": "2022-05-23T15:11:57.133Z"
   },
   {
    "duration": 7,
    "start_time": "2022-05-23T15:13:11.526Z"
   },
   {
    "duration": 16,
    "start_time": "2022-05-23T15:13:15.364Z"
   },
   {
    "duration": 75,
    "start_time": "2022-05-23T15:13:32.919Z"
   },
   {
    "duration": 17,
    "start_time": "2022-05-23T15:13:32.996Z"
   },
   {
    "duration": 39,
    "start_time": "2022-05-23T15:13:33.014Z"
   },
   {
    "duration": 15,
    "start_time": "2022-05-23T15:13:33.054Z"
   },
   {
    "duration": 15,
    "start_time": "2022-05-23T15:13:33.071Z"
   },
   {
    "duration": 24,
    "start_time": "2022-05-23T15:13:33.088Z"
   },
   {
    "duration": 7,
    "start_time": "2022-05-23T15:13:33.141Z"
   },
   {
    "duration": 25,
    "start_time": "2022-05-23T15:13:33.150Z"
   },
   {
    "duration": 12,
    "start_time": "2022-05-23T15:13:33.177Z"
   },
   {
    "duration": 15,
    "start_time": "2022-05-23T15:13:33.191Z"
   },
   {
    "duration": 20,
    "start_time": "2022-05-23T15:13:33.208Z"
   },
   {
    "duration": 23,
    "start_time": "2022-05-23T15:13:33.230Z"
   },
   {
    "duration": 44,
    "start_time": "2022-05-23T15:13:33.255Z"
   },
   {
    "duration": 21,
    "start_time": "2022-05-23T15:13:33.303Z"
   },
   {
    "duration": 14,
    "start_time": "2022-05-23T15:13:33.326Z"
   },
   {
    "duration": 17,
    "start_time": "2022-05-23T15:13:33.341Z"
   },
   {
    "duration": 34,
    "start_time": "2022-05-23T15:13:33.359Z"
   },
   {
    "duration": 26,
    "start_time": "2022-05-23T15:13:33.395Z"
   },
   {
    "duration": 15,
    "start_time": "2022-05-23T15:13:33.423Z"
   },
   {
    "duration": 22,
    "start_time": "2022-05-23T15:13:33.440Z"
   },
   {
    "duration": 6,
    "start_time": "2022-05-23T15:13:33.464Z"
   },
   {
    "duration": 36,
    "start_time": "2022-05-23T15:13:33.471Z"
   },
   {
    "duration": 26,
    "start_time": "2022-05-23T15:13:33.508Z"
   },
   {
    "duration": 37,
    "start_time": "2022-05-23T15:13:33.535Z"
   },
   {
    "duration": 14,
    "start_time": "2022-05-23T15:13:33.574Z"
   },
   {
    "duration": 30,
    "start_time": "2022-05-23T15:13:33.590Z"
   },
   {
    "duration": 7,
    "start_time": "2022-05-23T15:13:33.622Z"
   },
   {
    "duration": 9,
    "start_time": "2022-05-23T15:13:33.642Z"
   },
   {
    "duration": 24,
    "start_time": "2022-05-23T15:13:33.653Z"
   },
   {
    "duration": 5,
    "start_time": "2022-05-23T15:13:33.679Z"
   },
   {
    "duration": 22,
    "start_time": "2022-05-23T15:13:33.686Z"
   },
   {
    "duration": 38,
    "start_time": "2022-05-23T15:13:33.709Z"
   },
   {
    "duration": 16,
    "start_time": "2022-05-23T15:13:33.749Z"
   },
   {
    "duration": 24,
    "start_time": "2022-05-23T15:13:33.767Z"
   },
   {
    "duration": 57,
    "start_time": "2022-05-23T15:13:33.793Z"
   },
   {
    "duration": 17,
    "start_time": "2022-05-23T15:13:33.852Z"
   },
   {
    "duration": 35,
    "start_time": "2022-05-23T15:13:33.871Z"
   },
   {
    "duration": 7,
    "start_time": "2022-05-23T15:13:33.909Z"
   },
   {
    "duration": 34,
    "start_time": "2022-05-23T15:13:33.918Z"
   },
   {
    "duration": 21,
    "start_time": "2022-05-23T15:13:33.954Z"
   },
   {
    "duration": 27,
    "start_time": "2022-05-23T15:13:33.979Z"
   },
   {
    "duration": 20,
    "start_time": "2022-05-23T15:13:34.008Z"
   },
   {
    "duration": 30,
    "start_time": "2022-05-23T15:13:34.030Z"
   },
   {
    "duration": 15,
    "start_time": "2022-05-23T15:13:34.062Z"
   },
   {
    "duration": 9,
    "start_time": "2022-05-23T15:13:39.209Z"
   },
   {
    "duration": 14,
    "start_time": "2022-05-23T15:13:41.619Z"
   },
   {
    "duration": 837,
    "start_time": "2022-05-23T18:28:31.532Z"
   },
   {
    "duration": 17,
    "start_time": "2022-05-23T18:28:32.371Z"
   },
   {
    "duration": 21,
    "start_time": "2022-05-23T18:28:32.390Z"
   },
   {
    "duration": 4,
    "start_time": "2022-05-23T18:28:32.413Z"
   },
   {
    "duration": 13,
    "start_time": "2022-05-23T18:28:32.418Z"
   },
   {
    "duration": 22,
    "start_time": "2022-05-23T18:28:32.432Z"
   },
   {
    "duration": 5,
    "start_time": "2022-05-23T18:28:32.457Z"
   },
   {
    "duration": 40,
    "start_time": "2022-05-23T18:28:32.464Z"
   },
   {
    "duration": 8,
    "start_time": "2022-05-23T18:28:32.506Z"
   },
   {
    "duration": 12,
    "start_time": "2022-05-23T18:28:32.517Z"
   },
   {
    "duration": 8,
    "start_time": "2022-05-23T18:28:32.531Z"
   },
   {
    "duration": 6,
    "start_time": "2022-05-23T18:28:32.541Z"
   },
   {
    "duration": 10,
    "start_time": "2022-05-23T18:28:32.549Z"
   },
   {
    "duration": 52,
    "start_time": "2022-05-23T18:28:32.562Z"
   },
   {
    "duration": 10,
    "start_time": "2022-05-23T18:28:32.616Z"
   },
   {
    "duration": 12,
    "start_time": "2022-05-23T18:28:32.628Z"
   },
   {
    "duration": 8,
    "start_time": "2022-05-23T18:28:32.641Z"
   },
   {
    "duration": 9,
    "start_time": "2022-05-23T18:28:32.650Z"
   },
   {
    "duration": 10,
    "start_time": "2022-05-23T18:28:32.660Z"
   },
   {
    "duration": 36,
    "start_time": "2022-05-23T18:28:32.672Z"
   },
   {
    "duration": 5,
    "start_time": "2022-05-23T18:28:32.710Z"
   },
   {
    "duration": 18,
    "start_time": "2022-05-23T18:28:32.717Z"
   },
   {
    "duration": 22,
    "start_time": "2022-05-23T18:28:32.737Z"
   },
   {
    "duration": 55,
    "start_time": "2022-05-23T18:28:32.760Z"
   },
   {
    "duration": 12,
    "start_time": "2022-05-23T18:28:32.817Z"
   },
   {
    "duration": 12,
    "start_time": "2022-05-23T18:28:32.830Z"
   },
   {
    "duration": 7,
    "start_time": "2022-05-23T18:28:32.844Z"
   },
   {
    "duration": 7,
    "start_time": "2022-05-23T18:28:32.854Z"
   },
   {
    "duration": 53,
    "start_time": "2022-05-23T18:28:32.862Z"
   },
   {
    "duration": 6,
    "start_time": "2022-05-23T18:28:32.917Z"
   },
   {
    "duration": 10,
    "start_time": "2022-05-23T18:28:32.925Z"
   },
   {
    "duration": 14,
    "start_time": "2022-05-23T18:28:32.936Z"
   },
   {
    "duration": 7,
    "start_time": "2022-05-23T18:28:32.952Z"
   },
   {
    "duration": 9,
    "start_time": "2022-05-23T18:28:32.961Z"
   },
   {
    "duration": 26,
    "start_time": "2022-05-23T18:28:33.003Z"
   },
   {
    "duration": 7,
    "start_time": "2022-05-23T18:28:33.032Z"
   },
   {
    "duration": 22,
    "start_time": "2022-05-23T18:28:33.041Z"
   },
   {
    "duration": 39,
    "start_time": "2022-05-23T18:28:33.065Z"
   },
   {
    "duration": 3,
    "start_time": "2022-05-23T18:28:37.799Z"
   },
   {
    "duration": 21,
    "start_time": "2022-05-23T18:29:00.898Z"
   },
   {
    "duration": 31,
    "start_time": "2022-05-23T18:29:18.149Z"
   },
   {
    "duration": 4,
    "start_time": "2022-05-23T18:44:07.881Z"
   },
   {
    "duration": 31,
    "start_time": "2022-05-23T18:44:10.496Z"
   },
   {
    "duration": 23,
    "start_time": "2022-05-23T18:51:58.449Z"
   },
   {
    "duration": 77,
    "start_time": "2022-05-23T18:56:42.215Z"
   },
   {
    "duration": 19,
    "start_time": "2022-05-23T18:56:48.005Z"
   },
   {
    "duration": 22,
    "start_time": "2022-05-23T18:58:11.594Z"
   },
   {
    "duration": 30,
    "start_time": "2022-05-23T18:59:31.963Z"
   },
   {
    "duration": 21,
    "start_time": "2022-05-23T19:01:52.444Z"
   },
   {
    "duration": 23,
    "start_time": "2022-05-23T19:05:32.510Z"
   },
   {
    "duration": 26,
    "start_time": "2022-05-23T19:05:51.084Z"
   },
   {
    "duration": 25,
    "start_time": "2022-05-23T19:07:38.262Z"
   },
   {
    "duration": 9,
    "start_time": "2022-05-23T19:08:40.886Z"
   },
   {
    "duration": 24,
    "start_time": "2022-05-23T19:08:47.749Z"
   },
   {
    "duration": 31,
    "start_time": "2022-05-23T19:12:16.559Z"
   },
   {
    "duration": 27,
    "start_time": "2022-05-23T19:13:27.621Z"
   },
   {
    "duration": 28,
    "start_time": "2022-05-23T19:13:35.360Z"
   },
   {
    "duration": 33,
    "start_time": "2022-05-23T19:17:25.259Z"
   },
   {
    "duration": 27,
    "start_time": "2022-05-23T19:18:09.376Z"
   },
   {
    "duration": 21,
    "start_time": "2022-05-23T19:56:06.089Z"
   },
   {
    "duration": 513,
    "start_time": "2022-05-23T20:49:44.153Z"
   },
   {
    "duration": 21,
    "start_time": "2022-05-23T20:49:44.668Z"
   },
   {
    "duration": 27,
    "start_time": "2022-05-23T20:49:44.691Z"
   },
   {
    "duration": 4,
    "start_time": "2022-05-23T20:49:44.720Z"
   },
   {
    "duration": 17,
    "start_time": "2022-05-23T20:49:44.726Z"
   },
   {
    "duration": 24,
    "start_time": "2022-05-23T20:49:44.745Z"
   },
   {
    "duration": 4,
    "start_time": "2022-05-23T20:49:44.770Z"
   },
   {
    "duration": 34,
    "start_time": "2022-05-23T20:49:44.775Z"
   },
   {
    "duration": 6,
    "start_time": "2022-05-23T20:49:44.811Z"
   },
   {
    "duration": 10,
    "start_time": "2022-05-23T20:49:44.819Z"
   },
   {
    "duration": 6,
    "start_time": "2022-05-23T20:49:44.830Z"
   },
   {
    "duration": 5,
    "start_time": "2022-05-23T20:49:44.838Z"
   },
   {
    "duration": 5,
    "start_time": "2022-05-23T20:49:44.845Z"
   },
   {
    "duration": 52,
    "start_time": "2022-05-23T20:49:44.852Z"
   },
   {
    "duration": 15,
    "start_time": "2022-05-23T20:49:44.905Z"
   },
   {
    "duration": 7,
    "start_time": "2022-05-23T20:49:44.921Z"
   },
   {
    "duration": 10,
    "start_time": "2022-05-23T20:49:44.929Z"
   },
   {
    "duration": 6,
    "start_time": "2022-05-23T20:49:44.940Z"
   },
   {
    "duration": 11,
    "start_time": "2022-05-23T20:49:44.947Z"
   },
   {
    "duration": 43,
    "start_time": "2022-05-23T20:49:44.959Z"
   },
   {
    "duration": 6,
    "start_time": "2022-05-23T20:49:45.004Z"
   },
   {
    "duration": 23,
    "start_time": "2022-05-23T20:49:45.012Z"
   },
   {
    "duration": 20,
    "start_time": "2022-05-23T20:49:45.037Z"
   },
   {
    "duration": 48,
    "start_time": "2022-05-23T20:49:45.059Z"
   },
   {
    "duration": 12,
    "start_time": "2022-05-23T20:49:45.109Z"
   },
   {
    "duration": 12,
    "start_time": "2022-05-23T20:49:45.123Z"
   },
   {
    "duration": 6,
    "start_time": "2022-05-23T20:49:45.136Z"
   },
   {
    "duration": 8,
    "start_time": "2022-05-23T20:49:45.147Z"
   },
   {
    "duration": 60,
    "start_time": "2022-05-23T20:49:45.157Z"
   },
   {
    "duration": 5,
    "start_time": "2022-05-23T20:49:45.218Z"
   },
   {
    "duration": 11,
    "start_time": "2022-05-23T20:49:45.225Z"
   },
   {
    "duration": 9,
    "start_time": "2022-05-23T20:49:45.238Z"
   },
   {
    "duration": 5,
    "start_time": "2022-05-23T20:49:45.249Z"
   },
   {
    "duration": 7,
    "start_time": "2022-05-23T20:49:45.256Z"
   },
   {
    "duration": 17,
    "start_time": "2022-05-23T20:49:45.303Z"
   },
   {
    "duration": 8,
    "start_time": "2022-05-23T20:49:45.322Z"
   },
   {
    "duration": 20,
    "start_time": "2022-05-23T20:49:45.332Z"
   },
   {
    "duration": 6,
    "start_time": "2022-05-23T20:49:45.354Z"
   },
   {
    "duration": 5,
    "start_time": "2022-05-23T20:49:45.361Z"
   },
   {
    "duration": 48,
    "start_time": "2022-05-23T20:49:45.367Z"
   },
   {
    "duration": 23,
    "start_time": "2022-05-23T20:49:45.416Z"
   },
   {
    "duration": 24,
    "start_time": "2022-05-23T20:49:45.440Z"
   },
   {
    "duration": 43,
    "start_time": "2022-05-23T20:49:45.465Z"
   },
   {
    "duration": 73,
    "start_time": "2022-05-23T21:05:40.802Z"
   },
   {
    "duration": 15,
    "start_time": "2022-05-23T21:05:40.876Z"
   },
   {
    "duration": 13,
    "start_time": "2022-05-23T21:05:40.892Z"
   },
   {
    "duration": 6,
    "start_time": "2022-05-23T21:05:40.907Z"
   },
   {
    "duration": 11,
    "start_time": "2022-05-23T21:05:40.914Z"
   },
   {
    "duration": 21,
    "start_time": "2022-05-23T21:05:40.927Z"
   },
   {
    "duration": 5,
    "start_time": "2022-05-23T21:05:40.950Z"
   },
   {
    "duration": 46,
    "start_time": "2022-05-23T21:05:40.957Z"
   },
   {
    "duration": 8,
    "start_time": "2022-05-23T21:05:41.005Z"
   },
   {
    "duration": 9,
    "start_time": "2022-05-23T21:05:41.016Z"
   },
   {
    "duration": 6,
    "start_time": "2022-05-23T21:05:41.026Z"
   },
   {
    "duration": 6,
    "start_time": "2022-05-23T21:05:41.034Z"
   },
   {
    "duration": 6,
    "start_time": "2022-05-23T21:05:41.041Z"
   },
   {
    "duration": 7,
    "start_time": "2022-05-23T21:05:41.048Z"
   },
   {
    "duration": 48,
    "start_time": "2022-05-23T21:05:41.056Z"
   },
   {
    "duration": 8,
    "start_time": "2022-05-23T21:05:41.106Z"
   },
   {
    "duration": 9,
    "start_time": "2022-05-23T21:05:41.118Z"
   },
   {
    "duration": 10,
    "start_time": "2022-05-23T21:05:41.129Z"
   },
   {
    "duration": 9,
    "start_time": "2022-05-23T21:05:41.141Z"
   },
   {
    "duration": 22,
    "start_time": "2022-05-23T21:05:41.152Z"
   },
   {
    "duration": 29,
    "start_time": "2022-05-23T21:05:41.176Z"
   },
   {
    "duration": 14,
    "start_time": "2022-05-23T21:06:11.019Z"
   },
   {
    "duration": 68,
    "start_time": "2022-05-23T21:06:31.466Z"
   },
   {
    "duration": 15,
    "start_time": "2022-05-23T21:06:31.536Z"
   },
   {
    "duration": 12,
    "start_time": "2022-05-23T21:06:31.553Z"
   },
   {
    "duration": 6,
    "start_time": "2022-05-23T21:06:31.567Z"
   },
   {
    "duration": 32,
    "start_time": "2022-05-23T21:06:31.574Z"
   },
   {
    "duration": 20,
    "start_time": "2022-05-23T21:06:31.608Z"
   },
   {
    "duration": 4,
    "start_time": "2022-05-23T21:06:31.629Z"
   },
   {
    "duration": 11,
    "start_time": "2022-05-23T21:06:31.635Z"
   },
   {
    "duration": 5,
    "start_time": "2022-05-23T21:06:31.647Z"
   },
   {
    "duration": 13,
    "start_time": "2022-05-23T21:06:31.654Z"
   },
   {
    "duration": 5,
    "start_time": "2022-05-23T21:06:31.669Z"
   },
   {
    "duration": 5,
    "start_time": "2022-05-23T21:06:31.702Z"
   },
   {
    "duration": 13,
    "start_time": "2022-05-23T21:06:31.709Z"
   },
   {
    "duration": 6,
    "start_time": "2022-05-23T21:06:31.724Z"
   },
   {
    "duration": 8,
    "start_time": "2022-05-23T21:06:31.731Z"
   },
   {
    "duration": 8,
    "start_time": "2022-05-23T21:06:31.740Z"
   },
   {
    "duration": 8,
    "start_time": "2022-05-23T21:06:31.749Z"
   },
   {
    "duration": 6,
    "start_time": "2022-05-23T21:06:31.759Z"
   },
   {
    "duration": 37,
    "start_time": "2022-05-23T21:06:31.767Z"
   },
   {
    "duration": 29,
    "start_time": "2022-05-23T21:06:31.806Z"
   },
   {
    "duration": 5,
    "start_time": "2022-05-23T21:06:31.837Z"
   },
   {
    "duration": 23,
    "start_time": "2022-05-23T21:06:38.592Z"
   },
   {
    "duration": 492,
    "start_time": "2022-05-23T21:07:29.902Z"
   },
   {
    "duration": 14,
    "start_time": "2022-05-23T21:07:30.396Z"
   },
   {
    "duration": 19,
    "start_time": "2022-05-23T21:07:30.411Z"
   },
   {
    "duration": 3,
    "start_time": "2022-05-23T21:07:30.432Z"
   },
   {
    "duration": 12,
    "start_time": "2022-05-23T21:07:30.436Z"
   },
   {
    "duration": 21,
    "start_time": "2022-05-23T21:07:30.449Z"
   },
   {
    "duration": 4,
    "start_time": "2022-05-23T21:07:30.502Z"
   },
   {
    "duration": 10,
    "start_time": "2022-05-23T21:07:30.508Z"
   },
   {
    "duration": 13,
    "start_time": "2022-05-23T21:07:30.520Z"
   },
   {
    "duration": 12,
    "start_time": "2022-05-23T21:07:30.536Z"
   },
   {
    "duration": 7,
    "start_time": "2022-05-23T21:07:30.549Z"
   },
   {
    "duration": 8,
    "start_time": "2022-05-23T21:07:30.557Z"
   },
   {
    "duration": 36,
    "start_time": "2022-05-23T21:07:30.566Z"
   },
   {
    "duration": 7,
    "start_time": "2022-05-23T21:07:30.603Z"
   },
   {
    "duration": 20,
    "start_time": "2022-05-23T21:07:30.612Z"
   },
   {
    "duration": 19,
    "start_time": "2022-05-23T21:07:30.634Z"
   },
   {
    "duration": 18,
    "start_time": "2022-05-23T21:07:30.654Z"
   },
   {
    "duration": 9,
    "start_time": "2022-05-23T21:07:30.673Z"
   },
   {
    "duration": 23,
    "start_time": "2022-05-23T21:07:30.683Z"
   },
   {
    "duration": 26,
    "start_time": "2022-05-23T21:07:30.707Z"
   },
   {
    "duration": 8,
    "start_time": "2022-05-23T21:07:30.735Z"
   },
   {
    "duration": 38,
    "start_time": "2022-05-23T21:07:30.745Z"
   },
   {
    "duration": 24,
    "start_time": "2022-05-23T21:07:30.785Z"
   },
   {
    "duration": 34,
    "start_time": "2022-05-23T21:07:30.810Z"
   },
   {
    "duration": 19,
    "start_time": "2022-05-23T21:07:30.846Z"
   },
   {
    "duration": 21,
    "start_time": "2022-05-23T21:07:30.866Z"
   },
   {
    "duration": 21,
    "start_time": "2022-05-23T21:07:30.889Z"
   },
   {
    "duration": 16,
    "start_time": "2022-05-23T21:07:30.913Z"
   },
   {
    "duration": 33,
    "start_time": "2022-05-23T21:07:30.931Z"
   },
   {
    "duration": 5,
    "start_time": "2022-05-23T21:07:30.966Z"
   },
   {
    "duration": 11,
    "start_time": "2022-05-23T21:07:30.973Z"
   },
   {
    "duration": 27,
    "start_time": "2022-05-23T21:07:30.986Z"
   },
   {
    "duration": 13,
    "start_time": "2022-05-23T21:07:31.015Z"
   },
   {
    "duration": 20,
    "start_time": "2022-05-23T21:07:31.030Z"
   },
   {
    "duration": 26,
    "start_time": "2022-05-23T21:07:31.052Z"
   },
   {
    "duration": 29,
    "start_time": "2022-05-23T21:07:31.080Z"
   },
   {
    "duration": 24,
    "start_time": "2022-05-23T21:07:31.112Z"
   },
   {
    "duration": 18,
    "start_time": "2022-05-23T21:07:31.138Z"
   },
   {
    "duration": 19,
    "start_time": "2022-05-23T21:07:31.159Z"
   },
   {
    "duration": 40,
    "start_time": "2022-05-23T21:07:31.180Z"
   },
   {
    "duration": 26,
    "start_time": "2022-05-23T21:07:31.222Z"
   },
   {
    "duration": 26,
    "start_time": "2022-05-23T21:07:31.250Z"
   },
   {
    "duration": 47,
    "start_time": "2022-05-23T21:07:31.279Z"
   },
   {
    "duration": 488,
    "start_time": "2022-05-24T06:01:12.407Z"
   },
   {
    "duration": 16,
    "start_time": "2022-05-24T06:01:12.896Z"
   },
   {
    "duration": 19,
    "start_time": "2022-05-24T06:01:12.914Z"
   },
   {
    "duration": 3,
    "start_time": "2022-05-24T06:01:12.935Z"
   },
   {
    "duration": 11,
    "start_time": "2022-05-24T06:01:12.940Z"
   },
   {
    "duration": 19,
    "start_time": "2022-05-24T06:01:12.953Z"
   },
   {
    "duration": 4,
    "start_time": "2022-05-24T06:01:12.973Z"
   },
   {
    "duration": 13,
    "start_time": "2022-05-24T06:01:12.978Z"
   },
   {
    "duration": 6,
    "start_time": "2022-05-24T06:01:12.992Z"
   },
   {
    "duration": 35,
    "start_time": "2022-05-24T06:01:13.000Z"
   },
   {
    "duration": 6,
    "start_time": "2022-05-24T06:01:13.036Z"
   },
   {
    "duration": 8,
    "start_time": "2022-05-24T06:01:13.044Z"
   },
   {
    "duration": 6,
    "start_time": "2022-05-24T06:01:13.054Z"
   },
   {
    "duration": 6,
    "start_time": "2022-05-24T06:01:13.062Z"
   },
   {
    "duration": 7,
    "start_time": "2022-05-24T06:01:13.069Z"
   },
   {
    "duration": 517,
    "start_time": "2022-05-24T06:01:13.078Z"
   },
   {
    "duration": 21,
    "start_time": "2022-05-24T06:01:13.596Z"
   },
   {
    "duration": 13,
    "start_time": "2022-05-24T06:01:13.618Z"
   },
   {
    "duration": 10,
    "start_time": "2022-05-24T06:01:13.633Z"
   },
   {
    "duration": 16,
    "start_time": "2022-05-24T06:01:13.644Z"
   },
   {
    "duration": 14,
    "start_time": "2022-05-24T06:01:13.662Z"
   },
   {
    "duration": 17,
    "start_time": "2022-05-24T06:01:13.678Z"
   },
   {
    "duration": 56,
    "start_time": "2022-05-24T06:01:13.697Z"
   },
   {
    "duration": 11,
    "start_time": "2022-05-24T06:01:13.754Z"
   },
   {
    "duration": 9,
    "start_time": "2022-05-24T06:01:13.767Z"
   },
   {
    "duration": 6,
    "start_time": "2022-05-24T06:01:13.777Z"
   },
   {
    "duration": 26,
    "start_time": "2022-05-24T06:01:13.784Z"
   },
   {
    "duration": 23,
    "start_time": "2022-05-24T06:01:13.828Z"
   },
   {
    "duration": 8,
    "start_time": "2022-05-24T06:01:13.854Z"
   },
   {
    "duration": 9,
    "start_time": "2022-05-24T06:01:13.863Z"
   },
   {
    "duration": 13,
    "start_time": "2022-05-24T06:01:13.874Z"
   },
   {
    "duration": 6,
    "start_time": "2022-05-24T06:01:13.889Z"
   },
   {
    "duration": 31,
    "start_time": "2022-05-24T06:01:13.897Z"
   },
   {
    "duration": 17,
    "start_time": "2022-05-24T06:01:13.930Z"
   },
   {
    "duration": 12,
    "start_time": "2022-05-24T06:01:13.949Z"
   },
   {
    "duration": 18,
    "start_time": "2022-05-24T06:01:13.963Z"
   },
   {
    "duration": 5,
    "start_time": "2022-05-24T06:01:13.982Z"
   },
   {
    "duration": 5,
    "start_time": "2022-05-24T06:01:13.988Z"
   },
   {
    "duration": 40,
    "start_time": "2022-05-24T06:01:13.994Z"
   },
   {
    "duration": 19,
    "start_time": "2022-05-24T06:01:14.035Z"
   },
   {
    "duration": 20,
    "start_time": "2022-05-24T06:01:14.056Z"
   },
   {
    "duration": 19,
    "start_time": "2022-05-24T06:01:14.077Z"
   },
   {
    "duration": 534,
    "start_time": "2022-05-24T07:54:20.420Z"
   },
   {
    "duration": 71,
    "start_time": "2022-05-24T07:54:28.866Z"
   },
   {
    "duration": 18,
    "start_time": "2022-05-24T07:54:28.939Z"
   },
   {
    "duration": 15,
    "start_time": "2022-05-24T07:54:28.958Z"
   },
   {
    "duration": 6,
    "start_time": "2022-05-24T07:54:28.975Z"
   },
   {
    "duration": 26,
    "start_time": "2022-05-24T07:54:28.982Z"
   },
   {
    "duration": 20,
    "start_time": "2022-05-24T07:54:29.010Z"
   },
   {
    "duration": 13,
    "start_time": "2022-05-24T07:54:31.783Z"
   },
   {
    "duration": 12,
    "start_time": "2022-05-24T07:55:14.384Z"
   },
   {
    "duration": 70,
    "start_time": "2022-05-24T08:35:26.068Z"
   },
   {
    "duration": 13,
    "start_time": "2022-05-24T08:35:26.140Z"
   },
   {
    "duration": 21,
    "start_time": "2022-05-24T08:35:26.155Z"
   },
   {
    "duration": 6,
    "start_time": "2022-05-24T08:35:26.178Z"
   },
   {
    "duration": 22,
    "start_time": "2022-05-24T08:35:26.186Z"
   },
   {
    "duration": 23,
    "start_time": "2022-05-24T08:35:26.210Z"
   },
   {
    "duration": 9,
    "start_time": "2022-05-24T08:35:26.235Z"
   },
   {
    "duration": 7,
    "start_time": "2022-05-24T08:35:26.246Z"
   },
   {
    "duration": 5,
    "start_time": "2022-05-24T08:35:26.255Z"
   },
   {
    "duration": 10,
    "start_time": "2022-05-24T08:35:26.262Z"
   },
   {
    "duration": 33,
    "start_time": "2022-05-24T08:35:26.273Z"
   },
   {
    "duration": 5,
    "start_time": "2022-05-24T08:35:26.307Z"
   },
   {
    "duration": 8,
    "start_time": "2022-05-24T08:35:26.313Z"
   },
   {
    "duration": 72,
    "start_time": "2022-05-24T08:35:38.527Z"
   },
   {
    "duration": 20,
    "start_time": "2022-05-24T08:35:38.602Z"
   },
   {
    "duration": 12,
    "start_time": "2022-05-24T08:35:38.624Z"
   },
   {
    "duration": 8,
    "start_time": "2022-05-24T08:35:38.638Z"
   },
   {
    "duration": 11,
    "start_time": "2022-05-24T08:35:38.648Z"
   },
   {
    "duration": 42,
    "start_time": "2022-05-24T08:35:38.660Z"
   },
   {
    "duration": 11,
    "start_time": "2022-05-24T08:35:38.704Z"
   },
   {
    "duration": 8,
    "start_time": "2022-05-24T08:35:38.717Z"
   },
   {
    "duration": 5,
    "start_time": "2022-05-24T08:35:38.727Z"
   },
   {
    "duration": 9,
    "start_time": "2022-05-24T08:35:38.734Z"
   },
   {
    "duration": 6,
    "start_time": "2022-05-24T08:35:38.744Z"
   },
   {
    "duration": 19,
    "start_time": "2022-05-24T08:36:46.732Z"
   },
   {
    "duration": 16,
    "start_time": "2022-05-24T08:37:18.748Z"
   },
   {
    "duration": 10,
    "start_time": "2022-05-24T08:37:56.523Z"
   },
   {
    "duration": 20,
    "start_time": "2022-05-24T08:37:58.922Z"
   },
   {
    "duration": 1269,
    "start_time": "2022-05-24T08:43:21.850Z"
   },
   {
    "duration": 74,
    "start_time": "2022-05-24T08:43:32.345Z"
   },
   {
    "duration": 19,
    "start_time": "2022-05-24T08:43:32.421Z"
   },
   {
    "duration": 37,
    "start_time": "2022-05-24T08:43:32.441Z"
   },
   {
    "duration": 9,
    "start_time": "2022-05-24T08:43:32.480Z"
   },
   {
    "duration": 15,
    "start_time": "2022-05-24T08:43:32.491Z"
   },
   {
    "duration": 21,
    "start_time": "2022-05-24T08:43:32.508Z"
   },
   {
    "duration": 10,
    "start_time": "2022-05-24T08:43:32.531Z"
   },
   {
    "duration": 13,
    "start_time": "2022-05-24T08:43:32.543Z"
   },
   {
    "duration": 7,
    "start_time": "2022-05-24T08:43:32.558Z"
   },
   {
    "duration": 43,
    "start_time": "2022-05-24T08:43:32.567Z"
   },
   {
    "duration": 6,
    "start_time": "2022-05-24T08:43:32.612Z"
   },
   {
    "duration": 7,
    "start_time": "2022-05-24T08:43:32.620Z"
   },
   {
    "duration": 7,
    "start_time": "2022-05-24T08:43:32.628Z"
   },
   {
    "duration": 11,
    "start_time": "2022-05-24T08:43:32.636Z"
   },
   {
    "duration": 15,
    "start_time": "2022-05-24T08:43:32.649Z"
   },
   {
    "duration": 36,
    "start_time": "2022-05-24T08:43:32.666Z"
   },
   {
    "duration": 14,
    "start_time": "2022-05-24T08:43:32.704Z"
   },
   {
    "duration": 10,
    "start_time": "2022-05-24T08:43:32.720Z"
   },
   {
    "duration": 10,
    "start_time": "2022-05-24T08:43:32.732Z"
   },
   {
    "duration": 17,
    "start_time": "2022-05-24T08:43:32.744Z"
   },
   {
    "duration": 40,
    "start_time": "2022-05-24T08:43:32.763Z"
   },
   {
    "duration": 17,
    "start_time": "2022-05-24T08:43:32.805Z"
   },
   {
    "duration": 35,
    "start_time": "2022-05-24T08:43:32.824Z"
   },
   {
    "duration": 12,
    "start_time": "2022-05-24T08:43:32.861Z"
   },
   {
    "duration": 38,
    "start_time": "2022-05-24T08:43:32.874Z"
   },
   {
    "duration": 7,
    "start_time": "2022-05-24T08:43:32.914Z"
   },
   {
    "duration": 8,
    "start_time": "2022-05-24T08:43:32.924Z"
   },
   {
    "duration": 18,
    "start_time": "2022-05-24T08:43:32.937Z"
   },
   {
    "duration": 5,
    "start_time": "2022-05-24T08:43:32.957Z"
   },
   {
    "duration": 47,
    "start_time": "2022-05-24T08:43:32.964Z"
   },
   {
    "duration": 25,
    "start_time": "2022-05-24T08:43:33.013Z"
   },
   {
    "duration": 7,
    "start_time": "2022-05-24T08:43:33.039Z"
   },
   {
    "duration": 10,
    "start_time": "2022-05-24T08:43:33.048Z"
   },
   {
    "duration": 29,
    "start_time": "2022-05-24T08:43:33.059Z"
   },
   {
    "duration": 15,
    "start_time": "2022-05-24T08:43:33.090Z"
   },
   {
    "duration": 22,
    "start_time": "2022-05-24T08:43:33.107Z"
   },
   {
    "duration": 7,
    "start_time": "2022-05-24T08:43:33.130Z"
   },
   {
    "duration": 7,
    "start_time": "2022-05-24T08:43:33.139Z"
   },
   {
    "duration": 31,
    "start_time": "2022-05-24T08:43:33.147Z"
   },
   {
    "duration": 16,
    "start_time": "2022-05-24T08:43:58.065Z"
   },
   {
    "duration": 21,
    "start_time": "2022-05-24T08:44:12.913Z"
   },
   {
    "duration": 237,
    "start_time": "2022-05-24T08:44:48.033Z"
   },
   {
    "duration": 2106,
    "start_time": "2022-05-24T15:11:43.054Z"
   },
   {
    "duration": 32,
    "start_time": "2022-05-24T15:11:45.163Z"
   },
   {
    "duration": 38,
    "start_time": "2022-05-24T15:11:45.204Z"
   },
   {
    "duration": 6,
    "start_time": "2022-05-24T15:11:45.244Z"
   },
   {
    "duration": 38,
    "start_time": "2022-05-24T15:11:45.253Z"
   },
   {
    "duration": 51,
    "start_time": "2022-05-24T15:11:45.300Z"
   },
   {
    "duration": 18,
    "start_time": "2022-05-24T15:11:45.353Z"
   },
   {
    "duration": 69,
    "start_time": "2022-05-24T15:11:45.373Z"
   },
   {
    "duration": 21,
    "start_time": "2022-05-24T15:11:45.444Z"
   },
   {
    "duration": 69,
    "start_time": "2022-05-24T15:11:45.467Z"
   },
   {
    "duration": 17,
    "start_time": "2022-05-24T15:11:45.537Z"
   },
   {
    "duration": 10,
    "start_time": "2022-05-24T15:11:45.556Z"
   },
   {
    "duration": 11,
    "start_time": "2022-05-24T15:11:45.568Z"
   },
   {
    "duration": 37,
    "start_time": "2022-05-24T15:11:45.590Z"
   },
   {
    "duration": 11,
    "start_time": "2022-05-24T15:11:45.629Z"
   },
   {
    "duration": 9,
    "start_time": "2022-05-24T15:11:45.643Z"
   },
   {
    "duration": 13,
    "start_time": "2022-05-24T15:11:45.654Z"
   },
   {
    "duration": 20,
    "start_time": "2022-05-24T15:11:45.669Z"
   },
   {
    "duration": 40,
    "start_time": "2022-05-24T15:11:45.691Z"
   },
   {
    "duration": 24,
    "start_time": "2022-05-24T15:11:45.733Z"
   },
   {
    "duration": 15,
    "start_time": "2022-05-24T15:11:45.759Z"
   },
   {
    "duration": 55,
    "start_time": "2022-05-24T15:11:45.777Z"
   },
   {
    "duration": 32,
    "start_time": "2022-05-24T15:11:45.834Z"
   },
   {
    "duration": 26,
    "start_time": "2022-05-24T15:11:45.868Z"
   },
   {
    "duration": 39,
    "start_time": "2022-05-24T15:11:45.895Z"
   },
   {
    "duration": 8,
    "start_time": "2022-05-24T15:11:45.936Z"
   },
   {
    "duration": 12,
    "start_time": "2022-05-24T15:11:45.945Z"
   },
   {
    "duration": 47,
    "start_time": "2022-05-24T15:11:45.959Z"
   },
   {
    "duration": 8,
    "start_time": "2022-05-24T15:11:46.016Z"
   },
   {
    "duration": 13,
    "start_time": "2022-05-24T15:11:46.026Z"
   },
   {
    "duration": 21,
    "start_time": "2022-05-24T15:11:46.040Z"
   },
   {
    "duration": 65,
    "start_time": "2022-05-24T15:11:46.063Z"
   },
   {
    "duration": 18,
    "start_time": "2022-05-24T15:11:46.130Z"
   },
   {
    "duration": 25,
    "start_time": "2022-05-24T15:11:46.149Z"
   },
   {
    "duration": 47,
    "start_time": "2022-05-24T15:11:46.180Z"
   },
   {
    "duration": 34,
    "start_time": "2022-05-24T15:11:46.233Z"
   },
   {
    "duration": 73,
    "start_time": "2022-05-24T15:11:46.269Z"
   },
   {
    "duration": 4,
    "start_time": "2022-05-24T15:12:39.157Z"
   },
   {
    "duration": 229,
    "start_time": "2022-05-24T15:12:41.703Z"
   },
   {
    "duration": 4,
    "start_time": "2022-05-24T15:13:20.230Z"
   },
   {
    "duration": 44,
    "start_time": "2022-05-24T15:13:21.601Z"
   },
   {
    "duration": 5,
    "start_time": "2022-05-24T15:13:37.217Z"
   },
   {
    "duration": 35,
    "start_time": "2022-05-24T15:13:41.631Z"
   },
   {
    "duration": 4,
    "start_time": "2022-05-24T15:14:01.716Z"
   },
   {
    "duration": 1209,
    "start_time": "2022-05-24T15:14:04.828Z"
   },
   {
    "duration": 3,
    "start_time": "2022-05-24T15:14:17.228Z"
   },
   {
    "duration": 25,
    "start_time": "2022-05-24T15:14:19.113Z"
   },
   {
    "duration": 3,
    "start_time": "2022-05-24T15:14:31.552Z"
   },
   {
    "duration": 21,
    "start_time": "2022-05-24T15:14:33.813Z"
   },
   {
    "duration": 9,
    "start_time": "2022-05-24T15:18:00.620Z"
   },
   {
    "duration": 10,
    "start_time": "2022-05-24T15:18:17.827Z"
   },
   {
    "duration": 4,
    "start_time": "2022-05-24T15:20:39.861Z"
   },
   {
    "duration": 16,
    "start_time": "2022-05-24T15:20:48.746Z"
   },
   {
    "duration": 4,
    "start_time": "2022-05-24T15:20:58.001Z"
   },
   {
    "duration": 11,
    "start_time": "2022-05-24T15:23:00.861Z"
   },
   {
    "duration": 30,
    "start_time": "2022-05-24T15:23:13.475Z"
   },
   {
    "duration": 21,
    "start_time": "2022-05-24T15:23:21.787Z"
   },
   {
    "duration": 16,
    "start_time": "2022-05-24T15:23:32.051Z"
   },
   {
    "duration": 11,
    "start_time": "2022-05-24T15:24:22.502Z"
   },
   {
    "duration": 11,
    "start_time": "2022-05-24T15:24:45.654Z"
   },
   {
    "duration": 11,
    "start_time": "2022-05-24T15:24:55.298Z"
   },
   {
    "duration": 11,
    "start_time": "2022-05-24T15:25:09.508Z"
   },
   {
    "duration": 637,
    "start_time": "2022-05-24T15:25:21.805Z"
   },
   {
    "duration": 747,
    "start_time": "2022-05-24T15:25:32.259Z"
   },
   {
    "duration": 702,
    "start_time": "2022-05-24T15:25:38.454Z"
   },
   {
    "duration": 5,
    "start_time": "2022-05-24T15:25:42.258Z"
   },
   {
    "duration": 658,
    "start_time": "2022-05-24T15:25:45.489Z"
   },
   {
    "duration": 5,
    "start_time": "2022-05-24T15:25:53.011Z"
   },
   {
    "duration": 15,
    "start_time": "2022-05-24T15:26:14.473Z"
   },
   {
    "duration": 6,
    "start_time": "2022-05-24T15:26:52.755Z"
   },
   {
    "duration": 20,
    "start_time": "2022-05-24T15:27:20.854Z"
   },
   {
    "duration": 11,
    "start_time": "2022-05-24T15:27:44.131Z"
   },
   {
    "duration": 10,
    "start_time": "2022-05-24T15:27:51.330Z"
   },
   {
    "duration": 13,
    "start_time": "2022-05-24T15:27:55.508Z"
   },
   {
    "duration": 11,
    "start_time": "2022-05-24T15:31:03.714Z"
   },
   {
    "duration": 13,
    "start_time": "2022-05-24T15:31:27.161Z"
   },
   {
    "duration": 19,
    "start_time": "2022-05-24T15:31:31.600Z"
   },
   {
    "duration": 13,
    "start_time": "2022-05-24T15:32:01.266Z"
   },
   {
    "duration": 9,
    "start_time": "2022-05-24T15:32:31.129Z"
   },
   {
    "duration": 10,
    "start_time": "2022-05-24T15:32:45.261Z"
   },
   {
    "duration": 69,
    "start_time": "2022-05-25T14:43:27.077Z"
   },
   {
    "duration": 15,
    "start_time": "2022-05-25T14:43:27.148Z"
   },
   {
    "duration": 12,
    "start_time": "2022-05-25T14:43:27.164Z"
   },
   {
    "duration": 10,
    "start_time": "2022-05-25T14:43:27.177Z"
   },
   {
    "duration": 12,
    "start_time": "2022-05-25T14:43:27.188Z"
   },
   {
    "duration": 39,
    "start_time": "2022-05-25T14:43:27.202Z"
   },
   {
    "duration": 43,
    "start_time": "2022-05-25T14:43:27.242Z"
   },
   {
    "duration": 11,
    "start_time": "2022-05-25T14:43:27.288Z"
   },
   {
    "duration": 6,
    "start_time": "2022-05-25T14:43:27.301Z"
   },
   {
    "duration": 10,
    "start_time": "2022-05-25T14:43:27.310Z"
   },
   {
    "duration": 5,
    "start_time": "2022-05-25T14:43:27.322Z"
   },
   {
    "duration": 6,
    "start_time": "2022-05-25T14:43:27.329Z"
   },
   {
    "duration": 5,
    "start_time": "2022-05-25T14:43:27.376Z"
   },
   {
    "duration": 8,
    "start_time": "2022-05-25T14:43:27.383Z"
   },
   {
    "duration": 14,
    "start_time": "2022-05-25T14:43:27.393Z"
   },
   {
    "duration": 7,
    "start_time": "2022-05-25T14:43:27.408Z"
   },
   {
    "duration": 9,
    "start_time": "2022-05-25T14:43:27.417Z"
   },
   {
    "duration": 8,
    "start_time": "2022-05-25T14:43:27.428Z"
   },
   {
    "duration": 48,
    "start_time": "2022-05-25T14:43:27.438Z"
   },
   {
    "duration": 20,
    "start_time": "2022-05-25T14:43:27.488Z"
   },
   {
    "duration": 18,
    "start_time": "2022-05-25T14:43:27.510Z"
   },
   {
    "duration": 16,
    "start_time": "2022-05-25T14:43:27.530Z"
   },
   {
    "duration": 54,
    "start_time": "2022-05-25T14:43:27.548Z"
   },
   {
    "duration": 11,
    "start_time": "2022-05-25T14:43:27.603Z"
   },
   {
    "duration": 10,
    "start_time": "2022-05-25T14:43:27.615Z"
   },
   {
    "duration": 10,
    "start_time": "2022-05-25T14:43:27.626Z"
   },
   {
    "duration": 38,
    "start_time": "2022-05-25T14:43:27.638Z"
   },
   {
    "duration": 15,
    "start_time": "2022-05-25T14:43:27.679Z"
   },
   {
    "duration": 8,
    "start_time": "2022-05-25T14:43:27.696Z"
   },
   {
    "duration": 13,
    "start_time": "2022-05-25T14:43:27.705Z"
   },
   {
    "duration": 10,
    "start_time": "2022-05-25T14:43:27.720Z"
   },
   {
    "duration": 6,
    "start_time": "2022-05-25T14:43:27.732Z"
   },
   {
    "duration": 7,
    "start_time": "2022-05-25T14:43:27.774Z"
   },
   {
    "duration": 25,
    "start_time": "2022-05-25T14:43:27.784Z"
   },
   {
    "duration": 5,
    "start_time": "2022-05-25T14:43:27.811Z"
   },
   {
    "duration": 19,
    "start_time": "2022-05-25T14:43:27.817Z"
   },
   {
    "duration": 6,
    "start_time": "2022-05-25T14:43:27.837Z"
   },
   {
    "duration": 5,
    "start_time": "2022-05-25T14:43:27.876Z"
   },
   {
    "duration": 3,
    "start_time": "2022-05-25T14:43:38.333Z"
   },
   {
    "duration": 11,
    "start_time": "2022-05-25T14:43:44.821Z"
   },
   {
    "duration": 19,
    "start_time": "2022-05-25T14:43:49.094Z"
   },
   {
    "duration": 5,
    "start_time": "2022-05-25T14:44:07.063Z"
   },
   {
    "duration": 4,
    "start_time": "2022-05-25T14:44:10.361Z"
   },
   {
    "duration": 2,
    "start_time": "2022-05-25T14:44:11.159Z"
   },
   {
    "duration": 9,
    "start_time": "2022-05-25T14:44:12.352Z"
   },
   {
    "duration": 587,
    "start_time": "2022-05-25T14:44:13.663Z"
   },
   {
    "duration": 3,
    "start_time": "2022-05-25T14:44:29.302Z"
   },
   {
    "duration": 15,
    "start_time": "2022-05-25T14:44:31.325Z"
   },
   {
    "duration": 73,
    "start_time": "2022-05-25T14:46:13.366Z"
   },
   {
    "duration": 656,
    "start_time": "2022-05-27T08:30:09.654Z"
   },
   {
    "duration": 14,
    "start_time": "2022-05-27T08:30:10.312Z"
   },
   {
    "duration": 30,
    "start_time": "2022-05-27T08:30:10.327Z"
   },
   {
    "duration": 9,
    "start_time": "2022-05-27T08:30:10.359Z"
   },
   {
    "duration": 25,
    "start_time": "2022-05-27T08:30:10.369Z"
   },
   {
    "duration": 29,
    "start_time": "2022-05-27T08:30:10.396Z"
   },
   {
    "duration": 9,
    "start_time": "2022-05-27T08:30:10.426Z"
   },
   {
    "duration": 21,
    "start_time": "2022-05-27T08:30:10.437Z"
   },
   {
    "duration": 9,
    "start_time": "2022-05-27T08:30:10.460Z"
   },
   {
    "duration": 24,
    "start_time": "2022-05-27T08:30:10.471Z"
   },
   {
    "duration": 10,
    "start_time": "2022-05-27T08:30:10.496Z"
   },
   {
    "duration": 14,
    "start_time": "2022-05-27T08:30:10.508Z"
   },
   {
    "duration": 17,
    "start_time": "2022-05-27T08:30:10.523Z"
   },
   {
    "duration": 6,
    "start_time": "2022-05-27T08:30:32.809Z"
   },
   {
    "duration": 6,
    "start_time": "2022-05-27T08:30:36.475Z"
   },
   {
    "duration": 4,
    "start_time": "2022-05-27T08:30:55.606Z"
   },
   {
    "duration": 6,
    "start_time": "2022-05-27T08:41:58.922Z"
   },
   {
    "duration": 6,
    "start_time": "2022-05-27T08:42:29.557Z"
   },
   {
    "duration": 6,
    "start_time": "2022-05-27T08:42:33.818Z"
   },
   {
    "duration": 6,
    "start_time": "2022-05-27T08:42:52.702Z"
   },
   {
    "duration": 6,
    "start_time": "2022-05-27T08:43:02.974Z"
   },
   {
    "duration": 5,
    "start_time": "2022-05-27T08:43:25.414Z"
   },
   {
    "duration": 10,
    "start_time": "2022-05-27T08:54:18.103Z"
   },
   {
    "duration": 10,
    "start_time": "2022-05-27T08:54:32.199Z"
   },
   {
    "duration": 10,
    "start_time": "2022-05-27T08:54:36.887Z"
   },
   {
    "duration": 11,
    "start_time": "2022-05-27T08:54:51.383Z"
   },
   {
    "duration": 5,
    "start_time": "2022-05-27T08:56:04.807Z"
   },
   {
    "duration": 3,
    "start_time": "2022-05-30T11:11:21.835Z"
   },
   {
    "duration": 14,
    "start_time": "2022-05-30T11:11:25.150Z"
   },
   {
    "duration": 4,
    "start_time": "2022-05-30T11:11:47.518Z"
   },
   {
    "duration": 10,
    "start_time": "2022-05-30T11:11:49.419Z"
   },
   {
    "duration": 11,
    "start_time": "2022-05-30T11:11:57.115Z"
   },
   {
    "duration": 3,
    "start_time": "2022-05-30T11:12:03.702Z"
   },
   {
    "duration": 3,
    "start_time": "2022-05-30T11:12:32.901Z"
   },
   {
    "duration": 11,
    "start_time": "2022-05-30T11:12:39.186Z"
   },
   {
    "duration": 6,
    "start_time": "2022-05-30T11:13:48.169Z"
   },
   {
    "duration": 94,
    "start_time": "2022-05-30T11:13:49.681Z"
   },
   {
    "duration": 4,
    "start_time": "2022-05-30T11:14:35.842Z"
   },
   {
    "duration": 25,
    "start_time": "2022-05-30T11:14:38.022Z"
   },
   {
    "duration": 4,
    "start_time": "2022-05-30T11:14:46.845Z"
   },
   {
    "duration": 20,
    "start_time": "2022-05-30T11:14:48.326Z"
   },
   {
    "duration": 4,
    "start_time": "2022-05-30T11:15:18.442Z"
   },
   {
    "duration": 15,
    "start_time": "2022-05-30T11:15:19.881Z"
   },
   {
    "duration": 3,
    "start_time": "2022-05-30T11:17:49.978Z"
   },
   {
    "duration": 37,
    "start_time": "2022-05-30T11:17:51.589Z"
   },
   {
    "duration": 4,
    "start_time": "2022-05-30T11:18:10.105Z"
   },
   {
    "duration": 33,
    "start_time": "2022-05-30T11:18:11.246Z"
   },
   {
    "duration": 50,
    "start_time": "2022-05-30T11:18:32.449Z"
   },
   {
    "duration": 28,
    "start_time": "2022-05-30T11:18:32.623Z"
   },
   {
    "duration": 3,
    "start_time": "2022-05-30T11:18:37.693Z"
   },
   {
    "duration": 31,
    "start_time": "2022-05-30T11:18:38.146Z"
   },
   {
    "duration": 5,
    "start_time": "2022-05-30T11:18:47.102Z"
   },
   {
    "duration": 5,
    "start_time": "2022-05-30T11:18:47.893Z"
   },
   {
    "duration": 46,
    "start_time": "2022-05-30T11:18:48.223Z"
   },
   {
    "duration": 40,
    "start_time": "2022-05-30T11:19:08.054Z"
   },
   {
    "duration": 36,
    "start_time": "2022-05-30T11:19:55.197Z"
   },
   {
    "duration": 3,
    "start_time": "2022-05-30T11:20:15.908Z"
   },
   {
    "duration": 5,
    "start_time": "2022-05-30T11:20:18.365Z"
   },
   {
    "duration": 27,
    "start_time": "2022-05-30T11:20:19.294Z"
   },
   {
    "duration": 4,
    "start_time": "2022-05-30T11:20:46.041Z"
   },
   {
    "duration": 29,
    "start_time": "2022-05-30T11:20:46.518Z"
   },
   {
    "duration": 3,
    "start_time": "2022-05-30T11:21:34.822Z"
   },
   {
    "duration": 45,
    "start_time": "2022-05-30T11:21:35.241Z"
   },
   {
    "duration": 25,
    "start_time": "2022-05-30T11:25:51.769Z"
   },
   {
    "duration": 36,
    "start_time": "2022-05-30T11:26:03.144Z"
   },
   {
    "duration": 24,
    "start_time": "2022-05-30T11:26:44.426Z"
   },
   {
    "duration": 29,
    "start_time": "2022-05-30T11:28:24.503Z"
   },
   {
    "duration": 43,
    "start_time": "2022-05-30T11:28:35.773Z"
   },
   {
    "duration": 26,
    "start_time": "2022-05-30T11:30:41.664Z"
   },
   {
    "duration": 29,
    "start_time": "2022-05-30T11:32:23.380Z"
   },
   {
    "duration": 25,
    "start_time": "2022-05-30T11:34:28.664Z"
   },
   {
    "duration": 3,
    "start_time": "2022-05-30T11:35:49.505Z"
   },
   {
    "duration": 6,
    "start_time": "2022-05-30T11:35:55.175Z"
   },
   {
    "duration": 6,
    "start_time": "2022-05-30T11:36:15.000Z"
   },
   {
    "duration": 72,
    "start_time": "2022-05-30T11:36:20.301Z"
   },
   {
    "duration": 14,
    "start_time": "2022-05-30T11:36:20.375Z"
   },
   {
    "duration": 13,
    "start_time": "2022-05-30T11:36:20.390Z"
   },
   {
    "duration": 7,
    "start_time": "2022-05-30T11:36:20.404Z"
   },
   {
    "duration": 15,
    "start_time": "2022-05-30T11:36:20.413Z"
   },
   {
    "duration": 24,
    "start_time": "2022-05-30T11:36:20.452Z"
   },
   {
    "duration": 12,
    "start_time": "2022-05-30T11:36:20.477Z"
   },
   {
    "duration": 16,
    "start_time": "2022-05-30T11:36:20.491Z"
   },
   {
    "duration": 7,
    "start_time": "2022-05-30T11:36:20.510Z"
   },
   {
    "duration": 36,
    "start_time": "2022-05-30T11:36:20.519Z"
   },
   {
    "duration": 12,
    "start_time": "2022-05-30T11:36:20.557Z"
   },
   {
    "duration": 27,
    "start_time": "2022-05-30T11:36:20.572Z"
   },
   {
    "duration": 14,
    "start_time": "2022-05-30T11:36:20.601Z"
   },
   {
    "duration": 7,
    "start_time": "2022-05-30T11:36:20.617Z"
   },
   {
    "duration": 24,
    "start_time": "2022-05-30T11:36:20.625Z"
   },
   {
    "duration": 26,
    "start_time": "2022-05-30T11:36:20.651Z"
   },
   {
    "duration": 17,
    "start_time": "2022-05-30T11:36:20.678Z"
   },
   {
    "duration": 18,
    "start_time": "2022-05-30T11:36:20.696Z"
   },
   {
    "duration": 23,
    "start_time": "2022-05-30T11:36:20.715Z"
   },
   {
    "duration": 29,
    "start_time": "2022-05-30T11:36:20.739Z"
   },
   {
    "duration": 26,
    "start_time": "2022-05-30T11:36:20.769Z"
   },
   {
    "duration": 25,
    "start_time": "2022-05-30T11:36:20.797Z"
   },
   {
    "duration": 41,
    "start_time": "2022-05-30T11:36:20.823Z"
   },
   {
    "duration": 17,
    "start_time": "2022-05-30T11:36:20.866Z"
   },
   {
    "duration": 28,
    "start_time": "2022-05-30T11:36:20.885Z"
   },
   {
    "duration": 7,
    "start_time": "2022-05-30T11:36:20.915Z"
   },
   {
    "duration": 10,
    "start_time": "2022-05-30T11:36:20.923Z"
   },
   {
    "duration": 31,
    "start_time": "2022-05-30T11:36:20.934Z"
   },
   {
    "duration": 5,
    "start_time": "2022-05-30T11:36:20.967Z"
   },
   {
    "duration": 18,
    "start_time": "2022-05-30T11:36:20.974Z"
   },
   {
    "duration": 10,
    "start_time": "2022-05-30T11:36:20.994Z"
   },
   {
    "duration": 8,
    "start_time": "2022-05-30T11:36:21.005Z"
   },
   {
    "duration": 8,
    "start_time": "2022-05-30T11:36:21.014Z"
   },
   {
    "duration": 45,
    "start_time": "2022-05-30T11:36:21.024Z"
   },
   {
    "duration": 13,
    "start_time": "2022-05-30T11:36:21.070Z"
   },
   {
    "duration": 26,
    "start_time": "2022-05-30T11:36:21.084Z"
   },
   {
    "duration": 6,
    "start_time": "2022-05-30T11:36:21.112Z"
   },
   {
    "duration": 7,
    "start_time": "2022-05-30T11:36:21.119Z"
   },
   {
    "duration": 24,
    "start_time": "2022-05-30T11:36:23.469Z"
   },
   {
    "duration": 5,
    "start_time": "2022-05-30T11:36:24.777Z"
   },
   {
    "duration": 70,
    "start_time": "2022-05-30T11:43:28.362Z"
   },
   {
    "duration": 14,
    "start_time": "2022-05-30T11:43:28.434Z"
   },
   {
    "duration": 12,
    "start_time": "2022-05-30T11:43:28.450Z"
   },
   {
    "duration": 7,
    "start_time": "2022-05-30T11:43:28.464Z"
   },
   {
    "duration": 16,
    "start_time": "2022-05-30T11:43:28.473Z"
   },
   {
    "duration": 22,
    "start_time": "2022-05-30T11:43:28.490Z"
   },
   {
    "duration": 10,
    "start_time": "2022-05-30T11:43:28.513Z"
   },
   {
    "duration": 10,
    "start_time": "2022-05-30T11:43:28.552Z"
   },
   {
    "duration": 6,
    "start_time": "2022-05-30T11:43:28.564Z"
   },
   {
    "duration": 11,
    "start_time": "2022-05-30T11:43:28.572Z"
   },
   {
    "duration": 6,
    "start_time": "2022-05-30T11:43:28.584Z"
   },
   {
    "duration": 5,
    "start_time": "2022-05-30T11:43:28.592Z"
   },
   {
    "duration": 7,
    "start_time": "2022-05-30T11:43:28.599Z"
   },
   {
    "duration": 5,
    "start_time": "2022-05-30T11:43:28.654Z"
   },
   {
    "duration": 18,
    "start_time": "2022-05-30T11:43:28.660Z"
   },
   {
    "duration": 6,
    "start_time": "2022-05-30T11:43:28.680Z"
   },
   {
    "duration": 7,
    "start_time": "2022-05-30T11:43:28.687Z"
   },
   {
    "duration": 7,
    "start_time": "2022-05-30T11:43:28.695Z"
   },
   {
    "duration": 8,
    "start_time": "2022-05-30T11:43:28.703Z"
   },
   {
    "duration": 46,
    "start_time": "2022-05-30T11:43:28.713Z"
   },
   {
    "duration": 14,
    "start_time": "2022-05-30T11:43:28.760Z"
   },
   {
    "duration": 16,
    "start_time": "2022-05-30T11:43:28.775Z"
   },
   {
    "duration": 30,
    "start_time": "2022-05-30T11:43:28.793Z"
   },
   {
    "duration": 37,
    "start_time": "2022-05-30T11:43:28.824Z"
   },
   {
    "duration": 11,
    "start_time": "2022-05-30T11:43:28.862Z"
   },
   {
    "duration": 10,
    "start_time": "2022-05-30T11:43:28.875Z"
   },
   {
    "duration": 8,
    "start_time": "2022-05-30T11:43:28.887Z"
   },
   {
    "duration": 21,
    "start_time": "2022-05-30T11:43:28.896Z"
   },
   {
    "duration": 9,
    "start_time": "2022-05-30T11:43:28.919Z"
   },
   {
    "duration": 31,
    "start_time": "2022-05-30T11:43:28.930Z"
   },
   {
    "duration": 10,
    "start_time": "2022-05-30T11:43:28.963Z"
   },
   {
    "duration": 6,
    "start_time": "2022-05-30T11:43:28.975Z"
   },
   {
    "duration": 7,
    "start_time": "2022-05-30T11:43:28.983Z"
   },
   {
    "duration": 16,
    "start_time": "2022-05-30T11:43:28.992Z"
   },
   {
    "duration": 5,
    "start_time": "2022-05-30T11:43:29.010Z"
   },
   {
    "duration": 49,
    "start_time": "2022-05-30T11:43:29.017Z"
   },
   {
    "duration": 7,
    "start_time": "2022-05-30T11:43:29.068Z"
   },
   {
    "duration": 19,
    "start_time": "2022-05-30T11:44:42.057Z"
   },
   {
    "duration": 10,
    "start_time": "2022-05-30T11:44:57.606Z"
   },
   {
    "duration": 8,
    "start_time": "2022-05-30T11:45:14.576Z"
   },
   {
    "duration": 10,
    "start_time": "2022-05-30T11:45:25.976Z"
   },
   {
    "duration": 3,
    "start_time": "2022-05-30T11:46:00.771Z"
   },
   {
    "duration": 8,
    "start_time": "2022-05-30T11:46:07.022Z"
   },
   {
    "duration": 68,
    "start_time": "2022-05-30T11:46:29.669Z"
   },
   {
    "duration": 14,
    "start_time": "2022-05-30T11:46:29.739Z"
   },
   {
    "duration": 15,
    "start_time": "2022-05-30T11:46:29.755Z"
   },
   {
    "duration": 16,
    "start_time": "2022-05-30T11:46:29.772Z"
   },
   {
    "duration": 10,
    "start_time": "2022-05-30T11:46:29.790Z"
   },
   {
    "duration": 23,
    "start_time": "2022-05-30T11:46:29.802Z"
   },
   {
    "duration": 30,
    "start_time": "2022-05-30T11:46:29.827Z"
   },
   {
    "duration": 16,
    "start_time": "2022-05-30T11:46:29.859Z"
   },
   {
    "duration": 6,
    "start_time": "2022-05-30T11:46:29.876Z"
   },
   {
    "duration": 10,
    "start_time": "2022-05-30T11:46:29.884Z"
   },
   {
    "duration": 6,
    "start_time": "2022-05-30T11:46:29.896Z"
   },
   {
    "duration": 7,
    "start_time": "2022-05-30T11:46:29.904Z"
   },
   {
    "duration": 40,
    "start_time": "2022-05-30T11:46:29.913Z"
   },
   {
    "duration": 5,
    "start_time": "2022-05-30T11:46:29.956Z"
   },
   {
    "duration": 22,
    "start_time": "2022-05-30T11:46:29.963Z"
   },
   {
    "duration": 9,
    "start_time": "2022-05-30T11:46:29.986Z"
   },
   {
    "duration": 11,
    "start_time": "2022-05-30T11:46:29.997Z"
   },
   {
    "duration": 11,
    "start_time": "2022-05-30T11:46:30.010Z"
   },
   {
    "duration": 10,
    "start_time": "2022-05-30T11:46:30.023Z"
   },
   {
    "duration": 19,
    "start_time": "2022-05-30T11:46:30.052Z"
   },
   {
    "duration": 27,
    "start_time": "2022-05-30T11:46:30.072Z"
   },
   {
    "duration": 18,
    "start_time": "2022-05-30T11:46:30.100Z"
   },
   {
    "duration": 58,
    "start_time": "2022-05-30T11:46:30.120Z"
   },
   {
    "duration": 14,
    "start_time": "2022-05-30T11:46:30.180Z"
   },
   {
    "duration": 73,
    "start_time": "2022-05-30T11:46:30.196Z"
   },
   {
    "duration": 19,
    "start_time": "2022-05-30T11:46:30.272Z"
   },
   {
    "duration": 20,
    "start_time": "2022-05-30T11:46:30.293Z"
   },
   {
    "duration": 35,
    "start_time": "2022-05-30T11:46:30.314Z"
   },
   {
    "duration": 5,
    "start_time": "2022-05-30T11:46:30.352Z"
   },
   {
    "duration": 19,
    "start_time": "2022-05-30T11:46:30.359Z"
   },
   {
    "duration": 15,
    "start_time": "2022-05-30T11:46:30.380Z"
   },
   {
    "duration": 11,
    "start_time": "2022-05-30T11:46:30.397Z"
   },
   {
    "duration": 18,
    "start_time": "2022-05-30T11:46:30.409Z"
   },
   {
    "duration": 41,
    "start_time": "2022-05-30T11:46:30.430Z"
   },
   {
    "duration": 7,
    "start_time": "2022-05-30T11:46:30.472Z"
   },
   {
    "duration": 47,
    "start_time": "2022-05-30T11:46:30.480Z"
   },
   {
    "duration": 7,
    "start_time": "2022-05-30T11:46:30.529Z"
   },
   {
    "duration": 31,
    "start_time": "2022-05-30T11:46:30.537Z"
   },
   {
    "duration": 10,
    "start_time": "2022-05-30T11:46:33.056Z"
   },
   {
    "duration": 8,
    "start_time": "2022-05-30T11:46:37.882Z"
   },
   {
    "duration": 25,
    "start_time": "2022-05-30T11:46:45.526Z"
   },
   {
    "duration": 23,
    "start_time": "2022-05-30T11:46:47.400Z"
   },
   {
    "duration": 8,
    "start_time": "2022-05-30T11:46:48.128Z"
   },
   {
    "duration": 11,
    "start_time": "2022-05-30T11:46:48.764Z"
   },
   {
    "duration": 8,
    "start_time": "2022-05-30T11:47:49.083Z"
   },
   {
    "duration": 7,
    "start_time": "2022-05-30T11:47:58.917Z"
   },
   {
    "duration": 4,
    "start_time": "2022-05-30T11:48:05.534Z"
   },
   {
    "duration": 8,
    "start_time": "2022-05-30T11:48:09.354Z"
   },
   {
    "duration": 72,
    "start_time": "2022-05-30T11:48:13.471Z"
   },
   {
    "duration": 14,
    "start_time": "2022-05-30T11:48:13.545Z"
   },
   {
    "duration": 12,
    "start_time": "2022-05-30T11:48:13.561Z"
   },
   {
    "duration": 6,
    "start_time": "2022-05-30T11:48:13.576Z"
   },
   {
    "duration": 12,
    "start_time": "2022-05-30T11:48:13.583Z"
   },
   {
    "duration": 32,
    "start_time": "2022-05-30T11:48:13.596Z"
   },
   {
    "duration": 31,
    "start_time": "2022-05-30T11:48:13.629Z"
   },
   {
    "duration": 14,
    "start_time": "2022-05-30T11:48:13.661Z"
   },
   {
    "duration": 7,
    "start_time": "2022-05-30T11:48:13.677Z"
   },
   {
    "duration": 13,
    "start_time": "2022-05-30T11:48:13.688Z"
   },
   {
    "duration": 7,
    "start_time": "2022-05-30T11:48:13.703Z"
   },
   {
    "duration": 7,
    "start_time": "2022-05-30T11:48:13.712Z"
   },
   {
    "duration": 8,
    "start_time": "2022-05-30T11:48:13.752Z"
   },
   {
    "duration": 8,
    "start_time": "2022-05-30T11:48:13.762Z"
   },
   {
    "duration": 10,
    "start_time": "2022-05-30T11:48:13.772Z"
   },
   {
    "duration": 6,
    "start_time": "2022-05-30T11:48:13.783Z"
   },
   {
    "duration": 7,
    "start_time": "2022-05-30T11:48:13.791Z"
   },
   {
    "duration": 8,
    "start_time": "2022-05-30T11:48:13.799Z"
   },
   {
    "duration": 44,
    "start_time": "2022-05-30T11:48:13.808Z"
   },
   {
    "duration": 14,
    "start_time": "2022-05-30T11:48:13.853Z"
   },
   {
    "duration": 14,
    "start_time": "2022-05-30T11:48:13.869Z"
   },
   {
    "duration": 18,
    "start_time": "2022-05-30T11:48:13.884Z"
   },
   {
    "duration": 67,
    "start_time": "2022-05-30T11:48:13.903Z"
   },
   {
    "duration": 12,
    "start_time": "2022-05-30T11:48:13.972Z"
   },
   {
    "duration": 11,
    "start_time": "2022-05-30T11:48:13.987Z"
   },
   {
    "duration": 7,
    "start_time": "2022-05-30T11:48:14.000Z"
   },
   {
    "duration": 9,
    "start_time": "2022-05-30T11:48:14.009Z"
   },
   {
    "duration": 18,
    "start_time": "2022-05-30T11:48:14.056Z"
   },
   {
    "duration": 7,
    "start_time": "2022-05-30T11:48:14.076Z"
   },
   {
    "duration": 11,
    "start_time": "2022-05-30T11:48:14.085Z"
   },
   {
    "duration": 11,
    "start_time": "2022-05-30T11:48:14.098Z"
   },
   {
    "duration": 13,
    "start_time": "2022-05-30T11:48:14.111Z"
   },
   {
    "duration": 33,
    "start_time": "2022-05-30T11:48:14.126Z"
   },
   {
    "duration": 17,
    "start_time": "2022-05-30T11:48:14.161Z"
   },
   {
    "duration": 6,
    "start_time": "2022-05-30T11:48:14.180Z"
   },
   {
    "duration": 20,
    "start_time": "2022-05-30T11:48:14.188Z"
   },
   {
    "duration": 43,
    "start_time": "2022-05-30T11:48:14.209Z"
   },
   {
    "duration": 19,
    "start_time": "2022-05-30T11:48:14.254Z"
   },
   {
    "duration": 7,
    "start_time": "2022-05-30T11:48:14.275Z"
   },
   {
    "duration": 9,
    "start_time": "2022-05-30T11:48:14.283Z"
   },
   {
    "duration": 7,
    "start_time": "2022-05-30T11:48:20.085Z"
   },
   {
    "duration": 67,
    "start_time": "2022-05-30T12:41:20.023Z"
   },
   {
    "duration": 14,
    "start_time": "2022-05-30T12:41:20.092Z"
   },
   {
    "duration": 40,
    "start_time": "2022-05-30T12:41:20.107Z"
   },
   {
    "duration": 10,
    "start_time": "2022-05-30T12:41:20.149Z"
   },
   {
    "duration": 27,
    "start_time": "2022-05-30T12:41:20.161Z"
   },
   {
    "duration": 30,
    "start_time": "2022-05-30T12:41:20.189Z"
   },
   {
    "duration": 10,
    "start_time": "2022-05-30T12:41:20.221Z"
   },
   {
    "duration": 22,
    "start_time": "2022-05-30T12:41:20.233Z"
   },
   {
    "duration": 6,
    "start_time": "2022-05-30T12:41:20.256Z"
   },
   {
    "duration": 10,
    "start_time": "2022-05-30T12:41:20.264Z"
   },
   {
    "duration": 15,
    "start_time": "2022-05-30T12:41:20.275Z"
   },
   {
    "duration": 9,
    "start_time": "2022-05-30T12:41:20.291Z"
   },
   {
    "duration": 9,
    "start_time": "2022-05-30T12:41:20.301Z"
   },
   {
    "duration": 8,
    "start_time": "2022-05-30T12:41:20.312Z"
   },
   {
    "duration": 34,
    "start_time": "2022-05-30T12:41:20.321Z"
   },
   {
    "duration": 6,
    "start_time": "2022-05-30T12:41:20.357Z"
   },
   {
    "duration": 10,
    "start_time": "2022-05-30T12:41:20.364Z"
   },
   {
    "duration": 6,
    "start_time": "2022-05-30T12:41:20.376Z"
   },
   {
    "duration": 11,
    "start_time": "2022-05-30T12:41:20.383Z"
   },
   {
    "duration": 17,
    "start_time": "2022-05-30T12:41:20.395Z"
   },
   {
    "duration": 13,
    "start_time": "2022-05-30T12:41:20.413Z"
   },
   {
    "duration": 34,
    "start_time": "2022-05-30T12:41:20.427Z"
   },
   {
    "duration": 33,
    "start_time": "2022-05-30T12:41:20.463Z"
   },
   {
    "duration": 11,
    "start_time": "2022-05-30T12:41:20.497Z"
   },
   {
    "duration": 43,
    "start_time": "2022-05-30T12:41:20.509Z"
   },
   {
    "duration": 6,
    "start_time": "2022-05-30T12:41:20.553Z"
   },
   {
    "duration": 18,
    "start_time": "2022-05-30T12:41:20.560Z"
   },
   {
    "duration": 18,
    "start_time": "2022-05-30T12:41:20.580Z"
   },
   {
    "duration": 4,
    "start_time": "2022-05-30T12:41:20.600Z"
   },
   {
    "duration": 10,
    "start_time": "2022-05-30T12:41:20.606Z"
   },
   {
    "duration": 26,
    "start_time": "2022-05-30T12:41:20.618Z"
   },
   {
    "duration": 11,
    "start_time": "2022-05-30T12:41:20.647Z"
   },
   {
    "duration": 7,
    "start_time": "2022-05-30T12:41:20.659Z"
   },
   {
    "duration": 24,
    "start_time": "2022-05-30T12:41:20.667Z"
   },
   {
    "duration": 5,
    "start_time": "2022-05-30T12:41:20.692Z"
   },
   {
    "duration": 24,
    "start_time": "2022-05-30T12:41:20.699Z"
   },
   {
    "duration": 34,
    "start_time": "2022-05-30T12:41:20.725Z"
   },
   {
    "duration": 27,
    "start_time": "2022-05-30T12:41:20.761Z"
   },
   {
    "duration": 19,
    "start_time": "2022-05-30T12:41:24.252Z"
   },
   {
    "duration": 10,
    "start_time": "2022-05-30T12:41:25.330Z"
   },
   {
    "duration": 9,
    "start_time": "2022-05-30T12:41:45.331Z"
   },
   {
    "duration": 8,
    "start_time": "2022-05-30T12:41:58.257Z"
   },
   {
    "duration": 6,
    "start_time": "2022-05-30T12:42:11.088Z"
   },
   {
    "duration": 9,
    "start_time": "2022-05-30T12:42:43.658Z"
   },
   {
    "duration": 29,
    "start_time": "2022-05-30T12:42:53.435Z"
   },
   {
    "duration": 29,
    "start_time": "2022-05-30T12:42:54.555Z"
   },
   {
    "duration": 10,
    "start_time": "2022-05-30T12:42:55.716Z"
   },
   {
    "duration": 19,
    "start_time": "2022-05-30T12:44:39.555Z"
   },
   {
    "duration": 8,
    "start_time": "2022-05-30T12:44:41.081Z"
   },
   {
    "duration": 9,
    "start_time": "2022-05-30T12:44:44.706Z"
   },
   {
    "duration": 9,
    "start_time": "2022-05-30T12:44:45.922Z"
   }
  ],
  "kernelspec": {
   "display_name": "Python 3 (ipykernel)",
   "language": "python",
   "name": "python3"
  },
  "language_info": {
   "codemirror_mode": {
    "name": "ipython",
    "version": 3
   },
   "file_extension": ".py",
   "mimetype": "text/x-python",
   "name": "python",
   "nbconvert_exporter": "python",
   "pygments_lexer": "ipython3",
   "version": "3.9.12"
  },
  "toc": {
   "base_numbering": 1,
   "nav_menu": {},
   "number_sections": true,
   "sideBar": true,
   "skip_h1_title": true,
   "title_cell": "Содержание",
   "title_sidebar": "Contents",
   "toc_cell": true,
   "toc_position": {
    "height": "calc(100% - 180px)",
    "left": "10px",
    "top": "150px",
    "width": "366.391px"
   },
   "toc_section_display": true,
   "toc_window_display": true
  },
  "varInspector": {
   "cols": {
    "lenName": "20",
    "lenType": "20",
    "lenVar": 40
   },
   "kernels_config": {
    "python": {
     "delete_cmd_postfix": "",
     "delete_cmd_prefix": "del ",
     "library": "var_list.py",
     "varRefreshCmd": "print(var_dic_list())"
    },
    "r": {
     "delete_cmd_postfix": ") ",
     "delete_cmd_prefix": "rm(",
     "library": "var_list.r",
     "varRefreshCmd": "cat(var_dic_list()) "
    }
   },
   "types_to_exclude": [
    "module",
    "function",
    "builtin_function_or_method",
    "instance",
    "_Feature"
   ],
   "window_display": true
  }
 },
 "nbformat": 4,
 "nbformat_minor": 5
}
